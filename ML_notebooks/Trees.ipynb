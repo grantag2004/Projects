<!DOCTYPE html>
<html>
<head><meta charset="utf-8" />
<meta name="viewport" content="width=device-width, initial-scale=1.0">

<title>Notebook</title><script src="https://cdnjs.cloudflare.com/ajax/libs/require.js/2.1.10/require.min.js"></script>




<style type="text/css">
    pre { line-height: 125%; }
td.linenos .normal { color: inherit; background-color: transparent; padding-left: 5px; padding-right: 5px; }
span.linenos { color: inherit; background-color: transparent; padding-left: 5px; padding-right: 5px; }
td.linenos .special { color: #000000; background-color: #ffffc0; padding-left: 5px; padding-right: 5px; }
span.linenos.special { color: #000000; background-color: #ffffc0; padding-left: 5px; padding-right: 5px; }
.highlight .hll { background-color: var(--jp-cell-editor-active-background) }
.highlight { background: var(--jp-cell-editor-background); color: var(--jp-mirror-editor-variable-color) }
.highlight .c { color: var(--jp-mirror-editor-comment-color); font-style: italic } /* Comment */
.highlight .err { color: var(--jp-mirror-editor-error-color) } /* Error */
.highlight .k { color: var(--jp-mirror-editor-keyword-color); font-weight: bold } /* Keyword */
.highlight .o { color: var(--jp-mirror-editor-operator-color); font-weight: bold } /* Operator */
.highlight .p { color: var(--jp-mirror-editor-punctuation-color) } /* Punctuation */
.highlight .ch { color: var(--jp-mirror-editor-comment-color); font-style: italic } /* Comment.Hashbang */
.highlight .cm { color: var(--jp-mirror-editor-comment-color); font-style: italic } /* Comment.Multiline */
.highlight .cp { color: var(--jp-mirror-editor-comment-color); font-style: italic } /* Comment.Preproc */
.highlight .cpf { color: var(--jp-mirror-editor-comment-color); font-style: italic } /* Comment.PreprocFile */
.highlight .c1 { color: var(--jp-mirror-editor-comment-color); font-style: italic } /* Comment.Single */
.highlight .cs { color: var(--jp-mirror-editor-comment-color); font-style: italic } /* Comment.Special */
.highlight .kc { color: var(--jp-mirror-editor-keyword-color); font-weight: bold } /* Keyword.Constant */
.highlight .kd { color: var(--jp-mirror-editor-keyword-color); font-weight: bold } /* Keyword.Declaration */
.highlight .kn { color: var(--jp-mirror-editor-keyword-color); font-weight: bold } /* Keyword.Namespace */
.highlight .kp { color: var(--jp-mirror-editor-keyword-color); font-weight: bold } /* Keyword.Pseudo */
.highlight .kr { color: var(--jp-mirror-editor-keyword-color); font-weight: bold } /* Keyword.Reserved */
.highlight .kt { color: var(--jp-mirror-editor-keyword-color); font-weight: bold } /* Keyword.Type */
.highlight .m { color: var(--jp-mirror-editor-number-color) } /* Literal.Number */
.highlight .s { color: var(--jp-mirror-editor-string-color) } /* Literal.String */
.highlight .ow { color: var(--jp-mirror-editor-operator-color); font-weight: bold } /* Operator.Word */
.highlight .w { color: var(--jp-mirror-editor-variable-color) } /* Text.Whitespace */
.highlight .mb { color: var(--jp-mirror-editor-number-color) } /* Literal.Number.Bin */
.highlight .mf { color: var(--jp-mirror-editor-number-color) } /* Literal.Number.Float */
.highlight .mh { color: var(--jp-mirror-editor-number-color) } /* Literal.Number.Hex */
.highlight .mi { color: var(--jp-mirror-editor-number-color) } /* Literal.Number.Integer */
.highlight .mo { color: var(--jp-mirror-editor-number-color) } /* Literal.Number.Oct */
.highlight .sa { color: var(--jp-mirror-editor-string-color) } /* Literal.String.Affix */
.highlight .sb { color: var(--jp-mirror-editor-string-color) } /* Literal.String.Backtick */
.highlight .sc { color: var(--jp-mirror-editor-string-color) } /* Literal.String.Char */
.highlight .dl { color: var(--jp-mirror-editor-string-color) } /* Literal.String.Delimiter */
.highlight .sd { color: var(--jp-mirror-editor-string-color) } /* Literal.String.Doc */
.highlight .s2 { color: var(--jp-mirror-editor-string-color) } /* Literal.String.Double */
.highlight .se { color: var(--jp-mirror-editor-string-color) } /* Literal.String.Escape */
.highlight .sh { color: var(--jp-mirror-editor-string-color) } /* Literal.String.Heredoc */
.highlight .si { color: var(--jp-mirror-editor-string-color) } /* Literal.String.Interpol */
.highlight .sx { color: var(--jp-mirror-editor-string-color) } /* Literal.String.Other */
.highlight .sr { color: var(--jp-mirror-editor-string-color) } /* Literal.String.Regex */
.highlight .s1 { color: var(--jp-mirror-editor-string-color) } /* Literal.String.Single */
.highlight .ss { color: var(--jp-mirror-editor-string-color) } /* Literal.String.Symbol */
.highlight .il { color: var(--jp-mirror-editor-number-color) } /* Literal.Number.Integer.Long */
  </style>



<style type="text/css">
/*-----------------------------------------------------------------------------
| Copyright (c) Jupyter Development Team.
| Distributed under the terms of the Modified BSD License.
|----------------------------------------------------------------------------*/

/*
 * Mozilla scrollbar styling
 */

/* use standard opaque scrollbars for most nodes */
[data-jp-theme-scrollbars='true'] {
  scrollbar-color: rgb(var(--jp-scrollbar-thumb-color))
    var(--jp-scrollbar-background-color);
}

/* for code nodes, use a transparent style of scrollbar. These selectors
 * will match lower in the tree, and so will override the above */
[data-jp-theme-scrollbars='true'] .CodeMirror-hscrollbar,
[data-jp-theme-scrollbars='true'] .CodeMirror-vscrollbar {
  scrollbar-color: rgba(var(--jp-scrollbar-thumb-color), 0.5) transparent;
}

/* tiny scrollbar */

.jp-scrollbar-tiny {
  scrollbar-color: rgba(var(--jp-scrollbar-thumb-color), 0.5) transparent;
  scrollbar-width: thin;
}

/*
 * Webkit scrollbar styling
 */

/* use standard opaque scrollbars for most nodes */

[data-jp-theme-scrollbars='true'] ::-webkit-scrollbar,
[data-jp-theme-scrollbars='true'] ::-webkit-scrollbar-corner {
  background: var(--jp-scrollbar-background-color);
}

[data-jp-theme-scrollbars='true'] ::-webkit-scrollbar-thumb {
  background: rgb(var(--jp-scrollbar-thumb-color));
  border: var(--jp-scrollbar-thumb-margin) solid transparent;
  background-clip: content-box;
  border-radius: var(--jp-scrollbar-thumb-radius);
}

[data-jp-theme-scrollbars='true'] ::-webkit-scrollbar-track:horizontal {
  border-left: var(--jp-scrollbar-endpad) solid
    var(--jp-scrollbar-background-color);
  border-right: var(--jp-scrollbar-endpad) solid
    var(--jp-scrollbar-background-color);
}

[data-jp-theme-scrollbars='true'] ::-webkit-scrollbar-track:vertical {
  border-top: var(--jp-scrollbar-endpad) solid
    var(--jp-scrollbar-background-color);
  border-bottom: var(--jp-scrollbar-endpad) solid
    var(--jp-scrollbar-background-color);
}

/* for code nodes, use a transparent style of scrollbar */

[data-jp-theme-scrollbars='true'] .CodeMirror-hscrollbar::-webkit-scrollbar,
[data-jp-theme-scrollbars='true'] .CodeMirror-vscrollbar::-webkit-scrollbar,
[data-jp-theme-scrollbars='true']
  .CodeMirror-hscrollbar::-webkit-scrollbar-corner,
[data-jp-theme-scrollbars='true']
  .CodeMirror-vscrollbar::-webkit-scrollbar-corner {
  background-color: transparent;
}

[data-jp-theme-scrollbars='true']
  .CodeMirror-hscrollbar::-webkit-scrollbar-thumb,
[data-jp-theme-scrollbars='true']
  .CodeMirror-vscrollbar::-webkit-scrollbar-thumb {
  background: rgba(var(--jp-scrollbar-thumb-color), 0.5);
  border: var(--jp-scrollbar-thumb-margin) solid transparent;
  background-clip: content-box;
  border-radius: var(--jp-scrollbar-thumb-radius);
}

[data-jp-theme-scrollbars='true']
  .CodeMirror-hscrollbar::-webkit-scrollbar-track:horizontal {
  border-left: var(--jp-scrollbar-endpad) solid transparent;
  border-right: var(--jp-scrollbar-endpad) solid transparent;
}

[data-jp-theme-scrollbars='true']
  .CodeMirror-vscrollbar::-webkit-scrollbar-track:vertical {
  border-top: var(--jp-scrollbar-endpad) solid transparent;
  border-bottom: var(--jp-scrollbar-endpad) solid transparent;
}

/* tiny scrollbar */

.jp-scrollbar-tiny::-webkit-scrollbar,
.jp-scrollbar-tiny::-webkit-scrollbar-corner {
  background-color: transparent;
  height: 4px;
  width: 4px;
}

.jp-scrollbar-tiny::-webkit-scrollbar-thumb {
  background: rgba(var(--jp-scrollbar-thumb-color), 0.5);
}

.jp-scrollbar-tiny::-webkit-scrollbar-track:horizontal {
  border-left: 0px solid transparent;
  border-right: 0px solid transparent;
}

.jp-scrollbar-tiny::-webkit-scrollbar-track:vertical {
  border-top: 0px solid transparent;
  border-bottom: 0px solid transparent;
}

/*
 * Phosphor
 */

.lm-ScrollBar[data-orientation='horizontal'] {
  min-height: 16px;
  max-height: 16px;
  min-width: 45px;
  border-top: 1px solid #a0a0a0;
}

.lm-ScrollBar[data-orientation='vertical'] {
  min-width: 16px;
  max-width: 16px;
  min-height: 45px;
  border-left: 1px solid #a0a0a0;
}

.lm-ScrollBar-button {
  background-color: #f0f0f0;
  background-position: center center;
  min-height: 15px;
  max-height: 15px;
  min-width: 15px;
  max-width: 15px;
}

.lm-ScrollBar-button:hover {
  background-color: #dadada;
}

.lm-ScrollBar-button.lm-mod-active {
  background-color: #cdcdcd;
}

.lm-ScrollBar-track {
  background: #f0f0f0;
}

.lm-ScrollBar-thumb {
  background: #cdcdcd;
}

.lm-ScrollBar-thumb:hover {
  background: #bababa;
}

.lm-ScrollBar-thumb.lm-mod-active {
  background: #a0a0a0;
}

.lm-ScrollBar[data-orientation='horizontal'] .lm-ScrollBar-thumb {
  height: 100%;
  min-width: 15px;
  border-left: 1px solid #a0a0a0;
  border-right: 1px solid #a0a0a0;
}

.lm-ScrollBar[data-orientation='vertical'] .lm-ScrollBar-thumb {
  width: 100%;
  min-height: 15px;
  border-top: 1px solid #a0a0a0;
  border-bottom: 1px solid #a0a0a0;
}

.lm-ScrollBar[data-orientation='horizontal']
  .lm-ScrollBar-button[data-action='decrement'] {
  background-image: var(--jp-icon-caret-left);
  background-size: 17px;
}

.lm-ScrollBar[data-orientation='horizontal']
  .lm-ScrollBar-button[data-action='increment'] {
  background-image: var(--jp-icon-caret-right);
  background-size: 17px;
}

.lm-ScrollBar[data-orientation='vertical']
  .lm-ScrollBar-button[data-action='decrement'] {
  background-image: var(--jp-icon-caret-up);
  background-size: 17px;
}

.lm-ScrollBar[data-orientation='vertical']
  .lm-ScrollBar-button[data-action='increment'] {
  background-image: var(--jp-icon-caret-down);
  background-size: 17px;
}

/*-----------------------------------------------------------------------------
| Copyright (c) Jupyter Development Team.
| Copyright (c) 2014-2017, PhosphorJS Contributors
|
| Distributed under the terms of the BSD 3-Clause License.
|
| The full license is in the file LICENSE, distributed with this software.
|----------------------------------------------------------------------------*/


/* <DEPRECATED> */ .p-Widget, /* </DEPRECATED> */
.lm-Widget {
  box-sizing: border-box;
  position: relative;
  overflow: hidden;
  cursor: default;
}


/* <DEPRECATED> */ .p-Widget.p-mod-hidden, /* </DEPRECATED> */
.lm-Widget.lm-mod-hidden {
  display: none !important;
}

/*-----------------------------------------------------------------------------
| Copyright (c) Jupyter Development Team.
| Copyright (c) 2014-2017, PhosphorJS Contributors
|
| Distributed under the terms of the BSD 3-Clause License.
|
| The full license is in the file LICENSE, distributed with this software.
|----------------------------------------------------------------------------*/


/* <DEPRECATED> */ .p-CommandPalette, /* </DEPRECATED> */
.lm-CommandPalette {
  display: flex;
  flex-direction: column;
  -webkit-user-select: none;
  -moz-user-select: none;
  -ms-user-select: none;
  user-select: none;
}


/* <DEPRECATED> */ .p-CommandPalette-search, /* </DEPRECATED> */
.lm-CommandPalette-search {
  flex: 0 0 auto;
}


/* <DEPRECATED> */ .p-CommandPalette-content, /* </DEPRECATED> */
.lm-CommandPalette-content {
  flex: 1 1 auto;
  margin: 0;
  padding: 0;
  min-height: 0;
  overflow: auto;
  list-style-type: none;
}


/* <DEPRECATED> */ .p-CommandPalette-header, /* </DEPRECATED> */
.lm-CommandPalette-header {
  overflow: hidden;
  white-space: nowrap;
  text-overflow: ellipsis;
}


/* <DEPRECATED> */ .p-CommandPalette-item, /* </DEPRECATED> */
.lm-CommandPalette-item {
  display: flex;
  flex-direction: row;
}


/* <DEPRECATED> */ .p-CommandPalette-itemIcon, /* </DEPRECATED> */
.lm-CommandPalette-itemIcon {
  flex: 0 0 auto;
}


/* <DEPRECATED> */ .p-CommandPalette-itemContent, /* </DEPRECATED> */
.lm-CommandPalette-itemContent {
  flex: 1 1 auto;
  overflow: hidden;
}


/* <DEPRECATED> */ .p-CommandPalette-itemShortcut, /* </DEPRECATED> */
.lm-CommandPalette-itemShortcut {
  flex: 0 0 auto;
}


/* <DEPRECATED> */ .p-CommandPalette-itemLabel, /* </DEPRECATED> */
.lm-CommandPalette-itemLabel {
  overflow: hidden;
  white-space: nowrap;
  text-overflow: ellipsis;
}

.lm-close-icon {
	border:1px solid transparent;
  background-color: transparent;
  position: absolute;
	z-index:1;
	right:3%;
	top: 0;
	bottom: 0;
	margin: auto;
	padding: 7px 0;
	display: none;
	vertical-align: middle;
  outline: 0;
  cursor: pointer;
}
.lm-close-icon:after {
	content: "X";
	display: block;
	width: 15px;
	height: 15px;
	text-align: center;
	color:#000;
	font-weight: normal;
	font-size: 12px;
	cursor: pointer;
}

/*-----------------------------------------------------------------------------
| Copyright (c) Jupyter Development Team.
| Copyright (c) 2014-2017, PhosphorJS Contributors
|
| Distributed under the terms of the BSD 3-Clause License.
|
| The full license is in the file LICENSE, distributed with this software.
|----------------------------------------------------------------------------*/


/* <DEPRECATED> */ .p-DockPanel, /* </DEPRECATED> */
.lm-DockPanel {
  z-index: 0;
}


/* <DEPRECATED> */ .p-DockPanel-widget, /* </DEPRECATED> */
.lm-DockPanel-widget {
  z-index: 0;
}


/* <DEPRECATED> */ .p-DockPanel-tabBar, /* </DEPRECATED> */
.lm-DockPanel-tabBar {
  z-index: 1;
}


/* <DEPRECATED> */ .p-DockPanel-handle, /* </DEPRECATED> */
.lm-DockPanel-handle {
  z-index: 2;
}


/* <DEPRECATED> */ .p-DockPanel-handle.p-mod-hidden, /* </DEPRECATED> */
.lm-DockPanel-handle.lm-mod-hidden {
  display: none !important;
}


/* <DEPRECATED> */ .p-DockPanel-handle:after, /* </DEPRECATED> */
.lm-DockPanel-handle:after {
  position: absolute;
  top: 0;
  left: 0;
  width: 100%;
  height: 100%;
  content: '';
}


/* <DEPRECATED> */
.p-DockPanel-handle[data-orientation='horizontal'],
/* </DEPRECATED> */
.lm-DockPanel-handle[data-orientation='horizontal'] {
  cursor: ew-resize;
}


/* <DEPRECATED> */
.p-DockPanel-handle[data-orientation='vertical'],
/* </DEPRECATED> */
.lm-DockPanel-handle[data-orientation='vertical'] {
  cursor: ns-resize;
}


/* <DEPRECATED> */
.p-DockPanel-handle[data-orientation='horizontal']:after,
/* </DEPRECATED> */
.lm-DockPanel-handle[data-orientation='horizontal']:after {
  left: 50%;
  min-width: 8px;
  transform: translateX(-50%);
}


/* <DEPRECATED> */
.p-DockPanel-handle[data-orientation='vertical']:after,
/* </DEPRECATED> */
.lm-DockPanel-handle[data-orientation='vertical']:after {
  top: 50%;
  min-height: 8px;
  transform: translateY(-50%);
}


/* <DEPRECATED> */ .p-DockPanel-overlay, /* </DEPRECATED> */
.lm-DockPanel-overlay {
  z-index: 3;
  box-sizing: border-box;
  pointer-events: none;
}


/* <DEPRECATED> */ .p-DockPanel-overlay.p-mod-hidden, /* </DEPRECATED> */
.lm-DockPanel-overlay.lm-mod-hidden {
  display: none !important;
}

/*-----------------------------------------------------------------------------
| Copyright (c) Jupyter Development Team.
| Copyright (c) 2014-2017, PhosphorJS Contributors
|
| Distributed under the terms of the BSD 3-Clause License.
|
| The full license is in the file LICENSE, distributed with this software.
|----------------------------------------------------------------------------*/


/* <DEPRECATED> */ .p-Menu, /* </DEPRECATED> */
.lm-Menu {
  z-index: 10000;
  position: absolute;
  white-space: nowrap;
  overflow-x: hidden;
  overflow-y: auto;
  outline: none;
  -webkit-user-select: none;
  -moz-user-select: none;
  -ms-user-select: none;
  user-select: none;
}


/* <DEPRECATED> */ .p-Menu-content, /* </DEPRECATED> */
.lm-Menu-content {
  margin: 0;
  padding: 0;
  display: table;
  list-style-type: none;
}


/* <DEPRECATED> */ .p-Menu-item, /* </DEPRECATED> */
.lm-Menu-item {
  display: table-row;
}


/* <DEPRECATED> */
.p-Menu-item.p-mod-hidden,
.p-Menu-item.p-mod-collapsed,
/* </DEPRECATED> */
.lm-Menu-item.lm-mod-hidden,
.lm-Menu-item.lm-mod-collapsed {
  display: none !important;
}


/* <DEPRECATED> */
.p-Menu-itemIcon,
.p-Menu-itemSubmenuIcon,
/* </DEPRECATED> */
.lm-Menu-itemIcon,
.lm-Menu-itemSubmenuIcon {
  display: table-cell;
  text-align: center;
}


/* <DEPRECATED> */ .p-Menu-itemLabel, /* </DEPRECATED> */
.lm-Menu-itemLabel {
  display: table-cell;
  text-align: left;
}


/* <DEPRECATED> */ .p-Menu-itemShortcut, /* </DEPRECATED> */
.lm-Menu-itemShortcut {
  display: table-cell;
  text-align: right;
}

/*-----------------------------------------------------------------------------
| Copyright (c) Jupyter Development Team.
| Copyright (c) 2014-2017, PhosphorJS Contributors
|
| Distributed under the terms of the BSD 3-Clause License.
|
| The full license is in the file LICENSE, distributed with this software.
|----------------------------------------------------------------------------*/


/* <DEPRECATED> */ .p-MenuBar, /* </DEPRECATED> */
.lm-MenuBar {
  outline: none;
  -webkit-user-select: none;
  -moz-user-select: none;
  -ms-user-select: none;
  user-select: none;
}


/* <DEPRECATED> */ .p-MenuBar-content, /* </DEPRECATED> */
.lm-MenuBar-content {
  margin: 0;
  padding: 0;
  display: flex;
  flex-direction: row;
  list-style-type: none;
}


/* <DEPRECATED> */ .p--MenuBar-item, /* </DEPRECATED> */
.lm-MenuBar-item {
  box-sizing: border-box;
}


/* <DEPRECATED> */
.p-MenuBar-itemIcon,
.p-MenuBar-itemLabel,
/* </DEPRECATED> */
.lm-MenuBar-itemIcon,
.lm-MenuBar-itemLabel {
  display: inline-block;
}

/*-----------------------------------------------------------------------------
| Copyright (c) Jupyter Development Team.
| Copyright (c) 2014-2017, PhosphorJS Contributors
|
| Distributed under the terms of the BSD 3-Clause License.
|
| The full license is in the file LICENSE, distributed with this software.
|----------------------------------------------------------------------------*/


/* <DEPRECATED> */ .p-ScrollBar, /* </DEPRECATED> */
.lm-ScrollBar {
  display: flex;
  -webkit-user-select: none;
  -moz-user-select: none;
  -ms-user-select: none;
  user-select: none;
}


/* <DEPRECATED> */
.p-ScrollBar[data-orientation='horizontal'],
/* </DEPRECATED> */
.lm-ScrollBar[data-orientation='horizontal'] {
  flex-direction: row;
}


/* <DEPRECATED> */
.p-ScrollBar[data-orientation='vertical'],
/* </DEPRECATED> */
.lm-ScrollBar[data-orientation='vertical'] {
  flex-direction: column;
}


/* <DEPRECATED> */ .p-ScrollBar-button, /* </DEPRECATED> */
.lm-ScrollBar-button {
  box-sizing: border-box;
  flex: 0 0 auto;
}


/* <DEPRECATED> */ .p-ScrollBar-track, /* </DEPRECATED> */
.lm-ScrollBar-track {
  box-sizing: border-box;
  position: relative;
  overflow: hidden;
  flex: 1 1 auto;
}


/* <DEPRECATED> */ .p-ScrollBar-thumb, /* </DEPRECATED> */
.lm-ScrollBar-thumb {
  box-sizing: border-box;
  position: absolute;
}

/*-----------------------------------------------------------------------------
| Copyright (c) Jupyter Development Team.
| Copyright (c) 2014-2017, PhosphorJS Contributors
|
| Distributed under the terms of the BSD 3-Clause License.
|
| The full license is in the file LICENSE, distributed with this software.
|----------------------------------------------------------------------------*/


/* <DEPRECATED> */ .p-SplitPanel-child, /* </DEPRECATED> */
.lm-SplitPanel-child {
  z-index: 0;
}


/* <DEPRECATED> */ .p-SplitPanel-handle, /* </DEPRECATED> */
.lm-SplitPanel-handle {
  z-index: 1;
}


/* <DEPRECATED> */ .p-SplitPanel-handle.p-mod-hidden, /* </DEPRECATED> */
.lm-SplitPanel-handle.lm-mod-hidden {
  display: none !important;
}


/* <DEPRECATED> */ .p-SplitPanel-handle:after, /* </DEPRECATED> */
.lm-SplitPanel-handle:after {
  position: absolute;
  top: 0;
  left: 0;
  width: 100%;
  height: 100%;
  content: '';
}


/* <DEPRECATED> */
.p-SplitPanel[data-orientation='horizontal'] > .p-SplitPanel-handle,
/* </DEPRECATED> */
.lm-SplitPanel[data-orientation='horizontal'] > .lm-SplitPanel-handle {
  cursor: ew-resize;
}


/* <DEPRECATED> */
.p-SplitPanel[data-orientation='vertical'] > .p-SplitPanel-handle,
/* </DEPRECATED> */
.lm-SplitPanel[data-orientation='vertical'] > .lm-SplitPanel-handle {
  cursor: ns-resize;
}


/* <DEPRECATED> */
.p-SplitPanel[data-orientation='horizontal'] > .p-SplitPanel-handle:after,
/* </DEPRECATED> */
.lm-SplitPanel[data-orientation='horizontal'] > .lm-SplitPanel-handle:after {
  left: 50%;
  min-width: 8px;
  transform: translateX(-50%);
}


/* <DEPRECATED> */
.p-SplitPanel[data-orientation='vertical'] > .p-SplitPanel-handle:after,
/* </DEPRECATED> */
.lm-SplitPanel[data-orientation='vertical'] > .lm-SplitPanel-handle:after {
  top: 50%;
  min-height: 8px;
  transform: translateY(-50%);
}

/*-----------------------------------------------------------------------------
| Copyright (c) Jupyter Development Team.
| Copyright (c) 2014-2017, PhosphorJS Contributors
|
| Distributed under the terms of the BSD 3-Clause License.
|
| The full license is in the file LICENSE, distributed with this software.
|----------------------------------------------------------------------------*/


/* <DEPRECATED> */ .p-TabBar, /* </DEPRECATED> */
.lm-TabBar {
  display: flex;
  -webkit-user-select: none;
  -moz-user-select: none;
  -ms-user-select: none;
  user-select: none;
}


/* <DEPRECATED> */ .p-TabBar[data-orientation='horizontal'], /* </DEPRECATED> */
.lm-TabBar[data-orientation='horizontal'] {
  flex-direction: row;
  align-items: flex-end;
}


/* <DEPRECATED> */ .p-TabBar[data-orientation='vertical'], /* </DEPRECATED> */
.lm-TabBar[data-orientation='vertical'] {
  flex-direction: column;
  align-items: flex-end;
}


/* <DEPRECATED> */ .p-TabBar-content, /* </DEPRECATED> */
.lm-TabBar-content {
  margin: 0;
  padding: 0;
  display: flex;
  flex: 1 1 auto;
  list-style-type: none;
}


/* <DEPRECATED> */
.p-TabBar[data-orientation='horizontal'] > .p-TabBar-content,
/* </DEPRECATED> */
.lm-TabBar[data-orientation='horizontal'] > .lm-TabBar-content {
  flex-direction: row;
}


/* <DEPRECATED> */
.p-TabBar[data-orientation='vertical'] > .p-TabBar-content,
/* </DEPRECATED> */
.lm-TabBar[data-orientation='vertical'] > .lm-TabBar-content {
  flex-direction: column;
}


/* <DEPRECATED> */ .p-TabBar-tab, /* </DEPRECATED> */
.lm-TabBar-tab {
  display: flex;
  flex-direction: row;
  box-sizing: border-box;
  overflow: hidden;
}


/* <DEPRECATED> */
.p-TabBar-tabIcon,
.p-TabBar-tabCloseIcon,
/* </DEPRECATED> */
.lm-TabBar-tabIcon,
.lm-TabBar-tabCloseIcon {
  flex: 0 0 auto;
}


/* <DEPRECATED> */ .p-TabBar-tabLabel, /* </DEPRECATED> */
.lm-TabBar-tabLabel {
  flex: 1 1 auto;
  overflow: hidden;
  white-space: nowrap;
}


.lm-TabBar-tabInput {
  user-select: all;
  width: 100%;
  box-sizing : border-box;
}


/* <DEPRECATED> */ .p-TabBar-tab.p-mod-hidden, /* </DEPRECATED> */
.lm-TabBar-tab.lm-mod-hidden {
  display: none !important;
}


.lm-TabBar-addButton.lm-mod-hidden {
  display: none !important;
}


/* <DEPRECATED> */ .p-TabBar.p-mod-dragging .p-TabBar-tab, /* </DEPRECATED> */
.lm-TabBar.lm-mod-dragging .lm-TabBar-tab {
  position: relative;
}


/* <DEPRECATED> */
.p-TabBar.p-mod-dragging[data-orientation='horizontal'] .p-TabBar-tab,
/* </DEPRECATED> */
.lm-TabBar.lm-mod-dragging[data-orientation='horizontal'] .lm-TabBar-tab {
  left: 0;
  transition: left 150ms ease;
}


/* <DEPRECATED> */
.p-TabBar.p-mod-dragging[data-orientation='vertical'] .p-TabBar-tab,
/* </DEPRECATED> */
.lm-TabBar.lm-mod-dragging[data-orientation='vertical'] .lm-TabBar-tab {
  top: 0;
  transition: top 150ms ease;
}


/* <DEPRECATED> */
.p-TabBar.p-mod-dragging .p-TabBar-tab.p-mod-dragging,
/* </DEPRECATED> */
.lm-TabBar.lm-mod-dragging .lm-TabBar-tab.lm-mod-dragging {
  transition: none;
}

.lm-TabBar-tabLabel .lm-TabBar-tabInput {
  user-select: all;
  width: 100%;
  box-sizing : border-box;
  background: inherit;
}

/*-----------------------------------------------------------------------------
| Copyright (c) Jupyter Development Team.
| Copyright (c) 2014-2017, PhosphorJS Contributors
|
| Distributed under the terms of the BSD 3-Clause License.
|
| The full license is in the file LICENSE, distributed with this software.
|----------------------------------------------------------------------------*/


/* <DEPRECATED> */ .p-TabPanel-tabBar, /* </DEPRECATED> */
.lm-TabPanel-tabBar {
  z-index: 1;
}


/* <DEPRECATED> */ .p-TabPanel-stackedPanel, /* </DEPRECATED> */
.lm-TabPanel-stackedPanel {
  z-index: 0;
}

/*-----------------------------------------------------------------------------
| Copyright (c) Jupyter Development Team.
| Copyright (c) 2014-2017, PhosphorJS Contributors
|
| Distributed under the terms of the BSD 3-Clause License.
|
| The full license is in the file LICENSE, distributed with this software.
|----------------------------------------------------------------------------*/

@charset "UTF-8";
html{
  -webkit-box-sizing:border-box;
          box-sizing:border-box; }

*,
*::before,
*::after{
  -webkit-box-sizing:inherit;
          box-sizing:inherit; }

body{
  font-size:14px;
  font-weight:400;
  letter-spacing:0;
  line-height:1.28581;
  text-transform:none;
  color:#182026;
  font-family:-apple-system, "BlinkMacSystemFont", "Segoe UI", "Roboto", "Oxygen", "Ubuntu", "Cantarell", "Open Sans", "Helvetica Neue", "Icons16", sans-serif; }

p{
  margin-bottom:10px;
  margin-top:0; }

small{
  font-size:12px; }

strong{
  font-weight:600; }

::-moz-selection{
  background:rgba(125, 188, 255, 0.6); }

::selection{
  background:rgba(125, 188, 255, 0.6); }
.bp3-heading{
  color:#182026;
  font-weight:600;
  margin:0 0 10px;
  padding:0; }
  .bp3-dark .bp3-heading{
    color:#f5f8fa; }

h1.bp3-heading, .bp3-running-text h1{
  font-size:36px;
  line-height:40px; }

h2.bp3-heading, .bp3-running-text h2{
  font-size:28px;
  line-height:32px; }

h3.bp3-heading, .bp3-running-text h3{
  font-size:22px;
  line-height:25px; }

h4.bp3-heading, .bp3-running-text h4{
  font-size:18px;
  line-height:21px; }

h5.bp3-heading, .bp3-running-text h5{
  font-size:16px;
  line-height:19px; }

h6.bp3-heading, .bp3-running-text h6{
  font-size:14px;
  line-height:16px; }
.bp3-ui-text{
  font-size:14px;
  font-weight:400;
  letter-spacing:0;
  line-height:1.28581;
  text-transform:none; }

.bp3-monospace-text{
  font-family:monospace;
  text-transform:none; }

.bp3-text-muted{
  color:#5c7080; }
  .bp3-dark .bp3-text-muted{
    color:#a7b6c2; }

.bp3-text-disabled{
  color:rgba(92, 112, 128, 0.6); }
  .bp3-dark .bp3-text-disabled{
    color:rgba(167, 182, 194, 0.6); }

.bp3-text-overflow-ellipsis{
  overflow:hidden;
  text-overflow:ellipsis;
  white-space:nowrap;
  word-wrap:normal; }
.bp3-running-text{
  font-size:14px;
  line-height:1.5; }
  .bp3-running-text h1{
    color:#182026;
    font-weight:600;
    margin-bottom:20px;
    margin-top:40px; }
    .bp3-dark .bp3-running-text h1{
      color:#f5f8fa; }
  .bp3-running-text h2{
    color:#182026;
    font-weight:600;
    margin-bottom:20px;
    margin-top:40px; }
    .bp3-dark .bp3-running-text h2{
      color:#f5f8fa; }
  .bp3-running-text h3{
    color:#182026;
    font-weight:600;
    margin-bottom:20px;
    margin-top:40px; }
    .bp3-dark .bp3-running-text h3{
      color:#f5f8fa; }
  .bp3-running-text h4{
    color:#182026;
    font-weight:600;
    margin-bottom:20px;
    margin-top:40px; }
    .bp3-dark .bp3-running-text h4{
      color:#f5f8fa; }
  .bp3-running-text h5{
    color:#182026;
    font-weight:600;
    margin-bottom:20px;
    margin-top:40px; }
    .bp3-dark .bp3-running-text h5{
      color:#f5f8fa; }
  .bp3-running-text h6{
    color:#182026;
    font-weight:600;
    margin-bottom:20px;
    margin-top:40px; }
    .bp3-dark .bp3-running-text h6{
      color:#f5f8fa; }
  .bp3-running-text hr{
    border:none;
    border-bottom:1px solid rgba(16, 22, 26, 0.15);
    margin:20px 0; }
    .bp3-dark .bp3-running-text hr{
      border-color:rgba(255, 255, 255, 0.15); }
  .bp3-running-text p{
    margin:0 0 10px;
    padding:0; }

.bp3-text-large{
  font-size:16px; }

.bp3-text-small{
  font-size:12px; }
a{
  color:#106ba3;
  text-decoration:none; }
  a:hover{
    color:#106ba3;
    cursor:pointer;
    text-decoration:underline; }
  a .bp3-icon, a .bp3-icon-standard, a .bp3-icon-large{
    color:inherit; }
  a code,
  .bp3-dark a code{
    color:inherit; }
  .bp3-dark a,
  .bp3-dark a:hover{
    color:#48aff0; }
    .bp3-dark a .bp3-icon, .bp3-dark a .bp3-icon-standard, .bp3-dark a .bp3-icon-large,
    .bp3-dark a:hover .bp3-icon,
    .bp3-dark a:hover .bp3-icon-standard,
    .bp3-dark a:hover .bp3-icon-large{
      color:inherit; }
.bp3-running-text code, .bp3-code{
  font-family:monospace;
  text-transform:none;
  background:rgba(255, 255, 255, 0.7);
  border-radius:3px;
  -webkit-box-shadow:inset 0 0 0 1px rgba(16, 22, 26, 0.2);
          box-shadow:inset 0 0 0 1px rgba(16, 22, 26, 0.2);
  color:#5c7080;
  font-size:smaller;
  padding:2px 5px; }
  .bp3-dark .bp3-running-text code, .bp3-running-text .bp3-dark code, .bp3-dark .bp3-code{
    background:rgba(16, 22, 26, 0.3);
    -webkit-box-shadow:inset 0 0 0 1px rgba(16, 22, 26, 0.4);
            box-shadow:inset 0 0 0 1px rgba(16, 22, 26, 0.4);
    color:#a7b6c2; }
  .bp3-running-text a > code, a > .bp3-code{
    color:#137cbd; }
    .bp3-dark .bp3-running-text a > code, .bp3-running-text .bp3-dark a > code, .bp3-dark a > .bp3-code{
      color:inherit; }

.bp3-running-text pre, .bp3-code-block{
  font-family:monospace;
  text-transform:none;
  background:rgba(255, 255, 255, 0.7);
  border-radius:3px;
  -webkit-box-shadow:inset 0 0 0 1px rgba(16, 22, 26, 0.15);
          box-shadow:inset 0 0 0 1px rgba(16, 22, 26, 0.15);
  color:#182026;
  display:block;
  font-size:13px;
  line-height:1.4;
  margin:10px 0;
  padding:13px 15px 12px;
  word-break:break-all;
  word-wrap:break-word; }
  .bp3-dark .bp3-running-text pre, .bp3-running-text .bp3-dark pre, .bp3-dark .bp3-code-block{
    background:rgba(16, 22, 26, 0.3);
    -webkit-box-shadow:inset 0 0 0 1px rgba(16, 22, 26, 0.4);
            box-shadow:inset 0 0 0 1px rgba(16, 22, 26, 0.4);
    color:#f5f8fa; }
  .bp3-running-text pre > code, .bp3-code-block > code{
    background:none;
    -webkit-box-shadow:none;
            box-shadow:none;
    color:inherit;
    font-size:inherit;
    padding:0; }

.bp3-running-text kbd, .bp3-key{
  -webkit-box-align:center;
      -ms-flex-align:center;
          align-items:center;
  background:#ffffff;
  border-radius:3px;
  -webkit-box-shadow:0 0 0 1px rgba(16, 22, 26, 0.1), 0 0 0 rgba(16, 22, 26, 0), 0 1px 1px rgba(16, 22, 26, 0.2);
          box-shadow:0 0 0 1px rgba(16, 22, 26, 0.1), 0 0 0 rgba(16, 22, 26, 0), 0 1px 1px rgba(16, 22, 26, 0.2);
  color:#5c7080;
  display:-webkit-inline-box;
  display:-ms-inline-flexbox;
  display:inline-flex;
  font-family:inherit;
  font-size:12px;
  height:24px;
  -webkit-box-pack:center;
      -ms-flex-pack:center;
          justify-content:center;
  line-height:24px;
  min-width:24px;
  padding:3px 6px;
  vertical-align:middle; }
  .bp3-running-text kbd .bp3-icon, .bp3-key .bp3-icon, .bp3-running-text kbd .bp3-icon-standard, .bp3-key .bp3-icon-standard, .bp3-running-text kbd .bp3-icon-large, .bp3-key .bp3-icon-large{
    margin-right:5px; }
  .bp3-dark .bp3-running-text kbd, .bp3-running-text .bp3-dark kbd, .bp3-dark .bp3-key{
    background:#394b59;
    -webkit-box-shadow:0 0 0 1px rgba(16, 22, 26, 0.2), 0 0 0 rgba(16, 22, 26, 0), 0 1px 1px rgba(16, 22, 26, 0.4);
            box-shadow:0 0 0 1px rgba(16, 22, 26, 0.2), 0 0 0 rgba(16, 22, 26, 0), 0 1px 1px rgba(16, 22, 26, 0.4);
    color:#a7b6c2; }
.bp3-running-text blockquote, .bp3-blockquote{
  border-left:solid 4px rgba(167, 182, 194, 0.5);
  margin:0 0 10px;
  padding:0 20px; }
  .bp3-dark .bp3-running-text blockquote, .bp3-running-text .bp3-dark blockquote, .bp3-dark .bp3-blockquote{
    border-color:rgba(115, 134, 148, 0.5); }
.bp3-running-text ul,
.bp3-running-text ol, .bp3-list{
  margin:10px 0;
  padding-left:30px; }
  .bp3-running-text ul li:not(:last-child), .bp3-running-text ol li:not(:last-child), .bp3-list li:not(:last-child){
    margin-bottom:5px; }
  .bp3-running-text ul ol, .bp3-running-text ol ol, .bp3-list ol,
  .bp3-running-text ul ul,
  .bp3-running-text ol ul,
  .bp3-list ul{
    margin-top:5px; }

.bp3-list-unstyled{
  list-style:none;
  margin:0;
  padding:0; }
  .bp3-list-unstyled li{
    padding:0; }
.bp3-rtl{
  text-align:right; }

.bp3-dark{
  color:#f5f8fa; }

:focus{
  outline:rgba(19, 124, 189, 0.6) auto 2px;
  outline-offset:2px;
  -moz-outline-radius:6px; }

.bp3-focus-disabled :focus{
  outline:none !important; }
  .bp3-focus-disabled :focus ~ .bp3-control-indicator{
    outline:none !important; }

.bp3-alert{
  max-width:400px;
  padding:20px; }

.bp3-alert-body{
  display:-webkit-box;
  display:-ms-flexbox;
  display:flex; }
  .bp3-alert-body .bp3-icon{
    font-size:40px;
    margin-right:20px;
    margin-top:0; }

.bp3-alert-contents{
  word-break:break-word; }

.bp3-alert-footer{
  display:-webkit-box;
  display:-ms-flexbox;
  display:flex;
  -webkit-box-orient:horizontal;
  -webkit-box-direction:reverse;
      -ms-flex-direction:row-reverse;
          flex-direction:row-reverse;
  margin-top:10px; }
  .bp3-alert-footer .bp3-button{
    margin-left:10px; }
.bp3-breadcrumbs{
  -webkit-box-align:center;
      -ms-flex-align:center;
          align-items:center;
  cursor:default;
  display:-webkit-box;
  display:-ms-flexbox;
  display:flex;
  -ms-flex-wrap:wrap;
      flex-wrap:wrap;
  height:30px;
  list-style:none;
  margin:0;
  padding:0; }
  .bp3-breadcrumbs > li{
    -webkit-box-align:center;
        -ms-flex-align:center;
            align-items:center;
    display:-webkit-box;
    display:-ms-flexbox;
    display:flex; }
    .bp3-breadcrumbs > li::after{
      background:url("data:image/svg+xml,%3csvg xmlns='http://www.w3.org/2000/svg' viewBox='0 0 16 16'%3e%3cpath fill-rule='evenodd' clip-rule='evenodd' d='M10.71 7.29l-4-4a1.003 1.003 0 00-1.42 1.42L8.59 8 5.3 11.29c-.19.18-.3.43-.3.71a1.003 1.003 0 001.71.71l4-4c.18-.18.29-.43.29-.71 0-.28-.11-.53-.29-.71z' fill='%235C7080'/%3e%3c/svg%3e");
      content:"";
      display:block;
      height:16px;
      margin:0 5px;
      width:16px; }
    .bp3-breadcrumbs > li:last-of-type::after{
      display:none; }

.bp3-breadcrumb,
.bp3-breadcrumb-current,
.bp3-breadcrumbs-collapsed{
  -webkit-box-align:center;
      -ms-flex-align:center;
          align-items:center;
  display:-webkit-inline-box;
  display:-ms-inline-flexbox;
  display:inline-flex;
  font-size:16px; }

.bp3-breadcrumb,
.bp3-breadcrumbs-collapsed{
  color:#5c7080; }

.bp3-breadcrumb:hover{
  text-decoration:none; }

.bp3-breadcrumb.bp3-disabled{
  color:rgba(92, 112, 128, 0.6);
  cursor:not-allowed; }

.bp3-breadcrumb .bp3-icon{
  margin-right:5px; }

.bp3-breadcrumb-current{
  color:inherit;
  font-weight:600; }
  .bp3-breadcrumb-current .bp3-input{
    font-size:inherit;
    font-weight:inherit;
    vertical-align:baseline; }

.bp3-breadcrumbs-collapsed{
  background:#ced9e0;
  border:none;
  border-radius:3px;
  cursor:pointer;
  margin-right:2px;
  padding:1px 5px;
  vertical-align:text-bottom; }
  .bp3-breadcrumbs-collapsed::before{
    background:url("data:image/svg+xml,%3csvg xmlns='http://www.w3.org/2000/svg' viewBox='0 0 16 16'%3e%3cg fill='%235C7080'%3e%3ccircle cx='2' cy='8.03' r='2'/%3e%3ccircle cx='14' cy='8.03' r='2'/%3e%3ccircle cx='8' cy='8.03' r='2'/%3e%3c/g%3e%3c/svg%3e") center no-repeat;
    content:"";
    display:block;
    height:16px;
    width:16px; }
  .bp3-breadcrumbs-collapsed:hover{
    background:#bfccd6;
    color:#182026;
    text-decoration:none; }

.bp3-dark .bp3-breadcrumb,
.bp3-dark .bp3-breadcrumbs-collapsed{
  color:#a7b6c2; }

.bp3-dark .bp3-breadcrumbs > li::after{
  color:#a7b6c2; }

.bp3-dark .bp3-breadcrumb.bp3-disabled{
  color:rgba(167, 182, 194, 0.6); }

.bp3-dark .bp3-breadcrumb-current{
  color:#f5f8fa; }

.bp3-dark .bp3-breadcrumbs-collapsed{
  background:rgba(16, 22, 26, 0.4); }
  .bp3-dark .bp3-breadcrumbs-collapsed:hover{
    background:rgba(16, 22, 26, 0.6);
    color:#f5f8fa; }
.bp3-button{
  display:-webkit-inline-box;
  display:-ms-inline-flexbox;
  display:inline-flex;
  -webkit-box-orient:horizontal;
  -webkit-box-direction:normal;
      -ms-flex-direction:row;
          flex-direction:row;
  -webkit-box-align:center;
      -ms-flex-align:center;
          align-items:center;
  border:none;
  border-radius:3px;
  cursor:pointer;
  font-size:14px;
  -webkit-box-pack:center;
      -ms-flex-pack:center;
          justify-content:center;
  padding:5px 10px;
  text-align:left;
  vertical-align:middle;
  min-height:30px;
  min-width:30px; }
  .bp3-button > *{
    -webkit-box-flex:0;
        -ms-flex-positive:0;
            flex-grow:0;
    -ms-flex-negative:0;
        flex-shrink:0; }
  .bp3-button > .bp3-fill{
    -webkit-box-flex:1;
        -ms-flex-positive:1;
            flex-grow:1;
    -ms-flex-negative:1;
        flex-shrink:1; }
  .bp3-button::before,
  .bp3-button > *{
    margin-right:7px; }
  .bp3-button:empty::before,
  .bp3-button > :last-child{
    margin-right:0; }
  .bp3-button:empty{
    padding:0 !important; }
  .bp3-button:disabled, .bp3-button.bp3-disabled{
    cursor:not-allowed; }
  .bp3-button.bp3-fill{
    display:-webkit-box;
    display:-ms-flexbox;
    display:flex;
    width:100%; }
  .bp3-button.bp3-align-right,
  .bp3-align-right .bp3-button{
    text-align:right; }
  .bp3-button.bp3-align-left,
  .bp3-align-left .bp3-button{
    text-align:left; }
  .bp3-button:not([class*="bp3-intent-"]){
    background-color:#f5f8fa;
    background-image:-webkit-gradient(linear, left top, left bottom, from(rgba(255, 255, 255, 0.8)), to(rgba(255, 255, 255, 0)));
    background-image:linear-gradient(to bottom, rgba(255, 255, 255, 0.8), rgba(255, 255, 255, 0));
    -webkit-box-shadow:inset 0 0 0 1px rgba(16, 22, 26, 0.2), inset 0 -1px 0 rgba(16, 22, 26, 0.1);
            box-shadow:inset 0 0 0 1px rgba(16, 22, 26, 0.2), inset 0 -1px 0 rgba(16, 22, 26, 0.1);
    color:#182026; }
    .bp3-button:not([class*="bp3-intent-"]):hover{
      background-clip:padding-box;
      background-color:#ebf1f5;
      -webkit-box-shadow:inset 0 0 0 1px rgba(16, 22, 26, 0.2), inset 0 -1px 0 rgba(16, 22, 26, 0.1);
              box-shadow:inset 0 0 0 1px rgba(16, 22, 26, 0.2), inset 0 -1px 0 rgba(16, 22, 26, 0.1); }
    .bp3-button:not([class*="bp3-intent-"]):active, .bp3-button:not([class*="bp3-intent-"]).bp3-active{
      background-color:#d8e1e8;
      background-image:none;
      -webkit-box-shadow:inset 0 0 0 1px rgba(16, 22, 26, 0.2), inset 0 1px 2px rgba(16, 22, 26, 0.2);
              box-shadow:inset 0 0 0 1px rgba(16, 22, 26, 0.2), inset 0 1px 2px rgba(16, 22, 26, 0.2); }
    .bp3-button:not([class*="bp3-intent-"]):disabled, .bp3-button:not([class*="bp3-intent-"]).bp3-disabled{
      background-color:rgba(206, 217, 224, 0.5);
      background-image:none;
      -webkit-box-shadow:none;
              box-shadow:none;
      color:rgba(92, 112, 128, 0.6);
      cursor:not-allowed;
      outline:none; }
      .bp3-button:not([class*="bp3-intent-"]):disabled.bp3-active, .bp3-button:not([class*="bp3-intent-"]):disabled.bp3-active:hover, .bp3-button:not([class*="bp3-intent-"]).bp3-disabled.bp3-active, .bp3-button:not([class*="bp3-intent-"]).bp3-disabled.bp3-active:hover{
        background:rgba(206, 217, 224, 0.7); }
  .bp3-button.bp3-intent-primary{
    background-color:#137cbd;
    background-image:-webkit-gradient(linear, left top, left bottom, from(rgba(255, 255, 255, 0.1)), to(rgba(255, 255, 255, 0)));
    background-image:linear-gradient(to bottom, rgba(255, 255, 255, 0.1), rgba(255, 255, 255, 0));
    -webkit-box-shadow:inset 0 0 0 1px rgba(16, 22, 26, 0.4), inset 0 -1px 0 rgba(16, 22, 26, 0.2);
            box-shadow:inset 0 0 0 1px rgba(16, 22, 26, 0.4), inset 0 -1px 0 rgba(16, 22, 26, 0.2);
    color:#ffffff; }
    .bp3-button.bp3-intent-primary:hover, .bp3-button.bp3-intent-primary:active, .bp3-button.bp3-intent-primary.bp3-active{
      color:#ffffff; }
    .bp3-button.bp3-intent-primary:hover{
      background-color:#106ba3;
      -webkit-box-shadow:inset 0 0 0 1px rgba(16, 22, 26, 0.4), inset 0 -1px 0 rgba(16, 22, 26, 0.2);
              box-shadow:inset 0 0 0 1px rgba(16, 22, 26, 0.4), inset 0 -1px 0 rgba(16, 22, 26, 0.2); }
    .bp3-button.bp3-intent-primary:active, .bp3-button.bp3-intent-primary.bp3-active{
      background-color:#0e5a8a;
      background-image:none;
      -webkit-box-shadow:inset 0 0 0 1px rgba(16, 22, 26, 0.4), inset 0 1px 2px rgba(16, 22, 26, 0.2);
              box-shadow:inset 0 0 0 1px rgba(16, 22, 26, 0.4), inset 0 1px 2px rgba(16, 22, 26, 0.2); }
    .bp3-button.bp3-intent-primary:disabled, .bp3-button.bp3-intent-primary.bp3-disabled{
      background-color:rgba(19, 124, 189, 0.5);
      background-image:none;
      border-color:transparent;
      -webkit-box-shadow:none;
              box-shadow:none;
      color:rgba(255, 255, 255, 0.6); }
  .bp3-button.bp3-intent-success{
    background-color:#0f9960;
    background-image:-webkit-gradient(linear, left top, left bottom, from(rgba(255, 255, 255, 0.1)), to(rgba(255, 255, 255, 0)));
    background-image:linear-gradient(to bottom, rgba(255, 255, 255, 0.1), rgba(255, 255, 255, 0));
    -webkit-box-shadow:inset 0 0 0 1px rgba(16, 22, 26, 0.4), inset 0 -1px 0 rgba(16, 22, 26, 0.2);
            box-shadow:inset 0 0 0 1px rgba(16, 22, 26, 0.4), inset 0 -1px 0 rgba(16, 22, 26, 0.2);
    color:#ffffff; }
    .bp3-button.bp3-intent-success:hover, .bp3-button.bp3-intent-success:active, .bp3-button.bp3-intent-success.bp3-active{
      color:#ffffff; }
    .bp3-button.bp3-intent-success:hover{
      background-color:#0d8050;
      -webkit-box-shadow:inset 0 0 0 1px rgba(16, 22, 26, 0.4), inset 0 -1px 0 rgba(16, 22, 26, 0.2);
              box-shadow:inset 0 0 0 1px rgba(16, 22, 26, 0.4), inset 0 -1px 0 rgba(16, 22, 26, 0.2); }
    .bp3-button.bp3-intent-success:active, .bp3-button.bp3-intent-success.bp3-active{
      background-color:#0a6640;
      background-image:none;
      -webkit-box-shadow:inset 0 0 0 1px rgba(16, 22, 26, 0.4), inset 0 1px 2px rgba(16, 22, 26, 0.2);
              box-shadow:inset 0 0 0 1px rgba(16, 22, 26, 0.4), inset 0 1px 2px rgba(16, 22, 26, 0.2); }
    .bp3-button.bp3-intent-success:disabled, .bp3-button.bp3-intent-success.bp3-disabled{
      background-color:rgba(15, 153, 96, 0.5);
      background-image:none;
      border-color:transparent;
      -webkit-box-shadow:none;
              box-shadow:none;
      color:rgba(255, 255, 255, 0.6); }
  .bp3-button.bp3-intent-warning{
    background-color:#d9822b;
    background-image:-webkit-gradient(linear, left top, left bottom, from(rgba(255, 255, 255, 0.1)), to(rgba(255, 255, 255, 0)));
    background-image:linear-gradient(to bottom, rgba(255, 255, 255, 0.1), rgba(255, 255, 255, 0));
    -webkit-box-shadow:inset 0 0 0 1px rgba(16, 22, 26, 0.4), inset 0 -1px 0 rgba(16, 22, 26, 0.2);
            box-shadow:inset 0 0 0 1px rgba(16, 22, 26, 0.4), inset 0 -1px 0 rgba(16, 22, 26, 0.2);
    color:#ffffff; }
    .bp3-button.bp3-intent-warning:hover, .bp3-button.bp3-intent-warning:active, .bp3-button.bp3-intent-warning.bp3-active{
      color:#ffffff; }
    .bp3-button.bp3-intent-warning:hover{
      background-color:#bf7326;
      -webkit-box-shadow:inset 0 0 0 1px rgba(16, 22, 26, 0.4), inset 0 -1px 0 rgba(16, 22, 26, 0.2);
              box-shadow:inset 0 0 0 1px rgba(16, 22, 26, 0.4), inset 0 -1px 0 rgba(16, 22, 26, 0.2); }
    .bp3-button.bp3-intent-warning:active, .bp3-button.bp3-intent-warning.bp3-active{
      background-color:#a66321;
      background-image:none;
      -webkit-box-shadow:inset 0 0 0 1px rgba(16, 22, 26, 0.4), inset 0 1px 2px rgba(16, 22, 26, 0.2);
              box-shadow:inset 0 0 0 1px rgba(16, 22, 26, 0.4), inset 0 1px 2px rgba(16, 22, 26, 0.2); }
    .bp3-button.bp3-intent-warning:disabled, .bp3-button.bp3-intent-warning.bp3-disabled{
      background-color:rgba(217, 130, 43, 0.5);
      background-image:none;
      border-color:transparent;
      -webkit-box-shadow:none;
              box-shadow:none;
      color:rgba(255, 255, 255, 0.6); }
  .bp3-button.bp3-intent-danger{
    background-color:#db3737;
    background-image:-webkit-gradient(linear, left top, left bottom, from(rgba(255, 255, 255, 0.1)), to(rgba(255, 255, 255, 0)));
    background-image:linear-gradient(to bottom, rgba(255, 255, 255, 0.1), rgba(255, 255, 255, 0));
    -webkit-box-shadow:inset 0 0 0 1px rgba(16, 22, 26, 0.4), inset 0 -1px 0 rgba(16, 22, 26, 0.2);
            box-shadow:inset 0 0 0 1px rgba(16, 22, 26, 0.4), inset 0 -1px 0 rgba(16, 22, 26, 0.2);
    color:#ffffff; }
    .bp3-button.bp3-intent-danger:hover, .bp3-button.bp3-intent-danger:active, .bp3-button.bp3-intent-danger.bp3-active{
      color:#ffffff; }
    .bp3-button.bp3-intent-danger:hover{
      background-color:#c23030;
      -webkit-box-shadow:inset 0 0 0 1px rgba(16, 22, 26, 0.4), inset 0 -1px 0 rgba(16, 22, 26, 0.2);
              box-shadow:inset 0 0 0 1px rgba(16, 22, 26, 0.4), inset 0 -1px 0 rgba(16, 22, 26, 0.2); }
    .bp3-button.bp3-intent-danger:active, .bp3-button.bp3-intent-danger.bp3-active{
      background-color:#a82a2a;
      background-image:none;
      -webkit-box-shadow:inset 0 0 0 1px rgba(16, 22, 26, 0.4), inset 0 1px 2px rgba(16, 22, 26, 0.2);
              box-shadow:inset 0 0 0 1px rgba(16, 22, 26, 0.4), inset 0 1px 2px rgba(16, 22, 26, 0.2); }
    .bp3-button.bp3-intent-danger:disabled, .bp3-button.bp3-intent-danger.bp3-disabled{
      background-color:rgba(219, 55, 55, 0.5);
      background-image:none;
      border-color:transparent;
      -webkit-box-shadow:none;
              box-shadow:none;
      color:rgba(255, 255, 255, 0.6); }
  .bp3-button[class*="bp3-intent-"] .bp3-button-spinner .bp3-spinner-head{
    stroke:#ffffff; }
  .bp3-button.bp3-large,
  .bp3-large .bp3-button{
    min-height:40px;
    min-width:40px;
    font-size:16px;
    padding:5px 15px; }
    .bp3-button.bp3-large::before,
    .bp3-button.bp3-large > *,
    .bp3-large .bp3-button::before,
    .bp3-large .bp3-button > *{
      margin-right:10px; }
    .bp3-button.bp3-large:empty::before,
    .bp3-button.bp3-large > :last-child,
    .bp3-large .bp3-button:empty::before,
    .bp3-large .bp3-button > :last-child{
      margin-right:0; }
  .bp3-button.bp3-small,
  .bp3-small .bp3-button{
    min-height:24px;
    min-width:24px;
    padding:0 7px; }
  .bp3-button.bp3-loading{
    position:relative; }
    .bp3-button.bp3-loading[class*="bp3-icon-"]::before{
      visibility:hidden; }
    .bp3-button.bp3-loading .bp3-button-spinner{
      margin:0;
      position:absolute; }
    .bp3-button.bp3-loading > :not(.bp3-button-spinner){
      visibility:hidden; }
  .bp3-button[class*="bp3-icon-"]::before{
    font-family:"Icons16", sans-serif;
    font-size:16px;
    font-style:normal;
    font-weight:400;
    line-height:1;
    -moz-osx-font-smoothing:grayscale;
    -webkit-font-smoothing:antialiased;
    color:#5c7080; }
  .bp3-button .bp3-icon, .bp3-button .bp3-icon-standard, .bp3-button .bp3-icon-large{
    color:#5c7080; }
    .bp3-button .bp3-icon.bp3-align-right, .bp3-button .bp3-icon-standard.bp3-align-right, .bp3-button .bp3-icon-large.bp3-align-right{
      margin-left:7px; }
  .bp3-button .bp3-icon:first-child:last-child,
  .bp3-button .bp3-spinner + .bp3-icon:last-child{
    margin:0 -7px; }
  .bp3-dark .bp3-button:not([class*="bp3-intent-"]){
    background-color:#394b59;
    background-image:-webkit-gradient(linear, left top, left bottom, from(rgba(255, 255, 255, 0.05)), to(rgba(255, 255, 255, 0)));
    background-image:linear-gradient(to bottom, rgba(255, 255, 255, 0.05), rgba(255, 255, 255, 0));
    -webkit-box-shadow:0 0 0 1px rgba(16, 22, 26, 0.4);
            box-shadow:0 0 0 1px rgba(16, 22, 26, 0.4);
    color:#f5f8fa; }
    .bp3-dark .bp3-button:not([class*="bp3-intent-"]):hover, .bp3-dark .bp3-button:not([class*="bp3-intent-"]):active, .bp3-dark .bp3-button:not([class*="bp3-intent-"]).bp3-active{
      color:#f5f8fa; }
    .bp3-dark .bp3-button:not([class*="bp3-intent-"]):hover{
      background-color:#30404d;
      -webkit-box-shadow:0 0 0 1px rgba(16, 22, 26, 0.4);
              box-shadow:0 0 0 1px rgba(16, 22, 26, 0.4); }
    .bp3-dark .bp3-button:not([class*="bp3-intent-"]):active, .bp3-dark .bp3-button:not([class*="bp3-intent-"]).bp3-active{
      background-color:#202b33;
      background-image:none;
      -webkit-box-shadow:0 0 0 1px rgba(16, 22, 26, 0.6), inset 0 1px 2px rgba(16, 22, 26, 0.2);
              box-shadow:0 0 0 1px rgba(16, 22, 26, 0.6), inset 0 1px 2px rgba(16, 22, 26, 0.2); }
    .bp3-dark .bp3-button:not([class*="bp3-intent-"]):disabled, .bp3-dark .bp3-button:not([class*="bp3-intent-"]).bp3-disabled{
      background-color:rgba(57, 75, 89, 0.5);
      background-image:none;
      -webkit-box-shadow:none;
              box-shadow:none;
      color:rgba(167, 182, 194, 0.6); }
      .bp3-dark .bp3-button:not([class*="bp3-intent-"]):disabled.bp3-active, .bp3-dark .bp3-button:not([class*="bp3-intent-"]).bp3-disabled.bp3-active{
        background:rgba(57, 75, 89, 0.7); }
    .bp3-dark .bp3-button:not([class*="bp3-intent-"]) .bp3-button-spinner .bp3-spinner-head{
      background:rgba(16, 22, 26, 0.5);
      stroke:#8a9ba8; }
    .bp3-dark .bp3-button:not([class*="bp3-intent-"])[class*="bp3-icon-"]::before{
      color:#a7b6c2; }
    .bp3-dark .bp3-button:not([class*="bp3-intent-"]) .bp3-icon, .bp3-dark .bp3-button:not([class*="bp3-intent-"]) .bp3-icon-standard, .bp3-dark .bp3-button:not([class*="bp3-intent-"]) .bp3-icon-large{
      color:#a7b6c2; }
  .bp3-dark .bp3-button[class*="bp3-intent-"]{
    -webkit-box-shadow:0 0 0 1px rgba(16, 22, 26, 0.4);
            box-shadow:0 0 0 1px rgba(16, 22, 26, 0.4); }
    .bp3-dark .bp3-button[class*="bp3-intent-"]:hover{
      -webkit-box-shadow:0 0 0 1px rgba(16, 22, 26, 0.4);
              box-shadow:0 0 0 1px rgba(16, 22, 26, 0.4); }
    .bp3-dark .bp3-button[class*="bp3-intent-"]:active, .bp3-dark .bp3-button[class*="bp3-intent-"].bp3-active{
      -webkit-box-shadow:0 0 0 1px rgba(16, 22, 26, 0.4), inset 0 1px 2px rgba(16, 22, 26, 0.2);
              box-shadow:0 0 0 1px rgba(16, 22, 26, 0.4), inset 0 1px 2px rgba(16, 22, 26, 0.2); }
    .bp3-dark .bp3-button[class*="bp3-intent-"]:disabled, .bp3-dark .bp3-button[class*="bp3-intent-"].bp3-disabled{
      background-image:none;
      -webkit-box-shadow:none;
              box-shadow:none;
      color:rgba(255, 255, 255, 0.3); }
    .bp3-dark .bp3-button[class*="bp3-intent-"] .bp3-button-spinner .bp3-spinner-head{
      stroke:#8a9ba8; }
  .bp3-button:disabled::before,
  .bp3-button:disabled .bp3-icon, .bp3-button:disabled .bp3-icon-standard, .bp3-button:disabled .bp3-icon-large, .bp3-button.bp3-disabled::before,
  .bp3-button.bp3-disabled .bp3-icon, .bp3-button.bp3-disabled .bp3-icon-standard, .bp3-button.bp3-disabled .bp3-icon-large, .bp3-button[class*="bp3-intent-"]::before,
  .bp3-button[class*="bp3-intent-"] .bp3-icon, .bp3-button[class*="bp3-intent-"] .bp3-icon-standard, .bp3-button[class*="bp3-intent-"] .bp3-icon-large{
    color:inherit !important; }
  .bp3-button.bp3-minimal{
    background:none;
    -webkit-box-shadow:none;
            box-shadow:none; }
    .bp3-button.bp3-minimal:hover{
      background:rgba(167, 182, 194, 0.3);
      -webkit-box-shadow:none;
              box-shadow:none;
      color:#182026;
      text-decoration:none; }
    .bp3-button.bp3-minimal:active, .bp3-button.bp3-minimal.bp3-active{
      background:rgba(115, 134, 148, 0.3);
      -webkit-box-shadow:none;
              box-shadow:none;
      color:#182026; }
    .bp3-button.bp3-minimal:disabled, .bp3-button.bp3-minimal:disabled:hover, .bp3-button.bp3-minimal.bp3-disabled, .bp3-button.bp3-minimal.bp3-disabled:hover{
      background:none;
      color:rgba(92, 112, 128, 0.6);
      cursor:not-allowed; }
      .bp3-button.bp3-minimal:disabled.bp3-active, .bp3-button.bp3-minimal:disabled:hover.bp3-active, .bp3-button.bp3-minimal.bp3-disabled.bp3-active, .bp3-button.bp3-minimal.bp3-disabled:hover.bp3-active{
        background:rgba(115, 134, 148, 0.3); }
    .bp3-dark .bp3-button.bp3-minimal{
      background:none;
      -webkit-box-shadow:none;
              box-shadow:none;
      color:inherit; }
      .bp3-dark .bp3-button.bp3-minimal:hover, .bp3-dark .bp3-button.bp3-minimal:active, .bp3-dark .bp3-button.bp3-minimal.bp3-active{
        background:none;
        -webkit-box-shadow:none;
                box-shadow:none; }
      .bp3-dark .bp3-button.bp3-minimal:hover{
        background:rgba(138, 155, 168, 0.15); }
      .bp3-dark .bp3-button.bp3-minimal:active, .bp3-dark .bp3-button.bp3-minimal.bp3-active{
        background:rgba(138, 155, 168, 0.3);
        color:#f5f8fa; }
      .bp3-dark .bp3-button.bp3-minimal:disabled, .bp3-dark .bp3-button.bp3-minimal:disabled:hover, .bp3-dark .bp3-button.bp3-minimal.bp3-disabled, .bp3-dark .bp3-button.bp3-minimal.bp3-disabled:hover{
        background:none;
        color:rgba(167, 182, 194, 0.6);
        cursor:not-allowed; }
        .bp3-dark .bp3-button.bp3-minimal:disabled.bp3-active, .bp3-dark .bp3-button.bp3-minimal:disabled:hover.bp3-active, .bp3-dark .bp3-button.bp3-minimal.bp3-disabled.bp3-active, .bp3-dark .bp3-button.bp3-minimal.bp3-disabled:hover.bp3-active{
          background:rgba(138, 155, 168, 0.3); }
    .bp3-button.bp3-minimal.bp3-intent-primary{
      color:#106ba3; }
      .bp3-button.bp3-minimal.bp3-intent-primary:hover, .bp3-button.bp3-minimal.bp3-intent-primary:active, .bp3-button.bp3-minimal.bp3-intent-primary.bp3-active{
        background:none;
        -webkit-box-shadow:none;
                box-shadow:none;
        color:#106ba3; }
      .bp3-button.bp3-minimal.bp3-intent-primary:hover{
        background:rgba(19, 124, 189, 0.15);
        color:#106ba3; }
      .bp3-button.bp3-minimal.bp3-intent-primary:active, .bp3-button.bp3-minimal.bp3-intent-primary.bp3-active{
        background:rgba(19, 124, 189, 0.3);
        color:#106ba3; }
      .bp3-button.bp3-minimal.bp3-intent-primary:disabled, .bp3-button.bp3-minimal.bp3-intent-primary.bp3-disabled{
        background:none;
        color:rgba(16, 107, 163, 0.5); }
        .bp3-button.bp3-minimal.bp3-intent-primary:disabled.bp3-active, .bp3-button.bp3-minimal.bp3-intent-primary.bp3-disabled.bp3-active{
          background:rgba(19, 124, 189, 0.3); }
      .bp3-button.bp3-minimal.bp3-intent-primary .bp3-button-spinner .bp3-spinner-head{
        stroke:#106ba3; }
      .bp3-dark .bp3-button.bp3-minimal.bp3-intent-primary{
        color:#48aff0; }
        .bp3-dark .bp3-button.bp3-minimal.bp3-intent-primary:hover{
          background:rgba(19, 124, 189, 0.2);
          color:#48aff0; }
        .bp3-dark .bp3-button.bp3-minimal.bp3-intent-primary:active, .bp3-dark .bp3-button.bp3-minimal.bp3-intent-primary.bp3-active{
          background:rgba(19, 124, 189, 0.3);
          color:#48aff0; }
        .bp3-dark .bp3-button.bp3-minimal.bp3-intent-primary:disabled, .bp3-dark .bp3-button.bp3-minimal.bp3-intent-primary.bp3-disabled{
          background:none;
          color:rgba(72, 175, 240, 0.5); }
          .bp3-dark .bp3-button.bp3-minimal.bp3-intent-primary:disabled.bp3-active, .bp3-dark .bp3-button.bp3-minimal.bp3-intent-primary.bp3-disabled.bp3-active{
            background:rgba(19, 124, 189, 0.3); }
    .bp3-button.bp3-minimal.bp3-intent-success{
      color:#0d8050; }
      .bp3-button.bp3-minimal.bp3-intent-success:hover, .bp3-button.bp3-minimal.bp3-intent-success:active, .bp3-button.bp3-minimal.bp3-intent-success.bp3-active{
        background:none;
        -webkit-box-shadow:none;
                box-shadow:none;
        color:#0d8050; }
      .bp3-button.bp3-minimal.bp3-intent-success:hover{
        background:rgba(15, 153, 96, 0.15);
        color:#0d8050; }
      .bp3-button.bp3-minimal.bp3-intent-success:active, .bp3-button.bp3-minimal.bp3-intent-success.bp3-active{
        background:rgba(15, 153, 96, 0.3);
        color:#0d8050; }
      .bp3-button.bp3-minimal.bp3-intent-success:disabled, .bp3-button.bp3-minimal.bp3-intent-success.bp3-disabled{
        background:none;
        color:rgba(13, 128, 80, 0.5); }
        .bp3-button.bp3-minimal.bp3-intent-success:disabled.bp3-active, .bp3-button.bp3-minimal.bp3-intent-success.bp3-disabled.bp3-active{
          background:rgba(15, 153, 96, 0.3); }
      .bp3-button.bp3-minimal.bp3-intent-success .bp3-button-spinner .bp3-spinner-head{
        stroke:#0d8050; }
      .bp3-dark .bp3-button.bp3-minimal.bp3-intent-success{
        color:#3dcc91; }
        .bp3-dark .bp3-button.bp3-minimal.bp3-intent-success:hover{
          background:rgba(15, 153, 96, 0.2);
          color:#3dcc91; }
        .bp3-dark .bp3-button.bp3-minimal.bp3-intent-success:active, .bp3-dark .bp3-button.bp3-minimal.bp3-intent-success.bp3-active{
          background:rgba(15, 153, 96, 0.3);
          color:#3dcc91; }
        .bp3-dark .bp3-button.bp3-minimal.bp3-intent-success:disabled, .bp3-dark .bp3-button.bp3-minimal.bp3-intent-success.bp3-disabled{
          background:none;
          color:rgba(61, 204, 145, 0.5); }
          .bp3-dark .bp3-button.bp3-minimal.bp3-intent-success:disabled.bp3-active, .bp3-dark .bp3-button.bp3-minimal.bp3-intent-success.bp3-disabled.bp3-active{
            background:rgba(15, 153, 96, 0.3); }
    .bp3-button.bp3-minimal.bp3-intent-warning{
      color:#bf7326; }
      .bp3-button.bp3-minimal.bp3-intent-warning:hover, .bp3-button.bp3-minimal.bp3-intent-warning:active, .bp3-button.bp3-minimal.bp3-intent-warning.bp3-active{
        background:none;
        -webkit-box-shadow:none;
                box-shadow:none;
        color:#bf7326; }
      .bp3-button.bp3-minimal.bp3-intent-warning:hover{
        background:rgba(217, 130, 43, 0.15);
        color:#bf7326; }
      .bp3-button.bp3-minimal.bp3-intent-warning:active, .bp3-button.bp3-minimal.bp3-intent-warning.bp3-active{
        background:rgba(217, 130, 43, 0.3);
        color:#bf7326; }
      .bp3-button.bp3-minimal.bp3-intent-warning:disabled, .bp3-button.bp3-minimal.bp3-intent-warning.bp3-disabled{
        background:none;
        color:rgba(191, 115, 38, 0.5); }
        .bp3-button.bp3-minimal.bp3-intent-warning:disabled.bp3-active, .bp3-button.bp3-minimal.bp3-intent-warning.bp3-disabled.bp3-active{
          background:rgba(217, 130, 43, 0.3); }
      .bp3-button.bp3-minimal.bp3-intent-warning .bp3-button-spinner .bp3-spinner-head{
        stroke:#bf7326; }
      .bp3-dark .bp3-button.bp3-minimal.bp3-intent-warning{
        color:#ffb366; }
        .bp3-dark .bp3-button.bp3-minimal.bp3-intent-warning:hover{
          background:rgba(217, 130, 43, 0.2);
          color:#ffb366; }
        .bp3-dark .bp3-button.bp3-minimal.bp3-intent-warning:active, .bp3-dark .bp3-button.bp3-minimal.bp3-intent-warning.bp3-active{
          background:rgba(217, 130, 43, 0.3);
          color:#ffb366; }
        .bp3-dark .bp3-button.bp3-minimal.bp3-intent-warning:disabled, .bp3-dark .bp3-button.bp3-minimal.bp3-intent-warning.bp3-disabled{
          background:none;
          color:rgba(255, 179, 102, 0.5); }
          .bp3-dark .bp3-button.bp3-minimal.bp3-intent-warning:disabled.bp3-active, .bp3-dark .bp3-button.bp3-minimal.bp3-intent-warning.bp3-disabled.bp3-active{
            background:rgba(217, 130, 43, 0.3); }
    .bp3-button.bp3-minimal.bp3-intent-danger{
      color:#c23030; }
      .bp3-button.bp3-minimal.bp3-intent-danger:hover, .bp3-button.bp3-minimal.bp3-intent-danger:active, .bp3-button.bp3-minimal.bp3-intent-danger.bp3-active{
        background:none;
        -webkit-box-shadow:none;
                box-shadow:none;
        color:#c23030; }
      .bp3-button.bp3-minimal.bp3-intent-danger:hover{
        background:rgba(219, 55, 55, 0.15);
        color:#c23030; }
      .bp3-button.bp3-minimal.bp3-intent-danger:active, .bp3-button.bp3-minimal.bp3-intent-danger.bp3-active{
        background:rgba(219, 55, 55, 0.3);
        color:#c23030; }
      .bp3-button.bp3-minimal.bp3-intent-danger:disabled, .bp3-button.bp3-minimal.bp3-intent-danger.bp3-disabled{
        background:none;
        color:rgba(194, 48, 48, 0.5); }
        .bp3-button.bp3-minimal.bp3-intent-danger:disabled.bp3-active, .bp3-button.bp3-minimal.bp3-intent-danger.bp3-disabled.bp3-active{
          background:rgba(219, 55, 55, 0.3); }
      .bp3-button.bp3-minimal.bp3-intent-danger .bp3-button-spinner .bp3-spinner-head{
        stroke:#c23030; }
      .bp3-dark .bp3-button.bp3-minimal.bp3-intent-danger{
        color:#ff7373; }
        .bp3-dark .bp3-button.bp3-minimal.bp3-intent-danger:hover{
          background:rgba(219, 55, 55, 0.2);
          color:#ff7373; }
        .bp3-dark .bp3-button.bp3-minimal.bp3-intent-danger:active, .bp3-dark .bp3-button.bp3-minimal.bp3-intent-danger.bp3-active{
          background:rgba(219, 55, 55, 0.3);
          color:#ff7373; }
        .bp3-dark .bp3-button.bp3-minimal.bp3-intent-danger:disabled, .bp3-dark .bp3-button.bp3-minimal.bp3-intent-danger.bp3-disabled{
          background:none;
          color:rgba(255, 115, 115, 0.5); }
          .bp3-dark .bp3-button.bp3-minimal.bp3-intent-danger:disabled.bp3-active, .bp3-dark .bp3-button.bp3-minimal.bp3-intent-danger.bp3-disabled.bp3-active{
            background:rgba(219, 55, 55, 0.3); }
  .bp3-button.bp3-outlined{
    background:none;
    -webkit-box-shadow:none;
            box-shadow:none;
    border:1px solid rgba(24, 32, 38, 0.2);
    -webkit-box-sizing:border-box;
            box-sizing:border-box; }
    .bp3-button.bp3-outlined:hover{
      background:rgba(167, 182, 194, 0.3);
      -webkit-box-shadow:none;
              box-shadow:none;
      color:#182026;
      text-decoration:none; }
    .bp3-button.bp3-outlined:active, .bp3-button.bp3-outlined.bp3-active{
      background:rgba(115, 134, 148, 0.3);
      -webkit-box-shadow:none;
              box-shadow:none;
      color:#182026; }
    .bp3-button.bp3-outlined:disabled, .bp3-button.bp3-outlined:disabled:hover, .bp3-button.bp3-outlined.bp3-disabled, .bp3-button.bp3-outlined.bp3-disabled:hover{
      background:none;
      color:rgba(92, 112, 128, 0.6);
      cursor:not-allowed; }
      .bp3-button.bp3-outlined:disabled.bp3-active, .bp3-button.bp3-outlined:disabled:hover.bp3-active, .bp3-button.bp3-outlined.bp3-disabled.bp3-active, .bp3-button.bp3-outlined.bp3-disabled:hover.bp3-active{
        background:rgba(115, 134, 148, 0.3); }
    .bp3-dark .bp3-button.bp3-outlined{
      background:none;
      -webkit-box-shadow:none;
              box-shadow:none;
      color:inherit; }
      .bp3-dark .bp3-button.bp3-outlined:hover, .bp3-dark .bp3-button.bp3-outlined:active, .bp3-dark .bp3-button.bp3-outlined.bp3-active{
        background:none;
        -webkit-box-shadow:none;
                box-shadow:none; }
      .bp3-dark .bp3-button.bp3-outlined:hover{
        background:rgba(138, 155, 168, 0.15); }
      .bp3-dark .bp3-button.bp3-outlined:active, .bp3-dark .bp3-button.bp3-outlined.bp3-active{
        background:rgba(138, 155, 168, 0.3);
        color:#f5f8fa; }
      .bp3-dark .bp3-button.bp3-outlined:disabled, .bp3-dark .bp3-button.bp3-outlined:disabled:hover, .bp3-dark .bp3-button.bp3-outlined.bp3-disabled, .bp3-dark .bp3-button.bp3-outlined.bp3-disabled:hover{
        background:none;
        color:rgba(167, 182, 194, 0.6);
        cursor:not-allowed; }
        .bp3-dark .bp3-button.bp3-outlined:disabled.bp3-active, .bp3-dark .bp3-button.bp3-outlined:disabled:hover.bp3-active, .bp3-dark .bp3-button.bp3-outlined.bp3-disabled.bp3-active, .bp3-dark .bp3-button.bp3-outlined.bp3-disabled:hover.bp3-active{
          background:rgba(138, 155, 168, 0.3); }
    .bp3-button.bp3-outlined.bp3-intent-primary{
      color:#106ba3; }
      .bp3-button.bp3-outlined.bp3-intent-primary:hover, .bp3-button.bp3-outlined.bp3-intent-primary:active, .bp3-button.bp3-outlined.bp3-intent-primary.bp3-active{
        background:none;
        -webkit-box-shadow:none;
                box-shadow:none;
        color:#106ba3; }
      .bp3-button.bp3-outlined.bp3-intent-primary:hover{
        background:rgba(19, 124, 189, 0.15);
        color:#106ba3; }
      .bp3-button.bp3-outlined.bp3-intent-primary:active, .bp3-button.bp3-outlined.bp3-intent-primary.bp3-active{
        background:rgba(19, 124, 189, 0.3);
        color:#106ba3; }
      .bp3-button.bp3-outlined.bp3-intent-primary:disabled, .bp3-button.bp3-outlined.bp3-intent-primary.bp3-disabled{
        background:none;
        color:rgba(16, 107, 163, 0.5); }
        .bp3-button.bp3-outlined.bp3-intent-primary:disabled.bp3-active, .bp3-button.bp3-outlined.bp3-intent-primary.bp3-disabled.bp3-active{
          background:rgba(19, 124, 189, 0.3); }
      .bp3-button.bp3-outlined.bp3-intent-primary .bp3-button-spinner .bp3-spinner-head{
        stroke:#106ba3; }
      .bp3-dark .bp3-button.bp3-outlined.bp3-intent-primary{
        color:#48aff0; }
        .bp3-dark .bp3-button.bp3-outlined.bp3-intent-primary:hover{
          background:rgba(19, 124, 189, 0.2);
          color:#48aff0; }
        .bp3-dark .bp3-button.bp3-outlined.bp3-intent-primary:active, .bp3-dark .bp3-button.bp3-outlined.bp3-intent-primary.bp3-active{
          background:rgba(19, 124, 189, 0.3);
          color:#48aff0; }
        .bp3-dark .bp3-button.bp3-outlined.bp3-intent-primary:disabled, .bp3-dark .bp3-button.bp3-outlined.bp3-intent-primary.bp3-disabled{
          background:none;
          color:rgba(72, 175, 240, 0.5); }
          .bp3-dark .bp3-button.bp3-outlined.bp3-intent-primary:disabled.bp3-active, .bp3-dark .bp3-button.bp3-outlined.bp3-intent-primary.bp3-disabled.bp3-active{
            background:rgba(19, 124, 189, 0.3); }
    .bp3-button.bp3-outlined.bp3-intent-success{
      color:#0d8050; }
      .bp3-button.bp3-outlined.bp3-intent-success:hover, .bp3-button.bp3-outlined.bp3-intent-success:active, .bp3-button.bp3-outlined.bp3-intent-success.bp3-active{
        background:none;
        -webkit-box-shadow:none;
                box-shadow:none;
        color:#0d8050; }
      .bp3-button.bp3-outlined.bp3-intent-success:hover{
        background:rgba(15, 153, 96, 0.15);
        color:#0d8050; }
      .bp3-button.bp3-outlined.bp3-intent-success:active, .bp3-button.bp3-outlined.bp3-intent-success.bp3-active{
        background:rgba(15, 153, 96, 0.3);
        color:#0d8050; }
      .bp3-button.bp3-outlined.bp3-intent-success:disabled, .bp3-button.bp3-outlined.bp3-intent-success.bp3-disabled{
        background:none;
        color:rgba(13, 128, 80, 0.5); }
        .bp3-button.bp3-outlined.bp3-intent-success:disabled.bp3-active, .bp3-button.bp3-outlined.bp3-intent-success.bp3-disabled.bp3-active{
          background:rgba(15, 153, 96, 0.3); }
      .bp3-button.bp3-outlined.bp3-intent-success .bp3-button-spinner .bp3-spinner-head{
        stroke:#0d8050; }
      .bp3-dark .bp3-button.bp3-outlined.bp3-intent-success{
        color:#3dcc91; }
        .bp3-dark .bp3-button.bp3-outlined.bp3-intent-success:hover{
          background:rgba(15, 153, 96, 0.2);
          color:#3dcc91; }
        .bp3-dark .bp3-button.bp3-outlined.bp3-intent-success:active, .bp3-dark .bp3-button.bp3-outlined.bp3-intent-success.bp3-active{
          background:rgba(15, 153, 96, 0.3);
          color:#3dcc91; }
        .bp3-dark .bp3-button.bp3-outlined.bp3-intent-success:disabled, .bp3-dark .bp3-button.bp3-outlined.bp3-intent-success.bp3-disabled{
          background:none;
          color:rgba(61, 204, 145, 0.5); }
          .bp3-dark .bp3-button.bp3-outlined.bp3-intent-success:disabled.bp3-active, .bp3-dark .bp3-button.bp3-outlined.bp3-intent-success.bp3-disabled.bp3-active{
            background:rgba(15, 153, 96, 0.3); }
    .bp3-button.bp3-outlined.bp3-intent-warning{
      color:#bf7326; }
      .bp3-button.bp3-outlined.bp3-intent-warning:hover, .bp3-button.bp3-outlined.bp3-intent-warning:active, .bp3-button.bp3-outlined.bp3-intent-warning.bp3-active{
        background:none;
        -webkit-box-shadow:none;
                box-shadow:none;
        color:#bf7326; }
      .bp3-button.bp3-outlined.bp3-intent-warning:hover{
        background:rgba(217, 130, 43, 0.15);
        color:#bf7326; }
      .bp3-button.bp3-outlined.bp3-intent-warning:active, .bp3-button.bp3-outlined.bp3-intent-warning.bp3-active{
        background:rgba(217, 130, 43, 0.3);
        color:#bf7326; }
      .bp3-button.bp3-outlined.bp3-intent-warning:disabled, .bp3-button.bp3-outlined.bp3-intent-warning.bp3-disabled{
        background:none;
        color:rgba(191, 115, 38, 0.5); }
        .bp3-button.bp3-outlined.bp3-intent-warning:disabled.bp3-active, .bp3-button.bp3-outlined.bp3-intent-warning.bp3-disabled.bp3-active{
          background:rgba(217, 130, 43, 0.3); }
      .bp3-button.bp3-outlined.bp3-intent-warning .bp3-button-spinner .bp3-spinner-head{
        stroke:#bf7326; }
      .bp3-dark .bp3-button.bp3-outlined.bp3-intent-warning{
        color:#ffb366; }
        .bp3-dark .bp3-button.bp3-outlined.bp3-intent-warning:hover{
          background:rgba(217, 130, 43, 0.2);
          color:#ffb366; }
        .bp3-dark .bp3-button.bp3-outlined.bp3-intent-warning:active, .bp3-dark .bp3-button.bp3-outlined.bp3-intent-warning.bp3-active{
          background:rgba(217, 130, 43, 0.3);
          color:#ffb366; }
        .bp3-dark .bp3-button.bp3-outlined.bp3-intent-warning:disabled, .bp3-dark .bp3-button.bp3-outlined.bp3-intent-warning.bp3-disabled{
          background:none;
          color:rgba(255, 179, 102, 0.5); }
          .bp3-dark .bp3-button.bp3-outlined.bp3-intent-warning:disabled.bp3-active, .bp3-dark .bp3-button.bp3-outlined.bp3-intent-warning.bp3-disabled.bp3-active{
            background:rgba(217, 130, 43, 0.3); }
    .bp3-button.bp3-outlined.bp3-intent-danger{
      color:#c23030; }
      .bp3-button.bp3-outlined.bp3-intent-danger:hover, .bp3-button.bp3-outlined.bp3-intent-danger:active, .bp3-button.bp3-outlined.bp3-intent-danger.bp3-active{
        background:none;
        -webkit-box-shadow:none;
                box-shadow:none;
        color:#c23030; }
      .bp3-button.bp3-outlined.bp3-intent-danger:hover{
        background:rgba(219, 55, 55, 0.15);
        color:#c23030; }
      .bp3-button.bp3-outlined.bp3-intent-danger:active, .bp3-button.bp3-outlined.bp3-intent-danger.bp3-active{
        background:rgba(219, 55, 55, 0.3);
        color:#c23030; }
      .bp3-button.bp3-outlined.bp3-intent-danger:disabled, .bp3-button.bp3-outlined.bp3-intent-danger.bp3-disabled{
        background:none;
        color:rgba(194, 48, 48, 0.5); }
        .bp3-button.bp3-outlined.bp3-intent-danger:disabled.bp3-active, .bp3-button.bp3-outlined.bp3-intent-danger.bp3-disabled.bp3-active{
          background:rgba(219, 55, 55, 0.3); }
      .bp3-button.bp3-outlined.bp3-intent-danger .bp3-button-spinner .bp3-spinner-head{
        stroke:#c23030; }
      .bp3-dark .bp3-button.bp3-outlined.bp3-intent-danger{
        color:#ff7373; }
        .bp3-dark .bp3-button.bp3-outlined.bp3-intent-danger:hover{
          background:rgba(219, 55, 55, 0.2);
          color:#ff7373; }
        .bp3-dark .bp3-button.bp3-outlined.bp3-intent-danger:active, .bp3-dark .bp3-button.bp3-outlined.bp3-intent-danger.bp3-active{
          background:rgba(219, 55, 55, 0.3);
          color:#ff7373; }
        .bp3-dark .bp3-button.bp3-outlined.bp3-intent-danger:disabled, .bp3-dark .bp3-button.bp3-outlined.bp3-intent-danger.bp3-disabled{
          background:none;
          color:rgba(255, 115, 115, 0.5); }
          .bp3-dark .bp3-button.bp3-outlined.bp3-intent-danger:disabled.bp3-active, .bp3-dark .bp3-button.bp3-outlined.bp3-intent-danger.bp3-disabled.bp3-active{
            background:rgba(219, 55, 55, 0.3); }
    .bp3-button.bp3-outlined:disabled, .bp3-button.bp3-outlined.bp3-disabled, .bp3-button.bp3-outlined:disabled:hover, .bp3-button.bp3-outlined.bp3-disabled:hover{
      border-color:rgba(92, 112, 128, 0.1); }
    .bp3-dark .bp3-button.bp3-outlined{
      border-color:rgba(255, 255, 255, 0.4); }
      .bp3-dark .bp3-button.bp3-outlined:disabled, .bp3-dark .bp3-button.bp3-outlined:disabled:hover, .bp3-dark .bp3-button.bp3-outlined.bp3-disabled, .bp3-dark .bp3-button.bp3-outlined.bp3-disabled:hover{
        border-color:rgba(255, 255, 255, 0.2); }
    .bp3-button.bp3-outlined.bp3-intent-primary{
      border-color:rgba(16, 107, 163, 0.6); }
      .bp3-button.bp3-outlined.bp3-intent-primary:disabled, .bp3-button.bp3-outlined.bp3-intent-primary.bp3-disabled{
        border-color:rgba(16, 107, 163, 0.2); }
      .bp3-dark .bp3-button.bp3-outlined.bp3-intent-primary{
        border-color:rgba(72, 175, 240, 0.6); }
        .bp3-dark .bp3-button.bp3-outlined.bp3-intent-primary:disabled, .bp3-dark .bp3-button.bp3-outlined.bp3-intent-primary.bp3-disabled{
          border-color:rgba(72, 175, 240, 0.2); }
    .bp3-button.bp3-outlined.bp3-intent-success{
      border-color:rgba(13, 128, 80, 0.6); }
      .bp3-button.bp3-outlined.bp3-intent-success:disabled, .bp3-button.bp3-outlined.bp3-intent-success.bp3-disabled{
        border-color:rgba(13, 128, 80, 0.2); }
      .bp3-dark .bp3-button.bp3-outlined.bp3-intent-success{
        border-color:rgba(61, 204, 145, 0.6); }
        .bp3-dark .bp3-button.bp3-outlined.bp3-intent-success:disabled, .bp3-dark .bp3-button.bp3-outlined.bp3-intent-success.bp3-disabled{
          border-color:rgba(61, 204, 145, 0.2); }
    .bp3-button.bp3-outlined.bp3-intent-warning{
      border-color:rgba(191, 115, 38, 0.6); }
      .bp3-button.bp3-outlined.bp3-intent-warning:disabled, .bp3-button.bp3-outlined.bp3-intent-warning.bp3-disabled{
        border-color:rgba(191, 115, 38, 0.2); }
      .bp3-dark .bp3-button.bp3-outlined.bp3-intent-warning{
        border-color:rgba(255, 179, 102, 0.6); }
        .bp3-dark .bp3-button.bp3-outlined.bp3-intent-warning:disabled, .bp3-dark .bp3-button.bp3-outlined.bp3-intent-warning.bp3-disabled{
          border-color:rgba(255, 179, 102, 0.2); }
    .bp3-button.bp3-outlined.bp3-intent-danger{
      border-color:rgba(194, 48, 48, 0.6); }
      .bp3-button.bp3-outlined.bp3-intent-danger:disabled, .bp3-button.bp3-outlined.bp3-intent-danger.bp3-disabled{
        border-color:rgba(194, 48, 48, 0.2); }
      .bp3-dark .bp3-button.bp3-outlined.bp3-intent-danger{
        border-color:rgba(255, 115, 115, 0.6); }
        .bp3-dark .bp3-button.bp3-outlined.bp3-intent-danger:disabled, .bp3-dark .bp3-button.bp3-outlined.bp3-intent-danger.bp3-disabled{
          border-color:rgba(255, 115, 115, 0.2); }

a.bp3-button{
  text-align:center;
  text-decoration:none;
  -webkit-transition:none;
  transition:none; }
  a.bp3-button, a.bp3-button:hover, a.bp3-button:active{
    color:#182026; }
  a.bp3-button.bp3-disabled{
    color:rgba(92, 112, 128, 0.6); }

.bp3-button-text{
  -webkit-box-flex:0;
      -ms-flex:0 1 auto;
          flex:0 1 auto; }

.bp3-button.bp3-align-left .bp3-button-text, .bp3-button.bp3-align-right .bp3-button-text,
.bp3-button-group.bp3-align-left .bp3-button-text,
.bp3-button-group.bp3-align-right .bp3-button-text{
  -webkit-box-flex:1;
      -ms-flex:1 1 auto;
          flex:1 1 auto; }
.bp3-button-group{
  display:-webkit-inline-box;
  display:-ms-inline-flexbox;
  display:inline-flex; }
  .bp3-button-group .bp3-button{
    -webkit-box-flex:0;
        -ms-flex:0 0 auto;
            flex:0 0 auto;
    position:relative;
    z-index:4; }
    .bp3-button-group .bp3-button:focus{
      z-index:5; }
    .bp3-button-group .bp3-button:hover{
      z-index:6; }
    .bp3-button-group .bp3-button:active, .bp3-button-group .bp3-button.bp3-active{
      z-index:7; }
    .bp3-button-group .bp3-button:disabled, .bp3-button-group .bp3-button.bp3-disabled{
      z-index:3; }
    .bp3-button-group .bp3-button[class*="bp3-intent-"]{
      z-index:9; }
      .bp3-button-group .bp3-button[class*="bp3-intent-"]:focus{
        z-index:10; }
      .bp3-button-group .bp3-button[class*="bp3-intent-"]:hover{
        z-index:11; }
      .bp3-button-group .bp3-button[class*="bp3-intent-"]:active, .bp3-button-group .bp3-button[class*="bp3-intent-"].bp3-active{
        z-index:12; }
      .bp3-button-group .bp3-button[class*="bp3-intent-"]:disabled, .bp3-button-group .bp3-button[class*="bp3-intent-"].bp3-disabled{
        z-index:8; }
  .bp3-button-group:not(.bp3-minimal) > .bp3-popover-wrapper:not(:first-child) .bp3-button,
  .bp3-button-group:not(.bp3-minimal) > .bp3-button:not(:first-child){
    border-bottom-left-radius:0;
    border-top-left-radius:0; }
  .bp3-button-group:not(.bp3-minimal) > .bp3-popover-wrapper:not(:last-child) .bp3-button,
  .bp3-button-group:not(.bp3-minimal) > .bp3-button:not(:last-child){
    border-bottom-right-radius:0;
    border-top-right-radius:0;
    margin-right:-1px; }
  .bp3-button-group.bp3-minimal .bp3-button{
    background:none;
    -webkit-box-shadow:none;
            box-shadow:none; }
    .bp3-button-group.bp3-minimal .bp3-button:hover{
      background:rgba(167, 182, 194, 0.3);
      -webkit-box-shadow:none;
              box-shadow:none;
      color:#182026;
      text-decoration:none; }
    .bp3-button-group.bp3-minimal .bp3-button:active, .bp3-button-group.bp3-minimal .bp3-button.bp3-active{
      background:rgba(115, 134, 148, 0.3);
      -webkit-box-shadow:none;
              box-shadow:none;
      color:#182026; }
    .bp3-button-group.bp3-minimal .bp3-button:disabled, .bp3-button-group.bp3-minimal .bp3-button:disabled:hover, .bp3-button-group.bp3-minimal .bp3-button.bp3-disabled, .bp3-button-group.bp3-minimal .bp3-button.bp3-disabled:hover{
      background:none;
      color:rgba(92, 112, 128, 0.6);
      cursor:not-allowed; }
      .bp3-button-group.bp3-minimal .bp3-button:disabled.bp3-active, .bp3-button-group.bp3-minimal .bp3-button:disabled:hover.bp3-active, .bp3-button-group.bp3-minimal .bp3-button.bp3-disabled.bp3-active, .bp3-button-group.bp3-minimal .bp3-button.bp3-disabled:hover.bp3-active{
        background:rgba(115, 134, 148, 0.3); }
    .bp3-dark .bp3-button-group.bp3-minimal .bp3-button{
      background:none;
      -webkit-box-shadow:none;
              box-shadow:none;
      color:inherit; }
      .bp3-dark .bp3-button-group.bp3-minimal .bp3-button:hover, .bp3-dark .bp3-button-group.bp3-minimal .bp3-button:active, .bp3-dark .bp3-button-group.bp3-minimal .bp3-button.bp3-active{
        background:none;
        -webkit-box-shadow:none;
                box-shadow:none; }
      .bp3-dark .bp3-button-group.bp3-minimal .bp3-button:hover{
        background:rgba(138, 155, 168, 0.15); }
      .bp3-dark .bp3-button-group.bp3-minimal .bp3-button:active, .bp3-dark .bp3-button-group.bp3-minimal .bp3-button.bp3-active{
        background:rgba(138, 155, 168, 0.3);
        color:#f5f8fa; }
      .bp3-dark .bp3-button-group.bp3-minimal .bp3-button:disabled, .bp3-dark .bp3-button-group.bp3-minimal .bp3-button:disabled:hover, .bp3-dark .bp3-button-group.bp3-minimal .bp3-button.bp3-disabled, .bp3-dark .bp3-button-group.bp3-minimal .bp3-button.bp3-disabled:hover{
        background:none;
        color:rgba(167, 182, 194, 0.6);
        cursor:not-allowed; }
        .bp3-dark .bp3-button-group.bp3-minimal .bp3-button:disabled.bp3-active, .bp3-dark .bp3-button-group.bp3-minimal .bp3-button:disabled:hover.bp3-active, .bp3-dark .bp3-button-group.bp3-minimal .bp3-button.bp3-disabled.bp3-active, .bp3-dark .bp3-button-group.bp3-minimal .bp3-button.bp3-disabled:hover.bp3-active{
          background:rgba(138, 155, 168, 0.3); }
    .bp3-button-group.bp3-minimal .bp3-button.bp3-intent-primary{
      color:#106ba3; }
      .bp3-button-group.bp3-minimal .bp3-button.bp3-intent-primary:hover, .bp3-button-group.bp3-minimal .bp3-button.bp3-intent-primary:active, .bp3-button-group.bp3-minimal .bp3-button.bp3-intent-primary.bp3-active{
        background:none;
        -webkit-box-shadow:none;
                box-shadow:none;
        color:#106ba3; }
      .bp3-button-group.bp3-minimal .bp3-button.bp3-intent-primary:hover{
        background:rgba(19, 124, 189, 0.15);
        color:#106ba3; }
      .bp3-button-group.bp3-minimal .bp3-button.bp3-intent-primary:active, .bp3-button-group.bp3-minimal .bp3-button.bp3-intent-primary.bp3-active{
        background:rgba(19, 124, 189, 0.3);
        color:#106ba3; }
      .bp3-button-group.bp3-minimal .bp3-button.bp3-intent-primary:disabled, .bp3-button-group.bp3-minimal .bp3-button.bp3-intent-primary.bp3-disabled{
        background:none;
        color:rgba(16, 107, 163, 0.5); }
        .bp3-button-group.bp3-minimal .bp3-button.bp3-intent-primary:disabled.bp3-active, .bp3-button-group.bp3-minimal .bp3-button.bp3-intent-primary.bp3-disabled.bp3-active{
          background:rgba(19, 124, 189, 0.3); }
      .bp3-button-group.bp3-minimal .bp3-button.bp3-intent-primary .bp3-button-spinner .bp3-spinner-head{
        stroke:#106ba3; }
      .bp3-dark .bp3-button-group.bp3-minimal .bp3-button.bp3-intent-primary{
        color:#48aff0; }
        .bp3-dark .bp3-button-group.bp3-minimal .bp3-button.bp3-intent-primary:hover{
          background:rgba(19, 124, 189, 0.2);
          color:#48aff0; }
        .bp3-dark .bp3-button-group.bp3-minimal .bp3-button.bp3-intent-primary:active, .bp3-dark .bp3-button-group.bp3-minimal .bp3-button.bp3-intent-primary.bp3-active{
          background:rgba(19, 124, 189, 0.3);
          color:#48aff0; }
        .bp3-dark .bp3-button-group.bp3-minimal .bp3-button.bp3-intent-primary:disabled, .bp3-dark .bp3-button-group.bp3-minimal .bp3-button.bp3-intent-primary.bp3-disabled{
          background:none;
          color:rgba(72, 175, 240, 0.5); }
          .bp3-dark .bp3-button-group.bp3-minimal .bp3-button.bp3-intent-primary:disabled.bp3-active, .bp3-dark .bp3-button-group.bp3-minimal .bp3-button.bp3-intent-primary.bp3-disabled.bp3-active{
            background:rgba(19, 124, 189, 0.3); }
    .bp3-button-group.bp3-minimal .bp3-button.bp3-intent-success{
      color:#0d8050; }
      .bp3-button-group.bp3-minimal .bp3-button.bp3-intent-success:hover, .bp3-button-group.bp3-minimal .bp3-button.bp3-intent-success:active, .bp3-button-group.bp3-minimal .bp3-button.bp3-intent-success.bp3-active{
        background:none;
        -webkit-box-shadow:none;
                box-shadow:none;
        color:#0d8050; }
      .bp3-button-group.bp3-minimal .bp3-button.bp3-intent-success:hover{
        background:rgba(15, 153, 96, 0.15);
        color:#0d8050; }
      .bp3-button-group.bp3-minimal .bp3-button.bp3-intent-success:active, .bp3-button-group.bp3-minimal .bp3-button.bp3-intent-success.bp3-active{
        background:rgba(15, 153, 96, 0.3);
        color:#0d8050; }
      .bp3-button-group.bp3-minimal .bp3-button.bp3-intent-success:disabled, .bp3-button-group.bp3-minimal .bp3-button.bp3-intent-success.bp3-disabled{
        background:none;
        color:rgba(13, 128, 80, 0.5); }
        .bp3-button-group.bp3-minimal .bp3-button.bp3-intent-success:disabled.bp3-active, .bp3-button-group.bp3-minimal .bp3-button.bp3-intent-success.bp3-disabled.bp3-active{
          background:rgba(15, 153, 96, 0.3); }
      .bp3-button-group.bp3-minimal .bp3-button.bp3-intent-success .bp3-button-spinner .bp3-spinner-head{
        stroke:#0d8050; }
      .bp3-dark .bp3-button-group.bp3-minimal .bp3-button.bp3-intent-success{
        color:#3dcc91; }
        .bp3-dark .bp3-button-group.bp3-minimal .bp3-button.bp3-intent-success:hover{
          background:rgba(15, 153, 96, 0.2);
          color:#3dcc91; }
        .bp3-dark .bp3-button-group.bp3-minimal .bp3-button.bp3-intent-success:active, .bp3-dark .bp3-button-group.bp3-minimal .bp3-button.bp3-intent-success.bp3-active{
          background:rgba(15, 153, 96, 0.3);
          color:#3dcc91; }
        .bp3-dark .bp3-button-group.bp3-minimal .bp3-button.bp3-intent-success:disabled, .bp3-dark .bp3-button-group.bp3-minimal .bp3-button.bp3-intent-success.bp3-disabled{
          background:none;
          color:rgba(61, 204, 145, 0.5); }
          .bp3-dark .bp3-button-group.bp3-minimal .bp3-button.bp3-intent-success:disabled.bp3-active, .bp3-dark .bp3-button-group.bp3-minimal .bp3-button.bp3-intent-success.bp3-disabled.bp3-active{
            background:rgba(15, 153, 96, 0.3); }
    .bp3-button-group.bp3-minimal .bp3-button.bp3-intent-warning{
      color:#bf7326; }
      .bp3-button-group.bp3-minimal .bp3-button.bp3-intent-warning:hover, .bp3-button-group.bp3-minimal .bp3-button.bp3-intent-warning:active, .bp3-button-group.bp3-minimal .bp3-button.bp3-intent-warning.bp3-active{
        background:none;
        -webkit-box-shadow:none;
                box-shadow:none;
        color:#bf7326; }
      .bp3-button-group.bp3-minimal .bp3-button.bp3-intent-warning:hover{
        background:rgba(217, 130, 43, 0.15);
        color:#bf7326; }
      .bp3-button-group.bp3-minimal .bp3-button.bp3-intent-warning:active, .bp3-button-group.bp3-minimal .bp3-button.bp3-intent-warning.bp3-active{
        background:rgba(217, 130, 43, 0.3);
        color:#bf7326; }
      .bp3-button-group.bp3-minimal .bp3-button.bp3-intent-warning:disabled, .bp3-button-group.bp3-minimal .bp3-button.bp3-intent-warning.bp3-disabled{
        background:none;
        color:rgba(191, 115, 38, 0.5); }
        .bp3-button-group.bp3-minimal .bp3-button.bp3-intent-warning:disabled.bp3-active, .bp3-button-group.bp3-minimal .bp3-button.bp3-intent-warning.bp3-disabled.bp3-active{
          background:rgba(217, 130, 43, 0.3); }
      .bp3-button-group.bp3-minimal .bp3-button.bp3-intent-warning .bp3-button-spinner .bp3-spinner-head{
        stroke:#bf7326; }
      .bp3-dark .bp3-button-group.bp3-minimal .bp3-button.bp3-intent-warning{
        color:#ffb366; }
        .bp3-dark .bp3-button-group.bp3-minimal .bp3-button.bp3-intent-warning:hover{
          background:rgba(217, 130, 43, 0.2);
          color:#ffb366; }
        .bp3-dark .bp3-button-group.bp3-minimal .bp3-button.bp3-intent-warning:active, .bp3-dark .bp3-button-group.bp3-minimal .bp3-button.bp3-intent-warning.bp3-active{
          background:rgba(217, 130, 43, 0.3);
          color:#ffb366; }
        .bp3-dark .bp3-button-group.bp3-minimal .bp3-button.bp3-intent-warning:disabled, .bp3-dark .bp3-button-group.bp3-minimal .bp3-button.bp3-intent-warning.bp3-disabled{
          background:none;
          color:rgba(255, 179, 102, 0.5); }
          .bp3-dark .bp3-button-group.bp3-minimal .bp3-button.bp3-intent-warning:disabled.bp3-active, .bp3-dark .bp3-button-group.bp3-minimal .bp3-button.bp3-intent-warning.bp3-disabled.bp3-active{
            background:rgba(217, 130, 43, 0.3); }
    .bp3-button-group.bp3-minimal .bp3-button.bp3-intent-danger{
      color:#c23030; }
      .bp3-button-group.bp3-minimal .bp3-button.bp3-intent-danger:hover, .bp3-button-group.bp3-minimal .bp3-button.bp3-intent-danger:active, .bp3-button-group.bp3-minimal .bp3-button.bp3-intent-danger.bp3-active{
        background:none;
        -webkit-box-shadow:none;
                box-shadow:none;
        color:#c23030; }
      .bp3-button-group.bp3-minimal .bp3-button.bp3-intent-danger:hover{
        background:rgba(219, 55, 55, 0.15);
        color:#c23030; }
      .bp3-button-group.bp3-minimal .bp3-button.bp3-intent-danger:active, .bp3-button-group.bp3-minimal .bp3-button.bp3-intent-danger.bp3-active{
        background:rgba(219, 55, 55, 0.3);
        color:#c23030; }
      .bp3-button-group.bp3-minimal .bp3-button.bp3-intent-danger:disabled, .bp3-button-group.bp3-minimal .bp3-button.bp3-intent-danger.bp3-disabled{
        background:none;
        color:rgba(194, 48, 48, 0.5); }
        .bp3-button-group.bp3-minimal .bp3-button.bp3-intent-danger:disabled.bp3-active, .bp3-button-group.bp3-minimal .bp3-button.bp3-intent-danger.bp3-disabled.bp3-active{
          background:rgba(219, 55, 55, 0.3); }
      .bp3-button-group.bp3-minimal .bp3-button.bp3-intent-danger .bp3-button-spinner .bp3-spinner-head{
        stroke:#c23030; }
      .bp3-dark .bp3-button-group.bp3-minimal .bp3-button.bp3-intent-danger{
        color:#ff7373; }
        .bp3-dark .bp3-button-group.bp3-minimal .bp3-button.bp3-intent-danger:hover{
          background:rgba(219, 55, 55, 0.2);
          color:#ff7373; }
        .bp3-dark .bp3-button-group.bp3-minimal .bp3-button.bp3-intent-danger:active, .bp3-dark .bp3-button-group.bp3-minimal .bp3-button.bp3-intent-danger.bp3-active{
          background:rgba(219, 55, 55, 0.3);
          color:#ff7373; }
        .bp3-dark .bp3-button-group.bp3-minimal .bp3-button.bp3-intent-danger:disabled, .bp3-dark .bp3-button-group.bp3-minimal .bp3-button.bp3-intent-danger.bp3-disabled{
          background:none;
          color:rgba(255, 115, 115, 0.5); }
          .bp3-dark .bp3-button-group.bp3-minimal .bp3-button.bp3-intent-danger:disabled.bp3-active, .bp3-dark .bp3-button-group.bp3-minimal .bp3-button.bp3-intent-danger.bp3-disabled.bp3-active{
            background:rgba(219, 55, 55, 0.3); }
  .bp3-button-group .bp3-popover-wrapper,
  .bp3-button-group .bp3-popover-target{
    display:-webkit-box;
    display:-ms-flexbox;
    display:flex;
    -webkit-box-flex:1;
        -ms-flex:1 1 auto;
            flex:1 1 auto; }
  .bp3-button-group.bp3-fill{
    display:-webkit-box;
    display:-ms-flexbox;
    display:flex;
    width:100%; }
  .bp3-button-group .bp3-button.bp3-fill,
  .bp3-button-group.bp3-fill .bp3-button:not(.bp3-fixed){
    -webkit-box-flex:1;
        -ms-flex:1 1 auto;
            flex:1 1 auto; }
  .bp3-button-group.bp3-vertical{
    -webkit-box-align:stretch;
        -ms-flex-align:stretch;
            align-items:stretch;
    -webkit-box-orient:vertical;
    -webkit-box-direction:normal;
        -ms-flex-direction:column;
            flex-direction:column;
    vertical-align:top; }
    .bp3-button-group.bp3-vertical.bp3-fill{
      height:100%;
      width:unset; }
    .bp3-button-group.bp3-vertical .bp3-button{
      margin-right:0 !important;
      width:100%; }
    .bp3-button-group.bp3-vertical:not(.bp3-minimal) > .bp3-popover-wrapper:first-child .bp3-button,
    .bp3-button-group.bp3-vertical:not(.bp3-minimal) > .bp3-button:first-child{
      border-radius:3px 3px 0 0; }
    .bp3-button-group.bp3-vertical:not(.bp3-minimal) > .bp3-popover-wrapper:last-child .bp3-button,
    .bp3-button-group.bp3-vertical:not(.bp3-minimal) > .bp3-button:last-child{
      border-radius:0 0 3px 3px; }
    .bp3-button-group.bp3-vertical:not(.bp3-minimal) > .bp3-popover-wrapper:not(:last-child) .bp3-button,
    .bp3-button-group.bp3-vertical:not(.bp3-minimal) > .bp3-button:not(:last-child){
      margin-bottom:-1px; }
  .bp3-button-group.bp3-align-left .bp3-button{
    text-align:left; }
  .bp3-dark .bp3-button-group:not(.bp3-minimal) > .bp3-popover-wrapper:not(:last-child) .bp3-button,
  .bp3-dark .bp3-button-group:not(.bp3-minimal) > .bp3-button:not(:last-child){
    margin-right:1px; }
  .bp3-dark .bp3-button-group.bp3-vertical > .bp3-popover-wrapper:not(:last-child) .bp3-button,
  .bp3-dark .bp3-button-group.bp3-vertical > .bp3-button:not(:last-child){
    margin-bottom:1px; }
.bp3-callout{
  font-size:14px;
  line-height:1.5;
  background-color:rgba(138, 155, 168, 0.15);
  border-radius:3px;
  padding:10px 12px 9px;
  position:relative;
  width:100%; }
  .bp3-callout[class*="bp3-icon-"]{
    padding-left:40px; }
    .bp3-callout[class*="bp3-icon-"]::before{
      font-family:"Icons20", sans-serif;
      font-size:20px;
      font-style:normal;
      font-weight:400;
      line-height:1;
      -moz-osx-font-smoothing:grayscale;
      -webkit-font-smoothing:antialiased;
      color:#5c7080;
      left:10px;
      position:absolute;
      top:10px; }
  .bp3-callout.bp3-callout-icon{
    padding-left:40px; }
    .bp3-callout.bp3-callout-icon > .bp3-icon:first-child{
      color:#5c7080;
      left:10px;
      position:absolute;
      top:10px; }
  .bp3-callout .bp3-heading{
    line-height:20px;
    margin-bottom:5px;
    margin-top:0; }
    .bp3-callout .bp3-heading:last-child{
      margin-bottom:0; }
  .bp3-dark .bp3-callout{
    background-color:rgba(138, 155, 168, 0.2); }
    .bp3-dark .bp3-callout[class*="bp3-icon-"]::before{
      color:#a7b6c2; }
  .bp3-callout.bp3-intent-primary{
    background-color:rgba(19, 124, 189, 0.15); }
    .bp3-callout.bp3-intent-primary[class*="bp3-icon-"]::before,
    .bp3-callout.bp3-intent-primary > .bp3-icon:first-child,
    .bp3-callout.bp3-intent-primary .bp3-heading{
      color:#106ba3; }
    .bp3-dark .bp3-callout.bp3-intent-primary{
      background-color:rgba(19, 124, 189, 0.25); }
      .bp3-dark .bp3-callout.bp3-intent-primary[class*="bp3-icon-"]::before,
      .bp3-dark .bp3-callout.bp3-intent-primary > .bp3-icon:first-child,
      .bp3-dark .bp3-callout.bp3-intent-primary .bp3-heading{
        color:#48aff0; }
  .bp3-callout.bp3-intent-success{
    background-color:rgba(15, 153, 96, 0.15); }
    .bp3-callout.bp3-intent-success[class*="bp3-icon-"]::before,
    .bp3-callout.bp3-intent-success > .bp3-icon:first-child,
    .bp3-callout.bp3-intent-success .bp3-heading{
      color:#0d8050; }
    .bp3-dark .bp3-callout.bp3-intent-success{
      background-color:rgba(15, 153, 96, 0.25); }
      .bp3-dark .bp3-callout.bp3-intent-success[class*="bp3-icon-"]::before,
      .bp3-dark .bp3-callout.bp3-intent-success > .bp3-icon:first-child,
      .bp3-dark .bp3-callout.bp3-intent-success .bp3-heading{
        color:#3dcc91; }
  .bp3-callout.bp3-intent-warning{
    background-color:rgba(217, 130, 43, 0.15); }
    .bp3-callout.bp3-intent-warning[class*="bp3-icon-"]::before,
    .bp3-callout.bp3-intent-warning > .bp3-icon:first-child,
    .bp3-callout.bp3-intent-warning .bp3-heading{
      color:#bf7326; }
    .bp3-dark .bp3-callout.bp3-intent-warning{
      background-color:rgba(217, 130, 43, 0.25); }
      .bp3-dark .bp3-callout.bp3-intent-warning[class*="bp3-icon-"]::before,
      .bp3-dark .bp3-callout.bp3-intent-warning > .bp3-icon:first-child,
      .bp3-dark .bp3-callout.bp3-intent-warning .bp3-heading{
        color:#ffb366; }
  .bp3-callout.bp3-intent-danger{
    background-color:rgba(219, 55, 55, 0.15); }
    .bp3-callout.bp3-intent-danger[class*="bp3-icon-"]::before,
    .bp3-callout.bp3-intent-danger > .bp3-icon:first-child,
    .bp3-callout.bp3-intent-danger .bp3-heading{
      color:#c23030; }
    .bp3-dark .bp3-callout.bp3-intent-danger{
      background-color:rgba(219, 55, 55, 0.25); }
      .bp3-dark .bp3-callout.bp3-intent-danger[class*="bp3-icon-"]::before,
      .bp3-dark .bp3-callout.bp3-intent-danger > .bp3-icon:first-child,
      .bp3-dark .bp3-callout.bp3-intent-danger .bp3-heading{
        color:#ff7373; }
  .bp3-running-text .bp3-callout{
    margin:20px 0; }
.bp3-card{
  background-color:#ffffff;
  border-radius:3px;
  -webkit-box-shadow:0 0 0 1px rgba(16, 22, 26, 0.15), 0 0 0 rgba(16, 22, 26, 0), 0 0 0 rgba(16, 22, 26, 0);
          box-shadow:0 0 0 1px rgba(16, 22, 26, 0.15), 0 0 0 rgba(16, 22, 26, 0), 0 0 0 rgba(16, 22, 26, 0);
  padding:20px;
  -webkit-transition:-webkit-transform 200ms cubic-bezier(0.4, 1, 0.75, 0.9), -webkit-box-shadow 200ms cubic-bezier(0.4, 1, 0.75, 0.9);
  transition:-webkit-transform 200ms cubic-bezier(0.4, 1, 0.75, 0.9), -webkit-box-shadow 200ms cubic-bezier(0.4, 1, 0.75, 0.9);
  transition:transform 200ms cubic-bezier(0.4, 1, 0.75, 0.9), box-shadow 200ms cubic-bezier(0.4, 1, 0.75, 0.9);
  transition:transform 200ms cubic-bezier(0.4, 1, 0.75, 0.9), box-shadow 200ms cubic-bezier(0.4, 1, 0.75, 0.9), -webkit-transform 200ms cubic-bezier(0.4, 1, 0.75, 0.9), -webkit-box-shadow 200ms cubic-bezier(0.4, 1, 0.75, 0.9); }
  .bp3-card.bp3-dark,
  .bp3-dark .bp3-card{
    background-color:#30404d;
    -webkit-box-shadow:0 0 0 1px rgba(16, 22, 26, 0.4), 0 0 0 rgba(16, 22, 26, 0), 0 0 0 rgba(16, 22, 26, 0);
            box-shadow:0 0 0 1px rgba(16, 22, 26, 0.4), 0 0 0 rgba(16, 22, 26, 0), 0 0 0 rgba(16, 22, 26, 0); }

.bp3-elevation-0{
  -webkit-box-shadow:0 0 0 1px rgba(16, 22, 26, 0.15), 0 0 0 rgba(16, 22, 26, 0), 0 0 0 rgba(16, 22, 26, 0);
          box-shadow:0 0 0 1px rgba(16, 22, 26, 0.15), 0 0 0 rgba(16, 22, 26, 0), 0 0 0 rgba(16, 22, 26, 0); }
  .bp3-elevation-0.bp3-dark,
  .bp3-dark .bp3-elevation-0{
    -webkit-box-shadow:0 0 0 1px rgba(16, 22, 26, 0.4), 0 0 0 rgba(16, 22, 26, 0), 0 0 0 rgba(16, 22, 26, 0);
            box-shadow:0 0 0 1px rgba(16, 22, 26, 0.4), 0 0 0 rgba(16, 22, 26, 0), 0 0 0 rgba(16, 22, 26, 0); }

.bp3-elevation-1{
  -webkit-box-shadow:0 0 0 1px rgba(16, 22, 26, 0.1), 0 0 0 rgba(16, 22, 26, 0), 0 1px 1px rgba(16, 22, 26, 0.2);
          box-shadow:0 0 0 1px rgba(16, 22, 26, 0.1), 0 0 0 rgba(16, 22, 26, 0), 0 1px 1px rgba(16, 22, 26, 0.2); }
  .bp3-elevation-1.bp3-dark,
  .bp3-dark .bp3-elevation-1{
    -webkit-box-shadow:0 0 0 1px rgba(16, 22, 26, 0.2), 0 0 0 rgba(16, 22, 26, 0), 0 1px 1px rgba(16, 22, 26, 0.4);
            box-shadow:0 0 0 1px rgba(16, 22, 26, 0.2), 0 0 0 rgba(16, 22, 26, 0), 0 1px 1px rgba(16, 22, 26, 0.4); }

.bp3-elevation-2{
  -webkit-box-shadow:0 0 0 1px rgba(16, 22, 26, 0.1), 0 1px 1px rgba(16, 22, 26, 0.2), 0 2px 6px rgba(16, 22, 26, 0.2);
          box-shadow:0 0 0 1px rgba(16, 22, 26, 0.1), 0 1px 1px rgba(16, 22, 26, 0.2), 0 2px 6px rgba(16, 22, 26, 0.2); }
  .bp3-elevation-2.bp3-dark,
  .bp3-dark .bp3-elevation-2{
    -webkit-box-shadow:0 0 0 1px rgba(16, 22, 26, 0.2), 0 1px 1px rgba(16, 22, 26, 0.4), 0 2px 6px rgba(16, 22, 26, 0.4);
            box-shadow:0 0 0 1px rgba(16, 22, 26, 0.2), 0 1px 1px rgba(16, 22, 26, 0.4), 0 2px 6px rgba(16, 22, 26, 0.4); }

.bp3-elevation-3{
  -webkit-box-shadow:0 0 0 1px rgba(16, 22, 26, 0.1), 0 2px 4px rgba(16, 22, 26, 0.2), 0 8px 24px rgba(16, 22, 26, 0.2);
          box-shadow:0 0 0 1px rgba(16, 22, 26, 0.1), 0 2px 4px rgba(16, 22, 26, 0.2), 0 8px 24px rgba(16, 22, 26, 0.2); }
  .bp3-elevation-3.bp3-dark,
  .bp3-dark .bp3-elevation-3{
    -webkit-box-shadow:0 0 0 1px rgba(16, 22, 26, 0.2), 0 2px 4px rgba(16, 22, 26, 0.4), 0 8px 24px rgba(16, 22, 26, 0.4);
            box-shadow:0 0 0 1px rgba(16, 22, 26, 0.2), 0 2px 4px rgba(16, 22, 26, 0.4), 0 8px 24px rgba(16, 22, 26, 0.4); }

.bp3-elevation-4{
  -webkit-box-shadow:0 0 0 1px rgba(16, 22, 26, 0.1), 0 4px 8px rgba(16, 22, 26, 0.2), 0 18px 46px 6px rgba(16, 22, 26, 0.2);
          box-shadow:0 0 0 1px rgba(16, 22, 26, 0.1), 0 4px 8px rgba(16, 22, 26, 0.2), 0 18px 46px 6px rgba(16, 22, 26, 0.2); }
  .bp3-elevation-4.bp3-dark,
  .bp3-dark .bp3-elevation-4{
    -webkit-box-shadow:0 0 0 1px rgba(16, 22, 26, 0.2), 0 4px 8px rgba(16, 22, 26, 0.4), 0 18px 46px 6px rgba(16, 22, 26, 0.4);
            box-shadow:0 0 0 1px rgba(16, 22, 26, 0.2), 0 4px 8px rgba(16, 22, 26, 0.4), 0 18px 46px 6px rgba(16, 22, 26, 0.4); }

.bp3-card.bp3-interactive:hover{
  -webkit-box-shadow:0 0 0 1px rgba(16, 22, 26, 0.1), 0 2px 4px rgba(16, 22, 26, 0.2), 0 8px 24px rgba(16, 22, 26, 0.2);
          box-shadow:0 0 0 1px rgba(16, 22, 26, 0.1), 0 2px 4px rgba(16, 22, 26, 0.2), 0 8px 24px rgba(16, 22, 26, 0.2);
  cursor:pointer; }
  .bp3-card.bp3-interactive:hover.bp3-dark,
  .bp3-dark .bp3-card.bp3-interactive:hover{
    -webkit-box-shadow:0 0 0 1px rgba(16, 22, 26, 0.2), 0 2px 4px rgba(16, 22, 26, 0.4), 0 8px 24px rgba(16, 22, 26, 0.4);
            box-shadow:0 0 0 1px rgba(16, 22, 26, 0.2), 0 2px 4px rgba(16, 22, 26, 0.4), 0 8px 24px rgba(16, 22, 26, 0.4); }

.bp3-card.bp3-interactive:active{
  -webkit-box-shadow:0 0 0 1px rgba(16, 22, 26, 0.1), 0 0 0 rgba(16, 22, 26, 0), 0 1px 1px rgba(16, 22, 26, 0.2);
          box-shadow:0 0 0 1px rgba(16, 22, 26, 0.1), 0 0 0 rgba(16, 22, 26, 0), 0 1px 1px rgba(16, 22, 26, 0.2);
  opacity:0.9;
  -webkit-transition-duration:0;
          transition-duration:0; }
  .bp3-card.bp3-interactive:active.bp3-dark,
  .bp3-dark .bp3-card.bp3-interactive:active{
    -webkit-box-shadow:0 0 0 1px rgba(16, 22, 26, 0.2), 0 0 0 rgba(16, 22, 26, 0), 0 1px 1px rgba(16, 22, 26, 0.4);
            box-shadow:0 0 0 1px rgba(16, 22, 26, 0.2), 0 0 0 rgba(16, 22, 26, 0), 0 1px 1px rgba(16, 22, 26, 0.4); }

.bp3-collapse{
  height:0;
  overflow-y:hidden;
  -webkit-transition:height 200ms cubic-bezier(0.4, 1, 0.75, 0.9);
  transition:height 200ms cubic-bezier(0.4, 1, 0.75, 0.9); }
  .bp3-collapse .bp3-collapse-body{
    -webkit-transition:-webkit-transform 200ms cubic-bezier(0.4, 1, 0.75, 0.9);
    transition:-webkit-transform 200ms cubic-bezier(0.4, 1, 0.75, 0.9);
    transition:transform 200ms cubic-bezier(0.4, 1, 0.75, 0.9);
    transition:transform 200ms cubic-bezier(0.4, 1, 0.75, 0.9), -webkit-transform 200ms cubic-bezier(0.4, 1, 0.75, 0.9); }
    .bp3-collapse .bp3-collapse-body[aria-hidden="true"]{
      display:none; }

.bp3-context-menu .bp3-popover-target{
  display:block; }

.bp3-context-menu-popover-target{
  position:fixed; }

.bp3-divider{
  border-bottom:1px solid rgba(16, 22, 26, 0.15);
  border-right:1px solid rgba(16, 22, 26, 0.15);
  margin:5px; }
  .bp3-dark .bp3-divider{
    border-color:rgba(16, 22, 26, 0.4); }
.bp3-dialog-container{
  opacity:1;
  -webkit-transform:scale(1);
          transform:scale(1);
  -webkit-box-align:center;
      -ms-flex-align:center;
          align-items:center;
  display:-webkit-box;
  display:-ms-flexbox;
  display:flex;
  -webkit-box-pack:center;
      -ms-flex-pack:center;
          justify-content:center;
  min-height:100%;
  pointer-events:none;
  -webkit-user-select:none;
     -moz-user-select:none;
      -ms-user-select:none;
          user-select:none;
  width:100%; }
  .bp3-dialog-container.bp3-overlay-enter > .bp3-dialog, .bp3-dialog-container.bp3-overlay-appear > .bp3-dialog{
    opacity:0;
    -webkit-transform:scale(0.5);
            transform:scale(0.5); }
  .bp3-dialog-container.bp3-overlay-enter-active > .bp3-dialog, .bp3-dialog-container.bp3-overlay-appear-active > .bp3-dialog{
    opacity:1;
    -webkit-transform:scale(1);
            transform:scale(1);
    -webkit-transition-delay:0;
            transition-delay:0;
    -webkit-transition-duration:300ms;
            transition-duration:300ms;
    -webkit-transition-property:opacity, -webkit-transform;
    transition-property:opacity, -webkit-transform;
    transition-property:opacity, transform;
    transition-property:opacity, transform, -webkit-transform;
    -webkit-transition-timing-function:cubic-bezier(0.54, 1.12, 0.38, 1.11);
            transition-timing-function:cubic-bezier(0.54, 1.12, 0.38, 1.11); }
  .bp3-dialog-container.bp3-overlay-exit > .bp3-dialog{
    opacity:1;
    -webkit-transform:scale(1);
            transform:scale(1); }
  .bp3-dialog-container.bp3-overlay-exit-active > .bp3-dialog{
    opacity:0;
    -webkit-transform:scale(0.5);
            transform:scale(0.5);
    -webkit-transition-delay:0;
            transition-delay:0;
    -webkit-transition-duration:300ms;
            transition-duration:300ms;
    -webkit-transition-property:opacity, -webkit-transform;
    transition-property:opacity, -webkit-transform;
    transition-property:opacity, transform;
    transition-property:opacity, transform, -webkit-transform;
    -webkit-transition-timing-function:cubic-bezier(0.54, 1.12, 0.38, 1.11);
            transition-timing-function:cubic-bezier(0.54, 1.12, 0.38, 1.11); }

.bp3-dialog{
  background:#ebf1f5;
  border-radius:6px;
  -webkit-box-shadow:0 0 0 1px rgba(16, 22, 26, 0.1), 0 4px 8px rgba(16, 22, 26, 0.2), 0 18px 46px 6px rgba(16, 22, 26, 0.2);
          box-shadow:0 0 0 1px rgba(16, 22, 26, 0.1), 0 4px 8px rgba(16, 22, 26, 0.2), 0 18px 46px 6px rgba(16, 22, 26, 0.2);
  display:-webkit-box;
  display:-ms-flexbox;
  display:flex;
  -webkit-box-orient:vertical;
  -webkit-box-direction:normal;
      -ms-flex-direction:column;
          flex-direction:column;
  margin:30px 0;
  padding-bottom:20px;
  pointer-events:all;
  -webkit-user-select:text;
     -moz-user-select:text;
      -ms-user-select:text;
          user-select:text;
  width:500px; }
  .bp3-dialog:focus{
    outline:0; }
  .bp3-dialog.bp3-dark,
  .bp3-dark .bp3-dialog{
    background:#293742;
    -webkit-box-shadow:0 0 0 1px rgba(16, 22, 26, 0.2), 0 4px 8px rgba(16, 22, 26, 0.4), 0 18px 46px 6px rgba(16, 22, 26, 0.4);
            box-shadow:0 0 0 1px rgba(16, 22, 26, 0.2), 0 4px 8px rgba(16, 22, 26, 0.4), 0 18px 46px 6px rgba(16, 22, 26, 0.4);
    color:#f5f8fa; }

.bp3-dialog-header{
  -webkit-box-align:center;
      -ms-flex-align:center;
          align-items:center;
  background:#ffffff;
  border-radius:6px 6px 0 0;
  -webkit-box-shadow:0 1px 0 rgba(16, 22, 26, 0.15);
          box-shadow:0 1px 0 rgba(16, 22, 26, 0.15);
  display:-webkit-box;
  display:-ms-flexbox;
  display:flex;
  -webkit-box-flex:0;
      -ms-flex:0 0 auto;
          flex:0 0 auto;
  min-height:40px;
  padding-left:20px;
  padding-right:5px;
  z-index:30; }
  .bp3-dialog-header .bp3-icon-large,
  .bp3-dialog-header .bp3-icon{
    color:#5c7080;
    -webkit-box-flex:0;
        -ms-flex:0 0 auto;
            flex:0 0 auto;
    margin-right:10px; }
  .bp3-dialog-header .bp3-heading{
    overflow:hidden;
    text-overflow:ellipsis;
    white-space:nowrap;
    word-wrap:normal;
    -webkit-box-flex:1;
        -ms-flex:1 1 auto;
            flex:1 1 auto;
    line-height:inherit;
    margin:0; }
    .bp3-dialog-header .bp3-heading:last-child{
      margin-right:20px; }
  .bp3-dark .bp3-dialog-header{
    background:#30404d;
    -webkit-box-shadow:0 1px 0 rgba(16, 22, 26, 0.4);
            box-shadow:0 1px 0 rgba(16, 22, 26, 0.4); }
    .bp3-dark .bp3-dialog-header .bp3-icon-large,
    .bp3-dark .bp3-dialog-header .bp3-icon{
      color:#a7b6c2; }

.bp3-dialog-body{
  -webkit-box-flex:1;
      -ms-flex:1 1 auto;
          flex:1 1 auto;
  line-height:18px;
  margin:20px; }

.bp3-dialog-footer{
  -webkit-box-flex:0;
      -ms-flex:0 0 auto;
          flex:0 0 auto;
  margin:0 20px; }

.bp3-dialog-footer-actions{
  display:-webkit-box;
  display:-ms-flexbox;
  display:flex;
  -webkit-box-pack:end;
      -ms-flex-pack:end;
          justify-content:flex-end; }
  .bp3-dialog-footer-actions .bp3-button{
    margin-left:10px; }
.bp3-multistep-dialog-panels{
  display:-webkit-box;
  display:-ms-flexbox;
  display:flex; }

.bp3-multistep-dialog-left-panel{
  display:-webkit-box;
  display:-ms-flexbox;
  display:flex;
  -webkit-box-flex:1;
      -ms-flex:1;
          flex:1;
  -webkit-box-orient:vertical;
  -webkit-box-direction:normal;
      -ms-flex-direction:column;
          flex-direction:column; }
  .bp3-dark .bp3-multistep-dialog-left-panel{
    background:#202b33; }

.bp3-multistep-dialog-right-panel{
  background-color:#f5f8fa;
  border-left:1px solid rgba(16, 22, 26, 0.15);
  border-radius:0 0 6px 0;
  -webkit-box-flex:3;
      -ms-flex:3;
          flex:3;
  min-width:0; }
  .bp3-dark .bp3-multistep-dialog-right-panel{
    background-color:#293742;
    border-left:1px solid rgba(16, 22, 26, 0.4); }

.bp3-multistep-dialog-footer{
  background-color:#ffffff;
  border-radius:0 0 6px 0;
  border-top:1px solid rgba(16, 22, 26, 0.15);
  padding:10px; }
  .bp3-dark .bp3-multistep-dialog-footer{
    background:#30404d;
    border-top:1px solid rgba(16, 22, 26, 0.4); }

.bp3-dialog-step-container{
  background-color:#f5f8fa;
  border-bottom:1px solid rgba(16, 22, 26, 0.15); }
  .bp3-dark .bp3-dialog-step-container{
    background:#293742;
    border-bottom:1px solid rgba(16, 22, 26, 0.4); }
  .bp3-dialog-step-container.bp3-dialog-step-viewed{
    background-color:#ffffff; }
    .bp3-dark .bp3-dialog-step-container.bp3-dialog-step-viewed{
      background:#30404d; }

.bp3-dialog-step{
  -webkit-box-align:center;
      -ms-flex-align:center;
          align-items:center;
  background-color:#f5f8fa;
  border-radius:6px;
  cursor:not-allowed;
  display:-webkit-box;
  display:-ms-flexbox;
  display:flex;
  margin:4px;
  padding:6px 14px; }
  .bp3-dark .bp3-dialog-step{
    background:#293742; }
  .bp3-dialog-step-viewed .bp3-dialog-step{
    background-color:#ffffff;
    cursor:pointer; }
    .bp3-dark .bp3-dialog-step-viewed .bp3-dialog-step{
      background:#30404d; }
  .bp3-dialog-step:hover{
    background-color:#f5f8fa; }
    .bp3-dark .bp3-dialog-step:hover{
      background:#293742; }

.bp3-dialog-step-icon{
  -webkit-box-align:center;
      -ms-flex-align:center;
          align-items:center;
  background-color:rgba(92, 112, 128, 0.6);
  border-radius:50%;
  color:#ffffff;
  display:-webkit-box;
  display:-ms-flexbox;
  display:flex;
  height:25px;
  -webkit-box-pack:center;
      -ms-flex-pack:center;
          justify-content:center;
  width:25px; }
  .bp3-dark .bp3-dialog-step-icon{
    background-color:rgba(167, 182, 194, 0.6); }
  .bp3-active.bp3-dialog-step-viewed .bp3-dialog-step-icon{
    background-color:#2b95d6; }
  .bp3-dialog-step-viewed .bp3-dialog-step-icon{
    background-color:#8a9ba8; }

.bp3-dialog-step-title{
  color:rgba(92, 112, 128, 0.6);
  -webkit-box-flex:1;
      -ms-flex:1;
          flex:1;
  padding-left:10px; }
  .bp3-dark .bp3-dialog-step-title{
    color:rgba(167, 182, 194, 0.6); }
  .bp3-active.bp3-dialog-step-viewed .bp3-dialog-step-title{
    color:#2b95d6; }
  .bp3-dialog-step-viewed:not(.bp3-active) .bp3-dialog-step-title{
    color:#182026; }
    .bp3-dark .bp3-dialog-step-viewed:not(.bp3-active) .bp3-dialog-step-title{
      color:#f5f8fa; }
.bp3-drawer{
  background:#ffffff;
  -webkit-box-shadow:0 0 0 1px rgba(16, 22, 26, 0.1), 0 4px 8px rgba(16, 22, 26, 0.2), 0 18px 46px 6px rgba(16, 22, 26, 0.2);
          box-shadow:0 0 0 1px rgba(16, 22, 26, 0.1), 0 4px 8px rgba(16, 22, 26, 0.2), 0 18px 46px 6px rgba(16, 22, 26, 0.2);
  display:-webkit-box;
  display:-ms-flexbox;
  display:flex;
  -webkit-box-orient:vertical;
  -webkit-box-direction:normal;
      -ms-flex-direction:column;
          flex-direction:column;
  margin:0;
  padding:0; }
  .bp3-drawer:focus{
    outline:0; }
  .bp3-drawer.bp3-position-top{
    height:50%;
    left:0;
    right:0;
    top:0; }
    .bp3-drawer.bp3-position-top.bp3-overlay-enter, .bp3-drawer.bp3-position-top.bp3-overlay-appear{
      -webkit-transform:translateY(-100%);
              transform:translateY(-100%); }
    .bp3-drawer.bp3-position-top.bp3-overlay-enter-active, .bp3-drawer.bp3-position-top.bp3-overlay-appear-active{
      -webkit-transform:translateY(0);
              transform:translateY(0);
      -webkit-transition-delay:0;
              transition-delay:0;
      -webkit-transition-duration:200ms;
              transition-duration:200ms;
      -webkit-transition-property:-webkit-transform;
      transition-property:-webkit-transform;
      transition-property:transform;
      transition-property:transform, -webkit-transform;
      -webkit-transition-timing-function:cubic-bezier(0.4, 1, 0.75, 0.9);
              transition-timing-function:cubic-bezier(0.4, 1, 0.75, 0.9); }
    .bp3-drawer.bp3-position-top.bp3-overlay-exit{
      -webkit-transform:translateY(0);
              transform:translateY(0); }
    .bp3-drawer.bp3-position-top.bp3-overlay-exit-active{
      -webkit-transform:translateY(-100%);
              transform:translateY(-100%);
      -webkit-transition-delay:0;
              transition-delay:0;
      -webkit-transition-duration:100ms;
              transition-duration:100ms;
      -webkit-transition-property:-webkit-transform;
      transition-property:-webkit-transform;
      transition-property:transform;
      transition-property:transform, -webkit-transform;
      -webkit-transition-timing-function:cubic-bezier(0.4, 1, 0.75, 0.9);
              transition-timing-function:cubic-bezier(0.4, 1, 0.75, 0.9); }
  .bp3-drawer.bp3-position-bottom{
    bottom:0;
    height:50%;
    left:0;
    right:0; }
    .bp3-drawer.bp3-position-bottom.bp3-overlay-enter, .bp3-drawer.bp3-position-bottom.bp3-overlay-appear{
      -webkit-transform:translateY(100%);
              transform:translateY(100%); }
    .bp3-drawer.bp3-position-bottom.bp3-overlay-enter-active, .bp3-drawer.bp3-position-bottom.bp3-overlay-appear-active{
      -webkit-transform:translateY(0);
              transform:translateY(0);
      -webkit-transition-delay:0;
              transition-delay:0;
      -webkit-transition-duration:200ms;
              transition-duration:200ms;
      -webkit-transition-property:-webkit-transform;
      transition-property:-webkit-transform;
      transition-property:transform;
      transition-property:transform, -webkit-transform;
      -webkit-transition-timing-function:cubic-bezier(0.4, 1, 0.75, 0.9);
              transition-timing-function:cubic-bezier(0.4, 1, 0.75, 0.9); }
    .bp3-drawer.bp3-position-bottom.bp3-overlay-exit{
      -webkit-transform:translateY(0);
              transform:translateY(0); }
    .bp3-drawer.bp3-position-bottom.bp3-overlay-exit-active{
      -webkit-transform:translateY(100%);
              transform:translateY(100%);
      -webkit-transition-delay:0;
              transition-delay:0;
      -webkit-transition-duration:100ms;
              transition-duration:100ms;
      -webkit-transition-property:-webkit-transform;
      transition-property:-webkit-transform;
      transition-property:transform;
      transition-property:transform, -webkit-transform;
      -webkit-transition-timing-function:cubic-bezier(0.4, 1, 0.75, 0.9);
              transition-timing-function:cubic-bezier(0.4, 1, 0.75, 0.9); }
  .bp3-drawer.bp3-position-left{
    bottom:0;
    left:0;
    top:0;
    width:50%; }
    .bp3-drawer.bp3-position-left.bp3-overlay-enter, .bp3-drawer.bp3-position-left.bp3-overlay-appear{
      -webkit-transform:translateX(-100%);
              transform:translateX(-100%); }
    .bp3-drawer.bp3-position-left.bp3-overlay-enter-active, .bp3-drawer.bp3-position-left.bp3-overlay-appear-active{
      -webkit-transform:translateX(0);
              transform:translateX(0);
      -webkit-transition-delay:0;
              transition-delay:0;
      -webkit-transition-duration:200ms;
              transition-duration:200ms;
      -webkit-transition-property:-webkit-transform;
      transition-property:-webkit-transform;
      transition-property:transform;
      transition-property:transform, -webkit-transform;
      -webkit-transition-timing-function:cubic-bezier(0.4, 1, 0.75, 0.9);
              transition-timing-function:cubic-bezier(0.4, 1, 0.75, 0.9); }
    .bp3-drawer.bp3-position-left.bp3-overlay-exit{
      -webkit-transform:translateX(0);
              transform:translateX(0); }
    .bp3-drawer.bp3-position-left.bp3-overlay-exit-active{
      -webkit-transform:translateX(-100%);
              transform:translateX(-100%);
      -webkit-transition-delay:0;
              transition-delay:0;
      -webkit-transition-duration:100ms;
              transition-duration:100ms;
      -webkit-transition-property:-webkit-transform;
      transition-property:-webkit-transform;
      transition-property:transform;
      transition-property:transform, -webkit-transform;
      -webkit-transition-timing-function:cubic-bezier(0.4, 1, 0.75, 0.9);
              transition-timing-function:cubic-bezier(0.4, 1, 0.75, 0.9); }
  .bp3-drawer.bp3-position-right{
    bottom:0;
    right:0;
    top:0;
    width:50%; }
    .bp3-drawer.bp3-position-right.bp3-overlay-enter, .bp3-drawer.bp3-position-right.bp3-overlay-appear{
      -webkit-transform:translateX(100%);
              transform:translateX(100%); }
    .bp3-drawer.bp3-position-right.bp3-overlay-enter-active, .bp3-drawer.bp3-position-right.bp3-overlay-appear-active{
      -webkit-transform:translateX(0);
              transform:translateX(0);
      -webkit-transition-delay:0;
              transition-delay:0;
      -webkit-transition-duration:200ms;
              transition-duration:200ms;
      -webkit-transition-property:-webkit-transform;
      transition-property:-webkit-transform;
      transition-property:transform;
      transition-property:transform, -webkit-transform;
      -webkit-transition-timing-function:cubic-bezier(0.4, 1, 0.75, 0.9);
              transition-timing-function:cubic-bezier(0.4, 1, 0.75, 0.9); }
    .bp3-drawer.bp3-position-right.bp3-overlay-exit{
      -webkit-transform:translateX(0);
              transform:translateX(0); }
    .bp3-drawer.bp3-position-right.bp3-overlay-exit-active{
      -webkit-transform:translateX(100%);
              transform:translateX(100%);
      -webkit-transition-delay:0;
              transition-delay:0;
      -webkit-transition-duration:100ms;
              transition-duration:100ms;
      -webkit-transition-property:-webkit-transform;
      transition-property:-webkit-transform;
      transition-property:transform;
      transition-property:transform, -webkit-transform;
      -webkit-transition-timing-function:cubic-bezier(0.4, 1, 0.75, 0.9);
              transition-timing-function:cubic-bezier(0.4, 1, 0.75, 0.9); }
  .bp3-drawer:not(.bp3-position-top):not(.bp3-position-bottom):not(.bp3-position-left):not(
  .bp3-position-right):not(.bp3-vertical){
    bottom:0;
    right:0;
    top:0;
    width:50%; }
    .bp3-drawer:not(.bp3-position-top):not(.bp3-position-bottom):not(.bp3-position-left):not(
    .bp3-position-right):not(.bp3-vertical).bp3-overlay-enter, .bp3-drawer:not(.bp3-position-top):not(.bp3-position-bottom):not(.bp3-position-left):not(
    .bp3-position-right):not(.bp3-vertical).bp3-overlay-appear{
      -webkit-transform:translateX(100%);
              transform:translateX(100%); }
    .bp3-drawer:not(.bp3-position-top):not(.bp3-position-bottom):not(.bp3-position-left):not(
    .bp3-position-right):not(.bp3-vertical).bp3-overlay-enter-active, .bp3-drawer:not(.bp3-position-top):not(.bp3-position-bottom):not(.bp3-position-left):not(
    .bp3-position-right):not(.bp3-vertical).bp3-overlay-appear-active{
      -webkit-transform:translateX(0);
              transform:translateX(0);
      -webkit-transition-delay:0;
              transition-delay:0;
      -webkit-transition-duration:200ms;
              transition-duration:200ms;
      -webkit-transition-property:-webkit-transform;
      transition-property:-webkit-transform;
      transition-property:transform;
      transition-property:transform, -webkit-transform;
      -webkit-transition-timing-function:cubic-bezier(0.4, 1, 0.75, 0.9);
              transition-timing-function:cubic-bezier(0.4, 1, 0.75, 0.9); }
    .bp3-drawer:not(.bp3-position-top):not(.bp3-position-bottom):not(.bp3-position-left):not(
    .bp3-position-right):not(.bp3-vertical).bp3-overlay-exit{
      -webkit-transform:translateX(0);
              transform:translateX(0); }
    .bp3-drawer:not(.bp3-position-top):not(.bp3-position-bottom):not(.bp3-position-left):not(
    .bp3-position-right):not(.bp3-vertical).bp3-overlay-exit-active{
      -webkit-transform:translateX(100%);
              transform:translateX(100%);
      -webkit-transition-delay:0;
              transition-delay:0;
      -webkit-transition-duration:100ms;
              transition-duration:100ms;
      -webkit-transition-property:-webkit-transform;
      transition-property:-webkit-transform;
      transition-property:transform;
      transition-property:transform, -webkit-transform;
      -webkit-transition-timing-function:cubic-bezier(0.4, 1, 0.75, 0.9);
              transition-timing-function:cubic-bezier(0.4, 1, 0.75, 0.9); }
  .bp3-drawer:not(.bp3-position-top):not(.bp3-position-bottom):not(.bp3-position-left):not(
  .bp3-position-right).bp3-vertical{
    bottom:0;
    height:50%;
    left:0;
    right:0; }
    .bp3-drawer:not(.bp3-position-top):not(.bp3-position-bottom):not(.bp3-position-left):not(
    .bp3-position-right).bp3-vertical.bp3-overlay-enter, .bp3-drawer:not(.bp3-position-top):not(.bp3-position-bottom):not(.bp3-position-left):not(
    .bp3-position-right).bp3-vertical.bp3-overlay-appear{
      -webkit-transform:translateY(100%);
              transform:translateY(100%); }
    .bp3-drawer:not(.bp3-position-top):not(.bp3-position-bottom):not(.bp3-position-left):not(
    .bp3-position-right).bp3-vertical.bp3-overlay-enter-active, .bp3-drawer:not(.bp3-position-top):not(.bp3-position-bottom):not(.bp3-position-left):not(
    .bp3-position-right).bp3-vertical.bp3-overlay-appear-active{
      -webkit-transform:translateY(0);
              transform:translateY(0);
      -webkit-transition-delay:0;
              transition-delay:0;
      -webkit-transition-duration:200ms;
              transition-duration:200ms;
      -webkit-transition-property:-webkit-transform;
      transition-property:-webkit-transform;
      transition-property:transform;
      transition-property:transform, -webkit-transform;
      -webkit-transition-timing-function:cubic-bezier(0.4, 1, 0.75, 0.9);
              transition-timing-function:cubic-bezier(0.4, 1, 0.75, 0.9); }
    .bp3-drawer:not(.bp3-position-top):not(.bp3-position-bottom):not(.bp3-position-left):not(
    .bp3-position-right).bp3-vertical.bp3-overlay-exit{
      -webkit-transform:translateY(0);
              transform:translateY(0); }
    .bp3-drawer:not(.bp3-position-top):not(.bp3-position-bottom):not(.bp3-position-left):not(
    .bp3-position-right).bp3-vertical.bp3-overlay-exit-active{
      -webkit-transform:translateY(100%);
              transform:translateY(100%);
      -webkit-transition-delay:0;
              transition-delay:0;
      -webkit-transition-duration:100ms;
              transition-duration:100ms;
      -webkit-transition-property:-webkit-transform;
      transition-property:-webkit-transform;
      transition-property:transform;
      transition-property:transform, -webkit-transform;
      -webkit-transition-timing-function:cubic-bezier(0.4, 1, 0.75, 0.9);
              transition-timing-function:cubic-bezier(0.4, 1, 0.75, 0.9); }
  .bp3-drawer.bp3-dark,
  .bp3-dark .bp3-drawer{
    background:#30404d;
    -webkit-box-shadow:0 0 0 1px rgba(16, 22, 26, 0.2), 0 4px 8px rgba(16, 22, 26, 0.4), 0 18px 46px 6px rgba(16, 22, 26, 0.4);
            box-shadow:0 0 0 1px rgba(16, 22, 26, 0.2), 0 4px 8px rgba(16, 22, 26, 0.4), 0 18px 46px 6px rgba(16, 22, 26, 0.4);
    color:#f5f8fa; }

.bp3-drawer-header{
  -webkit-box-align:center;
      -ms-flex-align:center;
          align-items:center;
  border-radius:0;
  -webkit-box-shadow:0 1px 0 rgba(16, 22, 26, 0.15);
          box-shadow:0 1px 0 rgba(16, 22, 26, 0.15);
  display:-webkit-box;
  display:-ms-flexbox;
  display:flex;
  -webkit-box-flex:0;
      -ms-flex:0 0 auto;
          flex:0 0 auto;
  min-height:40px;
  padding:5px;
  padding-left:20px;
  position:relative; }
  .bp3-drawer-header .bp3-icon-large,
  .bp3-drawer-header .bp3-icon{
    color:#5c7080;
    -webkit-box-flex:0;
        -ms-flex:0 0 auto;
            flex:0 0 auto;
    margin-right:10px; }
  .bp3-drawer-header .bp3-heading{
    overflow:hidden;
    text-overflow:ellipsis;
    white-space:nowrap;
    word-wrap:normal;
    -webkit-box-flex:1;
        -ms-flex:1 1 auto;
            flex:1 1 auto;
    line-height:inherit;
    margin:0; }
    .bp3-drawer-header .bp3-heading:last-child{
      margin-right:20px; }
  .bp3-dark .bp3-drawer-header{
    -webkit-box-shadow:0 1px 0 rgba(16, 22, 26, 0.4);
            box-shadow:0 1px 0 rgba(16, 22, 26, 0.4); }
    .bp3-dark .bp3-drawer-header .bp3-icon-large,
    .bp3-dark .bp3-drawer-header .bp3-icon{
      color:#a7b6c2; }

.bp3-drawer-body{
  -webkit-box-flex:1;
      -ms-flex:1 1 auto;
          flex:1 1 auto;
  line-height:18px;
  overflow:auto; }

.bp3-drawer-footer{
  -webkit-box-shadow:inset 0 1px 0 rgba(16, 22, 26, 0.15);
          box-shadow:inset 0 1px 0 rgba(16, 22, 26, 0.15);
  -webkit-box-flex:0;
      -ms-flex:0 0 auto;
          flex:0 0 auto;
  padding:10px 20px;
  position:relative; }
  .bp3-dark .bp3-drawer-footer{
    -webkit-box-shadow:inset 0 1px 0 rgba(16, 22, 26, 0.4);
            box-shadow:inset 0 1px 0 rgba(16, 22, 26, 0.4); }
.bp3-editable-text{
  cursor:text;
  display:inline-block;
  max-width:100%;
  position:relative;
  vertical-align:top;
  white-space:nowrap; }
  .bp3-editable-text::before{
    bottom:-3px;
    left:-3px;
    position:absolute;
    right:-3px;
    top:-3px;
    border-radius:3px;
    content:"";
    -webkit-transition:background-color 100ms cubic-bezier(0.4, 1, 0.75, 0.9), -webkit-box-shadow 100ms cubic-bezier(0.4, 1, 0.75, 0.9);
    transition:background-color 100ms cubic-bezier(0.4, 1, 0.75, 0.9), -webkit-box-shadow 100ms cubic-bezier(0.4, 1, 0.75, 0.9);
    transition:background-color 100ms cubic-bezier(0.4, 1, 0.75, 0.9), box-shadow 100ms cubic-bezier(0.4, 1, 0.75, 0.9);
    transition:background-color 100ms cubic-bezier(0.4, 1, 0.75, 0.9), box-shadow 100ms cubic-bezier(0.4, 1, 0.75, 0.9), -webkit-box-shadow 100ms cubic-bezier(0.4, 1, 0.75, 0.9); }
  .bp3-editable-text:hover::before{
    -webkit-box-shadow:0 0 0 0 rgba(19, 124, 189, 0), 0 0 0 0 rgba(19, 124, 189, 0), inset 0 0 0 1px rgba(16, 22, 26, 0.15);
            box-shadow:0 0 0 0 rgba(19, 124, 189, 0), 0 0 0 0 rgba(19, 124, 189, 0), inset 0 0 0 1px rgba(16, 22, 26, 0.15); }
  .bp3-editable-text.bp3-editable-text-editing::before{
    background-color:#ffffff;
    -webkit-box-shadow:0 0 0 1px #137cbd, 0 0 0 3px rgba(19, 124, 189, 0.3), inset 0 1px 1px rgba(16, 22, 26, 0.2);
            box-shadow:0 0 0 1px #137cbd, 0 0 0 3px rgba(19, 124, 189, 0.3), inset 0 1px 1px rgba(16, 22, 26, 0.2); }
  .bp3-editable-text.bp3-disabled::before{
    -webkit-box-shadow:none;
            box-shadow:none; }
  .bp3-editable-text.bp3-intent-primary .bp3-editable-text-input,
  .bp3-editable-text.bp3-intent-primary .bp3-editable-text-content{
    color:#137cbd; }
  .bp3-editable-text.bp3-intent-primary:hover::before{
    -webkit-box-shadow:0 0 0 0 rgba(19, 124, 189, 0), 0 0 0 0 rgba(19, 124, 189, 0), inset 0 0 0 1px rgba(19, 124, 189, 0.4);
            box-shadow:0 0 0 0 rgba(19, 124, 189, 0), 0 0 0 0 rgba(19, 124, 189, 0), inset 0 0 0 1px rgba(19, 124, 189, 0.4); }
  .bp3-editable-text.bp3-intent-primary.bp3-editable-text-editing::before{
    -webkit-box-shadow:0 0 0 1px #137cbd, 0 0 0 3px rgba(19, 124, 189, 0.3), inset 0 1px 1px rgba(16, 22, 26, 0.2);
            box-shadow:0 0 0 1px #137cbd, 0 0 0 3px rgba(19, 124, 189, 0.3), inset 0 1px 1px rgba(16, 22, 26, 0.2); }
  .bp3-editable-text.bp3-intent-success .bp3-editable-text-input,
  .bp3-editable-text.bp3-intent-success .bp3-editable-text-content{
    color:#0f9960; }
  .bp3-editable-text.bp3-intent-success:hover::before{
    -webkit-box-shadow:0 0 0 0 rgba(15, 153, 96, 0), 0 0 0 0 rgba(15, 153, 96, 0), inset 0 0 0 1px rgba(15, 153, 96, 0.4);
            box-shadow:0 0 0 0 rgba(15, 153, 96, 0), 0 0 0 0 rgba(15, 153, 96, 0), inset 0 0 0 1px rgba(15, 153, 96, 0.4); }
  .bp3-editable-text.bp3-intent-success.bp3-editable-text-editing::before{
    -webkit-box-shadow:0 0 0 1px #0f9960, 0 0 0 3px rgba(15, 153, 96, 0.3), inset 0 1px 1px rgba(16, 22, 26, 0.2);
            box-shadow:0 0 0 1px #0f9960, 0 0 0 3px rgba(15, 153, 96, 0.3), inset 0 1px 1px rgba(16, 22, 26, 0.2); }
  .bp3-editable-text.bp3-intent-warning .bp3-editable-text-input,
  .bp3-editable-text.bp3-intent-warning .bp3-editable-text-content{
    color:#d9822b; }
  .bp3-editable-text.bp3-intent-warning:hover::before{
    -webkit-box-shadow:0 0 0 0 rgba(217, 130, 43, 0), 0 0 0 0 rgba(217, 130, 43, 0), inset 0 0 0 1px rgba(217, 130, 43, 0.4);
            box-shadow:0 0 0 0 rgba(217, 130, 43, 0), 0 0 0 0 rgba(217, 130, 43, 0), inset 0 0 0 1px rgba(217, 130, 43, 0.4); }
  .bp3-editable-text.bp3-intent-warning.bp3-editable-text-editing::before{
    -webkit-box-shadow:0 0 0 1px #d9822b, 0 0 0 3px rgba(217, 130, 43, 0.3), inset 0 1px 1px rgba(16, 22, 26, 0.2);
            box-shadow:0 0 0 1px #d9822b, 0 0 0 3px rgba(217, 130, 43, 0.3), inset 0 1px 1px rgba(16, 22, 26, 0.2); }
  .bp3-editable-text.bp3-intent-danger .bp3-editable-text-input,
  .bp3-editable-text.bp3-intent-danger .bp3-editable-text-content{
    color:#db3737; }
  .bp3-editable-text.bp3-intent-danger:hover::before{
    -webkit-box-shadow:0 0 0 0 rgba(219, 55, 55, 0), 0 0 0 0 rgba(219, 55, 55, 0), inset 0 0 0 1px rgba(219, 55, 55, 0.4);
            box-shadow:0 0 0 0 rgba(219, 55, 55, 0), 0 0 0 0 rgba(219, 55, 55, 0), inset 0 0 0 1px rgba(219, 55, 55, 0.4); }
  .bp3-editable-text.bp3-intent-danger.bp3-editable-text-editing::before{
    -webkit-box-shadow:0 0 0 1px #db3737, 0 0 0 3px rgba(219, 55, 55, 0.3), inset 0 1px 1px rgba(16, 22, 26, 0.2);
            box-shadow:0 0 0 1px #db3737, 0 0 0 3px rgba(219, 55, 55, 0.3), inset 0 1px 1px rgba(16, 22, 26, 0.2); }
  .bp3-dark .bp3-editable-text:hover::before{
    -webkit-box-shadow:0 0 0 0 rgba(19, 124, 189, 0), 0 0 0 0 rgba(19, 124, 189, 0), inset 0 0 0 1px rgba(255, 255, 255, 0.15);
            box-shadow:0 0 0 0 rgba(19, 124, 189, 0), 0 0 0 0 rgba(19, 124, 189, 0), inset 0 0 0 1px rgba(255, 255, 255, 0.15); }
  .bp3-dark .bp3-editable-text.bp3-editable-text-editing::before{
    background-color:rgba(16, 22, 26, 0.3);
    -webkit-box-shadow:0 0 0 1px #137cbd, 0 0 0 3px rgba(19, 124, 189, 0.3), inset 0 0 0 1px rgba(16, 22, 26, 0.3), inset 0 1px 1px rgba(16, 22, 26, 0.4);
            box-shadow:0 0 0 1px #137cbd, 0 0 0 3px rgba(19, 124, 189, 0.3), inset 0 0 0 1px rgba(16, 22, 26, 0.3), inset 0 1px 1px rgba(16, 22, 26, 0.4); }
  .bp3-dark .bp3-editable-text.bp3-disabled::before{
    -webkit-box-shadow:none;
            box-shadow:none; }
  .bp3-dark .bp3-editable-text.bp3-intent-primary .bp3-editable-text-content{
    color:#48aff0; }
  .bp3-dark .bp3-editable-text.bp3-intent-primary:hover::before{
    -webkit-box-shadow:0 0 0 0 rgba(72, 175, 240, 0), 0 0 0 0 rgba(72, 175, 240, 0), inset 0 0 0 1px rgba(72, 175, 240, 0.4);
            box-shadow:0 0 0 0 rgba(72, 175, 240, 0), 0 0 0 0 rgba(72, 175, 240, 0), inset 0 0 0 1px rgba(72, 175, 240, 0.4); }
  .bp3-dark .bp3-editable-text.bp3-intent-primary.bp3-editable-text-editing::before{
    -webkit-box-shadow:0 0 0 1px #48aff0, 0 0 0 3px rgba(72, 175, 240, 0.3), inset 0 0 0 1px rgba(16, 22, 26, 0.3), inset 0 1px 1px rgba(16, 22, 26, 0.4);
            box-shadow:0 0 0 1px #48aff0, 0 0 0 3px rgba(72, 175, 240, 0.3), inset 0 0 0 1px rgba(16, 22, 26, 0.3), inset 0 1px 1px rgba(16, 22, 26, 0.4); }
  .bp3-dark .bp3-editable-text.bp3-intent-success .bp3-editable-text-content{
    color:#3dcc91; }
  .bp3-dark .bp3-editable-text.bp3-intent-success:hover::before{
    -webkit-box-shadow:0 0 0 0 rgba(61, 204, 145, 0), 0 0 0 0 rgba(61, 204, 145, 0), inset 0 0 0 1px rgba(61, 204, 145, 0.4);
            box-shadow:0 0 0 0 rgba(61, 204, 145, 0), 0 0 0 0 rgba(61, 204, 145, 0), inset 0 0 0 1px rgba(61, 204, 145, 0.4); }
  .bp3-dark .bp3-editable-text.bp3-intent-success.bp3-editable-text-editing::before{
    -webkit-box-shadow:0 0 0 1px #3dcc91, 0 0 0 3px rgba(61, 204, 145, 0.3), inset 0 0 0 1px rgba(16, 22, 26, 0.3), inset 0 1px 1px rgba(16, 22, 26, 0.4);
            box-shadow:0 0 0 1px #3dcc91, 0 0 0 3px rgba(61, 204, 145, 0.3), inset 0 0 0 1px rgba(16, 22, 26, 0.3), inset 0 1px 1px rgba(16, 22, 26, 0.4); }
  .bp3-dark .bp3-editable-text.bp3-intent-warning .bp3-editable-text-content{
    color:#ffb366; }
  .bp3-dark .bp3-editable-text.bp3-intent-warning:hover::before{
    -webkit-box-shadow:0 0 0 0 rgba(255, 179, 102, 0), 0 0 0 0 rgba(255, 179, 102, 0), inset 0 0 0 1px rgba(255, 179, 102, 0.4);
            box-shadow:0 0 0 0 rgba(255, 179, 102, 0), 0 0 0 0 rgba(255, 179, 102, 0), inset 0 0 0 1px rgba(255, 179, 102, 0.4); }
  .bp3-dark .bp3-editable-text.bp3-intent-warning.bp3-editable-text-editing::before{
    -webkit-box-shadow:0 0 0 1px #ffb366, 0 0 0 3px rgba(255, 179, 102, 0.3), inset 0 0 0 1px rgba(16, 22, 26, 0.3), inset 0 1px 1px rgba(16, 22, 26, 0.4);
            box-shadow:0 0 0 1px #ffb366, 0 0 0 3px rgba(255, 179, 102, 0.3), inset 0 0 0 1px rgba(16, 22, 26, 0.3), inset 0 1px 1px rgba(16, 22, 26, 0.4); }
  .bp3-dark .bp3-editable-text.bp3-intent-danger .bp3-editable-text-content{
    color:#ff7373; }
  .bp3-dark .bp3-editable-text.bp3-intent-danger:hover::before{
    -webkit-box-shadow:0 0 0 0 rgba(255, 115, 115, 0), 0 0 0 0 rgba(255, 115, 115, 0), inset 0 0 0 1px rgba(255, 115, 115, 0.4);
            box-shadow:0 0 0 0 rgba(255, 115, 115, 0), 0 0 0 0 rgba(255, 115, 115, 0), inset 0 0 0 1px rgba(255, 115, 115, 0.4); }
  .bp3-dark .bp3-editable-text.bp3-intent-danger.bp3-editable-text-editing::before{
    -webkit-box-shadow:0 0 0 1px #ff7373, 0 0 0 3px rgba(255, 115, 115, 0.3), inset 0 0 0 1px rgba(16, 22, 26, 0.3), inset 0 1px 1px rgba(16, 22, 26, 0.4);
            box-shadow:0 0 0 1px #ff7373, 0 0 0 3px rgba(255, 115, 115, 0.3), inset 0 0 0 1px rgba(16, 22, 26, 0.3), inset 0 1px 1px rgba(16, 22, 26, 0.4); }

.bp3-editable-text-input,
.bp3-editable-text-content{
  color:inherit;
  display:inherit;
  font:inherit;
  letter-spacing:inherit;
  max-width:inherit;
  min-width:inherit;
  position:relative;
  resize:none;
  text-transform:inherit;
  vertical-align:top; }

.bp3-editable-text-input{
  background:none;
  border:none;
  -webkit-box-shadow:none;
          box-shadow:none;
  padding:0;
  white-space:pre-wrap;
  width:100%; }
  .bp3-editable-text-input::-webkit-input-placeholder{
    color:rgba(92, 112, 128, 0.6);
    opacity:1; }
  .bp3-editable-text-input::-moz-placeholder{
    color:rgba(92, 112, 128, 0.6);
    opacity:1; }
  .bp3-editable-text-input:-ms-input-placeholder{
    color:rgba(92, 112, 128, 0.6);
    opacity:1; }
  .bp3-editable-text-input::-ms-input-placeholder{
    color:rgba(92, 112, 128, 0.6);
    opacity:1; }
  .bp3-editable-text-input::placeholder{
    color:rgba(92, 112, 128, 0.6);
    opacity:1; }
  .bp3-editable-text-input:focus{
    outline:none; }
  .bp3-editable-text-input::-ms-clear{
    display:none; }

.bp3-editable-text-content{
  overflow:hidden;
  padding-right:2px;
  text-overflow:ellipsis;
  white-space:pre; }
  .bp3-editable-text-editing > .bp3-editable-text-content{
    left:0;
    position:absolute;
    visibility:hidden; }
  .bp3-editable-text-placeholder > .bp3-editable-text-content{
    color:rgba(92, 112, 128, 0.6); }
    .bp3-dark .bp3-editable-text-placeholder > .bp3-editable-text-content{
      color:rgba(167, 182, 194, 0.6); }

.bp3-editable-text.bp3-multiline{
  display:block; }
  .bp3-editable-text.bp3-multiline .bp3-editable-text-content{
    overflow:auto;
    white-space:pre-wrap;
    word-wrap:break-word; }
.bp3-divider{
  border-bottom:1px solid rgba(16, 22, 26, 0.15);
  border-right:1px solid rgba(16, 22, 26, 0.15);
  margin:5px; }
  .bp3-dark .bp3-divider{
    border-color:rgba(16, 22, 26, 0.4); }
.bp3-control-group{
  -webkit-transform:translateZ(0);
          transform:translateZ(0);
  display:-webkit-box;
  display:-ms-flexbox;
  display:flex;
  -webkit-box-orient:horizontal;
  -webkit-box-direction:normal;
      -ms-flex-direction:row;
          flex-direction:row;
  -webkit-box-align:stretch;
      -ms-flex-align:stretch;
          align-items:stretch; }
  .bp3-control-group > *{
    -webkit-box-flex:0;
        -ms-flex-positive:0;
            flex-grow:0;
    -ms-flex-negative:0;
        flex-shrink:0; }
  .bp3-control-group > .bp3-fill{
    -webkit-box-flex:1;
        -ms-flex-positive:1;
            flex-grow:1;
    -ms-flex-negative:1;
        flex-shrink:1; }
  .bp3-control-group .bp3-button,
  .bp3-control-group .bp3-html-select,
  .bp3-control-group .bp3-input,
  .bp3-control-group .bp3-select{
    position:relative; }
  .bp3-control-group .bp3-input{
    border-radius:inherit;
    z-index:2; }
    .bp3-control-group .bp3-input:focus{
      border-radius:3px;
      z-index:14; }
    .bp3-control-group .bp3-input[class*="bp3-intent"]{
      z-index:13; }
      .bp3-control-group .bp3-input[class*="bp3-intent"]:focus{
        z-index:15; }
    .bp3-control-group .bp3-input[readonly], .bp3-control-group .bp3-input:disabled, .bp3-control-group .bp3-input.bp3-disabled{
      z-index:1; }
  .bp3-control-group .bp3-input-group[class*="bp3-intent"] .bp3-input{
    z-index:13; }
    .bp3-control-group .bp3-input-group[class*="bp3-intent"] .bp3-input:focus{
      z-index:15; }
  .bp3-control-group .bp3-button,
  .bp3-control-group .bp3-html-select select,
  .bp3-control-group .bp3-select select{
    -webkit-transform:translateZ(0);
            transform:translateZ(0);
    border-radius:inherit;
    z-index:4; }
    .bp3-control-group .bp3-button:focus,
    .bp3-control-group .bp3-html-select select:focus,
    .bp3-control-group .bp3-select select:focus{
      z-index:5; }
    .bp3-control-group .bp3-button:hover,
    .bp3-control-group .bp3-html-select select:hover,
    .bp3-control-group .bp3-select select:hover{
      z-index:6; }
    .bp3-control-group .bp3-button:active,
    .bp3-control-group .bp3-html-select select:active,
    .bp3-control-group .bp3-select select:active{
      z-index:7; }
    .bp3-control-group .bp3-button[readonly], .bp3-control-group .bp3-button:disabled, .bp3-control-group .bp3-button.bp3-disabled,
    .bp3-control-group .bp3-html-select select[readonly],
    .bp3-control-group .bp3-html-select select:disabled,
    .bp3-control-group .bp3-html-select select.bp3-disabled,
    .bp3-control-group .bp3-select select[readonly],
    .bp3-control-group .bp3-select select:disabled,
    .bp3-control-group .bp3-select select.bp3-disabled{
      z-index:3; }
    .bp3-control-group .bp3-button[class*="bp3-intent"],
    .bp3-control-group .bp3-html-select select[class*="bp3-intent"],
    .bp3-control-group .bp3-select select[class*="bp3-intent"]{
      z-index:9; }
      .bp3-control-group .bp3-button[class*="bp3-intent"]:focus,
      .bp3-control-group .bp3-html-select select[class*="bp3-intent"]:focus,
      .bp3-control-group .bp3-select select[class*="bp3-intent"]:focus{
        z-index:10; }
      .bp3-control-group .bp3-button[class*="bp3-intent"]:hover,
      .bp3-control-group .bp3-html-select select[class*="bp3-intent"]:hover,
      .bp3-control-group .bp3-select select[class*="bp3-intent"]:hover{
        z-index:11; }
      .bp3-control-group .bp3-button[class*="bp3-intent"]:active,
      .bp3-control-group .bp3-html-select select[class*="bp3-intent"]:active,
      .bp3-control-group .bp3-select select[class*="bp3-intent"]:active{
        z-index:12; }
      .bp3-control-group .bp3-button[class*="bp3-intent"][readonly], .bp3-control-group .bp3-button[class*="bp3-intent"]:disabled, .bp3-control-group .bp3-button[class*="bp3-intent"].bp3-disabled,
      .bp3-control-group .bp3-html-select select[class*="bp3-intent"][readonly],
      .bp3-control-group .bp3-html-select select[class*="bp3-intent"]:disabled,
      .bp3-control-group .bp3-html-select select[class*="bp3-intent"].bp3-disabled,
      .bp3-control-group .bp3-select select[class*="bp3-intent"][readonly],
      .bp3-control-group .bp3-select select[class*="bp3-intent"]:disabled,
      .bp3-control-group .bp3-select select[class*="bp3-intent"].bp3-disabled{
        z-index:8; }
  .bp3-control-group .bp3-input-group > .bp3-icon,
  .bp3-control-group .bp3-input-group > .bp3-button,
  .bp3-control-group .bp3-input-group > .bp3-input-left-container,
  .bp3-control-group .bp3-input-group > .bp3-input-action{
    z-index:16; }
  .bp3-control-group .bp3-select::after,
  .bp3-control-group .bp3-html-select::after,
  .bp3-control-group .bp3-select > .bp3-icon,
  .bp3-control-group .bp3-html-select > .bp3-icon{
    z-index:17; }
  .bp3-control-group .bp3-select:focus-within{
    z-index:5; }
  .bp3-control-group:not(.bp3-vertical) > *:not(.bp3-divider){
    margin-right:-1px; }
  .bp3-control-group:not(.bp3-vertical) > .bp3-divider:not(:first-child){
    margin-left:6px; }
  .bp3-dark .bp3-control-group:not(.bp3-vertical) > *:not(.bp3-divider){
    margin-right:0; }
  .bp3-dark .bp3-control-group:not(.bp3-vertical) > .bp3-button + .bp3-button{
    margin-left:1px; }
  .bp3-control-group .bp3-popover-wrapper,
  .bp3-control-group .bp3-popover-target{
    border-radius:inherit; }
  .bp3-control-group > :first-child{
    border-radius:3px 0 0 3px; }
  .bp3-control-group > :last-child{
    border-radius:0 3px 3px 0;
    margin-right:0; }
  .bp3-control-group > :only-child{
    border-radius:3px;
    margin-right:0; }
  .bp3-control-group .bp3-input-group .bp3-button{
    border-radius:3px; }
  .bp3-control-group .bp3-numeric-input:not(:first-child) .bp3-input-group{
    border-bottom-left-radius:0;
    border-top-left-radius:0; }
  .bp3-control-group.bp3-fill{
    width:100%; }
  .bp3-control-group > .bp3-fill{
    -webkit-box-flex:1;
        -ms-flex:1 1 auto;
            flex:1 1 auto; }
  .bp3-control-group.bp3-fill > *:not(.bp3-fixed){
    -webkit-box-flex:1;
        -ms-flex:1 1 auto;
            flex:1 1 auto; }
  .bp3-control-group.bp3-vertical{
    -webkit-box-orient:vertical;
    -webkit-box-direction:normal;
        -ms-flex-direction:column;
            flex-direction:column; }
    .bp3-control-group.bp3-vertical > *{
      margin-top:-1px; }
    .bp3-control-group.bp3-vertical > :first-child{
      border-radius:3px 3px 0 0;
      margin-top:0; }
    .bp3-control-group.bp3-vertical > :last-child{
      border-radius:0 0 3px 3px; }
.bp3-control{
  cursor:pointer;
  display:block;
  margin-bottom:10px;
  position:relative;
  text-transform:none; }
  .bp3-control input:checked ~ .bp3-control-indicator{
    background-color:#137cbd;
    background-image:-webkit-gradient(linear, left top, left bottom, from(rgba(255, 255, 255, 0.1)), to(rgba(255, 255, 255, 0)));
    background-image:linear-gradient(to bottom, rgba(255, 255, 255, 0.1), rgba(255, 255, 255, 0));
    -webkit-box-shadow:inset 0 0 0 1px rgba(16, 22, 26, 0.4), inset 0 -1px 0 rgba(16, 22, 26, 0.2);
            box-shadow:inset 0 0 0 1px rgba(16, 22, 26, 0.4), inset 0 -1px 0 rgba(16, 22, 26, 0.2);
    color:#ffffff; }
  .bp3-control:hover input:checked ~ .bp3-control-indicator{
    background-color:#106ba3;
    -webkit-box-shadow:inset 0 0 0 1px rgba(16, 22, 26, 0.4), inset 0 -1px 0 rgba(16, 22, 26, 0.2);
            box-shadow:inset 0 0 0 1px rgba(16, 22, 26, 0.4), inset 0 -1px 0 rgba(16, 22, 26, 0.2); }
  .bp3-control input:not(:disabled):active:checked ~ .bp3-control-indicator{
    background:#0e5a8a;
    -webkit-box-shadow:inset 0 0 0 1px rgba(16, 22, 26, 0.4), inset 0 1px 2px rgba(16, 22, 26, 0.2);
            box-shadow:inset 0 0 0 1px rgba(16, 22, 26, 0.4), inset 0 1px 2px rgba(16, 22, 26, 0.2); }
  .bp3-control input:disabled:checked ~ .bp3-control-indicator{
    background:rgba(19, 124, 189, 0.5);
    -webkit-box-shadow:none;
            box-shadow:none; }
  .bp3-dark .bp3-control input:checked ~ .bp3-control-indicator{
    -webkit-box-shadow:0 0 0 1px rgba(16, 22, 26, 0.4);
            box-shadow:0 0 0 1px rgba(16, 22, 26, 0.4); }
  .bp3-dark .bp3-control:hover input:checked ~ .bp3-control-indicator{
    background-color:#106ba3;
    -webkit-box-shadow:0 0 0 1px rgba(16, 22, 26, 0.4);
            box-shadow:0 0 0 1px rgba(16, 22, 26, 0.4); }
  .bp3-dark .bp3-control input:not(:disabled):active:checked ~ .bp3-control-indicator{
    background-color:#0e5a8a;
    -webkit-box-shadow:0 0 0 1px rgba(16, 22, 26, 0.4), inset 0 1px 2px rgba(16, 22, 26, 0.2);
            box-shadow:0 0 0 1px rgba(16, 22, 26, 0.4), inset 0 1px 2px rgba(16, 22, 26, 0.2); }
  .bp3-dark .bp3-control input:disabled:checked ~ .bp3-control-indicator{
    background:rgba(14, 90, 138, 0.5);
    -webkit-box-shadow:none;
            box-shadow:none; }
  .bp3-control:not(.bp3-align-right){
    padding-left:26px; }
    .bp3-control:not(.bp3-align-right) .bp3-control-indicator{
      margin-left:-26px; }
  .bp3-control.bp3-align-right{
    padding-right:26px; }
    .bp3-control.bp3-align-right .bp3-control-indicator{
      margin-right:-26px; }
  .bp3-control.bp3-disabled{
    color:rgba(92, 112, 128, 0.6);
    cursor:not-allowed; }
  .bp3-control.bp3-inline{
    display:inline-block;
    margin-right:20px; }
  .bp3-control input{
    left:0;
    opacity:0;
    position:absolute;
    top:0;
    z-index:-1; }
  .bp3-control .bp3-control-indicator{
    background-clip:padding-box;
    background-color:#f5f8fa;
    background-image:-webkit-gradient(linear, left top, left bottom, from(rgba(255, 255, 255, 0.8)), to(rgba(255, 255, 255, 0)));
    background-image:linear-gradient(to bottom, rgba(255, 255, 255, 0.8), rgba(255, 255, 255, 0));
    border:none;
    -webkit-box-shadow:inset 0 0 0 1px rgba(16, 22, 26, 0.2), inset 0 -1px 0 rgba(16, 22, 26, 0.1);
            box-shadow:inset 0 0 0 1px rgba(16, 22, 26, 0.2), inset 0 -1px 0 rgba(16, 22, 26, 0.1);
    cursor:pointer;
    display:inline-block;
    font-size:16px;
    height:1em;
    margin-right:10px;
    margin-top:-3px;
    position:relative;
    -webkit-user-select:none;
       -moz-user-select:none;
        -ms-user-select:none;
            user-select:none;
    vertical-align:middle;
    width:1em; }
    .bp3-control .bp3-control-indicator::before{
      content:"";
      display:block;
      height:1em;
      width:1em; }
  .bp3-control:hover .bp3-control-indicator{
    background-color:#ebf1f5; }
  .bp3-control input:not(:disabled):active ~ .bp3-control-indicator{
    background:#d8e1e8;
    -webkit-box-shadow:inset 0 0 0 1px rgba(16, 22, 26, 0.2), inset 0 1px 2px rgba(16, 22, 26, 0.2);
            box-shadow:inset 0 0 0 1px rgba(16, 22, 26, 0.2), inset 0 1px 2px rgba(16, 22, 26, 0.2); }
  .bp3-control input:disabled ~ .bp3-control-indicator{
    background:rgba(206, 217, 224, 0.5);
    -webkit-box-shadow:none;
            box-shadow:none;
    cursor:not-allowed; }
  .bp3-control input:focus ~ .bp3-control-indicator{
    outline:rgba(19, 124, 189, 0.6) auto 2px;
    outline-offset:2px;
    -moz-outline-radius:6px; }
  .bp3-control.bp3-align-right .bp3-control-indicator{
    float:right;
    margin-left:10px;
    margin-top:1px; }
  .bp3-control.bp3-large{
    font-size:16px; }
    .bp3-control.bp3-large:not(.bp3-align-right){
      padding-left:30px; }
      .bp3-control.bp3-large:not(.bp3-align-right) .bp3-control-indicator{
        margin-left:-30px; }
    .bp3-control.bp3-large.bp3-align-right{
      padding-right:30px; }
      .bp3-control.bp3-large.bp3-align-right .bp3-control-indicator{
        margin-right:-30px; }
    .bp3-control.bp3-large .bp3-control-indicator{
      font-size:20px; }
    .bp3-control.bp3-large.bp3-align-right .bp3-control-indicator{
      margin-top:0; }
  .bp3-control.bp3-checkbox input:indeterminate ~ .bp3-control-indicator{
    background-color:#137cbd;
    background-image:-webkit-gradient(linear, left top, left bottom, from(rgba(255, 255, 255, 0.1)), to(rgba(255, 255, 255, 0)));
    background-image:linear-gradient(to bottom, rgba(255, 255, 255, 0.1), rgba(255, 255, 255, 0));
    -webkit-box-shadow:inset 0 0 0 1px rgba(16, 22, 26, 0.4), inset 0 -1px 0 rgba(16, 22, 26, 0.2);
            box-shadow:inset 0 0 0 1px rgba(16, 22, 26, 0.4), inset 0 -1px 0 rgba(16, 22, 26, 0.2);
    color:#ffffff; }
  .bp3-control.bp3-checkbox:hover input:indeterminate ~ .bp3-control-indicator{
    background-color:#106ba3;
    -webkit-box-shadow:inset 0 0 0 1px rgba(16, 22, 26, 0.4), inset 0 -1px 0 rgba(16, 22, 26, 0.2);
            box-shadow:inset 0 0 0 1px rgba(16, 22, 26, 0.4), inset 0 -1px 0 rgba(16, 22, 26, 0.2); }
  .bp3-control.bp3-checkbox input:not(:disabled):active:indeterminate ~ .bp3-control-indicator{
    background:#0e5a8a;
    -webkit-box-shadow:inset 0 0 0 1px rgba(16, 22, 26, 0.4), inset 0 1px 2px rgba(16, 22, 26, 0.2);
            box-shadow:inset 0 0 0 1px rgba(16, 22, 26, 0.4), inset 0 1px 2px rgba(16, 22, 26, 0.2); }
  .bp3-control.bp3-checkbox input:disabled:indeterminate ~ .bp3-control-indicator{
    background:rgba(19, 124, 189, 0.5);
    -webkit-box-shadow:none;
            box-shadow:none; }
  .bp3-dark .bp3-control.bp3-checkbox input:indeterminate ~ .bp3-control-indicator{
    -webkit-box-shadow:0 0 0 1px rgba(16, 22, 26, 0.4);
            box-shadow:0 0 0 1px rgba(16, 22, 26, 0.4); }
  .bp3-dark .bp3-control.bp3-checkbox:hover input:indeterminate ~ .bp3-control-indicator{
    background-color:#106ba3;
    -webkit-box-shadow:0 0 0 1px rgba(16, 22, 26, 0.4);
            box-shadow:0 0 0 1px rgba(16, 22, 26, 0.4); }
  .bp3-dark .bp3-control.bp3-checkbox input:not(:disabled):active:indeterminate ~ .bp3-control-indicator{
    background-color:#0e5a8a;
    -webkit-box-shadow:0 0 0 1px rgba(16, 22, 26, 0.4), inset 0 1px 2px rgba(16, 22, 26, 0.2);
            box-shadow:0 0 0 1px rgba(16, 22, 26, 0.4), inset 0 1px 2px rgba(16, 22, 26, 0.2); }
  .bp3-dark .bp3-control.bp3-checkbox input:disabled:indeterminate ~ .bp3-control-indicator{
    background:rgba(14, 90, 138, 0.5);
    -webkit-box-shadow:none;
            box-shadow:none; }
  .bp3-control.bp3-checkbox .bp3-control-indicator{
    border-radius:3px; }
  .bp3-control.bp3-checkbox input:checked ~ .bp3-control-indicator::before{
    background-image:url("data:image/svg+xml,%3csvg xmlns='http://www.w3.org/2000/svg' viewBox='0 0 16 16'%3e%3cpath fill-rule='evenodd' clip-rule='evenodd' d='M12 5c-.28 0-.53.11-.71.29L7 9.59l-2.29-2.3a1.003 1.003 0 00-1.42 1.42l3 3c.18.18.43.29.71.29s.53-.11.71-.29l5-5A1.003 1.003 0 0012 5z' fill='white'/%3e%3c/svg%3e"); }
  .bp3-control.bp3-checkbox input:indeterminate ~ .bp3-control-indicator::before{
    background-image:url("data:image/svg+xml,%3csvg xmlns='http://www.w3.org/2000/svg' viewBox='0 0 16 16'%3e%3cpath fill-rule='evenodd' clip-rule='evenodd' d='M11 7H5c-.55 0-1 .45-1 1s.45 1 1 1h6c.55 0 1-.45 1-1s-.45-1-1-1z' fill='white'/%3e%3c/svg%3e"); }
  .bp3-control.bp3-radio .bp3-control-indicator{
    border-radius:50%; }
  .bp3-control.bp3-radio input:checked ~ .bp3-control-indicator::before{
    background-image:radial-gradient(#ffffff, #ffffff 28%, transparent 32%); }
  .bp3-control.bp3-radio input:checked:disabled ~ .bp3-control-indicator::before{
    opacity:0.5; }
  .bp3-control.bp3-radio input:focus ~ .bp3-control-indicator{
    -moz-outline-radius:16px; }
  .bp3-control.bp3-switch input ~ .bp3-control-indicator{
    background:rgba(167, 182, 194, 0.5); }
  .bp3-control.bp3-switch:hover input ~ .bp3-control-indicator{
    background:rgba(115, 134, 148, 0.5); }
  .bp3-control.bp3-switch input:not(:disabled):active ~ .bp3-control-indicator{
    background:rgba(92, 112, 128, 0.5); }
  .bp3-control.bp3-switch input:disabled ~ .bp3-control-indicator{
    background:rgba(206, 217, 224, 0.5); }
    .bp3-control.bp3-switch input:disabled ~ .bp3-control-indicator::before{
      background:rgba(255, 255, 255, 0.8); }
  .bp3-control.bp3-switch input:checked ~ .bp3-control-indicator{
    background:#137cbd; }
  .bp3-control.bp3-switch:hover input:checked ~ .bp3-control-indicator{
    background:#106ba3; }
  .bp3-control.bp3-switch input:checked:not(:disabled):active ~ .bp3-control-indicator{
    background:#0e5a8a; }
  .bp3-control.bp3-switch input:checked:disabled ~ .bp3-control-indicator{
    background:rgba(19, 124, 189, 0.5); }
    .bp3-control.bp3-switch input:checked:disabled ~ .bp3-control-indicator::before{
      background:rgba(255, 255, 255, 0.8); }
  .bp3-control.bp3-switch:not(.bp3-align-right){
    padding-left:38px; }
    .bp3-control.bp3-switch:not(.bp3-align-right) .bp3-control-indicator{
      margin-left:-38px; }
  .bp3-control.bp3-switch.bp3-align-right{
    padding-right:38px; }
    .bp3-control.bp3-switch.bp3-align-right .bp3-control-indicator{
      margin-right:-38px; }
  .bp3-control.bp3-switch .bp3-control-indicator{
    border:none;
    border-radius:1.75em;
    -webkit-box-shadow:none !important;
            box-shadow:none !important;
    min-width:1.75em;
    -webkit-transition:background-color 100ms cubic-bezier(0.4, 1, 0.75, 0.9);
    transition:background-color 100ms cubic-bezier(0.4, 1, 0.75, 0.9);
    width:auto; }
    .bp3-control.bp3-switch .bp3-control-indicator::before{
      background:#ffffff;
      border-radius:50%;
      -webkit-box-shadow:0 0 0 1px rgba(16, 22, 26, 0.2), 0 1px 1px rgba(16, 22, 26, 0.2);
              box-shadow:0 0 0 1px rgba(16, 22, 26, 0.2), 0 1px 1px rgba(16, 22, 26, 0.2);
      height:calc(1em - 4px);
      left:0;
      margin:2px;
      position:absolute;
      -webkit-transition:left 100ms cubic-bezier(0.4, 1, 0.75, 0.9);
      transition:left 100ms cubic-bezier(0.4, 1, 0.75, 0.9);
      width:calc(1em - 4px); }
  .bp3-control.bp3-switch input:checked ~ .bp3-control-indicator::before{
    left:calc(100% - 1em); }
  .bp3-control.bp3-switch.bp3-large:not(.bp3-align-right){
    padding-left:45px; }
    .bp3-control.bp3-switch.bp3-large:not(.bp3-align-right) .bp3-control-indicator{
      margin-left:-45px; }
  .bp3-control.bp3-switch.bp3-large.bp3-align-right{
    padding-right:45px; }
    .bp3-control.bp3-switch.bp3-large.bp3-align-right .bp3-control-indicator{
      margin-right:-45px; }
  .bp3-dark .bp3-control.bp3-switch input ~ .bp3-control-indicator{
    background:rgba(16, 22, 26, 0.5); }
  .bp3-dark .bp3-control.bp3-switch:hover input ~ .bp3-control-indicator{
    background:rgba(16, 22, 26, 0.7); }
  .bp3-dark .bp3-control.bp3-switch input:not(:disabled):active ~ .bp3-control-indicator{
    background:rgba(16, 22, 26, 0.9); }
  .bp3-dark .bp3-control.bp3-switch input:disabled ~ .bp3-control-indicator{
    background:rgba(57, 75, 89, 0.5); }
    .bp3-dark .bp3-control.bp3-switch input:disabled ~ .bp3-control-indicator::before{
      background:rgba(16, 22, 26, 0.4); }
  .bp3-dark .bp3-control.bp3-switch input:checked ~ .bp3-control-indicator{
    background:#137cbd; }
  .bp3-dark .bp3-control.bp3-switch:hover input:checked ~ .bp3-control-indicator{
    background:#106ba3; }
  .bp3-dark .bp3-control.bp3-switch input:checked:not(:disabled):active ~ .bp3-control-indicator{
    background:#0e5a8a; }
  .bp3-dark .bp3-control.bp3-switch input:checked:disabled ~ .bp3-control-indicator{
    background:rgba(14, 90, 138, 0.5); }
    .bp3-dark .bp3-control.bp3-switch input:checked:disabled ~ .bp3-control-indicator::before{
      background:rgba(16, 22, 26, 0.4); }
  .bp3-dark .bp3-control.bp3-switch .bp3-control-indicator::before{
    background:#394b59;
    -webkit-box-shadow:0 0 0 1px rgba(16, 22, 26, 0.4);
            box-shadow:0 0 0 1px rgba(16, 22, 26, 0.4); }
  .bp3-dark .bp3-control.bp3-switch input:checked ~ .bp3-control-indicator::before{
    -webkit-box-shadow:inset 0 0 0 1px rgba(16, 22, 26, 0.4);
            box-shadow:inset 0 0 0 1px rgba(16, 22, 26, 0.4); }
  .bp3-control.bp3-switch .bp3-switch-inner-text{
    font-size:0.7em;
    text-align:center; }
  .bp3-control.bp3-switch .bp3-control-indicator-child:first-child{
    line-height:0;
    margin-left:0.5em;
    margin-right:1.2em;
    visibility:hidden; }
  .bp3-control.bp3-switch .bp3-control-indicator-child:last-child{
    line-height:1em;
    margin-left:1.2em;
    margin-right:0.5em;
    visibility:visible; }
  .bp3-control.bp3-switch input:checked ~ .bp3-control-indicator .bp3-control-indicator-child:first-child{
    line-height:1em;
    visibility:visible; }
  .bp3-control.bp3-switch input:checked ~ .bp3-control-indicator .bp3-control-indicator-child:last-child{
    line-height:0;
    visibility:hidden; }
  .bp3-dark .bp3-control{
    color:#f5f8fa; }
    .bp3-dark .bp3-control.bp3-disabled{
      color:rgba(167, 182, 194, 0.6); }
    .bp3-dark .bp3-control .bp3-control-indicator{
      background-color:#394b59;
      background-image:-webkit-gradient(linear, left top, left bottom, from(rgba(255, 255, 255, 0.05)), to(rgba(255, 255, 255, 0)));
      background-image:linear-gradient(to bottom, rgba(255, 255, 255, 0.05), rgba(255, 255, 255, 0));
      -webkit-box-shadow:0 0 0 1px rgba(16, 22, 26, 0.4);
              box-shadow:0 0 0 1px rgba(16, 22, 26, 0.4); }
    .bp3-dark .bp3-control:hover .bp3-control-indicator{
      background-color:#30404d; }
    .bp3-dark .bp3-control input:not(:disabled):active ~ .bp3-control-indicator{
      background:#202b33;
      -webkit-box-shadow:0 0 0 1px rgba(16, 22, 26, 0.6), inset 0 1px 2px rgba(16, 22, 26, 0.2);
              box-shadow:0 0 0 1px rgba(16, 22, 26, 0.6), inset 0 1px 2px rgba(16, 22, 26, 0.2); }
    .bp3-dark .bp3-control input:disabled ~ .bp3-control-indicator{
      background:rgba(57, 75, 89, 0.5);
      -webkit-box-shadow:none;
              box-shadow:none;
      cursor:not-allowed; }
    .bp3-dark .bp3-control.bp3-checkbox input:disabled:checked ~ .bp3-control-indicator, .bp3-dark .bp3-control.bp3-checkbox input:disabled:indeterminate ~ .bp3-control-indicator{
      color:rgba(167, 182, 194, 0.6); }
.bp3-file-input{
  cursor:pointer;
  display:inline-block;
  height:30px;
  position:relative; }
  .bp3-file-input input{
    margin:0;
    min-width:200px;
    opacity:0; }
    .bp3-file-input input:disabled + .bp3-file-upload-input,
    .bp3-file-input input.bp3-disabled + .bp3-file-upload-input{
      background:rgba(206, 217, 224, 0.5);
      -webkit-box-shadow:none;
              box-shadow:none;
      color:rgba(92, 112, 128, 0.6);
      cursor:not-allowed;
      resize:none; }
      .bp3-file-input input:disabled + .bp3-file-upload-input::after,
      .bp3-file-input input.bp3-disabled + .bp3-file-upload-input::after{
        background-color:rgba(206, 217, 224, 0.5);
        background-image:none;
        -webkit-box-shadow:none;
                box-shadow:none;
        color:rgba(92, 112, 128, 0.6);
        cursor:not-allowed;
        outline:none; }
        .bp3-file-input input:disabled + .bp3-file-upload-input::after.bp3-active, .bp3-file-input input:disabled + .bp3-file-upload-input::after.bp3-active:hover,
        .bp3-file-input input.bp3-disabled + .bp3-file-upload-input::after.bp3-active,
        .bp3-file-input input.bp3-disabled + .bp3-file-upload-input::after.bp3-active:hover{
          background:rgba(206, 217, 224, 0.7); }
      .bp3-dark .bp3-file-input input:disabled + .bp3-file-upload-input, .bp3-dark
      .bp3-file-input input.bp3-disabled + .bp3-file-upload-input{
        background:rgba(57, 75, 89, 0.5);
        -webkit-box-shadow:none;
                box-shadow:none;
        color:rgba(167, 182, 194, 0.6); }
        .bp3-dark .bp3-file-input input:disabled + .bp3-file-upload-input::after, .bp3-dark
        .bp3-file-input input.bp3-disabled + .bp3-file-upload-input::after{
          background-color:rgba(57, 75, 89, 0.5);
          background-image:none;
          -webkit-box-shadow:none;
                  box-shadow:none;
          color:rgba(167, 182, 194, 0.6); }
          .bp3-dark .bp3-file-input input:disabled + .bp3-file-upload-input::after.bp3-active, .bp3-dark
          .bp3-file-input input.bp3-disabled + .bp3-file-upload-input::after.bp3-active{
            background:rgba(57, 75, 89, 0.7); }
  .bp3-file-input.bp3-file-input-has-selection .bp3-file-upload-input{
    color:#182026; }
  .bp3-dark .bp3-file-input.bp3-file-input-has-selection .bp3-file-upload-input{
    color:#f5f8fa; }
  .bp3-file-input.bp3-fill{
    width:100%; }
  .bp3-file-input.bp3-large,
  .bp3-large .bp3-file-input{
    height:40px; }
  .bp3-file-input .bp3-file-upload-input-custom-text::after{
    content:attr(bp3-button-text); }

.bp3-file-upload-input{
  -webkit-appearance:none;
     -moz-appearance:none;
          appearance:none;
  background:#ffffff;
  border:none;
  border-radius:3px;
  -webkit-box-shadow:0 0 0 0 rgba(19, 124, 189, 0), 0 0 0 0 rgba(19, 124, 189, 0), inset 0 0 0 1px rgba(16, 22, 26, 0.15), inset 0 1px 1px rgba(16, 22, 26, 0.2);
          box-shadow:0 0 0 0 rgba(19, 124, 189, 0), 0 0 0 0 rgba(19, 124, 189, 0), inset 0 0 0 1px rgba(16, 22, 26, 0.15), inset 0 1px 1px rgba(16, 22, 26, 0.2);
  color:#182026;
  font-size:14px;
  font-weight:400;
  height:30px;
  line-height:30px;
  outline:none;
  padding:0 10px;
  -webkit-transition:-webkit-box-shadow 100ms cubic-bezier(0.4, 1, 0.75, 0.9);
  transition:-webkit-box-shadow 100ms cubic-bezier(0.4, 1, 0.75, 0.9);
  transition:box-shadow 100ms cubic-bezier(0.4, 1, 0.75, 0.9);
  transition:box-shadow 100ms cubic-bezier(0.4, 1, 0.75, 0.9), -webkit-box-shadow 100ms cubic-bezier(0.4, 1, 0.75, 0.9);
  vertical-align:middle;
  overflow:hidden;
  text-overflow:ellipsis;
  white-space:nowrap;
  word-wrap:normal;
  color:rgba(92, 112, 128, 0.6);
  left:0;
  padding-right:80px;
  position:absolute;
  right:0;
  top:0;
  -webkit-user-select:none;
     -moz-user-select:none;
      -ms-user-select:none;
          user-select:none; }
  .bp3-file-upload-input::-webkit-input-placeholder{
    color:rgba(92, 112, 128, 0.6);
    opacity:1; }
  .bp3-file-upload-input::-moz-placeholder{
    color:rgba(92, 112, 128, 0.6);
    opacity:1; }
  .bp3-file-upload-input:-ms-input-placeholder{
    color:rgba(92, 112, 128, 0.6);
    opacity:1; }
  .bp3-file-upload-input::-ms-input-placeholder{
    color:rgba(92, 112, 128, 0.6);
    opacity:1; }
  .bp3-file-upload-input::placeholder{
    color:rgba(92, 112, 128, 0.6);
    opacity:1; }
  .bp3-file-upload-input:focus, .bp3-file-upload-input.bp3-active{
    -webkit-box-shadow:0 0 0 1px #137cbd, 0 0 0 3px rgba(19, 124, 189, 0.3), inset 0 1px 1px rgba(16, 22, 26, 0.2);
            box-shadow:0 0 0 1px #137cbd, 0 0 0 3px rgba(19, 124, 189, 0.3), inset 0 1px 1px rgba(16, 22, 26, 0.2); }
  .bp3-file-upload-input[type="search"], .bp3-file-upload-input.bp3-round{
    border-radius:30px;
    -webkit-box-sizing:border-box;
            box-sizing:border-box;
    padding-left:10px; }
  .bp3-file-upload-input[readonly]{
    -webkit-box-shadow:inset 0 0 0 1px rgba(16, 22, 26, 0.15);
            box-shadow:inset 0 0 0 1px rgba(16, 22, 26, 0.15); }
  .bp3-file-upload-input:disabled, .bp3-file-upload-input.bp3-disabled{
    background:rgba(206, 217, 224, 0.5);
    -webkit-box-shadow:none;
            box-shadow:none;
    color:rgba(92, 112, 128, 0.6);
    cursor:not-allowed;
    resize:none; }
  .bp3-file-upload-input::after{
    background-color:#f5f8fa;
    background-image:-webkit-gradient(linear, left top, left bottom, from(rgba(255, 255, 255, 0.8)), to(rgba(255, 255, 255, 0)));
    background-image:linear-gradient(to bottom, rgba(255, 255, 255, 0.8), rgba(255, 255, 255, 0));
    -webkit-box-shadow:inset 0 0 0 1px rgba(16, 22, 26, 0.2), inset 0 -1px 0 rgba(16, 22, 26, 0.1);
            box-shadow:inset 0 0 0 1px rgba(16, 22, 26, 0.2), inset 0 -1px 0 rgba(16, 22, 26, 0.1);
    color:#182026;
    min-height:24px;
    min-width:24px;
    overflow:hidden;
    text-overflow:ellipsis;
    white-space:nowrap;
    word-wrap:normal;
    border-radius:3px;
    content:"Browse";
    line-height:24px;
    margin:3px;
    position:absolute;
    right:0;
    text-align:center;
    top:0;
    width:70px; }
    .bp3-file-upload-input::after:hover{
      background-clip:padding-box;
      background-color:#ebf1f5;
      -webkit-box-shadow:inset 0 0 0 1px rgba(16, 22, 26, 0.2), inset 0 -1px 0 rgba(16, 22, 26, 0.1);
              box-shadow:inset 0 0 0 1px rgba(16, 22, 26, 0.2), inset 0 -1px 0 rgba(16, 22, 26, 0.1); }
    .bp3-file-upload-input::after:active, .bp3-file-upload-input::after.bp3-active{
      background-color:#d8e1e8;
      background-image:none;
      -webkit-box-shadow:inset 0 0 0 1px rgba(16, 22, 26, 0.2), inset 0 1px 2px rgba(16, 22, 26, 0.2);
              box-shadow:inset 0 0 0 1px rgba(16, 22, 26, 0.2), inset 0 1px 2px rgba(16, 22, 26, 0.2); }
    .bp3-file-upload-input::after:disabled, .bp3-file-upload-input::after.bp3-disabled{
      background-color:rgba(206, 217, 224, 0.5);
      background-image:none;
      -webkit-box-shadow:none;
              box-shadow:none;
      color:rgba(92, 112, 128, 0.6);
      cursor:not-allowed;
      outline:none; }
      .bp3-file-upload-input::after:disabled.bp3-active, .bp3-file-upload-input::after:disabled.bp3-active:hover, .bp3-file-upload-input::after.bp3-disabled.bp3-active, .bp3-file-upload-input::after.bp3-disabled.bp3-active:hover{
        background:rgba(206, 217, 224, 0.7); }
  .bp3-file-upload-input:hover::after{
    background-clip:padding-box;
    background-color:#ebf1f5;
    -webkit-box-shadow:inset 0 0 0 1px rgba(16, 22, 26, 0.2), inset 0 -1px 0 rgba(16, 22, 26, 0.1);
            box-shadow:inset 0 0 0 1px rgba(16, 22, 26, 0.2), inset 0 -1px 0 rgba(16, 22, 26, 0.1); }
  .bp3-file-upload-input:active::after{
    background-color:#d8e1e8;
    background-image:none;
    -webkit-box-shadow:inset 0 0 0 1px rgba(16, 22, 26, 0.2), inset 0 1px 2px rgba(16, 22, 26, 0.2);
            box-shadow:inset 0 0 0 1px rgba(16, 22, 26, 0.2), inset 0 1px 2px rgba(16, 22, 26, 0.2); }
  .bp3-large .bp3-file-upload-input{
    font-size:16px;
    height:40px;
    line-height:40px;
    padding-right:95px; }
    .bp3-large .bp3-file-upload-input[type="search"], .bp3-large .bp3-file-upload-input.bp3-round{
      padding:0 15px; }
    .bp3-large .bp3-file-upload-input::after{
      min-height:30px;
      min-width:30px;
      line-height:30px;
      margin:5px;
      width:85px; }
  .bp3-dark .bp3-file-upload-input{
    background:rgba(16, 22, 26, 0.3);
    -webkit-box-shadow:0 0 0 0 rgba(19, 124, 189, 0), 0 0 0 0 rgba(19, 124, 189, 0), 0 0 0 0 rgba(19, 124, 189, 0), inset 0 0 0 1px rgba(16, 22, 26, 0.3), inset 0 1px 1px rgba(16, 22, 26, 0.4);
            box-shadow:0 0 0 0 rgba(19, 124, 189, 0), 0 0 0 0 rgba(19, 124, 189, 0), 0 0 0 0 rgba(19, 124, 189, 0), inset 0 0 0 1px rgba(16, 22, 26, 0.3), inset 0 1px 1px rgba(16, 22, 26, 0.4);
    color:#f5f8fa;
    color:rgba(167, 182, 194, 0.6); }
    .bp3-dark .bp3-file-upload-input::-webkit-input-placeholder{
      color:rgba(167, 182, 194, 0.6); }
    .bp3-dark .bp3-file-upload-input::-moz-placeholder{
      color:rgba(167, 182, 194, 0.6); }
    .bp3-dark .bp3-file-upload-input:-ms-input-placeholder{
      color:rgba(167, 182, 194, 0.6); }
    .bp3-dark .bp3-file-upload-input::-ms-input-placeholder{
      color:rgba(167, 182, 194, 0.6); }
    .bp3-dark .bp3-file-upload-input::placeholder{
      color:rgba(167, 182, 194, 0.6); }
    .bp3-dark .bp3-file-upload-input:focus{
      -webkit-box-shadow:0 0 0 1px #137cbd, 0 0 0 1px #137cbd, 0 0 0 3px rgba(19, 124, 189, 0.3), inset 0 0 0 1px rgba(16, 22, 26, 0.3), inset 0 1px 1px rgba(16, 22, 26, 0.4);
              box-shadow:0 0 0 1px #137cbd, 0 0 0 1px #137cbd, 0 0 0 3px rgba(19, 124, 189, 0.3), inset 0 0 0 1px rgba(16, 22, 26, 0.3), inset 0 1px 1px rgba(16, 22, 26, 0.4); }
    .bp3-dark .bp3-file-upload-input[readonly]{
      -webkit-box-shadow:inset 0 0 0 1px rgba(16, 22, 26, 0.4);
              box-shadow:inset 0 0 0 1px rgba(16, 22, 26, 0.4); }
    .bp3-dark .bp3-file-upload-input:disabled, .bp3-dark .bp3-file-upload-input.bp3-disabled{
      background:rgba(57, 75, 89, 0.5);
      -webkit-box-shadow:none;
              box-shadow:none;
      color:rgba(167, 182, 194, 0.6); }
    .bp3-dark .bp3-file-upload-input::after{
      background-color:#394b59;
      background-image:-webkit-gradient(linear, left top, left bottom, from(rgba(255, 255, 255, 0.05)), to(rgba(255, 255, 255, 0)));
      background-image:linear-gradient(to bottom, rgba(255, 255, 255, 0.05), rgba(255, 255, 255, 0));
      -webkit-box-shadow:0 0 0 1px rgba(16, 22, 26, 0.4);
              box-shadow:0 0 0 1px rgba(16, 22, 26, 0.4);
      color:#f5f8fa; }
      .bp3-dark .bp3-file-upload-input::after:hover, .bp3-dark .bp3-file-upload-input::after:active, .bp3-dark .bp3-file-upload-input::after.bp3-active{
        color:#f5f8fa; }
      .bp3-dark .bp3-file-upload-input::after:hover{
        background-color:#30404d;
        -webkit-box-shadow:0 0 0 1px rgba(16, 22, 26, 0.4);
                box-shadow:0 0 0 1px rgba(16, 22, 26, 0.4); }
      .bp3-dark .bp3-file-upload-input::after:active, .bp3-dark .bp3-file-upload-input::after.bp3-active{
        background-color:#202b33;
        background-image:none;
        -webkit-box-shadow:0 0 0 1px rgba(16, 22, 26, 0.6), inset 0 1px 2px rgba(16, 22, 26, 0.2);
                box-shadow:0 0 0 1px rgba(16, 22, 26, 0.6), inset 0 1px 2px rgba(16, 22, 26, 0.2); }
      .bp3-dark .bp3-file-upload-input::after:disabled, .bp3-dark .bp3-file-upload-input::after.bp3-disabled{
        background-color:rgba(57, 75, 89, 0.5);
        background-image:none;
        -webkit-box-shadow:none;
                box-shadow:none;
        color:rgba(167, 182, 194, 0.6); }
        .bp3-dark .bp3-file-upload-input::after:disabled.bp3-active, .bp3-dark .bp3-file-upload-input::after.bp3-disabled.bp3-active{
          background:rgba(57, 75, 89, 0.7); }
      .bp3-dark .bp3-file-upload-input::after .bp3-button-spinner .bp3-spinner-head{
        background:rgba(16, 22, 26, 0.5);
        stroke:#8a9ba8; }
    .bp3-dark .bp3-file-upload-input:hover::after{
      background-color:#30404d;
      -webkit-box-shadow:0 0 0 1px rgba(16, 22, 26, 0.4);
              box-shadow:0 0 0 1px rgba(16, 22, 26, 0.4); }
    .bp3-dark .bp3-file-upload-input:active::after{
      background-color:#202b33;
      background-image:none;
      -webkit-box-shadow:0 0 0 1px rgba(16, 22, 26, 0.6), inset 0 1px 2px rgba(16, 22, 26, 0.2);
              box-shadow:0 0 0 1px rgba(16, 22, 26, 0.6), inset 0 1px 2px rgba(16, 22, 26, 0.2); }
.bp3-file-upload-input::after{
  -webkit-box-shadow:inset 0 0 0 1px rgba(16, 22, 26, 0.2), inset 0 -1px 0 rgba(16, 22, 26, 0.1);
          box-shadow:inset 0 0 0 1px rgba(16, 22, 26, 0.2), inset 0 -1px 0 rgba(16, 22, 26, 0.1); }
.bp3-form-group{
  display:-webkit-box;
  display:-ms-flexbox;
  display:flex;
  -webkit-box-orient:vertical;
  -webkit-box-direction:normal;
      -ms-flex-direction:column;
          flex-direction:column;
  margin:0 0 15px; }
  .bp3-form-group label.bp3-label{
    margin-bottom:5px; }
  .bp3-form-group .bp3-control{
    margin-top:7px; }
  .bp3-form-group .bp3-form-helper-text{
    color:#5c7080;
    font-size:12px;
    margin-top:5px; }
  .bp3-form-group.bp3-intent-primary .bp3-form-helper-text{
    color:#106ba3; }
  .bp3-form-group.bp3-intent-success .bp3-form-helper-text{
    color:#0d8050; }
  .bp3-form-group.bp3-intent-warning .bp3-form-helper-text{
    color:#bf7326; }
  .bp3-form-group.bp3-intent-danger .bp3-form-helper-text{
    color:#c23030; }
  .bp3-form-group.bp3-inline{
    -webkit-box-align:start;
        -ms-flex-align:start;
            align-items:flex-start;
    -webkit-box-orient:horizontal;
    -webkit-box-direction:normal;
        -ms-flex-direction:row;
            flex-direction:row; }
    .bp3-form-group.bp3-inline.bp3-large label.bp3-label{
      line-height:40px;
      margin:0 10px 0 0; }
    .bp3-form-group.bp3-inline label.bp3-label{
      line-height:30px;
      margin:0 10px 0 0; }
  .bp3-form-group.bp3-disabled .bp3-label,
  .bp3-form-group.bp3-disabled .bp3-text-muted,
  .bp3-form-group.bp3-disabled .bp3-form-helper-text{
    color:rgba(92, 112, 128, 0.6) !important; }
  .bp3-dark .bp3-form-group.bp3-intent-primary .bp3-form-helper-text{
    color:#48aff0; }
  .bp3-dark .bp3-form-group.bp3-intent-success .bp3-form-helper-text{
    color:#3dcc91; }
  .bp3-dark .bp3-form-group.bp3-intent-warning .bp3-form-helper-text{
    color:#ffb366; }
  .bp3-dark .bp3-form-group.bp3-intent-danger .bp3-form-helper-text{
    color:#ff7373; }
  .bp3-dark .bp3-form-group .bp3-form-helper-text{
    color:#a7b6c2; }
  .bp3-dark .bp3-form-group.bp3-disabled .bp3-label,
  .bp3-dark .bp3-form-group.bp3-disabled .bp3-text-muted,
  .bp3-dark .bp3-form-group.bp3-disabled .bp3-form-helper-text{
    color:rgba(167, 182, 194, 0.6) !important; }
.bp3-input-group{
  display:block;
  position:relative; }
  .bp3-input-group .bp3-input{
    position:relative;
    width:100%; }
    .bp3-input-group .bp3-input:not(:first-child){
      padding-left:30px; }
    .bp3-input-group .bp3-input:not(:last-child){
      padding-right:30px; }
  .bp3-input-group .bp3-input-action,
  .bp3-input-group > .bp3-input-left-container,
  .bp3-input-group > .bp3-button,
  .bp3-input-group > .bp3-icon{
    position:absolute;
    top:0; }
    .bp3-input-group .bp3-input-action:first-child,
    .bp3-input-group > .bp3-input-left-container:first-child,
    .bp3-input-group > .bp3-button:first-child,
    .bp3-input-group > .bp3-icon:first-child{
      left:0; }
    .bp3-input-group .bp3-input-action:last-child,
    .bp3-input-group > .bp3-input-left-container:last-child,
    .bp3-input-group > .bp3-button:last-child,
    .bp3-input-group > .bp3-icon:last-child{
      right:0; }
  .bp3-input-group .bp3-button{
    min-height:24px;
    min-width:24px;
    margin:3px;
    padding:0 7px; }
    .bp3-input-group .bp3-button:empty{
      padding:0; }
  .bp3-input-group > .bp3-input-left-container,
  .bp3-input-group > .bp3-icon{
    z-index:1; }
  .bp3-input-group > .bp3-input-left-container > .bp3-icon,
  .bp3-input-group > .bp3-icon{
    color:#5c7080; }
    .bp3-input-group > .bp3-input-left-container > .bp3-icon:empty,
    .bp3-input-group > .bp3-icon:empty{
      font-family:"Icons16", sans-serif;
      font-size:16px;
      font-style:normal;
      font-weight:400;
      line-height:1;
      -moz-osx-font-smoothing:grayscale;
      -webkit-font-smoothing:antialiased; }
  .bp3-input-group > .bp3-input-left-container > .bp3-icon,
  .bp3-input-group > .bp3-icon,
  .bp3-input-group .bp3-input-action > .bp3-spinner{
    margin:7px; }
  .bp3-input-group .bp3-tag{
    margin:5px; }
  .bp3-input-group .bp3-input:not(:focus) + .bp3-button.bp3-minimal:not(:hover):not(:focus),
  .bp3-input-group .bp3-input:not(:focus) + .bp3-input-action .bp3-button.bp3-minimal:not(:hover):not(:focus){
    color:#5c7080; }
    .bp3-dark .bp3-input-group .bp3-input:not(:focus) + .bp3-button.bp3-minimal:not(:hover):not(:focus), .bp3-dark
    .bp3-input-group .bp3-input:not(:focus) + .bp3-input-action .bp3-button.bp3-minimal:not(:hover):not(:focus){
      color:#a7b6c2; }
    .bp3-input-group .bp3-input:not(:focus) + .bp3-button.bp3-minimal:not(:hover):not(:focus) .bp3-icon, .bp3-input-group .bp3-input:not(:focus) + .bp3-button.bp3-minimal:not(:hover):not(:focus) .bp3-icon-standard, .bp3-input-group .bp3-input:not(:focus) + .bp3-button.bp3-minimal:not(:hover):not(:focus) .bp3-icon-large,
    .bp3-input-group .bp3-input:not(:focus) + .bp3-input-action .bp3-button.bp3-minimal:not(:hover):not(:focus) .bp3-icon,
    .bp3-input-group .bp3-input:not(:focus) + .bp3-input-action .bp3-button.bp3-minimal:not(:hover):not(:focus) .bp3-icon-standard,
    .bp3-input-group .bp3-input:not(:focus) + .bp3-input-action .bp3-button.bp3-minimal:not(:hover):not(:focus) .bp3-icon-large{
      color:#5c7080; }
  .bp3-input-group .bp3-input:not(:focus) + .bp3-button.bp3-minimal:disabled,
  .bp3-input-group .bp3-input:not(:focus) + .bp3-input-action .bp3-button.bp3-minimal:disabled{
    color:rgba(92, 112, 128, 0.6) !important; }
    .bp3-input-group .bp3-input:not(:focus) + .bp3-button.bp3-minimal:disabled .bp3-icon, .bp3-input-group .bp3-input:not(:focus) + .bp3-button.bp3-minimal:disabled .bp3-icon-standard, .bp3-input-group .bp3-input:not(:focus) + .bp3-button.bp3-minimal:disabled .bp3-icon-large,
    .bp3-input-group .bp3-input:not(:focus) + .bp3-input-action .bp3-button.bp3-minimal:disabled .bp3-icon,
    .bp3-input-group .bp3-input:not(:focus) + .bp3-input-action .bp3-button.bp3-minimal:disabled .bp3-icon-standard,
    .bp3-input-group .bp3-input:not(:focus) + .bp3-input-action .bp3-button.bp3-minimal:disabled .bp3-icon-large{
      color:rgba(92, 112, 128, 0.6) !important; }
  .bp3-input-group.bp3-disabled{
    cursor:not-allowed; }
    .bp3-input-group.bp3-disabled .bp3-icon{
      color:rgba(92, 112, 128, 0.6); }
  .bp3-input-group.bp3-large .bp3-button{
    min-height:30px;
    min-width:30px;
    margin:5px; }
  .bp3-input-group.bp3-large > .bp3-input-left-container > .bp3-icon,
  .bp3-input-group.bp3-large > .bp3-icon,
  .bp3-input-group.bp3-large .bp3-input-action > .bp3-spinner{
    margin:12px; }
  .bp3-input-group.bp3-large .bp3-input{
    font-size:16px;
    height:40px;
    line-height:40px; }
    .bp3-input-group.bp3-large .bp3-input[type="search"], .bp3-input-group.bp3-large .bp3-input.bp3-round{
      padding:0 15px; }
    .bp3-input-group.bp3-large .bp3-input:not(:first-child){
      padding-left:40px; }
    .bp3-input-group.bp3-large .bp3-input:not(:last-child){
      padding-right:40px; }
  .bp3-input-group.bp3-small .bp3-button{
    min-height:20px;
    min-width:20px;
    margin:2px; }
  .bp3-input-group.bp3-small .bp3-tag{
    min-height:20px;
    min-width:20px;
    margin:2px; }
  .bp3-input-group.bp3-small > .bp3-input-left-container > .bp3-icon,
  .bp3-input-group.bp3-small > .bp3-icon,
  .bp3-input-group.bp3-small .bp3-input-action > .bp3-spinner{
    margin:4px; }
  .bp3-input-group.bp3-small .bp3-input{
    font-size:12px;
    height:24px;
    line-height:24px;
    padding-left:8px;
    padding-right:8px; }
    .bp3-input-group.bp3-small .bp3-input[type="search"], .bp3-input-group.bp3-small .bp3-input.bp3-round{
      padding:0 12px; }
    .bp3-input-group.bp3-small .bp3-input:not(:first-child){
      padding-left:24px; }
    .bp3-input-group.bp3-small .bp3-input:not(:last-child){
      padding-right:24px; }
  .bp3-input-group.bp3-fill{
    -webkit-box-flex:1;
        -ms-flex:1 1 auto;
            flex:1 1 auto;
    width:100%; }
  .bp3-input-group.bp3-round .bp3-button,
  .bp3-input-group.bp3-round .bp3-input,
  .bp3-input-group.bp3-round .bp3-tag{
    border-radius:30px; }
  .bp3-dark .bp3-input-group .bp3-icon{
    color:#a7b6c2; }
  .bp3-dark .bp3-input-group.bp3-disabled .bp3-icon{
    color:rgba(167, 182, 194, 0.6); }
  .bp3-input-group.bp3-intent-primary .bp3-input{
    -webkit-box-shadow:0 0 0 0 rgba(19, 124, 189, 0), 0 0 0 0 rgba(19, 124, 189, 0), inset 0 0 0 1px #137cbd, inset 0 0 0 1px rgba(16, 22, 26, 0.15), inset 0 1px 1px rgba(16, 22, 26, 0.2);
            box-shadow:0 0 0 0 rgba(19, 124, 189, 0), 0 0 0 0 rgba(19, 124, 189, 0), inset 0 0 0 1px #137cbd, inset 0 0 0 1px rgba(16, 22, 26, 0.15), inset 0 1px 1px rgba(16, 22, 26, 0.2); }
    .bp3-input-group.bp3-intent-primary .bp3-input:focus{
      -webkit-box-shadow:0 0 0 1px #137cbd, 0 0 0 3px rgba(19, 124, 189, 0.3), inset 0 1px 1px rgba(16, 22, 26, 0.2);
              box-shadow:0 0 0 1px #137cbd, 0 0 0 3px rgba(19, 124, 189, 0.3), inset 0 1px 1px rgba(16, 22, 26, 0.2); }
    .bp3-input-group.bp3-intent-primary .bp3-input[readonly]{
      -webkit-box-shadow:inset 0 0 0 1px #137cbd;
              box-shadow:inset 0 0 0 1px #137cbd; }
    .bp3-input-group.bp3-intent-primary .bp3-input:disabled, .bp3-input-group.bp3-intent-primary .bp3-input.bp3-disabled{
      -webkit-box-shadow:none;
              box-shadow:none; }
  .bp3-input-group.bp3-intent-primary > .bp3-icon{
    color:#106ba3; }
    .bp3-dark .bp3-input-group.bp3-intent-primary > .bp3-icon{
      color:#48aff0; }
  .bp3-input-group.bp3-intent-success .bp3-input{
    -webkit-box-shadow:0 0 0 0 rgba(15, 153, 96, 0), 0 0 0 0 rgba(15, 153, 96, 0), inset 0 0 0 1px #0f9960, inset 0 0 0 1px rgba(16, 22, 26, 0.15), inset 0 1px 1px rgba(16, 22, 26, 0.2);
            box-shadow:0 0 0 0 rgba(15, 153, 96, 0), 0 0 0 0 rgba(15, 153, 96, 0), inset 0 0 0 1px #0f9960, inset 0 0 0 1px rgba(16, 22, 26, 0.15), inset 0 1px 1px rgba(16, 22, 26, 0.2); }
    .bp3-input-group.bp3-intent-success .bp3-input:focus{
      -webkit-box-shadow:0 0 0 1px #0f9960, 0 0 0 3px rgba(15, 153, 96, 0.3), inset 0 1px 1px rgba(16, 22, 26, 0.2);
              box-shadow:0 0 0 1px #0f9960, 0 0 0 3px rgba(15, 153, 96, 0.3), inset 0 1px 1px rgba(16, 22, 26, 0.2); }
    .bp3-input-group.bp3-intent-success .bp3-input[readonly]{
      -webkit-box-shadow:inset 0 0 0 1px #0f9960;
              box-shadow:inset 0 0 0 1px #0f9960; }
    .bp3-input-group.bp3-intent-success .bp3-input:disabled, .bp3-input-group.bp3-intent-success .bp3-input.bp3-disabled{
      -webkit-box-shadow:none;
              box-shadow:none; }
  .bp3-input-group.bp3-intent-success > .bp3-icon{
    color:#0d8050; }
    .bp3-dark .bp3-input-group.bp3-intent-success > .bp3-icon{
      color:#3dcc91; }
  .bp3-input-group.bp3-intent-warning .bp3-input{
    -webkit-box-shadow:0 0 0 0 rgba(217, 130, 43, 0), 0 0 0 0 rgba(217, 130, 43, 0), inset 0 0 0 1px #d9822b, inset 0 0 0 1px rgba(16, 22, 26, 0.15), inset 0 1px 1px rgba(16, 22, 26, 0.2);
            box-shadow:0 0 0 0 rgba(217, 130, 43, 0), 0 0 0 0 rgba(217, 130, 43, 0), inset 0 0 0 1px #d9822b, inset 0 0 0 1px rgba(16, 22, 26, 0.15), inset 0 1px 1px rgba(16, 22, 26, 0.2); }
    .bp3-input-group.bp3-intent-warning .bp3-input:focus{
      -webkit-box-shadow:0 0 0 1px #d9822b, 0 0 0 3px rgba(217, 130, 43, 0.3), inset 0 1px 1px rgba(16, 22, 26, 0.2);
              box-shadow:0 0 0 1px #d9822b, 0 0 0 3px rgba(217, 130, 43, 0.3), inset 0 1px 1px rgba(16, 22, 26, 0.2); }
    .bp3-input-group.bp3-intent-warning .bp3-input[readonly]{
      -webkit-box-shadow:inset 0 0 0 1px #d9822b;
              box-shadow:inset 0 0 0 1px #d9822b; }
    .bp3-input-group.bp3-intent-warning .bp3-input:disabled, .bp3-input-group.bp3-intent-warning .bp3-input.bp3-disabled{
      -webkit-box-shadow:none;
              box-shadow:none; }
  .bp3-input-group.bp3-intent-warning > .bp3-icon{
    color:#bf7326; }
    .bp3-dark .bp3-input-group.bp3-intent-warning > .bp3-icon{
      color:#ffb366; }
  .bp3-input-group.bp3-intent-danger .bp3-input{
    -webkit-box-shadow:0 0 0 0 rgba(219, 55, 55, 0), 0 0 0 0 rgba(219, 55, 55, 0), inset 0 0 0 1px #db3737, inset 0 0 0 1px rgba(16, 22, 26, 0.15), inset 0 1px 1px rgba(16, 22, 26, 0.2);
            box-shadow:0 0 0 0 rgba(219, 55, 55, 0), 0 0 0 0 rgba(219, 55, 55, 0), inset 0 0 0 1px #db3737, inset 0 0 0 1px rgba(16, 22, 26, 0.15), inset 0 1px 1px rgba(16, 22, 26, 0.2); }
    .bp3-input-group.bp3-intent-danger .bp3-input:focus{
      -webkit-box-shadow:0 0 0 1px #db3737, 0 0 0 3px rgba(219, 55, 55, 0.3), inset 0 1px 1px rgba(16, 22, 26, 0.2);
              box-shadow:0 0 0 1px #db3737, 0 0 0 3px rgba(219, 55, 55, 0.3), inset 0 1px 1px rgba(16, 22, 26, 0.2); }
    .bp3-input-group.bp3-intent-danger .bp3-input[readonly]{
      -webkit-box-shadow:inset 0 0 0 1px #db3737;
              box-shadow:inset 0 0 0 1px #db3737; }
    .bp3-input-group.bp3-intent-danger .bp3-input:disabled, .bp3-input-group.bp3-intent-danger .bp3-input.bp3-disabled{
      -webkit-box-shadow:none;
              box-shadow:none; }
  .bp3-input-group.bp3-intent-danger > .bp3-icon{
    color:#c23030; }
    .bp3-dark .bp3-input-group.bp3-intent-danger > .bp3-icon{
      color:#ff7373; }
.bp3-input{
  -webkit-appearance:none;
     -moz-appearance:none;
          appearance:none;
  background:#ffffff;
  border:none;
  border-radius:3px;
  -webkit-box-shadow:0 0 0 0 rgba(19, 124, 189, 0), 0 0 0 0 rgba(19, 124, 189, 0), inset 0 0 0 1px rgba(16, 22, 26, 0.15), inset 0 1px 1px rgba(16, 22, 26, 0.2);
          box-shadow:0 0 0 0 rgba(19, 124, 189, 0), 0 0 0 0 rgba(19, 124, 189, 0), inset 0 0 0 1px rgba(16, 22, 26, 0.15), inset 0 1px 1px rgba(16, 22, 26, 0.2);
  color:#182026;
  font-size:14px;
  font-weight:400;
  height:30px;
  line-height:30px;
  outline:none;
  padding:0 10px;
  -webkit-transition:-webkit-box-shadow 100ms cubic-bezier(0.4, 1, 0.75, 0.9);
  transition:-webkit-box-shadow 100ms cubic-bezier(0.4, 1, 0.75, 0.9);
  transition:box-shadow 100ms cubic-bezier(0.4, 1, 0.75, 0.9);
  transition:box-shadow 100ms cubic-bezier(0.4, 1, 0.75, 0.9), -webkit-box-shadow 100ms cubic-bezier(0.4, 1, 0.75, 0.9);
  vertical-align:middle; }
  .bp3-input::-webkit-input-placeholder{
    color:rgba(92, 112, 128, 0.6);
    opacity:1; }
  .bp3-input::-moz-placeholder{
    color:rgba(92, 112, 128, 0.6);
    opacity:1; }
  .bp3-input:-ms-input-placeholder{
    color:rgba(92, 112, 128, 0.6);
    opacity:1; }
  .bp3-input::-ms-input-placeholder{
    color:rgba(92, 112, 128, 0.6);
    opacity:1; }
  .bp3-input::placeholder{
    color:rgba(92, 112, 128, 0.6);
    opacity:1; }
  .bp3-input:focus, .bp3-input.bp3-active{
    -webkit-box-shadow:0 0 0 1px #137cbd, 0 0 0 3px rgba(19, 124, 189, 0.3), inset 0 1px 1px rgba(16, 22, 26, 0.2);
            box-shadow:0 0 0 1px #137cbd, 0 0 0 3px rgba(19, 124, 189, 0.3), inset 0 1px 1px rgba(16, 22, 26, 0.2); }
  .bp3-input[type="search"], .bp3-input.bp3-round{
    border-radius:30px;
    -webkit-box-sizing:border-box;
            box-sizing:border-box;
    padding-left:10px; }
  .bp3-input[readonly]{
    -webkit-box-shadow:inset 0 0 0 1px rgba(16, 22, 26, 0.15);
            box-shadow:inset 0 0 0 1px rgba(16, 22, 26, 0.15); }
  .bp3-input:disabled, .bp3-input.bp3-disabled{
    background:rgba(206, 217, 224, 0.5);
    -webkit-box-shadow:none;
            box-shadow:none;
    color:rgba(92, 112, 128, 0.6);
    cursor:not-allowed;
    resize:none; }
  .bp3-input.bp3-large{
    font-size:16px;
    height:40px;
    line-height:40px; }
    .bp3-input.bp3-large[type="search"], .bp3-input.bp3-large.bp3-round{
      padding:0 15px; }
  .bp3-input.bp3-small{
    font-size:12px;
    height:24px;
    line-height:24px;
    padding-left:8px;
    padding-right:8px; }
    .bp3-input.bp3-small[type="search"], .bp3-input.bp3-small.bp3-round{
      padding:0 12px; }
  .bp3-input.bp3-fill{
    -webkit-box-flex:1;
        -ms-flex:1 1 auto;
            flex:1 1 auto;
    width:100%; }
  .bp3-dark .bp3-input{
    background:rgba(16, 22, 26, 0.3);
    -webkit-box-shadow:0 0 0 0 rgba(19, 124, 189, 0), 0 0 0 0 rgba(19, 124, 189, 0), 0 0 0 0 rgba(19, 124, 189, 0), inset 0 0 0 1px rgba(16, 22, 26, 0.3), inset 0 1px 1px rgba(16, 22, 26, 0.4);
            box-shadow:0 0 0 0 rgba(19, 124, 189, 0), 0 0 0 0 rgba(19, 124, 189, 0), 0 0 0 0 rgba(19, 124, 189, 0), inset 0 0 0 1px rgba(16, 22, 26, 0.3), inset 0 1px 1px rgba(16, 22, 26, 0.4);
    color:#f5f8fa; }
    .bp3-dark .bp3-input::-webkit-input-placeholder{
      color:rgba(167, 182, 194, 0.6); }
    .bp3-dark .bp3-input::-moz-placeholder{
      color:rgba(167, 182, 194, 0.6); }
    .bp3-dark .bp3-input:-ms-input-placeholder{
      color:rgba(167, 182, 194, 0.6); }
    .bp3-dark .bp3-input::-ms-input-placeholder{
      color:rgba(167, 182, 194, 0.6); }
    .bp3-dark .bp3-input::placeholder{
      color:rgba(167, 182, 194, 0.6); }
    .bp3-dark .bp3-input:focus{
      -webkit-box-shadow:0 0 0 1px #137cbd, 0 0 0 1px #137cbd, 0 0 0 3px rgba(19, 124, 189, 0.3), inset 0 0 0 1px rgba(16, 22, 26, 0.3), inset 0 1px 1px rgba(16, 22, 26, 0.4);
              box-shadow:0 0 0 1px #137cbd, 0 0 0 1px #137cbd, 0 0 0 3px rgba(19, 124, 189, 0.3), inset 0 0 0 1px rgba(16, 22, 26, 0.3), inset 0 1px 1px rgba(16, 22, 26, 0.4); }
    .bp3-dark .bp3-input[readonly]{
      -webkit-box-shadow:inset 0 0 0 1px rgba(16, 22, 26, 0.4);
              box-shadow:inset 0 0 0 1px rgba(16, 22, 26, 0.4); }
    .bp3-dark .bp3-input:disabled, .bp3-dark .bp3-input.bp3-disabled{
      background:rgba(57, 75, 89, 0.5);
      -webkit-box-shadow:none;
              box-shadow:none;
      color:rgba(167, 182, 194, 0.6); }
  .bp3-input.bp3-intent-primary{
    -webkit-box-shadow:0 0 0 0 rgba(19, 124, 189, 0), 0 0 0 0 rgba(19, 124, 189, 0), inset 0 0 0 1px #137cbd, inset 0 0 0 1px rgba(16, 22, 26, 0.15), inset 0 1px 1px rgba(16, 22, 26, 0.2);
            box-shadow:0 0 0 0 rgba(19, 124, 189, 0), 0 0 0 0 rgba(19, 124, 189, 0), inset 0 0 0 1px #137cbd, inset 0 0 0 1px rgba(16, 22, 26, 0.15), inset 0 1px 1px rgba(16, 22, 26, 0.2); }
    .bp3-input.bp3-intent-primary:focus{
      -webkit-box-shadow:0 0 0 1px #137cbd, 0 0 0 3px rgba(19, 124, 189, 0.3), inset 0 1px 1px rgba(16, 22, 26, 0.2);
              box-shadow:0 0 0 1px #137cbd, 0 0 0 3px rgba(19, 124, 189, 0.3), inset 0 1px 1px rgba(16, 22, 26, 0.2); }
    .bp3-input.bp3-intent-primary[readonly]{
      -webkit-box-shadow:inset 0 0 0 1px #137cbd;
              box-shadow:inset 0 0 0 1px #137cbd; }
    .bp3-input.bp3-intent-primary:disabled, .bp3-input.bp3-intent-primary.bp3-disabled{
      -webkit-box-shadow:none;
              box-shadow:none; }
    .bp3-dark .bp3-input.bp3-intent-primary{
      -webkit-box-shadow:0 0 0 0 rgba(19, 124, 189, 0), 0 0 0 0 rgba(19, 124, 189, 0), 0 0 0 0 rgba(19, 124, 189, 0), inset 0 0 0 1px #137cbd, inset 0 0 0 1px rgba(16, 22, 26, 0.3), inset 0 1px 1px rgba(16, 22, 26, 0.4);
              box-shadow:0 0 0 0 rgba(19, 124, 189, 0), 0 0 0 0 rgba(19, 124, 189, 0), 0 0 0 0 rgba(19, 124, 189, 0), inset 0 0 0 1px #137cbd, inset 0 0 0 1px rgba(16, 22, 26, 0.3), inset 0 1px 1px rgba(16, 22, 26, 0.4); }
      .bp3-dark .bp3-input.bp3-intent-primary:focus{
        -webkit-box-shadow:0 0 0 1px #137cbd, 0 0 0 1px #137cbd, 0 0 0 3px rgba(19, 124, 189, 0.3), inset 0 0 0 1px rgba(16, 22, 26, 0.3), inset 0 1px 1px rgba(16, 22, 26, 0.4);
                box-shadow:0 0 0 1px #137cbd, 0 0 0 1px #137cbd, 0 0 0 3px rgba(19, 124, 189, 0.3), inset 0 0 0 1px rgba(16, 22, 26, 0.3), inset 0 1px 1px rgba(16, 22, 26, 0.4); }
      .bp3-dark .bp3-input.bp3-intent-primary[readonly]{
        -webkit-box-shadow:inset 0 0 0 1px #137cbd;
                box-shadow:inset 0 0 0 1px #137cbd; }
      .bp3-dark .bp3-input.bp3-intent-primary:disabled, .bp3-dark .bp3-input.bp3-intent-primary.bp3-disabled{
        -webkit-box-shadow:none;
                box-shadow:none; }
  .bp3-input.bp3-intent-success{
    -webkit-box-shadow:0 0 0 0 rgba(15, 153, 96, 0), 0 0 0 0 rgba(15, 153, 96, 0), inset 0 0 0 1px #0f9960, inset 0 0 0 1px rgba(16, 22, 26, 0.15), inset 0 1px 1px rgba(16, 22, 26, 0.2);
            box-shadow:0 0 0 0 rgba(15, 153, 96, 0), 0 0 0 0 rgba(15, 153, 96, 0), inset 0 0 0 1px #0f9960, inset 0 0 0 1px rgba(16, 22, 26, 0.15), inset 0 1px 1px rgba(16, 22, 26, 0.2); }
    .bp3-input.bp3-intent-success:focus{
      -webkit-box-shadow:0 0 0 1px #0f9960, 0 0 0 3px rgba(15, 153, 96, 0.3), inset 0 1px 1px rgba(16, 22, 26, 0.2);
              box-shadow:0 0 0 1px #0f9960, 0 0 0 3px rgba(15, 153, 96, 0.3), inset 0 1px 1px rgba(16, 22, 26, 0.2); }
    .bp3-input.bp3-intent-success[readonly]{
      -webkit-box-shadow:inset 0 0 0 1px #0f9960;
              box-shadow:inset 0 0 0 1px #0f9960; }
    .bp3-input.bp3-intent-success:disabled, .bp3-input.bp3-intent-success.bp3-disabled{
      -webkit-box-shadow:none;
              box-shadow:none; }
    .bp3-dark .bp3-input.bp3-intent-success{
      -webkit-box-shadow:0 0 0 0 rgba(15, 153, 96, 0), 0 0 0 0 rgba(15, 153, 96, 0), 0 0 0 0 rgba(15, 153, 96, 0), inset 0 0 0 1px #0f9960, inset 0 0 0 1px rgba(16, 22, 26, 0.3), inset 0 1px 1px rgba(16, 22, 26, 0.4);
              box-shadow:0 0 0 0 rgba(15, 153, 96, 0), 0 0 0 0 rgba(15, 153, 96, 0), 0 0 0 0 rgba(15, 153, 96, 0), inset 0 0 0 1px #0f9960, inset 0 0 0 1px rgba(16, 22, 26, 0.3), inset 0 1px 1px rgba(16, 22, 26, 0.4); }
      .bp3-dark .bp3-input.bp3-intent-success:focus{
        -webkit-box-shadow:0 0 0 1px #0f9960, 0 0 0 1px #0f9960, 0 0 0 3px rgba(15, 153, 96, 0.3), inset 0 0 0 1px rgba(16, 22, 26, 0.3), inset 0 1px 1px rgba(16, 22, 26, 0.4);
                box-shadow:0 0 0 1px #0f9960, 0 0 0 1px #0f9960, 0 0 0 3px rgba(15, 153, 96, 0.3), inset 0 0 0 1px rgba(16, 22, 26, 0.3), inset 0 1px 1px rgba(16, 22, 26, 0.4); }
      .bp3-dark .bp3-input.bp3-intent-success[readonly]{
        -webkit-box-shadow:inset 0 0 0 1px #0f9960;
                box-shadow:inset 0 0 0 1px #0f9960; }
      .bp3-dark .bp3-input.bp3-intent-success:disabled, .bp3-dark .bp3-input.bp3-intent-success.bp3-disabled{
        -webkit-box-shadow:none;
                box-shadow:none; }
  .bp3-input.bp3-intent-warning{
    -webkit-box-shadow:0 0 0 0 rgba(217, 130, 43, 0), 0 0 0 0 rgba(217, 130, 43, 0), inset 0 0 0 1px #d9822b, inset 0 0 0 1px rgba(16, 22, 26, 0.15), inset 0 1px 1px rgba(16, 22, 26, 0.2);
            box-shadow:0 0 0 0 rgba(217, 130, 43, 0), 0 0 0 0 rgba(217, 130, 43, 0), inset 0 0 0 1px #d9822b, inset 0 0 0 1px rgba(16, 22, 26, 0.15), inset 0 1px 1px rgba(16, 22, 26, 0.2); }
    .bp3-input.bp3-intent-warning:focus{
      -webkit-box-shadow:0 0 0 1px #d9822b, 0 0 0 3px rgba(217, 130, 43, 0.3), inset 0 1px 1px rgba(16, 22, 26, 0.2);
              box-shadow:0 0 0 1px #d9822b, 0 0 0 3px rgba(217, 130, 43, 0.3), inset 0 1px 1px rgba(16, 22, 26, 0.2); }
    .bp3-input.bp3-intent-warning[readonly]{
      -webkit-box-shadow:inset 0 0 0 1px #d9822b;
              box-shadow:inset 0 0 0 1px #d9822b; }
    .bp3-input.bp3-intent-warning:disabled, .bp3-input.bp3-intent-warning.bp3-disabled{
      -webkit-box-shadow:none;
              box-shadow:none; }
    .bp3-dark .bp3-input.bp3-intent-warning{
      -webkit-box-shadow:0 0 0 0 rgba(217, 130, 43, 0), 0 0 0 0 rgba(217, 130, 43, 0), 0 0 0 0 rgba(217, 130, 43, 0), inset 0 0 0 1px #d9822b, inset 0 0 0 1px rgba(16, 22, 26, 0.3), inset 0 1px 1px rgba(16, 22, 26, 0.4);
              box-shadow:0 0 0 0 rgba(217, 130, 43, 0), 0 0 0 0 rgba(217, 130, 43, 0), 0 0 0 0 rgba(217, 130, 43, 0), inset 0 0 0 1px #d9822b, inset 0 0 0 1px rgba(16, 22, 26, 0.3), inset 0 1px 1px rgba(16, 22, 26, 0.4); }
      .bp3-dark .bp3-input.bp3-intent-warning:focus{
        -webkit-box-shadow:0 0 0 1px #d9822b, 0 0 0 1px #d9822b, 0 0 0 3px rgba(217, 130, 43, 0.3), inset 0 0 0 1px rgba(16, 22, 26, 0.3), inset 0 1px 1px rgba(16, 22, 26, 0.4);
                box-shadow:0 0 0 1px #d9822b, 0 0 0 1px #d9822b, 0 0 0 3px rgba(217, 130, 43, 0.3), inset 0 0 0 1px rgba(16, 22, 26, 0.3), inset 0 1px 1px rgba(16, 22, 26, 0.4); }
      .bp3-dark .bp3-input.bp3-intent-warning[readonly]{
        -webkit-box-shadow:inset 0 0 0 1px #d9822b;
                box-shadow:inset 0 0 0 1px #d9822b; }
      .bp3-dark .bp3-input.bp3-intent-warning:disabled, .bp3-dark .bp3-input.bp3-intent-warning.bp3-disabled{
        -webkit-box-shadow:none;
                box-shadow:none; }
  .bp3-input.bp3-intent-danger{
    -webkit-box-shadow:0 0 0 0 rgba(219, 55, 55, 0), 0 0 0 0 rgba(219, 55, 55, 0), inset 0 0 0 1px #db3737, inset 0 0 0 1px rgba(16, 22, 26, 0.15), inset 0 1px 1px rgba(16, 22, 26, 0.2);
            box-shadow:0 0 0 0 rgba(219, 55, 55, 0), 0 0 0 0 rgba(219, 55, 55, 0), inset 0 0 0 1px #db3737, inset 0 0 0 1px rgba(16, 22, 26, 0.15), inset 0 1px 1px rgba(16, 22, 26, 0.2); }
    .bp3-input.bp3-intent-danger:focus{
      -webkit-box-shadow:0 0 0 1px #db3737, 0 0 0 3px rgba(219, 55, 55, 0.3), inset 0 1px 1px rgba(16, 22, 26, 0.2);
              box-shadow:0 0 0 1px #db3737, 0 0 0 3px rgba(219, 55, 55, 0.3), inset 0 1px 1px rgba(16, 22, 26, 0.2); }
    .bp3-input.bp3-intent-danger[readonly]{
      -webkit-box-shadow:inset 0 0 0 1px #db3737;
              box-shadow:inset 0 0 0 1px #db3737; }
    .bp3-input.bp3-intent-danger:disabled, .bp3-input.bp3-intent-danger.bp3-disabled{
      -webkit-box-shadow:none;
              box-shadow:none; }
    .bp3-dark .bp3-input.bp3-intent-danger{
      -webkit-box-shadow:0 0 0 0 rgba(219, 55, 55, 0), 0 0 0 0 rgba(219, 55, 55, 0), 0 0 0 0 rgba(219, 55, 55, 0), inset 0 0 0 1px #db3737, inset 0 0 0 1px rgba(16, 22, 26, 0.3), inset 0 1px 1px rgba(16, 22, 26, 0.4);
              box-shadow:0 0 0 0 rgba(219, 55, 55, 0), 0 0 0 0 rgba(219, 55, 55, 0), 0 0 0 0 rgba(219, 55, 55, 0), inset 0 0 0 1px #db3737, inset 0 0 0 1px rgba(16, 22, 26, 0.3), inset 0 1px 1px rgba(16, 22, 26, 0.4); }
      .bp3-dark .bp3-input.bp3-intent-danger:focus{
        -webkit-box-shadow:0 0 0 1px #db3737, 0 0 0 1px #db3737, 0 0 0 3px rgba(219, 55, 55, 0.3), inset 0 0 0 1px rgba(16, 22, 26, 0.3), inset 0 1px 1px rgba(16, 22, 26, 0.4);
                box-shadow:0 0 0 1px #db3737, 0 0 0 1px #db3737, 0 0 0 3px rgba(219, 55, 55, 0.3), inset 0 0 0 1px rgba(16, 22, 26, 0.3), inset 0 1px 1px rgba(16, 22, 26, 0.4); }
      .bp3-dark .bp3-input.bp3-intent-danger[readonly]{
        -webkit-box-shadow:inset 0 0 0 1px #db3737;
                box-shadow:inset 0 0 0 1px #db3737; }
      .bp3-dark .bp3-input.bp3-intent-danger:disabled, .bp3-dark .bp3-input.bp3-intent-danger.bp3-disabled{
        -webkit-box-shadow:none;
                box-shadow:none; }
  .bp3-input::-ms-clear{
    display:none; }
textarea.bp3-input{
  max-width:100%;
  padding:10px; }
  textarea.bp3-input, textarea.bp3-input.bp3-large, textarea.bp3-input.bp3-small{
    height:auto;
    line-height:inherit; }
  textarea.bp3-input.bp3-small{
    padding:8px; }
  .bp3-dark textarea.bp3-input{
    background:rgba(16, 22, 26, 0.3);
    -webkit-box-shadow:0 0 0 0 rgba(19, 124, 189, 0), 0 0 0 0 rgba(19, 124, 189, 0), 0 0 0 0 rgba(19, 124, 189, 0), inset 0 0 0 1px rgba(16, 22, 26, 0.3), inset 0 1px 1px rgba(16, 22, 26, 0.4);
            box-shadow:0 0 0 0 rgba(19, 124, 189, 0), 0 0 0 0 rgba(19, 124, 189, 0), 0 0 0 0 rgba(19, 124, 189, 0), inset 0 0 0 1px rgba(16, 22, 26, 0.3), inset 0 1px 1px rgba(16, 22, 26, 0.4);
    color:#f5f8fa; }
    .bp3-dark textarea.bp3-input::-webkit-input-placeholder{
      color:rgba(167, 182, 194, 0.6); }
    .bp3-dark textarea.bp3-input::-moz-placeholder{
      color:rgba(167, 182, 194, 0.6); }
    .bp3-dark textarea.bp3-input:-ms-input-placeholder{
      color:rgba(167, 182, 194, 0.6); }
    .bp3-dark textarea.bp3-input::-ms-input-placeholder{
      color:rgba(167, 182, 194, 0.6); }
    .bp3-dark textarea.bp3-input::placeholder{
      color:rgba(167, 182, 194, 0.6); }
    .bp3-dark textarea.bp3-input:focus{
      -webkit-box-shadow:0 0 0 1px #137cbd, 0 0 0 1px #137cbd, 0 0 0 3px rgba(19, 124, 189, 0.3), inset 0 0 0 1px rgba(16, 22, 26, 0.3), inset 0 1px 1px rgba(16, 22, 26, 0.4);
              box-shadow:0 0 0 1px #137cbd, 0 0 0 1px #137cbd, 0 0 0 3px rgba(19, 124, 189, 0.3), inset 0 0 0 1px rgba(16, 22, 26, 0.3), inset 0 1px 1px rgba(16, 22, 26, 0.4); }
    .bp3-dark textarea.bp3-input[readonly]{
      -webkit-box-shadow:inset 0 0 0 1px rgba(16, 22, 26, 0.4);
              box-shadow:inset 0 0 0 1px rgba(16, 22, 26, 0.4); }
    .bp3-dark textarea.bp3-input:disabled, .bp3-dark textarea.bp3-input.bp3-disabled{
      background:rgba(57, 75, 89, 0.5);
      -webkit-box-shadow:none;
              box-shadow:none;
      color:rgba(167, 182, 194, 0.6); }
label.bp3-label{
  display:block;
  margin-bottom:15px;
  margin-top:0; }
  label.bp3-label .bp3-html-select,
  label.bp3-label .bp3-input,
  label.bp3-label .bp3-select,
  label.bp3-label .bp3-slider,
  label.bp3-label .bp3-popover-wrapper{
    display:block;
    margin-top:5px;
    text-transform:none; }
  label.bp3-label .bp3-button-group{
    margin-top:5px; }
  label.bp3-label .bp3-select select,
  label.bp3-label .bp3-html-select select{
    font-weight:400;
    vertical-align:top;
    width:100%; }
  label.bp3-label.bp3-disabled,
  label.bp3-label.bp3-disabled .bp3-text-muted{
    color:rgba(92, 112, 128, 0.6); }
  label.bp3-label.bp3-inline{
    line-height:30px; }
    label.bp3-label.bp3-inline .bp3-html-select,
    label.bp3-label.bp3-inline .bp3-input,
    label.bp3-label.bp3-inline .bp3-input-group,
    label.bp3-label.bp3-inline .bp3-select,
    label.bp3-label.bp3-inline .bp3-popover-wrapper{
      display:inline-block;
      margin:0 0 0 5px;
      vertical-align:top; }
    label.bp3-label.bp3-inline .bp3-button-group{
      margin:0 0 0 5px; }
    label.bp3-label.bp3-inline .bp3-input-group .bp3-input{
      margin-left:0; }
    label.bp3-label.bp3-inline.bp3-large{
      line-height:40px; }
  label.bp3-label:not(.bp3-inline) .bp3-popover-target{
    display:block; }
  .bp3-dark label.bp3-label{
    color:#f5f8fa; }
    .bp3-dark label.bp3-label.bp3-disabled,
    .bp3-dark label.bp3-label.bp3-disabled .bp3-text-muted{
      color:rgba(167, 182, 194, 0.6); }
.bp3-numeric-input .bp3-button-group.bp3-vertical > .bp3-button{
  -webkit-box-flex:1;
      -ms-flex:1 1 14px;
          flex:1 1 14px;
  min-height:0;
  padding:0;
  width:30px; }
  .bp3-numeric-input .bp3-button-group.bp3-vertical > .bp3-button:first-child{
    border-radius:0 3px 0 0; }
  .bp3-numeric-input .bp3-button-group.bp3-vertical > .bp3-button:last-child{
    border-radius:0 0 3px 0; }

.bp3-numeric-input .bp3-button-group.bp3-vertical:first-child > .bp3-button:first-child{
  border-radius:3px 0 0 0; }

.bp3-numeric-input .bp3-button-group.bp3-vertical:first-child > .bp3-button:last-child{
  border-radius:0 0 0 3px; }

.bp3-numeric-input.bp3-large .bp3-button-group.bp3-vertical > .bp3-button{
  width:40px; }

form{
  display:block; }
.bp3-html-select select,
.bp3-select select{
  display:-webkit-inline-box;
  display:-ms-inline-flexbox;
  display:inline-flex;
  -webkit-box-orient:horizontal;
  -webkit-box-direction:normal;
      -ms-flex-direction:row;
          flex-direction:row;
  -webkit-box-align:center;
      -ms-flex-align:center;
          align-items:center;
  border:none;
  border-radius:3px;
  cursor:pointer;
  font-size:14px;
  -webkit-box-pack:center;
      -ms-flex-pack:center;
          justify-content:center;
  padding:5px 10px;
  text-align:left;
  vertical-align:middle;
  background-color:#f5f8fa;
  background-image:-webkit-gradient(linear, left top, left bottom, from(rgba(255, 255, 255, 0.8)), to(rgba(255, 255, 255, 0)));
  background-image:linear-gradient(to bottom, rgba(255, 255, 255, 0.8), rgba(255, 255, 255, 0));
  -webkit-box-shadow:inset 0 0 0 1px rgba(16, 22, 26, 0.2), inset 0 -1px 0 rgba(16, 22, 26, 0.1);
          box-shadow:inset 0 0 0 1px rgba(16, 22, 26, 0.2), inset 0 -1px 0 rgba(16, 22, 26, 0.1);
  color:#182026;
  -moz-appearance:none;
  -webkit-appearance:none;
  border-radius:3px;
  height:30px;
  padding:0 25px 0 10px;
  width:100%; }
  .bp3-html-select select > *, .bp3-select select > *{
    -webkit-box-flex:0;
        -ms-flex-positive:0;
            flex-grow:0;
    -ms-flex-negative:0;
        flex-shrink:0; }
  .bp3-html-select select > .bp3-fill, .bp3-select select > .bp3-fill{
    -webkit-box-flex:1;
        -ms-flex-positive:1;
            flex-grow:1;
    -ms-flex-negative:1;
        flex-shrink:1; }
  .bp3-html-select select::before,
  .bp3-select select::before, .bp3-html-select select > *, .bp3-select select > *{
    margin-right:7px; }
  .bp3-html-select select:empty::before,
  .bp3-select select:empty::before,
  .bp3-html-select select > :last-child,
  .bp3-select select > :last-child{
    margin-right:0; }
  .bp3-html-select select:hover,
  .bp3-select select:hover{
    background-clip:padding-box;
    background-color:#ebf1f5;
    -webkit-box-shadow:inset 0 0 0 1px rgba(16, 22, 26, 0.2), inset 0 -1px 0 rgba(16, 22, 26, 0.1);
            box-shadow:inset 0 0 0 1px rgba(16, 22, 26, 0.2), inset 0 -1px 0 rgba(16, 22, 26, 0.1); }
  .bp3-html-select select:active,
  .bp3-select select:active, .bp3-html-select select.bp3-active,
  .bp3-select select.bp3-active{
    background-color:#d8e1e8;
    background-image:none;
    -webkit-box-shadow:inset 0 0 0 1px rgba(16, 22, 26, 0.2), inset 0 1px 2px rgba(16, 22, 26, 0.2);
            box-shadow:inset 0 0 0 1px rgba(16, 22, 26, 0.2), inset 0 1px 2px rgba(16, 22, 26, 0.2); }
  .bp3-html-select select:disabled,
  .bp3-select select:disabled, .bp3-html-select select.bp3-disabled,
  .bp3-select select.bp3-disabled{
    background-color:rgba(206, 217, 224, 0.5);
    background-image:none;
    -webkit-box-shadow:none;
            box-shadow:none;
    color:rgba(92, 112, 128, 0.6);
    cursor:not-allowed;
    outline:none; }
    .bp3-html-select select:disabled.bp3-active,
    .bp3-select select:disabled.bp3-active, .bp3-html-select select:disabled.bp3-active:hover,
    .bp3-select select:disabled.bp3-active:hover, .bp3-html-select select.bp3-disabled.bp3-active,
    .bp3-select select.bp3-disabled.bp3-active, .bp3-html-select select.bp3-disabled.bp3-active:hover,
    .bp3-select select.bp3-disabled.bp3-active:hover{
      background:rgba(206, 217, 224, 0.7); }

.bp3-html-select.bp3-minimal select,
.bp3-select.bp3-minimal select{
  background:none;
  -webkit-box-shadow:none;
          box-shadow:none; }
  .bp3-html-select.bp3-minimal select:hover,
  .bp3-select.bp3-minimal select:hover{
    background:rgba(167, 182, 194, 0.3);
    -webkit-box-shadow:none;
            box-shadow:none;
    color:#182026;
    text-decoration:none; }
  .bp3-html-select.bp3-minimal select:active,
  .bp3-select.bp3-minimal select:active, .bp3-html-select.bp3-minimal select.bp3-active,
  .bp3-select.bp3-minimal select.bp3-active{
    background:rgba(115, 134, 148, 0.3);
    -webkit-box-shadow:none;
            box-shadow:none;
    color:#182026; }
  .bp3-html-select.bp3-minimal select:disabled,
  .bp3-select.bp3-minimal select:disabled, .bp3-html-select.bp3-minimal select:disabled:hover,
  .bp3-select.bp3-minimal select:disabled:hover, .bp3-html-select.bp3-minimal select.bp3-disabled,
  .bp3-select.bp3-minimal select.bp3-disabled, .bp3-html-select.bp3-minimal select.bp3-disabled:hover,
  .bp3-select.bp3-minimal select.bp3-disabled:hover{
    background:none;
    color:rgba(92, 112, 128, 0.6);
    cursor:not-allowed; }
    .bp3-html-select.bp3-minimal select:disabled.bp3-active,
    .bp3-select.bp3-minimal select:disabled.bp3-active, .bp3-html-select.bp3-minimal select:disabled:hover.bp3-active,
    .bp3-select.bp3-minimal select:disabled:hover.bp3-active, .bp3-html-select.bp3-minimal select.bp3-disabled.bp3-active,
    .bp3-select.bp3-minimal select.bp3-disabled.bp3-active, .bp3-html-select.bp3-minimal select.bp3-disabled:hover.bp3-active,
    .bp3-select.bp3-minimal select.bp3-disabled:hover.bp3-active{
      background:rgba(115, 134, 148, 0.3); }
  .bp3-dark .bp3-html-select.bp3-minimal select, .bp3-html-select.bp3-minimal .bp3-dark select,
  .bp3-dark .bp3-select.bp3-minimal select, .bp3-select.bp3-minimal .bp3-dark select{
    background:none;
    -webkit-box-shadow:none;
            box-shadow:none;
    color:inherit; }
    .bp3-dark .bp3-html-select.bp3-minimal select:hover, .bp3-html-select.bp3-minimal .bp3-dark select:hover,
    .bp3-dark .bp3-select.bp3-minimal select:hover, .bp3-select.bp3-minimal .bp3-dark select:hover, .bp3-dark .bp3-html-select.bp3-minimal select:active, .bp3-html-select.bp3-minimal .bp3-dark select:active,
    .bp3-dark .bp3-select.bp3-minimal select:active, .bp3-select.bp3-minimal .bp3-dark select:active, .bp3-dark .bp3-html-select.bp3-minimal select.bp3-active, .bp3-html-select.bp3-minimal .bp3-dark select.bp3-active,
    .bp3-dark .bp3-select.bp3-minimal select.bp3-active, .bp3-select.bp3-minimal .bp3-dark select.bp3-active{
      background:none;
      -webkit-box-shadow:none;
              box-shadow:none; }
    .bp3-dark .bp3-html-select.bp3-minimal select:hover, .bp3-html-select.bp3-minimal .bp3-dark select:hover,
    .bp3-dark .bp3-select.bp3-minimal select:hover, .bp3-select.bp3-minimal .bp3-dark select:hover{
      background:rgba(138, 155, 168, 0.15); }
    .bp3-dark .bp3-html-select.bp3-minimal select:active, .bp3-html-select.bp3-minimal .bp3-dark select:active,
    .bp3-dark .bp3-select.bp3-minimal select:active, .bp3-select.bp3-minimal .bp3-dark select:active, .bp3-dark .bp3-html-select.bp3-minimal select.bp3-active, .bp3-html-select.bp3-minimal .bp3-dark select.bp3-active,
    .bp3-dark .bp3-select.bp3-minimal select.bp3-active, .bp3-select.bp3-minimal .bp3-dark select.bp3-active{
      background:rgba(138, 155, 168, 0.3);
      color:#f5f8fa; }
    .bp3-dark .bp3-html-select.bp3-minimal select:disabled, .bp3-html-select.bp3-minimal .bp3-dark select:disabled,
    .bp3-dark .bp3-select.bp3-minimal select:disabled, .bp3-select.bp3-minimal .bp3-dark select:disabled, .bp3-dark .bp3-html-select.bp3-minimal select:disabled:hover, .bp3-html-select.bp3-minimal .bp3-dark select:disabled:hover,
    .bp3-dark .bp3-select.bp3-minimal select:disabled:hover, .bp3-select.bp3-minimal .bp3-dark select:disabled:hover, .bp3-dark .bp3-html-select.bp3-minimal select.bp3-disabled, .bp3-html-select.bp3-minimal .bp3-dark select.bp3-disabled,
    .bp3-dark .bp3-select.bp3-minimal select.bp3-disabled, .bp3-select.bp3-minimal .bp3-dark select.bp3-disabled, .bp3-dark .bp3-html-select.bp3-minimal select.bp3-disabled:hover, .bp3-html-select.bp3-minimal .bp3-dark select.bp3-disabled:hover,
    .bp3-dark .bp3-select.bp3-minimal select.bp3-disabled:hover, .bp3-select.bp3-minimal .bp3-dark select.bp3-disabled:hover{
      background:none;
      color:rgba(167, 182, 194, 0.6);
      cursor:not-allowed; }
      .bp3-dark .bp3-html-select.bp3-minimal select:disabled.bp3-active, .bp3-html-select.bp3-minimal .bp3-dark select:disabled.bp3-active,
      .bp3-dark .bp3-select.bp3-minimal select:disabled.bp3-active, .bp3-select.bp3-minimal .bp3-dark select:disabled.bp3-active, .bp3-dark .bp3-html-select.bp3-minimal select:disabled:hover.bp3-active, .bp3-html-select.bp3-minimal .bp3-dark select:disabled:hover.bp3-active,
      .bp3-dark .bp3-select.bp3-minimal select:disabled:hover.bp3-active, .bp3-select.bp3-minimal .bp3-dark select:disabled:hover.bp3-active, .bp3-dark .bp3-html-select.bp3-minimal select.bp3-disabled.bp3-active, .bp3-html-select.bp3-minimal .bp3-dark select.bp3-disabled.bp3-active,
      .bp3-dark .bp3-select.bp3-minimal select.bp3-disabled.bp3-active, .bp3-select.bp3-minimal .bp3-dark select.bp3-disabled.bp3-active, .bp3-dark .bp3-html-select.bp3-minimal select.bp3-disabled:hover.bp3-active, .bp3-html-select.bp3-minimal .bp3-dark select.bp3-disabled:hover.bp3-active,
      .bp3-dark .bp3-select.bp3-minimal select.bp3-disabled:hover.bp3-active, .bp3-select.bp3-minimal .bp3-dark select.bp3-disabled:hover.bp3-active{
        background:rgba(138, 155, 168, 0.3); }
  .bp3-html-select.bp3-minimal select.bp3-intent-primary,
  .bp3-select.bp3-minimal select.bp3-intent-primary{
    color:#106ba3; }
    .bp3-html-select.bp3-minimal select.bp3-intent-primary:hover,
    .bp3-select.bp3-minimal select.bp3-intent-primary:hover, .bp3-html-select.bp3-minimal select.bp3-intent-primary:active,
    .bp3-select.bp3-minimal select.bp3-intent-primary:active, .bp3-html-select.bp3-minimal select.bp3-intent-primary.bp3-active,
    .bp3-select.bp3-minimal select.bp3-intent-primary.bp3-active{
      background:none;
      -webkit-box-shadow:none;
              box-shadow:none;
      color:#106ba3; }
    .bp3-html-select.bp3-minimal select.bp3-intent-primary:hover,
    .bp3-select.bp3-minimal select.bp3-intent-primary:hover{
      background:rgba(19, 124, 189, 0.15);
      color:#106ba3; }
    .bp3-html-select.bp3-minimal select.bp3-intent-primary:active,
    .bp3-select.bp3-minimal select.bp3-intent-primary:active, .bp3-html-select.bp3-minimal select.bp3-intent-primary.bp3-active,
    .bp3-select.bp3-minimal select.bp3-intent-primary.bp3-active{
      background:rgba(19, 124, 189, 0.3);
      color:#106ba3; }
    .bp3-html-select.bp3-minimal select.bp3-intent-primary:disabled,
    .bp3-select.bp3-minimal select.bp3-intent-primary:disabled, .bp3-html-select.bp3-minimal select.bp3-intent-primary.bp3-disabled,
    .bp3-select.bp3-minimal select.bp3-intent-primary.bp3-disabled{
      background:none;
      color:rgba(16, 107, 163, 0.5); }
      .bp3-html-select.bp3-minimal select.bp3-intent-primary:disabled.bp3-active,
      .bp3-select.bp3-minimal select.bp3-intent-primary:disabled.bp3-active, .bp3-html-select.bp3-minimal select.bp3-intent-primary.bp3-disabled.bp3-active,
      .bp3-select.bp3-minimal select.bp3-intent-primary.bp3-disabled.bp3-active{
        background:rgba(19, 124, 189, 0.3); }
    .bp3-html-select.bp3-minimal select.bp3-intent-primary .bp3-button-spinner .bp3-spinner-head, .bp3-select.bp3-minimal select.bp3-intent-primary .bp3-button-spinner .bp3-spinner-head{
      stroke:#106ba3; }
    .bp3-dark .bp3-html-select.bp3-minimal select.bp3-intent-primary, .bp3-html-select.bp3-minimal .bp3-dark select.bp3-intent-primary,
    .bp3-dark .bp3-select.bp3-minimal select.bp3-intent-primary, .bp3-select.bp3-minimal .bp3-dark select.bp3-intent-primary{
      color:#48aff0; }
      .bp3-dark .bp3-html-select.bp3-minimal select.bp3-intent-primary:hover, .bp3-html-select.bp3-minimal .bp3-dark select.bp3-intent-primary:hover,
      .bp3-dark .bp3-select.bp3-minimal select.bp3-intent-primary:hover, .bp3-select.bp3-minimal .bp3-dark select.bp3-intent-primary:hover{
        background:rgba(19, 124, 189, 0.2);
        color:#48aff0; }
      .bp3-dark .bp3-html-select.bp3-minimal select.bp3-intent-primary:active, .bp3-html-select.bp3-minimal .bp3-dark select.bp3-intent-primary:active,
      .bp3-dark .bp3-select.bp3-minimal select.bp3-intent-primary:active, .bp3-select.bp3-minimal .bp3-dark select.bp3-intent-primary:active, .bp3-dark .bp3-html-select.bp3-minimal select.bp3-intent-primary.bp3-active, .bp3-html-select.bp3-minimal .bp3-dark select.bp3-intent-primary.bp3-active,
      .bp3-dark .bp3-select.bp3-minimal select.bp3-intent-primary.bp3-active, .bp3-select.bp3-minimal .bp3-dark select.bp3-intent-primary.bp3-active{
        background:rgba(19, 124, 189, 0.3);
        color:#48aff0; }
      .bp3-dark .bp3-html-select.bp3-minimal select.bp3-intent-primary:disabled, .bp3-html-select.bp3-minimal .bp3-dark select.bp3-intent-primary:disabled,
      .bp3-dark .bp3-select.bp3-minimal select.bp3-intent-primary:disabled, .bp3-select.bp3-minimal .bp3-dark select.bp3-intent-primary:disabled, .bp3-dark .bp3-html-select.bp3-minimal select.bp3-intent-primary.bp3-disabled, .bp3-html-select.bp3-minimal .bp3-dark select.bp3-intent-primary.bp3-disabled,
      .bp3-dark .bp3-select.bp3-minimal select.bp3-intent-primary.bp3-disabled, .bp3-select.bp3-minimal .bp3-dark select.bp3-intent-primary.bp3-disabled{
        background:none;
        color:rgba(72, 175, 240, 0.5); }
        .bp3-dark .bp3-html-select.bp3-minimal select.bp3-intent-primary:disabled.bp3-active, .bp3-html-select.bp3-minimal .bp3-dark select.bp3-intent-primary:disabled.bp3-active,
        .bp3-dark .bp3-select.bp3-minimal select.bp3-intent-primary:disabled.bp3-active, .bp3-select.bp3-minimal .bp3-dark select.bp3-intent-primary:disabled.bp3-active, .bp3-dark .bp3-html-select.bp3-minimal select.bp3-intent-primary.bp3-disabled.bp3-active, .bp3-html-select.bp3-minimal .bp3-dark select.bp3-intent-primary.bp3-disabled.bp3-active,
        .bp3-dark .bp3-select.bp3-minimal select.bp3-intent-primary.bp3-disabled.bp3-active, .bp3-select.bp3-minimal .bp3-dark select.bp3-intent-primary.bp3-disabled.bp3-active{
          background:rgba(19, 124, 189, 0.3); }
  .bp3-html-select.bp3-minimal select.bp3-intent-success,
  .bp3-select.bp3-minimal select.bp3-intent-success{
    color:#0d8050; }
    .bp3-html-select.bp3-minimal select.bp3-intent-success:hover,
    .bp3-select.bp3-minimal select.bp3-intent-success:hover, .bp3-html-select.bp3-minimal select.bp3-intent-success:active,
    .bp3-select.bp3-minimal select.bp3-intent-success:active, .bp3-html-select.bp3-minimal select.bp3-intent-success.bp3-active,
    .bp3-select.bp3-minimal select.bp3-intent-success.bp3-active{
      background:none;
      -webkit-box-shadow:none;
              box-shadow:none;
      color:#0d8050; }
    .bp3-html-select.bp3-minimal select.bp3-intent-success:hover,
    .bp3-select.bp3-minimal select.bp3-intent-success:hover{
      background:rgba(15, 153, 96, 0.15);
      color:#0d8050; }
    .bp3-html-select.bp3-minimal select.bp3-intent-success:active,
    .bp3-select.bp3-minimal select.bp3-intent-success:active, .bp3-html-select.bp3-minimal select.bp3-intent-success.bp3-active,
    .bp3-select.bp3-minimal select.bp3-intent-success.bp3-active{
      background:rgba(15, 153, 96, 0.3);
      color:#0d8050; }
    .bp3-html-select.bp3-minimal select.bp3-intent-success:disabled,
    .bp3-select.bp3-minimal select.bp3-intent-success:disabled, .bp3-html-select.bp3-minimal select.bp3-intent-success.bp3-disabled,
    .bp3-select.bp3-minimal select.bp3-intent-success.bp3-disabled{
      background:none;
      color:rgba(13, 128, 80, 0.5); }
      .bp3-html-select.bp3-minimal select.bp3-intent-success:disabled.bp3-active,
      .bp3-select.bp3-minimal select.bp3-intent-success:disabled.bp3-active, .bp3-html-select.bp3-minimal select.bp3-intent-success.bp3-disabled.bp3-active,
      .bp3-select.bp3-minimal select.bp3-intent-success.bp3-disabled.bp3-active{
        background:rgba(15, 153, 96, 0.3); }
    .bp3-html-select.bp3-minimal select.bp3-intent-success .bp3-button-spinner .bp3-spinner-head, .bp3-select.bp3-minimal select.bp3-intent-success .bp3-button-spinner .bp3-spinner-head{
      stroke:#0d8050; }
    .bp3-dark .bp3-html-select.bp3-minimal select.bp3-intent-success, .bp3-html-select.bp3-minimal .bp3-dark select.bp3-intent-success,
    .bp3-dark .bp3-select.bp3-minimal select.bp3-intent-success, .bp3-select.bp3-minimal .bp3-dark select.bp3-intent-success{
      color:#3dcc91; }
      .bp3-dark .bp3-html-select.bp3-minimal select.bp3-intent-success:hover, .bp3-html-select.bp3-minimal .bp3-dark select.bp3-intent-success:hover,
      .bp3-dark .bp3-select.bp3-minimal select.bp3-intent-success:hover, .bp3-select.bp3-minimal .bp3-dark select.bp3-intent-success:hover{
        background:rgba(15, 153, 96, 0.2);
        color:#3dcc91; }
      .bp3-dark .bp3-html-select.bp3-minimal select.bp3-intent-success:active, .bp3-html-select.bp3-minimal .bp3-dark select.bp3-intent-success:active,
      .bp3-dark .bp3-select.bp3-minimal select.bp3-intent-success:active, .bp3-select.bp3-minimal .bp3-dark select.bp3-intent-success:active, .bp3-dark .bp3-html-select.bp3-minimal select.bp3-intent-success.bp3-active, .bp3-html-select.bp3-minimal .bp3-dark select.bp3-intent-success.bp3-active,
      .bp3-dark .bp3-select.bp3-minimal select.bp3-intent-success.bp3-active, .bp3-select.bp3-minimal .bp3-dark select.bp3-intent-success.bp3-active{
        background:rgba(15, 153, 96, 0.3);
        color:#3dcc91; }
      .bp3-dark .bp3-html-select.bp3-minimal select.bp3-intent-success:disabled, .bp3-html-select.bp3-minimal .bp3-dark select.bp3-intent-success:disabled,
      .bp3-dark .bp3-select.bp3-minimal select.bp3-intent-success:disabled, .bp3-select.bp3-minimal .bp3-dark select.bp3-intent-success:disabled, .bp3-dark .bp3-html-select.bp3-minimal select.bp3-intent-success.bp3-disabled, .bp3-html-select.bp3-minimal .bp3-dark select.bp3-intent-success.bp3-disabled,
      .bp3-dark .bp3-select.bp3-minimal select.bp3-intent-success.bp3-disabled, .bp3-select.bp3-minimal .bp3-dark select.bp3-intent-success.bp3-disabled{
        background:none;
        color:rgba(61, 204, 145, 0.5); }
        .bp3-dark .bp3-html-select.bp3-minimal select.bp3-intent-success:disabled.bp3-active, .bp3-html-select.bp3-minimal .bp3-dark select.bp3-intent-success:disabled.bp3-active,
        .bp3-dark .bp3-select.bp3-minimal select.bp3-intent-success:disabled.bp3-active, .bp3-select.bp3-minimal .bp3-dark select.bp3-intent-success:disabled.bp3-active, .bp3-dark .bp3-html-select.bp3-minimal select.bp3-intent-success.bp3-disabled.bp3-active, .bp3-html-select.bp3-minimal .bp3-dark select.bp3-intent-success.bp3-disabled.bp3-active,
        .bp3-dark .bp3-select.bp3-minimal select.bp3-intent-success.bp3-disabled.bp3-active, .bp3-select.bp3-minimal .bp3-dark select.bp3-intent-success.bp3-disabled.bp3-active{
          background:rgba(15, 153, 96, 0.3); }
  .bp3-html-select.bp3-minimal select.bp3-intent-warning,
  .bp3-select.bp3-minimal select.bp3-intent-warning{
    color:#bf7326; }
    .bp3-html-select.bp3-minimal select.bp3-intent-warning:hover,
    .bp3-select.bp3-minimal select.bp3-intent-warning:hover, .bp3-html-select.bp3-minimal select.bp3-intent-warning:active,
    .bp3-select.bp3-minimal select.bp3-intent-warning:active, .bp3-html-select.bp3-minimal select.bp3-intent-warning.bp3-active,
    .bp3-select.bp3-minimal select.bp3-intent-warning.bp3-active{
      background:none;
      -webkit-box-shadow:none;
              box-shadow:none;
      color:#bf7326; }
    .bp3-html-select.bp3-minimal select.bp3-intent-warning:hover,
    .bp3-select.bp3-minimal select.bp3-intent-warning:hover{
      background:rgba(217, 130, 43, 0.15);
      color:#bf7326; }
    .bp3-html-select.bp3-minimal select.bp3-intent-warning:active,
    .bp3-select.bp3-minimal select.bp3-intent-warning:active, .bp3-html-select.bp3-minimal select.bp3-intent-warning.bp3-active,
    .bp3-select.bp3-minimal select.bp3-intent-warning.bp3-active{
      background:rgba(217, 130, 43, 0.3);
      color:#bf7326; }
    .bp3-html-select.bp3-minimal select.bp3-intent-warning:disabled,
    .bp3-select.bp3-minimal select.bp3-intent-warning:disabled, .bp3-html-select.bp3-minimal select.bp3-intent-warning.bp3-disabled,
    .bp3-select.bp3-minimal select.bp3-intent-warning.bp3-disabled{
      background:none;
      color:rgba(191, 115, 38, 0.5); }
      .bp3-html-select.bp3-minimal select.bp3-intent-warning:disabled.bp3-active,
      .bp3-select.bp3-minimal select.bp3-intent-warning:disabled.bp3-active, .bp3-html-select.bp3-minimal select.bp3-intent-warning.bp3-disabled.bp3-active,
      .bp3-select.bp3-minimal select.bp3-intent-warning.bp3-disabled.bp3-active{
        background:rgba(217, 130, 43, 0.3); }
    .bp3-html-select.bp3-minimal select.bp3-intent-warning .bp3-button-spinner .bp3-spinner-head, .bp3-select.bp3-minimal select.bp3-intent-warning .bp3-button-spinner .bp3-spinner-head{
      stroke:#bf7326; }
    .bp3-dark .bp3-html-select.bp3-minimal select.bp3-intent-warning, .bp3-html-select.bp3-minimal .bp3-dark select.bp3-intent-warning,
    .bp3-dark .bp3-select.bp3-minimal select.bp3-intent-warning, .bp3-select.bp3-minimal .bp3-dark select.bp3-intent-warning{
      color:#ffb366; }
      .bp3-dark .bp3-html-select.bp3-minimal select.bp3-intent-warning:hover, .bp3-html-select.bp3-minimal .bp3-dark select.bp3-intent-warning:hover,
      .bp3-dark .bp3-select.bp3-minimal select.bp3-intent-warning:hover, .bp3-select.bp3-minimal .bp3-dark select.bp3-intent-warning:hover{
        background:rgba(217, 130, 43, 0.2);
        color:#ffb366; }
      .bp3-dark .bp3-html-select.bp3-minimal select.bp3-intent-warning:active, .bp3-html-select.bp3-minimal .bp3-dark select.bp3-intent-warning:active,
      .bp3-dark .bp3-select.bp3-minimal select.bp3-intent-warning:active, .bp3-select.bp3-minimal .bp3-dark select.bp3-intent-warning:active, .bp3-dark .bp3-html-select.bp3-minimal select.bp3-intent-warning.bp3-active, .bp3-html-select.bp3-minimal .bp3-dark select.bp3-intent-warning.bp3-active,
      .bp3-dark .bp3-select.bp3-minimal select.bp3-intent-warning.bp3-active, .bp3-select.bp3-minimal .bp3-dark select.bp3-intent-warning.bp3-active{
        background:rgba(217, 130, 43, 0.3);
        color:#ffb366; }
      .bp3-dark .bp3-html-select.bp3-minimal select.bp3-intent-warning:disabled, .bp3-html-select.bp3-minimal .bp3-dark select.bp3-intent-warning:disabled,
      .bp3-dark .bp3-select.bp3-minimal select.bp3-intent-warning:disabled, .bp3-select.bp3-minimal .bp3-dark select.bp3-intent-warning:disabled, .bp3-dark .bp3-html-select.bp3-minimal select.bp3-intent-warning.bp3-disabled, .bp3-html-select.bp3-minimal .bp3-dark select.bp3-intent-warning.bp3-disabled,
      .bp3-dark .bp3-select.bp3-minimal select.bp3-intent-warning.bp3-disabled, .bp3-select.bp3-minimal .bp3-dark select.bp3-intent-warning.bp3-disabled{
        background:none;
        color:rgba(255, 179, 102, 0.5); }
        .bp3-dark .bp3-html-select.bp3-minimal select.bp3-intent-warning:disabled.bp3-active, .bp3-html-select.bp3-minimal .bp3-dark select.bp3-intent-warning:disabled.bp3-active,
        .bp3-dark .bp3-select.bp3-minimal select.bp3-intent-warning:disabled.bp3-active, .bp3-select.bp3-minimal .bp3-dark select.bp3-intent-warning:disabled.bp3-active, .bp3-dark .bp3-html-select.bp3-minimal select.bp3-intent-warning.bp3-disabled.bp3-active, .bp3-html-select.bp3-minimal .bp3-dark select.bp3-intent-warning.bp3-disabled.bp3-active,
        .bp3-dark .bp3-select.bp3-minimal select.bp3-intent-warning.bp3-disabled.bp3-active, .bp3-select.bp3-minimal .bp3-dark select.bp3-intent-warning.bp3-disabled.bp3-active{
          background:rgba(217, 130, 43, 0.3); }
  .bp3-html-select.bp3-minimal select.bp3-intent-danger,
  .bp3-select.bp3-minimal select.bp3-intent-danger{
    color:#c23030; }
    .bp3-html-select.bp3-minimal select.bp3-intent-danger:hover,
    .bp3-select.bp3-minimal select.bp3-intent-danger:hover, .bp3-html-select.bp3-minimal select.bp3-intent-danger:active,
    .bp3-select.bp3-minimal select.bp3-intent-danger:active, .bp3-html-select.bp3-minimal select.bp3-intent-danger.bp3-active,
    .bp3-select.bp3-minimal select.bp3-intent-danger.bp3-active{
      background:none;
      -webkit-box-shadow:none;
              box-shadow:none;
      color:#c23030; }
    .bp3-html-select.bp3-minimal select.bp3-intent-danger:hover,
    .bp3-select.bp3-minimal select.bp3-intent-danger:hover{
      background:rgba(219, 55, 55, 0.15);
      color:#c23030; }
    .bp3-html-select.bp3-minimal select.bp3-intent-danger:active,
    .bp3-select.bp3-minimal select.bp3-intent-danger:active, .bp3-html-select.bp3-minimal select.bp3-intent-danger.bp3-active,
    .bp3-select.bp3-minimal select.bp3-intent-danger.bp3-active{
      background:rgba(219, 55, 55, 0.3);
      color:#c23030; }
    .bp3-html-select.bp3-minimal select.bp3-intent-danger:disabled,
    .bp3-select.bp3-minimal select.bp3-intent-danger:disabled, .bp3-html-select.bp3-minimal select.bp3-intent-danger.bp3-disabled,
    .bp3-select.bp3-minimal select.bp3-intent-danger.bp3-disabled{
      background:none;
      color:rgba(194, 48, 48, 0.5); }
      .bp3-html-select.bp3-minimal select.bp3-intent-danger:disabled.bp3-active,
      .bp3-select.bp3-minimal select.bp3-intent-danger:disabled.bp3-active, .bp3-html-select.bp3-minimal select.bp3-intent-danger.bp3-disabled.bp3-active,
      .bp3-select.bp3-minimal select.bp3-intent-danger.bp3-disabled.bp3-active{
        background:rgba(219, 55, 55, 0.3); }
    .bp3-html-select.bp3-minimal select.bp3-intent-danger .bp3-button-spinner .bp3-spinner-head, .bp3-select.bp3-minimal select.bp3-intent-danger .bp3-button-spinner .bp3-spinner-head{
      stroke:#c23030; }
    .bp3-dark .bp3-html-select.bp3-minimal select.bp3-intent-danger, .bp3-html-select.bp3-minimal .bp3-dark select.bp3-intent-danger,
    .bp3-dark .bp3-select.bp3-minimal select.bp3-intent-danger, .bp3-select.bp3-minimal .bp3-dark select.bp3-intent-danger{
      color:#ff7373; }
      .bp3-dark .bp3-html-select.bp3-minimal select.bp3-intent-danger:hover, .bp3-html-select.bp3-minimal .bp3-dark select.bp3-intent-danger:hover,
      .bp3-dark .bp3-select.bp3-minimal select.bp3-intent-danger:hover, .bp3-select.bp3-minimal .bp3-dark select.bp3-intent-danger:hover{
        background:rgba(219, 55, 55, 0.2);
        color:#ff7373; }
      .bp3-dark .bp3-html-select.bp3-minimal select.bp3-intent-danger:active, .bp3-html-select.bp3-minimal .bp3-dark select.bp3-intent-danger:active,
      .bp3-dark .bp3-select.bp3-minimal select.bp3-intent-danger:active, .bp3-select.bp3-minimal .bp3-dark select.bp3-intent-danger:active, .bp3-dark .bp3-html-select.bp3-minimal select.bp3-intent-danger.bp3-active, .bp3-html-select.bp3-minimal .bp3-dark select.bp3-intent-danger.bp3-active,
      .bp3-dark .bp3-select.bp3-minimal select.bp3-intent-danger.bp3-active, .bp3-select.bp3-minimal .bp3-dark select.bp3-intent-danger.bp3-active{
        background:rgba(219, 55, 55, 0.3);
        color:#ff7373; }
      .bp3-dark .bp3-html-select.bp3-minimal select.bp3-intent-danger:disabled, .bp3-html-select.bp3-minimal .bp3-dark select.bp3-intent-danger:disabled,
      .bp3-dark .bp3-select.bp3-minimal select.bp3-intent-danger:disabled, .bp3-select.bp3-minimal .bp3-dark select.bp3-intent-danger:disabled, .bp3-dark .bp3-html-select.bp3-minimal select.bp3-intent-danger.bp3-disabled, .bp3-html-select.bp3-minimal .bp3-dark select.bp3-intent-danger.bp3-disabled,
      .bp3-dark .bp3-select.bp3-minimal select.bp3-intent-danger.bp3-disabled, .bp3-select.bp3-minimal .bp3-dark select.bp3-intent-danger.bp3-disabled{
        background:none;
        color:rgba(255, 115, 115, 0.5); }
        .bp3-dark .bp3-html-select.bp3-minimal select.bp3-intent-danger:disabled.bp3-active, .bp3-html-select.bp3-minimal .bp3-dark select.bp3-intent-danger:disabled.bp3-active,
        .bp3-dark .bp3-select.bp3-minimal select.bp3-intent-danger:disabled.bp3-active, .bp3-select.bp3-minimal .bp3-dark select.bp3-intent-danger:disabled.bp3-active, .bp3-dark .bp3-html-select.bp3-minimal select.bp3-intent-danger.bp3-disabled.bp3-active, .bp3-html-select.bp3-minimal .bp3-dark select.bp3-intent-danger.bp3-disabled.bp3-active,
        .bp3-dark .bp3-select.bp3-minimal select.bp3-intent-danger.bp3-disabled.bp3-active, .bp3-select.bp3-minimal .bp3-dark select.bp3-intent-danger.bp3-disabled.bp3-active{
          background:rgba(219, 55, 55, 0.3); }

.bp3-html-select.bp3-large select,
.bp3-select.bp3-large select{
  font-size:16px;
  height:40px;
  padding-right:35px; }

.bp3-dark .bp3-html-select select, .bp3-dark .bp3-select select{
  background-color:#394b59;
  background-image:-webkit-gradient(linear, left top, left bottom, from(rgba(255, 255, 255, 0.05)), to(rgba(255, 255, 255, 0)));
  background-image:linear-gradient(to bottom, rgba(255, 255, 255, 0.05), rgba(255, 255, 255, 0));
  -webkit-box-shadow:0 0 0 1px rgba(16, 22, 26, 0.4);
          box-shadow:0 0 0 1px rgba(16, 22, 26, 0.4);
  color:#f5f8fa; }
  .bp3-dark .bp3-html-select select:hover, .bp3-dark .bp3-select select:hover, .bp3-dark .bp3-html-select select:active, .bp3-dark .bp3-select select:active, .bp3-dark .bp3-html-select select.bp3-active, .bp3-dark .bp3-select select.bp3-active{
    color:#f5f8fa; }
  .bp3-dark .bp3-html-select select:hover, .bp3-dark .bp3-select select:hover{
    background-color:#30404d;
    -webkit-box-shadow:0 0 0 1px rgba(16, 22, 26, 0.4);
            box-shadow:0 0 0 1px rgba(16, 22, 26, 0.4); }
  .bp3-dark .bp3-html-select select:active, .bp3-dark .bp3-select select:active, .bp3-dark .bp3-html-select select.bp3-active, .bp3-dark .bp3-select select.bp3-active{
    background-color:#202b33;
    background-image:none;
    -webkit-box-shadow:0 0 0 1px rgba(16, 22, 26, 0.6), inset 0 1px 2px rgba(16, 22, 26, 0.2);
            box-shadow:0 0 0 1px rgba(16, 22, 26, 0.6), inset 0 1px 2px rgba(16, 22, 26, 0.2); }
  .bp3-dark .bp3-html-select select:disabled, .bp3-dark .bp3-select select:disabled, .bp3-dark .bp3-html-select select.bp3-disabled, .bp3-dark .bp3-select select.bp3-disabled{
    background-color:rgba(57, 75, 89, 0.5);
    background-image:none;
    -webkit-box-shadow:none;
            box-shadow:none;
    color:rgba(167, 182, 194, 0.6); }
    .bp3-dark .bp3-html-select select:disabled.bp3-active, .bp3-dark .bp3-select select:disabled.bp3-active, .bp3-dark .bp3-html-select select.bp3-disabled.bp3-active, .bp3-dark .bp3-select select.bp3-disabled.bp3-active{
      background:rgba(57, 75, 89, 0.7); }
  .bp3-dark .bp3-html-select select .bp3-button-spinner .bp3-spinner-head, .bp3-dark .bp3-select select .bp3-button-spinner .bp3-spinner-head{
    background:rgba(16, 22, 26, 0.5);
    stroke:#8a9ba8; }

.bp3-html-select select:disabled,
.bp3-select select:disabled{
  background-color:rgba(206, 217, 224, 0.5);
  -webkit-box-shadow:none;
          box-shadow:none;
  color:rgba(92, 112, 128, 0.6);
  cursor:not-allowed; }

.bp3-html-select .bp3-icon,
.bp3-select .bp3-icon, .bp3-select::after{
  color:#5c7080;
  pointer-events:none;
  position:absolute;
  right:7px;
  top:7px; }
  .bp3-html-select .bp3-disabled.bp3-icon,
  .bp3-select .bp3-disabled.bp3-icon, .bp3-disabled.bp3-select::after{
    color:rgba(92, 112, 128, 0.6); }
.bp3-html-select,
.bp3-select{
  display:inline-block;
  letter-spacing:normal;
  position:relative;
  vertical-align:middle; }
  .bp3-html-select select::-ms-expand,
  .bp3-select select::-ms-expand{
    display:none; }
  .bp3-html-select .bp3-icon,
  .bp3-select .bp3-icon{
    color:#5c7080; }
    .bp3-html-select .bp3-icon:hover,
    .bp3-select .bp3-icon:hover{
      color:#182026; }
    .bp3-dark .bp3-html-select .bp3-icon, .bp3-dark
    .bp3-select .bp3-icon{
      color:#a7b6c2; }
      .bp3-dark .bp3-html-select .bp3-icon:hover, .bp3-dark
      .bp3-select .bp3-icon:hover{
        color:#f5f8fa; }
  .bp3-html-select.bp3-large::after,
  .bp3-html-select.bp3-large .bp3-icon,
  .bp3-select.bp3-large::after,
  .bp3-select.bp3-large .bp3-icon{
    right:12px;
    top:12px; }
  .bp3-html-select.bp3-fill,
  .bp3-html-select.bp3-fill select,
  .bp3-select.bp3-fill,
  .bp3-select.bp3-fill select{
    width:100%; }
  .bp3-dark .bp3-html-select option, .bp3-dark
  .bp3-select option{
    background-color:#30404d;
    color:#f5f8fa; }
  .bp3-dark .bp3-html-select option:disabled, .bp3-dark
  .bp3-select option:disabled{
    color:rgba(167, 182, 194, 0.6); }
  .bp3-dark .bp3-html-select::after, .bp3-dark
  .bp3-select::after{
    color:#a7b6c2; }

.bp3-select::after{
  font-family:"Icons16", sans-serif;
  font-size:16px;
  font-style:normal;
  font-weight:400;
  line-height:1;
  -moz-osx-font-smoothing:grayscale;
  -webkit-font-smoothing:antialiased;
  content:""; }
.bp3-running-text table, table.bp3-html-table{
  border-spacing:0;
  font-size:14px; }
  .bp3-running-text table th, table.bp3-html-table th,
  .bp3-running-text table td,
  table.bp3-html-table td{
    padding:11px;
    text-align:left;
    vertical-align:top; }
  .bp3-running-text table th, table.bp3-html-table th{
    color:#182026;
    font-weight:600; }
  
  .bp3-running-text table td,
  table.bp3-html-table td{
    color:#182026; }
  .bp3-running-text table tbody tr:first-child th, table.bp3-html-table tbody tr:first-child th,
  .bp3-running-text table tbody tr:first-child td,
  table.bp3-html-table tbody tr:first-child td,
  .bp3-running-text table tfoot tr:first-child th,
  table.bp3-html-table tfoot tr:first-child th,
  .bp3-running-text table tfoot tr:first-child td,
  table.bp3-html-table tfoot tr:first-child td{
    -webkit-box-shadow:inset 0 1px 0 0 rgba(16, 22, 26, 0.15);
            box-shadow:inset 0 1px 0 0 rgba(16, 22, 26, 0.15); }
  .bp3-dark .bp3-running-text table th, .bp3-running-text .bp3-dark table th, .bp3-dark table.bp3-html-table th{
    color:#f5f8fa; }
  .bp3-dark .bp3-running-text table td, .bp3-running-text .bp3-dark table td, .bp3-dark table.bp3-html-table td{
    color:#f5f8fa; }
  .bp3-dark .bp3-running-text table tbody tr:first-child th, .bp3-running-text .bp3-dark table tbody tr:first-child th, .bp3-dark table.bp3-html-table tbody tr:first-child th,
  .bp3-dark .bp3-running-text table tbody tr:first-child td,
  .bp3-running-text .bp3-dark table tbody tr:first-child td,
  .bp3-dark table.bp3-html-table tbody tr:first-child td,
  .bp3-dark .bp3-running-text table tfoot tr:first-child th,
  .bp3-running-text .bp3-dark table tfoot tr:first-child th,
  .bp3-dark table.bp3-html-table tfoot tr:first-child th,
  .bp3-dark .bp3-running-text table tfoot tr:first-child td,
  .bp3-running-text .bp3-dark table tfoot tr:first-child td,
  .bp3-dark table.bp3-html-table tfoot tr:first-child td{
    -webkit-box-shadow:inset 0 1px 0 0 rgba(255, 255, 255, 0.15);
            box-shadow:inset 0 1px 0 0 rgba(255, 255, 255, 0.15); }

table.bp3-html-table.bp3-html-table-condensed th,
table.bp3-html-table.bp3-html-table-condensed td, table.bp3-html-table.bp3-small th,
table.bp3-html-table.bp3-small td{
  padding-bottom:6px;
  padding-top:6px; }

table.bp3-html-table.bp3-html-table-striped tbody tr:nth-child(odd) td{
  background:rgba(191, 204, 214, 0.15); }

table.bp3-html-table.bp3-html-table-bordered th:not(:first-child){
  -webkit-box-shadow:inset 1px 0 0 0 rgba(16, 22, 26, 0.15);
          box-shadow:inset 1px 0 0 0 rgba(16, 22, 26, 0.15); }

table.bp3-html-table.bp3-html-table-bordered tbody tr td,
table.bp3-html-table.bp3-html-table-bordered tfoot tr td{
  -webkit-box-shadow:inset 0 1px 0 0 rgba(16, 22, 26, 0.15);
          box-shadow:inset 0 1px 0 0 rgba(16, 22, 26, 0.15); }
  table.bp3-html-table.bp3-html-table-bordered tbody tr td:not(:first-child),
  table.bp3-html-table.bp3-html-table-bordered tfoot tr td:not(:first-child){
    -webkit-box-shadow:inset 1px 1px 0 0 rgba(16, 22, 26, 0.15);
            box-shadow:inset 1px 1px 0 0 rgba(16, 22, 26, 0.15); }

table.bp3-html-table.bp3-html-table-bordered.bp3-html-table-striped tbody tr:not(:first-child) td{
  -webkit-box-shadow:none;
          box-shadow:none; }
  table.bp3-html-table.bp3-html-table-bordered.bp3-html-table-striped tbody tr:not(:first-child) td:not(:first-child){
    -webkit-box-shadow:inset 1px 0 0 0 rgba(16, 22, 26, 0.15);
            box-shadow:inset 1px 0 0 0 rgba(16, 22, 26, 0.15); }

table.bp3-html-table.bp3-interactive tbody tr:hover td{
  background-color:rgba(191, 204, 214, 0.3);
  cursor:pointer; }

table.bp3-html-table.bp3-interactive tbody tr:active td{
  background-color:rgba(191, 204, 214, 0.4); }

.bp3-dark table.bp3-html-table{ }
  .bp3-dark table.bp3-html-table.bp3-html-table-striped tbody tr:nth-child(odd) td{
    background:rgba(92, 112, 128, 0.15); }
  .bp3-dark table.bp3-html-table.bp3-html-table-bordered th:not(:first-child){
    -webkit-box-shadow:inset 1px 0 0 0 rgba(255, 255, 255, 0.15);
            box-shadow:inset 1px 0 0 0 rgba(255, 255, 255, 0.15); }
  .bp3-dark table.bp3-html-table.bp3-html-table-bordered tbody tr td,
  .bp3-dark table.bp3-html-table.bp3-html-table-bordered tfoot tr td{
    -webkit-box-shadow:inset 0 1px 0 0 rgba(255, 255, 255, 0.15);
            box-shadow:inset 0 1px 0 0 rgba(255, 255, 255, 0.15); }
    .bp3-dark table.bp3-html-table.bp3-html-table-bordered tbody tr td:not(:first-child),
    .bp3-dark table.bp3-html-table.bp3-html-table-bordered tfoot tr td:not(:first-child){
      -webkit-box-shadow:inset 1px 1px 0 0 rgba(255, 255, 255, 0.15);
              box-shadow:inset 1px 1px 0 0 rgba(255, 255, 255, 0.15); }
  .bp3-dark table.bp3-html-table.bp3-html-table-bordered.bp3-html-table-striped tbody tr:not(:first-child) td{
    -webkit-box-shadow:inset 1px 0 0 0 rgba(255, 255, 255, 0.15);
            box-shadow:inset 1px 0 0 0 rgba(255, 255, 255, 0.15); }
    .bp3-dark table.bp3-html-table.bp3-html-table-bordered.bp3-html-table-striped tbody tr:not(:first-child) td:first-child{
      -webkit-box-shadow:none;
              box-shadow:none; }
  .bp3-dark table.bp3-html-table.bp3-interactive tbody tr:hover td{
    background-color:rgba(92, 112, 128, 0.3);
    cursor:pointer; }
  .bp3-dark table.bp3-html-table.bp3-interactive tbody tr:active td{
    background-color:rgba(92, 112, 128, 0.4); }

.bp3-key-combo{
  display:-webkit-box;
  display:-ms-flexbox;
  display:flex;
  -webkit-box-orient:horizontal;
  -webkit-box-direction:normal;
      -ms-flex-direction:row;
          flex-direction:row;
  -webkit-box-align:center;
      -ms-flex-align:center;
          align-items:center; }
  .bp3-key-combo > *{
    -webkit-box-flex:0;
        -ms-flex-positive:0;
            flex-grow:0;
    -ms-flex-negative:0;
        flex-shrink:0; }
  .bp3-key-combo > .bp3-fill{
    -webkit-box-flex:1;
        -ms-flex-positive:1;
            flex-grow:1;
    -ms-flex-negative:1;
        flex-shrink:1; }
  .bp3-key-combo::before,
  .bp3-key-combo > *{
    margin-right:5px; }
  .bp3-key-combo:empty::before,
  .bp3-key-combo > :last-child{
    margin-right:0; }

.bp3-hotkey-dialog{
  padding-bottom:0;
  top:40px; }
  .bp3-hotkey-dialog .bp3-dialog-body{
    margin:0;
    padding:0; }
  .bp3-hotkey-dialog .bp3-hotkey-label{
    -webkit-box-flex:1;
        -ms-flex-positive:1;
            flex-grow:1; }

.bp3-hotkey-column{
  margin:auto;
  max-height:80vh;
  overflow-y:auto;
  padding:30px; }
  .bp3-hotkey-column .bp3-heading{
    margin-bottom:20px; }
    .bp3-hotkey-column .bp3-heading:not(:first-child){
      margin-top:40px; }

.bp3-hotkey{
  -webkit-box-align:center;
      -ms-flex-align:center;
          align-items:center;
  display:-webkit-box;
  display:-ms-flexbox;
  display:flex;
  -webkit-box-pack:justify;
      -ms-flex-pack:justify;
          justify-content:space-between;
  margin-left:0;
  margin-right:0; }
  .bp3-hotkey:not(:last-child){
    margin-bottom:10px; }
.bp3-icon{
  display:inline-block;
  -webkit-box-flex:0;
      -ms-flex:0 0 auto;
          flex:0 0 auto;
  vertical-align:text-bottom; }
  .bp3-icon:not(:empty)::before{
    content:"" !important;
    content:unset !important; }
  .bp3-icon > svg{
    display:block; }
    .bp3-icon > svg:not([fill]){
      fill:currentColor; }

.bp3-icon.bp3-intent-primary, .bp3-icon-standard.bp3-intent-primary, .bp3-icon-large.bp3-intent-primary{
  color:#106ba3; }
  .bp3-dark .bp3-icon.bp3-intent-primary, .bp3-dark .bp3-icon-standard.bp3-intent-primary, .bp3-dark .bp3-icon-large.bp3-intent-primary{
    color:#48aff0; }

.bp3-icon.bp3-intent-success, .bp3-icon-standard.bp3-intent-success, .bp3-icon-large.bp3-intent-success{
  color:#0d8050; }
  .bp3-dark .bp3-icon.bp3-intent-success, .bp3-dark .bp3-icon-standard.bp3-intent-success, .bp3-dark .bp3-icon-large.bp3-intent-success{
    color:#3dcc91; }

.bp3-icon.bp3-intent-warning, .bp3-icon-standard.bp3-intent-warning, .bp3-icon-large.bp3-intent-warning{
  color:#bf7326; }
  .bp3-dark .bp3-icon.bp3-intent-warning, .bp3-dark .bp3-icon-standard.bp3-intent-warning, .bp3-dark .bp3-icon-large.bp3-intent-warning{
    color:#ffb366; }

.bp3-icon.bp3-intent-danger, .bp3-icon-standard.bp3-intent-danger, .bp3-icon-large.bp3-intent-danger{
  color:#c23030; }
  .bp3-dark .bp3-icon.bp3-intent-danger, .bp3-dark .bp3-icon-standard.bp3-intent-danger, .bp3-dark .bp3-icon-large.bp3-intent-danger{
    color:#ff7373; }

span.bp3-icon-standard{
  font-family:"Icons16", sans-serif;
  font-size:16px;
  font-style:normal;
  font-weight:400;
  line-height:1;
  -moz-osx-font-smoothing:grayscale;
  -webkit-font-smoothing:antialiased;
  display:inline-block; }

span.bp3-icon-large{
  font-family:"Icons20", sans-serif;
  font-size:20px;
  font-style:normal;
  font-weight:400;
  line-height:1;
  -moz-osx-font-smoothing:grayscale;
  -webkit-font-smoothing:antialiased;
  display:inline-block; }

span.bp3-icon:empty{
  font-family:"Icons20";
  font-size:inherit;
  font-style:normal;
  font-weight:400;
  line-height:1; }
  span.bp3-icon:empty::before{
    -moz-osx-font-smoothing:grayscale;
    -webkit-font-smoothing:antialiased; }

.bp3-icon-add::before{
  content:""; }

.bp3-icon-add-column-left::before{
  content:""; }

.bp3-icon-add-column-right::before{
  content:""; }

.bp3-icon-add-row-bottom::before{
  content:""; }

.bp3-icon-add-row-top::before{
  content:""; }

.bp3-icon-add-to-artifact::before{
  content:""; }

.bp3-icon-add-to-folder::before{
  content:""; }

.bp3-icon-airplane::before{
  content:""; }

.bp3-icon-align-center::before{
  content:""; }

.bp3-icon-align-justify::before{
  content:""; }

.bp3-icon-align-left::before{
  content:""; }

.bp3-icon-align-right::before{
  content:""; }

.bp3-icon-alignment-bottom::before{
  content:""; }

.bp3-icon-alignment-horizontal-center::before{
  content:""; }

.bp3-icon-alignment-left::before{
  content:""; }

.bp3-icon-alignment-right::before{
  content:""; }

.bp3-icon-alignment-top::before{
  content:""; }

.bp3-icon-alignment-vertical-center::before{
  content:""; }

.bp3-icon-annotation::before{
  content:""; }

.bp3-icon-application::before{
  content:""; }

.bp3-icon-applications::before{
  content:""; }

.bp3-icon-archive::before{
  content:""; }

.bp3-icon-arrow-bottom-left::before{
  content:"↙"; }

.bp3-icon-arrow-bottom-right::before{
  content:"↘"; }

.bp3-icon-arrow-down::before{
  content:"↓"; }

.bp3-icon-arrow-left::before{
  content:"←"; }

.bp3-icon-arrow-right::before{
  content:"→"; }

.bp3-icon-arrow-top-left::before{
  content:"↖"; }

.bp3-icon-arrow-top-right::before{
  content:"↗"; }

.bp3-icon-arrow-up::before{
  content:"↑"; }

.bp3-icon-arrows-horizontal::before{
  content:"↔"; }

.bp3-icon-arrows-vertical::before{
  content:"↕"; }

.bp3-icon-asterisk::before{
  content:"*"; }

.bp3-icon-automatic-updates::before{
  content:""; }

.bp3-icon-badge::before{
  content:""; }

.bp3-icon-ban-circle::before{
  content:""; }

.bp3-icon-bank-account::before{
  content:""; }

.bp3-icon-barcode::before{
  content:""; }

.bp3-icon-blank::before{
  content:""; }

.bp3-icon-blocked-person::before{
  content:""; }

.bp3-icon-bold::before{
  content:""; }

.bp3-icon-book::before{
  content:""; }

.bp3-icon-bookmark::before{
  content:""; }

.bp3-icon-box::before{
  content:""; }

.bp3-icon-briefcase::before{
  content:""; }

.bp3-icon-bring-data::before{
  content:""; }

.bp3-icon-build::before{
  content:""; }

.bp3-icon-calculator::before{
  content:""; }

.bp3-icon-calendar::before{
  content:""; }

.bp3-icon-camera::before{
  content:""; }

.bp3-icon-caret-down::before{
  content:"⌄"; }

.bp3-icon-caret-left::before{
  content:"〈"; }

.bp3-icon-caret-right::before{
  content:"〉"; }

.bp3-icon-caret-up::before{
  content:"⌃"; }

.bp3-icon-cell-tower::before{
  content:""; }

.bp3-icon-changes::before{
  content:""; }

.bp3-icon-chart::before{
  content:""; }

.bp3-icon-chat::before{
  content:""; }

.bp3-icon-chevron-backward::before{
  content:""; }

.bp3-icon-chevron-down::before{
  content:""; }

.bp3-icon-chevron-forward::before{
  content:""; }

.bp3-icon-chevron-left::before{
  content:""; }

.bp3-icon-chevron-right::before{
  content:""; }

.bp3-icon-chevron-up::before{
  content:""; }

.bp3-icon-circle::before{
  content:""; }

.bp3-icon-circle-arrow-down::before{
  content:""; }

.bp3-icon-circle-arrow-left::before{
  content:""; }

.bp3-icon-circle-arrow-right::before{
  content:""; }

.bp3-icon-circle-arrow-up::before{
  content:""; }

.bp3-icon-citation::before{
  content:""; }

.bp3-icon-clean::before{
  content:""; }

.bp3-icon-clipboard::before{
  content:""; }

.bp3-icon-cloud::before{
  content:"☁"; }

.bp3-icon-cloud-download::before{
  content:""; }

.bp3-icon-cloud-upload::before{
  content:""; }

.bp3-icon-code::before{
  content:""; }

.bp3-icon-code-block::before{
  content:""; }

.bp3-icon-cog::before{
  content:""; }

.bp3-icon-collapse-all::before{
  content:""; }

.bp3-icon-column-layout::before{
  content:""; }

.bp3-icon-comment::before{
  content:""; }

.bp3-icon-comparison::before{
  content:""; }

.bp3-icon-compass::before{
  content:""; }

.bp3-icon-compressed::before{
  content:""; }

.bp3-icon-confirm::before{
  content:""; }

.bp3-icon-console::before{
  content:""; }

.bp3-icon-contrast::before{
  content:""; }

.bp3-icon-control::before{
  content:""; }

.bp3-icon-credit-card::before{
  content:""; }

.bp3-icon-cross::before{
  content:"✗"; }

.bp3-icon-crown::before{
  content:""; }

.bp3-icon-cube::before{
  content:""; }

.bp3-icon-cube-add::before{
  content:""; }

.bp3-icon-cube-remove::before{
  content:""; }

.bp3-icon-curved-range-chart::before{
  content:""; }

.bp3-icon-cut::before{
  content:""; }

.bp3-icon-dashboard::before{
  content:""; }

.bp3-icon-data-lineage::before{
  content:""; }

.bp3-icon-database::before{
  content:""; }

.bp3-icon-delete::before{
  content:""; }

.bp3-icon-delta::before{
  content:"Δ"; }

.bp3-icon-derive-column::before{
  content:""; }

.bp3-icon-desktop::before{
  content:""; }

.bp3-icon-diagnosis::before{
  content:""; }

.bp3-icon-diagram-tree::before{
  content:""; }

.bp3-icon-direction-left::before{
  content:""; }

.bp3-icon-direction-right::before{
  content:""; }

.bp3-icon-disable::before{
  content:""; }

.bp3-icon-document::before{
  content:""; }

.bp3-icon-document-open::before{
  content:""; }

.bp3-icon-document-share::before{
  content:""; }

.bp3-icon-dollar::before{
  content:"$"; }

.bp3-icon-dot::before{
  content:"•"; }

.bp3-icon-double-caret-horizontal::before{
  content:""; }

.bp3-icon-double-caret-vertical::before{
  content:""; }

.bp3-icon-double-chevron-down::before{
  content:""; }

.bp3-icon-double-chevron-left::before{
  content:""; }

.bp3-icon-double-chevron-right::before{
  content:""; }

.bp3-icon-double-chevron-up::before{
  content:""; }

.bp3-icon-doughnut-chart::before{
  content:""; }

.bp3-icon-download::before{
  content:""; }

.bp3-icon-drag-handle-horizontal::before{
  content:""; }

.bp3-icon-drag-handle-vertical::before{
  content:""; }

.bp3-icon-draw::before{
  content:""; }

.bp3-icon-drive-time::before{
  content:""; }

.bp3-icon-duplicate::before{
  content:""; }

.bp3-icon-edit::before{
  content:"✎"; }

.bp3-icon-eject::before{
  content:"⏏"; }

.bp3-icon-endorsed::before{
  content:""; }

.bp3-icon-envelope::before{
  content:"✉"; }

.bp3-icon-equals::before{
  content:""; }

.bp3-icon-eraser::before{
  content:""; }

.bp3-icon-error::before{
  content:""; }

.bp3-icon-euro::before{
  content:"€"; }

.bp3-icon-exchange::before{
  content:""; }

.bp3-icon-exclude-row::before{
  content:""; }

.bp3-icon-expand-all::before{
  content:""; }

.bp3-icon-export::before{
  content:""; }

.bp3-icon-eye-off::before{
  content:""; }

.bp3-icon-eye-on::before{
  content:""; }

.bp3-icon-eye-open::before{
  content:""; }

.bp3-icon-fast-backward::before{
  content:""; }

.bp3-icon-fast-forward::before{
  content:""; }

.bp3-icon-feed::before{
  content:""; }

.bp3-icon-feed-subscribed::before{
  content:""; }

.bp3-icon-film::before{
  content:""; }

.bp3-icon-filter::before{
  content:""; }

.bp3-icon-filter-keep::before{
  content:""; }

.bp3-icon-filter-list::before{
  content:""; }

.bp3-icon-filter-open::before{
  content:""; }

.bp3-icon-filter-remove::before{
  content:""; }

.bp3-icon-flag::before{
  content:"⚑"; }

.bp3-icon-flame::before{
  content:""; }

.bp3-icon-flash::before{
  content:""; }

.bp3-icon-floppy-disk::before{
  content:""; }

.bp3-icon-flow-branch::before{
  content:""; }

.bp3-icon-flow-end::before{
  content:""; }

.bp3-icon-flow-linear::before{
  content:""; }

.bp3-icon-flow-review::before{
  content:""; }

.bp3-icon-flow-review-branch::before{
  content:""; }

.bp3-icon-flows::before{
  content:""; }

.bp3-icon-folder-close::before{
  content:""; }

.bp3-icon-folder-new::before{
  content:""; }

.bp3-icon-folder-open::before{
  content:""; }

.bp3-icon-folder-shared::before{
  content:""; }

.bp3-icon-folder-shared-open::before{
  content:""; }

.bp3-icon-follower::before{
  content:""; }

.bp3-icon-following::before{
  content:""; }

.bp3-icon-font::before{
  content:""; }

.bp3-icon-fork::before{
  content:""; }

.bp3-icon-form::before{
  content:""; }

.bp3-icon-full-circle::before{
  content:""; }

.bp3-icon-full-stacked-chart::before{
  content:""; }

.bp3-icon-fullscreen::before{
  content:""; }

.bp3-icon-function::before{
  content:""; }

.bp3-icon-gantt-chart::before{
  content:""; }

.bp3-icon-geolocation::before{
  content:""; }

.bp3-icon-geosearch::before{
  content:""; }

.bp3-icon-git-branch::before{
  content:""; }

.bp3-icon-git-commit::before{
  content:""; }

.bp3-icon-git-merge::before{
  content:""; }

.bp3-icon-git-new-branch::before{
  content:""; }

.bp3-icon-git-pull::before{
  content:""; }

.bp3-icon-git-push::before{
  content:""; }

.bp3-icon-git-repo::before{
  content:""; }

.bp3-icon-glass::before{
  content:""; }

.bp3-icon-globe::before{
  content:""; }

.bp3-icon-globe-network::before{
  content:""; }

.bp3-icon-graph::before{
  content:""; }

.bp3-icon-graph-remove::before{
  content:""; }

.bp3-icon-greater-than::before{
  content:""; }

.bp3-icon-greater-than-or-equal-to::before{
  content:""; }

.bp3-icon-grid::before{
  content:""; }

.bp3-icon-grid-view::before{
  content:""; }

.bp3-icon-group-objects::before{
  content:""; }

.bp3-icon-grouped-bar-chart::before{
  content:""; }

.bp3-icon-hand::before{
  content:""; }

.bp3-icon-hand-down::before{
  content:""; }

.bp3-icon-hand-left::before{
  content:""; }

.bp3-icon-hand-right::before{
  content:""; }

.bp3-icon-hand-up::before{
  content:""; }

.bp3-icon-header::before{
  content:""; }

.bp3-icon-header-one::before{
  content:""; }

.bp3-icon-header-two::before{
  content:""; }

.bp3-icon-headset::before{
  content:""; }

.bp3-icon-heart::before{
  content:"♥"; }

.bp3-icon-heart-broken::before{
  content:""; }

.bp3-icon-heat-grid::before{
  content:""; }

.bp3-icon-heatmap::before{
  content:""; }

.bp3-icon-help::before{
  content:"?"; }

.bp3-icon-helper-management::before{
  content:""; }

.bp3-icon-highlight::before{
  content:""; }

.bp3-icon-history::before{
  content:""; }

.bp3-icon-home::before{
  content:"⌂"; }

.bp3-icon-horizontal-bar-chart::before{
  content:""; }

.bp3-icon-horizontal-bar-chart-asc::before{
  content:""; }

.bp3-icon-horizontal-bar-chart-desc::before{
  content:""; }

.bp3-icon-horizontal-distribution::before{
  content:""; }

.bp3-icon-id-number::before{
  content:""; }

.bp3-icon-image-rotate-left::before{
  content:""; }

.bp3-icon-image-rotate-right::before{
  content:""; }

.bp3-icon-import::before{
  content:""; }

.bp3-icon-inbox::before{
  content:""; }

.bp3-icon-inbox-filtered::before{
  content:""; }

.bp3-icon-inbox-geo::before{
  content:""; }

.bp3-icon-inbox-search::before{
  content:""; }

.bp3-icon-inbox-update::before{
  content:""; }

.bp3-icon-info-sign::before{
  content:"ℹ"; }

.bp3-icon-inheritance::before{
  content:""; }

.bp3-icon-inner-join::before{
  content:""; }

.bp3-icon-insert::before{
  content:""; }

.bp3-icon-intersection::before{
  content:""; }

.bp3-icon-ip-address::before{
  content:""; }

.bp3-icon-issue::before{
  content:""; }

.bp3-icon-issue-closed::before{
  content:""; }

.bp3-icon-issue-new::before{
  content:""; }

.bp3-icon-italic::before{
  content:""; }

.bp3-icon-join-table::before{
  content:""; }

.bp3-icon-key::before{
  content:""; }

.bp3-icon-key-backspace::before{
  content:""; }

.bp3-icon-key-command::before{
  content:""; }

.bp3-icon-key-control::before{
  content:""; }

.bp3-icon-key-delete::before{
  content:""; }

.bp3-icon-key-enter::before{
  content:""; }

.bp3-icon-key-escape::before{
  content:""; }

.bp3-icon-key-option::before{
  content:""; }

.bp3-icon-key-shift::before{
  content:""; }

.bp3-icon-key-tab::before{
  content:""; }

.bp3-icon-known-vehicle::before{
  content:""; }

.bp3-icon-lab-test::before{
  content:""; }

.bp3-icon-label::before{
  content:""; }

.bp3-icon-layer::before{
  content:""; }

.bp3-icon-layers::before{
  content:""; }

.bp3-icon-layout::before{
  content:""; }

.bp3-icon-layout-auto::before{
  content:""; }

.bp3-icon-layout-balloon::before{
  content:""; }

.bp3-icon-layout-circle::before{
  content:""; }

.bp3-icon-layout-grid::before{
  content:""; }

.bp3-icon-layout-group-by::before{
  content:""; }

.bp3-icon-layout-hierarchy::before{
  content:""; }

.bp3-icon-layout-linear::before{
  content:""; }

.bp3-icon-layout-skew-grid::before{
  content:""; }

.bp3-icon-layout-sorted-clusters::before{
  content:""; }

.bp3-icon-learning::before{
  content:""; }

.bp3-icon-left-join::before{
  content:""; }

.bp3-icon-less-than::before{
  content:""; }

.bp3-icon-less-than-or-equal-to::before{
  content:""; }

.bp3-icon-lifesaver::before{
  content:""; }

.bp3-icon-lightbulb::before{
  content:""; }

.bp3-icon-link::before{
  content:""; }

.bp3-icon-list::before{
  content:"☰"; }

.bp3-icon-list-columns::before{
  content:""; }

.bp3-icon-list-detail-view::before{
  content:""; }

.bp3-icon-locate::before{
  content:""; }

.bp3-icon-lock::before{
  content:""; }

.bp3-icon-log-in::before{
  content:""; }

.bp3-icon-log-out::before{
  content:""; }

.bp3-icon-manual::before{
  content:""; }

.bp3-icon-manually-entered-data::before{
  content:""; }

.bp3-icon-map::before{
  content:""; }

.bp3-icon-map-create::before{
  content:""; }

.bp3-icon-map-marker::before{
  content:""; }

.bp3-icon-maximize::before{
  content:""; }

.bp3-icon-media::before{
  content:""; }

.bp3-icon-menu::before{
  content:""; }

.bp3-icon-menu-closed::before{
  content:""; }

.bp3-icon-menu-open::before{
  content:""; }

.bp3-icon-merge-columns::before{
  content:""; }

.bp3-icon-merge-links::before{
  content:""; }

.bp3-icon-minimize::before{
  content:""; }

.bp3-icon-minus::before{
  content:"−"; }

.bp3-icon-mobile-phone::before{
  content:""; }

.bp3-icon-mobile-video::before{
  content:""; }

.bp3-icon-moon::before{
  content:""; }

.bp3-icon-more::before{
  content:""; }

.bp3-icon-mountain::before{
  content:""; }

.bp3-icon-move::before{
  content:""; }

.bp3-icon-mugshot::before{
  content:""; }

.bp3-icon-multi-select::before{
  content:""; }

.bp3-icon-music::before{
  content:""; }

.bp3-icon-new-drawing::before{
  content:""; }

.bp3-icon-new-grid-item::before{
  content:""; }

.bp3-icon-new-layer::before{
  content:""; }

.bp3-icon-new-layers::before{
  content:""; }

.bp3-icon-new-link::before{
  content:""; }

.bp3-icon-new-object::before{
  content:""; }

.bp3-icon-new-person::before{
  content:""; }

.bp3-icon-new-prescription::before{
  content:""; }

.bp3-icon-new-text-box::before{
  content:""; }

.bp3-icon-ninja::before{
  content:""; }

.bp3-icon-not-equal-to::before{
  content:""; }

.bp3-icon-notifications::before{
  content:""; }

.bp3-icon-notifications-updated::before{
  content:""; }

.bp3-icon-numbered-list::before{
  content:""; }

.bp3-icon-numerical::before{
  content:""; }

.bp3-icon-office::before{
  content:""; }

.bp3-icon-offline::before{
  content:""; }

.bp3-icon-oil-field::before{
  content:""; }

.bp3-icon-one-column::before{
  content:""; }

.bp3-icon-outdated::before{
  content:""; }

.bp3-icon-page-layout::before{
  content:""; }

.bp3-icon-panel-stats::before{
  content:""; }

.bp3-icon-panel-table::before{
  content:""; }

.bp3-icon-paperclip::before{
  content:""; }

.bp3-icon-paragraph::before{
  content:""; }

.bp3-icon-path::before{
  content:""; }

.bp3-icon-path-search::before{
  content:""; }

.bp3-icon-pause::before{
  content:""; }

.bp3-icon-people::before{
  content:""; }

.bp3-icon-percentage::before{
  content:""; }

.bp3-icon-person::before{
  content:""; }

.bp3-icon-phone::before{
  content:"☎"; }

.bp3-icon-pie-chart::before{
  content:""; }

.bp3-icon-pin::before{
  content:""; }

.bp3-icon-pivot::before{
  content:""; }

.bp3-icon-pivot-table::before{
  content:""; }

.bp3-icon-play::before{
  content:""; }

.bp3-icon-plus::before{
  content:"+"; }

.bp3-icon-polygon-filter::before{
  content:""; }

.bp3-icon-power::before{
  content:""; }

.bp3-icon-predictive-analysis::before{
  content:""; }

.bp3-icon-prescription::before{
  content:""; }

.bp3-icon-presentation::before{
  content:""; }

.bp3-icon-print::before{
  content:"⎙"; }

.bp3-icon-projects::before{
  content:""; }

.bp3-icon-properties::before{
  content:""; }

.bp3-icon-property::before{
  content:""; }

.bp3-icon-publish-function::before{
  content:""; }

.bp3-icon-pulse::before{
  content:""; }

.bp3-icon-random::before{
  content:""; }

.bp3-icon-record::before{
  content:""; }

.bp3-icon-redo::before{
  content:""; }

.bp3-icon-refresh::before{
  content:""; }

.bp3-icon-regression-chart::before{
  content:""; }

.bp3-icon-remove::before{
  content:""; }

.bp3-icon-remove-column::before{
  content:""; }

.bp3-icon-remove-column-left::before{
  content:""; }

.bp3-icon-remove-column-right::before{
  content:""; }

.bp3-icon-remove-row-bottom::before{
  content:""; }

.bp3-icon-remove-row-top::before{
  content:""; }

.bp3-icon-repeat::before{
  content:""; }

.bp3-icon-reset::before{
  content:""; }

.bp3-icon-resolve::before{
  content:""; }

.bp3-icon-rig::before{
  content:""; }

.bp3-icon-right-join::before{
  content:""; }

.bp3-icon-ring::before{
  content:""; }

.bp3-icon-rotate-document::before{
  content:""; }

.bp3-icon-rotate-page::before{
  content:""; }

.bp3-icon-satellite::before{
  content:""; }

.bp3-icon-saved::before{
  content:""; }

.bp3-icon-scatter-plot::before{
  content:""; }

.bp3-icon-search::before{
  content:""; }

.bp3-icon-search-around::before{
  content:""; }

.bp3-icon-search-template::before{
  content:""; }

.bp3-icon-search-text::before{
  content:""; }

.bp3-icon-segmented-control::before{
  content:""; }

.bp3-icon-select::before{
  content:""; }

.bp3-icon-selection::before{
  content:"⦿"; }

.bp3-icon-send-to::before{
  content:""; }

.bp3-icon-send-to-graph::before{
  content:""; }

.bp3-icon-send-to-map::before{
  content:""; }

.bp3-icon-series-add::before{
  content:""; }

.bp3-icon-series-configuration::before{
  content:""; }

.bp3-icon-series-derived::before{
  content:""; }

.bp3-icon-series-filtered::before{
  content:""; }

.bp3-icon-series-search::before{
  content:""; }

.bp3-icon-settings::before{
  content:""; }

.bp3-icon-share::before{
  content:""; }

.bp3-icon-shield::before{
  content:""; }

.bp3-icon-shop::before{
  content:""; }

.bp3-icon-shopping-cart::before{
  content:""; }

.bp3-icon-signal-search::before{
  content:""; }

.bp3-icon-sim-card::before{
  content:""; }

.bp3-icon-slash::before{
  content:""; }

.bp3-icon-small-cross::before{
  content:""; }

.bp3-icon-small-minus::before{
  content:""; }

.bp3-icon-small-plus::before{
  content:""; }

.bp3-icon-small-tick::before{
  content:""; }

.bp3-icon-snowflake::before{
  content:""; }

.bp3-icon-social-media::before{
  content:""; }

.bp3-icon-sort::before{
  content:""; }

.bp3-icon-sort-alphabetical::before{
  content:""; }

.bp3-icon-sort-alphabetical-desc::before{
  content:""; }

.bp3-icon-sort-asc::before{
  content:""; }

.bp3-icon-sort-desc::before{
  content:""; }

.bp3-icon-sort-numerical::before{
  content:""; }

.bp3-icon-sort-numerical-desc::before{
  content:""; }

.bp3-icon-split-columns::before{
  content:""; }

.bp3-icon-square::before{
  content:""; }

.bp3-icon-stacked-chart::before{
  content:""; }

.bp3-icon-star::before{
  content:"★"; }

.bp3-icon-star-empty::before{
  content:"☆"; }

.bp3-icon-step-backward::before{
  content:""; }

.bp3-icon-step-chart::before{
  content:""; }

.bp3-icon-step-forward::before{
  content:""; }

.bp3-icon-stop::before{
  content:""; }

.bp3-icon-stopwatch::before{
  content:""; }

.bp3-icon-strikethrough::before{
  content:""; }

.bp3-icon-style::before{
  content:""; }

.bp3-icon-swap-horizontal::before{
  content:""; }

.bp3-icon-swap-vertical::before{
  content:""; }

.bp3-icon-symbol-circle::before{
  content:""; }

.bp3-icon-symbol-cross::before{
  content:""; }

.bp3-icon-symbol-diamond::before{
  content:""; }

.bp3-icon-symbol-square::before{
  content:""; }

.bp3-icon-symbol-triangle-down::before{
  content:""; }

.bp3-icon-symbol-triangle-up::before{
  content:""; }

.bp3-icon-tag::before{
  content:""; }

.bp3-icon-take-action::before{
  content:""; }

.bp3-icon-taxi::before{
  content:""; }

.bp3-icon-text-highlight::before{
  content:""; }

.bp3-icon-th::before{
  content:""; }

.bp3-icon-th-derived::before{
  content:""; }

.bp3-icon-th-disconnect::before{
  content:""; }

.bp3-icon-th-filtered::before{
  content:""; }

.bp3-icon-th-list::before{
  content:""; }

.bp3-icon-thumbs-down::before{
  content:""; }

.bp3-icon-thumbs-up::before{
  content:""; }

.bp3-icon-tick::before{
  content:"✓"; }

.bp3-icon-tick-circle::before{
  content:""; }

.bp3-icon-time::before{
  content:"⏲"; }

.bp3-icon-timeline-area-chart::before{
  content:""; }

.bp3-icon-timeline-bar-chart::before{
  content:""; }

.bp3-icon-timeline-events::before{
  content:""; }

.bp3-icon-timeline-line-chart::before{
  content:""; }

.bp3-icon-tint::before{
  content:""; }

.bp3-icon-torch::before{
  content:""; }

.bp3-icon-tractor::before{
  content:""; }

.bp3-icon-train::before{
  content:""; }

.bp3-icon-translate::before{
  content:""; }

.bp3-icon-trash::before{
  content:""; }

.bp3-icon-tree::before{
  content:""; }

.bp3-icon-trending-down::before{
  content:""; }

.bp3-icon-trending-up::before{
  content:""; }

.bp3-icon-truck::before{
  content:""; }

.bp3-icon-two-columns::before{
  content:""; }

.bp3-icon-unarchive::before{
  content:""; }

.bp3-icon-underline::before{
  content:"⎁"; }

.bp3-icon-undo::before{
  content:"⎌"; }

.bp3-icon-ungroup-objects::before{
  content:""; }

.bp3-icon-unknown-vehicle::before{
  content:""; }

.bp3-icon-unlock::before{
  content:""; }

.bp3-icon-unpin::before{
  content:""; }

.bp3-icon-unresolve::before{
  content:""; }

.bp3-icon-updated::before{
  content:""; }

.bp3-icon-upload::before{
  content:""; }

.bp3-icon-user::before{
  content:""; }

.bp3-icon-variable::before{
  content:""; }

.bp3-icon-vertical-bar-chart-asc::before{
  content:""; }

.bp3-icon-vertical-bar-chart-desc::before{
  content:""; }

.bp3-icon-vertical-distribution::before{
  content:""; }

.bp3-icon-video::before{
  content:""; }

.bp3-icon-volume-down::before{
  content:""; }

.bp3-icon-volume-off::before{
  content:""; }

.bp3-icon-volume-up::before{
  content:""; }

.bp3-icon-walk::before{
  content:""; }

.bp3-icon-warning-sign::before{
  content:""; }

.bp3-icon-waterfall-chart::before{
  content:""; }

.bp3-icon-widget::before{
  content:""; }

.bp3-icon-widget-button::before{
  content:""; }

.bp3-icon-widget-footer::before{
  content:""; }

.bp3-icon-widget-header::before{
  content:""; }

.bp3-icon-wrench::before{
  content:""; }

.bp3-icon-zoom-in::before{
  content:""; }

.bp3-icon-zoom-out::before{
  content:""; }

.bp3-icon-zoom-to-fit::before{
  content:""; }
.bp3-submenu > .bp3-popover-wrapper{
  display:block; }

.bp3-submenu .bp3-popover-target{
  display:block; }
  .bp3-submenu .bp3-popover-target.bp3-popover-open > .bp3-menu-item{ }

.bp3-submenu.bp3-popover{
  -webkit-box-shadow:none;
          box-shadow:none;
  padding:0 5px; }
  .bp3-submenu.bp3-popover > .bp3-popover-content{
    -webkit-box-shadow:0 0 0 1px rgba(16, 22, 26, 0.1), 0 2px 4px rgba(16, 22, 26, 0.2), 0 8px 24px rgba(16, 22, 26, 0.2);
            box-shadow:0 0 0 1px rgba(16, 22, 26, 0.1), 0 2px 4px rgba(16, 22, 26, 0.2), 0 8px 24px rgba(16, 22, 26, 0.2); }
  .bp3-dark .bp3-submenu.bp3-popover, .bp3-submenu.bp3-popover.bp3-dark{
    -webkit-box-shadow:none;
            box-shadow:none; }
    .bp3-dark .bp3-submenu.bp3-popover > .bp3-popover-content, .bp3-submenu.bp3-popover.bp3-dark > .bp3-popover-content{
      -webkit-box-shadow:0 0 0 1px rgba(16, 22, 26, 0.2), 0 2px 4px rgba(16, 22, 26, 0.4), 0 8px 24px rgba(16, 22, 26, 0.4);
              box-shadow:0 0 0 1px rgba(16, 22, 26, 0.2), 0 2px 4px rgba(16, 22, 26, 0.4), 0 8px 24px rgba(16, 22, 26, 0.4); }
.bp3-menu{
  background:#ffffff;
  border-radius:3px;
  color:#182026;
  list-style:none;
  margin:0;
  min-width:180px;
  padding:5px;
  text-align:left; }

.bp3-menu-divider{
  border-top:1px solid rgba(16, 22, 26, 0.15);
  display:block;
  margin:5px; }
  .bp3-dark .bp3-menu-divider{
    border-top-color:rgba(255, 255, 255, 0.15); }

.bp3-menu-item{
  display:-webkit-box;
  display:-ms-flexbox;
  display:flex;
  -webkit-box-orient:horizontal;
  -webkit-box-direction:normal;
      -ms-flex-direction:row;
          flex-direction:row;
  -webkit-box-align:start;
      -ms-flex-align:start;
          align-items:flex-start;
  border-radius:2px;
  color:inherit;
  line-height:20px;
  padding:5px 7px;
  text-decoration:none;
  -webkit-user-select:none;
     -moz-user-select:none;
      -ms-user-select:none;
          user-select:none; }
  .bp3-menu-item > *{
    -webkit-box-flex:0;
        -ms-flex-positive:0;
            flex-grow:0;
    -ms-flex-negative:0;
        flex-shrink:0; }
  .bp3-menu-item > .bp3-fill{
    -webkit-box-flex:1;
        -ms-flex-positive:1;
            flex-grow:1;
    -ms-flex-negative:1;
        flex-shrink:1; }
  .bp3-menu-item::before,
  .bp3-menu-item > *{
    margin-right:7px; }
  .bp3-menu-item:empty::before,
  .bp3-menu-item > :last-child{
    margin-right:0; }
  .bp3-menu-item > .bp3-fill{
    word-break:break-word; }
  .bp3-menu-item:hover, .bp3-submenu .bp3-popover-target.bp3-popover-open > .bp3-menu-item{
    background-color:rgba(167, 182, 194, 0.3);
    cursor:pointer;
    text-decoration:none; }
  .bp3-menu-item.bp3-disabled{
    background-color:inherit;
    color:rgba(92, 112, 128, 0.6);
    cursor:not-allowed; }
  .bp3-dark .bp3-menu-item{
    color:inherit; }
    .bp3-dark .bp3-menu-item:hover, .bp3-dark .bp3-submenu .bp3-popover-target.bp3-popover-open > .bp3-menu-item, .bp3-submenu .bp3-dark .bp3-popover-target.bp3-popover-open > .bp3-menu-item{
      background-color:rgba(138, 155, 168, 0.15);
      color:inherit; }
    .bp3-dark .bp3-menu-item.bp3-disabled{
      background-color:inherit;
      color:rgba(167, 182, 194, 0.6); }
  .bp3-menu-item.bp3-intent-primary{
    color:#106ba3; }
    .bp3-menu-item.bp3-intent-primary .bp3-icon{
      color:inherit; }
    .bp3-menu-item.bp3-intent-primary::before, .bp3-menu-item.bp3-intent-primary::after,
    .bp3-menu-item.bp3-intent-primary .bp3-menu-item-label{
      color:#106ba3; }
    .bp3-menu-item.bp3-intent-primary:hover, .bp3-submenu .bp3-popover-target.bp3-popover-open > .bp3-intent-primary.bp3-menu-item, .bp3-menu-item.bp3-intent-primary.bp3-active{
      background-color:#137cbd; }
    .bp3-menu-item.bp3-intent-primary:active{
      background-color:#106ba3; }
    .bp3-menu-item.bp3-intent-primary:hover, .bp3-submenu .bp3-popover-target.bp3-popover-open > .bp3-intent-primary.bp3-menu-item, .bp3-menu-item.bp3-intent-primary:hover::before, .bp3-submenu .bp3-popover-target.bp3-popover-open > .bp3-intent-primary.bp3-menu-item::before, .bp3-menu-item.bp3-intent-primary:hover::after, .bp3-submenu .bp3-popover-target.bp3-popover-open > .bp3-intent-primary.bp3-menu-item::after,
    .bp3-menu-item.bp3-intent-primary:hover .bp3-menu-item-label,
    .bp3-submenu .bp3-popover-target.bp3-popover-open > .bp3-intent-primary.bp3-menu-item .bp3-menu-item-label, .bp3-menu-item.bp3-intent-primary:active, .bp3-menu-item.bp3-intent-primary:active::before, .bp3-menu-item.bp3-intent-primary:active::after,
    .bp3-menu-item.bp3-intent-primary:active .bp3-menu-item-label, .bp3-menu-item.bp3-intent-primary.bp3-active, .bp3-menu-item.bp3-intent-primary.bp3-active::before, .bp3-menu-item.bp3-intent-primary.bp3-active::after,
    .bp3-menu-item.bp3-intent-primary.bp3-active .bp3-menu-item-label{
      color:#ffffff; }
  .bp3-menu-item.bp3-intent-success{
    color:#0d8050; }
    .bp3-menu-item.bp3-intent-success .bp3-icon{
      color:inherit; }
    .bp3-menu-item.bp3-intent-success::before, .bp3-menu-item.bp3-intent-success::after,
    .bp3-menu-item.bp3-intent-success .bp3-menu-item-label{
      color:#0d8050; }
    .bp3-menu-item.bp3-intent-success:hover, .bp3-submenu .bp3-popover-target.bp3-popover-open > .bp3-intent-success.bp3-menu-item, .bp3-menu-item.bp3-intent-success.bp3-active{
      background-color:#0f9960; }
    .bp3-menu-item.bp3-intent-success:active{
      background-color:#0d8050; }
    .bp3-menu-item.bp3-intent-success:hover, .bp3-submenu .bp3-popover-target.bp3-popover-open > .bp3-intent-success.bp3-menu-item, .bp3-menu-item.bp3-intent-success:hover::before, .bp3-submenu .bp3-popover-target.bp3-popover-open > .bp3-intent-success.bp3-menu-item::before, .bp3-menu-item.bp3-intent-success:hover::after, .bp3-submenu .bp3-popover-target.bp3-popover-open > .bp3-intent-success.bp3-menu-item::after,
    .bp3-menu-item.bp3-intent-success:hover .bp3-menu-item-label,
    .bp3-submenu .bp3-popover-target.bp3-popover-open > .bp3-intent-success.bp3-menu-item .bp3-menu-item-label, .bp3-menu-item.bp3-intent-success:active, .bp3-menu-item.bp3-intent-success:active::before, .bp3-menu-item.bp3-intent-success:active::after,
    .bp3-menu-item.bp3-intent-success:active .bp3-menu-item-label, .bp3-menu-item.bp3-intent-success.bp3-active, .bp3-menu-item.bp3-intent-success.bp3-active::before, .bp3-menu-item.bp3-intent-success.bp3-active::after,
    .bp3-menu-item.bp3-intent-success.bp3-active .bp3-menu-item-label{
      color:#ffffff; }
  .bp3-menu-item.bp3-intent-warning{
    color:#bf7326; }
    .bp3-menu-item.bp3-intent-warning .bp3-icon{
      color:inherit; }
    .bp3-menu-item.bp3-intent-warning::before, .bp3-menu-item.bp3-intent-warning::after,
    .bp3-menu-item.bp3-intent-warning .bp3-menu-item-label{
      color:#bf7326; }
    .bp3-menu-item.bp3-intent-warning:hover, .bp3-submenu .bp3-popover-target.bp3-popover-open > .bp3-intent-warning.bp3-menu-item, .bp3-menu-item.bp3-intent-warning.bp3-active{
      background-color:#d9822b; }
    .bp3-menu-item.bp3-intent-warning:active{
      background-color:#bf7326; }
    .bp3-menu-item.bp3-intent-warning:hover, .bp3-submenu .bp3-popover-target.bp3-popover-open > .bp3-intent-warning.bp3-menu-item, .bp3-menu-item.bp3-intent-warning:hover::before, .bp3-submenu .bp3-popover-target.bp3-popover-open > .bp3-intent-warning.bp3-menu-item::before, .bp3-menu-item.bp3-intent-warning:hover::after, .bp3-submenu .bp3-popover-target.bp3-popover-open > .bp3-intent-warning.bp3-menu-item::after,
    .bp3-menu-item.bp3-intent-warning:hover .bp3-menu-item-label,
    .bp3-submenu .bp3-popover-target.bp3-popover-open > .bp3-intent-warning.bp3-menu-item .bp3-menu-item-label, .bp3-menu-item.bp3-intent-warning:active, .bp3-menu-item.bp3-intent-warning:active::before, .bp3-menu-item.bp3-intent-warning:active::after,
    .bp3-menu-item.bp3-intent-warning:active .bp3-menu-item-label, .bp3-menu-item.bp3-intent-warning.bp3-active, .bp3-menu-item.bp3-intent-warning.bp3-active::before, .bp3-menu-item.bp3-intent-warning.bp3-active::after,
    .bp3-menu-item.bp3-intent-warning.bp3-active .bp3-menu-item-label{
      color:#ffffff; }
  .bp3-menu-item.bp3-intent-danger{
    color:#c23030; }
    .bp3-menu-item.bp3-intent-danger .bp3-icon{
      color:inherit; }
    .bp3-menu-item.bp3-intent-danger::before, .bp3-menu-item.bp3-intent-danger::after,
    .bp3-menu-item.bp3-intent-danger .bp3-menu-item-label{
      color:#c23030; }
    .bp3-menu-item.bp3-intent-danger:hover, .bp3-submenu .bp3-popover-target.bp3-popover-open > .bp3-intent-danger.bp3-menu-item, .bp3-menu-item.bp3-intent-danger.bp3-active{
      background-color:#db3737; }
    .bp3-menu-item.bp3-intent-danger:active{
      background-color:#c23030; }
    .bp3-menu-item.bp3-intent-danger:hover, .bp3-submenu .bp3-popover-target.bp3-popover-open > .bp3-intent-danger.bp3-menu-item, .bp3-menu-item.bp3-intent-danger:hover::before, .bp3-submenu .bp3-popover-target.bp3-popover-open > .bp3-intent-danger.bp3-menu-item::before, .bp3-menu-item.bp3-intent-danger:hover::after, .bp3-submenu .bp3-popover-target.bp3-popover-open > .bp3-intent-danger.bp3-menu-item::after,
    .bp3-menu-item.bp3-intent-danger:hover .bp3-menu-item-label,
    .bp3-submenu .bp3-popover-target.bp3-popover-open > .bp3-intent-danger.bp3-menu-item .bp3-menu-item-label, .bp3-menu-item.bp3-intent-danger:active, .bp3-menu-item.bp3-intent-danger:active::before, .bp3-menu-item.bp3-intent-danger:active::after,
    .bp3-menu-item.bp3-intent-danger:active .bp3-menu-item-label, .bp3-menu-item.bp3-intent-danger.bp3-active, .bp3-menu-item.bp3-intent-danger.bp3-active::before, .bp3-menu-item.bp3-intent-danger.bp3-active::after,
    .bp3-menu-item.bp3-intent-danger.bp3-active .bp3-menu-item-label{
      color:#ffffff; }
  .bp3-menu-item::before{
    font-family:"Icons16", sans-serif;
    font-size:16px;
    font-style:normal;
    font-weight:400;
    line-height:1;
    -moz-osx-font-smoothing:grayscale;
    -webkit-font-smoothing:antialiased;
    margin-right:7px; }
  .bp3-menu-item::before,
  .bp3-menu-item > .bp3-icon{
    color:#5c7080;
    margin-top:2px; }
  .bp3-menu-item .bp3-menu-item-label{
    color:#5c7080; }
  .bp3-menu-item:hover, .bp3-submenu .bp3-popover-target.bp3-popover-open > .bp3-menu-item{
    color:inherit; }
  .bp3-menu-item.bp3-active, .bp3-menu-item:active{
    background-color:rgba(115, 134, 148, 0.3); }
  .bp3-menu-item.bp3-disabled{
    background-color:inherit !important;
    color:rgba(92, 112, 128, 0.6) !important;
    cursor:not-allowed !important;
    outline:none !important; }
    .bp3-menu-item.bp3-disabled::before,
    .bp3-menu-item.bp3-disabled > .bp3-icon,
    .bp3-menu-item.bp3-disabled .bp3-menu-item-label{
      color:rgba(92, 112, 128, 0.6) !important; }
  .bp3-large .bp3-menu-item{
    font-size:16px;
    line-height:22px;
    padding:9px 7px; }
    .bp3-large .bp3-menu-item .bp3-icon{
      margin-top:3px; }
    .bp3-large .bp3-menu-item::before{
      font-family:"Icons20", sans-serif;
      font-size:20px;
      font-style:normal;
      font-weight:400;
      line-height:1;
      -moz-osx-font-smoothing:grayscale;
      -webkit-font-smoothing:antialiased;
      margin-right:10px;
      margin-top:1px; }

button.bp3-menu-item{
  background:none;
  border:none;
  text-align:left;
  width:100%; }
.bp3-menu-header{
  border-top:1px solid rgba(16, 22, 26, 0.15);
  display:block;
  margin:5px;
  cursor:default;
  padding-left:2px; }
  .bp3-dark .bp3-menu-header{
    border-top-color:rgba(255, 255, 255, 0.15); }
  .bp3-menu-header:first-of-type{
    border-top:none; }
  .bp3-menu-header > h6{
    color:#182026;
    font-weight:600;
    overflow:hidden;
    text-overflow:ellipsis;
    white-space:nowrap;
    word-wrap:normal;
    line-height:17px;
    margin:0;
    padding:10px 7px 0 1px; }
    .bp3-dark .bp3-menu-header > h6{
      color:#f5f8fa; }
  .bp3-menu-header:first-of-type > h6{
    padding-top:0; }
  .bp3-large .bp3-menu-header > h6{
    font-size:18px;
    padding-bottom:5px;
    padding-top:15px; }
  .bp3-large .bp3-menu-header:first-of-type > h6{
    padding-top:0; }

.bp3-dark .bp3-menu{
  background:#30404d;
  color:#f5f8fa; }

.bp3-dark .bp3-menu-item{ }
  .bp3-dark .bp3-menu-item.bp3-intent-primary{
    color:#48aff0; }
    .bp3-dark .bp3-menu-item.bp3-intent-primary .bp3-icon{
      color:inherit; }
    .bp3-dark .bp3-menu-item.bp3-intent-primary::before, .bp3-dark .bp3-menu-item.bp3-intent-primary::after,
    .bp3-dark .bp3-menu-item.bp3-intent-primary .bp3-menu-item-label{
      color:#48aff0; }
    .bp3-dark .bp3-menu-item.bp3-intent-primary:hover, .bp3-dark .bp3-submenu .bp3-popover-target.bp3-popover-open > .bp3-intent-primary.bp3-menu-item, .bp3-submenu .bp3-dark .bp3-popover-target.bp3-popover-open > .bp3-intent-primary.bp3-menu-item, .bp3-dark .bp3-menu-item.bp3-intent-primary.bp3-active{
      background-color:#137cbd; }
    .bp3-dark .bp3-menu-item.bp3-intent-primary:active{
      background-color:#106ba3; }
    .bp3-dark .bp3-menu-item.bp3-intent-primary:hover, .bp3-dark .bp3-submenu .bp3-popover-target.bp3-popover-open > .bp3-intent-primary.bp3-menu-item, .bp3-submenu .bp3-dark .bp3-popover-target.bp3-popover-open > .bp3-intent-primary.bp3-menu-item, .bp3-dark .bp3-menu-item.bp3-intent-primary:hover::before, .bp3-dark .bp3-submenu .bp3-popover-target.bp3-popover-open > .bp3-intent-primary.bp3-menu-item::before, .bp3-submenu .bp3-dark .bp3-popover-target.bp3-popover-open > .bp3-intent-primary.bp3-menu-item::before, .bp3-dark .bp3-menu-item.bp3-intent-primary:hover::after, .bp3-dark .bp3-submenu .bp3-popover-target.bp3-popover-open > .bp3-intent-primary.bp3-menu-item::after, .bp3-submenu .bp3-dark .bp3-popover-target.bp3-popover-open > .bp3-intent-primary.bp3-menu-item::after,
    .bp3-dark .bp3-menu-item.bp3-intent-primary:hover .bp3-menu-item-label,
    .bp3-dark .bp3-submenu .bp3-popover-target.bp3-popover-open > .bp3-intent-primary.bp3-menu-item .bp3-menu-item-label,
    .bp3-submenu .bp3-dark .bp3-popover-target.bp3-popover-open > .bp3-intent-primary.bp3-menu-item .bp3-menu-item-label, .bp3-dark .bp3-menu-item.bp3-intent-primary:active, .bp3-dark .bp3-menu-item.bp3-intent-primary:active::before, .bp3-dark .bp3-menu-item.bp3-intent-primary:active::after,
    .bp3-dark .bp3-menu-item.bp3-intent-primary:active .bp3-menu-item-label, .bp3-dark .bp3-menu-item.bp3-intent-primary.bp3-active, .bp3-dark .bp3-menu-item.bp3-intent-primary.bp3-active::before, .bp3-dark .bp3-menu-item.bp3-intent-primary.bp3-active::after,
    .bp3-dark .bp3-menu-item.bp3-intent-primary.bp3-active .bp3-menu-item-label{
      color:#ffffff; }
  .bp3-dark .bp3-menu-item.bp3-intent-success{
    color:#3dcc91; }
    .bp3-dark .bp3-menu-item.bp3-intent-success .bp3-icon{
      color:inherit; }
    .bp3-dark .bp3-menu-item.bp3-intent-success::before, .bp3-dark .bp3-menu-item.bp3-intent-success::after,
    .bp3-dark .bp3-menu-item.bp3-intent-success .bp3-menu-item-label{
      color:#3dcc91; }
    .bp3-dark .bp3-menu-item.bp3-intent-success:hover, .bp3-dark .bp3-submenu .bp3-popover-target.bp3-popover-open > .bp3-intent-success.bp3-menu-item, .bp3-submenu .bp3-dark .bp3-popover-target.bp3-popover-open > .bp3-intent-success.bp3-menu-item, .bp3-dark .bp3-menu-item.bp3-intent-success.bp3-active{
      background-color:#0f9960; }
    .bp3-dark .bp3-menu-item.bp3-intent-success:active{
      background-color:#0d8050; }
    .bp3-dark .bp3-menu-item.bp3-intent-success:hover, .bp3-dark .bp3-submenu .bp3-popover-target.bp3-popover-open > .bp3-intent-success.bp3-menu-item, .bp3-submenu .bp3-dark .bp3-popover-target.bp3-popover-open > .bp3-intent-success.bp3-menu-item, .bp3-dark .bp3-menu-item.bp3-intent-success:hover::before, .bp3-dark .bp3-submenu .bp3-popover-target.bp3-popover-open > .bp3-intent-success.bp3-menu-item::before, .bp3-submenu .bp3-dark .bp3-popover-target.bp3-popover-open > .bp3-intent-success.bp3-menu-item::before, .bp3-dark .bp3-menu-item.bp3-intent-success:hover::after, .bp3-dark .bp3-submenu .bp3-popover-target.bp3-popover-open > .bp3-intent-success.bp3-menu-item::after, .bp3-submenu .bp3-dark .bp3-popover-target.bp3-popover-open > .bp3-intent-success.bp3-menu-item::after,
    .bp3-dark .bp3-menu-item.bp3-intent-success:hover .bp3-menu-item-label,
    .bp3-dark .bp3-submenu .bp3-popover-target.bp3-popover-open > .bp3-intent-success.bp3-menu-item .bp3-menu-item-label,
    .bp3-submenu .bp3-dark .bp3-popover-target.bp3-popover-open > .bp3-intent-success.bp3-menu-item .bp3-menu-item-label, .bp3-dark .bp3-menu-item.bp3-intent-success:active, .bp3-dark .bp3-menu-item.bp3-intent-success:active::before, .bp3-dark .bp3-menu-item.bp3-intent-success:active::after,
    .bp3-dark .bp3-menu-item.bp3-intent-success:active .bp3-menu-item-label, .bp3-dark .bp3-menu-item.bp3-intent-success.bp3-active, .bp3-dark .bp3-menu-item.bp3-intent-success.bp3-active::before, .bp3-dark .bp3-menu-item.bp3-intent-success.bp3-active::after,
    .bp3-dark .bp3-menu-item.bp3-intent-success.bp3-active .bp3-menu-item-label{
      color:#ffffff; }
  .bp3-dark .bp3-menu-item.bp3-intent-warning{
    color:#ffb366; }
    .bp3-dark .bp3-menu-item.bp3-intent-warning .bp3-icon{
      color:inherit; }
    .bp3-dark .bp3-menu-item.bp3-intent-warning::before, .bp3-dark .bp3-menu-item.bp3-intent-warning::after,
    .bp3-dark .bp3-menu-item.bp3-intent-warning .bp3-menu-item-label{
      color:#ffb366; }
    .bp3-dark .bp3-menu-item.bp3-intent-warning:hover, .bp3-dark .bp3-submenu .bp3-popover-target.bp3-popover-open > .bp3-intent-warning.bp3-menu-item, .bp3-submenu .bp3-dark .bp3-popover-target.bp3-popover-open > .bp3-intent-warning.bp3-menu-item, .bp3-dark .bp3-menu-item.bp3-intent-warning.bp3-active{
      background-color:#d9822b; }
    .bp3-dark .bp3-menu-item.bp3-intent-warning:active{
      background-color:#bf7326; }
    .bp3-dark .bp3-menu-item.bp3-intent-warning:hover, .bp3-dark .bp3-submenu .bp3-popover-target.bp3-popover-open > .bp3-intent-warning.bp3-menu-item, .bp3-submenu .bp3-dark .bp3-popover-target.bp3-popover-open > .bp3-intent-warning.bp3-menu-item, .bp3-dark .bp3-menu-item.bp3-intent-warning:hover::before, .bp3-dark .bp3-submenu .bp3-popover-target.bp3-popover-open > .bp3-intent-warning.bp3-menu-item::before, .bp3-submenu .bp3-dark .bp3-popover-target.bp3-popover-open > .bp3-intent-warning.bp3-menu-item::before, .bp3-dark .bp3-menu-item.bp3-intent-warning:hover::after, .bp3-dark .bp3-submenu .bp3-popover-target.bp3-popover-open > .bp3-intent-warning.bp3-menu-item::after, .bp3-submenu .bp3-dark .bp3-popover-target.bp3-popover-open > .bp3-intent-warning.bp3-menu-item::after,
    .bp3-dark .bp3-menu-item.bp3-intent-warning:hover .bp3-menu-item-label,
    .bp3-dark .bp3-submenu .bp3-popover-target.bp3-popover-open > .bp3-intent-warning.bp3-menu-item .bp3-menu-item-label,
    .bp3-submenu .bp3-dark .bp3-popover-target.bp3-popover-open > .bp3-intent-warning.bp3-menu-item .bp3-menu-item-label, .bp3-dark .bp3-menu-item.bp3-intent-warning:active, .bp3-dark .bp3-menu-item.bp3-intent-warning:active::before, .bp3-dark .bp3-menu-item.bp3-intent-warning:active::after,
    .bp3-dark .bp3-menu-item.bp3-intent-warning:active .bp3-menu-item-label, .bp3-dark .bp3-menu-item.bp3-intent-warning.bp3-active, .bp3-dark .bp3-menu-item.bp3-intent-warning.bp3-active::before, .bp3-dark .bp3-menu-item.bp3-intent-warning.bp3-active::after,
    .bp3-dark .bp3-menu-item.bp3-intent-warning.bp3-active .bp3-menu-item-label{
      color:#ffffff; }
  .bp3-dark .bp3-menu-item.bp3-intent-danger{
    color:#ff7373; }
    .bp3-dark .bp3-menu-item.bp3-intent-danger .bp3-icon{
      color:inherit; }
    .bp3-dark .bp3-menu-item.bp3-intent-danger::before, .bp3-dark .bp3-menu-item.bp3-intent-danger::after,
    .bp3-dark .bp3-menu-item.bp3-intent-danger .bp3-menu-item-label{
      color:#ff7373; }
    .bp3-dark .bp3-menu-item.bp3-intent-danger:hover, .bp3-dark .bp3-submenu .bp3-popover-target.bp3-popover-open > .bp3-intent-danger.bp3-menu-item, .bp3-submenu .bp3-dark .bp3-popover-target.bp3-popover-open > .bp3-intent-danger.bp3-menu-item, .bp3-dark .bp3-menu-item.bp3-intent-danger.bp3-active{
      background-color:#db3737; }
    .bp3-dark .bp3-menu-item.bp3-intent-danger:active{
      background-color:#c23030; }
    .bp3-dark .bp3-menu-item.bp3-intent-danger:hover, .bp3-dark .bp3-submenu .bp3-popover-target.bp3-popover-open > .bp3-intent-danger.bp3-menu-item, .bp3-submenu .bp3-dark .bp3-popover-target.bp3-popover-open > .bp3-intent-danger.bp3-menu-item, .bp3-dark .bp3-menu-item.bp3-intent-danger:hover::before, .bp3-dark .bp3-submenu .bp3-popover-target.bp3-popover-open > .bp3-intent-danger.bp3-menu-item::before, .bp3-submenu .bp3-dark .bp3-popover-target.bp3-popover-open > .bp3-intent-danger.bp3-menu-item::before, .bp3-dark .bp3-menu-item.bp3-intent-danger:hover::after, .bp3-dark .bp3-submenu .bp3-popover-target.bp3-popover-open > .bp3-intent-danger.bp3-menu-item::after, .bp3-submenu .bp3-dark .bp3-popover-target.bp3-popover-open > .bp3-intent-danger.bp3-menu-item::after,
    .bp3-dark .bp3-menu-item.bp3-intent-danger:hover .bp3-menu-item-label,
    .bp3-dark .bp3-submenu .bp3-popover-target.bp3-popover-open > .bp3-intent-danger.bp3-menu-item .bp3-menu-item-label,
    .bp3-submenu .bp3-dark .bp3-popover-target.bp3-popover-open > .bp3-intent-danger.bp3-menu-item .bp3-menu-item-label, .bp3-dark .bp3-menu-item.bp3-intent-danger:active, .bp3-dark .bp3-menu-item.bp3-intent-danger:active::before, .bp3-dark .bp3-menu-item.bp3-intent-danger:active::after,
    .bp3-dark .bp3-menu-item.bp3-intent-danger:active .bp3-menu-item-label, .bp3-dark .bp3-menu-item.bp3-intent-danger.bp3-active, .bp3-dark .bp3-menu-item.bp3-intent-danger.bp3-active::before, .bp3-dark .bp3-menu-item.bp3-intent-danger.bp3-active::after,
    .bp3-dark .bp3-menu-item.bp3-intent-danger.bp3-active .bp3-menu-item-label{
      color:#ffffff; }
  .bp3-dark .bp3-menu-item::before,
  .bp3-dark .bp3-menu-item > .bp3-icon{
    color:#a7b6c2; }
  .bp3-dark .bp3-menu-item .bp3-menu-item-label{
    color:#a7b6c2; }
  .bp3-dark .bp3-menu-item.bp3-active, .bp3-dark .bp3-menu-item:active{
    background-color:rgba(138, 155, 168, 0.3); }
  .bp3-dark .bp3-menu-item.bp3-disabled{
    color:rgba(167, 182, 194, 0.6) !important; }
    .bp3-dark .bp3-menu-item.bp3-disabled::before,
    .bp3-dark .bp3-menu-item.bp3-disabled > .bp3-icon,
    .bp3-dark .bp3-menu-item.bp3-disabled .bp3-menu-item-label{
      color:rgba(167, 182, 194, 0.6) !important; }

.bp3-dark .bp3-menu-divider,
.bp3-dark .bp3-menu-header{
  border-color:rgba(255, 255, 255, 0.15); }

.bp3-dark .bp3-menu-header > h6{
  color:#f5f8fa; }

.bp3-label .bp3-menu{
  margin-top:5px; }
.bp3-navbar{
  background-color:#ffffff;
  -webkit-box-shadow:0 0 0 1px rgba(16, 22, 26, 0.1), 0 0 0 rgba(16, 22, 26, 0), 0 1px 1px rgba(16, 22, 26, 0.2);
          box-shadow:0 0 0 1px rgba(16, 22, 26, 0.1), 0 0 0 rgba(16, 22, 26, 0), 0 1px 1px rgba(16, 22, 26, 0.2);
  height:50px;
  padding:0 15px;
  position:relative;
  width:100%;
  z-index:10; }
  .bp3-navbar.bp3-dark,
  .bp3-dark .bp3-navbar{
    background-color:#394b59; }
  .bp3-navbar.bp3-dark{
    -webkit-box-shadow:inset 0 0 0 1px rgba(16, 22, 26, 0.2), 0 0 0 rgba(16, 22, 26, 0), 0 1px 1px rgba(16, 22, 26, 0.4);
            box-shadow:inset 0 0 0 1px rgba(16, 22, 26, 0.2), 0 0 0 rgba(16, 22, 26, 0), 0 1px 1px rgba(16, 22, 26, 0.4); }
  .bp3-dark .bp3-navbar{
    -webkit-box-shadow:0 0 0 1px rgba(16, 22, 26, 0.2), 0 0 0 rgba(16, 22, 26, 0), 0 1px 1px rgba(16, 22, 26, 0.4);
            box-shadow:0 0 0 1px rgba(16, 22, 26, 0.2), 0 0 0 rgba(16, 22, 26, 0), 0 1px 1px rgba(16, 22, 26, 0.4); }
  .bp3-navbar.bp3-fixed-top{
    left:0;
    position:fixed;
    right:0;
    top:0; }

.bp3-navbar-heading{
  font-size:16px;
  margin-right:15px; }

.bp3-navbar-group{
  -webkit-box-align:center;
      -ms-flex-align:center;
          align-items:center;
  display:-webkit-box;
  display:-ms-flexbox;
  display:flex;
  height:50px; }
  .bp3-navbar-group.bp3-align-left{
    float:left; }
  .bp3-navbar-group.bp3-align-right{
    float:right; }

.bp3-navbar-divider{
  border-left:1px solid rgba(16, 22, 26, 0.15);
  height:20px;
  margin:0 10px; }
  .bp3-dark .bp3-navbar-divider{
    border-left-color:rgba(255, 255, 255, 0.15); }
.bp3-non-ideal-state{
  display:-webkit-box;
  display:-ms-flexbox;
  display:flex;
  -webkit-box-orient:vertical;
  -webkit-box-direction:normal;
      -ms-flex-direction:column;
          flex-direction:column;
  -webkit-box-align:center;
      -ms-flex-align:center;
          align-items:center;
  height:100%;
  -webkit-box-pack:center;
      -ms-flex-pack:center;
          justify-content:center;
  text-align:center;
  width:100%; }
  .bp3-non-ideal-state > *{
    -webkit-box-flex:0;
        -ms-flex-positive:0;
            flex-grow:0;
    -ms-flex-negative:0;
        flex-shrink:0; }
  .bp3-non-ideal-state > .bp3-fill{
    -webkit-box-flex:1;
        -ms-flex-positive:1;
            flex-grow:1;
    -ms-flex-negative:1;
        flex-shrink:1; }
  .bp3-non-ideal-state::before,
  .bp3-non-ideal-state > *{
    margin-bottom:20px; }
  .bp3-non-ideal-state:empty::before,
  .bp3-non-ideal-state > :last-child{
    margin-bottom:0; }
  .bp3-non-ideal-state > *{
    max-width:400px; }

.bp3-non-ideal-state-visual{
  color:rgba(92, 112, 128, 0.6);
  font-size:60px; }
  .bp3-dark .bp3-non-ideal-state-visual{
    color:rgba(167, 182, 194, 0.6); }

.bp3-overflow-list{
  display:-webkit-box;
  display:-ms-flexbox;
  display:flex;
  -ms-flex-wrap:nowrap;
      flex-wrap:nowrap;
  min-width:0; }

.bp3-overflow-list-spacer{
  -ms-flex-negative:1;
      flex-shrink:1;
  width:1px; }

body.bp3-overlay-open{
  overflow:hidden; }

.bp3-overlay{
  bottom:0;
  left:0;
  position:static;
  right:0;
  top:0;
  z-index:20; }
  .bp3-overlay:not(.bp3-overlay-open){
    pointer-events:none; }
  .bp3-overlay.bp3-overlay-container{
    overflow:hidden;
    position:fixed; }
    .bp3-overlay.bp3-overlay-container.bp3-overlay-inline{
      position:absolute; }
  .bp3-overlay.bp3-overlay-scroll-container{
    overflow:auto;
    position:fixed; }
    .bp3-overlay.bp3-overlay-scroll-container.bp3-overlay-inline{
      position:absolute; }
  .bp3-overlay.bp3-overlay-inline{
    display:inline;
    overflow:visible; }

.bp3-overlay-content{
  position:fixed;
  z-index:20; }
  .bp3-overlay-inline .bp3-overlay-content,
  .bp3-overlay-scroll-container .bp3-overlay-content{
    position:absolute; }

.bp3-overlay-backdrop{
  bottom:0;
  left:0;
  position:fixed;
  right:0;
  top:0;
  opacity:1;
  background-color:rgba(16, 22, 26, 0.7);
  overflow:auto;
  -webkit-user-select:none;
     -moz-user-select:none;
      -ms-user-select:none;
          user-select:none;
  z-index:20; }
  .bp3-overlay-backdrop.bp3-overlay-enter, .bp3-overlay-backdrop.bp3-overlay-appear{
    opacity:0; }
  .bp3-overlay-backdrop.bp3-overlay-enter-active, .bp3-overlay-backdrop.bp3-overlay-appear-active{
    opacity:1;
    -webkit-transition-delay:0;
            transition-delay:0;
    -webkit-transition-duration:200ms;
            transition-duration:200ms;
    -webkit-transition-property:opacity;
    transition-property:opacity;
    -webkit-transition-timing-function:cubic-bezier(0.4, 1, 0.75, 0.9);
            transition-timing-function:cubic-bezier(0.4, 1, 0.75, 0.9); }
  .bp3-overlay-backdrop.bp3-overlay-exit{
    opacity:1; }
  .bp3-overlay-backdrop.bp3-overlay-exit-active{
    opacity:0;
    -webkit-transition-delay:0;
            transition-delay:0;
    -webkit-transition-duration:200ms;
            transition-duration:200ms;
    -webkit-transition-property:opacity;
    transition-property:opacity;
    -webkit-transition-timing-function:cubic-bezier(0.4, 1, 0.75, 0.9);
            transition-timing-function:cubic-bezier(0.4, 1, 0.75, 0.9); }
  .bp3-overlay-backdrop:focus{
    outline:none; }
  .bp3-overlay-inline .bp3-overlay-backdrop{
    position:absolute; }
.bp3-panel-stack{
  overflow:hidden;
  position:relative; }

.bp3-panel-stack-header{
  -webkit-box-align:center;
      -ms-flex-align:center;
          align-items:center;
  -webkit-box-shadow:0 1px rgba(16, 22, 26, 0.15);
          box-shadow:0 1px rgba(16, 22, 26, 0.15);
  display:-webkit-box;
  display:-ms-flexbox;
  display:flex;
  -ms-flex-negative:0;
      flex-shrink:0;
  height:30px;
  z-index:1; }
  .bp3-dark .bp3-panel-stack-header{
    -webkit-box-shadow:0 1px rgba(255, 255, 255, 0.15);
            box-shadow:0 1px rgba(255, 255, 255, 0.15); }
  .bp3-panel-stack-header > span{
    -webkit-box-align:stretch;
        -ms-flex-align:stretch;
            align-items:stretch;
    display:-webkit-box;
    display:-ms-flexbox;
    display:flex;
    -webkit-box-flex:1;
        -ms-flex:1;
            flex:1; }
  .bp3-panel-stack-header .bp3-heading{
    margin:0 5px; }

.bp3-button.bp3-panel-stack-header-back{
  margin-left:5px;
  padding-left:0;
  white-space:nowrap; }
  .bp3-button.bp3-panel-stack-header-back .bp3-icon{
    margin:0 2px; }

.bp3-panel-stack-view{
  bottom:0;
  left:0;
  position:absolute;
  right:0;
  top:0;
  background-color:#ffffff;
  border-right:1px solid rgba(16, 22, 26, 0.15);
  display:-webkit-box;
  display:-ms-flexbox;
  display:flex;
  -webkit-box-orient:vertical;
  -webkit-box-direction:normal;
      -ms-flex-direction:column;
          flex-direction:column;
  margin-right:-1px;
  overflow-y:auto;
  z-index:1; }
  .bp3-dark .bp3-panel-stack-view{
    background-color:#30404d; }
  .bp3-panel-stack-view:nth-last-child(n + 4){
    display:none; }

.bp3-panel-stack-push .bp3-panel-stack-enter, .bp3-panel-stack-push .bp3-panel-stack-appear{
  -webkit-transform:translateX(100%);
          transform:translateX(100%);
  opacity:0; }

.bp3-panel-stack-push .bp3-panel-stack-enter-active, .bp3-panel-stack-push .bp3-panel-stack-appear-active{
  -webkit-transform:translate(0%);
          transform:translate(0%);
  opacity:1;
  -webkit-transition-delay:0;
          transition-delay:0;
  -webkit-transition-duration:400ms;
          transition-duration:400ms;
  -webkit-transition-property:opacity, -webkit-transform;
  transition-property:opacity, -webkit-transform;
  transition-property:transform, opacity;
  transition-property:transform, opacity, -webkit-transform;
  -webkit-transition-timing-function:ease;
          transition-timing-function:ease; }

.bp3-panel-stack-push .bp3-panel-stack-exit{
  -webkit-transform:translate(0%);
          transform:translate(0%);
  opacity:1; }

.bp3-panel-stack-push .bp3-panel-stack-exit-active{
  -webkit-transform:translateX(-50%);
          transform:translateX(-50%);
  opacity:0;
  -webkit-transition-delay:0;
          transition-delay:0;
  -webkit-transition-duration:400ms;
          transition-duration:400ms;
  -webkit-transition-property:opacity, -webkit-transform;
  transition-property:opacity, -webkit-transform;
  transition-property:transform, opacity;
  transition-property:transform, opacity, -webkit-transform;
  -webkit-transition-timing-function:ease;
          transition-timing-function:ease; }

.bp3-panel-stack-pop .bp3-panel-stack-enter, .bp3-panel-stack-pop .bp3-panel-stack-appear{
  -webkit-transform:translateX(-50%);
          transform:translateX(-50%);
  opacity:0; }

.bp3-panel-stack-pop .bp3-panel-stack-enter-active, .bp3-panel-stack-pop .bp3-panel-stack-appear-active{
  -webkit-transform:translate(0%);
          transform:translate(0%);
  opacity:1;
  -webkit-transition-delay:0;
          transition-delay:0;
  -webkit-transition-duration:400ms;
          transition-duration:400ms;
  -webkit-transition-property:opacity, -webkit-transform;
  transition-property:opacity, -webkit-transform;
  transition-property:transform, opacity;
  transition-property:transform, opacity, -webkit-transform;
  -webkit-transition-timing-function:ease;
          transition-timing-function:ease; }

.bp3-panel-stack-pop .bp3-panel-stack-exit{
  -webkit-transform:translate(0%);
          transform:translate(0%);
  opacity:1; }

.bp3-panel-stack-pop .bp3-panel-stack-exit-active{
  -webkit-transform:translateX(100%);
          transform:translateX(100%);
  opacity:0;
  -webkit-transition-delay:0;
          transition-delay:0;
  -webkit-transition-duration:400ms;
          transition-duration:400ms;
  -webkit-transition-property:opacity, -webkit-transform;
  transition-property:opacity, -webkit-transform;
  transition-property:transform, opacity;
  transition-property:transform, opacity, -webkit-transform;
  -webkit-transition-timing-function:ease;
          transition-timing-function:ease; }
.bp3-panel-stack2{
  overflow:hidden;
  position:relative; }

.bp3-panel-stack2-header{
  -webkit-box-align:center;
      -ms-flex-align:center;
          align-items:center;
  -webkit-box-shadow:0 1px rgba(16, 22, 26, 0.15);
          box-shadow:0 1px rgba(16, 22, 26, 0.15);
  display:-webkit-box;
  display:-ms-flexbox;
  display:flex;
  -ms-flex-negative:0;
      flex-shrink:0;
  height:30px;
  z-index:1; }
  .bp3-dark .bp3-panel-stack2-header{
    -webkit-box-shadow:0 1px rgba(255, 255, 255, 0.15);
            box-shadow:0 1px rgba(255, 255, 255, 0.15); }
  .bp3-panel-stack2-header > span{
    -webkit-box-align:stretch;
        -ms-flex-align:stretch;
            align-items:stretch;
    display:-webkit-box;
    display:-ms-flexbox;
    display:flex;
    -webkit-box-flex:1;
        -ms-flex:1;
            flex:1; }
  .bp3-panel-stack2-header .bp3-heading{
    margin:0 5px; }

.bp3-button.bp3-panel-stack2-header-back{
  margin-left:5px;
  padding-left:0;
  white-space:nowrap; }
  .bp3-button.bp3-panel-stack2-header-back .bp3-icon{
    margin:0 2px; }

.bp3-panel-stack2-view{
  bottom:0;
  left:0;
  position:absolute;
  right:0;
  top:0;
  background-color:#ffffff;
  border-right:1px solid rgba(16, 22, 26, 0.15);
  display:-webkit-box;
  display:-ms-flexbox;
  display:flex;
  -webkit-box-orient:vertical;
  -webkit-box-direction:normal;
      -ms-flex-direction:column;
          flex-direction:column;
  margin-right:-1px;
  overflow-y:auto;
  z-index:1; }
  .bp3-dark .bp3-panel-stack2-view{
    background-color:#30404d; }
  .bp3-panel-stack2-view:nth-last-child(n + 4){
    display:none; }

.bp3-panel-stack2-push .bp3-panel-stack2-enter, .bp3-panel-stack2-push .bp3-panel-stack2-appear{
  -webkit-transform:translateX(100%);
          transform:translateX(100%);
  opacity:0; }

.bp3-panel-stack2-push .bp3-panel-stack2-enter-active, .bp3-panel-stack2-push .bp3-panel-stack2-appear-active{
  -webkit-transform:translate(0%);
          transform:translate(0%);
  opacity:1;
  -webkit-transition-delay:0;
          transition-delay:0;
  -webkit-transition-duration:400ms;
          transition-duration:400ms;
  -webkit-transition-property:opacity, -webkit-transform;
  transition-property:opacity, -webkit-transform;
  transition-property:transform, opacity;
  transition-property:transform, opacity, -webkit-transform;
  -webkit-transition-timing-function:ease;
          transition-timing-function:ease; }

.bp3-panel-stack2-push .bp3-panel-stack2-exit{
  -webkit-transform:translate(0%);
          transform:translate(0%);
  opacity:1; }

.bp3-panel-stack2-push .bp3-panel-stack2-exit-active{
  -webkit-transform:translateX(-50%);
          transform:translateX(-50%);
  opacity:0;
  -webkit-transition-delay:0;
          transition-delay:0;
  -webkit-transition-duration:400ms;
          transition-duration:400ms;
  -webkit-transition-property:opacity, -webkit-transform;
  transition-property:opacity, -webkit-transform;
  transition-property:transform, opacity;
  transition-property:transform, opacity, -webkit-transform;
  -webkit-transition-timing-function:ease;
          transition-timing-function:ease; }

.bp3-panel-stack2-pop .bp3-panel-stack2-enter, .bp3-panel-stack2-pop .bp3-panel-stack2-appear{
  -webkit-transform:translateX(-50%);
          transform:translateX(-50%);
  opacity:0; }

.bp3-panel-stack2-pop .bp3-panel-stack2-enter-active, .bp3-panel-stack2-pop .bp3-panel-stack2-appear-active{
  -webkit-transform:translate(0%);
          transform:translate(0%);
  opacity:1;
  -webkit-transition-delay:0;
          transition-delay:0;
  -webkit-transition-duration:400ms;
          transition-duration:400ms;
  -webkit-transition-property:opacity, -webkit-transform;
  transition-property:opacity, -webkit-transform;
  transition-property:transform, opacity;
  transition-property:transform, opacity, -webkit-transform;
  -webkit-transition-timing-function:ease;
          transition-timing-function:ease; }

.bp3-panel-stack2-pop .bp3-panel-stack2-exit{
  -webkit-transform:translate(0%);
          transform:translate(0%);
  opacity:1; }

.bp3-panel-stack2-pop .bp3-panel-stack2-exit-active{
  -webkit-transform:translateX(100%);
          transform:translateX(100%);
  opacity:0;
  -webkit-transition-delay:0;
          transition-delay:0;
  -webkit-transition-duration:400ms;
          transition-duration:400ms;
  -webkit-transition-property:opacity, -webkit-transform;
  transition-property:opacity, -webkit-transform;
  transition-property:transform, opacity;
  transition-property:transform, opacity, -webkit-transform;
  -webkit-transition-timing-function:ease;
          transition-timing-function:ease; }
.bp3-popover{
  -webkit-box-shadow:0 0 0 1px rgba(16, 22, 26, 0.1), 0 2px 4px rgba(16, 22, 26, 0.2), 0 8px 24px rgba(16, 22, 26, 0.2);
          box-shadow:0 0 0 1px rgba(16, 22, 26, 0.1), 0 2px 4px rgba(16, 22, 26, 0.2), 0 8px 24px rgba(16, 22, 26, 0.2);
  -webkit-transform:scale(1);
          transform:scale(1);
  border-radius:3px;
  display:inline-block;
  z-index:20; }
  .bp3-popover .bp3-popover-arrow{
    height:30px;
    position:absolute;
    width:30px; }
    .bp3-popover .bp3-popover-arrow::before{
      height:20px;
      margin:5px;
      width:20px; }
  .bp3-tether-element-attached-bottom.bp3-tether-target-attached-top > .bp3-popover{
    margin-bottom:17px;
    margin-top:-17px; }
    .bp3-tether-element-attached-bottom.bp3-tether-target-attached-top > .bp3-popover > .bp3-popover-arrow{
      bottom:-11px; }
      .bp3-tether-element-attached-bottom.bp3-tether-target-attached-top > .bp3-popover > .bp3-popover-arrow svg{
        -webkit-transform:rotate(-90deg);
                transform:rotate(-90deg); }
  .bp3-tether-element-attached-left.bp3-tether-target-attached-right > .bp3-popover{
    margin-left:17px; }
    .bp3-tether-element-attached-left.bp3-tether-target-attached-right > .bp3-popover > .bp3-popover-arrow{
      left:-11px; }
      .bp3-tether-element-attached-left.bp3-tether-target-attached-right > .bp3-popover > .bp3-popover-arrow svg{
        -webkit-transform:rotate(0);
                transform:rotate(0); }
  .bp3-tether-element-attached-top.bp3-tether-target-attached-bottom > .bp3-popover{
    margin-top:17px; }
    .bp3-tether-element-attached-top.bp3-tether-target-attached-bottom > .bp3-popover > .bp3-popover-arrow{
      top:-11px; }
      .bp3-tether-element-attached-top.bp3-tether-target-attached-bottom > .bp3-popover > .bp3-popover-arrow svg{
        -webkit-transform:rotate(90deg);
                transform:rotate(90deg); }
  .bp3-tether-element-attached-right.bp3-tether-target-attached-left > .bp3-popover{
    margin-left:-17px;
    margin-right:17px; }
    .bp3-tether-element-attached-right.bp3-tether-target-attached-left > .bp3-popover > .bp3-popover-arrow{
      right:-11px; }
      .bp3-tether-element-attached-right.bp3-tether-target-attached-left > .bp3-popover > .bp3-popover-arrow svg{
        -webkit-transform:rotate(180deg);
                transform:rotate(180deg); }
  .bp3-tether-element-attached-middle > .bp3-popover > .bp3-popover-arrow{
    top:50%;
    -webkit-transform:translateY(-50%);
            transform:translateY(-50%); }
  .bp3-tether-element-attached-center > .bp3-popover > .bp3-popover-arrow{
    right:50%;
    -webkit-transform:translateX(50%);
            transform:translateX(50%); }
  .bp3-tether-element-attached-top.bp3-tether-target-attached-top > .bp3-popover > .bp3-popover-arrow{
    top:-0.3934px; }
  .bp3-tether-element-attached-right.bp3-tether-target-attached-right > .bp3-popover > .bp3-popover-arrow{
    right:-0.3934px; }
  .bp3-tether-element-attached-left.bp3-tether-target-attached-left > .bp3-popover > .bp3-popover-arrow{
    left:-0.3934px; }
  .bp3-tether-element-attached-bottom.bp3-tether-target-attached-bottom > .bp3-popover > .bp3-popover-arrow{
    bottom:-0.3934px; }
  .bp3-tether-element-attached-top.bp3-tether-element-attached-left > .bp3-popover{
    -webkit-transform-origin:top left;
            transform-origin:top left; }
  .bp3-tether-element-attached-top.bp3-tether-element-attached-center > .bp3-popover{
    -webkit-transform-origin:top center;
            transform-origin:top center; }
  .bp3-tether-element-attached-top.bp3-tether-element-attached-right > .bp3-popover{
    -webkit-transform-origin:top right;
            transform-origin:top right; }
  .bp3-tether-element-attached-middle.bp3-tether-element-attached-left > .bp3-popover{
    -webkit-transform-origin:center left;
            transform-origin:center left; }
  .bp3-tether-element-attached-middle.bp3-tether-element-attached-center > .bp3-popover{
    -webkit-transform-origin:center center;
            transform-origin:center center; }
  .bp3-tether-element-attached-middle.bp3-tether-element-attached-right > .bp3-popover{
    -webkit-transform-origin:center right;
            transform-origin:center right; }
  .bp3-tether-element-attached-bottom.bp3-tether-element-attached-left > .bp3-popover{
    -webkit-transform-origin:bottom left;
            transform-origin:bottom left; }
  .bp3-tether-element-attached-bottom.bp3-tether-element-attached-center > .bp3-popover{
    -webkit-transform-origin:bottom center;
            transform-origin:bottom center; }
  .bp3-tether-element-attached-bottom.bp3-tether-element-attached-right > .bp3-popover{
    -webkit-transform-origin:bottom right;
            transform-origin:bottom right; }
  .bp3-popover .bp3-popover-content{
    background:#ffffff;
    color:inherit; }
  .bp3-popover .bp3-popover-arrow::before{
    -webkit-box-shadow:1px 1px 6px rgba(16, 22, 26, 0.2);
            box-shadow:1px 1px 6px rgba(16, 22, 26, 0.2); }
  .bp3-popover .bp3-popover-arrow-border{
    fill:#10161a;
    fill-opacity:0.1; }
  .bp3-popover .bp3-popover-arrow-fill{
    fill:#ffffff; }
  .bp3-popover-enter > .bp3-popover, .bp3-popover-appear > .bp3-popover{
    -webkit-transform:scale(0.3);
            transform:scale(0.3); }
  .bp3-popover-enter-active > .bp3-popover, .bp3-popover-appear-active > .bp3-popover{
    -webkit-transform:scale(1);
            transform:scale(1);
    -webkit-transition-delay:0;
            transition-delay:0;
    -webkit-transition-duration:300ms;
            transition-duration:300ms;
    -webkit-transition-property:-webkit-transform;
    transition-property:-webkit-transform;
    transition-property:transform;
    transition-property:transform, -webkit-transform;
    -webkit-transition-timing-function:cubic-bezier(0.54, 1.12, 0.38, 1.11);
            transition-timing-function:cubic-bezier(0.54, 1.12, 0.38, 1.11); }
  .bp3-popover-exit > .bp3-popover{
    -webkit-transform:scale(1);
            transform:scale(1); }
  .bp3-popover-exit-active > .bp3-popover{
    -webkit-transform:scale(0.3);
            transform:scale(0.3);
    -webkit-transition-delay:0;
            transition-delay:0;
    -webkit-transition-duration:300ms;
            transition-duration:300ms;
    -webkit-transition-property:-webkit-transform;
    transition-property:-webkit-transform;
    transition-property:transform;
    transition-property:transform, -webkit-transform;
    -webkit-transition-timing-function:cubic-bezier(0.54, 1.12, 0.38, 1.11);
            transition-timing-function:cubic-bezier(0.54, 1.12, 0.38, 1.11); }
  .bp3-popover .bp3-popover-content{
    border-radius:3px;
    position:relative; }
  .bp3-popover.bp3-popover-content-sizing .bp3-popover-content{
    max-width:350px;
    padding:20px; }
  .bp3-popover-target + .bp3-overlay .bp3-popover.bp3-popover-content-sizing{
    width:350px; }
  .bp3-popover.bp3-minimal{
    margin:0 !important; }
    .bp3-popover.bp3-minimal .bp3-popover-arrow{
      display:none; }
    .bp3-popover.bp3-minimal.bp3-popover{
      -webkit-transform:scale(1);
              transform:scale(1); }
      .bp3-popover-enter > .bp3-popover.bp3-minimal.bp3-popover, .bp3-popover-appear > .bp3-popover.bp3-minimal.bp3-popover{
        -webkit-transform:scale(1);
                transform:scale(1); }
      .bp3-popover-enter-active > .bp3-popover.bp3-minimal.bp3-popover, .bp3-popover-appear-active > .bp3-popover.bp3-minimal.bp3-popover{
        -webkit-transform:scale(1);
                transform:scale(1);
        -webkit-transition-delay:0;
                transition-delay:0;
        -webkit-transition-duration:100ms;
                transition-duration:100ms;
        -webkit-transition-property:-webkit-transform;
        transition-property:-webkit-transform;
        transition-property:transform;
        transition-property:transform, -webkit-transform;
        -webkit-transition-timing-function:cubic-bezier(0.4, 1, 0.75, 0.9);
                transition-timing-function:cubic-bezier(0.4, 1, 0.75, 0.9); }
      .bp3-popover-exit > .bp3-popover.bp3-minimal.bp3-popover{
        -webkit-transform:scale(1);
                transform:scale(1); }
      .bp3-popover-exit-active > .bp3-popover.bp3-minimal.bp3-popover{
        -webkit-transform:scale(1);
                transform:scale(1);
        -webkit-transition-delay:0;
                transition-delay:0;
        -webkit-transition-duration:100ms;
                transition-duration:100ms;
        -webkit-transition-property:-webkit-transform;
        transition-property:-webkit-transform;
        transition-property:transform;
        transition-property:transform, -webkit-transform;
        -webkit-transition-timing-function:cubic-bezier(0.4, 1, 0.75, 0.9);
                transition-timing-function:cubic-bezier(0.4, 1, 0.75, 0.9); }
  .bp3-popover.bp3-dark,
  .bp3-dark .bp3-popover{
    -webkit-box-shadow:0 0 0 1px rgba(16, 22, 26, 0.2), 0 2px 4px rgba(16, 22, 26, 0.4), 0 8px 24px rgba(16, 22, 26, 0.4);
            box-shadow:0 0 0 1px rgba(16, 22, 26, 0.2), 0 2px 4px rgba(16, 22, 26, 0.4), 0 8px 24px rgba(16, 22, 26, 0.4); }
    .bp3-popover.bp3-dark .bp3-popover-content,
    .bp3-dark .bp3-popover .bp3-popover-content{
      background:#30404d;
      color:inherit; }
    .bp3-popover.bp3-dark .bp3-popover-arrow::before,
    .bp3-dark .bp3-popover .bp3-popover-arrow::before{
      -webkit-box-shadow:1px 1px 6px rgba(16, 22, 26, 0.4);
              box-shadow:1px 1px 6px rgba(16, 22, 26, 0.4); }
    .bp3-popover.bp3-dark .bp3-popover-arrow-border,
    .bp3-dark .bp3-popover .bp3-popover-arrow-border{
      fill:#10161a;
      fill-opacity:0.2; }
    .bp3-popover.bp3-dark .bp3-popover-arrow-fill,
    .bp3-dark .bp3-popover .bp3-popover-arrow-fill{
      fill:#30404d; }

.bp3-popover-arrow::before{
  border-radius:2px;
  content:"";
  display:block;
  position:absolute;
  -webkit-transform:rotate(45deg);
          transform:rotate(45deg); }

.bp3-tether-pinned .bp3-popover-arrow{
  display:none; }

.bp3-popover-backdrop{
  background:rgba(255, 255, 255, 0); }

.bp3-transition-container{
  opacity:1;
  display:-webkit-box;
  display:-ms-flexbox;
  display:flex;
  z-index:20; }
  .bp3-transition-container.bp3-popover-enter, .bp3-transition-container.bp3-popover-appear{
    opacity:0; }
  .bp3-transition-container.bp3-popover-enter-active, .bp3-transition-container.bp3-popover-appear-active{
    opacity:1;
    -webkit-transition-delay:0;
            transition-delay:0;
    -webkit-transition-duration:100ms;
            transition-duration:100ms;
    -webkit-transition-property:opacity;
    transition-property:opacity;
    -webkit-transition-timing-function:cubic-bezier(0.4, 1, 0.75, 0.9);
            transition-timing-function:cubic-bezier(0.4, 1, 0.75, 0.9); }
  .bp3-transition-container.bp3-popover-exit{
    opacity:1; }
  .bp3-transition-container.bp3-popover-exit-active{
    opacity:0;
    -webkit-transition-delay:0;
            transition-delay:0;
    -webkit-transition-duration:100ms;
            transition-duration:100ms;
    -webkit-transition-property:opacity;
    transition-property:opacity;
    -webkit-transition-timing-function:cubic-bezier(0.4, 1, 0.75, 0.9);
            transition-timing-function:cubic-bezier(0.4, 1, 0.75, 0.9); }
  .bp3-transition-container:focus{
    outline:none; }
  .bp3-transition-container.bp3-popover-leave .bp3-popover-content{
    pointer-events:none; }
  .bp3-transition-container[data-x-out-of-boundaries]{
    display:none; }

span.bp3-popover-target{
  display:inline-block; }

.bp3-popover-wrapper.bp3-fill{
  width:100%; }

.bp3-portal{
  left:0;
  position:absolute;
  right:0;
  top:0; }
@-webkit-keyframes linear-progress-bar-stripes{
  from{
    background-position:0 0; }
  to{
    background-position:30px 0; } }
@keyframes linear-progress-bar-stripes{
  from{
    background-position:0 0; }
  to{
    background-position:30px 0; } }

.bp3-progress-bar{
  background:rgba(92, 112, 128, 0.2);
  border-radius:40px;
  display:block;
  height:8px;
  overflow:hidden;
  position:relative;
  width:100%; }
  .bp3-progress-bar .bp3-progress-meter{
    background:linear-gradient(-45deg, rgba(255, 255, 255, 0.2) 25%, transparent 25%, transparent 50%, rgba(255, 255, 255, 0.2) 50%, rgba(255, 255, 255, 0.2) 75%, transparent 75%);
    background-color:rgba(92, 112, 128, 0.8);
    background-size:30px 30px;
    border-radius:40px;
    height:100%;
    position:absolute;
    -webkit-transition:width 200ms cubic-bezier(0.4, 1, 0.75, 0.9);
    transition:width 200ms cubic-bezier(0.4, 1, 0.75, 0.9);
    width:100%; }
  .bp3-progress-bar:not(.bp3-no-animation):not(.bp3-no-stripes) .bp3-progress-meter{
    animation:linear-progress-bar-stripes 300ms linear infinite reverse; }
  .bp3-progress-bar.bp3-no-stripes .bp3-progress-meter{
    background-image:none; }

.bp3-dark .bp3-progress-bar{
  background:rgba(16, 22, 26, 0.5); }
  .bp3-dark .bp3-progress-bar .bp3-progress-meter{
    background-color:#8a9ba8; }

.bp3-progress-bar.bp3-intent-primary .bp3-progress-meter{
  background-color:#137cbd; }

.bp3-progress-bar.bp3-intent-success .bp3-progress-meter{
  background-color:#0f9960; }

.bp3-progress-bar.bp3-intent-warning .bp3-progress-meter{
  background-color:#d9822b; }

.bp3-progress-bar.bp3-intent-danger .bp3-progress-meter{
  background-color:#db3737; }
@-webkit-keyframes skeleton-glow{
  from{
    background:rgba(206, 217, 224, 0.2);
    border-color:rgba(206, 217, 224, 0.2); }
  to{
    background:rgba(92, 112, 128, 0.2);
    border-color:rgba(92, 112, 128, 0.2); } }
@keyframes skeleton-glow{
  from{
    background:rgba(206, 217, 224, 0.2);
    border-color:rgba(206, 217, 224, 0.2); }
  to{
    background:rgba(92, 112, 128, 0.2);
    border-color:rgba(92, 112, 128, 0.2); } }
.bp3-skeleton{
  -webkit-animation:1000ms linear infinite alternate skeleton-glow;
          animation:1000ms linear infinite alternate skeleton-glow;
  background:rgba(206, 217, 224, 0.2);
  background-clip:padding-box !important;
  border-color:rgba(206, 217, 224, 0.2) !important;
  border-radius:2px;
  -webkit-box-shadow:none !important;
          box-shadow:none !important;
  color:transparent !important;
  cursor:default;
  pointer-events:none;
  -webkit-user-select:none;
     -moz-user-select:none;
      -ms-user-select:none;
          user-select:none; }
  .bp3-skeleton::before, .bp3-skeleton::after,
  .bp3-skeleton *{
    visibility:hidden !important; }
.bp3-slider{
  height:40px;
  min-width:150px;
  width:100%;
  cursor:default;
  outline:none;
  position:relative;
  -webkit-user-select:none;
     -moz-user-select:none;
      -ms-user-select:none;
          user-select:none; }
  .bp3-slider:hover{
    cursor:pointer; }
  .bp3-slider:active{
    cursor:-webkit-grabbing;
    cursor:grabbing; }
  .bp3-slider.bp3-disabled{
    cursor:not-allowed;
    opacity:0.5; }
  .bp3-slider.bp3-slider-unlabeled{
    height:16px; }

.bp3-slider-track,
.bp3-slider-progress{
  height:6px;
  left:0;
  right:0;
  top:5px;
  position:absolute; }

.bp3-slider-track{
  border-radius:3px;
  overflow:hidden; }

.bp3-slider-progress{
  background:rgba(92, 112, 128, 0.2); }
  .bp3-dark .bp3-slider-progress{
    background:rgba(16, 22, 26, 0.5); }
  .bp3-slider-progress.bp3-intent-primary{
    background-color:#137cbd; }
  .bp3-slider-progress.bp3-intent-success{
    background-color:#0f9960; }
  .bp3-slider-progress.bp3-intent-warning{
    background-color:#d9822b; }
  .bp3-slider-progress.bp3-intent-danger{
    background-color:#db3737; }

.bp3-slider-handle{
  background-color:#f5f8fa;
  background-image:-webkit-gradient(linear, left top, left bottom, from(rgba(255, 255, 255, 0.8)), to(rgba(255, 255, 255, 0)));
  background-image:linear-gradient(to bottom, rgba(255, 255, 255, 0.8), rgba(255, 255, 255, 0));
  -webkit-box-shadow:inset 0 0 0 1px rgba(16, 22, 26, 0.2), inset 0 -1px 0 rgba(16, 22, 26, 0.1);
          box-shadow:inset 0 0 0 1px rgba(16, 22, 26, 0.2), inset 0 -1px 0 rgba(16, 22, 26, 0.1);
  color:#182026;
  border-radius:3px;
  -webkit-box-shadow:0 0 0 1px rgba(16, 22, 26, 0.2), 0 1px 1px rgba(16, 22, 26, 0.2);
          box-shadow:0 0 0 1px rgba(16, 22, 26, 0.2), 0 1px 1px rgba(16, 22, 26, 0.2);
  cursor:pointer;
  height:16px;
  left:0;
  position:absolute;
  top:0;
  width:16px; }
  .bp3-slider-handle:hover{
    background-clip:padding-box;
    background-color:#ebf1f5;
    -webkit-box-shadow:inset 0 0 0 1px rgba(16, 22, 26, 0.2), inset 0 -1px 0 rgba(16, 22, 26, 0.1);
            box-shadow:inset 0 0 0 1px rgba(16, 22, 26, 0.2), inset 0 -1px 0 rgba(16, 22, 26, 0.1); }
  .bp3-slider-handle:active, .bp3-slider-handle.bp3-active{
    background-color:#d8e1e8;
    background-image:none;
    -webkit-box-shadow:inset 0 0 0 1px rgba(16, 22, 26, 0.2), inset 0 1px 2px rgba(16, 22, 26, 0.2);
            box-shadow:inset 0 0 0 1px rgba(16, 22, 26, 0.2), inset 0 1px 2px rgba(16, 22, 26, 0.2); }
  .bp3-slider-handle:disabled, .bp3-slider-handle.bp3-disabled{
    background-color:rgba(206, 217, 224, 0.5);
    background-image:none;
    -webkit-box-shadow:none;
            box-shadow:none;
    color:rgba(92, 112, 128, 0.6);
    cursor:not-allowed;
    outline:none; }
    .bp3-slider-handle:disabled.bp3-active, .bp3-slider-handle:disabled.bp3-active:hover, .bp3-slider-handle.bp3-disabled.bp3-active, .bp3-slider-handle.bp3-disabled.bp3-active:hover{
      background:rgba(206, 217, 224, 0.7); }
  .bp3-slider-handle:focus{
    z-index:1; }
  .bp3-slider-handle:hover{
    background-clip:padding-box;
    background-color:#ebf1f5;
    -webkit-box-shadow:inset 0 0 0 1px rgba(16, 22, 26, 0.2), inset 0 -1px 0 rgba(16, 22, 26, 0.1);
            box-shadow:inset 0 0 0 1px rgba(16, 22, 26, 0.2), inset 0 -1px 0 rgba(16, 22, 26, 0.1);
    -webkit-box-shadow:0 0 0 1px rgba(16, 22, 26, 0.2), 0 1px 1px rgba(16, 22, 26, 0.2);
            box-shadow:0 0 0 1px rgba(16, 22, 26, 0.2), 0 1px 1px rgba(16, 22, 26, 0.2);
    cursor:-webkit-grab;
    cursor:grab;
    z-index:2; }
  .bp3-slider-handle.bp3-active{
    background-color:#d8e1e8;
    background-image:none;
    -webkit-box-shadow:inset 0 0 0 1px rgba(16, 22, 26, 0.2), inset 0 1px 2px rgba(16, 22, 26, 0.2);
            box-shadow:inset 0 0 0 1px rgba(16, 22, 26, 0.2), inset 0 1px 2px rgba(16, 22, 26, 0.2);
    -webkit-box-shadow:0 0 0 1px rgba(16, 22, 26, 0.2), inset 0 1px 1px rgba(16, 22, 26, 0.1);
            box-shadow:0 0 0 1px rgba(16, 22, 26, 0.2), inset 0 1px 1px rgba(16, 22, 26, 0.1);
    cursor:-webkit-grabbing;
    cursor:grabbing; }
  .bp3-disabled .bp3-slider-handle{
    background:#bfccd6;
    -webkit-box-shadow:none;
            box-shadow:none;
    pointer-events:none; }
  .bp3-dark .bp3-slider-handle{
    background-color:#394b59;
    background-image:-webkit-gradient(linear, left top, left bottom, from(rgba(255, 255, 255, 0.05)), to(rgba(255, 255, 255, 0)));
    background-image:linear-gradient(to bottom, rgba(255, 255, 255, 0.05), rgba(255, 255, 255, 0));
    -webkit-box-shadow:0 0 0 1px rgba(16, 22, 26, 0.4);
            box-shadow:0 0 0 1px rgba(16, 22, 26, 0.4);
    color:#f5f8fa; }
    .bp3-dark .bp3-slider-handle:hover, .bp3-dark .bp3-slider-handle:active, .bp3-dark .bp3-slider-handle.bp3-active{
      color:#f5f8fa; }
    .bp3-dark .bp3-slider-handle:hover{
      background-color:#30404d;
      -webkit-box-shadow:0 0 0 1px rgba(16, 22, 26, 0.4);
              box-shadow:0 0 0 1px rgba(16, 22, 26, 0.4); }
    .bp3-dark .bp3-slider-handle:active, .bp3-dark .bp3-slider-handle.bp3-active{
      background-color:#202b33;
      background-image:none;
      -webkit-box-shadow:0 0 0 1px rgba(16, 22, 26, 0.6), inset 0 1px 2px rgba(16, 22, 26, 0.2);
              box-shadow:0 0 0 1px rgba(16, 22, 26, 0.6), inset 0 1px 2px rgba(16, 22, 26, 0.2); }
    .bp3-dark .bp3-slider-handle:disabled, .bp3-dark .bp3-slider-handle.bp3-disabled{
      background-color:rgba(57, 75, 89, 0.5);
      background-image:none;
      -webkit-box-shadow:none;
              box-shadow:none;
      color:rgba(167, 182, 194, 0.6); }
      .bp3-dark .bp3-slider-handle:disabled.bp3-active, .bp3-dark .bp3-slider-handle.bp3-disabled.bp3-active{
        background:rgba(57, 75, 89, 0.7); }
    .bp3-dark .bp3-slider-handle .bp3-button-spinner .bp3-spinner-head{
      background:rgba(16, 22, 26, 0.5);
      stroke:#8a9ba8; }
    .bp3-dark .bp3-slider-handle, .bp3-dark .bp3-slider-handle:hover{
      background-color:#394b59; }
    .bp3-dark .bp3-slider-handle.bp3-active{
      background-color:#293742; }
  .bp3-dark .bp3-disabled .bp3-slider-handle{
    background:#5c7080;
    border-color:#5c7080;
    -webkit-box-shadow:none;
            box-shadow:none; }
  .bp3-slider-handle .bp3-slider-label{
    background:#394b59;
    border-radius:3px;
    -webkit-box-shadow:0 0 0 1px rgba(16, 22, 26, 0.1), 0 2px 4px rgba(16, 22, 26, 0.2), 0 8px 24px rgba(16, 22, 26, 0.2);
            box-shadow:0 0 0 1px rgba(16, 22, 26, 0.1), 0 2px 4px rgba(16, 22, 26, 0.2), 0 8px 24px rgba(16, 22, 26, 0.2);
    color:#f5f8fa;
    margin-left:8px; }
    .bp3-dark .bp3-slider-handle .bp3-slider-label{
      background:#e1e8ed;
      -webkit-box-shadow:0 0 0 1px rgba(16, 22, 26, 0.2), 0 2px 4px rgba(16, 22, 26, 0.4), 0 8px 24px rgba(16, 22, 26, 0.4);
              box-shadow:0 0 0 1px rgba(16, 22, 26, 0.2), 0 2px 4px rgba(16, 22, 26, 0.4), 0 8px 24px rgba(16, 22, 26, 0.4);
      color:#394b59; }
    .bp3-disabled .bp3-slider-handle .bp3-slider-label{
      -webkit-box-shadow:none;
              box-shadow:none; }
  .bp3-slider-handle.bp3-start, .bp3-slider-handle.bp3-end{
    width:8px; }
  .bp3-slider-handle.bp3-start{
    border-bottom-right-radius:0;
    border-top-right-radius:0; }
  .bp3-slider-handle.bp3-end{
    border-bottom-left-radius:0;
    border-top-left-radius:0;
    margin-left:8px; }
    .bp3-slider-handle.bp3-end .bp3-slider-label{
      margin-left:0; }

.bp3-slider-label{
  -webkit-transform:translate(-50%, 20px);
          transform:translate(-50%, 20px);
  display:inline-block;
  font-size:12px;
  line-height:1;
  padding:2px 5px;
  position:absolute;
  vertical-align:top; }

.bp3-slider.bp3-vertical{
  height:150px;
  min-width:40px;
  width:40px; }
  .bp3-slider.bp3-vertical .bp3-slider-track,
  .bp3-slider.bp3-vertical .bp3-slider-progress{
    bottom:0;
    height:auto;
    left:5px;
    top:0;
    width:6px; }
  .bp3-slider.bp3-vertical .bp3-slider-progress{
    top:auto; }
  .bp3-slider.bp3-vertical .bp3-slider-label{
    -webkit-transform:translate(20px, 50%);
            transform:translate(20px, 50%); }
  .bp3-slider.bp3-vertical .bp3-slider-handle{
    top:auto; }
    .bp3-slider.bp3-vertical .bp3-slider-handle .bp3-slider-label{
      margin-left:0;
      margin-top:-8px; }
    .bp3-slider.bp3-vertical .bp3-slider-handle.bp3-end, .bp3-slider.bp3-vertical .bp3-slider-handle.bp3-start{
      height:8px;
      margin-left:0;
      width:16px; }
    .bp3-slider.bp3-vertical .bp3-slider-handle.bp3-start{
      border-bottom-right-radius:3px;
      border-top-left-radius:0; }
      .bp3-slider.bp3-vertical .bp3-slider-handle.bp3-start .bp3-slider-label{
        -webkit-transform:translate(20px);
                transform:translate(20px); }
    .bp3-slider.bp3-vertical .bp3-slider-handle.bp3-end{
      border-bottom-left-radius:0;
      border-bottom-right-radius:0;
      border-top-left-radius:3px;
      margin-bottom:8px; }

@-webkit-keyframes pt-spinner-animation{
  from{
    -webkit-transform:rotate(0deg);
            transform:rotate(0deg); }
  to{
    -webkit-transform:rotate(360deg);
            transform:rotate(360deg); } }

@keyframes pt-spinner-animation{
  from{
    -webkit-transform:rotate(0deg);
            transform:rotate(0deg); }
  to{
    -webkit-transform:rotate(360deg);
            transform:rotate(360deg); } }

.bp3-spinner{
  -webkit-box-align:center;
      -ms-flex-align:center;
          align-items:center;
  display:-webkit-box;
  display:-ms-flexbox;
  display:flex;
  -webkit-box-pack:center;
      -ms-flex-pack:center;
          justify-content:center;
  overflow:visible;
  vertical-align:middle; }
  .bp3-spinner svg{
    display:block; }
  .bp3-spinner path{
    fill-opacity:0; }
  .bp3-spinner .bp3-spinner-head{
    stroke:rgba(92, 112, 128, 0.8);
    stroke-linecap:round;
    -webkit-transform-origin:center;
            transform-origin:center;
    -webkit-transition:stroke-dashoffset 200ms cubic-bezier(0.4, 1, 0.75, 0.9);
    transition:stroke-dashoffset 200ms cubic-bezier(0.4, 1, 0.75, 0.9); }
  .bp3-spinner .bp3-spinner-track{
    stroke:rgba(92, 112, 128, 0.2); }

.bp3-spinner-animation{
  -webkit-animation:pt-spinner-animation 500ms linear infinite;
          animation:pt-spinner-animation 500ms linear infinite; }
  .bp3-no-spin > .bp3-spinner-animation{
    -webkit-animation:none;
            animation:none; }

.bp3-dark .bp3-spinner .bp3-spinner-head{
  stroke:#8a9ba8; }

.bp3-dark .bp3-spinner .bp3-spinner-track{
  stroke:rgba(16, 22, 26, 0.5); }

.bp3-spinner.bp3-intent-primary .bp3-spinner-head{
  stroke:#137cbd; }

.bp3-spinner.bp3-intent-success .bp3-spinner-head{
  stroke:#0f9960; }

.bp3-spinner.bp3-intent-warning .bp3-spinner-head{
  stroke:#d9822b; }

.bp3-spinner.bp3-intent-danger .bp3-spinner-head{
  stroke:#db3737; }
.bp3-tabs.bp3-vertical{
  display:-webkit-box;
  display:-ms-flexbox;
  display:flex; }
  .bp3-tabs.bp3-vertical > .bp3-tab-list{
    -webkit-box-align:start;
        -ms-flex-align:start;
            align-items:flex-start;
    -webkit-box-orient:vertical;
    -webkit-box-direction:normal;
        -ms-flex-direction:column;
            flex-direction:column; }
    .bp3-tabs.bp3-vertical > .bp3-tab-list .bp3-tab{
      border-radius:3px;
      padding:0 10px;
      width:100%; }
      .bp3-tabs.bp3-vertical > .bp3-tab-list .bp3-tab[aria-selected="true"]{
        background-color:rgba(19, 124, 189, 0.2);
        -webkit-box-shadow:none;
                box-shadow:none; }
    .bp3-tabs.bp3-vertical > .bp3-tab-list .bp3-tab-indicator-wrapper .bp3-tab-indicator{
      background-color:rgba(19, 124, 189, 0.2);
      border-radius:3px;
      bottom:0;
      height:auto;
      left:0;
      right:0;
      top:0; }
  .bp3-tabs.bp3-vertical > .bp3-tab-panel{
    margin-top:0;
    padding-left:20px; }

.bp3-tab-list{
  -webkit-box-align:end;
      -ms-flex-align:end;
          align-items:flex-end;
  border:none;
  display:-webkit-box;
  display:-ms-flexbox;
  display:flex;
  -webkit-box-flex:0;
      -ms-flex:0 0 auto;
          flex:0 0 auto;
  list-style:none;
  margin:0;
  padding:0;
  position:relative; }
  .bp3-tab-list > *:not(:last-child){
    margin-right:20px; }

.bp3-tab{
  overflow:hidden;
  text-overflow:ellipsis;
  white-space:nowrap;
  word-wrap:normal;
  color:#182026;
  cursor:pointer;
  -webkit-box-flex:0;
      -ms-flex:0 0 auto;
          flex:0 0 auto;
  font-size:14px;
  line-height:30px;
  max-width:100%;
  position:relative;
  vertical-align:top; }
  .bp3-tab a{
    color:inherit;
    display:block;
    text-decoration:none; }
  .bp3-tab-indicator-wrapper ~ .bp3-tab{
    background-color:transparent !important;
    -webkit-box-shadow:none !important;
            box-shadow:none !important; }
  .bp3-tab[aria-disabled="true"]{
    color:rgba(92, 112, 128, 0.6);
    cursor:not-allowed; }
  .bp3-tab[aria-selected="true"]{
    border-radius:0;
    -webkit-box-shadow:inset 0 -3px 0 #106ba3;
            box-shadow:inset 0 -3px 0 #106ba3; }
  .bp3-tab[aria-selected="true"], .bp3-tab:not([aria-disabled="true"]):hover{
    color:#106ba3; }
  .bp3-tab:focus{
    -moz-outline-radius:0; }
  .bp3-large > .bp3-tab{
    font-size:16px;
    line-height:40px; }

.bp3-tab-panel{
  margin-top:20px; }
  .bp3-tab-panel[aria-hidden="true"]{
    display:none; }

.bp3-tab-indicator-wrapper{
  left:0;
  pointer-events:none;
  position:absolute;
  top:0;
  -webkit-transform:translateX(0), translateY(0);
          transform:translateX(0), translateY(0);
  -webkit-transition:height, width, -webkit-transform;
  transition:height, width, -webkit-transform;
  transition:height, transform, width;
  transition:height, transform, width, -webkit-transform;
  -webkit-transition-duration:200ms;
          transition-duration:200ms;
  -webkit-transition-timing-function:cubic-bezier(0.4, 1, 0.75, 0.9);
          transition-timing-function:cubic-bezier(0.4, 1, 0.75, 0.9); }
  .bp3-tab-indicator-wrapper .bp3-tab-indicator{
    background-color:#106ba3;
    bottom:0;
    height:3px;
    left:0;
    position:absolute;
    right:0; }
  .bp3-tab-indicator-wrapper.bp3-no-animation{
    -webkit-transition:none;
    transition:none; }

.bp3-dark .bp3-tab{
  color:#f5f8fa; }
  .bp3-dark .bp3-tab[aria-disabled="true"]{
    color:rgba(167, 182, 194, 0.6); }
  .bp3-dark .bp3-tab[aria-selected="true"]{
    -webkit-box-shadow:inset 0 -3px 0 #48aff0;
            box-shadow:inset 0 -3px 0 #48aff0; }
  .bp3-dark .bp3-tab[aria-selected="true"], .bp3-dark .bp3-tab:not([aria-disabled="true"]):hover{
    color:#48aff0; }

.bp3-dark .bp3-tab-indicator{
  background-color:#48aff0; }

.bp3-flex-expander{
  -webkit-box-flex:1;
      -ms-flex:1 1;
          flex:1 1; }
.bp3-tag{
  display:-webkit-inline-box;
  display:-ms-inline-flexbox;
  display:inline-flex;
  -webkit-box-orient:horizontal;
  -webkit-box-direction:normal;
      -ms-flex-direction:row;
          flex-direction:row;
  -webkit-box-align:center;
      -ms-flex-align:center;
          align-items:center;
  background-color:#5c7080;
  border:none;
  border-radius:3px;
  -webkit-box-shadow:none;
          box-shadow:none;
  color:#f5f8fa;
  font-size:12px;
  line-height:16px;
  max-width:100%;
  min-height:20px;
  min-width:20px;
  padding:2px 6px;
  position:relative; }
  .bp3-tag.bp3-interactive{
    cursor:pointer; }
    .bp3-tag.bp3-interactive:hover{
      background-color:rgba(92, 112, 128, 0.85); }
    .bp3-tag.bp3-interactive.bp3-active, .bp3-tag.bp3-interactive:active{
      background-color:rgba(92, 112, 128, 0.7); }
  .bp3-tag > *{
    -webkit-box-flex:0;
        -ms-flex-positive:0;
            flex-grow:0;
    -ms-flex-negative:0;
        flex-shrink:0; }
  .bp3-tag > .bp3-fill{
    -webkit-box-flex:1;
        -ms-flex-positive:1;
            flex-grow:1;
    -ms-flex-negative:1;
        flex-shrink:1; }
  .bp3-tag::before,
  .bp3-tag > *{
    margin-right:4px; }
  .bp3-tag:empty::before,
  .bp3-tag > :last-child{
    margin-right:0; }
  .bp3-tag:focus{
    outline:rgba(19, 124, 189, 0.6) auto 2px;
    outline-offset:0;
    -moz-outline-radius:6px; }
  .bp3-tag.bp3-round{
    border-radius:30px;
    padding-left:8px;
    padding-right:8px; }
  .bp3-dark .bp3-tag{
    background-color:#bfccd6;
    color:#182026; }
    .bp3-dark .bp3-tag.bp3-interactive{
      cursor:pointer; }
      .bp3-dark .bp3-tag.bp3-interactive:hover{
        background-color:rgba(191, 204, 214, 0.85); }
      .bp3-dark .bp3-tag.bp3-interactive.bp3-active, .bp3-dark .bp3-tag.bp3-interactive:active{
        background-color:rgba(191, 204, 214, 0.7); }
    .bp3-dark .bp3-tag > .bp3-icon, .bp3-dark .bp3-tag .bp3-icon-standard, .bp3-dark .bp3-tag .bp3-icon-large{
      fill:currentColor; }
  .bp3-tag > .bp3-icon, .bp3-tag .bp3-icon-standard, .bp3-tag .bp3-icon-large{
    fill:#ffffff; }
  .bp3-tag.bp3-large,
  .bp3-large .bp3-tag{
    font-size:14px;
    line-height:20px;
    min-height:30px;
    min-width:30px;
    padding:5px 10px; }
    .bp3-tag.bp3-large::before,
    .bp3-tag.bp3-large > *,
    .bp3-large .bp3-tag::before,
    .bp3-large .bp3-tag > *{
      margin-right:7px; }
    .bp3-tag.bp3-large:empty::before,
    .bp3-tag.bp3-large > :last-child,
    .bp3-large .bp3-tag:empty::before,
    .bp3-large .bp3-tag > :last-child{
      margin-right:0; }
    .bp3-tag.bp3-large.bp3-round,
    .bp3-large .bp3-tag.bp3-round{
      padding-left:12px;
      padding-right:12px; }
  .bp3-tag.bp3-intent-primary{
    background:#137cbd;
    color:#ffffff; }
    .bp3-tag.bp3-intent-primary.bp3-interactive{
      cursor:pointer; }
      .bp3-tag.bp3-intent-primary.bp3-interactive:hover{
        background-color:rgba(19, 124, 189, 0.85); }
      .bp3-tag.bp3-intent-primary.bp3-interactive.bp3-active, .bp3-tag.bp3-intent-primary.bp3-interactive:active{
        background-color:rgba(19, 124, 189, 0.7); }
  .bp3-tag.bp3-intent-success{
    background:#0f9960;
    color:#ffffff; }
    .bp3-tag.bp3-intent-success.bp3-interactive{
      cursor:pointer; }
      .bp3-tag.bp3-intent-success.bp3-interactive:hover{
        background-color:rgba(15, 153, 96, 0.85); }
      .bp3-tag.bp3-intent-success.bp3-interactive.bp3-active, .bp3-tag.bp3-intent-success.bp3-interactive:active{
        background-color:rgba(15, 153, 96, 0.7); }
  .bp3-tag.bp3-intent-warning{
    background:#d9822b;
    color:#ffffff; }
    .bp3-tag.bp3-intent-warning.bp3-interactive{
      cursor:pointer; }
      .bp3-tag.bp3-intent-warning.bp3-interactive:hover{
        background-color:rgba(217, 130, 43, 0.85); }
      .bp3-tag.bp3-intent-warning.bp3-interactive.bp3-active, .bp3-tag.bp3-intent-warning.bp3-interactive:active{
        background-color:rgba(217, 130, 43, 0.7); }
  .bp3-tag.bp3-intent-danger{
    background:#db3737;
    color:#ffffff; }
    .bp3-tag.bp3-intent-danger.bp3-interactive{
      cursor:pointer; }
      .bp3-tag.bp3-intent-danger.bp3-interactive:hover{
        background-color:rgba(219, 55, 55, 0.85); }
      .bp3-tag.bp3-intent-danger.bp3-interactive.bp3-active, .bp3-tag.bp3-intent-danger.bp3-interactive:active{
        background-color:rgba(219, 55, 55, 0.7); }
  .bp3-tag.bp3-fill{
    display:-webkit-box;
    display:-ms-flexbox;
    display:flex;
    width:100%; }
  .bp3-tag.bp3-minimal > .bp3-icon, .bp3-tag.bp3-minimal .bp3-icon-standard, .bp3-tag.bp3-minimal .bp3-icon-large{
    fill:#5c7080; }
  .bp3-tag.bp3-minimal:not([class*="bp3-intent-"]){
    background-color:rgba(138, 155, 168, 0.2);
    color:#182026; }
    .bp3-tag.bp3-minimal:not([class*="bp3-intent-"]).bp3-interactive{
      cursor:pointer; }
      .bp3-tag.bp3-minimal:not([class*="bp3-intent-"]).bp3-interactive:hover{
        background-color:rgba(92, 112, 128, 0.3); }
      .bp3-tag.bp3-minimal:not([class*="bp3-intent-"]).bp3-interactive.bp3-active, .bp3-tag.bp3-minimal:not([class*="bp3-intent-"]).bp3-interactive:active{
        background-color:rgba(92, 112, 128, 0.4); }
    .bp3-dark .bp3-tag.bp3-minimal:not([class*="bp3-intent-"]){
      color:#f5f8fa; }
      .bp3-dark .bp3-tag.bp3-minimal:not([class*="bp3-intent-"]).bp3-interactive{
        cursor:pointer; }
        .bp3-dark .bp3-tag.bp3-minimal:not([class*="bp3-intent-"]).bp3-interactive:hover{
          background-color:rgba(191, 204, 214, 0.3); }
        .bp3-dark .bp3-tag.bp3-minimal:not([class*="bp3-intent-"]).bp3-interactive.bp3-active, .bp3-dark .bp3-tag.bp3-minimal:not([class*="bp3-intent-"]).bp3-interactive:active{
          background-color:rgba(191, 204, 214, 0.4); }
      .bp3-dark .bp3-tag.bp3-minimal:not([class*="bp3-intent-"]) > .bp3-icon, .bp3-dark .bp3-tag.bp3-minimal:not([class*="bp3-intent-"]) .bp3-icon-standard, .bp3-dark .bp3-tag.bp3-minimal:not([class*="bp3-intent-"]) .bp3-icon-large{
        fill:#a7b6c2; }
  .bp3-tag.bp3-minimal.bp3-intent-primary{
    background-color:rgba(19, 124, 189, 0.15);
    color:#106ba3; }
    .bp3-tag.bp3-minimal.bp3-intent-primary.bp3-interactive{
      cursor:pointer; }
      .bp3-tag.bp3-minimal.bp3-intent-primary.bp3-interactive:hover{
        background-color:rgba(19, 124, 189, 0.25); }
      .bp3-tag.bp3-minimal.bp3-intent-primary.bp3-interactive.bp3-active, .bp3-tag.bp3-minimal.bp3-intent-primary.bp3-interactive:active{
        background-color:rgba(19, 124, 189, 0.35); }
    .bp3-tag.bp3-minimal.bp3-intent-primary > .bp3-icon, .bp3-tag.bp3-minimal.bp3-intent-primary .bp3-icon-standard, .bp3-tag.bp3-minimal.bp3-intent-primary .bp3-icon-large{
      fill:#137cbd; }
    .bp3-dark .bp3-tag.bp3-minimal.bp3-intent-primary{
      background-color:rgba(19, 124, 189, 0.25);
      color:#48aff0; }
      .bp3-dark .bp3-tag.bp3-minimal.bp3-intent-primary.bp3-interactive{
        cursor:pointer; }
        .bp3-dark .bp3-tag.bp3-minimal.bp3-intent-primary.bp3-interactive:hover{
          background-color:rgba(19, 124, 189, 0.35); }
        .bp3-dark .bp3-tag.bp3-minimal.bp3-intent-primary.bp3-interactive.bp3-active, .bp3-dark .bp3-tag.bp3-minimal.bp3-intent-primary.bp3-interactive:active{
          background-color:rgba(19, 124, 189, 0.45); }
  .bp3-tag.bp3-minimal.bp3-intent-success{
    background-color:rgba(15, 153, 96, 0.15);
    color:#0d8050; }
    .bp3-tag.bp3-minimal.bp3-intent-success.bp3-interactive{
      cursor:pointer; }
      .bp3-tag.bp3-minimal.bp3-intent-success.bp3-interactive:hover{
        background-color:rgba(15, 153, 96, 0.25); }
      .bp3-tag.bp3-minimal.bp3-intent-success.bp3-interactive.bp3-active, .bp3-tag.bp3-minimal.bp3-intent-success.bp3-interactive:active{
        background-color:rgba(15, 153, 96, 0.35); }
    .bp3-tag.bp3-minimal.bp3-intent-success > .bp3-icon, .bp3-tag.bp3-minimal.bp3-intent-success .bp3-icon-standard, .bp3-tag.bp3-minimal.bp3-intent-success .bp3-icon-large{
      fill:#0f9960; }
    .bp3-dark .bp3-tag.bp3-minimal.bp3-intent-success{
      background-color:rgba(15, 153, 96, 0.25);
      color:#3dcc91; }
      .bp3-dark .bp3-tag.bp3-minimal.bp3-intent-success.bp3-interactive{
        cursor:pointer; }
        .bp3-dark .bp3-tag.bp3-minimal.bp3-intent-success.bp3-interactive:hover{
          background-color:rgba(15, 153, 96, 0.35); }
        .bp3-dark .bp3-tag.bp3-minimal.bp3-intent-success.bp3-interactive.bp3-active, .bp3-dark .bp3-tag.bp3-minimal.bp3-intent-success.bp3-interactive:active{
          background-color:rgba(15, 153, 96, 0.45); }
  .bp3-tag.bp3-minimal.bp3-intent-warning{
    background-color:rgba(217, 130, 43, 0.15);
    color:#bf7326; }
    .bp3-tag.bp3-minimal.bp3-intent-warning.bp3-interactive{
      cursor:pointer; }
      .bp3-tag.bp3-minimal.bp3-intent-warning.bp3-interactive:hover{
        background-color:rgba(217, 130, 43, 0.25); }
      .bp3-tag.bp3-minimal.bp3-intent-warning.bp3-interactive.bp3-active, .bp3-tag.bp3-minimal.bp3-intent-warning.bp3-interactive:active{
        background-color:rgba(217, 130, 43, 0.35); }
    .bp3-tag.bp3-minimal.bp3-intent-warning > .bp3-icon, .bp3-tag.bp3-minimal.bp3-intent-warning .bp3-icon-standard, .bp3-tag.bp3-minimal.bp3-intent-warning .bp3-icon-large{
      fill:#d9822b; }
    .bp3-dark .bp3-tag.bp3-minimal.bp3-intent-warning{
      background-color:rgba(217, 130, 43, 0.25);
      color:#ffb366; }
      .bp3-dark .bp3-tag.bp3-minimal.bp3-intent-warning.bp3-interactive{
        cursor:pointer; }
        .bp3-dark .bp3-tag.bp3-minimal.bp3-intent-warning.bp3-interactive:hover{
          background-color:rgba(217, 130, 43, 0.35); }
        .bp3-dark .bp3-tag.bp3-minimal.bp3-intent-warning.bp3-interactive.bp3-active, .bp3-dark .bp3-tag.bp3-minimal.bp3-intent-warning.bp3-interactive:active{
          background-color:rgba(217, 130, 43, 0.45); }
  .bp3-tag.bp3-minimal.bp3-intent-danger{
    background-color:rgba(219, 55, 55, 0.15);
    color:#c23030; }
    .bp3-tag.bp3-minimal.bp3-intent-danger.bp3-interactive{
      cursor:pointer; }
      .bp3-tag.bp3-minimal.bp3-intent-danger.bp3-interactive:hover{
        background-color:rgba(219, 55, 55, 0.25); }
      .bp3-tag.bp3-minimal.bp3-intent-danger.bp3-interactive.bp3-active, .bp3-tag.bp3-minimal.bp3-intent-danger.bp3-interactive:active{
        background-color:rgba(219, 55, 55, 0.35); }
    .bp3-tag.bp3-minimal.bp3-intent-danger > .bp3-icon, .bp3-tag.bp3-minimal.bp3-intent-danger .bp3-icon-standard, .bp3-tag.bp3-minimal.bp3-intent-danger .bp3-icon-large{
      fill:#db3737; }
    .bp3-dark .bp3-tag.bp3-minimal.bp3-intent-danger{
      background-color:rgba(219, 55, 55, 0.25);
      color:#ff7373; }
      .bp3-dark .bp3-tag.bp3-minimal.bp3-intent-danger.bp3-interactive{
        cursor:pointer; }
        .bp3-dark .bp3-tag.bp3-minimal.bp3-intent-danger.bp3-interactive:hover{
          background-color:rgba(219, 55, 55, 0.35); }
        .bp3-dark .bp3-tag.bp3-minimal.bp3-intent-danger.bp3-interactive.bp3-active, .bp3-dark .bp3-tag.bp3-minimal.bp3-intent-danger.bp3-interactive:active{
          background-color:rgba(219, 55, 55, 0.45); }

.bp3-tag-remove{
  background:none;
  border:none;
  color:inherit;
  cursor:pointer;
  display:-webkit-box;
  display:-ms-flexbox;
  display:flex;
  margin-bottom:-2px;
  margin-right:-6px !important;
  margin-top:-2px;
  opacity:0.5;
  padding:2px;
  padding-left:0; }
  .bp3-tag-remove:hover{
    background:none;
    opacity:0.8;
    text-decoration:none; }
  .bp3-tag-remove:active{
    opacity:1; }
  .bp3-tag-remove:empty::before{
    font-family:"Icons16", sans-serif;
    font-size:16px;
    font-style:normal;
    font-weight:400;
    line-height:1;
    -moz-osx-font-smoothing:grayscale;
    -webkit-font-smoothing:antialiased;
    content:""; }
  .bp3-large .bp3-tag-remove{
    margin-right:-10px !important;
    padding:0 5px 0 0; }
    .bp3-large .bp3-tag-remove:empty::before{
      font-family:"Icons20", sans-serif;
      font-size:20px;
      font-style:normal;
      font-weight:400;
      line-height:1; }
.bp3-tag-input{
  display:-webkit-box;
  display:-ms-flexbox;
  display:flex;
  -webkit-box-orient:horizontal;
  -webkit-box-direction:normal;
      -ms-flex-direction:row;
          flex-direction:row;
  -webkit-box-align:start;
      -ms-flex-align:start;
          align-items:flex-start;
  cursor:text;
  height:auto;
  line-height:inherit;
  min-height:30px;
  padding-left:5px;
  padding-right:0; }
  .bp3-tag-input > *{
    -webkit-box-flex:0;
        -ms-flex-positive:0;
            flex-grow:0;
    -ms-flex-negative:0;
        flex-shrink:0; }
  .bp3-tag-input > .bp3-tag-input-values{
    -webkit-box-flex:1;
        -ms-flex-positive:1;
            flex-grow:1;
    -ms-flex-negative:1;
        flex-shrink:1; }
  .bp3-tag-input .bp3-tag-input-icon{
    color:#5c7080;
    margin-left:2px;
    margin-right:7px;
    margin-top:7px; }
  .bp3-tag-input .bp3-tag-input-values{
    display:-webkit-box;
    display:-ms-flexbox;
    display:flex;
    -webkit-box-orient:horizontal;
    -webkit-box-direction:normal;
        -ms-flex-direction:row;
            flex-direction:row;
    -webkit-box-align:center;
        -ms-flex-align:center;
            align-items:center;
    -ms-flex-item-align:stretch;
        align-self:stretch;
    -ms-flex-wrap:wrap;
        flex-wrap:wrap;
    margin-right:7px;
    margin-top:5px;
    min-width:0; }
    .bp3-tag-input .bp3-tag-input-values > *{
      -webkit-box-flex:0;
          -ms-flex-positive:0;
              flex-grow:0;
      -ms-flex-negative:0;
          flex-shrink:0; }
    .bp3-tag-input .bp3-tag-input-values > .bp3-fill{
      -webkit-box-flex:1;
          -ms-flex-positive:1;
              flex-grow:1;
      -ms-flex-negative:1;
          flex-shrink:1; }
    .bp3-tag-input .bp3-tag-input-values::before,
    .bp3-tag-input .bp3-tag-input-values > *{
      margin-right:5px; }
    .bp3-tag-input .bp3-tag-input-values:empty::before,
    .bp3-tag-input .bp3-tag-input-values > :last-child{
      margin-right:0; }
    .bp3-tag-input .bp3-tag-input-values:first-child .bp3-input-ghost:first-child{
      padding-left:5px; }
    .bp3-tag-input .bp3-tag-input-values > *{
      margin-bottom:5px; }
  .bp3-tag-input .bp3-tag{
    overflow-wrap:break-word; }
    .bp3-tag-input .bp3-tag.bp3-active{
      outline:rgba(19, 124, 189, 0.6) auto 2px;
      outline-offset:0;
      -moz-outline-radius:6px; }
  .bp3-tag-input .bp3-input-ghost{
    -webkit-box-flex:1;
        -ms-flex:1 1 auto;
            flex:1 1 auto;
    line-height:20px;
    width:80px; }
    .bp3-tag-input .bp3-input-ghost:disabled, .bp3-tag-input .bp3-input-ghost.bp3-disabled{
      cursor:not-allowed; }
  .bp3-tag-input .bp3-button,
  .bp3-tag-input .bp3-spinner{
    margin:3px;
    margin-left:0; }
  .bp3-tag-input .bp3-button{
    min-height:24px;
    min-width:24px;
    padding:0 7px; }
  .bp3-tag-input.bp3-large{
    height:auto;
    min-height:40px; }
    .bp3-tag-input.bp3-large::before,
    .bp3-tag-input.bp3-large > *{
      margin-right:10px; }
    .bp3-tag-input.bp3-large:empty::before,
    .bp3-tag-input.bp3-large > :last-child{
      margin-right:0; }
    .bp3-tag-input.bp3-large .bp3-tag-input-icon{
      margin-left:5px;
      margin-top:10px; }
    .bp3-tag-input.bp3-large .bp3-input-ghost{
      line-height:30px; }
    .bp3-tag-input.bp3-large .bp3-button{
      min-height:30px;
      min-width:30px;
      padding:5px 10px;
      margin:5px;
      margin-left:0; }
    .bp3-tag-input.bp3-large .bp3-spinner{
      margin:8px;
      margin-left:0; }
  .bp3-tag-input.bp3-active{
    background-color:#ffffff;
    -webkit-box-shadow:0 0 0 1px #137cbd, 0 0 0 3px rgba(19, 124, 189, 0.3), inset 0 1px 1px rgba(16, 22, 26, 0.2);
            box-shadow:0 0 0 1px #137cbd, 0 0 0 3px rgba(19, 124, 189, 0.3), inset 0 1px 1px rgba(16, 22, 26, 0.2); }
    .bp3-tag-input.bp3-active.bp3-intent-primary{
      -webkit-box-shadow:0 0 0 1px #106ba3, 0 0 0 3px rgba(16, 107, 163, 0.3), inset 0 1px 1px rgba(16, 22, 26, 0.2);
              box-shadow:0 0 0 1px #106ba3, 0 0 0 3px rgba(16, 107, 163, 0.3), inset 0 1px 1px rgba(16, 22, 26, 0.2); }
    .bp3-tag-input.bp3-active.bp3-intent-success{
      -webkit-box-shadow:0 0 0 1px #0d8050, 0 0 0 3px rgba(13, 128, 80, 0.3), inset 0 1px 1px rgba(16, 22, 26, 0.2);
              box-shadow:0 0 0 1px #0d8050, 0 0 0 3px rgba(13, 128, 80, 0.3), inset 0 1px 1px rgba(16, 22, 26, 0.2); }
    .bp3-tag-input.bp3-active.bp3-intent-warning{
      -webkit-box-shadow:0 0 0 1px #bf7326, 0 0 0 3px rgba(191, 115, 38, 0.3), inset 0 1px 1px rgba(16, 22, 26, 0.2);
              box-shadow:0 0 0 1px #bf7326, 0 0 0 3px rgba(191, 115, 38, 0.3), inset 0 1px 1px rgba(16, 22, 26, 0.2); }
    .bp3-tag-input.bp3-active.bp3-intent-danger{
      -webkit-box-shadow:0 0 0 1px #c23030, 0 0 0 3px rgba(194, 48, 48, 0.3), inset 0 1px 1px rgba(16, 22, 26, 0.2);
              box-shadow:0 0 0 1px #c23030, 0 0 0 3px rgba(194, 48, 48, 0.3), inset 0 1px 1px rgba(16, 22, 26, 0.2); }
  .bp3-dark .bp3-tag-input .bp3-tag-input-icon, .bp3-tag-input.bp3-dark .bp3-tag-input-icon{
    color:#a7b6c2; }
  .bp3-dark .bp3-tag-input .bp3-input-ghost, .bp3-tag-input.bp3-dark .bp3-input-ghost{
    color:#f5f8fa; }
    .bp3-dark .bp3-tag-input .bp3-input-ghost::-webkit-input-placeholder, .bp3-tag-input.bp3-dark .bp3-input-ghost::-webkit-input-placeholder{
      color:rgba(167, 182, 194, 0.6); }
    .bp3-dark .bp3-tag-input .bp3-input-ghost::-moz-placeholder, .bp3-tag-input.bp3-dark .bp3-input-ghost::-moz-placeholder{
      color:rgba(167, 182, 194, 0.6); }
    .bp3-dark .bp3-tag-input .bp3-input-ghost:-ms-input-placeholder, .bp3-tag-input.bp3-dark .bp3-input-ghost:-ms-input-placeholder{
      color:rgba(167, 182, 194, 0.6); }
    .bp3-dark .bp3-tag-input .bp3-input-ghost::-ms-input-placeholder, .bp3-tag-input.bp3-dark .bp3-input-ghost::-ms-input-placeholder{
      color:rgba(167, 182, 194, 0.6); }
    .bp3-dark .bp3-tag-input .bp3-input-ghost::placeholder, .bp3-tag-input.bp3-dark .bp3-input-ghost::placeholder{
      color:rgba(167, 182, 194, 0.6); }
  .bp3-dark .bp3-tag-input.bp3-active, .bp3-tag-input.bp3-dark.bp3-active{
    background-color:rgba(16, 22, 26, 0.3);
    -webkit-box-shadow:0 0 0 1px #137cbd, 0 0 0 1px #137cbd, 0 0 0 3px rgba(19, 124, 189, 0.3), inset 0 0 0 1px rgba(16, 22, 26, 0.3), inset 0 1px 1px rgba(16, 22, 26, 0.4);
            box-shadow:0 0 0 1px #137cbd, 0 0 0 1px #137cbd, 0 0 0 3px rgba(19, 124, 189, 0.3), inset 0 0 0 1px rgba(16, 22, 26, 0.3), inset 0 1px 1px rgba(16, 22, 26, 0.4); }
    .bp3-dark .bp3-tag-input.bp3-active.bp3-intent-primary, .bp3-tag-input.bp3-dark.bp3-active.bp3-intent-primary{
      -webkit-box-shadow:0 0 0 1px #106ba3, 0 0 0 3px rgba(16, 107, 163, 0.3), inset 0 0 0 1px rgba(16, 22, 26, 0.3), inset 0 1px 1px rgba(16, 22, 26, 0.4);
              box-shadow:0 0 0 1px #106ba3, 0 0 0 3px rgba(16, 107, 163, 0.3), inset 0 0 0 1px rgba(16, 22, 26, 0.3), inset 0 1px 1px rgba(16, 22, 26, 0.4); }
    .bp3-dark .bp3-tag-input.bp3-active.bp3-intent-success, .bp3-tag-input.bp3-dark.bp3-active.bp3-intent-success{
      -webkit-box-shadow:0 0 0 1px #0d8050, 0 0 0 3px rgba(13, 128, 80, 0.3), inset 0 0 0 1px rgba(16, 22, 26, 0.3), inset 0 1px 1px rgba(16, 22, 26, 0.4);
              box-shadow:0 0 0 1px #0d8050, 0 0 0 3px rgba(13, 128, 80, 0.3), inset 0 0 0 1px rgba(16, 22, 26, 0.3), inset 0 1px 1px rgba(16, 22, 26, 0.4); }
    .bp3-dark .bp3-tag-input.bp3-active.bp3-intent-warning, .bp3-tag-input.bp3-dark.bp3-active.bp3-intent-warning{
      -webkit-box-shadow:0 0 0 1px #bf7326, 0 0 0 3px rgba(191, 115, 38, 0.3), inset 0 0 0 1px rgba(16, 22, 26, 0.3), inset 0 1px 1px rgba(16, 22, 26, 0.4);
              box-shadow:0 0 0 1px #bf7326, 0 0 0 3px rgba(191, 115, 38, 0.3), inset 0 0 0 1px rgba(16, 22, 26, 0.3), inset 0 1px 1px rgba(16, 22, 26, 0.4); }
    .bp3-dark .bp3-tag-input.bp3-active.bp3-intent-danger, .bp3-tag-input.bp3-dark.bp3-active.bp3-intent-danger{
      -webkit-box-shadow:0 0 0 1px #c23030, 0 0 0 3px rgba(194, 48, 48, 0.3), inset 0 0 0 1px rgba(16, 22, 26, 0.3), inset 0 1px 1px rgba(16, 22, 26, 0.4);
              box-shadow:0 0 0 1px #c23030, 0 0 0 3px rgba(194, 48, 48, 0.3), inset 0 0 0 1px rgba(16, 22, 26, 0.3), inset 0 1px 1px rgba(16, 22, 26, 0.4); }

.bp3-input-ghost{
  background:none;
  border:none;
  -webkit-box-shadow:none;
          box-shadow:none;
  padding:0; }
  .bp3-input-ghost::-webkit-input-placeholder{
    color:rgba(92, 112, 128, 0.6);
    opacity:1; }
  .bp3-input-ghost::-moz-placeholder{
    color:rgba(92, 112, 128, 0.6);
    opacity:1; }
  .bp3-input-ghost:-ms-input-placeholder{
    color:rgba(92, 112, 128, 0.6);
    opacity:1; }
  .bp3-input-ghost::-ms-input-placeholder{
    color:rgba(92, 112, 128, 0.6);
    opacity:1; }
  .bp3-input-ghost::placeholder{
    color:rgba(92, 112, 128, 0.6);
    opacity:1; }
  .bp3-input-ghost:focus{
    outline:none !important; }
.bp3-toast{
  -webkit-box-align:start;
      -ms-flex-align:start;
          align-items:flex-start;
  background-color:#ffffff;
  border-radius:3px;
  -webkit-box-shadow:0 0 0 1px rgba(16, 22, 26, 0.1), 0 2px 4px rgba(16, 22, 26, 0.2), 0 8px 24px rgba(16, 22, 26, 0.2);
          box-shadow:0 0 0 1px rgba(16, 22, 26, 0.1), 0 2px 4px rgba(16, 22, 26, 0.2), 0 8px 24px rgba(16, 22, 26, 0.2);
  display:-webkit-box;
  display:-ms-flexbox;
  display:flex;
  margin:20px 0 0;
  max-width:500px;
  min-width:300px;
  pointer-events:all;
  position:relative !important; }
  .bp3-toast.bp3-toast-enter, .bp3-toast.bp3-toast-appear{
    -webkit-transform:translateY(-40px);
            transform:translateY(-40px); }
  .bp3-toast.bp3-toast-enter-active, .bp3-toast.bp3-toast-appear-active{
    -webkit-transform:translateY(0);
            transform:translateY(0);
    -webkit-transition-delay:0;
            transition-delay:0;
    -webkit-transition-duration:300ms;
            transition-duration:300ms;
    -webkit-transition-property:-webkit-transform;
    transition-property:-webkit-transform;
    transition-property:transform;
    transition-property:transform, -webkit-transform;
    -webkit-transition-timing-function:cubic-bezier(0.54, 1.12, 0.38, 1.11);
            transition-timing-function:cubic-bezier(0.54, 1.12, 0.38, 1.11); }
  .bp3-toast.bp3-toast-enter ~ .bp3-toast, .bp3-toast.bp3-toast-appear ~ .bp3-toast{
    -webkit-transform:translateY(-40px);
            transform:translateY(-40px); }
  .bp3-toast.bp3-toast-enter-active ~ .bp3-toast, .bp3-toast.bp3-toast-appear-active ~ .bp3-toast{
    -webkit-transform:translateY(0);
            transform:translateY(0);
    -webkit-transition-delay:0;
            transition-delay:0;
    -webkit-transition-duration:300ms;
            transition-duration:300ms;
    -webkit-transition-property:-webkit-transform;
    transition-property:-webkit-transform;
    transition-property:transform;
    transition-property:transform, -webkit-transform;
    -webkit-transition-timing-function:cubic-bezier(0.54, 1.12, 0.38, 1.11);
            transition-timing-function:cubic-bezier(0.54, 1.12, 0.38, 1.11); }
  .bp3-toast.bp3-toast-exit{
    opacity:1;
    -webkit-filter:blur(0);
            filter:blur(0); }
  .bp3-toast.bp3-toast-exit-active{
    opacity:0;
    -webkit-filter:blur(10px);
            filter:blur(10px);
    -webkit-transition-delay:0;
            transition-delay:0;
    -webkit-transition-duration:300ms;
            transition-duration:300ms;
    -webkit-transition-property:opacity, -webkit-filter;
    transition-property:opacity, -webkit-filter;
    transition-property:opacity, filter;
    transition-property:opacity, filter, -webkit-filter;
    -webkit-transition-timing-function:cubic-bezier(0.4, 1, 0.75, 0.9);
            transition-timing-function:cubic-bezier(0.4, 1, 0.75, 0.9); }
  .bp3-toast.bp3-toast-exit ~ .bp3-toast{
    -webkit-transform:translateY(0);
            transform:translateY(0); }
  .bp3-toast.bp3-toast-exit-active ~ .bp3-toast{
    -webkit-transform:translateY(-40px);
            transform:translateY(-40px);
    -webkit-transition-delay:50ms;
            transition-delay:50ms;
    -webkit-transition-duration:100ms;
            transition-duration:100ms;
    -webkit-transition-property:-webkit-transform;
    transition-property:-webkit-transform;
    transition-property:transform;
    transition-property:transform, -webkit-transform;
    -webkit-transition-timing-function:cubic-bezier(0.4, 1, 0.75, 0.9);
            transition-timing-function:cubic-bezier(0.4, 1, 0.75, 0.9); }
  .bp3-toast .bp3-button-group{
    -webkit-box-flex:0;
        -ms-flex:0 0 auto;
            flex:0 0 auto;
    padding:5px;
    padding-left:0; }
  .bp3-toast > .bp3-icon{
    color:#5c7080;
    margin:12px;
    margin-right:0; }
  .bp3-toast.bp3-dark,
  .bp3-dark .bp3-toast{
    background-color:#394b59;
    -webkit-box-shadow:0 0 0 1px rgba(16, 22, 26, 0.2), 0 2px 4px rgba(16, 22, 26, 0.4), 0 8px 24px rgba(16, 22, 26, 0.4);
            box-shadow:0 0 0 1px rgba(16, 22, 26, 0.2), 0 2px 4px rgba(16, 22, 26, 0.4), 0 8px 24px rgba(16, 22, 26, 0.4); }
    .bp3-toast.bp3-dark > .bp3-icon,
    .bp3-dark .bp3-toast > .bp3-icon{
      color:#a7b6c2; }
  .bp3-toast[class*="bp3-intent-"] a{
    color:rgba(255, 255, 255, 0.7); }
    .bp3-toast[class*="bp3-intent-"] a:hover{
      color:#ffffff; }
  .bp3-toast[class*="bp3-intent-"] > .bp3-icon{
    color:#ffffff; }
  .bp3-toast[class*="bp3-intent-"] .bp3-button, .bp3-toast[class*="bp3-intent-"] .bp3-button::before,
  .bp3-toast[class*="bp3-intent-"] .bp3-button .bp3-icon, .bp3-toast[class*="bp3-intent-"] .bp3-button:active{
    color:rgba(255, 255, 255, 0.7) !important; }
  .bp3-toast[class*="bp3-intent-"] .bp3-button:focus{
    outline-color:rgba(255, 255, 255, 0.5); }
  .bp3-toast[class*="bp3-intent-"] .bp3-button:hover{
    background-color:rgba(255, 255, 255, 0.15) !important;
    color:#ffffff !important; }
  .bp3-toast[class*="bp3-intent-"] .bp3-button:active{
    background-color:rgba(255, 255, 255, 0.3) !important;
    color:#ffffff !important; }
  .bp3-toast[class*="bp3-intent-"] .bp3-button::after{
    background:rgba(255, 255, 255, 0.3) !important; }
  .bp3-toast.bp3-intent-primary{
    background-color:#137cbd;
    color:#ffffff; }
  .bp3-toast.bp3-intent-success{
    background-color:#0f9960;
    color:#ffffff; }
  .bp3-toast.bp3-intent-warning{
    background-color:#d9822b;
    color:#ffffff; }
  .bp3-toast.bp3-intent-danger{
    background-color:#db3737;
    color:#ffffff; }

.bp3-toast-message{
  -webkit-box-flex:1;
      -ms-flex:1 1 auto;
          flex:1 1 auto;
  padding:11px;
  word-break:break-word; }

.bp3-toast-container{
  -webkit-box-align:center;
      -ms-flex-align:center;
          align-items:center;
  display:-webkit-box !important;
  display:-ms-flexbox !important;
  display:flex !important;
  -webkit-box-orient:vertical;
  -webkit-box-direction:normal;
      -ms-flex-direction:column;
          flex-direction:column;
  left:0;
  overflow:hidden;
  padding:0 20px 20px;
  pointer-events:none;
  right:0;
  z-index:40; }
  .bp3-toast-container.bp3-toast-container-in-portal{
    position:fixed; }
  .bp3-toast-container.bp3-toast-container-inline{
    position:absolute; }
  .bp3-toast-container.bp3-toast-container-top{
    top:0; }
  .bp3-toast-container.bp3-toast-container-bottom{
    bottom:0;
    -webkit-box-orient:vertical;
    -webkit-box-direction:reverse;
        -ms-flex-direction:column-reverse;
            flex-direction:column-reverse;
    top:auto; }
  .bp3-toast-container.bp3-toast-container-left{
    -webkit-box-align:start;
        -ms-flex-align:start;
            align-items:flex-start; }
  .bp3-toast-container.bp3-toast-container-right{
    -webkit-box-align:end;
        -ms-flex-align:end;
            align-items:flex-end; }

.bp3-toast-container-bottom .bp3-toast.bp3-toast-enter:not(.bp3-toast-enter-active),
.bp3-toast-container-bottom .bp3-toast.bp3-toast-enter:not(.bp3-toast-enter-active) ~ .bp3-toast, .bp3-toast-container-bottom .bp3-toast.bp3-toast-appear:not(.bp3-toast-appear-active),
.bp3-toast-container-bottom .bp3-toast.bp3-toast-appear:not(.bp3-toast-appear-active) ~ .bp3-toast,
.bp3-toast-container-bottom .bp3-toast.bp3-toast-exit-active ~ .bp3-toast,
.bp3-toast-container-bottom .bp3-toast.bp3-toast-leave-active ~ .bp3-toast{
  -webkit-transform:translateY(60px);
          transform:translateY(60px); }
.bp3-tooltip{
  -webkit-box-shadow:0 0 0 1px rgba(16, 22, 26, 0.1), 0 2px 4px rgba(16, 22, 26, 0.2), 0 8px 24px rgba(16, 22, 26, 0.2);
          box-shadow:0 0 0 1px rgba(16, 22, 26, 0.1), 0 2px 4px rgba(16, 22, 26, 0.2), 0 8px 24px rgba(16, 22, 26, 0.2);
  -webkit-transform:scale(1);
          transform:scale(1); }
  .bp3-tooltip .bp3-popover-arrow{
    height:22px;
    position:absolute;
    width:22px; }
    .bp3-tooltip .bp3-popover-arrow::before{
      height:14px;
      margin:4px;
      width:14px; }
  .bp3-tether-element-attached-bottom.bp3-tether-target-attached-top > .bp3-tooltip{
    margin-bottom:11px;
    margin-top:-11px; }
    .bp3-tether-element-attached-bottom.bp3-tether-target-attached-top > .bp3-tooltip > .bp3-popover-arrow{
      bottom:-8px; }
      .bp3-tether-element-attached-bottom.bp3-tether-target-attached-top > .bp3-tooltip > .bp3-popover-arrow svg{
        -webkit-transform:rotate(-90deg);
                transform:rotate(-90deg); }
  .bp3-tether-element-attached-left.bp3-tether-target-attached-right > .bp3-tooltip{
    margin-left:11px; }
    .bp3-tether-element-attached-left.bp3-tether-target-attached-right > .bp3-tooltip > .bp3-popover-arrow{
      left:-8px; }
      .bp3-tether-element-attached-left.bp3-tether-target-attached-right > .bp3-tooltip > .bp3-popover-arrow svg{
        -webkit-transform:rotate(0);
                transform:rotate(0); }
  .bp3-tether-element-attached-top.bp3-tether-target-attached-bottom > .bp3-tooltip{
    margin-top:11px; }
    .bp3-tether-element-attached-top.bp3-tether-target-attached-bottom > .bp3-tooltip > .bp3-popover-arrow{
      top:-8px; }
      .bp3-tether-element-attached-top.bp3-tether-target-attached-bottom > .bp3-tooltip > .bp3-popover-arrow svg{
        -webkit-transform:rotate(90deg);
                transform:rotate(90deg); }
  .bp3-tether-element-attached-right.bp3-tether-target-attached-left > .bp3-tooltip{
    margin-left:-11px;
    margin-right:11px; }
    .bp3-tether-element-attached-right.bp3-tether-target-attached-left > .bp3-tooltip > .bp3-popover-arrow{
      right:-8px; }
      .bp3-tether-element-attached-right.bp3-tether-target-attached-left > .bp3-tooltip > .bp3-popover-arrow svg{
        -webkit-transform:rotate(180deg);
                transform:rotate(180deg); }
  .bp3-tether-element-attached-middle > .bp3-tooltip > .bp3-popover-arrow{
    top:50%;
    -webkit-transform:translateY(-50%);
            transform:translateY(-50%); }
  .bp3-tether-element-attached-center > .bp3-tooltip > .bp3-popover-arrow{
    right:50%;
    -webkit-transform:translateX(50%);
            transform:translateX(50%); }
  .bp3-tether-element-attached-top.bp3-tether-target-attached-top > .bp3-tooltip > .bp3-popover-arrow{
    top:-0.22183px; }
  .bp3-tether-element-attached-right.bp3-tether-target-attached-right > .bp3-tooltip > .bp3-popover-arrow{
    right:-0.22183px; }
  .bp3-tether-element-attached-left.bp3-tether-target-attached-left > .bp3-tooltip > .bp3-popover-arrow{
    left:-0.22183px; }
  .bp3-tether-element-attached-bottom.bp3-tether-target-attached-bottom > .bp3-tooltip > .bp3-popover-arrow{
    bottom:-0.22183px; }
  .bp3-tether-element-attached-top.bp3-tether-element-attached-left > .bp3-tooltip{
    -webkit-transform-origin:top left;
            transform-origin:top left; }
  .bp3-tether-element-attached-top.bp3-tether-element-attached-center > .bp3-tooltip{
    -webkit-transform-origin:top center;
            transform-origin:top center; }
  .bp3-tether-element-attached-top.bp3-tether-element-attached-right > .bp3-tooltip{
    -webkit-transform-origin:top right;
            transform-origin:top right; }
  .bp3-tether-element-attached-middle.bp3-tether-element-attached-left > .bp3-tooltip{
    -webkit-transform-origin:center left;
            transform-origin:center left; }
  .bp3-tether-element-attached-middle.bp3-tether-element-attached-center > .bp3-tooltip{
    -webkit-transform-origin:center center;
            transform-origin:center center; }
  .bp3-tether-element-attached-middle.bp3-tether-element-attached-right > .bp3-tooltip{
    -webkit-transform-origin:center right;
            transform-origin:center right; }
  .bp3-tether-element-attached-bottom.bp3-tether-element-attached-left > .bp3-tooltip{
    -webkit-transform-origin:bottom left;
            transform-origin:bottom left; }
  .bp3-tether-element-attached-bottom.bp3-tether-element-attached-center > .bp3-tooltip{
    -webkit-transform-origin:bottom center;
            transform-origin:bottom center; }
  .bp3-tether-element-attached-bottom.bp3-tether-element-attached-right > .bp3-tooltip{
    -webkit-transform-origin:bottom right;
            transform-origin:bottom right; }
  .bp3-tooltip .bp3-popover-content{
    background:#394b59;
    color:#f5f8fa; }
  .bp3-tooltip .bp3-popover-arrow::before{
    -webkit-box-shadow:1px 1px 6px rgba(16, 22, 26, 0.2);
            box-shadow:1px 1px 6px rgba(16, 22, 26, 0.2); }
  .bp3-tooltip .bp3-popover-arrow-border{
    fill:#10161a;
    fill-opacity:0.1; }
  .bp3-tooltip .bp3-popover-arrow-fill{
    fill:#394b59; }
  .bp3-popover-enter > .bp3-tooltip, .bp3-popover-appear > .bp3-tooltip{
    -webkit-transform:scale(0.8);
            transform:scale(0.8); }
  .bp3-popover-enter-active > .bp3-tooltip, .bp3-popover-appear-active > .bp3-tooltip{
    -webkit-transform:scale(1);
            transform:scale(1);
    -webkit-transition-delay:0;
            transition-delay:0;
    -webkit-transition-duration:100ms;
            transition-duration:100ms;
    -webkit-transition-property:-webkit-transform;
    transition-property:-webkit-transform;
    transition-property:transform;
    transition-property:transform, -webkit-transform;
    -webkit-transition-timing-function:cubic-bezier(0.4, 1, 0.75, 0.9);
            transition-timing-function:cubic-bezier(0.4, 1, 0.75, 0.9); }
  .bp3-popover-exit > .bp3-tooltip{
    -webkit-transform:scale(1);
            transform:scale(1); }
  .bp3-popover-exit-active > .bp3-tooltip{
    -webkit-transform:scale(0.8);
            transform:scale(0.8);
    -webkit-transition-delay:0;
            transition-delay:0;
    -webkit-transition-duration:100ms;
            transition-duration:100ms;
    -webkit-transition-property:-webkit-transform;
    transition-property:-webkit-transform;
    transition-property:transform;
    transition-property:transform, -webkit-transform;
    -webkit-transition-timing-function:cubic-bezier(0.4, 1, 0.75, 0.9);
            transition-timing-function:cubic-bezier(0.4, 1, 0.75, 0.9); }
  .bp3-tooltip .bp3-popover-content{
    padding:10px 12px; }
  .bp3-tooltip.bp3-dark,
  .bp3-dark .bp3-tooltip{
    -webkit-box-shadow:0 0 0 1px rgba(16, 22, 26, 0.2), 0 2px 4px rgba(16, 22, 26, 0.4), 0 8px 24px rgba(16, 22, 26, 0.4);
            box-shadow:0 0 0 1px rgba(16, 22, 26, 0.2), 0 2px 4px rgba(16, 22, 26, 0.4), 0 8px 24px rgba(16, 22, 26, 0.4); }
    .bp3-tooltip.bp3-dark .bp3-popover-content,
    .bp3-dark .bp3-tooltip .bp3-popover-content{
      background:#e1e8ed;
      color:#394b59; }
    .bp3-tooltip.bp3-dark .bp3-popover-arrow::before,
    .bp3-dark .bp3-tooltip .bp3-popover-arrow::before{
      -webkit-box-shadow:1px 1px 6px rgba(16, 22, 26, 0.4);
              box-shadow:1px 1px 6px rgba(16, 22, 26, 0.4); }
    .bp3-tooltip.bp3-dark .bp3-popover-arrow-border,
    .bp3-dark .bp3-tooltip .bp3-popover-arrow-border{
      fill:#10161a;
      fill-opacity:0.2; }
    .bp3-tooltip.bp3-dark .bp3-popover-arrow-fill,
    .bp3-dark .bp3-tooltip .bp3-popover-arrow-fill{
      fill:#e1e8ed; }
  .bp3-tooltip.bp3-intent-primary .bp3-popover-content{
    background:#137cbd;
    color:#ffffff; }
  .bp3-tooltip.bp3-intent-primary .bp3-popover-arrow-fill{
    fill:#137cbd; }
  .bp3-tooltip.bp3-intent-success .bp3-popover-content{
    background:#0f9960;
    color:#ffffff; }
  .bp3-tooltip.bp3-intent-success .bp3-popover-arrow-fill{
    fill:#0f9960; }
  .bp3-tooltip.bp3-intent-warning .bp3-popover-content{
    background:#d9822b;
    color:#ffffff; }
  .bp3-tooltip.bp3-intent-warning .bp3-popover-arrow-fill{
    fill:#d9822b; }
  .bp3-tooltip.bp3-intent-danger .bp3-popover-content{
    background:#db3737;
    color:#ffffff; }
  .bp3-tooltip.bp3-intent-danger .bp3-popover-arrow-fill{
    fill:#db3737; }

.bp3-tooltip-indicator{
  border-bottom:dotted 1px;
  cursor:help; }
.bp3-tree .bp3-icon, .bp3-tree .bp3-icon-standard, .bp3-tree .bp3-icon-large{
  color:#5c7080; }
  .bp3-tree .bp3-icon.bp3-intent-primary, .bp3-tree .bp3-icon-standard.bp3-intent-primary, .bp3-tree .bp3-icon-large.bp3-intent-primary{
    color:#137cbd; }
  .bp3-tree .bp3-icon.bp3-intent-success, .bp3-tree .bp3-icon-standard.bp3-intent-success, .bp3-tree .bp3-icon-large.bp3-intent-success{
    color:#0f9960; }
  .bp3-tree .bp3-icon.bp3-intent-warning, .bp3-tree .bp3-icon-standard.bp3-intent-warning, .bp3-tree .bp3-icon-large.bp3-intent-warning{
    color:#d9822b; }
  .bp3-tree .bp3-icon.bp3-intent-danger, .bp3-tree .bp3-icon-standard.bp3-intent-danger, .bp3-tree .bp3-icon-large.bp3-intent-danger{
    color:#db3737; }

.bp3-tree-node-list{
  list-style:none;
  margin:0;
  padding-left:0; }

.bp3-tree-root{
  background-color:transparent;
  cursor:default;
  padding-left:0;
  position:relative; }

.bp3-tree-node-content-0{
  padding-left:0px; }

.bp3-tree-node-content-1{
  padding-left:23px; }

.bp3-tree-node-content-2{
  padding-left:46px; }

.bp3-tree-node-content-3{
  padding-left:69px; }

.bp3-tree-node-content-4{
  padding-left:92px; }

.bp3-tree-node-content-5{
  padding-left:115px; }

.bp3-tree-node-content-6{
  padding-left:138px; }

.bp3-tree-node-content-7{
  padding-left:161px; }

.bp3-tree-node-content-8{
  padding-left:184px; }

.bp3-tree-node-content-9{
  padding-left:207px; }

.bp3-tree-node-content-10{
  padding-left:230px; }

.bp3-tree-node-content-11{
  padding-left:253px; }

.bp3-tree-node-content-12{
  padding-left:276px; }

.bp3-tree-node-content-13{
  padding-left:299px; }

.bp3-tree-node-content-14{
  padding-left:322px; }

.bp3-tree-node-content-15{
  padding-left:345px; }

.bp3-tree-node-content-16{
  padding-left:368px; }

.bp3-tree-node-content-17{
  padding-left:391px; }

.bp3-tree-node-content-18{
  padding-left:414px; }

.bp3-tree-node-content-19{
  padding-left:437px; }

.bp3-tree-node-content-20{
  padding-left:460px; }

.bp3-tree-node-content{
  -webkit-box-align:center;
      -ms-flex-align:center;
          align-items:center;
  display:-webkit-box;
  display:-ms-flexbox;
  display:flex;
  height:30px;
  padding-right:5px;
  width:100%; }
  .bp3-tree-node-content:hover{
    background-color:rgba(191, 204, 214, 0.4); }

.bp3-tree-node-caret,
.bp3-tree-node-caret-none{
  min-width:30px; }

.bp3-tree-node-caret{
  color:#5c7080;
  cursor:pointer;
  padding:7px;
  -webkit-transform:rotate(0deg);
          transform:rotate(0deg);
  -webkit-transition:-webkit-transform 200ms cubic-bezier(0.4, 1, 0.75, 0.9);
  transition:-webkit-transform 200ms cubic-bezier(0.4, 1, 0.75, 0.9);
  transition:transform 200ms cubic-bezier(0.4, 1, 0.75, 0.9);
  transition:transform 200ms cubic-bezier(0.4, 1, 0.75, 0.9), -webkit-transform 200ms cubic-bezier(0.4, 1, 0.75, 0.9); }
  .bp3-tree-node-caret:hover{
    color:#182026; }
  .bp3-dark .bp3-tree-node-caret{
    color:#a7b6c2; }
    .bp3-dark .bp3-tree-node-caret:hover{
      color:#f5f8fa; }
  .bp3-tree-node-caret.bp3-tree-node-caret-open{
    -webkit-transform:rotate(90deg);
            transform:rotate(90deg); }
  .bp3-tree-node-caret.bp3-icon-standard::before{
    content:""; }

.bp3-tree-node-icon{
  margin-right:7px;
  position:relative; }

.bp3-tree-node-label{
  overflow:hidden;
  text-overflow:ellipsis;
  white-space:nowrap;
  word-wrap:normal;
  -webkit-box-flex:1;
      -ms-flex:1 1 auto;
          flex:1 1 auto;
  position:relative;
  -webkit-user-select:none;
     -moz-user-select:none;
      -ms-user-select:none;
          user-select:none; }
  .bp3-tree-node-label span{
    display:inline; }

.bp3-tree-node-secondary-label{
  padding:0 5px;
  -webkit-user-select:none;
     -moz-user-select:none;
      -ms-user-select:none;
          user-select:none; }
  .bp3-tree-node-secondary-label .bp3-popover-wrapper,
  .bp3-tree-node-secondary-label .bp3-popover-target{
    -webkit-box-align:center;
        -ms-flex-align:center;
            align-items:center;
    display:-webkit-box;
    display:-ms-flexbox;
    display:flex; }

.bp3-tree-node.bp3-disabled .bp3-tree-node-content{
  background-color:inherit;
  color:rgba(92, 112, 128, 0.6);
  cursor:not-allowed; }

.bp3-tree-node.bp3-disabled .bp3-tree-node-caret,
.bp3-tree-node.bp3-disabled .bp3-tree-node-icon{
  color:rgba(92, 112, 128, 0.6);
  cursor:not-allowed; }

.bp3-tree-node.bp3-tree-node-selected > .bp3-tree-node-content{
  background-color:#137cbd; }
  .bp3-tree-node.bp3-tree-node-selected > .bp3-tree-node-content,
  .bp3-tree-node.bp3-tree-node-selected > .bp3-tree-node-content .bp3-icon, .bp3-tree-node.bp3-tree-node-selected > .bp3-tree-node-content .bp3-icon-standard, .bp3-tree-node.bp3-tree-node-selected > .bp3-tree-node-content .bp3-icon-large{
    color:#ffffff; }
  .bp3-tree-node.bp3-tree-node-selected > .bp3-tree-node-content .bp3-tree-node-caret::before{
    color:rgba(255, 255, 255, 0.7); }
  .bp3-tree-node.bp3-tree-node-selected > .bp3-tree-node-content .bp3-tree-node-caret:hover::before{
    color:#ffffff; }

.bp3-dark .bp3-tree-node-content:hover{
  background-color:rgba(92, 112, 128, 0.3); }

.bp3-dark .bp3-tree .bp3-icon, .bp3-dark .bp3-tree .bp3-icon-standard, .bp3-dark .bp3-tree .bp3-icon-large{
  color:#a7b6c2; }
  .bp3-dark .bp3-tree .bp3-icon.bp3-intent-primary, .bp3-dark .bp3-tree .bp3-icon-standard.bp3-intent-primary, .bp3-dark .bp3-tree .bp3-icon-large.bp3-intent-primary{
    color:#137cbd; }
  .bp3-dark .bp3-tree .bp3-icon.bp3-intent-success, .bp3-dark .bp3-tree .bp3-icon-standard.bp3-intent-success, .bp3-dark .bp3-tree .bp3-icon-large.bp3-intent-success{
    color:#0f9960; }
  .bp3-dark .bp3-tree .bp3-icon.bp3-intent-warning, .bp3-dark .bp3-tree .bp3-icon-standard.bp3-intent-warning, .bp3-dark .bp3-tree .bp3-icon-large.bp3-intent-warning{
    color:#d9822b; }
  .bp3-dark .bp3-tree .bp3-icon.bp3-intent-danger, .bp3-dark .bp3-tree .bp3-icon-standard.bp3-intent-danger, .bp3-dark .bp3-tree .bp3-icon-large.bp3-intent-danger{
    color:#db3737; }

.bp3-dark .bp3-tree-node.bp3-tree-node-selected > .bp3-tree-node-content{
  background-color:#137cbd; }
.bp3-omnibar{
  -webkit-filter:blur(0);
          filter:blur(0);
  opacity:1;
  background-color:#ffffff;
  border-radius:3px;
  -webkit-box-shadow:0 0 0 1px rgba(16, 22, 26, 0.1), 0 4px 8px rgba(16, 22, 26, 0.2), 0 18px 46px 6px rgba(16, 22, 26, 0.2);
          box-shadow:0 0 0 1px rgba(16, 22, 26, 0.1), 0 4px 8px rgba(16, 22, 26, 0.2), 0 18px 46px 6px rgba(16, 22, 26, 0.2);
  left:calc(50% - 250px);
  top:20vh;
  width:500px;
  z-index:21; }
  .bp3-omnibar.bp3-overlay-enter, .bp3-omnibar.bp3-overlay-appear{
    -webkit-filter:blur(20px);
            filter:blur(20px);
    opacity:0.2; }
  .bp3-omnibar.bp3-overlay-enter-active, .bp3-omnibar.bp3-overlay-appear-active{
    -webkit-filter:blur(0);
            filter:blur(0);
    opacity:1;
    -webkit-transition-delay:0;
            transition-delay:0;
    -webkit-transition-duration:200ms;
            transition-duration:200ms;
    -webkit-transition-property:opacity, -webkit-filter;
    transition-property:opacity, -webkit-filter;
    transition-property:filter, opacity;
    transition-property:filter, opacity, -webkit-filter;
    -webkit-transition-timing-function:cubic-bezier(0.4, 1, 0.75, 0.9);
            transition-timing-function:cubic-bezier(0.4, 1, 0.75, 0.9); }
  .bp3-omnibar.bp3-overlay-exit{
    -webkit-filter:blur(0);
            filter:blur(0);
    opacity:1; }
  .bp3-omnibar.bp3-overlay-exit-active{
    -webkit-filter:blur(20px);
            filter:blur(20px);
    opacity:0.2;
    -webkit-transition-delay:0;
            transition-delay:0;
    -webkit-transition-duration:200ms;
            transition-duration:200ms;
    -webkit-transition-property:opacity, -webkit-filter;
    transition-property:opacity, -webkit-filter;
    transition-property:filter, opacity;
    transition-property:filter, opacity, -webkit-filter;
    -webkit-transition-timing-function:cubic-bezier(0.4, 1, 0.75, 0.9);
            transition-timing-function:cubic-bezier(0.4, 1, 0.75, 0.9); }
  .bp3-omnibar .bp3-input{
    background-color:transparent;
    border-radius:0; }
    .bp3-omnibar .bp3-input, .bp3-omnibar .bp3-input:focus{
      -webkit-box-shadow:none;
              box-shadow:none; }
  .bp3-omnibar .bp3-menu{
    background-color:transparent;
    border-radius:0;
    -webkit-box-shadow:inset 0 1px 0 rgba(16, 22, 26, 0.15);
            box-shadow:inset 0 1px 0 rgba(16, 22, 26, 0.15);
    max-height:calc(60vh - 40px);
    overflow:auto; }
    .bp3-omnibar .bp3-menu:empty{
      display:none; }
  .bp3-dark .bp3-omnibar, .bp3-omnibar.bp3-dark{
    background-color:#30404d;
    -webkit-box-shadow:0 0 0 1px rgba(16, 22, 26, 0.2), 0 4px 8px rgba(16, 22, 26, 0.4), 0 18px 46px 6px rgba(16, 22, 26, 0.4);
            box-shadow:0 0 0 1px rgba(16, 22, 26, 0.2), 0 4px 8px rgba(16, 22, 26, 0.4), 0 18px 46px 6px rgba(16, 22, 26, 0.4); }

.bp3-omnibar-overlay .bp3-overlay-backdrop{
  background-color:rgba(16, 22, 26, 0.2); }

.bp3-select-popover .bp3-popover-content{
  padding:5px; }

.bp3-select-popover .bp3-input-group{
  margin-bottom:0; }

.bp3-select-popover .bp3-menu{
  max-height:300px;
  max-width:400px;
  overflow:auto;
  padding:0; }
  .bp3-select-popover .bp3-menu:not(:first-child){
    padding-top:5px; }

.bp3-multi-select{
  min-width:150px; }

.bp3-multi-select-popover .bp3-menu{
  max-height:300px;
  max-width:400px;
  overflow:auto; }

.bp3-select-popover .bp3-popover-content{
  padding:5px; }

.bp3-select-popover .bp3-input-group{
  margin-bottom:0; }

.bp3-select-popover .bp3-menu{
  max-height:300px;
  max-width:400px;
  overflow:auto;
  padding:0; }
  .bp3-select-popover .bp3-menu:not(:first-child){
    padding-top:5px; }
/*-----------------------------------------------------------------------------
| Copyright (c) Jupyter Development Team.
| Distributed under the terms of the Modified BSD License.
|----------------------------------------------------------------------------*/

/* This file was auto-generated by ensureUiComponents() in @jupyterlab/buildutils */

/**
 * (DEPRECATED) Support for consuming icons as CSS background images
 */

/* Icons urls */

:root {
  --jp-icon-add: url(data:image/svg+xml;base64,PHN2ZyB4bWxucz0iaHR0cDovL3d3dy53My5vcmcvMjAwMC9zdmciIHdpZHRoPSIxNiIgdmlld0JveD0iMCAwIDI0IDI0Ij4KICA8ZyBjbGFzcz0ianAtaWNvbjMiIGZpbGw9IiM2MTYxNjEiPgogICAgPHBhdGggZD0iTTE5IDEzaC02djZoLTJ2LTZINXYtMmg2VjVoMnY2aDZ2MnoiLz4KICA8L2c+Cjwvc3ZnPgo=);
  --jp-icon-bug: url(data:image/svg+xml;base64,PHN2ZyB2aWV3Qm94PSIwIDAgMjQgMjQiIHdpZHRoPSIxNiIgeG1sbnM9Imh0dHA6Ly93d3cudzMub3JnLzIwMDAvc3ZnIj4KICA8ZyBjbGFzcz0ianAtaWNvbjMganAtaWNvbi1zZWxlY3RhYmxlIiBmaWxsPSIjNjE2MTYxIj4KICAgIDxwYXRoIGQ9Ik0yMCA4aC0yLjgxYy0uNDUtLjc4LTEuMDctMS40NS0xLjgyLTEuOTZMMTcgNC40MSAxNS41OSAzbC0yLjE3IDIuMTdDMTIuOTYgNS4wNiAxMi40OSA1IDEyIDVjLS40OSAwLS45Ni4wNi0xLjQxLjE3TDguNDEgMyA3IDQuNDFsMS42MiAxLjYzQzcuODggNi41NSA3LjI2IDcuMjIgNi44MSA4SDR2MmgyLjA5Yy0uMDUuMzMtLjA5LjY2LS4wOSAxdjFINHYyaDJ2MWMwIC4zNC4wNC42Ny4wOSAxSDR2MmgyLjgxYzEuMDQgMS43OSAyLjk3IDMgNS4xOSAzczQuMTUtMS4yMSA1LjE5LTNIMjB2LTJoLTIuMDljLjA1LS4zMy4wOS0uNjYuMDktMXYtMWgydi0yaC0ydi0xYzAtLjM0LS4wNC0uNjctLjA5LTFIMjBWOHptLTYgOGgtNHYtMmg0djJ6bTAtNGgtNHYtMmg0djJ6Ii8+CiAgPC9nPgo8L3N2Zz4K);
  --jp-icon-build: url(data:image/svg+xml;base64,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);
  --jp-icon-caret-down-empty-thin: url(data:image/svg+xml;base64,PHN2ZyB4bWxucz0iaHR0cDovL3d3dy53My5vcmcvMjAwMC9zdmciIHdpZHRoPSIxNiIgdmlld0JveD0iMCAwIDIwIDIwIj4KCTxnIGNsYXNzPSJqcC1pY29uMyIgZmlsbD0iIzYxNjE2MSIgc2hhcGUtcmVuZGVyaW5nPSJnZW9tZXRyaWNQcmVjaXNpb24iPgoJCTxwb2x5Z29uIGNsYXNzPSJzdDEiIHBvaW50cz0iOS45LDEzLjYgMy42LDcuNCA0LjQsNi42IDkuOSwxMi4yIDE1LjQsNi43IDE2LjEsNy40ICIvPgoJPC9nPgo8L3N2Zz4K);
  --jp-icon-caret-down-empty: url(data:image/svg+xml;base64,PHN2ZyB4bWxucz0iaHR0cDovL3d3dy53My5vcmcvMjAwMC9zdmciIHdpZHRoPSIxNiIgdmlld0JveD0iMCAwIDE4IDE4Ij4KICA8ZyBjbGFzcz0ianAtaWNvbjMiIGZpbGw9IiM2MTYxNjEiIHNoYXBlLXJlbmRlcmluZz0iZ2VvbWV0cmljUHJlY2lzaW9uIj4KICAgIDxwYXRoIGQ9Ik01LjIsNS45TDksOS43bDMuOC0zLjhsMS4yLDEuMmwtNC45LDVsLTQuOS01TDUuMiw1Ljl6Ii8+CiAgPC9nPgo8L3N2Zz4K);
  --jp-icon-caret-down: url(data:image/svg+xml;base64,PHN2ZyB4bWxucz0iaHR0cDovL3d3dy53My5vcmcvMjAwMC9zdmciIHdpZHRoPSIxNiIgdmlld0JveD0iMCAwIDE4IDE4Ij4KICA8ZyBjbGFzcz0ianAtaWNvbjMiIGZpbGw9IiM2MTYxNjEiIHNoYXBlLXJlbmRlcmluZz0iZ2VvbWV0cmljUHJlY2lzaW9uIj4KICAgIDxwYXRoIGQ9Ik01LjIsNy41TDksMTEuMmwzLjgtMy44SDUuMnoiLz4KICA8L2c+Cjwvc3ZnPgo=);
  --jp-icon-caret-left: url(data:image/svg+xml;base64,PHN2ZyB4bWxucz0iaHR0cDovL3d3dy53My5vcmcvMjAwMC9zdmciIHdpZHRoPSIxNiIgdmlld0JveD0iMCAwIDE4IDE4Ij4KCTxnIGNsYXNzPSJqcC1pY29uMyIgZmlsbD0iIzYxNjE2MSIgc2hhcGUtcmVuZGVyaW5nPSJnZW9tZXRyaWNQcmVjaXNpb24iPgoJCTxwYXRoIGQ9Ik0xMC44LDEyLjhMNy4xLDlsMy44LTMuOGwwLDcuNkgxMC44eiIvPgogIDwvZz4KPC9zdmc+Cg==);
  --jp-icon-caret-right: url(data:image/svg+xml;base64,PHN2ZyB4bWxucz0iaHR0cDovL3d3dy53My5vcmcvMjAwMC9zdmciIHdpZHRoPSIxNiIgdmlld0JveD0iMCAwIDE4IDE4Ij4KICA8ZyBjbGFzcz0ianAtaWNvbjMiIGZpbGw9IiM2MTYxNjEiIHNoYXBlLXJlbmRlcmluZz0iZ2VvbWV0cmljUHJlY2lzaW9uIj4KICAgIDxwYXRoIGQ9Ik03LjIsNS4yTDEwLjksOWwtMy44LDMuOFY1LjJINy4yeiIvPgogIDwvZz4KPC9zdmc+Cg==);
  --jp-icon-caret-up-empty-thin: url(data:image/svg+xml;base64,PHN2ZyB4bWxucz0iaHR0cDovL3d3dy53My5vcmcvMjAwMC9zdmciIHdpZHRoPSIxNiIgdmlld0JveD0iMCAwIDIwIDIwIj4KCTxnIGNsYXNzPSJqcC1pY29uMyIgZmlsbD0iIzYxNjE2MSIgc2hhcGUtcmVuZGVyaW5nPSJnZW9tZXRyaWNQcmVjaXNpb24iPgoJCTxwb2x5Z29uIGNsYXNzPSJzdDEiIHBvaW50cz0iMTUuNCwxMy4zIDkuOSw3LjcgNC40LDEzLjIgMy42LDEyLjUgOS45LDYuMyAxNi4xLDEyLjYgIi8+Cgk8L2c+Cjwvc3ZnPgo=);
  --jp-icon-caret-up: url(data:image/svg+xml;base64,PHN2ZyB4bWxucz0iaHR0cDovL3d3dy53My5vcmcvMjAwMC9zdmciIHdpZHRoPSIxNiIgdmlld0JveD0iMCAwIDE4IDE4Ij4KCTxnIGNsYXNzPSJqcC1pY29uMyIgZmlsbD0iIzYxNjE2MSIgc2hhcGUtcmVuZGVyaW5nPSJnZW9tZXRyaWNQcmVjaXNpb24iPgoJCTxwYXRoIGQ9Ik01LjIsMTAuNUw5LDYuOGwzLjgsMy44SDUuMnoiLz4KICA8L2c+Cjwvc3ZnPgo=);
  --jp-icon-case-sensitive: url(data:image/svg+xml;base64,PHN2ZyB4bWxucz0iaHR0cDovL3d3dy53My5vcmcvMjAwMC9zdmciIHdpZHRoPSIxNiIgdmlld0JveD0iMCAwIDIwIDIwIj4KICA8ZyBjbGFzcz0ianAtaWNvbjIiIGZpbGw9IiM0MTQxNDEiPgogICAgPHJlY3QgeD0iMiIgeT0iMiIgd2lkdGg9IjE2IiBoZWlnaHQ9IjE2Ii8+CiAgPC9nPgogIDxnIGNsYXNzPSJqcC1pY29uLWFjY2VudDIiIGZpbGw9IiNGRkYiPgogICAgPHBhdGggZD0iTTcuNiw4aDAuOWwzLjUsOGgtMS4xTDEwLDE0SDZsLTAuOSwySDRMNy42LDh6IE04LDkuMUw2LjQsMTNoMy4yTDgsOS4xeiIvPgogICAgPHBhdGggZD0iTTE2LjYsOS44Yy0wLjIsMC4xLTAuNCwwLjEtMC43LDAuMWMtMC4yLDAtMC40LTAuMS0wLjYtMC4yYy0wLjEtMC4xLTAuMi0wLjQtMC4yLTAuNyBjLTAuMywwLjMtMC42LDAuNS0wLjksMC43Yy0wLjMsMC4xLTAuNywwLjItMS4xLDAuMmMtMC4zLDAtMC41LDAtMC43LTAuMWMtMC4yLTAuMS0wLjQtMC4yLTAuNi0wLjNjLTAuMi0wLjEtMC4zLTAuMy0wLjQtMC41IGMtMC4xLTAuMi0wLjEtMC40LTAuMS0wLjdjMC0wLjMsMC4xLTAuNiwwLjItMC44YzAuMS0wLjIsMC4zLTAuNCwwLjQtMC41QzEyLDcsMTIuMiw2LjksMTIuNSw2LjhjMC4yLTAuMSwwLjUtMC4xLDAuNy0wLjIgYzAuMy0wLjEsMC41LTAuMSwwLjctMC4xYzAuMiwwLDAuNC0wLjEsMC42LTAuMWMwLjIsMCwwLjMtMC4xLDAuNC0wLjJjMC4xLTAuMSwwLjItMC4yLDAuMi0wLjRjMC0xLTEuMS0xLTEuMy0xIGMtMC40LDAtMS40LDAtMS40LDEuMmgtMC45YzAtMC40LDAuMS0wLjcsMC4yLTFjMC4xLTAuMiwwLjMtMC40LDAuNS0wLjZjMC4yLTAuMiwwLjUtMC4zLDAuOC0wLjNDMTMuMyw0LDEzLjYsNCwxMy45LDQgYzAuMywwLDAuNSwwLDAuOCwwLjFjMC4zLDAsMC41LDAuMSwwLjcsMC4yYzAuMiwwLjEsMC40LDAuMywwLjUsMC41QzE2LDUsMTYsNS4yLDE2LDUuNnYyLjljMCwwLjIsMCwwLjQsMCwwLjUgYzAsMC4xLDAuMSwwLjIsMC4zLDAuMmMwLjEsMCwwLjIsMCwwLjMsMFY5Ljh6IE0xNS4yLDYuOWMtMS4yLDAuNi0zLjEsMC4yLTMuMSwxLjRjMCwxLjQsMy4xLDEsMy4xLTAuNVY2Ljl6Ii8+CiAgPC9nPgo8L3N2Zz4K);
  --jp-icon-check: url(data:image/svg+xml;base64,PHN2ZyB4bWxucz0iaHR0cDovL3d3dy53My5vcmcvMjAwMC9zdmciIHdpZHRoPSIxNiIgdmlld0JveD0iMCAwIDI0IDI0Ij4KICA8ZyBjbGFzcz0ianAtaWNvbjMganAtaWNvbi1zZWxlY3RhYmxlIiBmaWxsPSIjNjE2MTYxIj4KICAgIDxwYXRoIGQ9Ik05IDE2LjE3TDQuODMgMTJsLTEuNDIgMS40MUw5IDE5IDIxIDdsLTEuNDEtMS40MXoiLz4KICA8L2c+Cjwvc3ZnPgo=);
  --jp-icon-circle-empty: url(data:image/svg+xml;base64,PHN2ZyB4bWxucz0iaHR0cDovL3d3dy53My5vcmcvMjAwMC9zdmciIHdpZHRoPSIxNiIgdmlld0JveD0iMCAwIDI0IDI0Ij4KICA8ZyBjbGFzcz0ianAtaWNvbjMiIGZpbGw9IiM2MTYxNjEiPgogICAgPHBhdGggZD0iTTEyIDJDNi40NyAyIDIgNi40NyAyIDEyczQuNDcgMTAgMTAgMTAgMTAtNC40NyAxMC0xMFMxNy41MyAyIDEyIDJ6bTAgMThjLTQuNDEgMC04LTMuNTktOC04czMuNTktOCA4LTggOCAzLjU5IDggOC0zLjU5IDgtOCA4eiIvPgogIDwvZz4KPC9zdmc+Cg==);
  --jp-icon-circle: url(data:image/svg+xml;base64,PHN2ZyB2aWV3Qm94PSIwIDAgMTggMTgiIHdpZHRoPSIxNiIgeG1sbnM9Imh0dHA6Ly93d3cudzMub3JnLzIwMDAvc3ZnIj4KICA8ZyBjbGFzcz0ianAtaWNvbjMiIGZpbGw9IiM2MTYxNjEiPgogICAgPGNpcmNsZSBjeD0iOSIgY3k9IjkiIHI9IjgiLz4KICA8L2c+Cjwvc3ZnPgo=);
  --jp-icon-clear: url(data:image/svg+xml;base64,PHN2ZyB4bWxucz0iaHR0cDovL3d3dy53My5vcmcvMjAwMC9zdmciIHdpZHRoPSIxNiIgdmlld0JveD0iMCAwIDI0IDI0Ij4KICA8bWFzayBpZD0iZG9udXRIb2xlIj4KICAgIDxyZWN0IHdpZHRoPSIyNCIgaGVpZ2h0PSIyNCIgZmlsbD0id2hpdGUiIC8+CiAgICA8Y2lyY2xlIGN4PSIxMiIgY3k9IjEyIiByPSI4IiBmaWxsPSJibGFjayIvPgogIDwvbWFzaz4KCiAgPGcgY2xhc3M9ImpwLWljb24zIiBmaWxsPSIjNjE2MTYxIj4KICAgIDxyZWN0IGhlaWdodD0iMTgiIHdpZHRoPSIyIiB4PSIxMSIgeT0iMyIgdHJhbnNmb3JtPSJyb3RhdGUoMzE1LCAxMiwgMTIpIi8+CiAgICA8Y2lyY2xlIGN4PSIxMiIgY3k9IjEyIiByPSIxMCIgbWFzaz0idXJsKCNkb251dEhvbGUpIi8+CiAgPC9nPgo8L3N2Zz4K);
  --jp-icon-close: url(data:image/svg+xml;base64,PHN2ZyB2aWV3Qm94PSIwIDAgMjQgMjQiIHdpZHRoPSIxNiIgeG1sbnM9Imh0dHA6Ly93d3cudzMub3JnLzIwMDAvc3ZnIj4KICA8ZyBjbGFzcz0ianAtaWNvbi1ub25lIGpwLWljb24tc2VsZWN0YWJsZS1pbnZlcnNlIGpwLWljb24zLWhvdmVyIiBmaWxsPSJub25lIj4KICAgIDxjaXJjbGUgY3g9IjEyIiBjeT0iMTIiIHI9IjExIi8+CiAgPC9nPgoKICA8ZyBjbGFzcz0ianAtaWNvbjMganAtaWNvbi1zZWxlY3RhYmxlIGpwLWljb24tYWNjZW50Mi1ob3ZlciIgZmlsbD0iIzYxNjE2MSI+CiAgICA8cGF0aCBkPSJNMTkgNi40MUwxNy41OSA1IDEyIDEwLjU5IDYuNDEgNSA1IDYuNDEgMTAuNTkgMTIgNSAxNy41OSA2LjQxIDE5IDEyIDEzLjQxIDE3LjU5IDE5IDE5IDE3LjU5IDEzLjQxIDEyeiIvPgogIDwvZz4KCiAgPGcgY2xhc3M9ImpwLWljb24tbm9uZSBqcC1pY29uLWJ1c3kiIGZpbGw9Im5vbmUiPgogICAgPGNpcmNsZSBjeD0iMTIiIGN5PSIxMiIgcj0iNyIvPgogIDwvZz4KPC9zdmc+Cg==);
  --jp-icon-code: url(data:image/svg+xml;base64,PHN2ZyB3aWR0aD0iMjIiIGhlaWdodD0iMjIiIHZpZXdCb3g9IjAgMCAyOCAyOCIgeG1sbnM9Imh0dHA6Ly93d3cudzMub3JnLzIwMDAvc3ZnIj4KCTxnIGNsYXNzPSJqcC1pY29uMyIgZmlsbD0iIzYxNjE2MSI+CgkJPHBhdGggZD0iTTExLjQgMTguNkw2LjggMTRMMTEuNCA5LjRMMTAgOEw0IDE0TDEwIDIwTDExLjQgMTguNlpNMTYuNiAxOC42TDIxLjIgMTRMMTYuNiA5LjRMMTggOEwyNCAxNEwxOCAyMEwxNi42IDE4LjZWMTguNloiLz4KCTwvZz4KPC9zdmc+Cg==);
  --jp-icon-console: url(data:image/svg+xml;base64,PHN2ZyB4bWxucz0iaHR0cDovL3d3dy53My5vcmcvMjAwMC9zdmciIHdpZHRoPSIxNiIgdmlld0JveD0iMCAwIDIwMCAyMDAiPgogIDxnIGNsYXNzPSJqcC1pY29uLWJyYW5kMSBqcC1pY29uLXNlbGVjdGFibGUiIGZpbGw9IiMwMjg4RDEiPgogICAgPHBhdGggZD0iTTIwIDE5LjhoMTYwdjE1OS45SDIweiIvPgogIDwvZz4KICA8ZyBjbGFzcz0ianAtaWNvbi1zZWxlY3RhYmxlLWludmVyc2UiIGZpbGw9IiNmZmYiPgogICAgPHBhdGggZD0iTTEwNSAxMjcuM2g0MHYxMi44aC00MHpNNTEuMSA3N0w3NCA5OS45bC0yMy4zIDIzLjMgMTAuNSAxMC41IDIzLjMtMjMuM0w5NSA5OS45IDg0LjUgODkuNCA2MS42IDY2LjV6Ii8+CiAgPC9nPgo8L3N2Zz4K);
  --jp-icon-copy: url(data:image/svg+xml;base64,PHN2ZyB2aWV3Qm94PSIwIDAgMTggMTgiIHdpZHRoPSIxNiIgeG1sbnM9Imh0dHA6Ly93d3cudzMub3JnLzIwMDAvc3ZnIj4KICA8ZyBjbGFzcz0ianAtaWNvbjMiIGZpbGw9IiM2MTYxNjEiPgogICAgPHBhdGggZD0iTTExLjksMUgzLjJDMi40LDEsMS43LDEuNywxLjcsMi41djEwLjJoMS41VjIuNWg4LjdWMXogTTE0LjEsMy45aC04Yy0wLjgsMC0xLjUsMC43LTEuNSwxLjV2MTAuMmMwLDAuOCwwLjcsMS41LDEuNSwxLjVoOCBjMC44LDAsMS41LTAuNywxLjUtMS41VjUuNEMxNS41LDQuNiwxNC45LDMuOSwxNC4xLDMuOXogTTE0LjEsMTUuNWgtOFY1LjRoOFYxNS41eiIvPgogIDwvZz4KPC9zdmc+Cg==);
  --jp-icon-copyright: url(data:image/svg+xml;base64,PHN2ZyB4bWxucz0iaHR0cDovL3d3dy53My5vcmcvMjAwMC9zdmciIGVuYWJsZS1iYWNrZ3JvdW5kPSJuZXcgMCAwIDI0IDI0IiBoZWlnaHQ9IjI0IiB2aWV3Qm94PSIwIDAgMjQgMjQiIHdpZHRoPSIyNCI+CiAgPGcgY2xhc3M9ImpwLWljb24zIiBmaWxsPSIjNjE2MTYxIj4KICAgIDxwYXRoIGQ9Ik0xMS44OCw5LjE0YzEuMjgsMC4wNiwxLjYxLDEuMTUsMS42MywxLjY2aDEuNzljLTAuMDgtMS45OC0xLjQ5LTMuMTktMy40NS0zLjE5QzkuNjQsNy42MSw4LDksOCwxMi4xNCBjMCwxLjk0LDAuOTMsNC4yNCwzLjg0LDQuMjRjMi4yMiwwLDMuNDEtMS42NSwzLjQ0LTIuOTVoLTEuNzljLTAuMDMsMC41OS0wLjQ1LDEuMzgtMS42MywxLjQ0QzEwLjU1LDE0LjgzLDEwLDEzLjgxLDEwLDEyLjE0IEMxMCw5LjI1LDExLjI4LDkuMTYsMTEuODgsOS4xNHogTTEyLDJDNi40OCwyLDIsNi40OCwyLDEyczQuNDgsMTAsMTAsMTBzMTAtNC40OCwxMC0xMFMxNy41MiwyLDEyLDJ6IE0xMiwyMGMtNC40MSwwLTgtMy41OS04LTggczMuNTktOCw4LThzOCwzLjU5LDgsOFMxNi40MSwyMCwxMiwyMHoiLz4KICA8L2c+Cjwvc3ZnPgo=);
  --jp-icon-cut: url(data:image/svg+xml;base64,PHN2ZyB2aWV3Qm94PSIwIDAgMjQgMjQiIHdpZHRoPSIxNiIgeG1sbnM9Imh0dHA6Ly93d3cudzMub3JnLzIwMDAvc3ZnIj4KICA8ZyBjbGFzcz0ianAtaWNvbjMiIGZpbGw9IiM2MTYxNjEiPgogICAgPHBhdGggZD0iTTkuNjQgNy42NGMuMjMtLjUuMzYtMS4wNS4zNi0xLjY0IDAtMi4yMS0xLjc5LTQtNC00UzIgMy43OSAyIDZzMS43OSA0IDQgNGMuNTkgMCAxLjE0LS4xMyAxLjY0LS4zNkwxMCAxMmwtMi4zNiAyLjM2QzcuMTQgMTQuMTMgNi41OSAxNCA2IDE0Yy0yLjIxIDAtNCAxLjc5LTQgNHMxLjc5IDQgNCA0IDQtMS43OSA0LTRjMC0uNTktLjEzLTEuMTQtLjM2LTEuNjRMMTIgMTRsNyA3aDN2LTFMOS42NCA3LjY0ek02IDhjLTEuMSAwLTItLjg5LTItMnMuOS0yIDItMiAyIC44OSAyIDItLjkgMi0yIDJ6bTAgMTJjLTEuMSAwLTItLjg5LTItMnMuOS0yIDItMiAyIC44OSAyIDItLjkgMi0yIDJ6bTYtNy41Yy0uMjggMC0uNS0uMjItLjUtLjVzLjIyLS41LjUtLjUuNS4yMi41LjUtLjIyLjUtLjUuNXpNMTkgM2wtNiA2IDIgMiA3LTdWM3oiLz4KICA8L2c+Cjwvc3ZnPgo=);
  --jp-icon-download: url(data:image/svg+xml;base64,PHN2ZyB2aWV3Qm94PSIwIDAgMjQgMjQiIHdpZHRoPSIxNiIgeG1sbnM9Imh0dHA6Ly93d3cudzMub3JnLzIwMDAvc3ZnIj4KICA8ZyBjbGFzcz0ianAtaWNvbjMiIGZpbGw9IiM2MTYxNjEiPgogICAgPHBhdGggZD0iTTE5IDloLTRWM0g5djZINWw3IDcgNy03ek01IDE4djJoMTR2LTJINXoiLz4KICA8L2c+Cjwvc3ZnPgo=);
  --jp-icon-edit: url(data:image/svg+xml;base64,PHN2ZyB2aWV3Qm94PSIwIDAgMjQgMjQiIHdpZHRoPSIxNiIgeG1sbnM9Imh0dHA6Ly93d3cudzMub3JnLzIwMDAvc3ZnIj4KICA8ZyBjbGFzcz0ianAtaWNvbjMiIGZpbGw9IiM2MTYxNjEiPgogICAgPHBhdGggZD0iTTMgMTcuMjVWMjFoMy43NUwxNy44MSA5Ljk0bC0zLjc1LTMuNzVMMyAxNy4yNXpNMjAuNzEgNy4wNGMuMzktLjM5LjM5LTEuMDIgMC0xLjQxbC0yLjM0LTIuMzRjLS4zOS0uMzktMS4wMi0uMzktMS40MSAwbC0xLjgzIDEuODMgMy43NSAzLjc1IDEuODMtMS44M3oiLz4KICA8L2c+Cjwvc3ZnPgo=);
  --jp-icon-ellipses: url(data:image/svg+xml;base64,PHN2ZyB2aWV3Qm94PSIwIDAgMjQgMjQiIHdpZHRoPSIxNiIgeG1sbnM9Imh0dHA6Ly93d3cudzMub3JnLzIwMDAvc3ZnIj4KICA8ZyBjbGFzcz0ianAtaWNvbjMiIGZpbGw9IiM2MTYxNjEiPgogICAgPGNpcmNsZSBjeD0iNSIgY3k9IjEyIiByPSIyIi8+CiAgICA8Y2lyY2xlIGN4PSIxMiIgY3k9IjEyIiByPSIyIi8+CiAgICA8Y2lyY2xlIGN4PSIxOSIgY3k9IjEyIiByPSIyIi8+CiAgPC9nPgo8L3N2Zz4K);
  --jp-icon-extension: url(data:image/svg+xml;base64,PHN2ZyB4bWxucz0iaHR0cDovL3d3dy53My5vcmcvMjAwMC9zdmciIHdpZHRoPSIxNiIgdmlld0JveD0iMCAwIDI0IDI0Ij4KICA8ZyBjbGFzcz0ianAtaWNvbjMiIGZpbGw9IiM2MTYxNjEiPgogICAgPHBhdGggZD0iTTIwLjUgMTFIMTlWN2MwLTEuMS0uOS0yLTItMmgtNFYzLjVDMTMgMi4xMiAxMS44OCAxIDEwLjUgMVM4IDIuMTIgOCAzLjVWNUg0Yy0xLjEgMC0xLjk5LjktMS45OSAydjMuOEgzLjVjMS40OSAwIDIuNyAxLjIxIDIuNyAyLjdzLTEuMjEgMi43LTIuNyAyLjdIMlYyMGMwIDEuMS45IDIgMiAyaDMuOHYtMS41YzAtMS40OSAxLjIxLTIuNyAyLjctMi43IDEuNDkgMCAyLjcgMS4yMSAyLjcgMi43VjIySDE3YzEuMSAwIDItLjkgMi0ydi00aDEuNWMxLjM4IDAgMi41LTEuMTIgMi41LTIuNVMyMS44OCAxMSAyMC41IDExeiIvPgogIDwvZz4KPC9zdmc+Cg==);
  --jp-icon-fast-forward: url(data:image/svg+xml;base64,PHN2ZyB4bWxucz0iaHR0cDovL3d3dy53My5vcmcvMjAwMC9zdmciIHdpZHRoPSIyNCIgaGVpZ2h0PSIyNCIgdmlld0JveD0iMCAwIDI0IDI0Ij4KICAgIDxnIGNsYXNzPSJqcC1pY29uMyIgZmlsbD0iIzYxNjE2MSI+CiAgICAgICAgPHBhdGggZD0iTTQgMThsOC41LTZMNCA2djEyem05LTEydjEybDguNS02TDEzIDZ6Ii8+CiAgICA8L2c+Cjwvc3ZnPgo=);
  --jp-icon-file-upload: url(data:image/svg+xml;base64,PHN2ZyB4bWxucz0iaHR0cDovL3d3dy53My5vcmcvMjAwMC9zdmciIHdpZHRoPSIxNiIgdmlld0JveD0iMCAwIDI0IDI0Ij4KICA8ZyBjbGFzcz0ianAtaWNvbjMiIGZpbGw9IiM2MTYxNjEiPgogICAgPHBhdGggZD0iTTkgMTZoNnYtNmg0bC03LTctNyA3aDR6bS00IDJoMTR2Mkg1eiIvPgogIDwvZz4KPC9zdmc+Cg==);
  --jp-icon-file: url(data:image/svg+xml;base64,PHN2ZyB4bWxucz0iaHR0cDovL3d3dy53My5vcmcvMjAwMC9zdmciIHdpZHRoPSIxNiIgdmlld0JveD0iMCAwIDIyIDIyIj4KICA8cGF0aCBjbGFzcz0ianAtaWNvbjMganAtaWNvbi1zZWxlY3RhYmxlIiBmaWxsPSIjNjE2MTYxIiBkPSJNMTkuMyA4LjJsLTUuNS01LjVjLS4zLS4zLS43LS41LTEuMi0uNUgzLjljLS44LjEtMS42LjktMS42IDEuOHYxNC4xYzAgLjkuNyAxLjYgMS42IDEuNmgxNC4yYy45IDAgMS42LS43IDEuNi0xLjZWOS40Yy4xLS41LS4xLS45LS40LTEuMnptLTUuOC0zLjNsMy40IDMuNmgtMy40VjQuOXptMy45IDEyLjdINC43Yy0uMSAwLS4yIDAtLjItLjJWNC43YzAtLjIuMS0uMy4yLS4zaDcuMnY0LjRzMCAuOC4zIDEuMWMuMy4zIDEuMS4zIDEuMS4zaDQuM3Y3LjJzLS4xLjItLjIuMnoiLz4KPC9zdmc+Cg==);
  --jp-icon-filter-list: url(data:image/svg+xml;base64,PHN2ZyB4bWxucz0iaHR0cDovL3d3dy53My5vcmcvMjAwMC9zdmciIHdpZHRoPSIxNiIgdmlld0JveD0iMCAwIDI0IDI0Ij4KICA8ZyBjbGFzcz0ianAtaWNvbjMiIGZpbGw9IiM2MTYxNjEiPgogICAgPHBhdGggZD0iTTEwIDE4aDR2LTJoLTR2MnpNMyA2djJoMThWNkgzem0zIDdoMTJ2LTJINnYyeiIvPgogIDwvZz4KPC9zdmc+Cg==);
  --jp-icon-folder: url(data:image/svg+xml;base64,PHN2ZyB4bWxucz0iaHR0cDovL3d3dy53My5vcmcvMjAwMC9zdmciIHdpZHRoPSIxNiIgdmlld0JveD0iMCAwIDI0IDI0Ij4KICA8cGF0aCBjbGFzcz0ianAtaWNvbjMganAtaWNvbi1zZWxlY3RhYmxlIiBmaWxsPSIjNjE2MTYxIiBkPSJNMTAgNEg0Yy0xLjEgMC0xLjk5LjktMS45OSAyTDIgMThjMCAxLjEuOSAyIDIgMmgxNmMxLjEgMCAyLS45IDItMlY4YzAtMS4xLS45LTItMi0yaC04bC0yLTJ6Ii8+Cjwvc3ZnPgo=);
  --jp-icon-html5: url(data:image/svg+xml;base64,PHN2ZyB4bWxucz0iaHR0cDovL3d3dy53My5vcmcvMjAwMC9zdmciIHdpZHRoPSIxNiIgdmlld0JveD0iMCAwIDUxMiA1MTIiPgogIDxwYXRoIGNsYXNzPSJqcC1pY29uMCBqcC1pY29uLXNlbGVjdGFibGUiIGZpbGw9IiMwMDAiIGQ9Ik0xMDguNCAwaDIzdjIyLjhoMjEuMlYwaDIzdjY5aC0yM1Y0NmgtMjF2MjNoLTIzLjJNMjA2IDIzaC0yMC4zVjBoNjMuN3YyM0gyMjl2NDZoLTIzbTUzLjUtNjloMjQuMWwxNC44IDI0LjNMMzEzLjIgMGgyNC4xdjY5aC0yM1YzNC44bC0xNi4xIDI0LjgtMTYuMS0yNC44VjY5aC0yMi42bTg5LjItNjloMjN2NDYuMmgzMi42VjY5aC01NS42Ii8+CiAgPHBhdGggY2xhc3M9ImpwLWljb24tc2VsZWN0YWJsZSIgZmlsbD0iI2U0NGQyNiIgZD0iTTEwNy42IDQ3MWwtMzMtMzcwLjRoMzYyLjhsLTMzIDM3MC4yTDI1NS43IDUxMiIvPgogIDxwYXRoIGNsYXNzPSJqcC1pY29uLXNlbGVjdGFibGUiIGZpbGw9IiNmMTY1MjkiIGQ9Ik0yNTYgNDgwLjVWMTMxaDE0OC4zTDM3NiA0NDciLz4KICA8cGF0aCBjbGFzcz0ianAtaWNvbi1zZWxlY3RhYmxlLWludmVyc2UiIGZpbGw9IiNlYmViZWIiIGQ9Ik0xNDIgMTc2LjNoMTE0djQ1LjRoLTY0LjJsNC4yIDQ2LjVoNjB2NDUuM0gxNTQuNG0yIDIyLjhIMjAybDMuMiAzNi4zIDUwLjggMTMuNnY0Ny40bC05My4yLTI2Ii8+CiAgPHBhdGggY2xhc3M9ImpwLWljb24tc2VsZWN0YWJsZS1pbnZlcnNlIiBmaWxsPSIjZmZmIiBkPSJNMzY5LjYgMTc2LjNIMjU1Ljh2NDUuNGgxMDkuNm0tNC4xIDQ2LjVIMjU1Ljh2NDUuNGg1NmwtNS4zIDU5LTUwLjcgMTMuNnY0Ny4ybDkzLTI1LjgiLz4KPC9zdmc+Cg==);
  --jp-icon-image: url(data:image/svg+xml;base64,PHN2ZyB4bWxucz0iaHR0cDovL3d3dy53My5vcmcvMjAwMC9zdmciIHdpZHRoPSIxNiIgdmlld0JveD0iMCAwIDIyIDIyIj4KICA8cGF0aCBjbGFzcz0ianAtaWNvbi1icmFuZDQganAtaWNvbi1zZWxlY3RhYmxlLWludmVyc2UiIGZpbGw9IiNGRkYiIGQ9Ik0yLjIgMi4yaDE3LjV2MTcuNUgyLjJ6Ii8+CiAgPHBhdGggY2xhc3M9ImpwLWljb24tYnJhbmQwIGpwLWljb24tc2VsZWN0YWJsZSIgZmlsbD0iIzNGNTFCNSIgZD0iTTIuMiAyLjJ2MTcuNWgxNy41bC4xLTE3LjVIMi4yem0xMi4xIDIuMmMxLjIgMCAyLjIgMSAyLjIgMi4ycy0xIDIuMi0yLjIgMi4yLTIuMi0xLTIuMi0yLjIgMS0yLjIgMi4yLTIuMnpNNC40IDE3LjZsMy4zLTguOCAzLjMgNi42IDIuMi0zLjIgNC40IDUuNEg0LjR6Ii8+Cjwvc3ZnPgo=);
  --jp-icon-inspector: url(data:image/svg+xml;base64,PHN2ZyB4bWxucz0iaHR0cDovL3d3dy53My5vcmcvMjAwMC9zdmciIHdpZHRoPSIxNiIgdmlld0JveD0iMCAwIDI0IDI0Ij4KICA8cGF0aCBjbGFzcz0ianAtaWNvbjMganAtaWNvbi1zZWxlY3RhYmxlIiBmaWxsPSIjNjE2MTYxIiBkPSJNMjAgNEg0Yy0xLjEgMC0xLjk5LjktMS45OSAyTDIgMThjMCAxLjEuOSAyIDIgMmgxNmMxLjEgMCAyLS45IDItMlY2YzAtMS4xLS45LTItMi0yem0tNSAxNEg0di00aDExdjR6bTAtNUg0VjloMTF2NHptNSA1aC00VjloNHY5eiIvPgo8L3N2Zz4K);
  --jp-icon-json: url(data:image/svg+xml;base64,PHN2ZyB4bWxucz0iaHR0cDovL3d3dy53My5vcmcvMjAwMC9zdmciIHdpZHRoPSIxNiIgdmlld0JveD0iMCAwIDIyIDIyIj4KICA8ZyBjbGFzcz0ianAtaWNvbi13YXJuMSBqcC1pY29uLXNlbGVjdGFibGUiIGZpbGw9IiNGOUE4MjUiPgogICAgPHBhdGggZD0iTTIwLjIgMTEuOGMtMS42IDAtMS43LjUtMS43IDEgMCAuNC4xLjkuMSAxLjMuMS41LjEuOS4xIDEuMyAwIDEuNy0xLjQgMi4zLTMuNSAyLjNoLS45di0xLjloLjVjMS4xIDAgMS40IDAgMS40LS44IDAtLjMgMC0uNi0uMS0xIDAtLjQtLjEtLjgtLjEtMS4yIDAtMS4zIDAtMS44IDEuMy0yLTEuMy0uMi0xLjMtLjctMS4zLTIgMC0uNC4xLS44LjEtMS4yLjEtLjQuMS0uNy4xLTEgMC0uOC0uNC0uNy0xLjQtLjhoLS41VjQuMWguOWMyLjIgMCAzLjUuNyAzLjUgMi4zIDAgLjQtLjEuOS0uMSAxLjMtLjEuNS0uMS45LS4xIDEuMyAwIC41LjIgMSAxLjcgMXYxLjh6TTEuOCAxMC4xYzEuNiAwIDEuNy0uNSAxLjctMSAwLS40LS4xLS45LS4xLTEuMy0uMS0uNS0uMS0uOS0uMS0xLjMgMC0xLjYgMS40LTIuMyAzLjUtMi4zaC45djEuOWgtLjVjLTEgMC0xLjQgMC0xLjQuOCAwIC4zIDAgLjYuMSAxIDAgLjIuMS42LjEgMSAwIDEuMyAwIDEuOC0xLjMgMkM2IDExLjIgNiAxMS43IDYgMTNjMCAuNC0uMS44LS4xIDEuMi0uMS4zLS4xLjctLjEgMSAwIC44LjMuOCAxLjQuOGguNXYxLjloLS45Yy0yLjEgMC0zLjUtLjYtMy41LTIuMyAwLS40LjEtLjkuMS0xLjMuMS0uNS4xLS45LjEtMS4zIDAtLjUtLjItMS0xLjctMXYtMS45eiIvPgogICAgPGNpcmNsZSBjeD0iMTEiIGN5PSIxMy44IiByPSIyLjEiLz4KICAgIDxjaXJjbGUgY3g9IjExIiBjeT0iOC4yIiByPSIyLjEiLz4KICA8L2c+Cjwvc3ZnPgo=);
  --jp-icon-julia: url(data:image/svg+xml;base64,PHN2ZyB4bWxucz0iaHR0cDovL3d3dy53My5vcmcvMjAwMC9zdmciIHdpZHRoPSIxNiIgdmlld0JveD0iMCAwIDMyNSAzMDAiPgogIDxnIGNsYXNzPSJqcC1icmFuZDAganAtaWNvbi1zZWxlY3RhYmxlIiBmaWxsPSIjY2IzYzMzIj4KICAgIDxwYXRoIGQ9Ik0gMTUwLjg5ODQzOCAyMjUgQyAxNTAuODk4NDM4IDI2Ni40MjE4NzUgMTE3LjMyMDMxMiAzMDAgNzUuODk4NDM4IDMwMCBDIDM0LjQ3NjU2MiAzMDAgMC44OTg0MzggMjY2LjQyMTg3NSAwLjg5ODQzOCAyMjUgQyAwLjg5ODQzOCAxODMuNTc4MTI1IDM0LjQ3NjU2MiAxNTAgNzUuODk4NDM4IDE1MCBDIDExNy4zMjAzMTIgMTUwIDE1MC44OTg0MzggMTgzLjU3ODEyNSAxNTAuODk4NDM4IDIyNSIvPgogIDwvZz4KICA8ZyBjbGFzcz0ianAtYnJhbmQwIGpwLWljb24tc2VsZWN0YWJsZSIgZmlsbD0iIzM4OTgyNiI+CiAgICA8cGF0aCBkPSJNIDIzNy41IDc1IEMgMjM3LjUgMTE2LjQyMTg3NSAyMDMuOTIxODc1IDE1MCAxNjIuNSAxNTAgQyAxMjEuMDc4MTI1IDE1MCA4Ny41IDExNi40MjE4NzUgODcuNSA3NSBDIDg3LjUgMzMuNTc4MTI1IDEyMS4wNzgxMjUgMCAxNjIuNSAwIEMgMjAzLjkyMTg3NSAwIDIzNy41IDMzLjU3ODEyNSAyMzcuNSA3NSIvPgogIDwvZz4KICA8ZyBjbGFzcz0ianAtYnJhbmQwIGpwLWljb24tc2VsZWN0YWJsZSIgZmlsbD0iIzk1NThiMiI+CiAgICA8cGF0aCBkPSJNIDMyNC4xMDE1NjIgMjI1IEMgMzI0LjEwMTU2MiAyNjYuNDIxODc1IDI5MC41MjM0MzggMzAwIDI0OS4xMDE1NjIgMzAwIEMgMjA3LjY3OTY4OCAzMDAgMTc0LjEwMTU2MiAyNjYuNDIxODc1IDE3NC4xMDE1NjIgMjI1IEMgMTc0LjEwMTU2MiAxODMuNTc4MTI1IDIwNy42Nzk2ODggMTUwIDI0OS4xMDE1NjIgMTUwIEMgMjkwLjUyMzQzOCAxNTAgMzI0LjEwMTU2MiAxODMuNTc4MTI1IDMyNC4xMDE1NjIgMjI1Ii8+CiAgPC9nPgo8L3N2Zz4K);
  --jp-icon-jupyter-favicon: url(data:image/svg+xml;base64,PHN2ZyB3aWR0aD0iMTUyIiBoZWlnaHQ9IjE2NSIgdmlld0JveD0iMCAwIDE1MiAxNjUiIHZlcnNpb249IjEuMSIgeG1sbnM9Imh0dHA6Ly93d3cudzMub3JnLzIwMDAvc3ZnIj4KICA8ZyBjbGFzcz0ianAtaWNvbi13YXJuMCIgZmlsbD0iI0YzNzcyNiI+CiAgICA8cGF0aCB0cmFuc2Zvcm09InRyYW5zbGF0ZSgwLjA3ODk0NywgMTEwLjU4MjkyNykiIGQ9Ik03NS45NDIyODQyLDI5LjU4MDQ1NjEgQzQzLjMwMjM5NDcsMjkuNTgwNDU2MSAxNC43OTY3ODMyLDE3LjY1MzQ2MzQgMCwwIEM1LjUxMDgzMjExLDE1Ljg0MDY4MjkgMTUuNzgxNTM4OSwyOS41NjY3NzMyIDI5LjM5MDQ5NDcsMzkuMjc4NDE3MSBDNDIuOTk5Nyw0OC45ODk4NTM3IDU5LjI3MzcsNTQuMjA2NzgwNSA3NS45NjA1Nzg5LDU0LjIwNjc4MDUgQzkyLjY0NzQ1NzksNTQuMjA2NzgwNSAxMDguOTIxNDU4LDQ4Ljk4OTg1MzcgMTIyLjUzMDY2MywzOS4yNzg0MTcxIEMxMzYuMTM5NDUzLDI5LjU2Njc3MzIgMTQ2LjQxMDI4NCwxNS44NDA2ODI5IDE1MS45MjExNTgsMCBDMTM3LjA4Nzg2OCwxNy42NTM0NjM0IDEwOC41ODI1ODksMjkuNTgwNDU2MSA3NS45NDIyODQyLDI5LjU4MDQ1NjEgTDc1Ljk0MjI4NDIsMjkuNTgwNDU2MSBaIiAvPgogICAgPHBhdGggdHJhbnNmb3JtPSJ0cmFuc2xhdGUoMC4wMzczNjgsIDAuNzA0ODc4KSIgZD0iTTc1Ljk3ODQ1NzksMjQuNjI2NDA3MyBDMTA4LjYxODc2MywyNC42MjY0MDczIDEzNy4xMjQ0NTgsMzYuNTUzNDQxNSAxNTEuOTIxMTU4LDU0LjIwNjc4MDUgQzE0Ni40MTAyODQsMzguMzY2MjIyIDEzNi4xMzk0NTMsMjQuNjQwMTMxNyAxMjIuNTMwNjYzLDE0LjkyODQ4NzggQzEwOC45MjE0NTgsNS4yMTY4NDM5IDkyLjY0NzQ1NzksMCA3NS45NjA1Nzg5LDAgQzU5LjI3MzcsMCA0Mi45OTk3LDUuMjE2ODQzOSAyOS4zOTA0OTQ3LDE0LjkyODQ4NzggQzE1Ljc4MTUzODksMjQuNjQwMTMxNyA1LjUxMDgzMjExLDM4LjM2NjIyMiAwLDU0LjIwNjc4MDUgQzE0LjgzMzA4MTYsMzYuNTg5OTI5MyA0My4zMzg1Njg0LDI0LjYyNjQwNzMgNzUuOTc4NDU3OSwyNC42MjY0MDczIEw3NS45Nzg0NTc5LDI0LjYyNjQwNzMgWiIgLz4KICA8L2c+Cjwvc3ZnPgo=);
  --jp-icon-jupyter: url(data:image/svg+xml;base64,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);
  --jp-icon-jupyterlab-wordmark: url(data:image/svg+xml;base64,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);
  --jp-icon-kernel: url(data:image/svg+xml;base64,PHN2ZyB4bWxucz0iaHR0cDovL3d3dy53My5vcmcvMjAwMC9zdmciIHdpZHRoPSIxNiIgdmlld0JveD0iMCAwIDI0IDI0Ij4KICAgIDxwYXRoIGNsYXNzPSJqcC1pY29uMiIgZmlsbD0iIzYxNjE2MSIgZD0iTTE1IDlIOXY2aDZWOXptLTIgNGgtMnYtMmgydjJ6bTgtMlY5aC0yVjdjMC0xLjEtLjktMi0yLTJoLTJWM2gtMnYyaC0yVjNIOXYySDdjLTEuMSAwLTIgLjktMiAydjJIM3YyaDJ2MkgzdjJoMnYyYzAgMS4xLjkgMiAyIDJoMnYyaDJ2LTJoMnYyaDJ2LTJoMmMxLjEgMCAyLS45IDItMnYtMmgydi0yaC0ydi0yaDJ6bS00IDZIN1Y3aDEwdjEweiIvPgo8L3N2Zz4K);
  --jp-icon-keyboard: url(data:image/svg+xml;base64,PHN2ZyB4bWxucz0iaHR0cDovL3d3dy53My5vcmcvMjAwMC9zdmciIHdpZHRoPSIxNiIgdmlld0JveD0iMCAwIDI0IDI0Ij4KICA8cGF0aCBjbGFzcz0ianAtaWNvbjMganAtaWNvbi1zZWxlY3RhYmxlIiBmaWxsPSIjNjE2MTYxIiBkPSJNMjAgNUg0Yy0xLjEgMC0xLjk5LjktMS45OSAyTDIgMTdjMCAxLjEuOSAyIDIgMmgxNmMxLjEgMCAyLS45IDItMlY3YzAtMS4xLS45LTItMi0yem0tOSAzaDJ2MmgtMlY4em0wIDNoMnYyaC0ydi0yek04IDhoMnYySDhWOHptMCAzaDJ2Mkg4di0yem0tMSAySDV2LTJoMnYyem0wLTNINVY4aDJ2MnptOSA3SDh2LTJoOHYyem0wLTRoLTJ2LTJoMnYyem0wLTNoLTJWOGgydjJ6bTMgM2gtMnYtMmgydjJ6bTAtM2gtMlY4aDJ2MnoiLz4KPC9zdmc+Cg==);
  --jp-icon-launcher: url(data:image/svg+xml;base64,PHN2ZyB4bWxucz0iaHR0cDovL3d3dy53My5vcmcvMjAwMC9zdmciIHdpZHRoPSIxNiIgdmlld0JveD0iMCAwIDI0IDI0Ij4KICA8cGF0aCBjbGFzcz0ianAtaWNvbjMganAtaWNvbi1zZWxlY3RhYmxlIiBmaWxsPSIjNjE2MTYxIiBkPSJNMTkgMTlINVY1aDdWM0g1YTIgMiAwIDAwLTIgMnYxNGEyIDIgMCAwMDIgMmgxNGMxLjEgMCAyLS45IDItMnYtN2gtMnY3ek0xNCAzdjJoMy41OWwtOS44MyA5LjgzIDEuNDEgMS40MUwxOSA2LjQxVjEwaDJWM2gtN3oiLz4KPC9zdmc+Cg==);
  --jp-icon-line-form: url(data:image/svg+xml;base64,PHN2ZyB4bWxucz0iaHR0cDovL3d3dy53My5vcmcvMjAwMC9zdmciIHdpZHRoPSIxNiIgdmlld0JveD0iMCAwIDI0IDI0Ij4KICAgIDxwYXRoIGZpbGw9IndoaXRlIiBkPSJNNS44OCA0LjEyTDEzLjc2IDEybC03Ljg4IDcuODhMOCAyMmwxMC0xMEw4IDJ6Ii8+Cjwvc3ZnPgo=);
  --jp-icon-link: url(data:image/svg+xml;base64,PHN2ZyB2aWV3Qm94PSIwIDAgMjQgMjQiIHdpZHRoPSIxNiIgeG1sbnM9Imh0dHA6Ly93d3cudzMub3JnLzIwMDAvc3ZnIj4KICA8ZyBjbGFzcz0ianAtaWNvbjMiIGZpbGw9IiM2MTYxNjEiPgogICAgPHBhdGggZD0iTTMuOSAxMmMwLTEuNzEgMS4zOS0zLjEgMy4xLTMuMWg0VjdIN2MtMi43NiAwLTUgMi4yNC01IDVzMi4yNCA1IDUgNWg0di0xLjlIN2MtMS43MSAwLTMuMS0xLjM5LTMuMS0zLjF6TTggMTNoOHYtMkg4djJ6bTktNmgtNHYxLjloNGMxLjcxIDAgMy4xIDEuMzkgMy4xIDMuMXMtMS4zOSAzLjEtMy4xIDMuMWgtNFYxN2g0YzIuNzYgMCA1LTIuMjQgNS01cy0yLjI0LTUtNS01eiIvPgogIDwvZz4KPC9zdmc+Cg==);
  --jp-icon-list: url(data:image/svg+xml;base64,PHN2ZyB4bWxucz0iaHR0cDovL3d3dy53My5vcmcvMjAwMC9zdmciIHdpZHRoPSIxNiIgdmlld0JveD0iMCAwIDI0IDI0Ij4KICAgIDxwYXRoIGNsYXNzPSJqcC1pY29uMiBqcC1pY29uLXNlbGVjdGFibGUiIGZpbGw9IiM2MTYxNjEiIGQ9Ik0xOSA1djE0SDVWNWgxNG0xLjEtMkgzLjljLS41IDAtLjkuNC0uOS45djE2LjJjMCAuNC40LjkuOS45aDE2LjJjLjQgMCAuOS0uNS45LS45VjMuOWMwLS41LS41LS45LS45LS45ek0xMSA3aDZ2MmgtNlY3em0wIDRoNnYyaC02di0yem0wIDRoNnYyaC02ek03IDdoMnYySDd6bTAgNGgydjJIN3ptMCA0aDJ2Mkg3eiIvPgo8L3N2Zz4=);
  --jp-icon-listings-info: url(data:image/svg+xml;base64,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);
  --jp-icon-markdown: url(data:image/svg+xml;base64,PHN2ZyB4bWxucz0iaHR0cDovL3d3dy53My5vcmcvMjAwMC9zdmciIHdpZHRoPSIxNiIgdmlld0JveD0iMCAwIDIyIDIyIj4KICA8cGF0aCBjbGFzcz0ianAtaWNvbi1jb250cmFzdDAganAtaWNvbi1zZWxlY3RhYmxlIiBmaWxsPSIjN0IxRkEyIiBkPSJNNSAxNC45aDEybC02LjEgNnptOS40LTYuOGMwLTEuMy0uMS0yLjktLjEtNC41LS40IDEuNC0uOSAyLjktMS4zIDQuM2wtMS4zIDQuM2gtMkw4LjUgNy45Yy0uNC0xLjMtLjctMi45LTEtNC4zLS4xIDEuNi0uMSAzLjItLjIgNC42TDcgMTIuNEg0LjhsLjctMTFoMy4zTDEwIDVjLjQgMS4yLjcgMi43IDEgMy45LjMtMS4yLjctMi42IDEtMy45bDEuMi0zLjdoMy4zbC42IDExaC0yLjRsLS4zLTQuMnoiLz4KPC9zdmc+Cg==);
  --jp-icon-new-folder: url(data:image/svg+xml;base64,PHN2ZyB4bWxucz0iaHR0cDovL3d3dy53My5vcmcvMjAwMC9zdmciIHdpZHRoPSIxNiIgdmlld0JveD0iMCAwIDI0IDI0Ij4KICA8ZyBjbGFzcz0ianAtaWNvbjMiIGZpbGw9IiM2MTYxNjEiPgogICAgPHBhdGggZD0iTTIwIDZoLThsLTItMkg0Yy0xLjExIDAtMS45OS44OS0xLjk5IDJMMiAxOGMwIDEuMTEuODkgMiAyIDJoMTZjMS4xMSAwIDItLjg5IDItMlY4YzAtMS4xMS0uODktMi0yLTJ6bS0xIDhoLTN2M2gtMnYtM2gtM3YtMmgzVjloMnYzaDN2MnoiLz4KICA8L2c+Cjwvc3ZnPgo=);
  --jp-icon-not-trusted: url(data:image/svg+xml;base64,PHN2ZyBmaWxsPSJub25lIiB4bWxucz0iaHR0cDovL3d3dy53My5vcmcvMjAwMC9zdmciIHdpZHRoPSIxNiIgdmlld0JveD0iMCAwIDI1IDI1Ij4KICAgIDxwYXRoIGNsYXNzPSJqcC1pY29uMiIgc3Ryb2tlPSIjMzMzMzMzIiBzdHJva2Utd2lkdGg9IjIiIHRyYW5zZm9ybT0idHJhbnNsYXRlKDMgMykiIGQ9Ik0xLjg2MDk0IDExLjQ0MDlDMC44MjY0NDggOC43NzAyNyAwLjg2Mzc3OSA2LjA1NzY0IDEuMjQ5MDcgNC4xOTkzMkMyLjQ4MjA2IDMuOTMzNDcgNC4wODA2OCAzLjQwMzQ3IDUuNjAxMDIgMi44NDQ5QzcuMjM1NDkgMi4yNDQ0IDguODU2NjYgMS41ODE1IDkuOTg3NiAxLjA5NTM5QzExLjA1OTcgMS41ODM0MSAxMi42MDk0IDIuMjQ0NCAxNC4yMTggMi44NDMzOUMxNS43NTAzIDMuNDEzOTQgMTcuMzk5NSAzLjk1MjU4IDE4Ljc1MzkgNC4yMTM4NUMxOS4xMzY0IDYuMDcxNzcgMTkuMTcwOSA4Ljc3NzIyIDE4LjEzOSAxMS40NDA5QzE3LjAzMDMgMTQuMzAzMiAxNC42NjY4IDE3LjE4NDQgOS45OTk5OSAxOC45MzU0QzUuMzMzMTkgMTcuMTg0NCAyLjk2OTY4IDE0LjMwMzIgMS44NjA5NCAxMS40NDA5WiIvPgogICAgPHBhdGggY2xhc3M9ImpwLWljb24yIiBzdHJva2U9IiMzMzMzMzMiIHN0cm9rZS13aWR0aD0iMiIgdHJhbnNmb3JtPSJ0cmFuc2xhdGUoOS4zMTU5MiA5LjMyMDMxKSIgZD0iTTcuMzY4NDIgMEwwIDcuMzY0NzkiLz4KICAgIDxwYXRoIGNsYXNzPSJqcC1pY29uMiIgc3Ryb2tlPSIjMzMzMzMzIiBzdHJva2Utd2lkdGg9IjIiIHRyYW5zZm9ybT0idHJhbnNsYXRlKDkuMzE1OTIgMTYuNjgzNikgc2NhbGUoMSAtMSkiIGQ9Ik03LjM2ODQyIDBMMCA3LjM2NDc5Ii8+Cjwvc3ZnPgo=);
  --jp-icon-notebook: url(data:image/svg+xml;base64,PHN2ZyB4bWxucz0iaHR0cDovL3d3dy53My5vcmcvMjAwMC9zdmciIHdpZHRoPSIxNiIgdmlld0JveD0iMCAwIDIyIDIyIj4KICA8ZyBjbGFzcz0ianAtaWNvbi13YXJuMCBqcC1pY29uLXNlbGVjdGFibGUiIGZpbGw9IiNFRjZDMDAiPgogICAgPHBhdGggZD0iTTE4LjcgMy4zdjE1LjRIMy4zVjMuM2gxNS40bTEuNS0xLjVIMS44djE4LjNoMTguM2wuMS0xOC4zeiIvPgogICAgPHBhdGggZD0iTTE2LjUgMTYuNWwtNS40LTQuMy01LjYgNC4zdi0xMWgxMXoiLz4KICA8L2c+Cjwvc3ZnPgo=);
  --jp-icon-numbering: url(data:image/svg+xml;base64,PHN2ZyB3aWR0aD0iMjIiIGhlaWdodD0iMjIiIHZpZXdCb3g9IjAgMCAyOCAyOCIgeG1sbnM9Imh0dHA6Ly93d3cudzMub3JnLzIwMDAvc3ZnIj4KCTxnIGNsYXNzPSJqcC1pY29uMyIgZmlsbD0iIzYxNjE2MSI+CgkJPHBhdGggZD0iTTQgMTlINlYxOS41SDVWMjAuNUg2VjIxSDRWMjJIN1YxOEg0VjE5Wk01IDEwSDZWNkg0VjdINVYxMFpNNCAxM0g1LjhMNCAxNS4xVjE2SDdWMTVINS4yTDcgMTIuOVYxMkg0VjEzWk05IDdWOUgyM1Y3SDlaTTkgMjFIMjNWMTlIOVYyMVpNOSAxNUgyM1YxM0g5VjE1WiIvPgoJPC9nPgo8L3N2Zz4K);
  --jp-icon-offline-bolt: url(data:image/svg+xml;base64,PHN2ZyB4bWxucz0iaHR0cDovL3d3dy53My5vcmcvMjAwMC9zdmciIHZpZXdCb3g9IjAgMCAyNCAyNCIgd2lkdGg9IjE2Ij4KICA8ZyBjbGFzcz0ianAtaWNvbjMiIGZpbGw9IiM2MTYxNjEiPgogICAgPHBhdGggZD0iTTEyIDIuMDJjLTUuNTEgMC05Ljk4IDQuNDctOS45OCA5Ljk4czQuNDcgOS45OCA5Ljk4IDkuOTggOS45OC00LjQ3IDkuOTgtOS45OFMxNy41MSAyLjAyIDEyIDIuMDJ6TTExLjQ4IDIwdi02LjI2SDhMMTMgNHY2LjI2aDMuMzVMMTEuNDggMjB6Ii8+CiAgPC9nPgo8L3N2Zz4K);
  --jp-icon-palette: url(data:image/svg+xml;base64,PHN2ZyB4bWxucz0iaHR0cDovL3d3dy53My5vcmcvMjAwMC9zdmciIHdpZHRoPSIxNiIgdmlld0JveD0iMCAwIDI0IDI0Ij4KICA8ZyBjbGFzcz0ianAtaWNvbjMiIGZpbGw9IiM2MTYxNjEiPgogICAgPHBhdGggZD0iTTE4IDEzVjIwSDRWNkg5LjAyQzkuMDcgNS4yOSA5LjI0IDQuNjIgOS41IDRINEMyLjkgNCAyIDQuOSAyIDZWMjBDMiAyMS4xIDIuOSAyMiA0IDIySDE4QzE5LjEgMjIgMjAgMjEuMSAyMCAyMFYxNUwxOCAxM1pNMTkuMyA4Ljg5QzE5Ljc0IDguMTkgMjAgNy4zOCAyMCA2LjVDMjAgNC4wMSAxNy45OSAyIDE1LjUgMkMxMy4wMSAyIDExIDQuMDEgMTEgNi41QzExIDguOTkgMTMuMDEgMTEgMTUuNDkgMTFDMTYuMzcgMTEgMTcuMTkgMTAuNzQgMTcuODggMTAuM0wyMSAxMy40MkwyMi40MiAxMkwxOS4zIDguODlaTTE1LjUgOUMxNC4xMiA5IDEzIDcuODggMTMgNi41QzEzIDUuMTIgMTQuMTIgNCAxNS41IDRDMTYuODggNCAxOCA1LjEyIDE4IDYuNUMxOCA3Ljg4IDE2Ljg4IDkgMTUuNSA5WiIvPgogICAgPHBhdGggZmlsbC1ydWxlPSJldmVub2RkIiBjbGlwLXJ1bGU9ImV2ZW5vZGQiIGQ9Ik00IDZIOS4wMTg5NEM5LjAwNjM5IDYuMTY1MDIgOSA2LjMzMTc2IDkgNi41QzkgOC44MTU3NyAxMC4yMTEgMTAuODQ4NyAxMi4wMzQzIDEySDlWMTRIMTZWMTIuOTgxMUMxNi41NzAzIDEyLjkzNzcgMTcuMTIgMTIuODIwNyAxNy42Mzk2IDEyLjYzOTZMMTggMTNWMjBINFY2Wk04IDhINlYxMEg4VjhaTTYgMTJIOFYxNEg2VjEyWk04IDE2SDZWMThIOFYxNlpNOSAxNkgxNlYxOEg5VjE2WiIvPgogIDwvZz4KPC9zdmc+Cg==);
  --jp-icon-paste: url(data:image/svg+xml;base64,PHN2ZyBoZWlnaHQ9IjI0IiB2aWV3Qm94PSIwIDAgMjQgMjQiIHdpZHRoPSIyNCIgeG1sbnM9Imh0dHA6Ly93d3cudzMub3JnLzIwMDAvc3ZnIj4KICAgIDxnIGNsYXNzPSJqcC1pY29uMyIgZmlsbD0iIzYxNjE2MSI+CiAgICAgICAgPHBhdGggZD0iTTE5IDJoLTQuMThDMTQuNC44NCAxMy4zIDAgMTIgMGMtMS4zIDAtMi40Ljg0LTIuODIgMkg1Yy0xLjEgMC0yIC45LTIgMnYxNmMwIDEuMS45IDIgMiAyaDE0YzEuMSAwIDItLjkgMi0yVjRjMC0xLjEtLjktMi0yLTJ6bS03IDBjLjU1IDAgMSAuNDUgMSAxcy0uNDUgMS0xIDEtMS0uNDUtMS0xIC40NS0xIDEtMXptNyAxOEg1VjRoMnYzaDEwVjRoMnYxNnoiLz4KICAgIDwvZz4KPC9zdmc+Cg==);
  --jp-icon-pdf: url(data:image/svg+xml;base64,PHN2ZwogICB4bWxucz0iaHR0cDovL3d3dy53My5vcmcvMjAwMC9zdmciIHZpZXdCb3g9IjAgMCAyMiAyMiIgd2lkdGg9IjE2Ij4KICAgIDxwYXRoIHRyYW5zZm9ybT0icm90YXRlKDQ1KSIgY2xhc3M9ImpwLWljb24tc2VsZWN0YWJsZSIgZmlsbD0iI0ZGMkEyQSIKICAgICAgIGQ9Im0gMjIuMzQ0MzY5LC0zLjAxNjM2NDIgaCA1LjYzODYwNCB2IDEuNTc5MjQzMyBoIC0zLjU0OTIyNyB2IDEuNTA4NjkyOTkgaCAzLjMzNzU3NiBWIDEuNjUwODE1NCBoIC0zLjMzNzU3NiB2IDMuNDM1MjYxMyBoIC0yLjA4OTM3NyB6IG0gLTcuMTM2NDQ0LDEuNTc5MjQzMyB2IDQuOTQzOTU0MyBoIDAuNzQ4OTIgcSAxLjI4MDc2MSwwIDEuOTUzNzAzLC0wLjYzNDk1MzUgMC42NzgzNjksLTAuNjM0OTUzNSAwLjY3ODM2OSwtMS44NDUxNjQxIDAsLTEuMjA0NzgzNTUgLTAuNjcyOTQyLC0xLjgzNDMxMDExIC0wLjY3Mjk0MiwtMC42Mjk1MjY1OSAtMS45NTkxMywtMC42Mjk1MjY1OSB6IG0gLTIuMDg5Mzc3LC0xLjU3OTI0MzMgaCAyLjIwMzM0MyBxIDEuODQ1MTY0LDAgMi43NDYwMzksMC4yNjU5MjA3IDAuOTA2MzAxLDAuMjYwNDkzNyAxLjU1MjEwOCwwLjg5MDAyMDMgMC41Njk4MywwLjU0ODEyMjMgMC44NDY2MDUsMS4yNjQ0ODAwNiAwLjI3Njc3NCwwLjcxNjM1NzgxIDAuMjc2Nzc0LDEuNjIyNjU4OTQgMCwwLjkxNzE1NTEgLTAuMjc2Nzc0LDEuNjM4OTM5OSAtMC4yNzY3NzUsMC43MTYzNTc4IC0wLjg0NjYwNSwxLjI2NDQ4IC0wLjY1MTIzNCwwLjYyOTUyNjYgLTEuNTYyOTYyLDAuODk1NDQ3MyAtMC45MTE3MjgsMC4yNjA0OTM3IC0yLjczNTE4NSwwLjI2MDQ5MzcgaCAtMi4yMDMzNDMgeiBtIC04LjE0NTg1NjUsMCBoIDMuNDY3ODIzIHEgMS41NDY2ODE2LDAgMi4zNzE1Nzg1LDAuNjg5MjIzIDAuODMwMzI0LDAuNjgzNzk2MSAwLjgzMDMyNCwxLjk1MzcwMzE0IDAsMS4yNzUzMzM5NyAtMC44MzAzMjQsMS45NjQ1NTcwNiBRIDkuOTg3MTk2MSwyLjI3NDkxNSA4LjQ0MDUxNDUsMi4yNzQ5MTUgSCA3LjA2MjA2ODQgViA1LjA4NjA3NjcgSCA0Ljk3MjY5MTUgWiBtIDIuMDg5Mzc2OSwxLjUxNDExOTkgdiAyLjI2MzAzOTQzIGggMS4xNTU5NDEgcSAwLjYwNzgxODgsMCAwLjkzODg2MjksLTAuMjkzMDU1NDcgMC4zMzEwNDQxLC0wLjI5ODQ4MjQxIDAuMzMxMDQ0MSwtMC44NDExNzc3MiAwLC0wLjU0MjY5NTMxIC0wLjMzMTA0NDEsLTAuODM1NzUwNzQgLTAuMzMxMDQ0MSwtMC4yOTMwNTU1IC0wLjkzODg2MjksLTAuMjkzMDU1NSB6IgovPgo8L3N2Zz4K);
  --jp-icon-python: url(data:image/svg+xml;base64,PHN2ZyB4bWxucz0iaHR0cDovL3d3dy53My5vcmcvMjAwMC9zdmciIHdpZHRoPSIxNiIgdmlld0JveD0iMCAwIDIyIDIyIj4KICA8ZyBjbGFzcz0ianAtaWNvbi1icmFuZDAganAtaWNvbi1zZWxlY3RhYmxlIiBmaWxsPSIjMEQ0N0ExIj4KICAgIDxwYXRoIGQ9Ik0xMS4xIDYuOVY1LjhINi45YzAtLjUgMC0xLjMuMi0xLjYuNC0uNy44LTEuMSAxLjctMS40IDEuNy0uMyAyLjUtLjMgMy45LS4xIDEgLjEgMS45LjkgMS45IDEuOXY0LjJjMCAuNS0uOSAxLjYtMiAxLjZIOC44Yy0xLjUgMC0yLjQgMS40LTIuNCAyLjh2Mi4ySDQuN0MzLjUgMTUuMSAzIDE0IDMgMTMuMVY5Yy0uMS0xIC42LTIgMS44LTIgMS41LS4xIDYuMy0uMSA2LjMtLjF6Ii8+CiAgICA8cGF0aCBkPSJNMTAuOSAxNS4xdjEuMWg0LjJjMCAuNSAwIDEuMy0uMiAxLjYtLjQuNy0uOCAxLjEtMS43IDEuNC0xLjcuMy0yLjUuMy0zLjkuMS0xLS4xLTEuOS0uOS0xLjktMS45di00LjJjMC0uNS45LTEuNiAyLTEuNmgzLjhjMS41IDAgMi40LTEuNCAyLjQtMi44VjYuNmgxLjdDMTguNSA2LjkgMTkgOCAxOSA4LjlWMTNjMCAxLS43IDIuMS0xLjkgMi4xaC02LjJ6Ii8+CiAgPC9nPgo8L3N2Zz4K);
  --jp-icon-r-kernel: url(data:image/svg+xml;base64,PHN2ZyB4bWxucz0iaHR0cDovL3d3dy53My5vcmcvMjAwMC9zdmciIHdpZHRoPSIxNiIgdmlld0JveD0iMCAwIDIyIDIyIj4KICA8cGF0aCBjbGFzcz0ianAtaWNvbi1jb250cmFzdDMganAtaWNvbi1zZWxlY3RhYmxlIiBmaWxsPSIjMjE5NkYzIiBkPSJNNC40IDIuNWMxLjItLjEgMi45LS4zIDQuOS0uMyAyLjUgMCA0LjEuNCA1LjIgMS4zIDEgLjcgMS41IDEuOSAxLjUgMy41IDAgMi0xLjQgMy41LTIuOSA0LjEgMS4yLjQgMS43IDEuNiAyLjIgMyAuNiAxLjkgMSAzLjkgMS4zIDQuNmgtMy44Yy0uMy0uNC0uOC0xLjctMS4yLTMuN3MtMS4yLTIuNi0yLjYtMi42aC0uOXY2LjRINC40VjIuNXptMy43IDYuOWgxLjRjMS45IDAgMi45LS45IDIuOS0yLjNzLTEtMi4zLTIuOC0yLjNjLS43IDAtMS4zIDAtMS42LjJ2NC41aC4xdi0uMXoiLz4KPC9zdmc+Cg==);
  --jp-icon-react: url(data:image/svg+xml;base64,PHN2ZyB4bWxucz0iaHR0cDovL3d3dy53My5vcmcvMjAwMC9zdmciIHdpZHRoPSIxNiIgdmlld0JveD0iMTUwIDE1MCA1NDEuOSAyOTUuMyI+CiAgPGcgY2xhc3M9ImpwLWljb24tYnJhbmQyIGpwLWljb24tc2VsZWN0YWJsZSIgZmlsbD0iIzYxREFGQiI+CiAgICA8cGF0aCBkPSJNNjY2LjMgMjk2LjVjMC0zMi41LTQwLjctNjMuMy0xMDMuMS04Mi40IDE0LjQtNjMuNiA4LTExNC4yLTIwLjItMTMwLjQtNi41LTMuOC0xNC4xLTUuNi0yMi40LTUuNnYyMi4zYzQuNiAwIDguMy45IDExLjQgMi42IDEzLjYgNy44IDE5LjUgMzcuNSAxNC45IDc1LjctMS4xIDkuNC0yLjkgMTkuMy01LjEgMjkuNC0xOS42LTQuOC00MS04LjUtNjMuNS0xMC45LTEzLjUtMTguNS0yNy41LTM1LjMtNDEuNi01MCAzMi42LTMwLjMgNjMuMi00Ni45IDg0LTQ2LjlWNzhjLTI3LjUgMC02My41IDE5LjYtOTkuOSA1My42LTM2LjQtMzMuOC03Mi40LTUzLjItOTkuOS01My4ydjIyLjNjMjAuNyAwIDUxLjQgMTYuNSA4NCA0Ni42LTE0IDE0LjctMjggMzEuNC00MS4zIDQ5LjktMjIuNiAyLjQtNDQgNi4xLTYzLjYgMTEtMi4zLTEwLTQtMTkuNy01LjItMjktNC43LTM4LjIgMS4xLTY3LjkgMTQuNi03NS44IDMtMS44IDYuOS0yLjYgMTEuNS0yLjZWNzguNWMtOC40IDAtMTYgMS44LTIyLjYgNS42LTI4LjEgMTYuMi0zNC40IDY2LjctMTkuOSAxMzAuMS02Mi4yIDE5LjItMTAyLjcgNDkuOS0xMDIuNyA4Mi4zIDAgMzIuNSA0MC43IDYzLjMgMTAzLjEgODIuNC0xNC40IDYzLjYtOCAxMTQuMiAyMC4yIDEzMC40IDYuNSAzLjggMTQuMSA1LjYgMjIuNSA1LjYgMjcuNSAwIDYzLjUtMTkuNiA5OS45LTUzLjYgMzYuNCAzMy44IDcyLjQgNTMuMiA5OS45IDUzLjIgOC40IDAgMTYtMS44IDIyLjYtNS42IDI4LjEtMTYuMiAzNC40LTY2LjcgMTkuOS0xMzAuMSA2Mi0xOS4xIDEwMi41LTQ5LjkgMTAyLjUtODIuM3ptLTEzMC4yLTY2LjdjLTMuNyAxMi45LTguMyAyNi4yLTEzLjUgMzkuNS00LjEtOC04LjQtMTYtMTMuMS0yNC00LjYtOC05LjUtMTUuOC0xNC40LTIzLjQgMTQuMiAyLjEgMjcuOSA0LjcgNDEgNy45em0tNDUuOCAxMDYuNWMtNy44IDEzLjUtMTUuOCAyNi4zLTI0LjEgMzguMi0xNC45IDEuMy0zMCAyLTQ1LjIgMi0xNS4xIDAtMzAuMi0uNy00NS0xLjktOC4zLTExLjktMTYuNC0yNC42LTI0LjItMzgtNy42LTEzLjEtMTQuNS0yNi40LTIwLjgtMzkuOCA2LjItMTMuNCAxMy4yLTI2LjggMjAuNy0zOS45IDcuOC0xMy41IDE1LjgtMjYuMyAyNC4xLTM4LjIgMTQuOS0xLjMgMzAtMiA0NS4yLTIgMTUuMSAwIDMwLjIuNyA0NSAxLjkgOC4zIDExLjkgMTYuNCAyNC42IDI0LjIgMzggNy42IDEzLjEgMTQuNSAyNi40IDIwLjggMzkuOC02LjMgMTMuNC0xMy4yIDI2LjgtMjAuNyAzOS45em0zMi4zLTEzYzUuNCAxMy40IDEwIDI2LjggMTMuOCAzOS44LTEzLjEgMy4yLTI2LjkgNS45LTQxLjIgOCA0LjktNy43IDkuOC0xNS42IDE0LjQtMjMuNyA0LjYtOCA4LjktMTYuMSAxMy0yNC4xek00MjEuMiA0MzBjLTkuMy05LjYtMTguNi0yMC4zLTI3LjgtMzIgOSAuNCAxOC4yLjcgMjcuNS43IDkuNCAwIDE4LjctLjIgMjcuOC0uNy05IDExLjctMTguMyAyMi40LTI3LjUgMzJ6bS03NC40LTU4LjljLTE0LjItMi4xLTI3LjktNC43LTQxLTcuOSAzLjctMTIuOSA4LjMtMjYuMiAxMy41LTM5LjUgNC4xIDggOC40IDE2IDEzLjEgMjQgNC43IDggOS41IDE1LjggMTQuNCAyMy40ek00MjAuNyAxNjNjOS4zIDkuNiAxOC42IDIwLjMgMjcuOCAzMi05LS40LTE4LjItLjctMjcuNS0uNy05LjQgMC0xOC43LjItMjcuOC43IDktMTEuNyAxOC4zLTIyLjQgMjcuNS0zMnptLTc0IDU4LjljLTQuOSA3LjctOS44IDE1LjYtMTQuNCAyMy43LTQuNiA4LTguOSAxNi0xMyAyNC01LjQtMTMuNC0xMC0yNi44LTEzLjgtMzkuOCAxMy4xLTMuMSAyNi45LTUuOCA0MS4yLTcuOXptLTkwLjUgMTI1LjJjLTM1LjQtMTUuMS01OC4zLTM0LjktNTguMy01MC42IDAtMTUuNyAyMi45LTM1LjYgNTguMy01MC42IDguNi0zLjcgMTgtNyAyNy43LTEwLjEgNS43IDE5LjYgMTMuMiA0MCAyMi41IDYwLjktOS4yIDIwLjgtMTYuNiA0MS4xLTIyLjIgNjAuNi05LjktMy4xLTE5LjMtNi41LTI4LTEwLjJ6TTMxMCA0OTBjLTEzLjYtNy44LTE5LjUtMzcuNS0xNC45LTc1LjcgMS4xLTkuNCAyLjktMTkuMyA1LjEtMjkuNCAxOS42IDQuOCA0MSA4LjUgNjMuNSAxMC45IDEzLjUgMTguNSAyNy41IDM1LjMgNDEuNiA1MC0zMi42IDMwLjMtNjMuMiA0Ni45LTg0IDQ2LjktNC41LS4xLTguMy0xLTExLjMtMi43em0yMzcuMi03Ni4yYzQuNyAzOC4yLTEuMSA2Ny45LTE0LjYgNzUuOC0zIDEuOC02LjkgMi42LTExLjUgMi42LTIwLjcgMC01MS40LTE2LjUtODQtNDYuNiAxNC0xNC43IDI4LTMxLjQgNDEuMy00OS45IDIyLjYtMi40IDQ0LTYuMSA2My42LTExIDIuMyAxMC4xIDQuMSAxOS44IDUuMiAyOS4xem0zOC41LTY2LjdjLTguNiAzLjctMTggNy0yNy43IDEwLjEtNS43LTE5LjYtMTMuMi00MC0yMi41LTYwLjkgOS4yLTIwLjggMTYuNi00MS4xIDIyLjItNjAuNiA5LjkgMy4xIDE5LjMgNi41IDI4LjEgMTAuMiAzNS40IDE1LjEgNTguMyAzNC45IDU4LjMgNTAuNi0uMSAxNS43LTIzIDM1LjYtNTguNCA1MC42ek0zMjAuOCA3OC40eiIvPgogICAgPGNpcmNsZSBjeD0iNDIwLjkiIGN5PSIyOTYuNSIgcj0iNDUuNyIvPgogIDwvZz4KPC9zdmc+Cg==);
  --jp-icon-redo: url(data:image/svg+xml;base64,PHN2ZyB4bWxucz0iaHR0cDovL3d3dy53My5vcmcvMjAwMC9zdmciIGhlaWdodD0iMjQiIHZpZXdCb3g9IjAgMCAyNCAyNCIgd2lkdGg9IjE2Ij4KICA8ZyBjbGFzcz0ianAtaWNvbjMiIGZpbGw9IiM2MTYxNjEiPgogICAgICA8cGF0aCBkPSJNMCAwaDI0djI0SDB6IiBmaWxsPSJub25lIi8+PHBhdGggZD0iTTE4LjQgMTAuNkMxNi41NSA4Ljk5IDE0LjE1IDggMTEuNSA4Yy00LjY1IDAtOC41OCAzLjAzLTkuOTYgNy4yMkwzLjkgMTZjMS4wNS0zLjE5IDQuMDUtNS41IDcuNi01LjUgMS45NSAwIDMuNzMuNzIgNS4xMiAxLjg4TDEzIDE2aDlWN2wtMy42IDMuNnoiLz4KICA8L2c+Cjwvc3ZnPgo=);
  --jp-icon-refresh: url(data:image/svg+xml;base64,PHN2ZyB4bWxucz0iaHR0cDovL3d3dy53My5vcmcvMjAwMC9zdmciIHdpZHRoPSIxNiIgdmlld0JveD0iMCAwIDE4IDE4Ij4KICAgIDxnIGNsYXNzPSJqcC1pY29uMyIgZmlsbD0iIzYxNjE2MSI+CiAgICAgICAgPHBhdGggZD0iTTkgMTMuNWMtMi40OSAwLTQuNS0yLjAxLTQuNS00LjVTNi41MSA0LjUgOSA0LjVjMS4yNCAwIDIuMzYuNTIgMy4xNyAxLjMzTDEwIDhoNVYzbC0xLjc2IDEuNzZDMTIuMTUgMy42OCAxMC42NiAzIDkgMyA1LjY5IDMgMy4wMSA1LjY5IDMuMDEgOVM1LjY5IDE1IDkgMTVjMi45NyAwIDUuNDMtMi4xNiA1LjktNWgtMS41MmMtLjQ2IDItMi4yNCAzLjUtNC4zOCAzLjV6Ii8+CiAgICA8L2c+Cjwvc3ZnPgo=);
  --jp-icon-regex: url(data:image/svg+xml;base64,PHN2ZyB4bWxucz0iaHR0cDovL3d3dy53My5vcmcvMjAwMC9zdmciIHdpZHRoPSIxNiIgdmlld0JveD0iMCAwIDIwIDIwIj4KICA8ZyBjbGFzcz0ianAtaWNvbjIiIGZpbGw9IiM0MTQxNDEiPgogICAgPHJlY3QgeD0iMiIgeT0iMiIgd2lkdGg9IjE2IiBoZWlnaHQ9IjE2Ii8+CiAgPC9nPgoKICA8ZyBjbGFzcz0ianAtaWNvbi1hY2NlbnQyIiBmaWxsPSIjRkZGIj4KICAgIDxjaXJjbGUgY2xhc3M9InN0MiIgY3g9IjUuNSIgY3k9IjE0LjUiIHI9IjEuNSIvPgogICAgPHJlY3QgeD0iMTIiIHk9IjQiIGNsYXNzPSJzdDIiIHdpZHRoPSIxIiBoZWlnaHQ9IjgiLz4KICAgIDxyZWN0IHg9IjguNSIgeT0iNy41IiB0cmFuc2Zvcm09Im1hdHJpeCgwLjg2NiAtMC41IDAuNSAwLjg2NiAtMi4zMjU1IDcuMzIxOSkiIGNsYXNzPSJzdDIiIHdpZHRoPSI4IiBoZWlnaHQ9IjEiLz4KICAgIDxyZWN0IHg9IjEyIiB5PSI0IiB0cmFuc2Zvcm09Im1hdHJpeCgwLjUgLTAuODY2IDAuODY2IDAuNSAtMC42Nzc5IDE0LjgyNTIpIiBjbGFzcz0ic3QyIiB3aWR0aD0iMSIgaGVpZ2h0PSI4Ii8+CiAgPC9nPgo8L3N2Zz4K);
  --jp-icon-run: url(data:image/svg+xml;base64,PHN2ZyBoZWlnaHQ9IjI0IiB2aWV3Qm94PSIwIDAgMjQgMjQiIHdpZHRoPSIyNCIgeG1sbnM9Imh0dHA6Ly93d3cudzMub3JnLzIwMDAvc3ZnIj4KICAgIDxnIGNsYXNzPSJqcC1pY29uMyIgZmlsbD0iIzYxNjE2MSI+CiAgICAgICAgPHBhdGggZD0iTTggNXYxNGwxMS03eiIvPgogICAgPC9nPgo8L3N2Zz4K);
  --jp-icon-running: url(data:image/svg+xml;base64,PHN2ZyB4bWxucz0iaHR0cDovL3d3dy53My5vcmcvMjAwMC9zdmciIHdpZHRoPSIxNiIgdmlld0JveD0iMCAwIDUxMiA1MTIiPgogIDxnIGNsYXNzPSJqcC1pY29uMyIgZmlsbD0iIzYxNjE2MSI+CiAgICA8cGF0aCBkPSJNMjU2IDhDMTE5IDggOCAxMTkgOCAyNTZzMTExIDI0OCAyNDggMjQ4IDI0OC0xMTEgMjQ4LTI0OFMzOTMgOCAyNTYgOHptOTYgMzI4YzAgOC44LTcuMiAxNi0xNiAxNkgxNzZjLTguOCAwLTE2LTcuMi0xNi0xNlYxNzZjMC04LjggNy4yLTE2IDE2LTE2aDE2MGM4LjggMCAxNiA3LjIgMTYgMTZ2MTYweiIvPgogIDwvZz4KPC9zdmc+Cg==);
  --jp-icon-save: url(data:image/svg+xml;base64,PHN2ZyBoZWlnaHQ9IjI0IiB2aWV3Qm94PSIwIDAgMjQgMjQiIHdpZHRoPSIyNCIgeG1sbnM9Imh0dHA6Ly93d3cudzMub3JnLzIwMDAvc3ZnIj4KICAgIDxnIGNsYXNzPSJqcC1pY29uMyIgZmlsbD0iIzYxNjE2MSI+CiAgICAgICAgPHBhdGggZD0iTTE3IDNINWMtMS4xMSAwLTIgLjktMiAydjE0YzAgMS4xLjg5IDIgMiAyaDE0YzEuMSAwIDItLjkgMi0yVjdsLTQtNHptLTUgMTZjLTEuNjYgMC0zLTEuMzQtMy0zczEuMzQtMyAzLTMgMyAxLjM0IDMgMy0xLjM0IDMtMyAzem0zLTEwSDVWNWgxMHY0eiIvPgogICAgPC9nPgo8L3N2Zz4K);
  --jp-icon-search: url(data:image/svg+xml;base64,PHN2ZyB2aWV3Qm94PSIwIDAgMTggMTgiIHdpZHRoPSIxNiIgeG1sbnM9Imh0dHA6Ly93d3cudzMub3JnLzIwMDAvc3ZnIj4KICA8ZyBjbGFzcz0ianAtaWNvbjMiIGZpbGw9IiM2MTYxNjEiPgogICAgPHBhdGggZD0iTTEyLjEsMTAuOWgtMC43bC0wLjItMC4yYzAuOC0wLjksMS4zLTIuMiwxLjMtMy41YzAtMy0yLjQtNS40LTUuNC01LjRTMS44LDQuMiwxLjgsNy4xczIuNCw1LjQsNS40LDUuNCBjMS4zLDAsMi41LTAuNSwzLjUtMS4zbDAuMiwwLjJ2MC43bDQuMSw0LjFsMS4yLTEuMkwxMi4xLDEwLjl6IE03LjEsMTAuOWMtMi4xLDAtMy43LTEuNy0zLjctMy43czEuNy0zLjcsMy43LTMuN3MzLjcsMS43LDMuNywzLjcgUzkuMiwxMC45LDcuMSwxMC45eiIvPgogIDwvZz4KPC9zdmc+Cg==);
  --jp-icon-settings: url(data:image/svg+xml;base64,PHN2ZyB4bWxucz0iaHR0cDovL3d3dy53My5vcmcvMjAwMC9zdmciIHdpZHRoPSIxNiIgdmlld0JveD0iMCAwIDI0IDI0Ij4KICA8cGF0aCBjbGFzcz0ianAtaWNvbjMganAtaWNvbi1zZWxlY3RhYmxlIiBmaWxsPSIjNjE2MTYxIiBkPSJNMTkuNDMgMTIuOThjLjA0LS4zMi4wNy0uNjQuMDctLjk4cy0uMDMtLjY2LS4wNy0uOThsMi4xMS0xLjY1Yy4xOS0uMTUuMjQtLjQyLjEyLS42NGwtMi0zLjQ2Yy0uMTItLjIyLS4zOS0uMy0uNjEtLjIybC0yLjQ5IDFjLS41Mi0uNC0xLjA4LS43My0xLjY5LS45OGwtLjM4LTIuNjVBLjQ4OC40ODggMCAwMDE0IDJoLTRjLS4yNSAwLS40Ni4xOC0uNDkuNDJsLS4zOCAyLjY1Yy0uNjEuMjUtMS4xNy41OS0xLjY5Ljk4bC0yLjQ5LTFjLS4yMy0uMDktLjQ5IDAtLjYxLjIybC0yIDMuNDZjLS4xMy4yMi0uMDcuNDkuMTIuNjRsMi4xMSAxLjY1Yy0uMDQuMzItLjA3LjY1LS4wNy45OHMuMDMuNjYuMDcuOThsLTIuMTEgMS42NWMtLjE5LjE1LS4yNC40Mi0uMTIuNjRsMiAzLjQ2Yy4xMi4yMi4zOS4zLjYxLjIybDIuNDktMWMuNTIuNCAxLjA4LjczIDEuNjkuOThsLjM4IDIuNjVjLjAzLjI0LjI0LjQyLjQ5LjQyaDRjLjI1IDAgLjQ2LS4xOC40OS0uNDJsLjM4LTIuNjVjLjYxLS4yNSAxLjE3LS41OSAxLjY5LS45OGwyLjQ5IDFjLjIzLjA5LjQ5IDAgLjYxLS4yMmwyLTMuNDZjLjEyLS4yMi4wNy0uNDktLjEyLS42NGwtMi4xMS0xLjY1ek0xMiAxNS41Yy0xLjkzIDAtMy41LTEuNTctMy41LTMuNXMxLjU3LTMuNSAzLjUtMy41IDMuNSAxLjU3IDMuNSAzLjUtMS41NyAzLjUtMy41IDMuNXoiLz4KPC9zdmc+Cg==);
  --jp-icon-spreadsheet: url(data:image/svg+xml;base64,PHN2ZyB4bWxucz0iaHR0cDovL3d3dy53My5vcmcvMjAwMC9zdmciIHdpZHRoPSIxNiIgdmlld0JveD0iMCAwIDIyIDIyIj4KICA8cGF0aCBjbGFzcz0ianAtaWNvbi1jb250cmFzdDEganAtaWNvbi1zZWxlY3RhYmxlIiBmaWxsPSIjNENBRjUwIiBkPSJNMi4yIDIuMnYxNy42aDE3LjZWMi4ySDIuMnptMTUuNCA3LjdoLTUuNVY0LjRoNS41djUuNXpNOS45IDQuNHY1LjVINC40VjQuNGg1LjV6bS01LjUgNy43aDUuNXY1LjVINC40di01LjV6bTcuNyA1LjV2LTUuNWg1LjV2NS41aC01LjV6Ii8+Cjwvc3ZnPgo=);
  --jp-icon-stop: url(data:image/svg+xml;base64,PHN2ZyBoZWlnaHQ9IjI0IiB2aWV3Qm94PSIwIDAgMjQgMjQiIHdpZHRoPSIyNCIgeG1sbnM9Imh0dHA6Ly93d3cudzMub3JnLzIwMDAvc3ZnIj4KICAgIDxnIGNsYXNzPSJqcC1pY29uMyIgZmlsbD0iIzYxNjE2MSI+CiAgICAgICAgPHBhdGggZD0iTTAgMGgyNHYyNEgweiIgZmlsbD0ibm9uZSIvPgogICAgICAgIDxwYXRoIGQ9Ik02IDZoMTJ2MTJINnoiLz4KICAgIDwvZz4KPC9zdmc+Cg==);
  --jp-icon-tab: url(data:image/svg+xml;base64,PHN2ZyB4bWxucz0iaHR0cDovL3d3dy53My5vcmcvMjAwMC9zdmciIHdpZHRoPSIxNiIgdmlld0JveD0iMCAwIDI0IDI0Ij4KICA8ZyBjbGFzcz0ianAtaWNvbjMiIGZpbGw9IiM2MTYxNjEiPgogICAgPHBhdGggZD0iTTIxIDNIM2MtMS4xIDAtMiAuOS0yIDJ2MTRjMCAxLjEuOSAyIDIgMmgxOGMxLjEgMCAyLS45IDItMlY1YzAtMS4xLS45LTItMi0yem0wIDE2SDNWNWgxMHY0aDh2MTB6Ii8+CiAgPC9nPgo8L3N2Zz4K);
  --jp-icon-table-rows: url(data:image/svg+xml;base64,PHN2ZyBoZWlnaHQ9IjI0IiB2aWV3Qm94PSIwIDAgMjQgMjQiIHdpZHRoPSIyNCIgeG1sbnM9Imh0dHA6Ly93d3cudzMub3JnLzIwMDAvc3ZnIj4KICAgIDxnIGNsYXNzPSJqcC1pY29uMyIgZmlsbD0iIzYxNjE2MSI+CiAgICAgICAgPHBhdGggZD0iTTAgMGgyNHYyNEgweiIgZmlsbD0ibm9uZSIvPgogICAgICAgIDxwYXRoIGQ9Ik0yMSw4SDNWNGgxOFY4eiBNMjEsMTBIM3Y0aDE4VjEweiBNMjEsMTZIM3Y0aDE4VjE2eiIvPgogICAgPC9nPgo8L3N2Zz4=);
  --jp-icon-tag: url(data:image/svg+xml;base64,PHN2ZyB3aWR0aD0iMjgiIGhlaWdodD0iMjgiIHZpZXdCb3g9IjAgMCA0MyAyOCIgeG1sbnM9Imh0dHA6Ly93d3cudzMub3JnLzIwMDAvc3ZnIj4KCTxnIGNsYXNzPSJqcC1pY29uMyIgZmlsbD0iIzYxNjE2MSI+CgkJPHBhdGggZD0iTTI4LjgzMzIgMTIuMzM0TDMyLjk5OTggMTYuNTAwN0wzNy4xNjY1IDEyLjMzNEgyOC44MzMyWiIvPgoJCTxwYXRoIGQ9Ik0xNi4yMDk1IDIxLjYxMDRDMTUuNjg3MyAyMi4xMjk5IDE0Ljg0NDMgMjIuMTI5OSAxNC4zMjQ4IDIxLjYxMDRMNi45ODI5IDE0LjcyNDVDNi41NzI0IDE0LjMzOTQgNi4wODMxMyAxMy42MDk4IDYuMDQ3ODYgMTMuMDQ4MkM1Ljk1MzQ3IDExLjUyODggNi4wMjAwMiA4LjYxOTQ0IDYuMDY2MjEgNy4wNzY5NUM2LjA4MjgxIDYuNTE0NzcgNi41NTU0OCA2LjA0MzQ3IDcuMTE4MDQgNi4wMzA1NUM5LjA4ODYzIDUuOTg0NzMgMTMuMjYzOCA1LjkzNTc5IDEzLjY1MTggNi4zMjQyNUwyMS43MzY5IDEzLjYzOUMyMi4yNTYgMTQuMTU4NSAyMS43ODUxIDE1LjQ3MjQgMjEuMjYyIDE1Ljk5NDZMMTYuMjA5NSAyMS42MTA0Wk05Ljc3NTg1IDguMjY1QzkuMzM1NTEgNy44MjU2NiA4LjYyMzUxIDcuODI1NjYgOC4xODI4IDguMjY1QzcuNzQzNDYgOC43MDU3MSA3Ljc0MzQ2IDkuNDE3MzMgOC4xODI4IDkuODU2NjdDOC42MjM4MiAxMC4yOTY0IDkuMzM1ODIgMTAuMjk2NCA5Ljc3NTg1IDkuODU2NjdDMTAuMjE1NiA5LjQxNzMzIDEwLjIxNTYgOC43MDUzMyA5Ljc3NTg1IDguMjY1WiIvPgoJPC9nPgo8L3N2Zz4K);
  --jp-icon-terminal: url(data:image/svg+xml;base64,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);
  --jp-icon-text-editor: url(data:image/svg+xml;base64,PHN2ZyB4bWxucz0iaHR0cDovL3d3dy53My5vcmcvMjAwMC9zdmciIHdpZHRoPSIxNiIgdmlld0JveD0iMCAwIDI0IDI0Ij4KICA8cGF0aCBjbGFzcz0ianAtaWNvbjMganAtaWNvbi1zZWxlY3RhYmxlIiBmaWxsPSIjNjE2MTYxIiBkPSJNMTUgMTVIM3YyaDEydi0yem0wLThIM3YyaDEyVjd6TTMgMTNoMTh2LTJIM3Yyem0wIDhoMTh2LTJIM3Yyek0zIDN2MmgxOFYzSDN6Ii8+Cjwvc3ZnPgo=);
  --jp-icon-toc: url(data:image/svg+xml;base64,PHN2ZyB4bWxucz0iaHR0cDovL3d3dy53My5vcmcvMjAwMC9zdmciIHdpZHRoPSIyNCIgaGVpZ2h0PSIyNCIgdmlld0JveD0iMCAwIDI0IDI0Ij4KICA8ZyBjbGFzcz0ianAtaWNvbjMganAtaWNvbi1zZWxlY3RhYmxlIiBmaWxsPSIjNjE2MTYxIj4KICAgIDxwYXRoIGQ9Ik03LDVIMjFWN0g3VjVNNywxM1YxMUgyMVYxM0g3TTQsNC41QTEuNSwxLjUgMCAwLDEgNS41LDZBMS41LDEuNSAwIDAsMSA0LDcuNUExLjUsMS41IDAgMCwxIDIuNSw2QTEuNSwxLjUgMCAwLDEgNCw0LjVNNCwxMC41QTEuNSwxLjUgMCAwLDEgNS41LDEyQTEuNSwxLjUgMCAwLDEgNCwxMy41QTEuNSwxLjUgMCAwLDEgMi41LDEyQTEuNSwxLjUgMCAwLDEgNCwxMC41TTcsMTlWMTdIMjFWMTlIN000LDE2LjVBMS41LDEuNSAwIDAsMSA1LjUsMThBMS41LDEuNSAwIDAsMSA0LDE5LjVBMS41LDEuNSAwIDAsMSAyLjUsMThBMS41LDEuNSAwIDAsMSA0LDE2LjVaIiAvPgogIDwvZz4KPC9zdmc+Cg==);
  --jp-icon-tree-view: url(data:image/svg+xml;base64,PHN2ZyBoZWlnaHQ9IjI0IiB2aWV3Qm94PSIwIDAgMjQgMjQiIHdpZHRoPSIyNCIgeG1sbnM9Imh0dHA6Ly93d3cudzMub3JnLzIwMDAvc3ZnIj4KICAgIDxnIGNsYXNzPSJqcC1pY29uMyIgZmlsbD0iIzYxNjE2MSI+CiAgICAgICAgPHBhdGggZD0iTTAgMGgyNHYyNEgweiIgZmlsbD0ibm9uZSIvPgogICAgICAgIDxwYXRoIGQ9Ik0yMiAxMVYzaC03djNIOVYzSDJ2OGg3VjhoMnYxMGg0djNoN3YtOGgtN3YzaC0yVjhoMnYzeiIvPgogICAgPC9nPgo8L3N2Zz4=);
  --jp-icon-trusted: url(data:image/svg+xml;base64,PHN2ZyBmaWxsPSJub25lIiB4bWxucz0iaHR0cDovL3d3dy53My5vcmcvMjAwMC9zdmciIHdpZHRoPSIxNiIgdmlld0JveD0iMCAwIDI0IDI1Ij4KICAgIDxwYXRoIGNsYXNzPSJqcC1pY29uMiIgc3Ryb2tlPSIjMzMzMzMzIiBzdHJva2Utd2lkdGg9IjIiIHRyYW5zZm9ybT0idHJhbnNsYXRlKDIgMykiIGQ9Ik0xLjg2MDk0IDExLjQ0MDlDMC44MjY0NDggOC43NzAyNyAwLjg2Mzc3OSA2LjA1NzY0IDEuMjQ5MDcgNC4xOTkzMkMyLjQ4MjA2IDMuOTMzNDcgNC4wODA2OCAzLjQwMzQ3IDUuNjAxMDIgMi44NDQ5QzcuMjM1NDkgMi4yNDQ0IDguODU2NjYgMS41ODE1IDkuOTg3NiAxLjA5NTM5QzExLjA1OTcgMS41ODM0MSAxMi42MDk0IDIuMjQ0NCAxNC4yMTggMi44NDMzOUMxNS43NTAzIDMuNDEzOTQgMTcuMzk5NSAzLjk1MjU4IDE4Ljc1MzkgNC4yMTM4NUMxOS4xMzY0IDYuMDcxNzcgMTkuMTcwOSA4Ljc3NzIyIDE4LjEzOSAxMS40NDA5QzE3LjAzMDMgMTQuMzAzMiAxNC42NjY4IDE3LjE4NDQgOS45OTk5OSAxOC45MzU0QzUuMzMzMiAxNy4xODQ0IDIuOTY5NjggMTQuMzAzMiAxLjg2MDk0IDExLjQ0MDlaIi8+CiAgICA8cGF0aCBjbGFzcz0ianAtaWNvbjIiIGZpbGw9IiMzMzMzMzMiIHN0cm9rZT0iIzMzMzMzMyIgdHJhbnNmb3JtPSJ0cmFuc2xhdGUoOCA5Ljg2NzE5KSIgZD0iTTIuODYwMTUgNC44NjUzNUwwLjcyNjU0OSAyLjk5OTU5TDAgMy42MzA0NUwyLjg2MDE1IDYuMTMxNTdMOCAwLjYzMDg3Mkw3LjI3ODU3IDBMMi44NjAxNSA0Ljg2NTM1WiIvPgo8L3N2Zz4K);
  --jp-icon-undo: url(data:image/svg+xml;base64,PHN2ZyB2aWV3Qm94PSIwIDAgMjQgMjQiIHdpZHRoPSIxNiIgeG1sbnM9Imh0dHA6Ly93d3cudzMub3JnLzIwMDAvc3ZnIj4KICA8ZyBjbGFzcz0ianAtaWNvbjMiIGZpbGw9IiM2MTYxNjEiPgogICAgPHBhdGggZD0iTTEyLjUgOGMtMi42NSAwLTUuMDUuOTktNi45IDIuNkwyIDd2OWg5bC0zLjYyLTMuNjJjMS4zOS0xLjE2IDMuMTYtMS44OCA1LjEyLTEuODggMy41NCAwIDYuNTUgMi4zMSA3LjYgNS41bDIuMzctLjc4QzIxLjA4IDExLjAzIDE3LjE1IDggMTIuNSA4eiIvPgogIDwvZz4KPC9zdmc+Cg==);
  --jp-icon-vega: url(data:image/svg+xml;base64,PHN2ZyB4bWxucz0iaHR0cDovL3d3dy53My5vcmcvMjAwMC9zdmciIHdpZHRoPSIxNiIgdmlld0JveD0iMCAwIDIyIDIyIj4KICA8ZyBjbGFzcz0ianAtaWNvbjEganAtaWNvbi1zZWxlY3RhYmxlIiBmaWxsPSIjMjEyMTIxIj4KICAgIDxwYXRoIGQ9Ik0xMC42IDUuNGwyLjItMy4ySDIuMnY3LjNsNC02LjZ6Ii8+CiAgICA8cGF0aCBkPSJNMTUuOCAyLjJsLTQuNCA2LjZMNyA2LjNsLTQuOCA4djUuNWgxNy42VjIuMmgtNHptLTcgMTUuNEg1LjV2LTQuNGgzLjN2NC40em00LjQgMEg5LjhWOS44aDMuNHY3Ljh6bTQuNCAwaC0zLjRWNi41aDMuNHYxMS4xeiIvPgogIDwvZz4KPC9zdmc+Cg==);
  --jp-icon-yaml: url(data:image/svg+xml;base64,PHN2ZyB4bWxucz0iaHR0cDovL3d3dy53My5vcmcvMjAwMC9zdmciIHdpZHRoPSIxNiIgdmlld0JveD0iMCAwIDIyIDIyIj4KICA8ZyBjbGFzcz0ianAtaWNvbi1jb250cmFzdDIganAtaWNvbi1zZWxlY3RhYmxlIiBmaWxsPSIjRDgxQjYwIj4KICAgIDxwYXRoIGQ9Ik03LjIgMTguNnYtNS40TDMgNS42aDMuM2wxLjQgMy4xYy4zLjkuNiAxLjYgMSAyLjUuMy0uOC42LTEuNiAxLTIuNWwxLjQtMy4xaDMuNGwtNC40IDcuNnY1LjVsLTIuOS0uMXoiLz4KICAgIDxjaXJjbGUgY2xhc3M9InN0MCIgY3g9IjE3LjYiIGN5PSIxNi41IiByPSIyLjEiLz4KICAgIDxjaXJjbGUgY2xhc3M9InN0MCIgY3g9IjE3LjYiIGN5PSIxMSIgcj0iMi4xIi8+CiAgPC9nPgo8L3N2Zz4K);
}

/* Icon CSS class declarations */

.jp-AddIcon {
  background-image: var(--jp-icon-add);
}
.jp-BugIcon {
  background-image: var(--jp-icon-bug);
}
.jp-BuildIcon {
  background-image: var(--jp-icon-build);
}
.jp-CaretDownEmptyIcon {
  background-image: var(--jp-icon-caret-down-empty);
}
.jp-CaretDownEmptyThinIcon {
  background-image: var(--jp-icon-caret-down-empty-thin);
}
.jp-CaretDownIcon {
  background-image: var(--jp-icon-caret-down);
}
.jp-CaretLeftIcon {
  background-image: var(--jp-icon-caret-left);
}
.jp-CaretRightIcon {
  background-image: var(--jp-icon-caret-right);
}
.jp-CaretUpEmptyThinIcon {
  background-image: var(--jp-icon-caret-up-empty-thin);
}
.jp-CaretUpIcon {
  background-image: var(--jp-icon-caret-up);
}
.jp-CaseSensitiveIcon {
  background-image: var(--jp-icon-case-sensitive);
}
.jp-CheckIcon {
  background-image: var(--jp-icon-check);
}
.jp-CircleEmptyIcon {
  background-image: var(--jp-icon-circle-empty);
}
.jp-CircleIcon {
  background-image: var(--jp-icon-circle);
}
.jp-ClearIcon {
  background-image: var(--jp-icon-clear);
}
.jp-CloseIcon {
  background-image: var(--jp-icon-close);
}
.jp-CodeIcon {
  background-image: var(--jp-icon-code);
}
.jp-ConsoleIcon {
  background-image: var(--jp-icon-console);
}
.jp-CopyIcon {
  background-image: var(--jp-icon-copy);
}
.jp-CopyrightIcon {
  background-image: var(--jp-icon-copyright);
}
.jp-CutIcon {
  background-image: var(--jp-icon-cut);
}
.jp-DownloadIcon {
  background-image: var(--jp-icon-download);
}
.jp-EditIcon {
  background-image: var(--jp-icon-edit);
}
.jp-EllipsesIcon {
  background-image: var(--jp-icon-ellipses);
}
.jp-ExtensionIcon {
  background-image: var(--jp-icon-extension);
}
.jp-FastForwardIcon {
  background-image: var(--jp-icon-fast-forward);
}
.jp-FileIcon {
  background-image: var(--jp-icon-file);
}
.jp-FileUploadIcon {
  background-image: var(--jp-icon-file-upload);
}
.jp-FilterListIcon {
  background-image: var(--jp-icon-filter-list);
}
.jp-FolderIcon {
  background-image: var(--jp-icon-folder);
}
.jp-Html5Icon {
  background-image: var(--jp-icon-html5);
}
.jp-ImageIcon {
  background-image: var(--jp-icon-image);
}
.jp-InspectorIcon {
  background-image: var(--jp-icon-inspector);
}
.jp-JsonIcon {
  background-image: var(--jp-icon-json);
}
.jp-JuliaIcon {
  background-image: var(--jp-icon-julia);
}
.jp-JupyterFaviconIcon {
  background-image: var(--jp-icon-jupyter-favicon);
}
.jp-JupyterIcon {
  background-image: var(--jp-icon-jupyter);
}
.jp-JupyterlabWordmarkIcon {
  background-image: var(--jp-icon-jupyterlab-wordmark);
}
.jp-KernelIcon {
  background-image: var(--jp-icon-kernel);
}
.jp-KeyboardIcon {
  background-image: var(--jp-icon-keyboard);
}
.jp-LauncherIcon {
  background-image: var(--jp-icon-launcher);
}
.jp-LineFormIcon {
  background-image: var(--jp-icon-line-form);
}
.jp-LinkIcon {
  background-image: var(--jp-icon-link);
}
.jp-ListIcon {
  background-image: var(--jp-icon-list);
}
.jp-ListingsInfoIcon {
  background-image: var(--jp-icon-listings-info);
}
.jp-MarkdownIcon {
  background-image: var(--jp-icon-markdown);
}
.jp-NewFolderIcon {
  background-image: var(--jp-icon-new-folder);
}
.jp-NotTrustedIcon {
  background-image: var(--jp-icon-not-trusted);
}
.jp-NotebookIcon {
  background-image: var(--jp-icon-notebook);
}
.jp-NumberingIcon {
  background-image: var(--jp-icon-numbering);
}
.jp-OfflineBoltIcon {
  background-image: var(--jp-icon-offline-bolt);
}
.jp-PaletteIcon {
  background-image: var(--jp-icon-palette);
}
.jp-PasteIcon {
  background-image: var(--jp-icon-paste);
}
.jp-PdfIcon {
  background-image: var(--jp-icon-pdf);
}
.jp-PythonIcon {
  background-image: var(--jp-icon-python);
}
.jp-RKernelIcon {
  background-image: var(--jp-icon-r-kernel);
}
.jp-ReactIcon {
  background-image: var(--jp-icon-react);
}
.jp-RedoIcon {
  background-image: var(--jp-icon-redo);
}
.jp-RefreshIcon {
  background-image: var(--jp-icon-refresh);
}
.jp-RegexIcon {
  background-image: var(--jp-icon-regex);
}
.jp-RunIcon {
  background-image: var(--jp-icon-run);
}
.jp-RunningIcon {
  background-image: var(--jp-icon-running);
}
.jp-SaveIcon {
  background-image: var(--jp-icon-save);
}
.jp-SearchIcon {
  background-image: var(--jp-icon-search);
}
.jp-SettingsIcon {
  background-image: var(--jp-icon-settings);
}
.jp-SpreadsheetIcon {
  background-image: var(--jp-icon-spreadsheet);
}
.jp-StopIcon {
  background-image: var(--jp-icon-stop);
}
.jp-TabIcon {
  background-image: var(--jp-icon-tab);
}
.jp-TableRowsIcon {
  background-image: var(--jp-icon-table-rows);
}
.jp-TagIcon {
  background-image: var(--jp-icon-tag);
}
.jp-TerminalIcon {
  background-image: var(--jp-icon-terminal);
}
.jp-TextEditorIcon {
  background-image: var(--jp-icon-text-editor);
}
.jp-TocIcon {
  background-image: var(--jp-icon-toc);
}
.jp-TreeViewIcon {
  background-image: var(--jp-icon-tree-view);
}
.jp-TrustedIcon {
  background-image: var(--jp-icon-trusted);
}
.jp-UndoIcon {
  background-image: var(--jp-icon-undo);
}
.jp-VegaIcon {
  background-image: var(--jp-icon-vega);
}
.jp-YamlIcon {
  background-image: var(--jp-icon-yaml);
}

/*-----------------------------------------------------------------------------
| Copyright (c) Jupyter Development Team.
| Distributed under the terms of the Modified BSD License.
|----------------------------------------------------------------------------*/

/**
 * (DEPRECATED) Support for consuming icons as CSS background images
 */

.jp-Icon,
.jp-MaterialIcon {
  background-position: center;
  background-repeat: no-repeat;
  background-size: 16px;
  min-width: 16px;
  min-height: 16px;
}

.jp-Icon-cover {
  background-position: center;
  background-repeat: no-repeat;
  background-size: cover;
}

/**
 * (DEPRECATED) Support for specific CSS icon sizes
 */

.jp-Icon-16 {
  background-size: 16px;
  min-width: 16px;
  min-height: 16px;
}

.jp-Icon-18 {
  background-size: 18px;
  min-width: 18px;
  min-height: 18px;
}

.jp-Icon-20 {
  background-size: 20px;
  min-width: 20px;
  min-height: 20px;
}

/*-----------------------------------------------------------------------------
| Copyright (c) Jupyter Development Team.
| Distributed under the terms of the Modified BSD License.
|----------------------------------------------------------------------------*/

/**
 * Support for icons as inline SVG HTMLElements
 */

/* recolor the primary elements of an icon */
.jp-icon0[fill] {
  fill: var(--jp-inverse-layout-color0);
}
.jp-icon1[fill] {
  fill: var(--jp-inverse-layout-color1);
}
.jp-icon2[fill] {
  fill: var(--jp-inverse-layout-color2);
}
.jp-icon3[fill] {
  fill: var(--jp-inverse-layout-color3);
}
.jp-icon4[fill] {
  fill: var(--jp-inverse-layout-color4);
}

.jp-icon0[stroke] {
  stroke: var(--jp-inverse-layout-color0);
}
.jp-icon1[stroke] {
  stroke: var(--jp-inverse-layout-color1);
}
.jp-icon2[stroke] {
  stroke: var(--jp-inverse-layout-color2);
}
.jp-icon3[stroke] {
  stroke: var(--jp-inverse-layout-color3);
}
.jp-icon4[stroke] {
  stroke: var(--jp-inverse-layout-color4);
}
/* recolor the accent elements of an icon */
.jp-icon-accent0[fill] {
  fill: var(--jp-layout-color0);
}
.jp-icon-accent1[fill] {
  fill: var(--jp-layout-color1);
}
.jp-icon-accent2[fill] {
  fill: var(--jp-layout-color2);
}
.jp-icon-accent3[fill] {
  fill: var(--jp-layout-color3);
}
.jp-icon-accent4[fill] {
  fill: var(--jp-layout-color4);
}

.jp-icon-accent0[stroke] {
  stroke: var(--jp-layout-color0);
}
.jp-icon-accent1[stroke] {
  stroke: var(--jp-layout-color1);
}
.jp-icon-accent2[stroke] {
  stroke: var(--jp-layout-color2);
}
.jp-icon-accent3[stroke] {
  stroke: var(--jp-layout-color3);
}
.jp-icon-accent4[stroke] {
  stroke: var(--jp-layout-color4);
}
/* set the color of an icon to transparent */
.jp-icon-none[fill] {
  fill: none;
}

.jp-icon-none[stroke] {
  stroke: none;
}
/* brand icon colors. Same for light and dark */
.jp-icon-brand0[fill] {
  fill: var(--jp-brand-color0);
}
.jp-icon-brand1[fill] {
  fill: var(--jp-brand-color1);
}
.jp-icon-brand2[fill] {
  fill: var(--jp-brand-color2);
}
.jp-icon-brand3[fill] {
  fill: var(--jp-brand-color3);
}
.jp-icon-brand4[fill] {
  fill: var(--jp-brand-color4);
}

.jp-icon-brand0[stroke] {
  stroke: var(--jp-brand-color0);
}
.jp-icon-brand1[stroke] {
  stroke: var(--jp-brand-color1);
}
.jp-icon-brand2[stroke] {
  stroke: var(--jp-brand-color2);
}
.jp-icon-brand3[stroke] {
  stroke: var(--jp-brand-color3);
}
.jp-icon-brand4[stroke] {
  stroke: var(--jp-brand-color4);
}
/* warn icon colors. Same for light and dark */
.jp-icon-warn0[fill] {
  fill: var(--jp-warn-color0);
}
.jp-icon-warn1[fill] {
  fill: var(--jp-warn-color1);
}
.jp-icon-warn2[fill] {
  fill: var(--jp-warn-color2);
}
.jp-icon-warn3[fill] {
  fill: var(--jp-warn-color3);
}

.jp-icon-warn0[stroke] {
  stroke: var(--jp-warn-color0);
}
.jp-icon-warn1[stroke] {
  stroke: var(--jp-warn-color1);
}
.jp-icon-warn2[stroke] {
  stroke: var(--jp-warn-color2);
}
.jp-icon-warn3[stroke] {
  stroke: var(--jp-warn-color3);
}
/* icon colors that contrast well with each other and most backgrounds */
.jp-icon-contrast0[fill] {
  fill: var(--jp-icon-contrast-color0);
}
.jp-icon-contrast1[fill] {
  fill: var(--jp-icon-contrast-color1);
}
.jp-icon-contrast2[fill] {
  fill: var(--jp-icon-contrast-color2);
}
.jp-icon-contrast3[fill] {
  fill: var(--jp-icon-contrast-color3);
}

.jp-icon-contrast0[stroke] {
  stroke: var(--jp-icon-contrast-color0);
}
.jp-icon-contrast1[stroke] {
  stroke: var(--jp-icon-contrast-color1);
}
.jp-icon-contrast2[stroke] {
  stroke: var(--jp-icon-contrast-color2);
}
.jp-icon-contrast3[stroke] {
  stroke: var(--jp-icon-contrast-color3);
}

/* CSS for icons in selected items in the settings editor */
#setting-editor .jp-PluginList .jp-mod-selected .jp-icon-selectable[fill] {
  fill: #fff;
}
#setting-editor
  .jp-PluginList
  .jp-mod-selected
  .jp-icon-selectable-inverse[fill] {
  fill: var(--jp-brand-color1);
}

/* CSS for icons in selected filebrowser listing items */
.jp-DirListing-item.jp-mod-selected .jp-icon-selectable[fill] {
  fill: #fff;
}
.jp-DirListing-item.jp-mod-selected .jp-icon-selectable-inverse[fill] {
  fill: var(--jp-brand-color1);
}

/* CSS for icons in selected tabs in the sidebar tab manager */
#tab-manager .lm-TabBar-tab.jp-mod-active .jp-icon-selectable[fill] {
  fill: #fff;
}

#tab-manager .lm-TabBar-tab.jp-mod-active .jp-icon-selectable-inverse[fill] {
  fill: var(--jp-brand-color1);
}
#tab-manager
  .lm-TabBar-tab.jp-mod-active
  .jp-icon-hover
  :hover
  .jp-icon-selectable[fill] {
  fill: var(--jp-brand-color1);
}

#tab-manager
  .lm-TabBar-tab.jp-mod-active
  .jp-icon-hover
  :hover
  .jp-icon-selectable-inverse[fill] {
  fill: #fff;
}

/**
 * TODO: come up with non css-hack solution for showing the busy icon on top
 *  of the close icon
 * CSS for complex behavior of close icon of tabs in the sidebar tab manager
 */
#tab-manager
  .lm-TabBar-tab.jp-mod-dirty
  > .lm-TabBar-tabCloseIcon
  > :not(:hover)
  > .jp-icon3[fill] {
  fill: none;
}
#tab-manager
  .lm-TabBar-tab.jp-mod-dirty
  > .lm-TabBar-tabCloseIcon
  > :not(:hover)
  > .jp-icon-busy[fill] {
  fill: var(--jp-inverse-layout-color3);
}

#tab-manager
  .lm-TabBar-tab.jp-mod-dirty.jp-mod-active
  > .lm-TabBar-tabCloseIcon
  > :not(:hover)
  > .jp-icon-busy[fill] {
  fill: #fff;
}

/**
* TODO: come up with non css-hack solution for showing the busy icon on top
*  of the close icon
* CSS for complex behavior of close icon of tabs in the main area tabbar
*/
.lm-DockPanel-tabBar
  .lm-TabBar-tab.lm-mod-closable.jp-mod-dirty
  > .lm-TabBar-tabCloseIcon
  > :not(:hover)
  > .jp-icon3[fill] {
  fill: none;
}
.lm-DockPanel-tabBar
  .lm-TabBar-tab.lm-mod-closable.jp-mod-dirty
  > .lm-TabBar-tabCloseIcon
  > :not(:hover)
  > .jp-icon-busy[fill] {
  fill: var(--jp-inverse-layout-color3);
}

/* CSS for icons in status bar */
#jp-main-statusbar .jp-mod-selected .jp-icon-selectable[fill] {
  fill: #fff;
}

#jp-main-statusbar .jp-mod-selected .jp-icon-selectable-inverse[fill] {
  fill: var(--jp-brand-color1);
}
/* special handling for splash icon CSS. While the theme CSS reloads during
   splash, the splash icon can loose theming. To prevent that, we set a
   default for its color variable */
:root {
  --jp-warn-color0: var(--md-orange-700);
}

/* not sure what to do with this one, used in filebrowser listing */
.jp-DragIcon {
  margin-right: 4px;
}

/*-----------------------------------------------------------------------------
| Copyright (c) Jupyter Development Team.
| Distributed under the terms of the Modified BSD License.
|----------------------------------------------------------------------------*/

/**
 * Support for alt colors for icons as inline SVG HTMLElements
 */

/* alt recolor the primary elements of an icon */
.jp-icon-alt .jp-icon0[fill] {
  fill: var(--jp-layout-color0);
}
.jp-icon-alt .jp-icon1[fill] {
  fill: var(--jp-layout-color1);
}
.jp-icon-alt .jp-icon2[fill] {
  fill: var(--jp-layout-color2);
}
.jp-icon-alt .jp-icon3[fill] {
  fill: var(--jp-layout-color3);
}
.jp-icon-alt .jp-icon4[fill] {
  fill: var(--jp-layout-color4);
}

.jp-icon-alt .jp-icon0[stroke] {
  stroke: var(--jp-layout-color0);
}
.jp-icon-alt .jp-icon1[stroke] {
  stroke: var(--jp-layout-color1);
}
.jp-icon-alt .jp-icon2[stroke] {
  stroke: var(--jp-layout-color2);
}
.jp-icon-alt .jp-icon3[stroke] {
  stroke: var(--jp-layout-color3);
}
.jp-icon-alt .jp-icon4[stroke] {
  stroke: var(--jp-layout-color4);
}

/* alt recolor the accent elements of an icon */
.jp-icon-alt .jp-icon-accent0[fill] {
  fill: var(--jp-inverse-layout-color0);
}
.jp-icon-alt .jp-icon-accent1[fill] {
  fill: var(--jp-inverse-layout-color1);
}
.jp-icon-alt .jp-icon-accent2[fill] {
  fill: var(--jp-inverse-layout-color2);
}
.jp-icon-alt .jp-icon-accent3[fill] {
  fill: var(--jp-inverse-layout-color3);
}
.jp-icon-alt .jp-icon-accent4[fill] {
  fill: var(--jp-inverse-layout-color4);
}

.jp-icon-alt .jp-icon-accent0[stroke] {
  stroke: var(--jp-inverse-layout-color0);
}
.jp-icon-alt .jp-icon-accent1[stroke] {
  stroke: var(--jp-inverse-layout-color1);
}
.jp-icon-alt .jp-icon-accent2[stroke] {
  stroke: var(--jp-inverse-layout-color2);
}
.jp-icon-alt .jp-icon-accent3[stroke] {
  stroke: var(--jp-inverse-layout-color3);
}
.jp-icon-alt .jp-icon-accent4[stroke] {
  stroke: var(--jp-inverse-layout-color4);
}

/*-----------------------------------------------------------------------------
| Copyright (c) Jupyter Development Team.
| Distributed under the terms of the Modified BSD License.
|----------------------------------------------------------------------------*/

.jp-icon-hoverShow:not(:hover) svg {
  display: none !important;
}

/**
 * Support for hover colors for icons as inline SVG HTMLElements
 */

/**
 * regular colors
 */

/* recolor the primary elements of an icon */
.jp-icon-hover :hover .jp-icon0-hover[fill] {
  fill: var(--jp-inverse-layout-color0);
}
.jp-icon-hover :hover .jp-icon1-hover[fill] {
  fill: var(--jp-inverse-layout-color1);
}
.jp-icon-hover :hover .jp-icon2-hover[fill] {
  fill: var(--jp-inverse-layout-color2);
}
.jp-icon-hover :hover .jp-icon3-hover[fill] {
  fill: var(--jp-inverse-layout-color3);
}
.jp-icon-hover :hover .jp-icon4-hover[fill] {
  fill: var(--jp-inverse-layout-color4);
}

.jp-icon-hover :hover .jp-icon0-hover[stroke] {
  stroke: var(--jp-inverse-layout-color0);
}
.jp-icon-hover :hover .jp-icon1-hover[stroke] {
  stroke: var(--jp-inverse-layout-color1);
}
.jp-icon-hover :hover .jp-icon2-hover[stroke] {
  stroke: var(--jp-inverse-layout-color2);
}
.jp-icon-hover :hover .jp-icon3-hover[stroke] {
  stroke: var(--jp-inverse-layout-color3);
}
.jp-icon-hover :hover .jp-icon4-hover[stroke] {
  stroke: var(--jp-inverse-layout-color4);
}

/* recolor the accent elements of an icon */
.jp-icon-hover :hover .jp-icon-accent0-hover[fill] {
  fill: var(--jp-layout-color0);
}
.jp-icon-hover :hover .jp-icon-accent1-hover[fill] {
  fill: var(--jp-layout-color1);
}
.jp-icon-hover :hover .jp-icon-accent2-hover[fill] {
  fill: var(--jp-layout-color2);
}
.jp-icon-hover :hover .jp-icon-accent3-hover[fill] {
  fill: var(--jp-layout-color3);
}
.jp-icon-hover :hover .jp-icon-accent4-hover[fill] {
  fill: var(--jp-layout-color4);
}

.jp-icon-hover :hover .jp-icon-accent0-hover[stroke] {
  stroke: var(--jp-layout-color0);
}
.jp-icon-hover :hover .jp-icon-accent1-hover[stroke] {
  stroke: var(--jp-layout-color1);
}
.jp-icon-hover :hover .jp-icon-accent2-hover[stroke] {
  stroke: var(--jp-layout-color2);
}
.jp-icon-hover :hover .jp-icon-accent3-hover[stroke] {
  stroke: var(--jp-layout-color3);
}
.jp-icon-hover :hover .jp-icon-accent4-hover[stroke] {
  stroke: var(--jp-layout-color4);
}

/* set the color of an icon to transparent */
.jp-icon-hover :hover .jp-icon-none-hover[fill] {
  fill: none;
}

.jp-icon-hover :hover .jp-icon-none-hover[stroke] {
  stroke: none;
}

/**
 * inverse colors
 */

/* inverse recolor the primary elements of an icon */
.jp-icon-hover.jp-icon-alt :hover .jp-icon0-hover[fill] {
  fill: var(--jp-layout-color0);
}
.jp-icon-hover.jp-icon-alt :hover .jp-icon1-hover[fill] {
  fill: var(--jp-layout-color1);
}
.jp-icon-hover.jp-icon-alt :hover .jp-icon2-hover[fill] {
  fill: var(--jp-layout-color2);
}
.jp-icon-hover.jp-icon-alt :hover .jp-icon3-hover[fill] {
  fill: var(--jp-layout-color3);
}
.jp-icon-hover.jp-icon-alt :hover .jp-icon4-hover[fill] {
  fill: var(--jp-layout-color4);
}

.jp-icon-hover.jp-icon-alt :hover .jp-icon0-hover[stroke] {
  stroke: var(--jp-layout-color0);
}
.jp-icon-hover.jp-icon-alt :hover .jp-icon1-hover[stroke] {
  stroke: var(--jp-layout-color1);
}
.jp-icon-hover.jp-icon-alt :hover .jp-icon2-hover[stroke] {
  stroke: var(--jp-layout-color2);
}
.jp-icon-hover.jp-icon-alt :hover .jp-icon3-hover[stroke] {
  stroke: var(--jp-layout-color3);
}
.jp-icon-hover.jp-icon-alt :hover .jp-icon4-hover[stroke] {
  stroke: var(--jp-layout-color4);
}

/* inverse recolor the accent elements of an icon */
.jp-icon-hover.jp-icon-alt :hover .jp-icon-accent0-hover[fill] {
  fill: var(--jp-inverse-layout-color0);
}
.jp-icon-hover.jp-icon-alt :hover .jp-icon-accent1-hover[fill] {
  fill: var(--jp-inverse-layout-color1);
}
.jp-icon-hover.jp-icon-alt :hover .jp-icon-accent2-hover[fill] {
  fill: var(--jp-inverse-layout-color2);
}
.jp-icon-hover.jp-icon-alt :hover .jp-icon-accent3-hover[fill] {
  fill: var(--jp-inverse-layout-color3);
}
.jp-icon-hover.jp-icon-alt :hover .jp-icon-accent4-hover[fill] {
  fill: var(--jp-inverse-layout-color4);
}

.jp-icon-hover.jp-icon-alt :hover .jp-icon-accent0-hover[stroke] {
  stroke: var(--jp-inverse-layout-color0);
}
.jp-icon-hover.jp-icon-alt :hover .jp-icon-accent1-hover[stroke] {
  stroke: var(--jp-inverse-layout-color1);
}
.jp-icon-hover.jp-icon-alt :hover .jp-icon-accent2-hover[stroke] {
  stroke: var(--jp-inverse-layout-color2);
}
.jp-icon-hover.jp-icon-alt :hover .jp-icon-accent3-hover[stroke] {
  stroke: var(--jp-inverse-layout-color3);
}
.jp-icon-hover.jp-icon-alt :hover .jp-icon-accent4-hover[stroke] {
  stroke: var(--jp-inverse-layout-color4);
}

/*-----------------------------------------------------------------------------
| Copyright (c) Jupyter Development Team.
| Distributed under the terms of the Modified BSD License.
|----------------------------------------------------------------------------*/

.jp-switch {
  display: flex;
  align-items: center;
  padding-left: 4px;
  padding-right: 4px;
  font-size: var(--jp-ui-font-size1);
  background-color: transparent;
  color: var(--jp-ui-font-color1);
  border: none;
  height: 20px;
}

.jp-switch:hover {
  background-color: var(--jp-layout-color2);
}

.jp-switch-label {
  margin-right: 5px;
}

.jp-switch-track {
  cursor: pointer;
  background-color: var(--jp-border-color1);
  -webkit-transition: 0.4s;
  transition: 0.4s;
  border-radius: 34px;
  height: 16px;
  width: 35px;
  position: relative;
}

.jp-switch-track::before {
  content: '';
  position: absolute;
  height: 10px;
  width: 10px;
  margin: 3px;
  left: 0px;
  background-color: var(--jp-ui-inverse-font-color1);
  -webkit-transition: 0.4s;
  transition: 0.4s;
  border-radius: 50%;
}

.jp-switch[aria-checked='true'] .jp-switch-track {
  background-color: var(--jp-warn-color0);
}

.jp-switch[aria-checked='true'] .jp-switch-track::before {
  /* track width (35) - margins (3 + 3) - thumb width (10) */
  left: 19px;
}

/*-----------------------------------------------------------------------------
| Copyright (c) Jupyter Development Team.
| Distributed under the terms of the Modified BSD License.
|----------------------------------------------------------------------------*/

/* Sibling imports */

/* Override Blueprint's _reset.scss styles */
html {
  box-sizing: unset;
}

*,
*::before,
*::after {
  box-sizing: unset;
}

body {
  color: unset;
  font-family: var(--jp-ui-font-family);
}

p {
  margin-top: unset;
  margin-bottom: unset;
}

small {
  font-size: unset;
}

strong {
  font-weight: unset;
}

/* Override Blueprint's _typography.scss styles */
a {
  text-decoration: unset;
  color: unset;
}
a:hover {
  text-decoration: unset;
  color: unset;
}

/* Override Blueprint's _accessibility.scss styles */
:focus {
  outline: unset;
  outline-offset: unset;
  -moz-outline-radius: unset;
}

/* Styles for ui-components */
.jp-Button {
  border-radius: var(--jp-border-radius);
  padding: 0px 12px;
  font-size: var(--jp-ui-font-size1);
}

/* Use our own theme for hover styles */
button.jp-Button.bp3-button.bp3-minimal:hover {
  background-color: var(--jp-layout-color2);
}
.jp-Button.minimal {
  color: unset !important;
}

.jp-Button.jp-ToolbarButtonComponent {
  text-transform: none;
}

.jp-InputGroup input {
  box-sizing: border-box;
  border-radius: 0;
  background-color: transparent;
  color: var(--jp-ui-font-color0);
  box-shadow: inset 0 0 0 var(--jp-border-width) var(--jp-input-border-color);
}

.jp-InputGroup input:focus {
  box-shadow: inset 0 0 0 var(--jp-border-width)
      var(--jp-input-active-box-shadow-color),
    inset 0 0 0 3px var(--jp-input-active-box-shadow-color);
}

.jp-InputGroup input::placeholder,
input::placeholder {
  color: var(--jp-ui-font-color3);
}

.jp-BPIcon {
  display: inline-block;
  vertical-align: middle;
  margin: auto;
}

/* Stop blueprint futzing with our icon fills */
.bp3-icon.jp-BPIcon > svg:not([fill]) {
  fill: var(--jp-inverse-layout-color3);
}

.jp-InputGroupAction {
  padding: 6px;
}

.jp-HTMLSelect.jp-DefaultStyle select {
  background-color: initial;
  border: none;
  border-radius: 0;
  box-shadow: none;
  color: var(--jp-ui-font-color0);
  display: block;
  font-size: var(--jp-ui-font-size1);
  height: 24px;
  line-height: 14px;
  padding: 0 25px 0 10px;
  text-align: left;
  -moz-appearance: none;
  -webkit-appearance: none;
}

/* Use our own theme for hover and option styles */
.jp-HTMLSelect.jp-DefaultStyle select:hover,
.jp-HTMLSelect.jp-DefaultStyle select > option {
  background-color: var(--jp-layout-color2);
  color: var(--jp-ui-font-color0);
}
select {
  box-sizing: border-box;
}

/*-----------------------------------------------------------------------------
| Copyright (c) Jupyter Development Team.
| Distributed under the terms of the Modified BSD License.
|----------------------------------------------------------------------------*/

.jp-Collapse {
  display: flex;
  flex-direction: column;
  align-items: stretch;
  border-top: 1px solid var(--jp-border-color2);
  border-bottom: 1px solid var(--jp-border-color2);
}

.jp-Collapse-header {
  padding: 1px 12px;
  color: var(--jp-ui-font-color1);
  background-color: var(--jp-layout-color1);
  font-size: var(--jp-ui-font-size2);
}

.jp-Collapse-header:hover {
  background-color: var(--jp-layout-color2);
}

.jp-Collapse-contents {
  padding: 0px 12px 0px 12px;
  background-color: var(--jp-layout-color1);
  color: var(--jp-ui-font-color1);
  overflow: auto;
}

/*-----------------------------------------------------------------------------
| Copyright (c) Jupyter Development Team.
| Distributed under the terms of the Modified BSD License.
|----------------------------------------------------------------------------*/

/*-----------------------------------------------------------------------------
| Variables
|----------------------------------------------------------------------------*/

:root {
  --jp-private-commandpalette-search-height: 28px;
}

/*-----------------------------------------------------------------------------
| Overall styles
|----------------------------------------------------------------------------*/

.lm-CommandPalette {
  padding-bottom: 0px;
  color: var(--jp-ui-font-color1);
  background: var(--jp-layout-color1);
  /* This is needed so that all font sizing of children done in ems is
   * relative to this base size */
  font-size: var(--jp-ui-font-size1);
}

/*-----------------------------------------------------------------------------
| Modal variant
|----------------------------------------------------------------------------*/

.jp-ModalCommandPalette {
  position: absolute;
  z-index: 10000;
  top: 38px;
  left: 30%;
  margin: 0;
  padding: 4px;
  width: 40%;
  box-shadow: var(--jp-elevation-z4);
  border-radius: 4px;
  background: var(--jp-layout-color0);
}

.jp-ModalCommandPalette .lm-CommandPalette {
  max-height: 40vh;
}

.jp-ModalCommandPalette .lm-CommandPalette .lm-close-icon::after {
  display: none;
}

.jp-ModalCommandPalette .lm-CommandPalette .lm-CommandPalette-header {
  display: none;
}

.jp-ModalCommandPalette .lm-CommandPalette .lm-CommandPalette-item {
  margin-left: 4px;
  margin-right: 4px;
}

.jp-ModalCommandPalette
  .lm-CommandPalette
  .lm-CommandPalette-item.lm-mod-disabled {
  display: none;
}

/*-----------------------------------------------------------------------------
| Search
|----------------------------------------------------------------------------*/

.lm-CommandPalette-search {
  padding: 4px;
  background-color: var(--jp-layout-color1);
  z-index: 2;
}

.lm-CommandPalette-wrapper {
  overflow: overlay;
  padding: 0px 9px;
  background-color: var(--jp-input-active-background);
  height: 30px;
  box-shadow: inset 0 0 0 var(--jp-border-width) var(--jp-input-border-color);
}

.lm-CommandPalette.lm-mod-focused .lm-CommandPalette-wrapper {
  box-shadow: inset 0 0 0 1px var(--jp-input-active-box-shadow-color),
    inset 0 0 0 3px var(--jp-input-active-box-shadow-color);
}

.jp-SearchIconGroup {
  color: white;
  background-color: var(--jp-brand-color1);
  position: absolute;
  top: 4px;
  right: 4px;
  padding: 5px 5px 1px 5px;
}

.jp-SearchIconGroup svg {
  height: 20px;
  width: 20px;
}

.jp-SearchIconGroup .jp-icon3[fill] {
  fill: var(--jp-layout-color0);
}

.lm-CommandPalette-input {
  background: transparent;
  width: calc(100% - 18px);
  float: left;
  border: none;
  outline: none;
  font-size: var(--jp-ui-font-size1);
  color: var(--jp-ui-font-color0);
  line-height: var(--jp-private-commandpalette-search-height);
}

.lm-CommandPalette-input::-webkit-input-placeholder,
.lm-CommandPalette-input::-moz-placeholder,
.lm-CommandPalette-input:-ms-input-placeholder {
  color: var(--jp-ui-font-color2);
  font-size: var(--jp-ui-font-size1);
}

/*-----------------------------------------------------------------------------
| Results
|----------------------------------------------------------------------------*/

.lm-CommandPalette-header:first-child {
  margin-top: 0px;
}

.lm-CommandPalette-header {
  border-bottom: solid var(--jp-border-width) var(--jp-border-color2);
  color: var(--jp-ui-font-color1);
  cursor: pointer;
  display: flex;
  font-size: var(--jp-ui-font-size0);
  font-weight: 600;
  letter-spacing: 1px;
  margin-top: 8px;
  padding: 8px 0 8px 12px;
  text-transform: uppercase;
}

.lm-CommandPalette-header.lm-mod-active {
  background: var(--jp-layout-color2);
}

.lm-CommandPalette-header > mark {
  background-color: transparent;
  font-weight: bold;
  color: var(--jp-ui-font-color1);
}

.lm-CommandPalette-item {
  padding: 4px 12px 4px 4px;
  color: var(--jp-ui-font-color1);
  font-size: var(--jp-ui-font-size1);
  font-weight: 400;
  display: flex;
}

.lm-CommandPalette-item.lm-mod-disabled {
  color: var(--jp-ui-font-color2);
}

.lm-CommandPalette-item.lm-mod-active {
  color: var(--jp-ui-inverse-font-color1);
  background: var(--jp-brand-color1);
}

.lm-CommandPalette-item.lm-mod-active .lm-CommandPalette-itemLabel > mark {
  color: var(--jp-ui-inverse-font-color0);
}

.lm-CommandPalette-item.lm-mod-active .jp-icon-selectable[fill] {
  fill: var(--jp-layout-color0);
}

.lm-CommandPalette-item.lm-mod-active .lm-CommandPalette-itemLabel > mark {
  color: var(--jp-ui-inverse-font-color0);
}

.lm-CommandPalette-item.lm-mod-active:hover:not(.lm-mod-disabled) {
  color: var(--jp-ui-inverse-font-color1);
  background: var(--jp-brand-color1);
}

.lm-CommandPalette-item:hover:not(.lm-mod-active):not(.lm-mod-disabled) {
  background: var(--jp-layout-color2);
}

.lm-CommandPalette-itemContent {
  overflow: hidden;
}

.lm-CommandPalette-itemLabel > mark {
  color: var(--jp-ui-font-color0);
  background-color: transparent;
  font-weight: bold;
}

.lm-CommandPalette-item.lm-mod-disabled mark {
  color: var(--jp-ui-font-color2);
}

.lm-CommandPalette-item .lm-CommandPalette-itemIcon {
  margin: 0 4px 0 0;
  position: relative;
  width: 16px;
  top: 2px;
  flex: 0 0 auto;
}

.lm-CommandPalette-item.lm-mod-disabled .lm-CommandPalette-itemIcon {
  opacity: 0.6;
}

.lm-CommandPalette-item .lm-CommandPalette-itemShortcut {
  flex: 0 0 auto;
}

.lm-CommandPalette-itemCaption {
  display: none;
}

.lm-CommandPalette-content {
  background-color: var(--jp-layout-color1);
}

.lm-CommandPalette-content:empty:after {
  content: 'No results';
  margin: auto;
  margin-top: 20px;
  width: 100px;
  display: block;
  font-size: var(--jp-ui-font-size2);
  font-family: var(--jp-ui-font-family);
  font-weight: lighter;
}

.lm-CommandPalette-emptyMessage {
  text-align: center;
  margin-top: 24px;
  line-height: 1.32;
  padding: 0px 8px;
  color: var(--jp-content-font-color3);
}

/*-----------------------------------------------------------------------------
| Copyright (c) 2014-2017, Jupyter Development Team.
|
| Distributed under the terms of the Modified BSD License.
|----------------------------------------------------------------------------*/

.jp-Dialog {
  position: absolute;
  z-index: 10000;
  display: flex;
  flex-direction: column;
  align-items: center;
  justify-content: center;
  top: 0px;
  left: 0px;
  margin: 0;
  padding: 0;
  width: 100%;
  height: 100%;
  background: var(--jp-dialog-background);
}

.jp-Dialog-content {
  display: flex;
  flex-direction: column;
  margin-left: auto;
  margin-right: auto;
  background: var(--jp-layout-color1);
  padding: 24px;
  padding-bottom: 12px;
  min-width: 300px;
  min-height: 150px;
  max-width: 1000px;
  max-height: 500px;
  box-sizing: border-box;
  box-shadow: var(--jp-elevation-z20);
  word-wrap: break-word;
  border-radius: var(--jp-border-radius);
  /* This is needed so that all font sizing of children done in ems is
   * relative to this base size */
  font-size: var(--jp-ui-font-size1);
  color: var(--jp-ui-font-color1);
  resize: both;
}

.jp-Dialog-button {
  overflow: visible;
}

button.jp-Dialog-button:focus {
  outline: 1px solid var(--jp-brand-color1);
  outline-offset: 4px;
  -moz-outline-radius: 0px;
}

button.jp-Dialog-button:focus::-moz-focus-inner {
  border: 0;
}

button.jp-Dialog-close-button {
  padding: 0;
  height: 100%;
  min-width: unset;
  min-height: unset;
}

.jp-Dialog-header {
  display: flex;
  justify-content: space-between;
  flex: 0 0 auto;
  padding-bottom: 12px;
  font-size: var(--jp-ui-font-size3);
  font-weight: 400;
  color: var(--jp-ui-font-color0);
}

.jp-Dialog-body {
  display: flex;
  flex-direction: column;
  flex: 1 1 auto;
  font-size: var(--jp-ui-font-size1);
  background: var(--jp-layout-color1);
  overflow: auto;
}

.jp-Dialog-footer {
  display: flex;
  flex-direction: row;
  justify-content: flex-end;
  flex: 0 0 auto;
  margin-left: -12px;
  margin-right: -12px;
  padding: 12px;
}

.jp-Dialog-title {
  overflow: hidden;
  white-space: nowrap;
  text-overflow: ellipsis;
}

.jp-Dialog-body > .jp-select-wrapper {
  width: 100%;
}

.jp-Dialog-body > button {
  padding: 0px 16px;
}

.jp-Dialog-body > label {
  line-height: 1.4;
  color: var(--jp-ui-font-color0);
}

.jp-Dialog-button.jp-mod-styled:not(:last-child) {
  margin-right: 12px;
}

/*-----------------------------------------------------------------------------
| Copyright (c) 2014-2016, Jupyter Development Team.
|
| Distributed under the terms of the Modified BSD License.
|----------------------------------------------------------------------------*/

.jp-HoverBox {
  position: fixed;
}

.jp-HoverBox.jp-mod-outofview {
  display: none;
}

/*-----------------------------------------------------------------------------
| Copyright (c) Jupyter Development Team.
| Distributed under the terms of the Modified BSD License.
|----------------------------------------------------------------------------*/

.jp-IFrame {
  width: 100%;
  height: 100%;
}

.jp-IFrame > iframe {
  border: none;
}

/*
When drag events occur, `p-mod-override-cursor` is added to the body.
Because iframes steal all cursor events, the following two rules are necessary
to suppress pointer events while resize drags are occurring. There may be a
better solution to this problem.
*/
body.lm-mod-override-cursor .jp-IFrame {
  position: relative;
}

body.lm-mod-override-cursor .jp-IFrame:before {
  content: '';
  position: absolute;
  top: 0;
  left: 0;
  right: 0;
  bottom: 0;
  background: transparent;
}

.jp-Input-Boolean-Dialog {
  flex-direction: row-reverse;
  align-items: end;
  width: 100%;
}

.jp-Input-Boolean-Dialog > label {
  flex: 1 1 auto;
}

/*-----------------------------------------------------------------------------
| Copyright (c) 2014-2016, Jupyter Development Team.
|
| Distributed under the terms of the Modified BSD License.
|----------------------------------------------------------------------------*/

.jp-MainAreaWidget > :focus {
  outline: none;
}

/**
 * google-material-color v1.2.6
 * https://github.com/danlevan/google-material-color
 */
:root {
  --md-red-50: #ffebee;
  --md-red-100: #ffcdd2;
  --md-red-200: #ef9a9a;
  --md-red-300: #e57373;
  --md-red-400: #ef5350;
  --md-red-500: #f44336;
  --md-red-600: #e53935;
  --md-red-700: #d32f2f;
  --md-red-800: #c62828;
  --md-red-900: #b71c1c;
  --md-red-A100: #ff8a80;
  --md-red-A200: #ff5252;
  --md-red-A400: #ff1744;
  --md-red-A700: #d50000;

  --md-pink-50: #fce4ec;
  --md-pink-100: #f8bbd0;
  --md-pink-200: #f48fb1;
  --md-pink-300: #f06292;
  --md-pink-400: #ec407a;
  --md-pink-500: #e91e63;
  --md-pink-600: #d81b60;
  --md-pink-700: #c2185b;
  --md-pink-800: #ad1457;
  --md-pink-900: #880e4f;
  --md-pink-A100: #ff80ab;
  --md-pink-A200: #ff4081;
  --md-pink-A400: #f50057;
  --md-pink-A700: #c51162;

  --md-purple-50: #f3e5f5;
  --md-purple-100: #e1bee7;
  --md-purple-200: #ce93d8;
  --md-purple-300: #ba68c8;
  --md-purple-400: #ab47bc;
  --md-purple-500: #9c27b0;
  --md-purple-600: #8e24aa;
  --md-purple-700: #7b1fa2;
  --md-purple-800: #6a1b9a;
  --md-purple-900: #4a148c;
  --md-purple-A100: #ea80fc;
  --md-purple-A200: #e040fb;
  --md-purple-A400: #d500f9;
  --md-purple-A700: #aa00ff;

  --md-deep-purple-50: #ede7f6;
  --md-deep-purple-100: #d1c4e9;
  --md-deep-purple-200: #b39ddb;
  --md-deep-purple-300: #9575cd;
  --md-deep-purple-400: #7e57c2;
  --md-deep-purple-500: #673ab7;
  --md-deep-purple-600: #5e35b1;
  --md-deep-purple-700: #512da8;
  --md-deep-purple-800: #4527a0;
  --md-deep-purple-900: #311b92;
  --md-deep-purple-A100: #b388ff;
  --md-deep-purple-A200: #7c4dff;
  --md-deep-purple-A400: #651fff;
  --md-deep-purple-A700: #6200ea;

  --md-indigo-50: #e8eaf6;
  --md-indigo-100: #c5cae9;
  --md-indigo-200: #9fa8da;
  --md-indigo-300: #7986cb;
  --md-indigo-400: #5c6bc0;
  --md-indigo-500: #3f51b5;
  --md-indigo-600: #3949ab;
  --md-indigo-700: #303f9f;
  --md-indigo-800: #283593;
  --md-indigo-900: #1a237e;
  --md-indigo-A100: #8c9eff;
  --md-indigo-A200: #536dfe;
  --md-indigo-A400: #3d5afe;
  --md-indigo-A700: #304ffe;

  --md-blue-50: #e3f2fd;
  --md-blue-100: #bbdefb;
  --md-blue-200: #90caf9;
  --md-blue-300: #64b5f6;
  --md-blue-400: #42a5f5;
  --md-blue-500: #2196f3;
  --md-blue-600: #1e88e5;
  --md-blue-700: #1976d2;
  --md-blue-800: #1565c0;
  --md-blue-900: #0d47a1;
  --md-blue-A100: #82b1ff;
  --md-blue-A200: #448aff;
  --md-blue-A400: #2979ff;
  --md-blue-A700: #2962ff;

  --md-light-blue-50: #e1f5fe;
  --md-light-blue-100: #b3e5fc;
  --md-light-blue-200: #81d4fa;
  --md-light-blue-300: #4fc3f7;
  --md-light-blue-400: #29b6f6;
  --md-light-blue-500: #03a9f4;
  --md-light-blue-600: #039be5;
  --md-light-blue-700: #0288d1;
  --md-light-blue-800: #0277bd;
  --md-light-blue-900: #01579b;
  --md-light-blue-A100: #80d8ff;
  --md-light-blue-A200: #40c4ff;
  --md-light-blue-A400: #00b0ff;
  --md-light-blue-A700: #0091ea;

  --md-cyan-50: #e0f7fa;
  --md-cyan-100: #b2ebf2;
  --md-cyan-200: #80deea;
  --md-cyan-300: #4dd0e1;
  --md-cyan-400: #26c6da;
  --md-cyan-500: #00bcd4;
  --md-cyan-600: #00acc1;
  --md-cyan-700: #0097a7;
  --md-cyan-800: #00838f;
  --md-cyan-900: #006064;
  --md-cyan-A100: #84ffff;
  --md-cyan-A200: #18ffff;
  --md-cyan-A400: #00e5ff;
  --md-cyan-A700: #00b8d4;

  --md-teal-50: #e0f2f1;
  --md-teal-100: #b2dfdb;
  --md-teal-200: #80cbc4;
  --md-teal-300: #4db6ac;
  --md-teal-400: #26a69a;
  --md-teal-500: #009688;
  --md-teal-600: #00897b;
  --md-teal-700: #00796b;
  --md-teal-800: #00695c;
  --md-teal-900: #004d40;
  --md-teal-A100: #a7ffeb;
  --md-teal-A200: #64ffda;
  --md-teal-A400: #1de9b6;
  --md-teal-A700: #00bfa5;

  --md-green-50: #e8f5e9;
  --md-green-100: #c8e6c9;
  --md-green-200: #a5d6a7;
  --md-green-300: #81c784;
  --md-green-400: #66bb6a;
  --md-green-500: #4caf50;
  --md-green-600: #43a047;
  --md-green-700: #388e3c;
  --md-green-800: #2e7d32;
  --md-green-900: #1b5e20;
  --md-green-A100: #b9f6ca;
  --md-green-A200: #69f0ae;
  --md-green-A400: #00e676;
  --md-green-A700: #00c853;

  --md-light-green-50: #f1f8e9;
  --md-light-green-100: #dcedc8;
  --md-light-green-200: #c5e1a5;
  --md-light-green-300: #aed581;
  --md-light-green-400: #9ccc65;
  --md-light-green-500: #8bc34a;
  --md-light-green-600: #7cb342;
  --md-light-green-700: #689f38;
  --md-light-green-800: #558b2f;
  --md-light-green-900: #33691e;
  --md-light-green-A100: #ccff90;
  --md-light-green-A200: #b2ff59;
  --md-light-green-A400: #76ff03;
  --md-light-green-A700: #64dd17;

  --md-lime-50: #f9fbe7;
  --md-lime-100: #f0f4c3;
  --md-lime-200: #e6ee9c;
  --md-lime-300: #dce775;
  --md-lime-400: #d4e157;
  --md-lime-500: #cddc39;
  --md-lime-600: #c0ca33;
  --md-lime-700: #afb42b;
  --md-lime-800: #9e9d24;
  --md-lime-900: #827717;
  --md-lime-A100: #f4ff81;
  --md-lime-A200: #eeff41;
  --md-lime-A400: #c6ff00;
  --md-lime-A700: #aeea00;

  --md-yellow-50: #fffde7;
  --md-yellow-100: #fff9c4;
  --md-yellow-200: #fff59d;
  --md-yellow-300: #fff176;
  --md-yellow-400: #ffee58;
  --md-yellow-500: #ffeb3b;
  --md-yellow-600: #fdd835;
  --md-yellow-700: #fbc02d;
  --md-yellow-800: #f9a825;
  --md-yellow-900: #f57f17;
  --md-yellow-A100: #ffff8d;
  --md-yellow-A200: #ffff00;
  --md-yellow-A400: #ffea00;
  --md-yellow-A700: #ffd600;

  --md-amber-50: #fff8e1;
  --md-amber-100: #ffecb3;
  --md-amber-200: #ffe082;
  --md-amber-300: #ffd54f;
  --md-amber-400: #ffca28;
  --md-amber-500: #ffc107;
  --md-amber-600: #ffb300;
  --md-amber-700: #ffa000;
  --md-amber-800: #ff8f00;
  --md-amber-900: #ff6f00;
  --md-amber-A100: #ffe57f;
  --md-amber-A200: #ffd740;
  --md-amber-A400: #ffc400;
  --md-amber-A700: #ffab00;

  --md-orange-50: #fff3e0;
  --md-orange-100: #ffe0b2;
  --md-orange-200: #ffcc80;
  --md-orange-300: #ffb74d;
  --md-orange-400: #ffa726;
  --md-orange-500: #ff9800;
  --md-orange-600: #fb8c00;
  --md-orange-700: #f57c00;
  --md-orange-800: #ef6c00;
  --md-orange-900: #e65100;
  --md-orange-A100: #ffd180;
  --md-orange-A200: #ffab40;
  --md-orange-A400: #ff9100;
  --md-orange-A700: #ff6d00;

  --md-deep-orange-50: #fbe9e7;
  --md-deep-orange-100: #ffccbc;
  --md-deep-orange-200: #ffab91;
  --md-deep-orange-300: #ff8a65;
  --md-deep-orange-400: #ff7043;
  --md-deep-orange-500: #ff5722;
  --md-deep-orange-600: #f4511e;
  --md-deep-orange-700: #e64a19;
  --md-deep-orange-800: #d84315;
  --md-deep-orange-900: #bf360c;
  --md-deep-orange-A100: #ff9e80;
  --md-deep-orange-A200: #ff6e40;
  --md-deep-orange-A400: #ff3d00;
  --md-deep-orange-A700: #dd2c00;

  --md-brown-50: #efebe9;
  --md-brown-100: #d7ccc8;
  --md-brown-200: #bcaaa4;
  --md-brown-300: #a1887f;
  --md-brown-400: #8d6e63;
  --md-brown-500: #795548;
  --md-brown-600: #6d4c41;
  --md-brown-700: #5d4037;
  --md-brown-800: #4e342e;
  --md-brown-900: #3e2723;

  --md-grey-50: #fafafa;
  --md-grey-100: #f5f5f5;
  --md-grey-200: #eeeeee;
  --md-grey-300: #e0e0e0;
  --md-grey-400: #bdbdbd;
  --md-grey-500: #9e9e9e;
  --md-grey-600: #757575;
  --md-grey-700: #616161;
  --md-grey-800: #424242;
  --md-grey-900: #212121;

  --md-blue-grey-50: #eceff1;
  --md-blue-grey-100: #cfd8dc;
  --md-blue-grey-200: #b0bec5;
  --md-blue-grey-300: #90a4ae;
  --md-blue-grey-400: #78909c;
  --md-blue-grey-500: #607d8b;
  --md-blue-grey-600: #546e7a;
  --md-blue-grey-700: #455a64;
  --md-blue-grey-800: #37474f;
  --md-blue-grey-900: #263238;
}

/*-----------------------------------------------------------------------------
| Copyright (c) 2017, Jupyter Development Team.
|
| Distributed under the terms of the Modified BSD License.
|----------------------------------------------------------------------------*/

.jp-Spinner {
  position: absolute;
  display: flex;
  justify-content: center;
  align-items: center;
  z-index: 10;
  left: 0;
  top: 0;
  width: 100%;
  height: 100%;
  background: var(--jp-layout-color0);
  outline: none;
}

.jp-SpinnerContent {
  font-size: 10px;
  margin: 50px auto;
  text-indent: -9999em;
  width: 3em;
  height: 3em;
  border-radius: 50%;
  background: var(--jp-brand-color3);
  background: linear-gradient(
    to right,
    #f37626 10%,
    rgba(255, 255, 255, 0) 42%
  );
  position: relative;
  animation: load3 1s infinite linear, fadeIn 1s;
}

.jp-SpinnerContent:before {
  width: 50%;
  height: 50%;
  background: #f37626;
  border-radius: 100% 0 0 0;
  position: absolute;
  top: 0;
  left: 0;
  content: '';
}

.jp-SpinnerContent:after {
  background: var(--jp-layout-color0);
  width: 75%;
  height: 75%;
  border-radius: 50%;
  content: '';
  margin: auto;
  position: absolute;
  top: 0;
  left: 0;
  bottom: 0;
  right: 0;
}

@keyframes fadeIn {
  0% {
    opacity: 0;
  }
  100% {
    opacity: 1;
  }
}

@keyframes load3 {
  0% {
    transform: rotate(0deg);
  }
  100% {
    transform: rotate(360deg);
  }
}

/*-----------------------------------------------------------------------------
| Copyright (c) 2014-2017, Jupyter Development Team.
|
| Distributed under the terms of the Modified BSD License.
|----------------------------------------------------------------------------*/

button.jp-mod-styled {
  font-size: var(--jp-ui-font-size1);
  color: var(--jp-ui-font-color0);
  border: none;
  box-sizing: border-box;
  text-align: center;
  line-height: 32px;
  height: 32px;
  padding: 0px 12px;
  letter-spacing: 0.8px;
  outline: none;
  appearance: none;
  -webkit-appearance: none;
  -moz-appearance: none;
}

input.jp-mod-styled {
  background: var(--jp-input-background);
  height: 28px;
  box-sizing: border-box;
  border: var(--jp-border-width) solid var(--jp-border-color1);
  padding-left: 7px;
  padding-right: 7px;
  font-size: var(--jp-ui-font-size2);
  color: var(--jp-ui-font-color0);
  outline: none;
  appearance: none;
  -webkit-appearance: none;
  -moz-appearance: none;
}

input[type='checkbox'].jp-mod-styled {
  appearance: checkbox;
  -webkit-appearance: checkbox;
  -moz-appearance: checkbox;
  height: auto;
}

input.jp-mod-styled:focus {
  border: var(--jp-border-width) solid var(--md-blue-500);
  box-shadow: inset 0 0 4px var(--md-blue-300);
}

.jp-FileDialog-Checkbox {
  margin-top: 35px;
  display: flex;
  flex-direction: row;
  align-items: end;
  width: 100%;
}

.jp-FileDialog-Checkbox > label {
  flex: 1 1 auto;
}

.jp-select-wrapper {
  display: flex;
  position: relative;
  flex-direction: column;
  padding: 1px;
  background-color: var(--jp-layout-color1);
  height: 28px;
  box-sizing: border-box;
  margin-bottom: 12px;
}

.jp-select-wrapper.jp-mod-focused select.jp-mod-styled {
  border: var(--jp-border-width) solid var(--jp-input-active-border-color);
  box-shadow: var(--jp-input-box-shadow);
  background-color: var(--jp-input-active-background);
}

select.jp-mod-styled:hover {
  background-color: var(--jp-layout-color1);
  cursor: pointer;
  color: var(--jp-ui-font-color0);
  background-color: var(--jp-input-hover-background);
  box-shadow: inset 0 0px 1px rgba(0, 0, 0, 0.5);
}

select.jp-mod-styled {
  flex: 1 1 auto;
  height: 32px;
  width: 100%;
  font-size: var(--jp-ui-font-size2);
  background: var(--jp-input-background);
  color: var(--jp-ui-font-color0);
  padding: 0 25px 0 8px;
  border: var(--jp-border-width) solid var(--jp-input-border-color);
  border-radius: 0px;
  outline: none;
  appearance: none;
  -webkit-appearance: none;
  -moz-appearance: none;
}

/*-----------------------------------------------------------------------------
| Copyright (c) 2014-2016, Jupyter Development Team.
|
| Distributed under the terms of the Modified BSD License.
|----------------------------------------------------------------------------*/

:root {
  --jp-private-toolbar-height: calc(
    28px + var(--jp-border-width)
  ); /* leave 28px for content */
}

.jp-Toolbar {
  color: var(--jp-ui-font-color1);
  flex: 0 0 auto;
  display: flex;
  flex-direction: row;
  border-bottom: var(--jp-border-width) solid var(--jp-toolbar-border-color);
  box-shadow: var(--jp-toolbar-box-shadow);
  background: var(--jp-toolbar-background);
  min-height: var(--jp-toolbar-micro-height);
  padding: 2px;
  z-index: 1;
  overflow-x: auto;
}

/* Toolbar items */

.jp-Toolbar > .jp-Toolbar-item.jp-Toolbar-spacer {
  flex-grow: 1;
  flex-shrink: 1;
}

.jp-Toolbar-item.jp-Toolbar-kernelStatus {
  display: inline-block;
  width: 32px;
  background-repeat: no-repeat;
  background-position: center;
  background-size: 16px;
}

.jp-Toolbar > .jp-Toolbar-item {
  flex: 0 0 auto;
  display: flex;
  padding-left: 1px;
  padding-right: 1px;
  font-size: var(--jp-ui-font-size1);
  line-height: var(--jp-private-toolbar-height);
  height: 100%;
}

/* Toolbar buttons */

/* This is the div we use to wrap the react component into a Widget */
div.jp-ToolbarButton {
  color: transparent;
  border: none;
  box-sizing: border-box;
  outline: none;
  appearance: none;
  -webkit-appearance: none;
  -moz-appearance: none;
  padding: 0px;
  margin: 0px;
}

button.jp-ToolbarButtonComponent {
  background: var(--jp-layout-color1);
  border: none;
  box-sizing: border-box;
  outline: none;
  appearance: none;
  -webkit-appearance: none;
  -moz-appearance: none;
  padding: 0px 6px;
  margin: 0px;
  height: 24px;
  border-radius: var(--jp-border-radius);
  display: flex;
  align-items: center;
  text-align: center;
  font-size: 14px;
  min-width: unset;
  min-height: unset;
}

button.jp-ToolbarButtonComponent:disabled {
  opacity: 0.4;
}

button.jp-ToolbarButtonComponent span {
  padding: 0px;
  flex: 0 0 auto;
}

button.jp-ToolbarButtonComponent .jp-ToolbarButtonComponent-label {
  font-size: var(--jp-ui-font-size1);
  line-height: 100%;
  padding-left: 2px;
  color: var(--jp-ui-font-color1);
}

#jp-main-dock-panel[data-mode='single-document']
  .jp-MainAreaWidget
  > .jp-Toolbar.jp-Toolbar-micro {
  padding: 0;
  min-height: 0;
}

#jp-main-dock-panel[data-mode='single-document']
  .jp-MainAreaWidget
  > .jp-Toolbar {
  border: none;
  box-shadow: none;
}

/*-----------------------------------------------------------------------------
| Copyright (c) 2014-2017, Jupyter Development Team.
|
| Distributed under the terms of the Modified BSD License.
|----------------------------------------------------------------------------*/

/*-----------------------------------------------------------------------------
| Copyright (c) Jupyter Development Team.
| Copyright (c) 2014-2017, PhosphorJS Contributors
|
| Distributed under the terms of the BSD 3-Clause License.
|
| The full license is in the file LICENSE, distributed with this software.
|----------------------------------------------------------------------------*/


/* <DEPRECATED> */ body.p-mod-override-cursor *, /* </DEPRECATED> */
body.lm-mod-override-cursor * {
  cursor: inherit !important;
}

/*-----------------------------------------------------------------------------
| Copyright (c) 2014-2016, Jupyter Development Team.
|
| Distributed under the terms of the Modified BSD License.
|----------------------------------------------------------------------------*/

.jp-JSONEditor {
  display: flex;
  flex-direction: column;
  width: 100%;
}

.jp-JSONEditor-host {
  flex: 1 1 auto;
  border: var(--jp-border-width) solid var(--jp-input-border-color);
  border-radius: 0px;
  background: var(--jp-layout-color0);
  min-height: 50px;
  padding: 1px;
}

.jp-JSONEditor.jp-mod-error .jp-JSONEditor-host {
  border-color: red;
  outline-color: red;
}

.jp-JSONEditor-header {
  display: flex;
  flex: 1 0 auto;
  padding: 0 0 0 12px;
}

.jp-JSONEditor-header label {
  flex: 0 0 auto;
}

.jp-JSONEditor-commitButton {
  height: 16px;
  width: 16px;
  background-size: 18px;
  background-repeat: no-repeat;
  background-position: center;
}

.jp-JSONEditor-host.jp-mod-focused {
  background-color: var(--jp-input-active-background);
  border: 1px solid var(--jp-input-active-border-color);
  box-shadow: var(--jp-input-box-shadow);
}

.jp-Editor.jp-mod-dropTarget {
  border: var(--jp-border-width) solid var(--jp-input-active-border-color);
  box-shadow: var(--jp-input-box-shadow);
}

/* BASICS */

.CodeMirror {
  /* Set height, width, borders, and global font properties here */
  font-family: monospace;
  height: 300px;
  color: black;
  direction: ltr;
}

/* PADDING */

.CodeMirror-lines {
  padding: 4px 0; /* Vertical padding around content */
}
.CodeMirror pre.CodeMirror-line,
.CodeMirror pre.CodeMirror-line-like {
  padding: 0 4px; /* Horizontal padding of content */
}

.CodeMirror-scrollbar-filler, .CodeMirror-gutter-filler {
  background-color: white; /* The little square between H and V scrollbars */
}

/* GUTTER */

.CodeMirror-gutters {
  border-right: 1px solid #ddd;
  background-color: #f7f7f7;
  white-space: nowrap;
}
.CodeMirror-linenumbers {}
.CodeMirror-linenumber {
  padding: 0 3px 0 5px;
  min-width: 20px;
  text-align: right;
  color: #999;
  white-space: nowrap;
}

.CodeMirror-guttermarker { color: black; }
.CodeMirror-guttermarker-subtle { color: #999; }

/* CURSOR */

.CodeMirror-cursor {
  border-left: 1px solid black;
  border-right: none;
  width: 0;
}
/* Shown when moving in bi-directional text */
.CodeMirror div.CodeMirror-secondarycursor {
  border-left: 1px solid silver;
}
.cm-fat-cursor .CodeMirror-cursor {
  width: auto;
  border: 0 !important;
  background: #7e7;
}
.cm-fat-cursor div.CodeMirror-cursors {
  z-index: 1;
}
.cm-fat-cursor-mark {
  background-color: rgba(20, 255, 20, 0.5);
  -webkit-animation: blink 1.06s steps(1) infinite;
  -moz-animation: blink 1.06s steps(1) infinite;
  animation: blink 1.06s steps(1) infinite;
}
.cm-animate-fat-cursor {
  width: auto;
  border: 0;
  -webkit-animation: blink 1.06s steps(1) infinite;
  -moz-animation: blink 1.06s steps(1) infinite;
  animation: blink 1.06s steps(1) infinite;
  background-color: #7e7;
}
@-moz-keyframes blink {
  0% {}
  50% { background-color: transparent; }
  100% {}
}
@-webkit-keyframes blink {
  0% {}
  50% { background-color: transparent; }
  100% {}
}
@keyframes blink {
  0% {}
  50% { background-color: transparent; }
  100% {}
}

/* Can style cursor different in overwrite (non-insert) mode */
.CodeMirror-overwrite .CodeMirror-cursor {}

.cm-tab { display: inline-block; text-decoration: inherit; }

.CodeMirror-rulers {
  position: absolute;
  left: 0; right: 0; top: -50px; bottom: 0;
  overflow: hidden;
}
.CodeMirror-ruler {
  border-left: 1px solid #ccc;
  top: 0; bottom: 0;
  position: absolute;
}

/* DEFAULT THEME */

.cm-s-default .cm-header {color: blue;}
.cm-s-default .cm-quote {color: #090;}
.cm-negative {color: #d44;}
.cm-positive {color: #292;}
.cm-header, .cm-strong {font-weight: bold;}
.cm-em {font-style: italic;}
.cm-link {text-decoration: underline;}
.cm-strikethrough {text-decoration: line-through;}

.cm-s-default .cm-keyword {color: #708;}
.cm-s-default .cm-atom {color: #219;}
.cm-s-default .cm-number {color: #164;}
.cm-s-default .cm-def {color: #00f;}
.cm-s-default .cm-variable,
.cm-s-default .cm-punctuation,
.cm-s-default .cm-property,
.cm-s-default .cm-operator {}
.cm-s-default .cm-variable-2 {color: #05a;}
.cm-s-default .cm-variable-3, .cm-s-default .cm-type {color: #085;}
.cm-s-default .cm-comment {color: #a50;}
.cm-s-default .cm-string {color: #a11;}
.cm-s-default .cm-string-2 {color: #f50;}
.cm-s-default .cm-meta {color: #555;}
.cm-s-default .cm-qualifier {color: #555;}
.cm-s-default .cm-builtin {color: #30a;}
.cm-s-default .cm-bracket {color: #997;}
.cm-s-default .cm-tag {color: #170;}
.cm-s-default .cm-attribute {color: #00c;}
.cm-s-default .cm-hr {color: #999;}
.cm-s-default .cm-link {color: #00c;}

.cm-s-default .cm-error {color: #f00;}
.cm-invalidchar {color: #f00;}

.CodeMirror-composing { border-bottom: 2px solid; }

/* Default styles for common addons */

div.CodeMirror span.CodeMirror-matchingbracket {color: #0b0;}
div.CodeMirror span.CodeMirror-nonmatchingbracket {color: #a22;}
.CodeMirror-matchingtag { background: rgba(255, 150, 0, .3); }
.CodeMirror-activeline-background {background: #e8f2ff;}

/* STOP */

/* The rest of this file contains styles related to the mechanics of
   the editor. You probably shouldn't touch them. */

.CodeMirror {
  position: relative;
  overflow: hidden;
  background: white;
}

.CodeMirror-scroll {
  overflow: scroll !important; /* Things will break if this is overridden */
  /* 50px is the magic margin used to hide the element's real scrollbars */
  /* See overflow: hidden in .CodeMirror */
  margin-bottom: -50px; margin-right: -50px;
  padding-bottom: 50px;
  height: 100%;
  outline: none; /* Prevent dragging from highlighting the element */
  position: relative;
}
.CodeMirror-sizer {
  position: relative;
  border-right: 50px solid transparent;
}

/* The fake, visible scrollbars. Used to force redraw during scrolling
   before actual scrolling happens, thus preventing shaking and
   flickering artifacts. */
.CodeMirror-vscrollbar, .CodeMirror-hscrollbar, .CodeMirror-scrollbar-filler, .CodeMirror-gutter-filler {
  position: absolute;
  z-index: 6;
  display: none;
  outline: none;
}
.CodeMirror-vscrollbar {
  right: 0; top: 0;
  overflow-x: hidden;
  overflow-y: scroll;
}
.CodeMirror-hscrollbar {
  bottom: 0; left: 0;
  overflow-y: hidden;
  overflow-x: scroll;
}
.CodeMirror-scrollbar-filler {
  right: 0; bottom: 0;
}
.CodeMirror-gutter-filler {
  left: 0; bottom: 0;
}

.CodeMirror-gutters {
  position: absolute; left: 0; top: 0;
  min-height: 100%;
  z-index: 3;
}
.CodeMirror-gutter {
  white-space: normal;
  height: 100%;
  display: inline-block;
  vertical-align: top;
  margin-bottom: -50px;
}
.CodeMirror-gutter-wrapper {
  position: absolute;
  z-index: 4;
  background: none !important;
  border: none !important;
}
.CodeMirror-gutter-background {
  position: absolute;
  top: 0; bottom: 0;
  z-index: 4;
}
.CodeMirror-gutter-elt {
  position: absolute;
  cursor: default;
  z-index: 4;
}
.CodeMirror-gutter-wrapper ::selection { background-color: transparent }
.CodeMirror-gutter-wrapper ::-moz-selection { background-color: transparent }

.CodeMirror-lines {
  cursor: text;
  min-height: 1px; /* prevents collapsing before first draw */
}
.CodeMirror pre.CodeMirror-line,
.CodeMirror pre.CodeMirror-line-like {
  /* Reset some styles that the rest of the page might have set */
  -moz-border-radius: 0; -webkit-border-radius: 0; border-radius: 0;
  border-width: 0;
  background: transparent;
  font-family: inherit;
  font-size: inherit;
  margin: 0;
  white-space: pre;
  word-wrap: normal;
  line-height: inherit;
  color: inherit;
  z-index: 2;
  position: relative;
  overflow: visible;
  -webkit-tap-highlight-color: transparent;
  -webkit-font-variant-ligatures: contextual;
  font-variant-ligatures: contextual;
}
.CodeMirror-wrap pre.CodeMirror-line,
.CodeMirror-wrap pre.CodeMirror-line-like {
  word-wrap: break-word;
  white-space: pre-wrap;
  word-break: normal;
}

.CodeMirror-linebackground {
  position: absolute;
  left: 0; right: 0; top: 0; bottom: 0;
  z-index: 0;
}

.CodeMirror-linewidget {
  position: relative;
  z-index: 2;
  padding: 0.1px; /* Force widget margins to stay inside of the container */
}

.CodeMirror-widget {}

.CodeMirror-rtl pre { direction: rtl; }

.CodeMirror-code {
  outline: none;
}

/* Force content-box sizing for the elements where we expect it */
.CodeMirror-scroll,
.CodeMirror-sizer,
.CodeMirror-gutter,
.CodeMirror-gutters,
.CodeMirror-linenumber {
  -moz-box-sizing: content-box;
  box-sizing: content-box;
}

.CodeMirror-measure {
  position: absolute;
  width: 100%;
  height: 0;
  overflow: hidden;
  visibility: hidden;
}

.CodeMirror-cursor {
  position: absolute;
  pointer-events: none;
}
.CodeMirror-measure pre { position: static; }

div.CodeMirror-cursors {
  visibility: hidden;
  position: relative;
  z-index: 3;
}
div.CodeMirror-dragcursors {
  visibility: visible;
}

.CodeMirror-focused div.CodeMirror-cursors {
  visibility: visible;
}

.CodeMirror-selected { background: #d9d9d9; }
.CodeMirror-focused .CodeMirror-selected { background: #d7d4f0; }
.CodeMirror-crosshair { cursor: crosshair; }
.CodeMirror-line::selection, .CodeMirror-line > span::selection, .CodeMirror-line > span > span::selection { background: #d7d4f0; }
.CodeMirror-line::-moz-selection, .CodeMirror-line > span::-moz-selection, .CodeMirror-line > span > span::-moz-selection { background: #d7d4f0; }

.cm-searching {
  background-color: #ffa;
  background-color: rgba(255, 255, 0, .4);
}

/* Used to force a border model for a node */
.cm-force-border { padding-right: .1px; }

@media print {
  /* Hide the cursor when printing */
  .CodeMirror div.CodeMirror-cursors {
    visibility: hidden;
  }
}

/* See issue #2901 */
.cm-tab-wrap-hack:after { content: ''; }

/* Help users use markselection to safely style text background */
span.CodeMirror-selectedtext { background: none; }

.CodeMirror-dialog {
  position: absolute;
  left: 0; right: 0;
  background: inherit;
  z-index: 15;
  padding: .1em .8em;
  overflow: hidden;
  color: inherit;
}

.CodeMirror-dialog-top {
  border-bottom: 1px solid #eee;
  top: 0;
}

.CodeMirror-dialog-bottom {
  border-top: 1px solid #eee;
  bottom: 0;
}

.CodeMirror-dialog input {
  border: none;
  outline: none;
  background: transparent;
  width: 20em;
  color: inherit;
  font-family: monospace;
}

.CodeMirror-dialog button {
  font-size: 70%;
}

.CodeMirror-foldmarker {
  color: blue;
  text-shadow: #b9f 1px 1px 2px, #b9f -1px -1px 2px, #b9f 1px -1px 2px, #b9f -1px 1px 2px;
  font-family: arial;
  line-height: .3;
  cursor: pointer;
}
.CodeMirror-foldgutter {
  width: .7em;
}
.CodeMirror-foldgutter-open,
.CodeMirror-foldgutter-folded {
  cursor: pointer;
}
.CodeMirror-foldgutter-open:after {
  content: "\25BE";
}
.CodeMirror-foldgutter-folded:after {
  content: "\25B8";
}

/*-----------------------------------------------------------------------------
| Copyright (c) Jupyter Development Team.
| Distributed under the terms of the Modified BSD License.
|----------------------------------------------------------------------------*/

.CodeMirror {
  line-height: var(--jp-code-line-height);
  font-size: var(--jp-code-font-size);
  font-family: var(--jp-code-font-family);
  border: 0;
  border-radius: 0;
  height: auto;
  /* Changed to auto to autogrow */
}

.CodeMirror pre {
  padding: 0 var(--jp-code-padding);
}

.jp-CodeMirrorEditor[data-type='inline'] .CodeMirror-dialog {
  background-color: var(--jp-layout-color0);
  color: var(--jp-content-font-color1);
}

/* This causes https://github.com/jupyter/jupyterlab/issues/522 */
/* May not cause it not because we changed it! */
.CodeMirror-lines {
  padding: var(--jp-code-padding) 0;
}

.CodeMirror-linenumber {
  padding: 0 8px;
}

.jp-CodeMirrorEditor {
  cursor: text;
}

.jp-CodeMirrorEditor[data-type='inline'] .CodeMirror-cursor {
  border-left: var(--jp-code-cursor-width0) solid var(--jp-editor-cursor-color);
}

/* When zoomed out 67% and 33% on a screen of 1440 width x 900 height */
@media screen and (min-width: 2138px) and (max-width: 4319px) {
  .jp-CodeMirrorEditor[data-type='inline'] .CodeMirror-cursor {
    border-left: var(--jp-code-cursor-width1) solid
      var(--jp-editor-cursor-color);
  }
}

/* When zoomed out less than 33% */
@media screen and (min-width: 4320px) {
  .jp-CodeMirrorEditor[data-type='inline'] .CodeMirror-cursor {
    border-left: var(--jp-code-cursor-width2) solid
      var(--jp-editor-cursor-color);
  }
}

.CodeMirror.jp-mod-readOnly .CodeMirror-cursor {
  display: none;
}

.CodeMirror-gutters {
  border-right: 1px solid var(--jp-border-color2);
  background-color: var(--jp-layout-color0);
}

.jp-CollaboratorCursor {
  border-left: 5px solid transparent;
  border-right: 5px solid transparent;
  border-top: none;
  border-bottom: 3px solid;
  background-clip: content-box;
  margin-left: -5px;
  margin-right: -5px;
}

.CodeMirror-selectedtext.cm-searching {
  background-color: var(--jp-search-selected-match-background-color) !important;
  color: var(--jp-search-selected-match-color) !important;
}

.cm-searching {
  background-color: var(
    --jp-search-unselected-match-background-color
  ) !important;
  color: var(--jp-search-unselected-match-color) !important;
}

.CodeMirror-focused .CodeMirror-selected {
  background-color: var(--jp-editor-selected-focused-background);
}

.CodeMirror-selected {
  background-color: var(--jp-editor-selected-background);
}

.jp-CollaboratorCursor-hover {
  position: absolute;
  z-index: 1;
  transform: translateX(-50%);
  color: white;
  border-radius: 3px;
  padding-left: 4px;
  padding-right: 4px;
  padding-top: 1px;
  padding-bottom: 1px;
  text-align: center;
  font-size: var(--jp-ui-font-size1);
  white-space: nowrap;
}

.jp-CodeMirror-ruler {
  border-left: 1px dashed var(--jp-border-color2);
}

/**
 * Here is our jupyter theme for CodeMirror syntax highlighting
 * This is used in our marked.js syntax highlighting and CodeMirror itself
 * The string "jupyter" is set in ../codemirror/widget.DEFAULT_CODEMIRROR_THEME
 * This came from the classic notebook, which came form highlight.js/GitHub
 */

/**
 * CodeMirror themes are handling the background/color in this way. This works
 * fine for CodeMirror editors outside the notebook, but the notebook styles
 * these things differently.
 */
.CodeMirror.cm-s-jupyter {
  background: var(--jp-layout-color0);
  color: var(--jp-content-font-color1);
}

/* In the notebook, we want this styling to be handled by its container */
.jp-CodeConsole .CodeMirror.cm-s-jupyter,
.jp-Notebook .CodeMirror.cm-s-jupyter {
  background: transparent;
}

.cm-s-jupyter .CodeMirror-cursor {
  border-left: var(--jp-code-cursor-width0) solid var(--jp-editor-cursor-color);
}
.cm-s-jupyter span.cm-keyword {
  color: var(--jp-mirror-editor-keyword-color);
  font-weight: bold;
}
.cm-s-jupyter span.cm-atom {
  color: var(--jp-mirror-editor-atom-color);
}
.cm-s-jupyter span.cm-number {
  color: var(--jp-mirror-editor-number-color);
}
.cm-s-jupyter span.cm-def {
  color: var(--jp-mirror-editor-def-color);
}
.cm-s-jupyter span.cm-variable {
  color: var(--jp-mirror-editor-variable-color);
}
.cm-s-jupyter span.cm-variable-2 {
  color: var(--jp-mirror-editor-variable-2-color);
}
.cm-s-jupyter span.cm-variable-3 {
  color: var(--jp-mirror-editor-variable-3-color);
}
.cm-s-jupyter span.cm-punctuation {
  color: var(--jp-mirror-editor-punctuation-color);
}
.cm-s-jupyter span.cm-property {
  color: var(--jp-mirror-editor-property-color);
}
.cm-s-jupyter span.cm-operator {
  color: var(--jp-mirror-editor-operator-color);
  font-weight: bold;
}
.cm-s-jupyter span.cm-comment {
  color: var(--jp-mirror-editor-comment-color);
  font-style: italic;
}
.cm-s-jupyter span.cm-string {
  color: var(--jp-mirror-editor-string-color);
}
.cm-s-jupyter span.cm-string-2 {
  color: var(--jp-mirror-editor-string-2-color);
}
.cm-s-jupyter span.cm-meta {
  color: var(--jp-mirror-editor-meta-color);
}
.cm-s-jupyter span.cm-qualifier {
  color: var(--jp-mirror-editor-qualifier-color);
}
.cm-s-jupyter span.cm-builtin {
  color: var(--jp-mirror-editor-builtin-color);
}
.cm-s-jupyter span.cm-bracket {
  color: var(--jp-mirror-editor-bracket-color);
}
.cm-s-jupyter span.cm-tag {
  color: var(--jp-mirror-editor-tag-color);
}
.cm-s-jupyter span.cm-attribute {
  color: var(--jp-mirror-editor-attribute-color);
}
.cm-s-jupyter span.cm-header {
  color: var(--jp-mirror-editor-header-color);
}
.cm-s-jupyter span.cm-quote {
  color: var(--jp-mirror-editor-quote-color);
}
.cm-s-jupyter span.cm-link {
  color: var(--jp-mirror-editor-link-color);
}
.cm-s-jupyter span.cm-error {
  color: var(--jp-mirror-editor-error-color);
}
.cm-s-jupyter span.cm-hr {
  color: #999;
}

.cm-s-jupyter span.cm-tab {
  background: url(data:image/png;base64,iVBORw0KGgoAAAANSUhEUgAAADAAAAAMCAYAAAAkuj5RAAAAAXNSR0IArs4c6QAAAGFJREFUSMft1LsRQFAQheHPowAKoACx3IgEKtaEHujDjORSgWTH/ZOdnZOcM/sgk/kFFWY0qV8foQwS4MKBCS3qR6ixBJvElOobYAtivseIE120FaowJPN75GMu8j/LfMwNjh4HUpwg4LUAAAAASUVORK5CYII=);
  background-position: right;
  background-repeat: no-repeat;
}

.cm-s-jupyter .CodeMirror-activeline-background,
.cm-s-jupyter .CodeMirror-gutter {
  background-color: var(--jp-layout-color2);
}

/* Styles for shared cursors (remote cursor locations and selected ranges) */
.jp-CodeMirrorEditor .remote-caret {
  position: relative;
  border-left: 2px solid black;
  margin-left: -1px;
  margin-right: -1px;
  box-sizing: border-box;
}

.jp-CodeMirrorEditor .remote-caret > div {
  white-space: nowrap;
  position: absolute;
  top: -1.15em;
  padding-bottom: 0.05em;
  left: -2px;
  font-size: 0.95em;
  background-color: rgb(250, 129, 0);
  font-family: var(--jp-ui-font-family);
  font-weight: bold;
  line-height: normal;
  user-select: none;
  color: white;
  padding-left: 2px;
  padding-right: 2px;
  z-index: 3;
  transition: opacity 0.3s ease-in-out;
}

.jp-CodeMirrorEditor .remote-caret.hide-name > div {
  transition-delay: 0.7s;
  opacity: 0;
}

.jp-CodeMirrorEditor .remote-caret:hover > div {
  opacity: 1;
  transition-delay: 0s;
}

/*-----------------------------------------------------------------------------
| Copyright (c) Jupyter Development Team.
| Distributed under the terms of the Modified BSD License.
|----------------------------------------------------------------------------*/

/*-----------------------------------------------------------------------------
| RenderedText
|----------------------------------------------------------------------------*/

:root {
  /* This is the padding value to fill the gaps between lines containing spans with background color. */
  --jp-private-code-span-padding: calc(
    (var(--jp-code-line-height) - 1) * var(--jp-code-font-size) / 2
  );
}

.jp-RenderedText {
  text-align: left;
  padding-left: var(--jp-code-padding);
  line-height: var(--jp-code-line-height);
  font-family: var(--jp-code-font-family);
}

.jp-RenderedText pre,
.jp-RenderedJavaScript pre,
.jp-RenderedHTMLCommon pre {
  color: var(--jp-content-font-color1);
  font-size: var(--jp-code-font-size);
  border: none;
  margin: 0px;
  padding: 0px;
}

.jp-RenderedText pre a:link {
  text-decoration: none;
  color: var(--jp-content-link-color);
}
.jp-RenderedText pre a:hover {
  text-decoration: underline;
  color: var(--jp-content-link-color);
}
.jp-RenderedText pre a:visited {
  text-decoration: none;
  color: var(--jp-content-link-color);
}

/* console foregrounds and backgrounds */
.jp-RenderedText pre .ansi-black-fg {
  color: #3e424d;
}
.jp-RenderedText pre .ansi-red-fg {
  color: #e75c58;
}
.jp-RenderedText pre .ansi-green-fg {
  color: #00a250;
}
.jp-RenderedText pre .ansi-yellow-fg {
  color: #ddb62b;
}
.jp-RenderedText pre .ansi-blue-fg {
  color: #208ffb;
}
.jp-RenderedText pre .ansi-magenta-fg {
  color: #d160c4;
}
.jp-RenderedText pre .ansi-cyan-fg {
  color: #60c6c8;
}
.jp-RenderedText pre .ansi-white-fg {
  color: #c5c1b4;
}

.jp-RenderedText pre .ansi-black-bg {
  background-color: #3e424d;
  padding: var(--jp-private-code-span-padding) 0;
}
.jp-RenderedText pre .ansi-red-bg {
  background-color: #e75c58;
  padding: var(--jp-private-code-span-padding) 0;
}
.jp-RenderedText pre .ansi-green-bg {
  background-color: #00a250;
  padding: var(--jp-private-code-span-padding) 0;
}
.jp-RenderedText pre .ansi-yellow-bg {
  background-color: #ddb62b;
  padding: var(--jp-private-code-span-padding) 0;
}
.jp-RenderedText pre .ansi-blue-bg {
  background-color: #208ffb;
  padding: var(--jp-private-code-span-padding) 0;
}
.jp-RenderedText pre .ansi-magenta-bg {
  background-color: #d160c4;
  padding: var(--jp-private-code-span-padding) 0;
}
.jp-RenderedText pre .ansi-cyan-bg {
  background-color: #60c6c8;
  padding: var(--jp-private-code-span-padding) 0;
}
.jp-RenderedText pre .ansi-white-bg {
  background-color: #c5c1b4;
  padding: var(--jp-private-code-span-padding) 0;
}

.jp-RenderedText pre .ansi-black-intense-fg {
  color: #282c36;
}
.jp-RenderedText pre .ansi-red-intense-fg {
  color: #b22b31;
}
.jp-RenderedText pre .ansi-green-intense-fg {
  color: #007427;
}
.jp-RenderedText pre .ansi-yellow-intense-fg {
  color: #b27d12;
}
.jp-RenderedText pre .ansi-blue-intense-fg {
  color: #0065ca;
}
.jp-RenderedText pre .ansi-magenta-intense-fg {
  color: #a03196;
}
.jp-RenderedText pre .ansi-cyan-intense-fg {
  color: #258f8f;
}
.jp-RenderedText pre .ansi-white-intense-fg {
  color: #a1a6b2;
}

.jp-RenderedText pre .ansi-black-intense-bg {
  background-color: #282c36;
  padding: var(--jp-private-code-span-padding) 0;
}
.jp-RenderedText pre .ansi-red-intense-bg {
  background-color: #b22b31;
  padding: var(--jp-private-code-span-padding) 0;
}
.jp-RenderedText pre .ansi-green-intense-bg {
  background-color: #007427;
  padding: var(--jp-private-code-span-padding) 0;
}
.jp-RenderedText pre .ansi-yellow-intense-bg {
  background-color: #b27d12;
  padding: var(--jp-private-code-span-padding) 0;
}
.jp-RenderedText pre .ansi-blue-intense-bg {
  background-color: #0065ca;
  padding: var(--jp-private-code-span-padding) 0;
}
.jp-RenderedText pre .ansi-magenta-intense-bg {
  background-color: #a03196;
  padding: var(--jp-private-code-span-padding) 0;
}
.jp-RenderedText pre .ansi-cyan-intense-bg {
  background-color: #258f8f;
  padding: var(--jp-private-code-span-padding) 0;
}
.jp-RenderedText pre .ansi-white-intense-bg {
  background-color: #a1a6b2;
  padding: var(--jp-private-code-span-padding) 0;
}

.jp-RenderedText pre .ansi-default-inverse-fg {
  color: var(--jp-ui-inverse-font-color0);
}
.jp-RenderedText pre .ansi-default-inverse-bg {
  background-color: var(--jp-inverse-layout-color0);
  padding: var(--jp-private-code-span-padding) 0;
}

.jp-RenderedText pre .ansi-bold {
  font-weight: bold;
}
.jp-RenderedText pre .ansi-underline {
  text-decoration: underline;
}

.jp-RenderedText[data-mime-type='application/vnd.jupyter.stderr'] {
  background: var(--jp-rendermime-error-background);
  padding-top: var(--jp-code-padding);
}

/*-----------------------------------------------------------------------------
| RenderedLatex
|----------------------------------------------------------------------------*/

.jp-RenderedLatex {
  color: var(--jp-content-font-color1);
  font-size: var(--jp-content-font-size1);
  line-height: var(--jp-content-line-height);
}

/* Left-justify outputs.*/
.jp-OutputArea-output.jp-RenderedLatex {
  padding: var(--jp-code-padding);
  text-align: left;
}

/*-----------------------------------------------------------------------------
| RenderedHTML
|----------------------------------------------------------------------------*/

.jp-RenderedHTMLCommon {
  color: var(--jp-content-font-color1);
  font-family: var(--jp-content-font-family);
  font-size: var(--jp-content-font-size1);
  line-height: var(--jp-content-line-height);
  /* Give a bit more R padding on Markdown text to keep line lengths reasonable */
  padding-right: 20px;
}

.jp-RenderedHTMLCommon em {
  font-style: italic;
}

.jp-RenderedHTMLCommon strong {
  font-weight: bold;
}

.jp-RenderedHTMLCommon u {
  text-decoration: underline;
}

.jp-RenderedHTMLCommon a:link {
  text-decoration: none;
  color: var(--jp-content-link-color);
}

.jp-RenderedHTMLCommon a:hover {
  text-decoration: underline;
  color: var(--jp-content-link-color);
}

.jp-RenderedHTMLCommon a:visited {
  text-decoration: none;
  color: var(--jp-content-link-color);
}

/* Headings */

.jp-RenderedHTMLCommon h1,
.jp-RenderedHTMLCommon h2,
.jp-RenderedHTMLCommon h3,
.jp-RenderedHTMLCommon h4,
.jp-RenderedHTMLCommon h5,
.jp-RenderedHTMLCommon h6 {
  line-height: var(--jp-content-heading-line-height);
  font-weight: var(--jp-content-heading-font-weight);
  font-style: normal;
  margin: var(--jp-content-heading-margin-top) 0
    var(--jp-content-heading-margin-bottom) 0;
}

.jp-RenderedHTMLCommon h1:first-child,
.jp-RenderedHTMLCommon h2:first-child,
.jp-RenderedHTMLCommon h3:first-child,
.jp-RenderedHTMLCommon h4:first-child,
.jp-RenderedHTMLCommon h5:first-child,
.jp-RenderedHTMLCommon h6:first-child {
  margin-top: calc(0.5 * var(--jp-content-heading-margin-top));
}

.jp-RenderedHTMLCommon h1:last-child,
.jp-RenderedHTMLCommon h2:last-child,
.jp-RenderedHTMLCommon h3:last-child,
.jp-RenderedHTMLCommon h4:last-child,
.jp-RenderedHTMLCommon h5:last-child,
.jp-RenderedHTMLCommon h6:last-child {
  margin-bottom: calc(0.5 * var(--jp-content-heading-margin-bottom));
}

.jp-RenderedHTMLCommon h1 {
  font-size: var(--jp-content-font-size5);
}

.jp-RenderedHTMLCommon h2 {
  font-size: var(--jp-content-font-size4);
}

.jp-RenderedHTMLCommon h3 {
  font-size: var(--jp-content-font-size3);
}

.jp-RenderedHTMLCommon h4 {
  font-size: var(--jp-content-font-size2);
}

.jp-RenderedHTMLCommon h5 {
  font-size: var(--jp-content-font-size1);
}

.jp-RenderedHTMLCommon h6 {
  font-size: var(--jp-content-font-size0);
}

/* Lists */

.jp-RenderedHTMLCommon ul:not(.list-inline),
.jp-RenderedHTMLCommon ol:not(.list-inline) {
  padding-left: 2em;
}

.jp-RenderedHTMLCommon ul {
  list-style: disc;
}

.jp-RenderedHTMLCommon ul ul {
  list-style: square;
}

.jp-RenderedHTMLCommon ul ul ul {
  list-style: circle;
}

.jp-RenderedHTMLCommon ol {
  list-style: decimal;
}

.jp-RenderedHTMLCommon ol ol {
  list-style: upper-alpha;
}

.jp-RenderedHTMLCommon ol ol ol {
  list-style: lower-alpha;
}

.jp-RenderedHTMLCommon ol ol ol ol {
  list-style: lower-roman;
}

.jp-RenderedHTMLCommon ol ol ol ol ol {
  list-style: decimal;
}

.jp-RenderedHTMLCommon ol,
.jp-RenderedHTMLCommon ul {
  margin-bottom: 1em;
}

.jp-RenderedHTMLCommon ul ul,
.jp-RenderedHTMLCommon ul ol,
.jp-RenderedHTMLCommon ol ul,
.jp-RenderedHTMLCommon ol ol {
  margin-bottom: 0em;
}

.jp-RenderedHTMLCommon hr {
  color: var(--jp-border-color2);
  background-color: var(--jp-border-color1);
  margin-top: 1em;
  margin-bottom: 1em;
}

.jp-RenderedHTMLCommon > pre {
  margin: 1.5em 2em;
}

.jp-RenderedHTMLCommon pre,
.jp-RenderedHTMLCommon code {
  border: 0;
  background-color: var(--jp-layout-color0);
  color: var(--jp-content-font-color1);
  font-family: var(--jp-code-font-family);
  font-size: inherit;
  line-height: var(--jp-code-line-height);
  padding: 0;
  white-space: pre-wrap;
}

.jp-RenderedHTMLCommon :not(pre) > code {
  background-color: var(--jp-layout-color2);
  padding: 1px 5px;
}

/* Tables */

.jp-RenderedHTMLCommon table {
  border-collapse: collapse;
  border-spacing: 0;
  border: none;
  color: var(--jp-ui-font-color1);
  font-size: 12px;
  table-layout: fixed;
  margin-left: auto;
  margin-right: auto;
}

.jp-RenderedHTMLCommon thead {
  border-bottom: var(--jp-border-width) solid var(--jp-border-color1);
  vertical-align: bottom;
}

.jp-RenderedHTMLCommon td,
.jp-RenderedHTMLCommon th,
.jp-RenderedHTMLCommon tr {
  vertical-align: middle;
  padding: 0.5em 0.5em;
  line-height: normal;
  white-space: normal;
  max-width: none;
  border: none;
}

.jp-RenderedMarkdown.jp-RenderedHTMLCommon td,
.jp-RenderedMarkdown.jp-RenderedHTMLCommon th {
  max-width: none;
}

:not(.jp-RenderedMarkdown).jp-RenderedHTMLCommon td,
:not(.jp-RenderedMarkdown).jp-RenderedHTMLCommon th,
:not(.jp-RenderedMarkdown).jp-RenderedHTMLCommon tr {
  text-align: right;
}

.jp-RenderedHTMLCommon th {
  font-weight: bold;
}

.jp-RenderedHTMLCommon tbody tr:nth-child(odd) {
  background: var(--jp-layout-color0);
}

.jp-RenderedHTMLCommon tbody tr:nth-child(even) {
  background: var(--jp-rendermime-table-row-background);
}

.jp-RenderedHTMLCommon tbody tr:hover {
  background: var(--jp-rendermime-table-row-hover-background);
}

.jp-RenderedHTMLCommon table {
  margin-bottom: 1em;
}

.jp-RenderedHTMLCommon p {
  text-align: left;
  margin: 0px;
}

.jp-RenderedHTMLCommon p {
  margin-bottom: 1em;
}

.jp-RenderedHTMLCommon img {
  -moz-force-broken-image-icon: 1;
}

/* Restrict to direct children as other images could be nested in other content. */
.jp-RenderedHTMLCommon > img {
  display: block;
  margin-left: 0;
  margin-right: 0;
  margin-bottom: 1em;
}

/* Change color behind transparent images if they need it... */
[data-jp-theme-light='false'] .jp-RenderedImage img.jp-needs-light-background {
  background-color: var(--jp-inverse-layout-color1);
}
[data-jp-theme-light='true'] .jp-RenderedImage img.jp-needs-dark-background {
  background-color: var(--jp-inverse-layout-color1);
}
/* ...or leave it untouched if they don't */
[data-jp-theme-light='false'] .jp-RenderedImage img.jp-needs-dark-background {
}
[data-jp-theme-light='true'] .jp-RenderedImage img.jp-needs-light-background {
}

.jp-RenderedHTMLCommon img,
.jp-RenderedImage img,
.jp-RenderedHTMLCommon svg,
.jp-RenderedSVG svg {
  max-width: 100%;
  height: auto;
}

.jp-RenderedHTMLCommon img.jp-mod-unconfined,
.jp-RenderedImage img.jp-mod-unconfined,
.jp-RenderedHTMLCommon svg.jp-mod-unconfined,
.jp-RenderedSVG svg.jp-mod-unconfined {
  max-width: none;
}

.jp-RenderedHTMLCommon .alert {
  padding: var(--jp-notebook-padding);
  border: var(--jp-border-width) solid transparent;
  border-radius: var(--jp-border-radius);
  margin-bottom: 1em;
}

.jp-RenderedHTMLCommon .alert-info {
  color: var(--jp-info-color0);
  background-color: var(--jp-info-color3);
  border-color: var(--jp-info-color2);
}
.jp-RenderedHTMLCommon .alert-info hr {
  border-color: var(--jp-info-color3);
}
.jp-RenderedHTMLCommon .alert-info > p:last-child,
.jp-RenderedHTMLCommon .alert-info > ul:last-child {
  margin-bottom: 0;
}

.jp-RenderedHTMLCommon .alert-warning {
  color: var(--jp-warn-color0);
  background-color: var(--jp-warn-color3);
  border-color: var(--jp-warn-color2);
}
.jp-RenderedHTMLCommon .alert-warning hr {
  border-color: var(--jp-warn-color3);
}
.jp-RenderedHTMLCommon .alert-warning > p:last-child,
.jp-RenderedHTMLCommon .alert-warning > ul:last-child {
  margin-bottom: 0;
}

.jp-RenderedHTMLCommon .alert-success {
  color: var(--jp-success-color0);
  background-color: var(--jp-success-color3);
  border-color: var(--jp-success-color2);
}
.jp-RenderedHTMLCommon .alert-success hr {
  border-color: var(--jp-success-color3);
}
.jp-RenderedHTMLCommon .alert-success > p:last-child,
.jp-RenderedHTMLCommon .alert-success > ul:last-child {
  margin-bottom: 0;
}

.jp-RenderedHTMLCommon .alert-danger {
  color: var(--jp-error-color0);
  background-color: var(--jp-error-color3);
  border-color: var(--jp-error-color2);
}
.jp-RenderedHTMLCommon .alert-danger hr {
  border-color: var(--jp-error-color3);
}
.jp-RenderedHTMLCommon .alert-danger > p:last-child,
.jp-RenderedHTMLCommon .alert-danger > ul:last-child {
  margin-bottom: 0;
}

.jp-RenderedHTMLCommon blockquote {
  margin: 1em 2em;
  padding: 0 1em;
  border-left: 5px solid var(--jp-border-color2);
}

a.jp-InternalAnchorLink {
  visibility: hidden;
  margin-left: 8px;
  color: var(--md-blue-800);
}

h1:hover .jp-InternalAnchorLink,
h2:hover .jp-InternalAnchorLink,
h3:hover .jp-InternalAnchorLink,
h4:hover .jp-InternalAnchorLink,
h5:hover .jp-InternalAnchorLink,
h6:hover .jp-InternalAnchorLink {
  visibility: visible;
}

.jp-RenderedHTMLCommon kbd {
  background-color: var(--jp-rendermime-table-row-background);
  border: 1px solid var(--jp-border-color0);
  border-bottom-color: var(--jp-border-color2);
  border-radius: 3px;
  box-shadow: inset 0 -1px 0 rgba(0, 0, 0, 0.25);
  display: inline-block;
  font-size: 0.8em;
  line-height: 1em;
  padding: 0.2em 0.5em;
}

/* Most direct children of .jp-RenderedHTMLCommon have a margin-bottom of 1.0.
 * At the bottom of cells this is a bit too much as there is also spacing
 * between cells. Going all the way to 0 gets too tight between markdown and
 * code cells.
 */
.jp-RenderedHTMLCommon > *:last-child {
  margin-bottom: 0.5em;
}

/*-----------------------------------------------------------------------------
| Copyright (c) Jupyter Development Team.
| Distributed under the terms of the Modified BSD License.
|----------------------------------------------------------------------------*/

.jp-MimeDocument {
  outline: none;
}

/*-----------------------------------------------------------------------------
| Copyright (c) Jupyter Development Team.
| Distributed under the terms of the Modified BSD License.
|----------------------------------------------------------------------------*/

/*-----------------------------------------------------------------------------
| Variables
|----------------------------------------------------------------------------*/

:root {
  --jp-private-filebrowser-button-height: 28px;
  --jp-private-filebrowser-button-width: 48px;
}

/*-----------------------------------------------------------------------------
| Copyright (c) Jupyter Development Team.
| Distributed under the terms of the Modified BSD License.
|----------------------------------------------------------------------------*/

.jp-FileBrowser {
  display: flex;
  flex-direction: column;
  color: var(--jp-ui-font-color1);
  background: var(--jp-layout-color1);
  /* This is needed so that all font sizing of children done in ems is
   * relative to this base size */
  font-size: var(--jp-ui-font-size1);
}

.jp-FileBrowser-toolbar.jp-Toolbar {
  border-bottom: none;
  height: auto;
  margin: var(--jp-toolbar-header-margin);
  box-shadow: none;
}

.jp-BreadCrumbs {
  flex: 0 0 auto;
  margin: 8px 12px 8px 12px;
}

.jp-BreadCrumbs-item {
  margin: 0px 2px;
  padding: 0px 2px;
  border-radius: var(--jp-border-radius);
  cursor: pointer;
}

.jp-BreadCrumbs-item:hover {
  background-color: var(--jp-layout-color2);
}

.jp-BreadCrumbs-item:first-child {
  margin-left: 0px;
}

.jp-BreadCrumbs-item.jp-mod-dropTarget {
  background-color: var(--jp-brand-color2);
  opacity: 0.7;
}

/*-----------------------------------------------------------------------------
| Buttons
|----------------------------------------------------------------------------*/

.jp-FileBrowser-toolbar.jp-Toolbar {
  padding: 0px;
  margin: 8px 12px 0px 12px;
}

.jp-FileBrowser-toolbar.jp-Toolbar {
  justify-content: flex-start;
}

.jp-FileBrowser-toolbar.jp-Toolbar .jp-Toolbar-item {
  flex: 0 0 auto;
  padding-left: 0px;
  padding-right: 2px;
}

.jp-FileBrowser-toolbar.jp-Toolbar .jp-ToolbarButtonComponent {
  width: 40px;
}

.jp-FileBrowser-toolbar.jp-Toolbar
  .jp-Toolbar-item:first-child
  .jp-ToolbarButtonComponent {
  width: 72px;
  background: var(--jp-brand-color1);
}

.jp-FileBrowser-toolbar.jp-Toolbar
  .jp-Toolbar-item:first-child
  .jp-ToolbarButtonComponent:focus-visible {
  background-color: var(--jp-brand-color0);
}

.jp-FileBrowser-toolbar.jp-Toolbar
  .jp-Toolbar-item:first-child
  .jp-ToolbarButtonComponent
  .jp-icon3 {
  fill: white;
}

/*-----------------------------------------------------------------------------
| Other styles
|----------------------------------------------------------------------------*/

.jp-FileDialog.jp-mod-conflict input {
  color: var(--jp-error-color1);
}

.jp-FileDialog .jp-new-name-title {
  margin-top: 12px;
}

.jp-LastModified-hidden {
  display: none;
}

.jp-FileBrowser-filterBox {
  padding: 0px;
  flex: 0 0 auto;
  margin: 8px 12px 0px 12px;
}

/*-----------------------------------------------------------------------------
| DirListing
|----------------------------------------------------------------------------*/

.jp-DirListing {
  flex: 1 1 auto;
  display: flex;
  flex-direction: column;
  outline: 0;
}

.jp-DirListing:focus-visible {
  border: 1px solid var(--jp-brand-color1);
}

.jp-DirListing-header {
  flex: 0 0 auto;
  display: flex;
  flex-direction: row;
  overflow: hidden;
  border-top: var(--jp-border-width) solid var(--jp-border-color2);
  border-bottom: var(--jp-border-width) solid var(--jp-border-color1);
  box-shadow: var(--jp-toolbar-box-shadow);
  z-index: 2;
}

.jp-DirListing-headerItem {
  padding: 4px 12px 2px 12px;
  font-weight: 500;
}

.jp-DirListing-headerItem:hover {
  background: var(--jp-layout-color2);
}

.jp-DirListing-headerItem.jp-id-name {
  flex: 1 0 84px;
}

.jp-DirListing-headerItem.jp-id-modified {
  flex: 0 0 112px;
  border-left: var(--jp-border-width) solid var(--jp-border-color2);
  text-align: right;
}

.jp-id-narrow {
  display: none;
  flex: 0 0 5px;
  padding: 4px 4px;
  border-left: var(--jp-border-width) solid var(--jp-border-color2);
  text-align: right;
  color: var(--jp-border-color2);
}

.jp-DirListing-narrow .jp-id-narrow {
  display: block;
}

.jp-DirListing-narrow .jp-id-modified,
.jp-DirListing-narrow .jp-DirListing-itemModified {
  display: none;
}

.jp-DirListing-headerItem.jp-mod-selected {
  font-weight: 600;
}

/* increase specificity to override bundled default */
.jp-DirListing-content {
  flex: 1 1 auto;
  margin: 0;
  padding: 0;
  list-style-type: none;
  overflow: auto;
  background-color: var(--jp-layout-color1);
}

.jp-DirListing-content mark {
  color: var(--jp-ui-font-color0);
  background-color: transparent;
  font-weight: bold;
}

.jp-DirListing-content .jp-DirListing-item.jp-mod-selected mark {
  color: var(--jp-ui-inverse-font-color0);
}

/* Style the directory listing content when a user drops a file to upload */
.jp-DirListing.jp-mod-native-drop .jp-DirListing-content {
  outline: 5px dashed rgba(128, 128, 128, 0.5);
  outline-offset: -10px;
  cursor: copy;
}

.jp-DirListing-item {
  display: flex;
  flex-direction: row;
  padding: 4px 12px;
  -webkit-user-select: none;
  -moz-user-select: none;
  -ms-user-select: none;
  user-select: none;
}

.jp-DirListing-item[data-is-dot] {
  opacity: 75%;
}

.jp-DirListing-item.jp-mod-selected {
  color: var(--jp-ui-inverse-font-color1);
  background: var(--jp-brand-color1);
}

.jp-DirListing-item.jp-mod-dropTarget {
  background: var(--jp-brand-color3);
}

.jp-DirListing-item:hover:not(.jp-mod-selected) {
  background: var(--jp-layout-color2);
}

.jp-DirListing-itemIcon {
  flex: 0 0 20px;
  margin-right: 4px;
}

.jp-DirListing-itemText {
  flex: 1 0 64px;
  white-space: nowrap;
  overflow: hidden;
  text-overflow: ellipsis;
  user-select: none;
}

.jp-DirListing-itemModified {
  flex: 0 0 125px;
  text-align: right;
}

.jp-DirListing-editor {
  flex: 1 0 64px;
  outline: none;
  border: none;
}

.jp-DirListing-item.jp-mod-running .jp-DirListing-itemIcon:before {
  color: var(--jp-success-color1);
  content: '\25CF';
  font-size: 8px;
  position: absolute;
  left: -8px;
}

.jp-DirListing-item.jp-mod-running.jp-mod-selected
  .jp-DirListing-itemIcon:before {
  color: var(--jp-ui-inverse-font-color1);
}

.jp-DirListing-item.lm-mod-drag-image,
.jp-DirListing-item.jp-mod-selected.lm-mod-drag-image {
  font-size: var(--jp-ui-font-size1);
  padding-left: 4px;
  margin-left: 4px;
  width: 160px;
  background-color: var(--jp-ui-inverse-font-color2);
  box-shadow: var(--jp-elevation-z2);
  border-radius: 0px;
  color: var(--jp-ui-font-color1);
  transform: translateX(-40%) translateY(-58%);
}

.jp-DirListing-deadSpace {
  flex: 1 1 auto;
  margin: 0;
  padding: 0;
  list-style-type: none;
  overflow: auto;
  background-color: var(--jp-layout-color1);
}

.jp-Document {
  min-width: 120px;
  min-height: 120px;
  outline: none;
}

/*-----------------------------------------------------------------------------
| Copyright (c) Jupyter Development Team.
| Distributed under the terms of the Modified BSD License.
|----------------------------------------------------------------------------*/

/*-----------------------------------------------------------------------------
| Private CSS variables
|----------------------------------------------------------------------------*/

:root {
}

/*-----------------------------------------------------------------------------
| Main OutputArea
| OutputArea has a list of Outputs
|----------------------------------------------------------------------------*/

.jp-OutputArea {
  overflow-y: auto;
}

.jp-OutputArea-child {
  display: flex;
  flex-direction: row;
}

body[data-format='mobile'] .jp-OutputArea-child {
  flex-direction: column;
}

.jp-OutputPrompt {
  flex: 0 0 var(--jp-cell-prompt-width);
  color: var(--jp-cell-outprompt-font-color);
  font-family: var(--jp-cell-prompt-font-family);
  padding: var(--jp-code-padding);
  letter-spacing: var(--jp-cell-prompt-letter-spacing);
  line-height: var(--jp-code-line-height);
  font-size: var(--jp-code-font-size);
  border: var(--jp-border-width) solid transparent;
  opacity: var(--jp-cell-prompt-opacity);
  /* Right align prompt text, don't wrap to handle large prompt numbers */
  text-align: right;
  white-space: nowrap;
  overflow: hidden;
  text-overflow: ellipsis;
  /* Disable text selection */
  -webkit-user-select: none;
  -moz-user-select: none;
  -ms-user-select: none;
  user-select: none;
}

body[data-format='mobile'] .jp-OutputPrompt {
  flex: 0 0 auto;
  text-align: left;
}

.jp-OutputArea-output {
  height: auto;
  overflow: auto;
  user-select: text;
  -moz-user-select: text;
  -webkit-user-select: text;
  -ms-user-select: text;
}

.jp-OutputArea-child .jp-OutputArea-output {
  flex-grow: 1;
  flex-shrink: 1;
}

body[data-format='mobile'] .jp-OutputArea-child .jp-OutputArea-output {
  margin-left: var(--jp-notebook-padding);
}

/**
 * Isolated output.
 */
.jp-OutputArea-output.jp-mod-isolated {
  width: 100%;
  display: block;
}

/*
When drag events occur, `p-mod-override-cursor` is added to the body.
Because iframes steal all cursor events, the following two rules are necessary
to suppress pointer events while resize drags are occurring. There may be a
better solution to this problem.
*/
body.lm-mod-override-cursor .jp-OutputArea-output.jp-mod-isolated {
  position: relative;
}

body.lm-mod-override-cursor .jp-OutputArea-output.jp-mod-isolated:before {
  content: '';
  position: absolute;
  top: 0;
  left: 0;
  right: 0;
  bottom: 0;
  background: transparent;
}

/* pre */

.jp-OutputArea-output pre {
  border: none;
  margin: 0px;
  padding: 0px;
  overflow-x: auto;
  overflow-y: auto;
  word-break: break-all;
  word-wrap: break-word;
  white-space: pre-wrap;
}

/* tables */

.jp-OutputArea-output.jp-RenderedHTMLCommon table {
  margin-left: 0;
  margin-right: 0;
}

/* description lists */

.jp-OutputArea-output dl,
.jp-OutputArea-output dt,
.jp-OutputArea-output dd {
  display: block;
}

.jp-OutputArea-output dl {
  width: 100%;
  overflow: hidden;
  padding: 0;
  margin: 0;
}

.jp-OutputArea-output dt {
  font-weight: bold;
  float: left;
  width: 20%;
  padding: 0;
  margin: 0;
}

.jp-OutputArea-output dd {
  float: left;
  width: 80%;
  padding: 0;
  margin: 0;
}

/* Hide the gutter in case of
 *  - nested output areas (e.g. in the case of output widgets)
 *  - mirrored output areas
 */
.jp-OutputArea .jp-OutputArea .jp-OutputArea-prompt {
  display: none;
}

/*-----------------------------------------------------------------------------
| executeResult is added to any Output-result for the display of the object
| returned by a cell
|----------------------------------------------------------------------------*/

.jp-OutputArea-output.jp-OutputArea-executeResult {
  margin-left: 0px;
  flex: 1 1 auto;
}

/* Text output with the Out[] prompt needs a top padding to match the
 * alignment of the Out[] prompt itself.
 */
.jp-OutputArea-executeResult .jp-RenderedText.jp-OutputArea-output {
  padding-top: var(--jp-code-padding);
  border-top: var(--jp-border-width) solid transparent;
}

/*-----------------------------------------------------------------------------
| The Stdin output
|----------------------------------------------------------------------------*/

.jp-OutputArea-stdin {
  line-height: var(--jp-code-line-height);
  padding-top: var(--jp-code-padding);
  display: flex;
}

.jp-Stdin-prompt {
  color: var(--jp-content-font-color0);
  padding-right: var(--jp-code-padding);
  vertical-align: baseline;
  flex: 0 0 auto;
}

.jp-Stdin-input {
  font-family: var(--jp-code-font-family);
  font-size: inherit;
  color: inherit;
  background-color: inherit;
  width: 42%;
  min-width: 200px;
  /* make sure input baseline aligns with prompt */
  vertical-align: baseline;
  /* padding + margin = 0.5em between prompt and cursor */
  padding: 0em 0.25em;
  margin: 0em 0.25em;
  flex: 0 0 70%;
}

.jp-Stdin-input:focus {
  box-shadow: none;
}

/*-----------------------------------------------------------------------------
| Output Area View
|----------------------------------------------------------------------------*/

.jp-LinkedOutputView .jp-OutputArea {
  height: 100%;
  display: block;
}

.jp-LinkedOutputView .jp-OutputArea-output:only-child {
  height: 100%;
}

/*-----------------------------------------------------------------------------
| Copyright (c) Jupyter Development Team.
| Distributed under the terms of the Modified BSD License.
|----------------------------------------------------------------------------*/

.jp-Collapser {
  flex: 0 0 var(--jp-cell-collapser-width);
  padding: 0px;
  margin: 0px;
  border: none;
  outline: none;
  background: transparent;
  border-radius: var(--jp-border-radius);
  opacity: 1;
}

.jp-Collapser-child {
  display: block;
  width: 100%;
  box-sizing: border-box;
  /* height: 100% doesn't work because the height of its parent is computed from content */
  position: absolute;
  top: 0px;
  bottom: 0px;
}

/*-----------------------------------------------------------------------------
| Copyright (c) Jupyter Development Team.
| Distributed under the terms of the Modified BSD License.
|----------------------------------------------------------------------------*/

/*-----------------------------------------------------------------------------
| Header/Footer
|----------------------------------------------------------------------------*/

/* Hidden by zero height by default */
.jp-CellHeader,
.jp-CellFooter {
  height: 0px;
  width: 100%;
  padding: 0px;
  margin: 0px;
  border: none;
  outline: none;
  background: transparent;
}

/*-----------------------------------------------------------------------------
| Copyright (c) Jupyter Development Team.
| Distributed under the terms of the Modified BSD License.
|----------------------------------------------------------------------------*/

/*-----------------------------------------------------------------------------
| Input
|----------------------------------------------------------------------------*/

/* All input areas */
.jp-InputArea {
  display: flex;
  flex-direction: row;
  overflow: hidden;
}

body[data-format='mobile'] .jp-InputArea {
  flex-direction: column;
}

.jp-InputArea-editor {
  flex: 1 1 auto;
  overflow: hidden;
}

.jp-InputArea-editor {
  /* This is the non-active, default styling */
  border: var(--jp-border-width) solid var(--jp-cell-editor-border-color);
  border-radius: 0px;
  background: var(--jp-cell-editor-background);
}

body[data-format='mobile'] .jp-InputArea-editor {
  margin-left: var(--jp-notebook-padding);
}

.jp-InputPrompt {
  flex: 0 0 var(--jp-cell-prompt-width);
  color: var(--jp-cell-inprompt-font-color);
  font-family: var(--jp-cell-prompt-font-family);
  padding: var(--jp-code-padding);
  letter-spacing: var(--jp-cell-prompt-letter-spacing);
  opacity: var(--jp-cell-prompt-opacity);
  line-height: var(--jp-code-line-height);
  font-size: var(--jp-code-font-size);
  border: var(--jp-border-width) solid transparent;
  opacity: var(--jp-cell-prompt-opacity);
  /* Right align prompt text, don't wrap to handle large prompt numbers */
  text-align: right;
  white-space: nowrap;
  overflow: hidden;
  text-overflow: ellipsis;
  /* Disable text selection */
  -webkit-user-select: none;
  -moz-user-select: none;
  -ms-user-select: none;
  user-select: none;
}

body[data-format='mobile'] .jp-InputPrompt {
  flex: 0 0 auto;
  text-align: left;
}

/*-----------------------------------------------------------------------------
| Copyright (c) Jupyter Development Team.
| Distributed under the terms of the Modified BSD License.
|----------------------------------------------------------------------------*/

/*-----------------------------------------------------------------------------
| Placeholder
|----------------------------------------------------------------------------*/

.jp-Placeholder {
  display: flex;
  flex-direction: row;
  flex: 1 1 auto;
}

.jp-Placeholder-prompt {
  box-sizing: border-box;
}

.jp-Placeholder-content {
  flex: 1 1 auto;
  border: none;
  background: transparent;
  height: 20px;
  box-sizing: border-box;
}

.jp-Placeholder-content .jp-MoreHorizIcon {
  width: 32px;
  height: 16px;
  border: 1px solid transparent;
  border-radius: var(--jp-border-radius);
}

.jp-Placeholder-content .jp-MoreHorizIcon:hover {
  border: 1px solid var(--jp-border-color1);
  box-shadow: 0px 0px 2px 0px rgba(0, 0, 0, 0.25);
  background-color: var(--jp-layout-color0);
}

/*-----------------------------------------------------------------------------
| Copyright (c) Jupyter Development Team.
| Distributed under the terms of the Modified BSD License.
|----------------------------------------------------------------------------*/

/*-----------------------------------------------------------------------------
| Private CSS variables
|----------------------------------------------------------------------------*/

:root {
  --jp-private-cell-scrolling-output-offset: 5px;
}

/*-----------------------------------------------------------------------------
| Cell
|----------------------------------------------------------------------------*/

.jp-Cell {
  padding: var(--jp-cell-padding);
  margin: 0px;
  border: none;
  outline: none;
  background: transparent;
}

/*-----------------------------------------------------------------------------
| Common input/output
|----------------------------------------------------------------------------*/

.jp-Cell-inputWrapper,
.jp-Cell-outputWrapper {
  display: flex;
  flex-direction: row;
  padding: 0px;
  margin: 0px;
  /* Added to reveal the box-shadow on the input and output collapsers. */
  overflow: visible;
}

/* Only input/output areas inside cells */
.jp-Cell-inputArea,
.jp-Cell-outputArea {
  flex: 1 1 auto;
}

/*-----------------------------------------------------------------------------
| Collapser
|----------------------------------------------------------------------------*/

/* Make the output collapser disappear when there is not output, but do so
 * in a manner that leaves it in the layout and preserves its width.
 */
.jp-Cell.jp-mod-noOutputs .jp-Cell-outputCollapser {
  border: none !important;
  background: transparent !important;
}

.jp-Cell:not(.jp-mod-noOutputs) .jp-Cell-outputCollapser {
  min-height: var(--jp-cell-collapser-min-height);
}

/*-----------------------------------------------------------------------------
| Output
|----------------------------------------------------------------------------*/

/* Put a space between input and output when there IS output */
.jp-Cell:not(.jp-mod-noOutputs) .jp-Cell-outputWrapper {
  margin-top: 5px;
}

.jp-CodeCell.jp-mod-outputsScrolled .jp-Cell-outputArea {
  overflow-y: auto;
  max-height: 200px;
  box-shadow: inset 0 0 6px 2px rgba(0, 0, 0, 0.3);
  margin-left: var(--jp-private-cell-scrolling-output-offset);
}

.jp-CodeCell.jp-mod-outputsScrolled .jp-OutputArea-prompt {
  flex: 0 0
    calc(
      var(--jp-cell-prompt-width) -
        var(--jp-private-cell-scrolling-output-offset)
    );
}

/*-----------------------------------------------------------------------------
| CodeCell
|----------------------------------------------------------------------------*/

/*-----------------------------------------------------------------------------
| MarkdownCell
|----------------------------------------------------------------------------*/

.jp-MarkdownOutput {
  flex: 1 1 auto;
  margin-top: 0;
  margin-bottom: 0;
  padding-left: var(--jp-code-padding);
}

.jp-MarkdownOutput.jp-RenderedHTMLCommon {
  overflow: auto;
}

.jp-showHiddenCellsButton {
  margin-left: calc(var(--jp-cell-prompt-width) + 2 * var(--jp-code-padding));
  margin-top: var(--jp-code-padding);
  border: 1px solid var(--jp-border-color2);
  background-color: var(--jp-border-color3) !important;
  color: var(--jp-content-font-color0) !important;
}

.jp-showHiddenCellsButton:hover {
  background-color: var(--jp-border-color2) !important;
}

.jp-collapseHeadingButton {
  display: none;
}

.jp-MarkdownCell:hover .jp-collapseHeadingButton {
  display: flex;
  min-height: var(--jp-cell-collapser-min-height);
  position: absolute;
  right: 0;
  top: 0;
  bottom: 0;
}

/*-----------------------------------------------------------------------------
| Copyright (c) Jupyter Development Team.
| Distributed under the terms of the Modified BSD License.
|----------------------------------------------------------------------------*/

/*-----------------------------------------------------------------------------
| Copyright (c) Jupyter Development Team.
| Distributed under the terms of the Modified BSD License.
|----------------------------------------------------------------------------*/

/*-----------------------------------------------------------------------------
| Variables
|----------------------------------------------------------------------------*/

/*-----------------------------------------------------------------------------

/*-----------------------------------------------------------------------------
| Styles
|----------------------------------------------------------------------------*/

.jp-NotebookPanel-toolbar {
  padding: 2px;
}

.jp-Toolbar-item.jp-Notebook-toolbarCellType .jp-select-wrapper.jp-mod-focused {
  border: none;
  box-shadow: none;
}

.jp-Notebook-toolbarCellTypeDropdown select {
  height: 24px;
  font-size: var(--jp-ui-font-size1);
  line-height: 14px;
  border-radius: 0;
  display: block;
}

.jp-Notebook-toolbarCellTypeDropdown span {
  top: 5px !important;
}

/*-----------------------------------------------------------------------------
| Copyright (c) Jupyter Development Team.
| Distributed under the terms of the Modified BSD License.
|----------------------------------------------------------------------------*/

/*-----------------------------------------------------------------------------
| Private CSS variables
|----------------------------------------------------------------------------*/

:root {
  --jp-private-notebook-dragImage-width: 304px;
  --jp-private-notebook-dragImage-height: 36px;
  --jp-private-notebook-selected-color: var(--md-blue-400);
  --jp-private-notebook-active-color: var(--md-green-400);
}

/*-----------------------------------------------------------------------------
| Imports
|----------------------------------------------------------------------------*/

/*-----------------------------------------------------------------------------
| Notebook
|----------------------------------------------------------------------------*/

.jp-NotebookPanel {
  display: block;
  height: 100%;
}

.jp-NotebookPanel.jp-Document {
  min-width: 240px;
  min-height: 120px;
}

.jp-Notebook {
  padding: var(--jp-notebook-padding);
  outline: none;
  overflow: auto;
  background: var(--jp-layout-color0);
}

.jp-Notebook.jp-mod-scrollPastEnd::after {
  display: block;
  content: '';
  min-height: var(--jp-notebook-scroll-padding);
}

.jp-MainAreaWidget-ContainStrict .jp-Notebook * {
  contain: strict;
}

.jp-Notebook-render * {
  contain: none !important;
}

.jp-Notebook .jp-Cell {
  overflow: visible;
}

.jp-Notebook .jp-Cell .jp-InputPrompt {
  cursor: move;
  float: left;
}

/*-----------------------------------------------------------------------------
| Notebook state related styling
|
| The notebook and cells each have states, here are the possibilities:
|
| - Notebook
|   - Command
|   - Edit
| - Cell
|   - None
|   - Active (only one can be active)
|   - Selected (the cells actions are applied to)
|   - Multiselected (when multiple selected, the cursor)
|   - No outputs
|----------------------------------------------------------------------------*/

/* Command or edit modes */

.jp-Notebook .jp-Cell:not(.jp-mod-active) .jp-InputPrompt {
  opacity: var(--jp-cell-prompt-not-active-opacity);
  color: var(--jp-cell-prompt-not-active-font-color);
}

.jp-Notebook .jp-Cell:not(.jp-mod-active) .jp-OutputPrompt {
  opacity: var(--jp-cell-prompt-not-active-opacity);
  color: var(--jp-cell-prompt-not-active-font-color);
}

/* cell is active */
.jp-Notebook .jp-Cell.jp-mod-active .jp-Collapser {
  background: var(--jp-brand-color1);
}

/* cell is dirty */
.jp-Notebook .jp-Cell.jp-mod-dirty .jp-InputPrompt {
  color: var(--jp-warn-color1);
}
.jp-Notebook .jp-Cell.jp-mod-dirty .jp-InputPrompt:before {
  color: var(--jp-warn-color1);
  content: '•';
}

.jp-Notebook .jp-Cell.jp-mod-active.jp-mod-dirty .jp-Collapser {
  background: var(--jp-warn-color1);
}

/* collapser is hovered */
.jp-Notebook .jp-Cell .jp-Collapser:hover {
  box-shadow: var(--jp-elevation-z2);
  background: var(--jp-brand-color1);
  opacity: var(--jp-cell-collapser-not-active-hover-opacity);
}

/* cell is active and collapser is hovered */
.jp-Notebook .jp-Cell.jp-mod-active .jp-Collapser:hover {
  background: var(--jp-brand-color0);
  opacity: 1;
}

/* Command mode */

.jp-Notebook.jp-mod-commandMode .jp-Cell.jp-mod-selected {
  background: var(--jp-notebook-multiselected-color);
}

.jp-Notebook.jp-mod-commandMode
  .jp-Cell.jp-mod-active.jp-mod-selected:not(.jp-mod-multiSelected) {
  background: transparent;
}

/* Edit mode */

.jp-Notebook.jp-mod-editMode .jp-Cell.jp-mod-active .jp-InputArea-editor {
  border: var(--jp-border-width) solid var(--jp-cell-editor-active-border-color);
  box-shadow: var(--jp-input-box-shadow);
  background-color: var(--jp-cell-editor-active-background);
}

/*-----------------------------------------------------------------------------
| Notebook drag and drop
|----------------------------------------------------------------------------*/

.jp-Notebook-cell.jp-mod-dropSource {
  opacity: 0.5;
}

.jp-Notebook-cell.jp-mod-dropTarget,
.jp-Notebook.jp-mod-commandMode
  .jp-Notebook-cell.jp-mod-active.jp-mod-selected.jp-mod-dropTarget {
  border-top-color: var(--jp-private-notebook-selected-color);
  border-top-style: solid;
  border-top-width: 2px;
}

.jp-dragImage {
  display: block;
  flex-direction: row;
  width: var(--jp-private-notebook-dragImage-width);
  height: var(--jp-private-notebook-dragImage-height);
  border: var(--jp-border-width) solid var(--jp-cell-editor-border-color);
  background: var(--jp-cell-editor-background);
  overflow: visible;
}

.jp-dragImage-singlePrompt {
  box-shadow: 2px 2px 4px 0px rgba(0, 0, 0, 0.12);
}

.jp-dragImage .jp-dragImage-content {
  flex: 1 1 auto;
  z-index: 2;
  font-size: var(--jp-code-font-size);
  font-family: var(--jp-code-font-family);
  line-height: var(--jp-code-line-height);
  padding: var(--jp-code-padding);
  border: var(--jp-border-width) solid var(--jp-cell-editor-border-color);
  background: var(--jp-cell-editor-background-color);
  color: var(--jp-content-font-color3);
  text-align: left;
  margin: 4px 4px 4px 0px;
}

.jp-dragImage .jp-dragImage-prompt {
  flex: 0 0 auto;
  min-width: 36px;
  color: var(--jp-cell-inprompt-font-color);
  padding: var(--jp-code-padding);
  padding-left: 12px;
  font-family: var(--jp-cell-prompt-font-family);
  letter-spacing: var(--jp-cell-prompt-letter-spacing);
  line-height: 1.9;
  font-size: var(--jp-code-font-size);
  border: var(--jp-border-width) solid transparent;
}

.jp-dragImage-multipleBack {
  z-index: -1;
  position: absolute;
  height: 32px;
  width: 300px;
  top: 8px;
  left: 8px;
  background: var(--jp-layout-color2);
  border: var(--jp-border-width) solid var(--jp-input-border-color);
  box-shadow: 2px 2px 4px 0px rgba(0, 0, 0, 0.12);
}

/*-----------------------------------------------------------------------------
| Cell toolbar
|----------------------------------------------------------------------------*/

.jp-NotebookTools {
  display: block;
  min-width: var(--jp-sidebar-min-width);
  color: var(--jp-ui-font-color1);
  background: var(--jp-layout-color1);
  /* This is needed so that all font sizing of children done in ems is
    * relative to this base size */
  font-size: var(--jp-ui-font-size1);
  overflow: auto;
}

.jp-NotebookTools-tool {
  padding: 0px 12px 0 12px;
}

.jp-ActiveCellTool {
  padding: 12px;
  background-color: var(--jp-layout-color1);
  border-top: none !important;
}

.jp-ActiveCellTool .jp-InputArea-prompt {
  flex: 0 0 auto;
  padding-left: 0px;
}

.jp-ActiveCellTool .jp-InputArea-editor {
  flex: 1 1 auto;
  background: var(--jp-cell-editor-background);
  border-color: var(--jp-cell-editor-border-color);
}

.jp-ActiveCellTool .jp-InputArea-editor .CodeMirror {
  background: transparent;
}

.jp-MetadataEditorTool {
  flex-direction: column;
  padding: 12px 0px 12px 0px;
}

.jp-RankedPanel > :not(:first-child) {
  margin-top: 12px;
}

.jp-KeySelector select.jp-mod-styled {
  font-size: var(--jp-ui-font-size1);
  color: var(--jp-ui-font-color0);
  border: var(--jp-border-width) solid var(--jp-border-color1);
}

.jp-KeySelector label,
.jp-MetadataEditorTool label {
  line-height: 1.4;
}

.jp-NotebookTools .jp-select-wrapper {
  margin-top: 4px;
  margin-bottom: 0px;
}

.jp-NotebookTools .jp-Collapse {
  margin-top: 16px;
}

/*-----------------------------------------------------------------------------
| Presentation Mode (.jp-mod-presentationMode)
|----------------------------------------------------------------------------*/

.jp-mod-presentationMode .jp-Notebook {
  --jp-content-font-size1: var(--jp-content-presentation-font-size1);
  --jp-code-font-size: var(--jp-code-presentation-font-size);
}

.jp-mod-presentationMode .jp-Notebook .jp-Cell .jp-InputPrompt,
.jp-mod-presentationMode .jp-Notebook .jp-Cell .jp-OutputPrompt {
  flex: 0 0 110px;
}

/*-----------------------------------------------------------------------------
| Placeholder
|----------------------------------------------------------------------------*/

.jp-Cell-Placeholder {
  padding-left: 55px;
}

.jp-Cell-Placeholder-wrapper {
  background: #fff;
  border: 1px solid;
  border-color: #e5e6e9 #dfe0e4 #d0d1d5;
  border-radius: 4px;
  -webkit-border-radius: 4px;
  margin: 10px 15px;
}

.jp-Cell-Placeholder-wrapper-inner {
  padding: 15px;
  position: relative;
}

.jp-Cell-Placeholder-wrapper-body {
  background-repeat: repeat;
  background-size: 50% auto;
}

.jp-Cell-Placeholder-wrapper-body div {
  background: #f6f7f8;
  background-image: -webkit-linear-gradient(
    left,
    #f6f7f8 0%,
    #edeef1 20%,
    #f6f7f8 40%,
    #f6f7f8 100%
  );
  background-repeat: no-repeat;
  background-size: 800px 104px;
  height: 104px;
  position: relative;
}

.jp-Cell-Placeholder-wrapper-body div {
  position: absolute;
  right: 15px;
  left: 15px;
  top: 15px;
}

div.jp-Cell-Placeholder-h1 {
  top: 20px;
  height: 20px;
  left: 15px;
  width: 150px;
}

div.jp-Cell-Placeholder-h2 {
  left: 15px;
  top: 50px;
  height: 10px;
  width: 100px;
}

div.jp-Cell-Placeholder-content-1,
div.jp-Cell-Placeholder-content-2,
div.jp-Cell-Placeholder-content-3 {
  left: 15px;
  right: 15px;
  height: 10px;
}

div.jp-Cell-Placeholder-content-1 {
  top: 100px;
}

div.jp-Cell-Placeholder-content-2 {
  top: 120px;
}

div.jp-Cell-Placeholder-content-3 {
  top: 140px;
}

</style>

    <style type="text/css">
/*-----------------------------------------------------------------------------
| Copyright (c) Jupyter Development Team.
| Distributed under the terms of the Modified BSD License.
|----------------------------------------------------------------------------*/

/*
The following CSS variables define the main, public API for styling JupyterLab.
These variables should be used by all plugins wherever possible. In other
words, plugins should not define custom colors, sizes, etc unless absolutely
necessary. This enables users to change the visual theme of JupyterLab
by changing these variables.

Many variables appear in an ordered sequence (0,1,2,3). These sequences
are designed to work well together, so for example, `--jp-border-color1` should
be used with `--jp-layout-color1`. The numbers have the following meanings:

* 0: super-primary, reserved for special emphasis
* 1: primary, most important under normal situations
* 2: secondary, next most important under normal situations
* 3: tertiary, next most important under normal situations

Throughout JupyterLab, we are mostly following principles from Google's
Material Design when selecting colors. We are not, however, following
all of MD as it is not optimized for dense, information rich UIs.
*/

:root {
  /* Elevation
   *
   * We style box-shadows using Material Design's idea of elevation. These particular numbers are taken from here:
   *
   * https://github.com/material-components/material-components-web
   * https://material-components-web.appspot.com/elevation.html
   */

  --jp-shadow-base-lightness: 0;
  --jp-shadow-umbra-color: rgba(
    var(--jp-shadow-base-lightness),
    var(--jp-shadow-base-lightness),
    var(--jp-shadow-base-lightness),
    0.2
  );
  --jp-shadow-penumbra-color: rgba(
    var(--jp-shadow-base-lightness),
    var(--jp-shadow-base-lightness),
    var(--jp-shadow-base-lightness),
    0.14
  );
  --jp-shadow-ambient-color: rgba(
    var(--jp-shadow-base-lightness),
    var(--jp-shadow-base-lightness),
    var(--jp-shadow-base-lightness),
    0.12
  );
  --jp-elevation-z0: none;
  --jp-elevation-z1: 0px 2px 1px -1px var(--jp-shadow-umbra-color),
    0px 1px 1px 0px var(--jp-shadow-penumbra-color),
    0px 1px 3px 0px var(--jp-shadow-ambient-color);
  --jp-elevation-z2: 0px 3px 1px -2px var(--jp-shadow-umbra-color),
    0px 2px 2px 0px var(--jp-shadow-penumbra-color),
    0px 1px 5px 0px var(--jp-shadow-ambient-color);
  --jp-elevation-z4: 0px 2px 4px -1px var(--jp-shadow-umbra-color),
    0px 4px 5px 0px var(--jp-shadow-penumbra-color),
    0px 1px 10px 0px var(--jp-shadow-ambient-color);
  --jp-elevation-z6: 0px 3px 5px -1px var(--jp-shadow-umbra-color),
    0px 6px 10px 0px var(--jp-shadow-penumbra-color),
    0px 1px 18px 0px var(--jp-shadow-ambient-color);
  --jp-elevation-z8: 0px 5px 5px -3px var(--jp-shadow-umbra-color),
    0px 8px 10px 1px var(--jp-shadow-penumbra-color),
    0px 3px 14px 2px var(--jp-shadow-ambient-color);
  --jp-elevation-z12: 0px 7px 8px -4px var(--jp-shadow-umbra-color),
    0px 12px 17px 2px var(--jp-shadow-penumbra-color),
    0px 5px 22px 4px var(--jp-shadow-ambient-color);
  --jp-elevation-z16: 0px 8px 10px -5px var(--jp-shadow-umbra-color),
    0px 16px 24px 2px var(--jp-shadow-penumbra-color),
    0px 6px 30px 5px var(--jp-shadow-ambient-color);
  --jp-elevation-z20: 0px 10px 13px -6px var(--jp-shadow-umbra-color),
    0px 20px 31px 3px var(--jp-shadow-penumbra-color),
    0px 8px 38px 7px var(--jp-shadow-ambient-color);
  --jp-elevation-z24: 0px 11px 15px -7px var(--jp-shadow-umbra-color),
    0px 24px 38px 3px var(--jp-shadow-penumbra-color),
    0px 9px 46px 8px var(--jp-shadow-ambient-color);

  /* Borders
   *
   * The following variables, specify the visual styling of borders in JupyterLab.
   */

  --jp-border-width: 1px;
  --jp-border-color0: var(--md-grey-400);
  --jp-border-color1: var(--md-grey-400);
  --jp-border-color2: var(--md-grey-300);
  --jp-border-color3: var(--md-grey-200);
  --jp-border-radius: 2px;

  /* UI Fonts
   *
   * The UI font CSS variables are used for the typography all of the JupyterLab
   * user interface elements that are not directly user generated content.
   *
   * The font sizing here is done assuming that the body font size of --jp-ui-font-size1
   * is applied to a parent element. When children elements, such as headings, are sized
   * in em all things will be computed relative to that body size.
   */

  --jp-ui-font-scale-factor: 1.2;
  --jp-ui-font-size0: 0.83333em;
  --jp-ui-font-size1: 13px; /* Base font size */
  --jp-ui-font-size2: 1.2em;
  --jp-ui-font-size3: 1.44em;

  --jp-ui-font-family: -apple-system, BlinkMacSystemFont, 'Segoe UI', Helvetica,
    Arial, sans-serif, 'Apple Color Emoji', 'Segoe UI Emoji', 'Segoe UI Symbol';

  /*
   * Use these font colors against the corresponding main layout colors.
   * In a light theme, these go from dark to light.
   */

  /* Defaults use Material Design specification */
  --jp-ui-font-color0: rgba(0, 0, 0, 1);
  --jp-ui-font-color1: rgba(0, 0, 0, 0.87);
  --jp-ui-font-color2: rgba(0, 0, 0, 0.54);
  --jp-ui-font-color3: rgba(0, 0, 0, 0.38);

  /*
   * Use these against the brand/accent/warn/error colors.
   * These will typically go from light to darker, in both a dark and light theme.
   */

  --jp-ui-inverse-font-color0: rgba(255, 255, 255, 1);
  --jp-ui-inverse-font-color1: rgba(255, 255, 255, 1);
  --jp-ui-inverse-font-color2: rgba(255, 255, 255, 0.7);
  --jp-ui-inverse-font-color3: rgba(255, 255, 255, 0.5);

  /* Content Fonts
   *
   * Content font variables are used for typography of user generated content.
   *
   * The font sizing here is done assuming that the body font size of --jp-content-font-size1
   * is applied to a parent element. When children elements, such as headings, are sized
   * in em all things will be computed relative to that body size.
   */

  --jp-content-line-height: 1.6;
  --jp-content-font-scale-factor: 1.2;
  --jp-content-font-size0: 0.83333em;
  --jp-content-font-size1: 14px; /* Base font size */
  --jp-content-font-size2: 1.2em;
  --jp-content-font-size3: 1.44em;
  --jp-content-font-size4: 1.728em;
  --jp-content-font-size5: 2.0736em;

  /* This gives a magnification of about 125% in presentation mode over normal. */
  --jp-content-presentation-font-size1: 17px;

  --jp-content-heading-line-height: 1;
  --jp-content-heading-margin-top: 1.2em;
  --jp-content-heading-margin-bottom: 0.8em;
  --jp-content-heading-font-weight: 500;

  /* Defaults use Material Design specification */
  --jp-content-font-color0: rgba(0, 0, 0, 1);
  --jp-content-font-color1: rgba(0, 0, 0, 0.87);
  --jp-content-font-color2: rgba(0, 0, 0, 0.54);
  --jp-content-font-color3: rgba(0, 0, 0, 0.38);

  --jp-content-link-color: var(--md-blue-700);

  --jp-content-font-family: -apple-system, BlinkMacSystemFont, 'Segoe UI',
    Helvetica, Arial, sans-serif, 'Apple Color Emoji', 'Segoe UI Emoji',
    'Segoe UI Symbol';

  /*
   * Code Fonts
   *
   * Code font variables are used for typography of code and other monospaces content.
   */

  --jp-code-font-size: 13px;
  --jp-code-line-height: 1.3077; /* 17px for 13px base */
  --jp-code-padding: 5px; /* 5px for 13px base, codemirror highlighting needs integer px value */
  --jp-code-font-family-default: Menlo, Consolas, 'DejaVu Sans Mono', monospace;
  --jp-code-font-family: var(--jp-code-font-family-default);

  /* This gives a magnification of about 125% in presentation mode over normal. */
  --jp-code-presentation-font-size: 16px;

  /* may need to tweak cursor width if you change font size */
  --jp-code-cursor-width0: 1.4px;
  --jp-code-cursor-width1: 2px;
  --jp-code-cursor-width2: 4px;

  /* Layout
   *
   * The following are the main layout colors use in JupyterLab. In a light
   * theme these would go from light to dark.
   */

  --jp-layout-color0: white;
  --jp-layout-color1: white;
  --jp-layout-color2: var(--md-grey-200);
  --jp-layout-color3: var(--md-grey-400);
  --jp-layout-color4: var(--md-grey-600);

  /* Inverse Layout
   *
   * The following are the inverse layout colors use in JupyterLab. In a light
   * theme these would go from dark to light.
   */

  --jp-inverse-layout-color0: #111111;
  --jp-inverse-layout-color1: var(--md-grey-900);
  --jp-inverse-layout-color2: var(--md-grey-800);
  --jp-inverse-layout-color3: var(--md-grey-700);
  --jp-inverse-layout-color4: var(--md-grey-600);

  /* Brand/accent */

  --jp-brand-color0: var(--md-blue-900);
  --jp-brand-color1: var(--md-blue-700);
  --jp-brand-color2: var(--md-blue-300);
  --jp-brand-color3: var(--md-blue-100);
  --jp-brand-color4: var(--md-blue-50);

  --jp-accent-color0: var(--md-green-900);
  --jp-accent-color1: var(--md-green-700);
  --jp-accent-color2: var(--md-green-300);
  --jp-accent-color3: var(--md-green-100);

  /* State colors (warn, error, success, info) */

  --jp-warn-color0: var(--md-orange-900);
  --jp-warn-color1: var(--md-orange-700);
  --jp-warn-color2: var(--md-orange-300);
  --jp-warn-color3: var(--md-orange-100);

  --jp-error-color0: var(--md-red-900);
  --jp-error-color1: var(--md-red-700);
  --jp-error-color2: var(--md-red-300);
  --jp-error-color3: var(--md-red-100);

  --jp-success-color0: var(--md-green-900);
  --jp-success-color1: var(--md-green-700);
  --jp-success-color2: var(--md-green-300);
  --jp-success-color3: var(--md-green-100);

  --jp-info-color0: var(--md-cyan-900);
  --jp-info-color1: var(--md-cyan-700);
  --jp-info-color2: var(--md-cyan-300);
  --jp-info-color3: var(--md-cyan-100);

  /* Cell specific styles */

  --jp-cell-padding: 5px;

  --jp-cell-collapser-width: 8px;
  --jp-cell-collapser-min-height: 20px;
  --jp-cell-collapser-not-active-hover-opacity: 0.6;

  --jp-cell-editor-background: var(--md-grey-100);
  --jp-cell-editor-border-color: var(--md-grey-300);
  --jp-cell-editor-box-shadow: inset 0 0 2px var(--md-blue-300);
  --jp-cell-editor-active-background: var(--jp-layout-color0);
  --jp-cell-editor-active-border-color: var(--jp-brand-color1);

  --jp-cell-prompt-width: 64px;
  --jp-cell-prompt-font-family: var(--jp-code-font-family-default);
  --jp-cell-prompt-letter-spacing: 0px;
  --jp-cell-prompt-opacity: 1;
  --jp-cell-prompt-not-active-opacity: 0.5;
  --jp-cell-prompt-not-active-font-color: var(--md-grey-700);
  /* A custom blend of MD grey and blue 600
   * See https://meyerweb.com/eric/tools/color-blend/#546E7A:1E88E5:5:hex */
  --jp-cell-inprompt-font-color: #307fc1;
  /* A custom blend of MD grey and orange 600
   * https://meyerweb.com/eric/tools/color-blend/#546E7A:F4511E:5:hex */
  --jp-cell-outprompt-font-color: #bf5b3d;

  /* Notebook specific styles */

  --jp-notebook-padding: 10px;
  --jp-notebook-select-background: var(--jp-layout-color1);
  --jp-notebook-multiselected-color: var(--md-blue-50);

  /* The scroll padding is calculated to fill enough space at the bottom of the
  notebook to show one single-line cell (with appropriate padding) at the top
  when the notebook is scrolled all the way to the bottom. We also subtract one
  pixel so that no scrollbar appears if we have just one single-line cell in the
  notebook. This padding is to enable a 'scroll past end' feature in a notebook.
  */
  --jp-notebook-scroll-padding: calc(
    100% - var(--jp-code-font-size) * var(--jp-code-line-height) -
      var(--jp-code-padding) - var(--jp-cell-padding) - 1px
  );

  /* Rendermime styles */

  --jp-rendermime-error-background: #fdd;
  --jp-rendermime-table-row-background: var(--md-grey-100);
  --jp-rendermime-table-row-hover-background: var(--md-light-blue-50);

  /* Dialog specific styles */

  --jp-dialog-background: rgba(0, 0, 0, 0.25);

  /* Console specific styles */

  --jp-console-padding: 10px;

  /* Toolbar specific styles */

  --jp-toolbar-border-color: var(--jp-border-color1);
  --jp-toolbar-micro-height: 8px;
  --jp-toolbar-background: var(--jp-layout-color1);
  --jp-toolbar-box-shadow: 0px 0px 2px 0px rgba(0, 0, 0, 0.24);
  --jp-toolbar-header-margin: 4px 4px 0px 4px;
  --jp-toolbar-active-background: var(--md-grey-300);

  /* Statusbar specific styles */

  --jp-statusbar-height: 24px;

  /* Input field styles */

  --jp-input-box-shadow: inset 0 0 2px var(--md-blue-300);
  --jp-input-active-background: var(--jp-layout-color1);
  --jp-input-hover-background: var(--jp-layout-color1);
  --jp-input-background: var(--md-grey-100);
  --jp-input-border-color: var(--jp-border-color1);
  --jp-input-active-border-color: var(--jp-brand-color1);
  --jp-input-active-box-shadow-color: rgba(19, 124, 189, 0.3);

  /* General editor styles */

  --jp-editor-selected-background: #d9d9d9;
  --jp-editor-selected-focused-background: #d7d4f0;
  --jp-editor-cursor-color: var(--jp-ui-font-color0);

  /* Code mirror specific styles */

  --jp-mirror-editor-keyword-color: #008000;
  --jp-mirror-editor-atom-color: #88f;
  --jp-mirror-editor-number-color: #080;
  --jp-mirror-editor-def-color: #00f;
  --jp-mirror-editor-variable-color: var(--md-grey-900);
  --jp-mirror-editor-variable-2-color: #05a;
  --jp-mirror-editor-variable-3-color: #085;
  --jp-mirror-editor-punctuation-color: #05a;
  --jp-mirror-editor-property-color: #05a;
  --jp-mirror-editor-operator-color: #aa22ff;
  --jp-mirror-editor-comment-color: #408080;
  --jp-mirror-editor-string-color: #ba2121;
  --jp-mirror-editor-string-2-color: #708;
  --jp-mirror-editor-meta-color: #aa22ff;
  --jp-mirror-editor-qualifier-color: #555;
  --jp-mirror-editor-builtin-color: #008000;
  --jp-mirror-editor-bracket-color: #997;
  --jp-mirror-editor-tag-color: #170;
  --jp-mirror-editor-attribute-color: #00c;
  --jp-mirror-editor-header-color: blue;
  --jp-mirror-editor-quote-color: #090;
  --jp-mirror-editor-link-color: #00c;
  --jp-mirror-editor-error-color: #f00;
  --jp-mirror-editor-hr-color: #999;

  /* Vega extension styles */

  --jp-vega-background: white;

  /* Sidebar-related styles */

  --jp-sidebar-min-width: 250px;

  /* Search-related styles */

  --jp-search-toggle-off-opacity: 0.5;
  --jp-search-toggle-hover-opacity: 0.8;
  --jp-search-toggle-on-opacity: 1;
  --jp-search-selected-match-background-color: rgb(245, 200, 0);
  --jp-search-selected-match-color: black;
  --jp-search-unselected-match-background-color: var(
    --jp-inverse-layout-color0
  );
  --jp-search-unselected-match-color: var(--jp-ui-inverse-font-color0);

  /* Icon colors that work well with light or dark backgrounds */
  --jp-icon-contrast-color0: var(--md-purple-600);
  --jp-icon-contrast-color1: var(--md-green-600);
  --jp-icon-contrast-color2: var(--md-pink-600);
  --jp-icon-contrast-color3: var(--md-blue-600);
}
</style>

<style type="text/css">
/* Force rendering true colors when outputing to pdf */
* {
  -webkit-print-color-adjust: exact;
}

/* Misc */
a.anchor-link {
  display: none;
}

.highlight  {
  margin: 0.4em;
}

/* Input area styling */
.jp-InputArea {
  overflow: hidden;
}

.jp-InputArea-editor {
  overflow: hidden;
}

.CodeMirror pre {
  margin: 0;
  padding: 0;
}

/* Using table instead of flexbox so that we can use break-inside property */
/* CSS rules under this comment should not be required anymore after we move to the JupyterLab 4.0 CSS */


.jp-CodeCell.jp-mod-outputsScrolled .jp-OutputArea-prompt {
  min-width: calc(
    var(--jp-cell-prompt-width) - var(--jp-private-cell-scrolling-output-offset)
  );
}

.jp-OutputArea-child {
  display: table;
  width: 100%;
}

.jp-OutputPrompt {
  display: table-cell;
  vertical-align: top;
  min-width: var(--jp-cell-prompt-width);
}

body[data-format='mobile'] .jp-OutputPrompt {
  display: table-row;
}

.jp-OutputArea-output {
  display: table-cell;
  width: 100%;
}

body[data-format='mobile'] .jp-OutputArea-child .jp-OutputArea-output {
  display: table-row;
}

.jp-OutputArea-output.jp-OutputArea-executeResult {
  width: 100%;
}

/* Hiding the collapser by default */
.jp-Collapser {
  display: none;
}

@media print {
  .jp-Cell-inputWrapper,
  .jp-Cell-outputWrapper {
    display: block;
  }

  .jp-OutputArea-child {
    break-inside: avoid-page;
  }
}
</style>

<!-- Load mathjax -->
    <script src="https://cdnjs.cloudflare.com/ajax/libs/mathjax/2.7.7/latest.js?config=TeX-AMS_CHTML-full,Safe"> </script>
    <!-- MathJax configuration -->
    <script type="text/x-mathjax-config">
    init_mathjax = function() {
        if (window.MathJax) {
        // MathJax loaded
            MathJax.Hub.Config({
                TeX: {
                    equationNumbers: {
                    autoNumber: "AMS",
                    useLabelIds: true
                    }
                },
                tex2jax: {
                    inlineMath: [ ['$','$'], ["\\(","\\)"] ],
                    displayMath: [ ['$$','$$'], ["\\[","\\]"] ],
                    processEscapes: true,
                    processEnvironments: true
                },
                displayAlign: 'center',
                CommonHTML: {
                    linebreaks: {
                    automatic: true
                    }
                }
            });

            MathJax.Hub.Queue(["Typeset", MathJax.Hub]);
        }
    }
    init_mathjax();
    </script>
    <!-- End of mathjax configuration --></head>
<body class="jp-Notebook" data-jp-theme-light="true" data-jp-theme-name="JupyterLab Light">

<div class="jp-Cell jp-MarkdownCell jp-Notebook-cell">
<div class="jp-Cell-inputWrapper">
<div class="jp-Collapser jp-InputCollapser jp-Cell-inputCollapser">
</div>
<div class="jp-InputArea jp-Cell-inputArea"><div class="jp-InputPrompt jp-InputArea-prompt">
</div><div class="jp-RenderedHTMLCommon jp-RenderedMarkdown jp-MarkdownOutput " data-mime-type="text/markdown">
<h1 id=""><img src="data:image/jpeg;base64,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" width="50" /><a class="anchor-link" href="#">&#182;</a></h1><h1 id="%D0%9C%D0%B0%D1%88%D0%B8%D0%BD%D0%BD%D0%BE%D0%B5-%D0%BE%D0%B1%D1%83%D1%87%D0%B5%D0%BD%D0%B8%D0%B5.-%D0%92%D0%9C%D0%9A-%D0%9C%D0%93%D0%A3">&#1052;&#1072;&#1096;&#1080;&#1085;&#1085;&#1086;&#1077; &#1086;&#1073;&#1091;&#1095;&#1077;&#1085;&#1080;&#1077;. &#1042;&#1052;&#1050; &#1052;&#1043;&#1059;<a class="anchor-link" href="#%D0%9C%D0%B0%D1%88%D0%B8%D0%BD%D0%BD%D0%BE%D0%B5-%D0%BE%D0%B1%D1%83%D1%87%D0%B5%D0%BD%D0%B8%D0%B5.-%D0%92%D0%9C%D0%9A-%D0%9C%D0%93%D0%A3">&#182;</a></h1>
</div>
</div>
</div>
</div>
<div class="jp-Cell jp-MarkdownCell jp-Notebook-cell">
<div class="jp-Cell-inputWrapper">
<div class="jp-Collapser jp-InputCollapser jp-Cell-inputCollapser">
</div>
<div class="jp-InputArea jp-Cell-inputArea"><div class="jp-InputPrompt jp-InputArea-prompt">
</div><div class="jp-RenderedHTMLCommon jp-RenderedMarkdown jp-MarkdownOutput " data-mime-type="text/markdown">
<h1 id="%D0%9F%D1%80%D0%B0%D0%BA%D1%82%D0%B8%D1%87%D0%B5%D1%81%D0%BA%D0%BE%D0%B5-%D0%B7%D0%B0%D0%B4%D0%B0%D0%BD%D0%B8%D0%B5-8:-%D0%94%D0%B5%D1%80%D0%B5%D0%B2%D1%8C%D1%8F-%D1%80%D0%B5%D1%88%D0%B5%D0%BD%D0%B8%D0%B9">&#1055;&#1088;&#1072;&#1082;&#1090;&#1080;&#1095;&#1077;&#1089;&#1082;&#1086;&#1077; &#1079;&#1072;&#1076;&#1072;&#1085;&#1080;&#1077; 8: &#1044;&#1077;&#1088;&#1077;&#1074;&#1100;&#1103; &#1088;&#1077;&#1096;&#1077;&#1085;&#1080;&#1081;<a class="anchor-link" href="#%D0%9F%D1%80%D0%B0%D0%BA%D1%82%D0%B8%D1%87%D0%B5%D1%81%D0%BA%D0%BE%D0%B5-%D0%B7%D0%B0%D0%B4%D0%B0%D0%BD%D0%B8%D0%B5-8:-%D0%94%D0%B5%D1%80%D0%B5%D0%B2%D1%8C%D1%8F-%D1%80%D0%B5%D1%88%D0%B5%D0%BD%D0%B8%D0%B9">&#182;</a></h1><h2 id="%D0%A3%D1%80%D0%BE%D0%B2%D0%B5%D0%BD%D1%8C:-**%D0%91%D0%B0%D0%B7%D0%BE%D0%B2%D1%8B%D0%B9-(Base)**">&#1059;&#1088;&#1086;&#1074;&#1077;&#1085;&#1100;: <font color="SkyBlue">**&#1041;&#1072;&#1079;&#1086;&#1074;&#1099;&#1081; (Base)**</font><a class="anchor-link" href="#%D0%A3%D1%80%D0%BE%D0%B2%D0%B5%D0%BD%D1%8C:-**%D0%91%D0%B0%D0%B7%D0%BE%D0%B2%D1%8B%D0%B9-(Base)**">&#182;</a></h2>
</div>
</div>
</div>
</div>
<div class="jp-Cell jp-MarkdownCell jp-Notebook-cell">
<div class="jp-Cell-inputWrapper">
<div class="jp-Collapser jp-InputCollapser jp-Cell-inputCollapser">
</div>
<div class="jp-InputArea jp-Cell-inputArea"><div class="jp-InputPrompt jp-InputArea-prompt">
</div><div class="jp-RenderedHTMLCommon jp-RenderedMarkdown jp-MarkdownOutput " data-mime-type="text/markdown">
<h1 id="%D0%9E-%D1%84%D0%BE%D1%80%D0%BC%D0%B0%D1%82%D0%B5-%D1%81%D0%B4%D0%B0%D1%87%D0%B8">&#1054; &#1092;&#1086;&#1088;&#1084;&#1072;&#1090;&#1077; &#1089;&#1076;&#1072;&#1095;&#1080;<a class="anchor-link" href="#%D0%9E-%D1%84%D0%BE%D1%80%D0%BC%D0%B0%D1%82%D0%B5-%D1%81%D0%B4%D0%B0%D1%87%D0%B8">&#182;</a></h1><p>🔷 <strong><font color='plum'>При решении ноутбука используйте данный шаблон</font></strong></p>

<pre><code>✅ Можно добавлять новые ячейки любых типов
❌ Не нужно удалять текстовые ячейки c разметкой частей ноутбука и формулировками заданий


</code></pre>
<p>🔷 <strong><font color='plum'>При оценивании задач учитывается код</font></strong></p>

<pre><code>✅ Задания, в которых необходим код, обычно помечаются фразами "Your code here"/"Ваш код" и аналогичными
❌ Ответы на вопросы без сопутствующего кода оцениваются в 0 баллов
❌ Наличе работоспособного кода в ноутбуке, если на сказано иного, обязательно

</code></pre>
<p>🔷 <strong><font color='plum'>При оценивании задач учитываются выводы</font></strong></p>

<pre><code>✅ Задания, в которых необходимы выводы, обычно помечаются фразами Вывод"/"Ответ на вопрос"/"Ваш текст" и аналогичными
✅ Обычно выводы подразумевают под собой текстовый ответ (можно писать markdown, latex).
✅ Сопутствующие изображения, графики, таблички - приветствуются!
❌ При отсутствии выводов задание не засчитается на полный балл</code></pre>

</div>
</div>
</div>
</div>
<div class="jp-Cell jp-MarkdownCell jp-Notebook-cell">
<div class="jp-Cell-inputWrapper">
<div class="jp-Collapser jp-InputCollapser jp-Cell-inputCollapser">
</div>
<div class="jp-InputArea jp-Cell-inputArea"><div class="jp-InputPrompt jp-InputArea-prompt">
</div><div class="jp-RenderedHTMLCommon jp-RenderedMarkdown jp-MarkdownOutput " data-mime-type="text/markdown">
<p><strong>В этом задании вы:</strong></p>
<ul>
<li>Посмотрите глазами, как же работают деревья решений.</li>
<li>Реализуете различные меры качества разбиения в вершине.</li>
<li>Визуализируете работу дерева решений</li>
<li>Изучите, как получить из обученного дерева важность признаков.</li>
</ul>
<hr>
<p><font color="white" style="opacity:0.2024"></font>
<font color=DarkOrange>**Примерное время выполнения (execution time/время выполнения, если нажать run all) всех ячеек ноутбука при правильной реализации: до 10 минут </font>**</p>

</div>
</div>
</div>
</div>
<div class="jp-Cell jp-MarkdownCell jp-Notebook-cell">
<div class="jp-Cell-inputWrapper">
<div class="jp-Collapser jp-InputCollapser jp-Cell-inputCollapser">
</div>
<div class="jp-InputArea jp-Cell-inputArea"><div class="jp-InputPrompt jp-InputArea-prompt">
</div><div class="jp-RenderedHTMLCommon jp-RenderedMarkdown jp-MarkdownOutput " data-mime-type="text/markdown">
<h1 id="%D0%9F%D0%BE%D0%B4%D0%B3%D0%BE%D1%82%D0%BE%D0%B2%D0%BA%D0%B0-%D1%80%D0%B0%D0%B1%D0%BE%D1%87%D0%B5%D0%B9-%D1%81%D1%80%D0%B5%D0%B4%D1%8B">&#1055;&#1086;&#1076;&#1075;&#1086;&#1090;&#1086;&#1074;&#1082;&#1072; &#1088;&#1072;&#1073;&#1086;&#1095;&#1077;&#1081; &#1089;&#1088;&#1077;&#1076;&#1099;<a class="anchor-link" href="#%D0%9F%D0%BE%D0%B4%D0%B3%D0%BE%D1%82%D0%BE%D0%B2%D0%BA%D0%B0-%D1%80%D0%B0%D0%B1%D0%BE%D1%87%D0%B5%D0%B9-%D1%81%D1%80%D0%B5%D0%B4%D1%8B">&#182;</a></h1><p>Сначала установим нужные нам версии библиотек. Мы гарантируем, что в данных версиях задание будет корректно отрабатывать.</p>
<p>После установки нужных версий, <strong>возможно,</strong> нужно перезагрузить среду (runtime), но скорее всего вам это не понадобится</p>
<p>На скачивание файла и установку понадобится не более 5 минут.</p>
<p><font color='OrangeRed'>**Важно!**</font></p>
<p>Устанавливать нужные версии нужно каждый раз, когда создается новый рантайм. Например, если вы 2 часа подряд делаете это задание, то подготовить библиотеки достаточно 1 раз. Но если вы, например, начали в понедельник, затем закрыли/выключили ноутбук, то при продолжении в среду, вам нужно будет запустить рантайм заново и следовательно заново установить библиотеки.</p>
<p><font color='OrangeRed'>**Важно!**</font>
Если вы предпочитаете делать практические задания на своем личном ноутбуке, то проверьте, что вы установили рабочее окружение в <a href="https://github.com/MSU-ML-COURSE/ML-COURSE-24-25/blob/main/tutorials/%D0%A2%D1%83%D1%82%D0%BE%D1%80%D0%B8%D0%B0%D0%BB%20%D0%BF%D0%BE%20%D1%83%D1%81%D1%82%D0%B0%D0%BD%D0%BE%D0%B2%D0%BA%D0%B5%20%D1%80%D0%B0%D0%B1%D0%BE%D1%87%D0%B5%D0%B3%D0%BE%20%D0%BE%D0%BA%D1%80%D1%83%D0%B6%D0%B5%D0%BD%D0%B8%D1%8F%20%D0%B2%20Python%20%D0%B4%D0%BB%D1%8F%20%D1%80%D0%B5%D1%88%D0%B5%D0%BD%D0%B8%D1%8F%20%D0%B7%D0%B0%D0%B4%D0%B0%D1%87%20(2">соответствии с гайдом</a>.pdf)</p>

</div>
</div>
</div>
</div><div class="jp-Cell jp-CodeCell jp-Notebook-cell jp-mod-noOutputs  ">
<div class="jp-Cell-inputWrapper">
<div class="jp-Collapser jp-InputCollapser jp-Cell-inputCollapser">
</div>
<div class="jp-InputArea jp-Cell-inputArea">
<div class="jp-InputPrompt jp-InputArea-prompt">In&nbsp;[&nbsp;]:</div>
<div class="jp-CodeMirrorEditor jp-Editor jp-InputArea-editor" data-type="inline">
     <div class="CodeMirror cm-s-jupyter">
<div class=" highlight hl-ipython3"><pre><span></span><span class="c1"># !!! Данный блок будет работать только в Google-Colab !!!</span>
<span class="err">!</span> <span class="n">gdown</span> <span class="mi">10</span><span class="n">k8Hwn9kpK9SpK4IEj4</span><span class="o">-</span><span class="n">EaWQZqgYT5</span><span class="o">-</span><span class="n">Q</span>
<span class="err">!</span> <span class="n">pip</span> <span class="n">install</span> <span class="o">-</span><span class="n">r</span> <span class="o">/</span><span class="n">content</span><span class="o">/</span><span class="n">requirements_2024_25_for_colab_small</span><span class="o">.</span><span class="n">txt</span>
</pre></div>

     </div>
</div>
</div>
</div>

</div>
<div class="jp-Cell jp-MarkdownCell jp-Notebook-cell">
<div class="jp-Cell-inputWrapper">
<div class="jp-Collapser jp-InputCollapser jp-Cell-inputCollapser">
</div>
<div class="jp-InputArea jp-Cell-inputArea"><div class="jp-InputPrompt jp-InputArea-prompt">
</div><div class="jp-RenderedHTMLCommon jp-RenderedMarkdown jp-MarkdownOutput " data-mime-type="text/markdown">
<p>Проверим версию библиотеки:</p>

</div>
</div>
</div>
</div><div class="jp-Cell jp-CodeCell jp-Notebook-cell jp-mod-noOutputs  ">
<div class="jp-Cell-inputWrapper">
<div class="jp-Collapser jp-InputCollapser jp-Cell-inputCollapser">
</div>
<div class="jp-InputArea jp-Cell-inputArea">
<div class="jp-InputPrompt jp-InputArea-prompt">In&nbsp;[&nbsp;]:</div>
<div class="jp-CodeMirrorEditor jp-Editor jp-InputArea-editor" data-type="inline">
     <div class="CodeMirror cm-s-jupyter">
<div class=" highlight hl-ipython3"><pre><span></span><span class="kn">import</span> <span class="nn">catboost</span>
<span class="k">assert</span><span class="p">(</span><span class="n">catboost</span><span class="o">.</span><span class="n">__version__</span> <span class="o">==</span> <span class="s1">&#39;1.2.7&#39;</span><span class="p">)</span>
</pre></div>

     </div>
</div>
</div>
</div>

</div>
<div class="jp-Cell jp-MarkdownCell jp-Notebook-cell">
<div class="jp-Cell-inputWrapper">
<div class="jp-Collapser jp-InputCollapser jp-Cell-inputCollapser">
</div>
<div class="jp-InputArea jp-Cell-inputArea"><div class="jp-InputPrompt jp-InputArea-prompt">
</div><div class="jp-RenderedHTMLCommon jp-RenderedMarkdown jp-MarkdownOutput " data-mime-type="text/markdown">
<p>Теперь можно приступать к выполнению задания! :)</p>

</div>
</div>
</div>
</div>
<div class="jp-Cell jp-MarkdownCell jp-Notebook-cell">
<div class="jp-Cell-inputWrapper">
<div class="jp-Collapser jp-InputCollapser jp-Cell-inputCollapser">
</div>
<div class="jp-InputArea jp-Cell-inputArea"><div class="jp-InputPrompt jp-InputArea-prompt">
</div><div class="jp-RenderedHTMLCommon jp-RenderedMarkdown jp-MarkdownOutput " data-mime-type="text/markdown">
<hr>
<p><font color="white" style="opacity:0.2023"></font></p>

</div>
</div>
</div>
</div>
<div class="jp-Cell jp-MarkdownCell jp-Notebook-cell">
<div class="jp-Cell-inputWrapper">
<div class="jp-Collapser jp-InputCollapser jp-Cell-inputCollapser">
</div>
<div class="jp-InputArea jp-Cell-inputArea"><div class="jp-InputPrompt jp-InputArea-prompt">
</div><div class="jp-RenderedHTMLCommon jp-RenderedMarkdown jp-MarkdownOutput " data-mime-type="text/markdown">
<p>Привет, ребятушки!</p>
<p>Сегодня мы с вами посмотрим на такую вещь, как деревья решений. Мы попытаемся понять принцип их работы, пощупать, исследовать влияние параметров и, самое главное, узнаем, какое свойство случайных лесов оказало сильное влияние на машинное обучение.</p>
<p>Хочу обратить внимание, что в этом задании мы будем работать с регрессорами, однако все сделанные нами выводы верны также и для задач классификации.</p>
<p><font color='OrangeRed'>**Внимание!**</font> Во всех заданиях в качестве целевой метрики используется MAE (средняя абсолютная ошибка). Значение MAE вычисляется как</p>
$$
  MAE = \sum_{i = 1}^N\dfrac{|a(x_i) - y_i|}{N},
$$<p>где $N$ - число объектов в тестовой выборке, $x_i$ - вектор признаков i-го объекта, $a(x_i)$ - предсказание на i-ом объекте, $y_i$ - значение целевого признака на i-м объекте.</p>
<p>Для вычисления MAE можно использовать встроенную функцию <code>sklearn.metrics.mean_absolute_error</code></p>
<p>Импортируем необходимые библиотеки:</p>

</div>
</div>
</div>
</div><div class="jp-Cell jp-CodeCell jp-Notebook-cell jp-mod-noOutputs  ">
<div class="jp-Cell-inputWrapper">
<div class="jp-Collapser jp-InputCollapser jp-Cell-inputCollapser">
</div>
<div class="jp-InputArea jp-Cell-inputArea">
<div class="jp-InputPrompt jp-InputArea-prompt">In&nbsp;[3]:</div>
<div class="jp-CodeMirrorEditor jp-Editor jp-InputArea-editor" data-type="inline">
     <div class="CodeMirror cm-s-jupyter">
<div class=" highlight hl-ipython3"><pre><span></span><span class="kn">from</span> <span class="nn">sklearn.tree</span> <span class="kn">import</span> <span class="n">DecisionTreeRegressor</span><span class="p">,</span> <span class="n">plot_tree</span>
<span class="kn">from</span> <span class="nn">sklearn.model_selection</span> <span class="kn">import</span> <span class="n">train_test_split</span><span class="p">,</span> <span class="n">GridSearchCV</span>
<span class="kn">from</span> <span class="nn">sklearn.metrics</span> <span class="kn">import</span> <span class="n">mean_absolute_error</span>
<span class="kn">from</span> <span class="nn">sklearn.datasets</span> <span class="kn">import</span> <span class="n">fetch_california_housing</span>
<span class="kn">from</span> <span class="nn">sklearn.pipeline</span> <span class="kn">import</span> <span class="n">Pipeline</span> <span class="c1"># Если забыли, загляните в ноутбук Sklearn-knn-normalize-cv</span>
<span class="kn">from</span> <span class="nn">sklearn.preprocessing</span> <span class="kn">import</span> <span class="n">MinMaxScaler</span>
<span class="kn">from</span> <span class="nn">sklearn.linear_model</span> <span class="kn">import</span> <span class="n">RidgeCV</span>

<span class="kn">import</span> <span class="nn">matplotlib.pyplot</span> <span class="k">as</span> <span class="nn">plt</span>
<span class="kn">import</span> <span class="nn">plotly.express</span> <span class="k">as</span> <span class="nn">px</span>
<span class="kn">import</span> <span class="nn">pandas</span> <span class="k">as</span> <span class="nn">pd</span>

<span class="c1">#####</span>
<span class="c1"># если Вы не различаете предлагаемые цвета, то Вы можете раскомментить строку ниже</span>
<span class="c1"># для применения специальной цветовой палитры или аналогичных</span>
<span class="c1"># plt.style.use(&#39;tableau-colorblind10&#39;)</span>
<span class="c1">#####</span>

<span class="kn">import</span> <span class="nn">numpy</span> <span class="k">as</span> <span class="nn">np</span>

<span class="kn">import</span> <span class="nn">time</span>
<span class="kn">import</span> <span class="nn">os</span>

<span class="kn">import</span> <span class="nn">warnings</span>
<span class="n">warnings</span><span class="o">.</span><span class="n">filterwarnings</span><span class="p">(</span><span class="s2">&quot;ignore&quot;</span><span class="p">,</span> <span class="n">category</span><span class="o">=</span><span class="ne">FutureWarning</span><span class="p">)</span>
</pre></div>

     </div>
</div>
</div>
</div>

</div>
<div class="jp-Cell jp-MarkdownCell jp-Notebook-cell">
<div class="jp-Cell-inputWrapper">
<div class="jp-Collapser jp-InputCollapser jp-Cell-inputCollapser">
</div>
<div class="jp-InputArea jp-Cell-inputArea"><div class="jp-InputPrompt jp-InputArea-prompt">
</div><div class="jp-RenderedHTMLCommon jp-RenderedMarkdown jp-MarkdownOutput " data-mime-type="text/markdown">
<h1 id="%D0%97%D0%B0%D0%B4%D0%B0%D0%BD%D0%B8%D0%B5-%D0%B4%D0%BB%D1%8F-%D0%BF%D1%80%D0%BE%D0%B2%D0%B5%D1%80%D1%8F%D1%8E%D1%89%D0%B5%D0%B9-%D1%81%D0%B8%D1%81%D1%82%D0%B5%D0%BC%D1%8B">&#1047;&#1072;&#1076;&#1072;&#1085;&#1080;&#1077; &#1076;&#1083;&#1103; &#1087;&#1088;&#1086;&#1074;&#1077;&#1088;&#1103;&#1102;&#1097;&#1077;&#1081; &#1089;&#1080;&#1089;&#1090;&#1077;&#1084;&#1099;<a class="anchor-link" href="#%D0%97%D0%B0%D0%B4%D0%B0%D0%BD%D0%B8%D0%B5-%D0%B4%D0%BB%D1%8F-%D0%BF%D1%80%D0%BE%D0%B2%D0%B5%D1%80%D1%8F%D1%8E%D1%89%D0%B5%D0%B9-%D1%81%D0%B8%D1%81%D1%82%D0%B5%D0%BC%D1%8B">&#182;</a></h1>
</div>
</div>
</div>
</div>
<div class="jp-Cell jp-MarkdownCell jp-Notebook-cell">
<div class="jp-Cell-inputWrapper">
<div class="jp-Collapser jp-InputCollapser jp-Cell-inputCollapser">
</div>
<div class="jp-InputArea jp-Cell-inputArea"><div class="jp-InputPrompt jp-InputArea-prompt">
</div><div class="jp-RenderedHTMLCommon jp-RenderedMarkdown jp-MarkdownOutput " data-mime-type="text/markdown">
<h2 id="**%D0%97%D0%B0%D0%B4%D0%B0%D0%BD%D0%B8%D0%B5-0-(unit-%D1%82%D0%B5%D1%81%D1%82%D1%8B)**"><font color="DarkOrange">**&#1047;&#1072;&#1076;&#1072;&#1085;&#1080;&#1077; 0 (unit-&#1090;&#1077;&#1089;&#1090;&#1099;)**</font><a class="anchor-link" href="#**%D0%97%D0%B0%D0%B4%D0%B0%D0%BD%D0%B8%D0%B5-0-(unit-%D1%82%D0%B5%D1%81%D1%82%D1%8B)**">&#182;</a></h2><p>Как Вы знаете из лекций, решающие деревья на каждом шаге разбивают множество объектов на два подмножества, выбирая такой критерий, по которому разбиение наиболее оптимальное. В качестве меры качества таких разбиений для <strong>задачи классификации</strong> могут выступать три меры (наиболее популярные):</p>
<p>1) <code>Gini</code></p>
<p>2) <code>Entropy</code></p>
<p>3) <code>Classification Error</code>.</p>
<p>Вам нужно реализовать все три меры качества и загрузить их реализацию в тестирующую систему cv-gml.ru</p>
<p>Подробнее об этом задании вы можете прочитать в соответствующем .pdf файле.</p>

</div>
</div>
</div>
</div>
<div class="jp-Cell jp-MarkdownCell jp-Notebook-cell">
<div class="jp-Cell-inputWrapper">
<div class="jp-Collapser jp-InputCollapser jp-Cell-inputCollapser">
</div>
<div class="jp-InputArea jp-Cell-inputArea"><div class="jp-InputPrompt jp-InputArea-prompt">
</div><div class="jp-RenderedHTMLCommon jp-RenderedMarkdown jp-MarkdownOutput " data-mime-type="text/markdown">
<h1 id="%D0%9E%D0%B1%D1%83%D1%87%D0%B5%D0%BD%D0%B8%D0%B5-%D0%B4%D0%B5%D1%80%D0%B5%D0%B2%D0%B0-%D1%80%D0%B5%D1%88%D0%B5%D0%BD%D0%B8%D1%8F-%D0%B8-%D0%B2%D0%B8%D0%B7%D1%83%D0%B0%D0%BB%D0%B8%D0%B7%D0%B0%D1%86%D0%B8%D1%8F">&#1054;&#1073;&#1091;&#1095;&#1077;&#1085;&#1080;&#1077; &#1076;&#1077;&#1088;&#1077;&#1074;&#1072; &#1088;&#1077;&#1096;&#1077;&#1085;&#1080;&#1103; &#1080; &#1074;&#1080;&#1079;&#1091;&#1072;&#1083;&#1080;&#1079;&#1072;&#1094;&#1080;&#1103;<a class="anchor-link" href="#%D0%9E%D0%B1%D1%83%D1%87%D0%B5%D0%BD%D0%B8%D0%B5-%D0%B4%D0%B5%D1%80%D0%B5%D0%B2%D0%B0-%D1%80%D0%B5%D1%88%D0%B5%D0%BD%D0%B8%D1%8F-%D0%B8-%D0%B2%D0%B8%D0%B7%D1%83%D0%B0%D0%BB%D0%B8%D0%B7%D0%B0%D1%86%D0%B8%D1%8F">&#182;</a></h1><p>На лекции вам рассказывали, что деревья решений несколько раз дробят выборки, используя какие-то значения
признаков, и таким образом строят цепочки условий для принятия решения. Давайте убедимся в этом лично.</p>
<p>Загрузим датасет со стоимостью недвижимости в Калифорнии, который нам понадобится для первых заданий:</p>

</div>
</div>
</div>
</div><div class="jp-Cell jp-CodeCell jp-Notebook-cell jp-mod-noOutputs  ">
<div class="jp-Cell-inputWrapper">
<div class="jp-Collapser jp-InputCollapser jp-Cell-inputCollapser">
</div>
<div class="jp-InputArea jp-Cell-inputArea">
<div class="jp-InputPrompt jp-InputArea-prompt">In&nbsp;[4]:</div>
<div class="jp-CodeMirrorEditor jp-Editor jp-InputArea-editor" data-type="inline">
     <div class="CodeMirror cm-s-jupyter">
<div class=" highlight hl-ipython3"><pre><span></span><span class="k">def</span> <span class="nf">get_california_dataset</span><span class="p">():</span>
    <span class="sd">&quot;&quot;&quot;Return the splits of the California housing dataset for training and testing&quot;&quot;&quot;</span>
    <span class="n">X</span><span class="p">,</span> <span class="n">y</span> <span class="o">=</span> <span class="n">fetch_california_housing</span><span class="p">(</span><span class="n">return_X_y</span><span class="o">=</span><span class="kc">True</span><span class="p">)</span>
    <span class="k">return</span> <span class="n">train_test_split</span><span class="p">(</span><span class="n">X</span><span class="p">,</span> <span class="n">y</span><span class="p">,</span> <span class="n">random_state</span><span class="o">=</span><span class="mi">42</span><span class="p">)</span>

<span class="n">X_train</span><span class="p">,</span> <span class="n">X_test</span><span class="p">,</span> <span class="n">y_train</span><span class="p">,</span> <span class="n">y_test</span> <span class="o">=</span> <span class="n">get_california_dataset</span><span class="p">()</span>
</pre></div>

     </div>
</div>
</div>
</div>

</div>
<div class="jp-Cell jp-MarkdownCell jp-Notebook-cell">
<div class="jp-Cell-inputWrapper">
<div class="jp-Collapser jp-InputCollapser jp-Cell-inputCollapser">
</div>
<div class="jp-InputArea jp-Cell-inputArea"><div class="jp-InputPrompt jp-InputArea-prompt">
</div><div class="jp-RenderedHTMLCommon jp-RenderedMarkdown jp-MarkdownOutput " data-mime-type="text/markdown">
<h2 id="**%D0%97%D0%B0%D0%B4%D0%B0%D0%BD%D0%B8%D0%B5-1-%5B1.5-%D0%B1%D0%B0%D0%BB%D0%BBa%5D**"><font color="DarkOrange">**&#1047;&#1072;&#1076;&#1072;&#1085;&#1080;&#1077; 1 [1.5 &#1073;&#1072;&#1083;&#1083;a]**</font><a class="anchor-link" href="#**%D0%97%D0%B0%D0%B4%D0%B0%D0%BD%D0%B8%D0%B5-1-%5B1.5-%D0%B1%D0%B0%D0%BB%D0%BBa%5D**">&#182;</a></h2><p><strong>Данные</strong>: датасет со стоимостью недвижимости в Калифорнии<br>
<strong>Цели</strong>: В данном задании следует выполнить следующие пункты:</p>
<ol>
<li><font color='DarkOrange'>**[0.5 балл]**</font> Обучите <code>DecisionTreeRegressor</code> на обучающей выборке, установив <code>random_state=0</code>. Здесь мы принудительно ограничиваем максимальную глубину дерева до 3, чтобы получившаяся визуализация не была слишком большой.</li>
<li><font color='DarkOrange'>**[0.5 балл]**</font> При помощи функции <code>sklearn.tree.plot_tree</code> визуализируйте получившееся дерево.</li>
</ol>
<p><font color='LightSteelBlue'>**Подсказка**</font> Можете передать <code>fetch_california_housing().feature_names</code> для улучшения визуализации. Для того чтобы визуализация выглядела лучше, можете воспользоваться аргументом <code>fontsize</code>, а также установить  <code>plt.figure(figsize=(X,Y))</code>.</p>
<ol>
<li><font color='DarkOrange'>**[0.5 балл]**</font> Возьмите любой объект из тестовой выборки. Предскажите его цену при помощи функции <code>.predict</code> обученного регрессора, а затем, воспользовавшись полученной визуализацией, опишите правила, по которым дерево сделало свой вывод. Опишите словами эти решения ниже.</li>
</ol>

</div>
</div>
</div>
</div><div class="jp-Cell jp-CodeCell jp-Notebook-cell   ">
<div class="jp-Cell-inputWrapper">
<div class="jp-Collapser jp-InputCollapser jp-Cell-inputCollapser">
</div>
<div class="jp-InputArea jp-Cell-inputArea">
<div class="jp-InputPrompt jp-InputArea-prompt">In&nbsp;[6]:</div>
<div class="jp-CodeMirrorEditor jp-Editor jp-InputArea-editor" data-type="inline">
     <div class="CodeMirror cm-s-jupyter">
<div class=" highlight hl-ipython3"><pre><span></span><span class="kn">from</span> <span class="nn">prettytable</span> <span class="kn">import</span> <span class="n">PrettyTable</span>

<span class="n">decision_tree_regressor</span> <span class="o">=</span> <span class="n">DecisionTreeRegressor</span><span class="p">(</span><span class="n">max_depth</span><span class="o">=</span><span class="mi">3</span><span class="p">,</span> <span class="n">random_state</span><span class="o">=</span><span class="mi">0</span><span class="p">)</span>

<span class="c1">#Your code here:</span>

<span class="n">decision_tree_regressor</span><span class="o">.</span><span class="n">fit</span><span class="p">(</span><span class="n">X_train</span><span class="p">,</span> <span class="n">y_train</span><span class="p">)</span>

<span class="n">plt</span><span class="o">.</span><span class="n">figure</span><span class="p">(</span><span class="n">figsize</span><span class="o">=</span><span class="p">(</span><span class="mi">20</span><span class="p">,</span> <span class="mi">10</span><span class="p">))</span>

<span class="n">plot_tree</span><span class="p">(</span><span class="n">decision_tree_regressor</span><span class="p">,</span> <span class="n">feature_names</span><span class="o">=</span><span class="n">fetch_california_housing</span><span class="p">()</span><span class="o">.</span><span class="n">feature_names</span><span class="p">,</span> <span class="n">fontsize</span><span class="o">=</span><span class="mi">10</span><span class="p">)</span>

<span class="n">plt</span><span class="o">.</span><span class="n">show</span><span class="p">()</span>

<span class="n">t</span> <span class="o">=</span> <span class="n">PrettyTable</span><span class="p">([</span><span class="s1">&#39;Features&#39;</span><span class="p">]</span> <span class="o">+</span> <span class="nb">list</span><span class="p">(</span><span class="n">fetch_california_housing</span><span class="p">()</span><span class="o">.</span><span class="n">feature_names</span><span class="p">))</span>
<span class="n">t</span><span class="o">.</span><span class="n">add_row</span><span class="p">([</span><span class="s1">&#39;Values&#39;</span><span class="p">]</span> <span class="o">+</span> <span class="nb">list</span><span class="p">(</span><span class="n">X_test</span><span class="p">[</span><span class="mi">7</span><span class="p">]))</span>
<span class="nb">print</span><span class="p">(</span><span class="n">t</span><span class="p">)</span>
<span class="nb">print</span><span class="p">(</span><span class="s1">&#39;Predict:&#39;</span><span class="p">,</span> <span class="n">decision_tree_regressor</span><span class="o">.</span><span class="n">predict</span><span class="p">(</span><span class="n">X_test</span><span class="p">[</span><span class="mi">7</span><span class="p">:</span><span class="mi">8</span><span class="p">])[</span><span class="mi">0</span><span class="p">])</span>
<span class="nb">print</span><span class="p">(</span><span class="s1">&#39;True:&#39;</span><span class="p">,</span> <span class="n">y_test</span><span class="p">[</span><span class="mi">7</span><span class="p">])</span>
</pre></div>

     </div>
</div>
</div>
</div>

<div class="jp-Cell-outputWrapper">
<div class="jp-Collapser jp-OutputCollapser jp-Cell-outputCollapser">
</div>


<div class="jp-OutputArea jp-Cell-outputArea">

<div class="jp-OutputArea-child">

    
    <div class="jp-OutputPrompt jp-OutputArea-prompt"></div>




<div class="jp-RenderedImage jp-OutputArea-output ">
<img src="data:image/png;base64,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
"
class="
"
>
</div>

</div>

<div class="jp-OutputArea-child">

    
    <div class="jp-OutputPrompt jp-OutputArea-prompt"></div>


<div class="jp-RenderedText jp-OutputArea-output" data-mime-type="text/plain">
<pre>+----------+--------+----------+-------------------+--------------------+------------+-------------------+----------+-----------+
| Features | MedInc | HouseAge |      AveRooms     |     AveBedrms      | Population |      AveOccup     | Latitude | Longitude |
+----------+--------+----------+-------------------+--------------------+------------+-------------------+----------+-----------+
|  Values  | 3.6908 |   38.0   | 4.962825278810409 | 1.0483271375464684 |   1011.0   | 3.758364312267658 |  33.92   |  -118.08  |
+----------+--------+----------+-------------------+--------------------+------------+-------------------+----------+-----------+
Predict: 1.8777690855397111
True: 1.575
</pre>
</div>
</div>

</div>

</div>

</div>
<div class="jp-Cell jp-MarkdownCell jp-Notebook-cell">
<div class="jp-Cell-inputWrapper">
<div class="jp-Collapser jp-InputCollapser jp-Cell-inputCollapser">
</div>
<div class="jp-InputArea jp-Cell-inputArea"><div class="jp-InputPrompt jp-InputArea-prompt">
</div><div class="jp-RenderedHTMLCommon jp-RenderedMarkdown jp-MarkdownOutput " data-mime-type="text/markdown">
<p><font color='MediumOrchid'>**Ваш ответ тут:**</font> (о том как предсказывается значение на объекте):** (ВПИШИТЕ СЮДА ТЕКСТОМ) Значение MedInc рассматриваемого объекта = 3.6908 меньше или равно 5.032 =&gt; перемещаемся в левое поддерево. 3.6908(снова признак MedInc) &gt; 3.074 =&gt; перемещаемся в правое поддерево. AveOccup = 3.758364312267658 - больше 2.348 =&gt; перемещаемся в правое поддерево, которое является узлом дерева. Итог - 1.878</p>

</div>
</div>
</div>
</div>
<div class="jp-Cell jp-MarkdownCell jp-Notebook-cell">
<div class="jp-Cell-inputWrapper">
<div class="jp-Collapser jp-InputCollapser jp-Cell-inputCollapser">
</div>
<div class="jp-InputArea jp-Cell-inputArea"><div class="jp-InputPrompt jp-InputArea-prompt">
</div><div class="jp-RenderedHTMLCommon jp-RenderedMarkdown jp-MarkdownOutput " data-mime-type="text/markdown">
<h1 id="%D0%9F%D0%B5%D1%80%D0%B5%D0%BE%D0%B1%D1%83%D1%87%D0%B5%D0%BD%D0%B8%D0%B5-%D0%B4%D0%B5%D1%80%D0%B5%D0%B2%D0%B0">&#1055;&#1077;&#1088;&#1077;&#1086;&#1073;&#1091;&#1095;&#1077;&#1085;&#1080;&#1077; &#1076;&#1077;&#1088;&#1077;&#1074;&#1072;<a class="anchor-link" href="#%D0%9F%D0%B5%D1%80%D0%B5%D0%BE%D0%B1%D1%83%D1%87%D0%B5%D0%BD%D0%B8%D0%B5-%D0%B4%D0%B5%D1%80%D0%B5%D0%B2%D0%B0">&#182;</a></h1>
</div>
</div>
</div>
</div>
<div class="jp-Cell jp-MarkdownCell jp-Notebook-cell">
<div class="jp-Cell-inputWrapper">
<div class="jp-Collapser jp-InputCollapser jp-Cell-inputCollapser">
</div>
<div class="jp-InputArea jp-Cell-inputArea"><div class="jp-InputPrompt jp-InputArea-prompt">
</div><div class="jp-RenderedHTMLCommon jp-RenderedMarkdown jp-MarkdownOutput " data-mime-type="text/markdown">
<p>Дерево решений склонно к переобучению, потому что оно может слишком точно подстраиваться под данные, на которых его обучают. Когда дерево принимает решения, оно делит данные на множество мелких групп, чтобы максимально точно определить каждую категорию. Это может привести к тому, что дерево запоминает даже случайные особенности и шум в данных, а не выявляет общие закономерности. В результате, когда мы пытаемся использовать такое дерево на новых данных, оно может работать плохо, потому что не может обобщить свои выводы.</p>

</div>
</div>
</div>
</div>
<div class="jp-Cell jp-MarkdownCell jp-Notebook-cell">
<div class="jp-Cell-inputWrapper">
<div class="jp-Collapser jp-InputCollapser jp-Cell-inputCollapser">
</div>
<div class="jp-InputArea jp-Cell-inputArea"><div class="jp-InputPrompt jp-InputArea-prompt">
</div><div class="jp-RenderedHTMLCommon jp-RenderedMarkdown jp-MarkdownOutput " data-mime-type="text/markdown">
<h2 id="**%D0%97%D0%B0%D0%B4%D0%B0%D0%BD%D0%B8%D0%B5-2-%5B2-%D0%B1%D0%B0%D0%BB%D0%BBa%5D**"><font color="DarkOrange">**&#1047;&#1072;&#1076;&#1072;&#1085;&#1080;&#1077; 2 [2 &#1073;&#1072;&#1083;&#1083;a]**</font><a class="anchor-link" href="#**%D0%97%D0%B0%D0%B4%D0%B0%D0%BD%D0%B8%D0%B5-2-%5B2-%D0%B1%D0%B0%D0%BB%D0%BBa%5D**">&#182;</a></h2>
</div>
</div>
</div>
</div>
<div class="jp-Cell jp-MarkdownCell jp-Notebook-cell">
<div class="jp-Cell-inputWrapper">
<div class="jp-Collapser jp-InputCollapser jp-Cell-inputCollapser">
</div>
<div class="jp-InputArea jp-Cell-inputArea"><div class="jp-InputPrompt jp-InputArea-prompt">
</div><div class="jp-RenderedHTMLCommon jp-RenderedMarkdown jp-MarkdownOutput " data-mime-type="text/markdown">
<p>Проверим в этом задании, при каких условиях дерево переобучается и как это можно отловить на практике.
Будем исследовать зависимость наличия переобучения дерева от его глубины.</p>
<p>Для этого воспользуемся техникой кросс-валидации</p>
<p>Обучите <code>GridSearchCV</code> для нашей модели регрессионного дерева. Переберите максимальную глубину от 1 до 30 включительно с шагом 1.</p>

</div>
</div>
</div>
</div><div class="jp-Cell jp-CodeCell jp-Notebook-cell   ">
<div class="jp-Cell-inputWrapper">
<div class="jp-Collapser jp-InputCollapser jp-Cell-inputCollapser">
</div>
<div class="jp-InputArea jp-Cell-inputArea">
<div class="jp-InputPrompt jp-InputArea-prompt">In&nbsp;[7]:</div>
<div class="jp-CodeMirrorEditor jp-Editor jp-InputArea-editor" data-type="inline">
     <div class="CodeMirror cm-s-jupyter">
<div class=" highlight hl-ipython3"><pre><span></span><span class="n">model</span> <span class="o">=</span> <span class="n">DecisionTreeRegressor</span><span class="p">()</span>
<span class="n">parameters</span> <span class="o">=</span> <span class="p">{</span><span class="s1">&#39;max_depth&#39;</span><span class="p">:</span> <span class="n">np</span><span class="o">.</span><span class="n">arange</span><span class="p">(</span><span class="mi">1</span><span class="p">,</span> <span class="mi">31</span><span class="p">,</span> <span class="mi">1</span><span class="p">)}</span>


<span class="n">cv</span> <span class="o">=</span> <span class="n">GridSearchCV</span><span class="p">(</span><span class="n">model</span><span class="p">,</span> <span class="n">parameters</span><span class="p">,</span> <span class="n">scoring</span><span class="o">=</span><span class="s1">&#39;neg_mean_absolute_error&#39;</span><span class="p">,</span> <span class="n">return_train_score</span><span class="o">=</span><span class="kc">True</span><span class="p">,</span> <span class="n">verbose</span><span class="o">=</span><span class="mi">1</span><span class="p">)</span>
<span class="n">cv</span><span class="o">.</span><span class="n">fit</span><span class="p">(</span><span class="n">X_train</span><span class="p">,</span> <span class="n">y_train</span><span class="p">)</span>
</pre></div>

     </div>
</div>
</div>
</div>

<div class="jp-Cell-outputWrapper">
<div class="jp-Collapser jp-OutputCollapser jp-Cell-outputCollapser">
</div>


<div class="jp-OutputArea jp-Cell-outputArea">

<div class="jp-OutputArea-child">

    
    <div class="jp-OutputPrompt jp-OutputArea-prompt"></div>


<div class="jp-RenderedText jp-OutputArea-output" data-mime-type="text/plain">
<pre>Fitting 5 folds for each of 30 candidates, totalling 150 fits
</pre>
</div>
</div>

<div class="jp-OutputArea-child">

    
    <div class="jp-OutputPrompt jp-OutputArea-prompt">Out[7]:</div>



<div class="jp-RenderedHTMLCommon jp-RenderedHTML jp-OutputArea-output jp-OutputArea-executeResult" data-mime-type="text/html">
<style>#sk-container-id-1 {color: black;}#sk-container-id-1 pre{padding: 0;}#sk-container-id-1 div.sk-toggleable {background-color: white;}#sk-container-id-1 label.sk-toggleable__label {cursor: pointer;display: block;width: 100%;margin-bottom: 0;padding: 0.3em;box-sizing: border-box;text-align: center;}#sk-container-id-1 label.sk-toggleable__label-arrow:before {content: "▸";float: left;margin-right: 0.25em;color: #696969;}#sk-container-id-1 label.sk-toggleable__label-arrow:hover:before {color: black;}#sk-container-id-1 div.sk-estimator:hover label.sk-toggleable__label-arrow:before {color: black;}#sk-container-id-1 div.sk-toggleable__content {max-height: 0;max-width: 0;overflow: hidden;text-align: left;background-color: #f0f8ff;}#sk-container-id-1 div.sk-toggleable__content pre {margin: 0.2em;color: black;border-radius: 0.25em;background-color: #f0f8ff;}#sk-container-id-1 input.sk-toggleable__control:checked~div.sk-toggleable__content {max-height: 200px;max-width: 100%;overflow: auto;}#sk-container-id-1 input.sk-toggleable__control:checked~label.sk-toggleable__label-arrow:before {content: "▾";}#sk-container-id-1 div.sk-estimator input.sk-toggleable__control:checked~label.sk-toggleable__label {background-color: #d4ebff;}#sk-container-id-1 div.sk-label input.sk-toggleable__control:checked~label.sk-toggleable__label {background-color: #d4ebff;}#sk-container-id-1 input.sk-hidden--visually {border: 0;clip: rect(1px 1px 1px 1px);clip: rect(1px, 1px, 1px, 1px);height: 1px;margin: -1px;overflow: hidden;padding: 0;position: absolute;width: 1px;}#sk-container-id-1 div.sk-estimator {font-family: monospace;background-color: #f0f8ff;border: 1px dotted black;border-radius: 0.25em;box-sizing: border-box;margin-bottom: 0.5em;}#sk-container-id-1 div.sk-estimator:hover {background-color: #d4ebff;}#sk-container-id-1 div.sk-parallel-item::after {content: "";width: 100%;border-bottom: 1px solid gray;flex-grow: 1;}#sk-container-id-1 div.sk-label:hover label.sk-toggleable__label {background-color: #d4ebff;}#sk-container-id-1 div.sk-serial::before {content: "";position: absolute;border-left: 1px solid gray;box-sizing: border-box;top: 0;bottom: 0;left: 50%;z-index: 0;}#sk-container-id-1 div.sk-serial {display: flex;flex-direction: column;align-items: center;background-color: white;padding-right: 0.2em;padding-left: 0.2em;position: relative;}#sk-container-id-1 div.sk-item {position: relative;z-index: 1;}#sk-container-id-1 div.sk-parallel {display: flex;align-items: stretch;justify-content: center;background-color: white;position: relative;}#sk-container-id-1 div.sk-item::before, #sk-container-id-1 div.sk-parallel-item::before {content: "";position: absolute;border-left: 1px solid gray;box-sizing: border-box;top: 0;bottom: 0;left: 50%;z-index: -1;}#sk-container-id-1 div.sk-parallel-item {display: flex;flex-direction: column;z-index: 1;position: relative;background-color: white;}#sk-container-id-1 div.sk-parallel-item:first-child::after {align-self: flex-end;width: 50%;}#sk-container-id-1 div.sk-parallel-item:last-child::after {align-self: flex-start;width: 50%;}#sk-container-id-1 div.sk-parallel-item:only-child::after {width: 0;}#sk-container-id-1 div.sk-dashed-wrapped {border: 1px dashed gray;margin: 0 0.4em 0.5em 0.4em;box-sizing: border-box;padding-bottom: 0.4em;background-color: white;}#sk-container-id-1 div.sk-label label {font-family: monospace;font-weight: bold;display: inline-block;line-height: 1.2em;}#sk-container-id-1 div.sk-label-container {text-align: center;}#sk-container-id-1 div.sk-container {/* jupyter's `normalize.less` sets `[hidden] { display: none; }` but bootstrap.min.css set `[hidden] { display: none !important; }` so we also need the `!important` here to be able to override the default hidden behavior on the sphinx rendered scikit-learn.org. See: https://github.com/scikit-learn/scikit-learn/issues/21755 */display: inline-block !important;position: relative;}#sk-container-id-1 div.sk-text-repr-fallback {display: none;}</style><div id="sk-container-id-1" class="sk-top-container"><div class="sk-text-repr-fallback"><pre>GridSearchCV(estimator=DecisionTreeRegressor(),
             param_grid={&#x27;max_depth&#x27;: array([ 1,  2,  3,  4,  5,  6,  7,  8,  9, 10, 11, 12, 13, 14, 15, 16, 17,
       18, 19, 20, 21, 22, 23, 24, 25, 26, 27, 28, 29, 30])},
             return_train_score=True, scoring=&#x27;neg_mean_absolute_error&#x27;,
             verbose=1)</pre><b>In a Jupyter environment, please rerun this cell to show the HTML representation or trust the notebook. <br />On GitHub, the HTML representation is unable to render, please try loading this page with nbviewer.org.</b></div><div class="sk-container" hidden><div class="sk-item sk-dashed-wrapped"><div class="sk-label-container"><div class="sk-label sk-toggleable"><input class="sk-toggleable__control sk-hidden--visually" id="sk-estimator-id-1" type="checkbox" ><label for="sk-estimator-id-1" class="sk-toggleable__label sk-toggleable__label-arrow">GridSearchCV</label><div class="sk-toggleable__content"><pre>GridSearchCV(estimator=DecisionTreeRegressor(),
             param_grid={&#x27;max_depth&#x27;: array([ 1,  2,  3,  4,  5,  6,  7,  8,  9, 10, 11, 12, 13, 14, 15, 16, 17,
       18, 19, 20, 21, 22, 23, 24, 25, 26, 27, 28, 29, 30])},
             return_train_score=True, scoring=&#x27;neg_mean_absolute_error&#x27;,
             verbose=1)</pre></div></div></div><div class="sk-parallel"><div class="sk-parallel-item"><div class="sk-item"><div class="sk-label-container"><div class="sk-label sk-toggleable"><input class="sk-toggleable__control sk-hidden--visually" id="sk-estimator-id-2" type="checkbox" ><label for="sk-estimator-id-2" class="sk-toggleable__label sk-toggleable__label-arrow">estimator: DecisionTreeRegressor</label><div class="sk-toggleable__content"><pre>DecisionTreeRegressor()</pre></div></div></div><div class="sk-serial"><div class="sk-item"><div class="sk-estimator sk-toggleable"><input class="sk-toggleable__control sk-hidden--visually" id="sk-estimator-id-3" type="checkbox" ><label for="sk-estimator-id-3" class="sk-toggleable__label sk-toggleable__label-arrow">DecisionTreeRegressor</label><div class="sk-toggleable__content"><pre>DecisionTreeRegressor()</pre></div></div></div></div></div></div></div></div></div></div>
</div>

</div>

</div>

</div>

</div>
<div class="jp-Cell jp-MarkdownCell jp-Notebook-cell">
<div class="jp-Cell-inputWrapper">
<div class="jp-Collapser jp-InputCollapser jp-Cell-inputCollapser">
</div>
<div class="jp-InputArea jp-Cell-inputArea"><div class="jp-InputPrompt jp-InputArea-prompt">
</div><div class="jp-RenderedHTMLCommon jp-RenderedMarkdown jp-MarkdownOutput " data-mime-type="text/markdown">
<p>Также обучим для каждой глубины свое дерево и посчитаем метрику качества на тестовой выборке:</p>

</div>
</div>
</div>
</div><div class="jp-Cell jp-CodeCell jp-Notebook-cell jp-mod-noOutputs  ">
<div class="jp-Cell-inputWrapper">
<div class="jp-Collapser jp-InputCollapser jp-Cell-inputCollapser">
</div>
<div class="jp-InputArea jp-Cell-inputArea">
<div class="jp-InputPrompt jp-InputArea-prompt">In&nbsp;[8]:</div>
<div class="jp-CodeMirrorEditor jp-Editor jp-InputArea-editor" data-type="inline">
     <div class="CodeMirror cm-s-jupyter">
<div class=" highlight hl-ipython3"><pre><span></span><span class="n">maes</span> <span class="o">=</span> <span class="p">[]</span>
<span class="k">for</span> <span class="n">m</span> <span class="ow">in</span> <span class="n">parameters</span><span class="p">[</span><span class="s1">&#39;max_depth&#39;</span><span class="p">]:</span>
    <span class="n">model</span> <span class="o">=</span> <span class="n">DecisionTreeRegressor</span><span class="p">(</span><span class="n">max_depth</span><span class="o">=</span><span class="n">m</span><span class="p">)</span>
    <span class="n">model</span><span class="o">.</span><span class="n">fit</span><span class="p">(</span><span class="n">X_train</span><span class="p">,</span> <span class="n">y_train</span><span class="p">)</span>

    <span class="n">y_pred</span> <span class="o">=</span> <span class="n">model</span><span class="o">.</span><span class="n">predict</span><span class="p">(</span><span class="n">X_test</span><span class="p">)</span>

    <span class="n">maes</span><span class="o">.</span><span class="n">append</span><span class="p">(</span><span class="n">mean_absolute_error</span><span class="p">(</span><span class="n">y_pred</span><span class="p">,</span> <span class="n">y_test</span><span class="p">))</span>
</pre></div>

     </div>
</div>
</div>
</div>

</div>
<div class="jp-Cell jp-MarkdownCell jp-Notebook-cell">
<div class="jp-Cell-inputWrapper">
<div class="jp-Collapser jp-InputCollapser jp-Cell-inputCollapser">
</div>
<div class="jp-InputArea jp-Cell-inputArea"><div class="jp-InputPrompt jp-InputArea-prompt">
</div><div class="jp-RenderedHTMLCommon jp-RenderedMarkdown jp-MarkdownOutput " data-mime-type="text/markdown">
<p>Посмотрим на результаты кросс-валидации:</p>

</div>
</div>
</div>
</div><div class="jp-Cell jp-CodeCell jp-Notebook-cell jp-mod-noOutputs  ">
<div class="jp-Cell-inputWrapper">
<div class="jp-Collapser jp-InputCollapser jp-Cell-inputCollapser">
</div>
<div class="jp-InputArea jp-Cell-inputArea">
<div class="jp-InputPrompt jp-InputArea-prompt">In&nbsp;[9]:</div>
<div class="jp-CodeMirrorEditor jp-Editor jp-InputArea-editor" data-type="inline">
     <div class="CodeMirror cm-s-jupyter">
<div class=" highlight hl-ipython3"><pre><span></span><span class="n">res</span> <span class="o">=</span> <span class="n">cv</span><span class="o">.</span><span class="n">cv_results_</span>
<span class="n">res</span><span class="p">[</span><span class="s1">&#39;mean_final_test_score&#39;</span><span class="p">]</span> <span class="o">=</span> <span class="n">maes</span>
<span class="n">res</span><span class="p">[</span><span class="s1">&#39;mean_train_score&#39;</span><span class="p">]</span> <span class="o">=</span> <span class="o">-</span><span class="n">res</span><span class="p">[</span><span class="s1">&#39;mean_train_score&#39;</span><span class="p">]</span> <span class="c1"># минус, так как по канону sklearn оптимизируемый функционал нужно максимизировать</span>
<span class="c1"># и в результатах лежит отрицательный MAE</span>
<span class="n">res</span><span class="p">[</span><span class="s1">&#39;mean_test_score&#39;</span><span class="p">]</span> <span class="o">=</span> <span class="o">-</span><span class="n">res</span><span class="p">[</span><span class="s1">&#39;mean_test_score&#39;</span><span class="p">]</span> <span class="c1"># на самом деле валидация</span>
</pre></div>

     </div>
</div>
</div>
</div>

</div><div class="jp-Cell jp-CodeCell jp-Notebook-cell   ">
<div class="jp-Cell-inputWrapper">
<div class="jp-Collapser jp-InputCollapser jp-Cell-inputCollapser">
</div>
<div class="jp-InputArea jp-Cell-inputArea">
<div class="jp-InputPrompt jp-InputArea-prompt">In&nbsp;[10]:</div>
<div class="jp-CodeMirrorEditor jp-Editor jp-InputArea-editor" data-type="inline">
     <div class="CodeMirror cm-s-jupyter">
<div class=" highlight hl-ipython3"><pre><span></span><span class="n">df</span> <span class="o">=</span> <span class="n">pd</span><span class="o">.</span><span class="n">DataFrame</span><span class="p">(</span><span class="n">res</span><span class="p">)</span>
<span class="n">df</span>
</pre></div>

     </div>
</div>
</div>
</div>

<div class="jp-Cell-outputWrapper">
<div class="jp-Collapser jp-OutputCollapser jp-Cell-outputCollapser">
</div>


<div class="jp-OutputArea jp-Cell-outputArea">

<div class="jp-OutputArea-child">

    
    <div class="jp-OutputPrompt jp-OutputArea-prompt">Out[10]:</div>



<div class="jp-RenderedHTMLCommon jp-RenderedHTML jp-OutputArea-output jp-OutputArea-executeResult" data-mime-type="text/html">

  <div id="df-f7c42834-3866-4a05-aa34-22f606df1c9c" class="colab-df-container">
    <div>
<style scoped>
    .dataframe tbody tr th:only-of-type {
        vertical-align: middle;
    }

    .dataframe tbody tr th {
        vertical-align: top;
    }

    .dataframe thead th {
        text-align: right;
    }
</style>
<table border="1" class="dataframe">
  <thead>
    <tr style="text-align: right;">
      <th></th>
      <th>mean_fit_time</th>
      <th>std_fit_time</th>
      <th>mean_score_time</th>
      <th>std_score_time</th>
      <th>param_max_depth</th>
      <th>params</th>
      <th>split0_test_score</th>
      <th>split1_test_score</th>
      <th>split2_test_score</th>
      <th>split3_test_score</th>
      <th>...</th>
      <th>std_test_score</th>
      <th>rank_test_score</th>
      <th>split0_train_score</th>
      <th>split1_train_score</th>
      <th>split2_train_score</th>
      <th>split3_train_score</th>
      <th>split4_train_score</th>
      <th>mean_train_score</th>
      <th>std_train_score</th>
      <th>mean_final_test_score</th>
    </tr>
  </thead>
  <tbody>
    <tr>
      <th>0</th>
      <td>0.036641</td>
      <td>0.010345</td>
      <td>0.001480</td>
      <td>0.000211</td>
      <td>1</td>
      <td>{'max_depth': 1}</td>
      <td>-0.752062</td>
      <td>-0.727155</td>
      <td>-0.746262</td>
      <td>-0.744973</td>
      <td>...</td>
      <td>0.008752</td>
      <td>30</td>
      <td>-0.738800</td>
      <td>-0.746721</td>
      <td>-0.740599</td>
      <td>-0.742620</td>
      <td>-0.739104</td>
      <td>0.741569</td>
      <td>0.002910</td>
      <td>0.752402</td>
    </tr>
    <tr>
      <th>1</th>
      <td>0.042043</td>
      <td>0.016256</td>
      <td>0.002375</td>
      <td>0.001839</td>
      <td>2</td>
      <td>{'max_depth': 2}</td>
      <td>-0.663754</td>
      <td>-0.640262</td>
      <td>-0.663163</td>
      <td>-0.652011</td>
      <td>...</td>
      <td>0.008627</td>
      <td>29</td>
      <td>-0.647597</td>
      <td>-0.655251</td>
      <td>-0.649388</td>
      <td>-0.651790</td>
      <td>-0.650602</td>
      <td>0.650926</td>
      <td>0.002569</td>
      <td>0.661383</td>
    </tr>
    <tr>
      <th>2</th>
      <td>0.070512</td>
      <td>0.013879</td>
      <td>0.002519</td>
      <td>0.002321</td>
      <td>3</td>
      <td>{'max_depth': 3}</td>
      <td>-0.607718</td>
      <td>-0.578278</td>
      <td>-0.603793</td>
      <td>-0.597519</td>
      <td>...</td>
      <td>0.010118</td>
      <td>28</td>
      <td>-0.582691</td>
      <td>-0.591196</td>
      <td>-0.594001</td>
      <td>-0.590132</td>
      <td>-0.584884</td>
      <td>0.588581</td>
      <td>0.004171</td>
      <td>0.600190</td>
    </tr>
    <tr>
      <th>3</th>
      <td>0.092995</td>
      <td>0.029087</td>
      <td>0.002943</td>
      <td>0.002910</td>
      <td>4</td>
      <td>{'max_depth': 4}</td>
      <td>-0.567531</td>
      <td>-0.541596</td>
      <td>-0.551708</td>
      <td>-0.560562</td>
      <td>...</td>
      <td>0.009028</td>
      <td>27</td>
      <td>-0.544834</td>
      <td>-0.550582</td>
      <td>-0.544567</td>
      <td>-0.548081</td>
      <td>-0.541499</td>
      <td>0.545913</td>
      <td>0.003129</td>
      <td>0.556729</td>
    </tr>
    <tr>
      <th>4</th>
      <td>0.101572</td>
      <td>0.024829</td>
      <td>0.001508</td>
      <td>0.000060</td>
      <td>5</td>
      <td>{'max_depth': 5}</td>
      <td>-0.535188</td>
      <td>-0.513607</td>
      <td>-0.516861</td>
      <td>-0.535777</td>
      <td>...</td>
      <td>0.009328</td>
      <td>26</td>
      <td>-0.510151</td>
      <td>-0.515810</td>
      <td>-0.500819</td>
      <td>-0.515572</td>
      <td>-0.507889</td>
      <td>0.510048</td>
      <td>0.005542</td>
      <td>0.529424</td>
    </tr>
    <tr>
      <th>5</th>
      <td>0.119024</td>
      <td>0.026564</td>
      <td>0.001579</td>
      <td>0.000065</td>
      <td>6</td>
      <td>{'max_depth': 6}</td>
      <td>-0.510775</td>
      <td>-0.489039</td>
      <td>-0.484647</td>
      <td>-0.505497</td>
      <td>...</td>
      <td>0.010002</td>
      <td>25</td>
      <td>-0.473074</td>
      <td>-0.477274</td>
      <td>-0.453298</td>
      <td>-0.478331</td>
      <td>-0.474251</td>
      <td>0.471246</td>
      <td>0.009177</td>
      <td>0.499462</td>
    </tr>
    <tr>
      <th>6</th>
      <td>0.131568</td>
      <td>0.038349</td>
      <td>0.001599</td>
      <td>0.000040</td>
      <td>7</td>
      <td>{'max_depth': 7}</td>
      <td>-0.484970</td>
      <td>-0.461508</td>
      <td>-0.454049</td>
      <td>-0.475928</td>
      <td>...</td>
      <td>0.011332</td>
      <td>12</td>
      <td>-0.435688</td>
      <td>-0.433538</td>
      <td>-0.414744</td>
      <td>-0.438517</td>
      <td>-0.438952</td>
      <td>0.432288</td>
      <td>0.008990</td>
      <td>0.477624</td>
    </tr>
    <tr>
      <th>7</th>
      <td>0.162625</td>
      <td>0.066426</td>
      <td>0.002545</td>
      <td>0.002129</td>
      <td>8</td>
      <td>{'max_depth': 8}</td>
      <td>-0.467973</td>
      <td>-0.437146</td>
      <td>-0.425855</td>
      <td>-0.454848</td>
      <td>...</td>
      <td>0.014475</td>
      <td>6</td>
      <td>-0.392710</td>
      <td>-0.388694</td>
      <td>-0.372984</td>
      <td>-0.396171</td>
      <td>-0.393550</td>
      <td>0.388822</td>
      <td>0.008275</td>
      <td>0.452092</td>
    </tr>
    <tr>
      <th>8</th>
      <td>0.117292</td>
      <td>0.017844</td>
      <td>0.001365</td>
      <td>0.000242</td>
      <td>9</td>
      <td>{'max_depth': 9}</td>
      <td>-0.460393</td>
      <td>-0.426195</td>
      <td>-0.419791</td>
      <td>-0.447541</td>
      <td>...</td>
      <td>0.014796</td>
      <td>3</td>
      <td>-0.351305</td>
      <td>-0.348829</td>
      <td>-0.333553</td>
      <td>-0.356435</td>
      <td>-0.352757</td>
      <td>0.348576</td>
      <td>0.007905</td>
      <td>0.434586</td>
    </tr>
    <tr>
      <th>9</th>
      <td>0.109477</td>
      <td>0.003850</td>
      <td>0.001274</td>
      <td>0.000051</td>
      <td>10</td>
      <td>{'max_depth': 10}</td>
      <td>-0.448227</td>
      <td>-0.422597</td>
      <td>-0.419813</td>
      <td>-0.444745</td>
      <td>...</td>
      <td>0.011394</td>
      <td>1</td>
      <td>-0.309316</td>
      <td>-0.307004</td>
      <td>-0.297344</td>
      <td>-0.315841</td>
      <td>-0.309637</td>
      <td>0.307828</td>
      <td>0.006005</td>
      <td>0.431998</td>
    </tr>
    <tr>
      <th>10</th>
      <td>0.113534</td>
      <td>0.001179</td>
      <td>0.001278</td>
      <td>0.000031</td>
      <td>11</td>
      <td>{'max_depth': 11}</td>
      <td>-0.448819</td>
      <td>-0.427737</td>
      <td>-0.420655</td>
      <td>-0.446462</td>
      <td>...</td>
      <td>0.011330</td>
      <td>2</td>
      <td>-0.265487</td>
      <td>-0.261633</td>
      <td>-0.256171</td>
      <td>-0.273080</td>
      <td>-0.263449</td>
      <td>0.263964</td>
      <td>0.005511</td>
      <td>0.426830</td>
    </tr>
    <tr>
      <th>11</th>
      <td>0.123012</td>
      <td>0.002562</td>
      <td>0.001326</td>
      <td>0.000034</td>
      <td>12</td>
      <td>{'max_depth': 12}</td>
      <td>-0.450039</td>
      <td>-0.427970</td>
      <td>-0.429594</td>
      <td>-0.438784</td>
      <td>...</td>
      <td>0.007962</td>
      <td>4</td>
      <td>-0.222708</td>
      <td>-0.216638</td>
      <td>-0.215384</td>
      <td>-0.228025</td>
      <td>-0.220138</td>
      <td>0.220579</td>
      <td>0.004532</td>
      <td>0.432394</td>
    </tr>
    <tr>
      <th>12</th>
      <td>0.131515</td>
      <td>0.001837</td>
      <td>0.001438</td>
      <td>0.000021</td>
      <td>13</td>
      <td>{'max_depth': 13}</td>
      <td>-0.457600</td>
      <td>-0.432472</td>
      <td>-0.429687</td>
      <td>-0.441861</td>
      <td>...</td>
      <td>0.010159</td>
      <td>5</td>
      <td>-0.182877</td>
      <td>-0.176899</td>
      <td>-0.176917</td>
      <td>-0.186021</td>
      <td>-0.177336</td>
      <td>0.180010</td>
      <td>0.003762</td>
      <td>0.433844</td>
    </tr>
    <tr>
      <th>13</th>
      <td>0.139923</td>
      <td>0.003025</td>
      <td>0.001528</td>
      <td>0.000059</td>
      <td>14</td>
      <td>{'max_depth': 14}</td>
      <td>-0.456688</td>
      <td>-0.444169</td>
      <td>-0.442738</td>
      <td>-0.449360</td>
      <td>...</td>
      <td>0.005080</td>
      <td>7</td>
      <td>-0.144316</td>
      <td>-0.140344</td>
      <td>-0.140260</td>
      <td>-0.149569</td>
      <td>-0.138923</td>
      <td>0.142683</td>
      <td>0.003888</td>
      <td>0.443986</td>
    </tr>
    <tr>
      <th>14</th>
      <td>0.147033</td>
      <td>0.003323</td>
      <td>0.001647</td>
      <td>0.000046</td>
      <td>15</td>
      <td>{'max_depth': 15}</td>
      <td>-0.459877</td>
      <td>-0.453144</td>
      <td>-0.449530</td>
      <td>-0.448283</td>
      <td>...</td>
      <td>0.007419</td>
      <td>8</td>
      <td>-0.110539</td>
      <td>-0.108797</td>
      <td>-0.108157</td>
      <td>-0.115558</td>
      <td>-0.104525</td>
      <td>0.109515</td>
      <td>0.003601</td>
      <td>0.441816</td>
    </tr>
    <tr>
      <th>15</th>
      <td>0.153753</td>
      <td>0.003541</td>
      <td>0.001846</td>
      <td>0.000266</td>
      <td>16</td>
      <td>{'max_depth': 16}</td>
      <td>-0.461992</td>
      <td>-0.457737</td>
      <td>-0.458800</td>
      <td>-0.459445</td>
      <td>...</td>
      <td>0.006108</td>
      <td>9</td>
      <td>-0.081600</td>
      <td>-0.080790</td>
      <td>-0.080875</td>
      <td>-0.086804</td>
      <td>-0.075698</td>
      <td>0.081153</td>
      <td>0.003524</td>
      <td>0.454227</td>
    </tr>
    <tr>
      <th>16</th>
      <td>0.219896</td>
      <td>0.003322</td>
      <td>0.002263</td>
      <td>0.000048</td>
      <td>17</td>
      <td>{'max_depth': 17}</td>
      <td>-0.468058</td>
      <td>-0.455299</td>
      <td>-0.457669</td>
      <td>-0.463064</td>
      <td>...</td>
      <td>0.007412</td>
      <td>10</td>
      <td>-0.058966</td>
      <td>-0.058346</td>
      <td>-0.058797</td>
      <td>-0.062978</td>
      <td>-0.053142</td>
      <td>0.058446</td>
      <td>0.003133</td>
      <td>0.454588</td>
    </tr>
    <tr>
      <th>17</th>
      <td>0.231024</td>
      <td>0.003342</td>
      <td>0.002671</td>
      <td>0.000643</td>
      <td>18</td>
      <td>{'max_depth': 18}</td>
      <td>-0.471789</td>
      <td>-0.453760</td>
      <td>-0.461179</td>
      <td>-0.466661</td>
      <td>...</td>
      <td>0.007641</td>
      <td>11</td>
      <td>-0.039990</td>
      <td>-0.040090</td>
      <td>-0.041205</td>
      <td>-0.044847</td>
      <td>-0.035750</td>
      <td>0.040376</td>
      <td>0.002909</td>
      <td>0.455131</td>
    </tr>
    <tr>
      <th>18</th>
      <td>0.185507</td>
      <td>0.026006</td>
      <td>0.002253</td>
      <td>0.000313</td>
      <td>19</td>
      <td>{'max_depth': 19}</td>
      <td>-0.476884</td>
      <td>-0.464376</td>
      <td>-0.465843</td>
      <td>-0.471899</td>
      <td>...</td>
      <td>0.006679</td>
      <td>13</td>
      <td>-0.025421</td>
      <td>-0.026299</td>
      <td>-0.027284</td>
      <td>-0.030798</td>
      <td>-0.023548</td>
      <td>0.026670</td>
      <td>0.002403</td>
      <td>0.460857</td>
    </tr>
    <tr>
      <th>19</th>
      <td>0.171671</td>
      <td>0.004036</td>
      <td>0.002035</td>
      <td>0.000013</td>
      <td>20</td>
      <td>{'max_depth': 20}</td>
      <td>-0.478210</td>
      <td>-0.463028</td>
      <td>-0.471617</td>
      <td>-0.470994</td>
      <td>...</td>
      <td>0.006058</td>
      <td>14</td>
      <td>-0.015841</td>
      <td>-0.016699</td>
      <td>-0.017886</td>
      <td>-0.020722</td>
      <td>-0.015171</td>
      <td>0.017264</td>
      <td>0.001953</td>
      <td>0.462671</td>
    </tr>
    <tr>
      <th>20</th>
      <td>0.175261</td>
      <td>0.002453</td>
      <td>0.002118</td>
      <td>0.000037</td>
      <td>21</td>
      <td>{'max_depth': 21}</td>
      <td>-0.469698</td>
      <td>-0.467443</td>
      <td>-0.476902</td>
      <td>-0.470042</td>
      <td>...</td>
      <td>0.005143</td>
      <td>15</td>
      <td>-0.009558</td>
      <td>-0.010188</td>
      <td>-0.011403</td>
      <td>-0.013909</td>
      <td>-0.009603</td>
      <td>0.010932</td>
      <td>0.001631</td>
      <td>0.463629</td>
    </tr>
    <tr>
      <th>21</th>
      <td>0.176741</td>
      <td>0.003334</td>
      <td>0.002123</td>
      <td>0.000053</td>
      <td>22</td>
      <td>{'max_depth': 22}</td>
      <td>-0.482064</td>
      <td>-0.465488</td>
      <td>-0.473971</td>
      <td>-0.478089</td>
      <td>...</td>
      <td>0.007267</td>
      <td>24</td>
      <td>-0.005639</td>
      <td>-0.005824</td>
      <td>-0.007240</td>
      <td>-0.009486</td>
      <td>-0.005837</td>
      <td>0.006805</td>
      <td>0.001458</td>
      <td>0.461915</td>
    </tr>
    <tr>
      <th>22</th>
      <td>0.177249</td>
      <td>0.002998</td>
      <td>0.002245</td>
      <td>0.000121</td>
      <td>23</td>
      <td>{'max_depth': 23}</td>
      <td>-0.473259</td>
      <td>-0.470643</td>
      <td>-0.473059</td>
      <td>-0.472918</td>
      <td>...</td>
      <td>0.004623</td>
      <td>21</td>
      <td>-0.003275</td>
      <td>-0.003507</td>
      <td>-0.004168</td>
      <td>-0.006408</td>
      <td>-0.003572</td>
      <td>0.004186</td>
      <td>0.001150</td>
      <td>0.465261</td>
    </tr>
    <tr>
      <th>23</th>
      <td>0.177904</td>
      <td>0.003044</td>
      <td>0.002175</td>
      <td>0.000051</td>
      <td>24</td>
      <td>{'max_depth': 24}</td>
      <td>-0.480552</td>
      <td>-0.465991</td>
      <td>-0.470111</td>
      <td>-0.469866</td>
      <td>...</td>
      <td>0.007527</td>
      <td>20</td>
      <td>-0.001868</td>
      <td>-0.001980</td>
      <td>-0.002322</td>
      <td>-0.004181</td>
      <td>-0.002079</td>
      <td>0.002486</td>
      <td>0.000861</td>
      <td>0.464310</td>
    </tr>
    <tr>
      <th>24</th>
      <td>0.179388</td>
      <td>0.005104</td>
      <td>0.002291</td>
      <td>0.000154</td>
      <td>25</td>
      <td>{'max_depth': 25}</td>
      <td>-0.479584</td>
      <td>-0.465277</td>
      <td>-0.470995</td>
      <td>-0.473785</td>
      <td>...</td>
      <td>0.005983</td>
      <td>19</td>
      <td>-0.001032</td>
      <td>-0.001151</td>
      <td>-0.001206</td>
      <td>-0.002676</td>
      <td>-0.001233</td>
      <td>0.001460</td>
      <td>0.000612</td>
      <td>0.467049</td>
    </tr>
    <tr>
      <th>25</th>
      <td>0.178373</td>
      <td>0.003266</td>
      <td>0.002145</td>
      <td>0.000037</td>
      <td>26</td>
      <td>{'max_depth': 26}</td>
      <td>-0.483838</td>
      <td>-0.465194</td>
      <td>-0.467609</td>
      <td>-0.480085</td>
      <td>...</td>
      <td>0.008219</td>
      <td>22</td>
      <td>-0.000584</td>
      <td>-0.000667</td>
      <td>-0.000528</td>
      <td>-0.001656</td>
      <td>-0.000775</td>
      <td>0.000842</td>
      <td>0.000416</td>
      <td>0.464171</td>
    </tr>
    <tr>
      <th>26</th>
      <td>0.178153</td>
      <td>0.003315</td>
      <td>0.002203</td>
      <td>0.000049</td>
      <td>27</td>
      <td>{'max_depth': 27}</td>
      <td>-0.481215</td>
      <td>-0.465759</td>
      <td>-0.471524</td>
      <td>-0.468177</td>
      <td>...</td>
      <td>0.007182</td>
      <td>18</td>
      <td>-0.000289</td>
      <td>-0.000277</td>
      <td>-0.000239</td>
      <td>-0.000970</td>
      <td>-0.000447</td>
      <td>0.000444</td>
      <td>0.000272</td>
      <td>0.466378</td>
    </tr>
    <tr>
      <th>27</th>
      <td>0.181069</td>
      <td>0.002260</td>
      <td>0.002151</td>
      <td>0.000018</td>
      <td>28</td>
      <td>{'max_depth': 28}</td>
      <td>-0.478953</td>
      <td>-0.460687</td>
      <td>-0.478122</td>
      <td>-0.471776</td>
      <td>...</td>
      <td>0.007009</td>
      <td>17</td>
      <td>-0.000138</td>
      <td>-0.000116</td>
      <td>-0.000110</td>
      <td>-0.000518</td>
      <td>-0.000229</td>
      <td>0.000222</td>
      <td>0.000154</td>
      <td>0.467047</td>
    </tr>
    <tr>
      <th>28</th>
      <td>0.178526</td>
      <td>0.005515</td>
      <td>0.002192</td>
      <td>0.000077</td>
      <td>29</td>
      <td>{'max_depth': 29}</td>
      <td>-0.473417</td>
      <td>-0.466289</td>
      <td>-0.473520</td>
      <td>-0.470977</td>
      <td>...</td>
      <td>0.005333</td>
      <td>16</td>
      <td>-0.000069</td>
      <td>-0.000045</td>
      <td>-0.000042</td>
      <td>-0.000212</td>
      <td>-0.000093</td>
      <td>0.000092</td>
      <td>0.000063</td>
      <td>0.461212</td>
    </tr>
    <tr>
      <th>29</th>
      <td>0.236144</td>
      <td>0.020985</td>
      <td>0.002767</td>
      <td>0.000138</td>
      <td>30</td>
      <td>{'max_depth': 30}</td>
      <td>-0.476343</td>
      <td>-0.468547</td>
      <td>-0.478388</td>
      <td>-0.477521</td>
      <td>...</td>
      <td>0.004534</td>
      <td>23</td>
      <td>-0.000032</td>
      <td>-0.000014</td>
      <td>-0.000009</td>
      <td>-0.000073</td>
      <td>-0.000035</td>
      <td>0.000033</td>
      <td>0.000023</td>
      <td>0.461535</td>
    </tr>
  </tbody>
</table>
<p>30 rows × 22 columns</p>
</div>
    <div class="colab-df-buttons">

  <div class="colab-df-container">
    <button class="colab-df-convert" onclick="convertToInteractive('df-f7c42834-3866-4a05-aa34-22f606df1c9c')"
            title="Convert this dataframe to an interactive table."
            style="display:none;">

  <svg xmlns="http://www.w3.org/2000/svg" height="24px" viewBox="0 -960 960 960">
    <path d="M120-120v-720h720v720H120Zm60-500h600v-160H180v160Zm220 220h160v-160H400v160Zm0 220h160v-160H400v160ZM180-400h160v-160H180v160Zm440 0h160v-160H620v160ZM180-180h160v-160H180v160Zm440 0h160v-160H620v160Z"/>
  </svg>
    </button>

  <style>
    .colab-df-container {
      display:flex;
      gap: 12px;
    }

    .colab-df-convert {
      background-color: #E8F0FE;
      border: none;
      border-radius: 50%;
      cursor: pointer;
      display: none;
      fill: #1967D2;
      height: 32px;
      padding: 0 0 0 0;
      width: 32px;
    }

    .colab-df-convert:hover {
      background-color: #E2EBFA;
      box-shadow: 0px 1px 2px rgba(60, 64, 67, 0.3), 0px 1px 3px 1px rgba(60, 64, 67, 0.15);
      fill: #174EA6;
    }

    .colab-df-buttons div {
      margin-bottom: 4px;
    }

    [theme=dark] .colab-df-convert {
      background-color: #3B4455;
      fill: #D2E3FC;
    }

    [theme=dark] .colab-df-convert:hover {
      background-color: #434B5C;
      box-shadow: 0px 1px 3px 1px rgba(0, 0, 0, 0.15);
      filter: drop-shadow(0px 1px 2px rgba(0, 0, 0, 0.3));
      fill: #FFFFFF;
    }
  </style>

    <script>
      const buttonEl =
        document.querySelector('#df-f7c42834-3866-4a05-aa34-22f606df1c9c button.colab-df-convert');
      buttonEl.style.display =
        google.colab.kernel.accessAllowed ? 'block' : 'none';

      async function convertToInteractive(key) {
        const element = document.querySelector('#df-f7c42834-3866-4a05-aa34-22f606df1c9c');
        const dataTable =
          await google.colab.kernel.invokeFunction('convertToInteractive',
                                                    [key], {});
        if (!dataTable) return;

        const docLinkHtml = 'Like what you see? Visit the ' +
          '<a target="_blank" href=https://colab.research.google.com/notebooks/data_table.ipynb>data table notebook</a>'
          + ' to learn more about interactive tables.';
        element.innerHTML = '';
        dataTable['output_type'] = 'display_data';
        await google.colab.output.renderOutput(dataTable, element);
        const docLink = document.createElement('div');
        docLink.innerHTML = docLinkHtml;
        element.appendChild(docLink);
      }
    </script>
  </div>


<div id="df-81ea2c25-a4f5-4e99-b6eb-5b597d01b990">
  <button class="colab-df-quickchart" onclick="quickchart('df-81ea2c25-a4f5-4e99-b6eb-5b597d01b990')"
            title="Suggest charts"
            style="display:none;">

<svg xmlns="http://www.w3.org/2000/svg" height="24px"viewBox="0 0 24 24"
     width="24px">
    <g>
        <path d="M19 3H5c-1.1 0-2 .9-2 2v14c0 1.1.9 2 2 2h14c1.1 0 2-.9 2-2V5c0-1.1-.9-2-2-2zM9 17H7v-7h2v7zm4 0h-2V7h2v10zm4 0h-2v-4h2v4z"/>
    </g>
</svg>
  </button>

<style>
  .colab-df-quickchart {
      --bg-color: #E8F0FE;
      --fill-color: #1967D2;
      --hover-bg-color: #E2EBFA;
      --hover-fill-color: #174EA6;
      --disabled-fill-color: #AAA;
      --disabled-bg-color: #DDD;
  }

  [theme=dark] .colab-df-quickchart {
      --bg-color: #3B4455;
      --fill-color: #D2E3FC;
      --hover-bg-color: #434B5C;
      --hover-fill-color: #FFFFFF;
      --disabled-bg-color: #3B4455;
      --disabled-fill-color: #666;
  }

  .colab-df-quickchart {
    background-color: var(--bg-color);
    border: none;
    border-radius: 50%;
    cursor: pointer;
    display: none;
    fill: var(--fill-color);
    height: 32px;
    padding: 0;
    width: 32px;
  }

  .colab-df-quickchart:hover {
    background-color: var(--hover-bg-color);
    box-shadow: 0 1px 2px rgba(60, 64, 67, 0.3), 0 1px 3px 1px rgba(60, 64, 67, 0.15);
    fill: var(--button-hover-fill-color);
  }

  .colab-df-quickchart-complete:disabled,
  .colab-df-quickchart-complete:disabled:hover {
    background-color: var(--disabled-bg-color);
    fill: var(--disabled-fill-color);
    box-shadow: none;
  }

  .colab-df-spinner {
    border: 2px solid var(--fill-color);
    border-color: transparent;
    border-bottom-color: var(--fill-color);
    animation:
      spin 1s steps(1) infinite;
  }

  @keyframes spin {
    0% {
      border-color: transparent;
      border-bottom-color: var(--fill-color);
      border-left-color: var(--fill-color);
    }
    20% {
      border-color: transparent;
      border-left-color: var(--fill-color);
      border-top-color: var(--fill-color);
    }
    30% {
      border-color: transparent;
      border-left-color: var(--fill-color);
      border-top-color: var(--fill-color);
      border-right-color: var(--fill-color);
    }
    40% {
      border-color: transparent;
      border-right-color: var(--fill-color);
      border-top-color: var(--fill-color);
    }
    60% {
      border-color: transparent;
      border-right-color: var(--fill-color);
    }
    80% {
      border-color: transparent;
      border-right-color: var(--fill-color);
      border-bottom-color: var(--fill-color);
    }
    90% {
      border-color: transparent;
      border-bottom-color: var(--fill-color);
    }
  }
</style>

  <script>
    async function quickchart(key) {
      const quickchartButtonEl =
        document.querySelector('#' + key + ' button');
      quickchartButtonEl.disabled = true;  // To prevent multiple clicks.
      quickchartButtonEl.classList.add('colab-df-spinner');
      try {
        const charts = await google.colab.kernel.invokeFunction(
            'suggestCharts', [key], {});
      } catch (error) {
        console.error('Error during call to suggestCharts:', error);
      }
      quickchartButtonEl.classList.remove('colab-df-spinner');
      quickchartButtonEl.classList.add('colab-df-quickchart-complete');
    }
    (() => {
      let quickchartButtonEl =
        document.querySelector('#df-81ea2c25-a4f5-4e99-b6eb-5b597d01b990 button');
      quickchartButtonEl.style.display =
        google.colab.kernel.accessAllowed ? 'block' : 'none';
    })();
  </script>
</div>

  <div id="id_659d7bfb-206b-4b2e-b212-2c2844c4a474">
    <style>
      .colab-df-generate {
        background-color: #E8F0FE;
        border: none;
        border-radius: 50%;
        cursor: pointer;
        display: none;
        fill: #1967D2;
        height: 32px;
        padding: 0 0 0 0;
        width: 32px;
      }

      .colab-df-generate:hover {
        background-color: #E2EBFA;
        box-shadow: 0px 1px 2px rgba(60, 64, 67, 0.3), 0px 1px 3px 1px rgba(60, 64, 67, 0.15);
        fill: #174EA6;
      }

      [theme=dark] .colab-df-generate {
        background-color: #3B4455;
        fill: #D2E3FC;
      }

      [theme=dark] .colab-df-generate:hover {
        background-color: #434B5C;
        box-shadow: 0px 1px 3px 1px rgba(0, 0, 0, 0.15);
        filter: drop-shadow(0px 1px 2px rgba(0, 0, 0, 0.3));
        fill: #FFFFFF;
      }
    </style>
    <button class="colab-df-generate" onclick="generateWithVariable('df')"
            title="Generate code using this dataframe."
            style="display:none;">

  <svg xmlns="http://www.w3.org/2000/svg" height="24px"viewBox="0 0 24 24"
       width="24px">
    <path d="M7,19H8.4L18.45,9,17,7.55,7,17.6ZM5,21V16.75L18.45,3.32a2,2,0,0,1,2.83,0l1.4,1.43a1.91,1.91,0,0,1,.58,1.4,1.91,1.91,0,0,1-.58,1.4L9.25,21ZM18.45,9,17,7.55Zm-12,3A5.31,5.31,0,0,0,4.9,8.1,5.31,5.31,0,0,0,1,6.5,5.31,5.31,0,0,0,4.9,4.9,5.31,5.31,0,0,0,6.5,1,5.31,5.31,0,0,0,8.1,4.9,5.31,5.31,0,0,0,12,6.5,5.46,5.46,0,0,0,6.5,12Z"/>
  </svg>
    </button>
    <script>
      (() => {
      const buttonEl =
        document.querySelector('#id_659d7bfb-206b-4b2e-b212-2c2844c4a474 button.colab-df-generate');
      buttonEl.style.display =
        google.colab.kernel.accessAllowed ? 'block' : 'none';

      buttonEl.onclick = () => {
        google.colab.notebook.generateWithVariable('df');
      }
      })();
    </script>
  </div>

    </div>
  </div>

</div>

</div>

</div>

</div>

</div>
<div class="jp-Cell jp-MarkdownCell jp-Notebook-cell">
<div class="jp-Cell-inputWrapper">
<div class="jp-Collapser jp-InputCollapser jp-Cell-inputCollapser">
</div>
<div class="jp-InputArea jp-Cell-inputArea"><div class="jp-InputPrompt jp-InputArea-prompt">
</div><div class="jp-RenderedHTMLCommon jp-RenderedMarkdown jp-MarkdownOutput " data-mime-type="text/markdown">
<p>Отобразим их:</p>

</div>
</div>
</div>
</div><div class="jp-Cell jp-CodeCell jp-Notebook-cell   ">
<div class="jp-Cell-inputWrapper">
<div class="jp-Collapser jp-InputCollapser jp-Cell-inputCollapser">
</div>
<div class="jp-InputArea jp-Cell-inputArea">
<div class="jp-InputPrompt jp-InputArea-prompt">In&nbsp;[11]:</div>
<div class="jp-CodeMirrorEditor jp-Editor jp-InputArea-editor" data-type="inline">
     <div class="CodeMirror cm-s-jupyter">
<div class=" highlight hl-ipython3"><pre><span></span><span class="n">fig</span> <span class="o">=</span> <span class="n">px</span><span class="o">.</span><span class="n">line</span><span class="p">(</span><span class="n">df</span><span class="p">,</span> <span class="n">x</span><span class="o">=</span><span class="s1">&#39;param_max_depth&#39;</span><span class="p">,</span> <span class="n">y</span><span class="o">=</span><span class="p">[</span><span class="s2">&quot;mean_train_score&quot;</span><span class="p">,</span> <span class="s2">&quot;mean_test_score&quot;</span><span class="p">,</span> <span class="s2">&quot;mean_final_test_score&quot;</span><span class="p">])</span>
<span class="n">fig</span><span class="o">.</span><span class="n">update_layout</span><span class="p">(</span><span class="n">xaxis_title</span><span class="o">=</span><span class="s1">&#39;Максимальная глубина дерева&#39;</span><span class="p">,</span> <span class="n">yaxis_title</span><span class="o">=</span><span class="s1">&#39;MAE&#39;</span><span class="p">)</span>
</pre></div>

     </div>
</div>
</div>
</div>

<div class="jp-Cell-outputWrapper">
<div class="jp-Collapser jp-OutputCollapser jp-Cell-outputCollapser">
</div>


<div class="jp-OutputArea jp-Cell-outputArea">

<div class="jp-OutputArea-child">

    
    <div class="jp-OutputPrompt jp-OutputArea-prompt"></div>



<div class="jp-RenderedHTMLCommon jp-RenderedHTML jp-OutputArea-output " data-mime-type="text/html">
<html>
<head><meta charset="utf-8" /></head>
<body>
    <div>            <script src="https://cdnjs.cloudflare.com/ajax/libs/mathjax/2.7.5/MathJax.js?config=TeX-AMS-MML_SVG"></script><script type="text/javascript">if (window.MathJax && window.MathJax.Hub && window.MathJax.Hub.Config) {window.MathJax.Hub.Config({SVG: {font: "STIX-Web"}});}</script>                <script type="text/javascript">window.PlotlyConfig = {MathJaxConfig: 'local'};</script>
        <script charset="utf-8" src="https://cdn.plot.ly/plotly-2.24.1.min.js"></script>                <div id="a3f9afa9-6c5d-4d66-8f84-2c3b9ce6cd62" class="plotly-graph-div" style="height:525px; width:100%;"></div>            <script type="text/javascript">                                    window.PLOTLYENV=window.PLOTLYENV || {};                                    if (document.getElementById("a3f9afa9-6c5d-4d66-8f84-2c3b9ce6cd62")) {                    Plotly.newPlot(                        "a3f9afa9-6c5d-4d66-8f84-2c3b9ce6cd62",                        [{"hovertemplate":"variable=mean_train_score\u003cbr\u003eparam_max_depth=%{x}\u003cbr\u003evalue=%{y}\u003cextra\u003e\u003c\u002fextra\u003e","legendgroup":"mean_train_score","line":{"color":"#636efa","dash":"solid"},"marker":{"symbol":"circle"},"mode":"lines","name":"mean_train_score","orientation":"v","showlegend":true,"x":[1,2,3,4,5,6,7,8,9,10,11,12,13,14,15,16,17,18,19,20,21,22,23,24,25,26,27,28,29,30],"xaxis":"x","y":[0.7415687984217003,0.6509255644543761,0.5885806029285628,0.5459127462629855,0.5100480724497847,0.4712455293670955,0.43228791797140376,0.3888218399484354,0.3485759326444859,0.30782838644712485,0.26396386227357505,0.2205787482947919,0.18000984639874779,0.1426826673073997,0.10951537545041132,0.08115314998394764,0.05844580459747252,0.04037633207752311,0.026670086474711724,0.0172637706148363,0.010932173024738867,0.006805440908626547,0.004185895389806701,0.002486101374486848,0.0014596545152093625,0.0008421172007402084,0.0004444904081169005,0.00022237613188925352,0.00009187848632135538,0.00003273209671469353],"yaxis":"y","type":"scatter"},{"hovertemplate":"variable=mean_test_score\u003cbr\u003eparam_max_depth=%{x}\u003cbr\u003evalue=%{y}\u003cextra\u003e\u003c\u002fextra\u003e","legendgroup":"mean_test_score","line":{"color":"#EF553B","dash":"solid"},"marker":{"symbol":"circle"},"mode":"lines","name":"mean_test_score","orientation":"v","showlegend":true,"x":[1,2,3,4,5,6,7,8,9,10,11,12,13,14,15,16,17,18,19,20,21,22,23,24,25,26,27,28,29,30],"xaxis":"x","y":[0.7439528219235225,0.6544195434709541,0.5969204505918905,0.5565657649089261,0.5263485191181834,0.4985679845286228,0.47083687528866147,0.4460619226978637,0.4372116477946685,0.43387342433645015,0.43412397810716064,0.437230194667532,0.4418271843553308,0.4489308477588641,0.4558224165555925,0.4624656223064777,0.4639979185365507,0.4657246306027706,0.4722339983749686,0.47280100361060545,0.4730477146557158,0.4772815027330751,0.4747320416919387,0.47451554495129855,0.47431759497333453,0.4762515914113784,0.4741148757478525,0.47365592267497797,0.4733727543527747,0.4766436068044789],"yaxis":"y","type":"scatter"},{"hovertemplate":"variable=mean_final_test_score\u003cbr\u003eparam_max_depth=%{x}\u003cbr\u003evalue=%{y}\u003cextra\u003e\u003c\u002fextra\u003e","legendgroup":"mean_final_test_score","line":{"color":"#00cc96","dash":"solid"},"marker":{"symbol":"circle"},"mode":"lines","name":"mean_final_test_score","orientation":"v","showlegend":true,"x":[1,2,3,4,5,6,7,8,9,10,11,12,13,14,15,16,17,18,19,20,21,22,23,24,25,26,27,28,29,30],"xaxis":"x","y":[0.7524021809257627,0.6613833138504782,0.6001895862815659,0.5567290613148729,0.5294242360347527,0.4994617204404502,0.4776235762987946,0.4520918167317614,0.434586369650076,0.4319976663249436,0.4268299628647214,0.4323942734786828,0.433844249741693,0.44398573377183065,0.44181612250611435,0.45422710877426214,0.4545875612036599,0.4551314468773157,0.4608572282496441,0.46267080774947217,0.4636289323867043,0.46191490863737467,0.4652609161032045,0.46430952754121263,0.4670485416221432,0.4641710112339211,0.46637777865997054,0.46704717309852833,0.4612122284976005,0.4615350510335917],"yaxis":"y","type":"scatter"}],                        {"template":{"data":{"histogram2dcontour":[{"type":"histogram2dcontour","colorbar":{"outlinewidth":0,"ticks":""},"colorscale":[[0.0,"#0d0887"],[0.1111111111111111,"#46039f"],[0.2222222222222222,"#7201a8"],[0.3333333333333333,"#9c179e"],[0.4444444444444444,"#bd3786"],[0.5555555555555556,"#d8576b"],[0.6666666666666666,"#ed7953"],[0.7777777777777778,"#fb9f3a"],[0.8888888888888888,"#fdca26"],[1.0,"#f0f921"]]}],"choropleth":[{"type":"choropleth","colorbar":{"outlinewidth":0,"ticks":""}}],"histogram2d":[{"type":"histogram2d","colorbar":{"outlinewidth":0,"ticks":""},"colorscale":[[0.0,"#0d0887"],[0.1111111111111111,"#46039f"],[0.2222222222222222,"#7201a8"],[0.3333333333333333,"#9c179e"],[0.4444444444444444,"#bd3786"],[0.5555555555555556,"#d8576b"],[0.6666666666666666,"#ed7953"],[0.7777777777777778,"#fb9f3a"],[0.8888888888888888,"#fdca26"],[1.0,"#f0f921"]]}],"heatmap":[{"type":"heatmap","colorbar":{"outlinewidth":0,"ticks":""},"colorscale":[[0.0,"#0d0887"],[0.1111111111111111,"#46039f"],[0.2222222222222222,"#7201a8"],[0.3333333333333333,"#9c179e"],[0.4444444444444444,"#bd3786"],[0.5555555555555556,"#d8576b"],[0.6666666666666666,"#ed7953"],[0.7777777777777778,"#fb9f3a"],[0.8888888888888888,"#fdca26"],[1.0,"#f0f921"]]}],"heatmapgl":[{"type":"heatmapgl","colorbar":{"outlinewidth":0,"ticks":""},"colorscale":[[0.0,"#0d0887"],[0.1111111111111111,"#46039f"],[0.2222222222222222,"#7201a8"],[0.3333333333333333,"#9c179e"],[0.4444444444444444,"#bd3786"],[0.5555555555555556,"#d8576b"],[0.6666666666666666,"#ed7953"],[0.7777777777777778,"#fb9f3a"],[0.8888888888888888,"#fdca26"],[1.0,"#f0f921"]]}],"contourcarpet":[{"type":"contourcarpet","colorbar":{"outlinewidth":0,"ticks":""}}],"contour":[{"type":"contour","colorbar":{"outlinewidth":0,"ticks":""},"colorscale":[[0.0,"#0d0887"],[0.1111111111111111,"#46039f"],[0.2222222222222222,"#7201a8"],[0.3333333333333333,"#9c179e"],[0.4444444444444444,"#bd3786"],[0.5555555555555556,"#d8576b"],[0.6666666666666666,"#ed7953"],[0.7777777777777778,"#fb9f3a"],[0.8888888888888888,"#fdca26"],[1.0,"#f0f921"]]}],"surface":[{"type":"surface","colorbar":{"outlinewidth":0,"ticks":""},"colorscale":[[0.0,"#0d0887"],[0.1111111111111111,"#46039f"],[0.2222222222222222,"#7201a8"],[0.3333333333333333,"#9c179e"],[0.4444444444444444,"#bd3786"],[0.5555555555555556,"#d8576b"],[0.6666666666666666,"#ed7953"],[0.7777777777777778,"#fb9f3a"],[0.8888888888888888,"#fdca26"],[1.0,"#f0f921"]]}],"mesh3d":[{"type":"mesh3d","colorbar":{"outlinewidth":0,"ticks":""}}],"scatter":[{"fillpattern":{"fillmode":"overlay","size":10,"solidity":0.2},"type":"scatter"}],"parcoords":[{"type":"parcoords","line":{"colorbar":{"outlinewidth":0,"ticks":""}}}],"scatterpolargl":[{"type":"scatterpolargl","marker":{"colorbar":{"outlinewidth":0,"ticks":""}}}],"bar":[{"error_x":{"color":"#2a3f5f"},"error_y":{"color":"#2a3f5f"},"marker":{"line":{"color":"#E5ECF6","width":0.5},"pattern":{"fillmode":"overlay","size":10,"solidity":0.2}},"type":"bar"}],"scattergeo":[{"type":"scattergeo","marker":{"colorbar":{"outlinewidth":0,"ticks":""}}}],"scatterpolar":[{"type":"scatterpolar","marker":{"colorbar":{"outlinewidth":0,"ticks":""}}}],"histogram":[{"marker":{"pattern":{"fillmode":"overlay","size":10,"solidity":0.2}},"type":"histogram"}],"scattergl":[{"type":"scattergl","marker":{"colorbar":{"outlinewidth":0,"ticks":""}}}],"scatter3d":[{"type":"scatter3d","line":{"colorbar":{"outlinewidth":0,"ticks":""}},"marker":{"colorbar":{"outlinewidth":0,"ticks":""}}}],"scattermapbox":[{"type":"scattermapbox","marker":{"colorbar":{"outlinewidth":0,"ticks":""}}}],"scatterternary":[{"type":"scatterternary","marker":{"colorbar":{"outlinewidth":0,"ticks":""}}}],"scattercarpet":[{"type":"scattercarpet","marker":{"colorbar":{"outlinewidth":0,"ticks":""}}}],"carpet":[{"aaxis":{"endlinecolor":"#2a3f5f","gridcolor":"white","linecolor":"white","minorgridcolor":"white","startlinecolor":"#2a3f5f"},"baxis":{"endlinecolor":"#2a3f5f","gridcolor":"white","linecolor":"white","minorgridcolor":"white","startlinecolor":"#2a3f5f"},"type":"carpet"}],"table":[{"cells":{"fill":{"color":"#EBF0F8"},"line":{"color":"white"}},"header":{"fill":{"color":"#C8D4E3"},"line":{"color":"white"}},"type":"table"}],"barpolar":[{"marker":{"line":{"color":"#E5ECF6","width":0.5},"pattern":{"fillmode":"overlay","size":10,"solidity":0.2}},"type":"barpolar"}],"pie":[{"automargin":true,"type":"pie"}]},"layout":{"autotypenumbers":"strict","colorway":["#636efa","#EF553B","#00cc96","#ab63fa","#FFA15A","#19d3f3","#FF6692","#B6E880","#FF97FF","#FECB52"],"font":{"color":"#2a3f5f"},"hovermode":"closest","hoverlabel":{"align":"left"},"paper_bgcolor":"white","plot_bgcolor":"#E5ECF6","polar":{"bgcolor":"#E5ECF6","angularaxis":{"gridcolor":"white","linecolor":"white","ticks":""},"radialaxis":{"gridcolor":"white","linecolor":"white","ticks":""}},"ternary":{"bgcolor":"#E5ECF6","aaxis":{"gridcolor":"white","linecolor":"white","ticks":""},"baxis":{"gridcolor":"white","linecolor":"white","ticks":""},"caxis":{"gridcolor":"white","linecolor":"white","ticks":""}},"coloraxis":{"colorbar":{"outlinewidth":0,"ticks":""}},"colorscale":{"sequential":[[0.0,"#0d0887"],[0.1111111111111111,"#46039f"],[0.2222222222222222,"#7201a8"],[0.3333333333333333,"#9c179e"],[0.4444444444444444,"#bd3786"],[0.5555555555555556,"#d8576b"],[0.6666666666666666,"#ed7953"],[0.7777777777777778,"#fb9f3a"],[0.8888888888888888,"#fdca26"],[1.0,"#f0f921"]],"sequentialminus":[[0.0,"#0d0887"],[0.1111111111111111,"#46039f"],[0.2222222222222222,"#7201a8"],[0.3333333333333333,"#9c179e"],[0.4444444444444444,"#bd3786"],[0.5555555555555556,"#d8576b"],[0.6666666666666666,"#ed7953"],[0.7777777777777778,"#fb9f3a"],[0.8888888888888888,"#fdca26"],[1.0,"#f0f921"]],"diverging":[[0,"#8e0152"],[0.1,"#c51b7d"],[0.2,"#de77ae"],[0.3,"#f1b6da"],[0.4,"#fde0ef"],[0.5,"#f7f7f7"],[0.6,"#e6f5d0"],[0.7,"#b8e186"],[0.8,"#7fbc41"],[0.9,"#4d9221"],[1,"#276419"]]},"xaxis":{"gridcolor":"white","linecolor":"white","ticks":"","title":{"standoff":15},"zerolinecolor":"white","automargin":true,"zerolinewidth":2},"yaxis":{"gridcolor":"white","linecolor":"white","ticks":"","title":{"standoff":15},"zerolinecolor":"white","automargin":true,"zerolinewidth":2},"scene":{"xaxis":{"backgroundcolor":"#E5ECF6","gridcolor":"white","linecolor":"white","showbackground":true,"ticks":"","zerolinecolor":"white","gridwidth":2},"yaxis":{"backgroundcolor":"#E5ECF6","gridcolor":"white","linecolor":"white","showbackground":true,"ticks":"","zerolinecolor":"white","gridwidth":2},"zaxis":{"backgroundcolor":"#E5ECF6","gridcolor":"white","linecolor":"white","showbackground":true,"ticks":"","zerolinecolor":"white","gridwidth":2}},"shapedefaults":{"line":{"color":"#2a3f5f"}},"annotationdefaults":{"arrowcolor":"#2a3f5f","arrowhead":0,"arrowwidth":1},"geo":{"bgcolor":"white","landcolor":"#E5ECF6","subunitcolor":"white","showland":true,"showlakes":true,"lakecolor":"white"},"title":{"x":0.05},"mapbox":{"style":"light"}}},"xaxis":{"anchor":"y","domain":[0.0,1.0],"title":{"text":"Максимальная глубина дерева"}},"yaxis":{"anchor":"x","domain":[0.0,1.0],"title":{"text":"MAE"}},"legend":{"title":{"text":"variable"},"tracegroupgap":0},"margin":{"t":60}},                        {"responsive": true}                    ).then(function(){
                            
var gd = document.getElementById('a3f9afa9-6c5d-4d66-8f84-2c3b9ce6cd62');
var x = new MutationObserver(function (mutations, observer) {{
        var display = window.getComputedStyle(gd).display;
        if (!display || display === 'none') {{
            console.log([gd, 'removed!']);
            Plotly.purge(gd);
            observer.disconnect();
        }}
}});

// Listen for the removal of the full notebook cells
var notebookContainer = gd.closest('#notebook-container');
if (notebookContainer) {{
    x.observe(notebookContainer, {childList: true});
}}

// Listen for the clearing of the current output cell
var outputEl = gd.closest('.output');
if (outputEl) {{
    x.observe(outputEl, {childList: true});
}}

                        })                };                            </script>        </div>
</body>
</html>
</div>

</div>

</div>

</div>

</div>
<div class="jp-Cell jp-MarkdownCell jp-Notebook-cell">
<div class="jp-Cell-inputWrapper">
<div class="jp-Collapser jp-InputCollapser jp-Cell-inputCollapser">
</div>
<div class="jp-InputArea jp-Cell-inputArea"><div class="jp-InputPrompt jp-InputArea-prompt">
</div><div class="jp-RenderedHTMLCommon jp-RenderedMarkdown jp-MarkdownOutput " data-mime-type="text/markdown">
<h2 id="**%D0%97%D0%B0%D0%B4%D0%B0%D0%BD%D0%B8%D0%B5-3-%5B1-%D0%B1%D0%B0%D0%BB%D0%BB%5D**"><font color="DarkOrange">**&#1047;&#1072;&#1076;&#1072;&#1085;&#1080;&#1077; 3 [1 &#1073;&#1072;&#1083;&#1083;]**</font><a class="anchor-link" href="#**%D0%97%D0%B0%D0%B4%D0%B0%D0%BD%D0%B8%D0%B5-3-%5B1-%D0%B1%D0%B0%D0%BB%D0%BB%5D**">&#182;</a></h2>
</div>
</div>
</div>
</div>
<div class="jp-Cell jp-MarkdownCell jp-Notebook-cell">
<div class="jp-Cell-inputWrapper">
<div class="jp-Collapser jp-InputCollapser jp-Cell-inputCollapser">
</div>
<div class="jp-InputArea jp-Cell-inputArea"><div class="jp-InputPrompt jp-InputArea-prompt">
</div><div class="jp-RenderedHTMLCommon jp-RenderedMarkdown jp-MarkdownOutput " data-mime-type="text/markdown">
<p>Сделайте следующие выводы исходя из графика</p>
<p>1) Наблюдается ли переобучение? Если да, то по каким признакам на графике вы это поняли?</p>
<p>2) Как ведет себя качество на валидации и на тестовой выборке? Ожидаемое ли это поведение?</p>
<p>3) Какую бы глубину дерева вы взяли как оптимальную для данной задачи?</p>

</div>
</div>
</div>
</div>
<div class="jp-Cell jp-MarkdownCell jp-Notebook-cell">
<div class="jp-Cell-inputWrapper">
<div class="jp-Collapser jp-InputCollapser jp-Cell-inputCollapser">
</div>
<div class="jp-InputArea jp-Cell-inputArea"><div class="jp-InputPrompt jp-InputArea-prompt">
</div><div class="jp-RenderedHTMLCommon jp-RenderedMarkdown jp-MarkdownOutput " data-mime-type="text/markdown">
<p><font color='MediumOrchid'>**Ваши выводы тут:**</font>
1)Переобучение становится заметным начиная с глубины дерева 10: на обучающей выборке MAE стремится к нулю, тогда как на тестовой выборке ошибка постепенно увеличивается.</p>
<p>2)После глубины 10 качество на валидационной выборке улучшается, но при этом ошибка на тестовой выборке начинает расти. Это ожидаемое поведение, так как модель сильнее подстраивается под обучающие данные, теряя способность к обобщению.</p>
<p>3)Оптимальная глубина дерева — 10, поскольку в этой точке достигается минимальное значение MAE на тестовой выборке.</p>

</div>
</div>
</div>
</div>
<div class="jp-Cell jp-MarkdownCell jp-Notebook-cell">
<div class="jp-Cell-inputWrapper">
<div class="jp-Collapser jp-InputCollapser jp-Cell-inputCollapser">
</div>
<div class="jp-InputArea jp-Cell-inputArea"><div class="jp-InputPrompt jp-InputArea-prompt">
</div><div class="jp-RenderedHTMLCommon jp-RenderedMarkdown jp-MarkdownOutput " data-mime-type="text/markdown">
<h1 id="%D0%9C%D0%B0%D1%81%D1%88%D1%82%D0%B0%D0%B1%D0%B8%D1%80%D0%BE%D0%B2%D0%B0%D0%BD%D0%B8%D0%B5-%D0%BF%D1%80%D0%B8%D0%B7%D0%BD%D0%B0%D0%BA%D0%BE%D0%B2">&#1052;&#1072;&#1089;&#1096;&#1090;&#1072;&#1073;&#1080;&#1088;&#1086;&#1074;&#1072;&#1085;&#1080;&#1077; &#1087;&#1088;&#1080;&#1079;&#1085;&#1072;&#1082;&#1086;&#1074;<a class="anchor-link" href="#%D0%9C%D0%B0%D1%81%D1%88%D1%82%D0%B0%D0%B1%D0%B8%D1%80%D0%BE%D0%B2%D0%B0%D0%BD%D0%B8%D0%B5-%D0%BF%D1%80%D0%B8%D0%B7%D0%BD%D0%B0%D0%BA%D0%BE%D0%B2">&#182;</a></h1>
</div>
</div>
</div>
</div>
<div class="jp-Cell jp-MarkdownCell jp-Notebook-cell">
<div class="jp-Cell-inputWrapper">
<div class="jp-Collapser jp-InputCollapser jp-Cell-inputCollapser">
</div>
<div class="jp-InputArea jp-Cell-inputArea"><div class="jp-InputPrompt jp-InputArea-prompt">
</div><div class="jp-RenderedHTMLCommon jp-RenderedMarkdown jp-MarkdownOutput " data-mime-type="text/markdown">
<p>Деревья решений не требуют масштабирования данных, потому что они работают по принципу деления данных на группы на основе значений признаков. Они принимают решения, сравнивая значения и выбирая, в какую ветвь дерева направить данные. Поскольку деревья решений основаны на относительных значениях и порогах, а не на расстоянии между точками, их работа не зависит от масштаба признаков. В отличие от этого, линейные модели, такие как линейная регрессия, чувствительны к масштабам признаков, потому что они рассчитывают расстояния и углы между точками, и если признаки имеют разные масштабы, это может исказить результаты. Поэтому деревьям решений не нужно предварительное масштабирование данных, что упрощает процесс подготовки данных.</p>

</div>
</div>
</div>
</div>
<div class="jp-Cell jp-MarkdownCell jp-Notebook-cell">
<div class="jp-Cell-inputWrapper">
<div class="jp-Collapser jp-InputCollapser jp-Cell-inputCollapser">
</div>
<div class="jp-InputArea jp-Cell-inputArea"><div class="jp-InputPrompt jp-InputArea-prompt">
</div><div class="jp-RenderedHTMLCommon jp-RenderedMarkdown jp-MarkdownOutput " data-mime-type="text/markdown">
<h2 id="**%D0%97%D0%B0%D0%B4%D0%B0%D0%BD%D0%B8%D0%B5-4-%5B2-%D0%B1%D0%B0%D0%BB%D0%BBa%5D**"><font color="DarkOrange">**&#1047;&#1072;&#1076;&#1072;&#1085;&#1080;&#1077; 4 [2 &#1073;&#1072;&#1083;&#1083;a]**</font><a class="anchor-link" href="#**%D0%97%D0%B0%D0%B4%D0%B0%D0%BD%D0%B8%D0%B5-4-%5B2-%D0%B1%D0%B0%D0%BB%D0%BBa%5D**">&#182;</a></h2><p>Сравним качество дерева решений с линейной регрессий с и без масштабирования</p>
<p>Обучите <font color='DarkOrange'>**[1 балл]**</font>:</p>
<p>1) Дерево решений глубины 10 без масштабирования признаков</p>
<p>2) Дерево решений глубины 10 с масштабированием признаков</p>
<p>3) Линейную регрессию (<a href="https://scikit-learn.org/stable/modules/generated/sklearn.linear_model.RidgeCV.html">RidgeCV</a> для поиска оптимального alpha)  без масштабирования признаков (MinMaxScaler)</p>
<p>4) Линейную регрессию (RidgeCV для поиска оптимального alpha) с масштабированием признаков  (MinMaxScaler)</p>
<p><font color='DarkOrange'>**[1 балл]**</font> Сравните их между собой и сделайте выводы:</p>
<p>1) Есть ли разница в качестве на тестовой выборке для дерева решения в зависимости от масштабирования признаков?</p>
<p>2) Есть ли разница в качестве на тестовой выборке для линейной регрессии в зависимости от масштабирования признаков?</p>
<p>3) Какая модель показала лучшее качество? Как вы думаете, почему?</p>

</div>
</div>
</div>
</div><div class="jp-Cell jp-CodeCell jp-Notebook-cell   ">
<div class="jp-Cell-inputWrapper">
<div class="jp-Collapser jp-InputCollapser jp-Cell-inputCollapser">
</div>
<div class="jp-InputArea jp-Cell-inputArea">
<div class="jp-InputPrompt jp-InputArea-prompt">In&nbsp;[26]:</div>
<div class="jp-CodeMirrorEditor jp-Editor jp-InputArea-editor" data-type="inline">
     <div class="CodeMirror cm-s-jupyter">
<div class=" highlight hl-ipython3"><pre><span></span><span class="c1"># your code here</span>

<span class="n">Scaler</span> <span class="o">=</span> <span class="n">MinMaxScaler</span><span class="p">()</span>
<span class="n">X_train_scaled</span> <span class="o">=</span> <span class="n">Scaler</span><span class="o">.</span><span class="n">fit_transform</span><span class="p">(</span><span class="n">X_train</span><span class="p">)</span>
<span class="n">X_test_scaled</span> <span class="o">=</span> <span class="n">Scaler</span><span class="o">.</span><span class="n">transform</span><span class="p">(</span><span class="n">X_test</span><span class="p">)</span>

<span class="c1"># ДР глубины 10 без масштабирования</span>

<span class="n">tree_no_scaling</span> <span class="o">=</span> <span class="n">DecisionTreeRegressor</span><span class="p">(</span><span class="n">max_depth</span><span class="o">=</span><span class="mi">10</span><span class="p">,</span> <span class="n">random_state</span><span class="o">=</span><span class="mi">0</span><span class="p">)</span>

<span class="n">tree_no_scaling</span><span class="o">.</span><span class="n">fit</span><span class="p">(</span><span class="n">X_train</span><span class="p">,</span> <span class="n">y_train</span><span class="p">)</span>
<span class="n">y_pred_tree_no_scaling</span> <span class="o">=</span> <span class="n">tree_no_scaling</span><span class="o">.</span><span class="n">predict</span><span class="p">(</span><span class="n">X_test</span><span class="p">)</span>

<span class="n">mae_tree_no_scaling</span> <span class="o">=</span> <span class="n">mean_absolute_error</span><span class="p">(</span><span class="n">y_test</span><span class="p">,</span> <span class="n">y_pred_tree_no_scaling</span><span class="p">)</span>
<span class="nb">print</span><span class="p">(</span><span class="sa">f</span><span class="s2">&quot;Decision Tree without scaling MSE: </span><span class="si">{</span><span class="n">mae_tree_no_scaling</span><span class="si">:</span><span class="s2">.4f</span><span class="si">}</span><span class="s2">&quot;</span><span class="p">)</span>

<span class="c1"># ДР глубины 10 с масштабированием</span>

<span class="n">tree_with_scaling</span> <span class="o">=</span> <span class="n">DecisionTreeRegressor</span><span class="p">(</span><span class="n">max_depth</span><span class="o">=</span><span class="mi">10</span><span class="p">,</span> <span class="n">random_state</span><span class="o">=</span><span class="mi">0</span><span class="p">)</span>

<span class="n">tree_with_scaling</span><span class="o">.</span><span class="n">fit</span><span class="p">(</span><span class="n">X_train_scaled</span><span class="p">,</span> <span class="n">y_train</span><span class="p">)</span>
<span class="n">y_pred_tree_with_scaling</span> <span class="o">=</span> <span class="n">tree_with_scaling</span><span class="o">.</span><span class="n">predict</span><span class="p">(</span><span class="n">X_test_scaled</span><span class="p">)</span>

<span class="n">mae_tree_with_scaling</span> <span class="o">=</span> <span class="n">mean_absolute_error</span><span class="p">(</span><span class="n">y_test</span><span class="p">,</span> <span class="n">y_pred_tree_with_scaling</span><span class="p">)</span>

<span class="nb">print</span><span class="p">(</span><span class="sa">f</span><span class="s2">&quot;Decision Tree with scaling MSE: </span><span class="si">{</span><span class="n">mae_tree_with_scaling</span><span class="si">:</span><span class="s2">.4f</span><span class="si">}</span><span class="s2">&quot;</span><span class="p">)</span>

<span class="c1"># Линейная регрессия без масштабирования</span>

<span class="n">ridge_no_scaling</span> <span class="o">=</span> <span class="n">RidgeCV</span><span class="p">(</span><span class="n">alphas</span><span class="o">=</span><span class="n">np</span><span class="o">.</span><span class="n">logspace</span><span class="p">(</span><span class="o">-</span><span class="mi">3</span><span class="p">,</span> <span class="mi">3</span><span class="p">,</span> <span class="mi">10</span><span class="p">))</span>

<span class="n">ridge_no_scaling</span><span class="o">.</span><span class="n">fit</span><span class="p">(</span><span class="n">X_train</span><span class="p">,</span> <span class="n">y_train</span><span class="p">)</span>
<span class="n">y_pred_ridge_no_scaling</span> <span class="o">=</span> <span class="n">ridge_no_scaling</span><span class="o">.</span><span class="n">predict</span><span class="p">(</span><span class="n">X_test</span><span class="p">)</span>

<span class="n">mae_ridge_no_scaling</span> <span class="o">=</span> <span class="n">mean_absolute_error</span><span class="p">(</span><span class="n">y_test</span><span class="p">,</span> <span class="n">y_pred_ridge_no_scaling</span><span class="p">)</span>

<span class="nb">print</span><span class="p">(</span><span class="sa">f</span><span class="s2">&quot;Ridge Regression without scaling MSE: </span><span class="si">{</span><span class="n">mae_ridge_no_scaling</span><span class="si">:</span><span class="s2">.4f</span><span class="si">}</span><span class="s2">&quot;</span><span class="p">)</span>

<span class="c1"># Линейная регрессия с масштабированием</span>

<span class="n">ridge_with_scaling</span> <span class="o">=</span> <span class="n">RidgeCV</span><span class="p">(</span><span class="n">alphas</span><span class="o">=</span><span class="n">np</span><span class="o">.</span><span class="n">logspace</span><span class="p">(</span><span class="o">-</span><span class="mi">3</span><span class="p">,</span> <span class="mi">3</span><span class="p">,</span> <span class="mi">10</span><span class="p">))</span>

<span class="n">ridge_with_scaling</span><span class="o">.</span><span class="n">fit</span><span class="p">(</span><span class="n">X_train_scaled</span><span class="p">,</span> <span class="n">y_train</span><span class="p">)</span>
<span class="n">y_pred_ridge_with_scaling</span> <span class="o">=</span> <span class="n">ridge_with_scaling</span><span class="o">.</span><span class="n">predict</span><span class="p">(</span><span class="n">X_test_scaled</span><span class="p">)</span>

<span class="n">mae_ridge_with_scaling</span> <span class="o">=</span> <span class="n">mean_absolute_error</span><span class="p">(</span><span class="n">y_test</span><span class="p">,</span> <span class="n">y_pred_ridge_with_scaling</span><span class="p">)</span>

<span class="nb">print</span><span class="p">(</span><span class="sa">f</span><span class="s2">&quot;Ridge Regression with scaling MSE: </span><span class="si">{</span><span class="n">mae_ridge_with_scaling</span><span class="si">:</span><span class="s2">.4f</span><span class="si">}</span><span class="s2">&quot;</span><span class="p">)</span>
</pre></div>

     </div>
</div>
</div>
</div>

<div class="jp-Cell-outputWrapper">
<div class="jp-Collapser jp-OutputCollapser jp-Cell-outputCollapser">
</div>


<div class="jp-OutputArea jp-Cell-outputArea">

<div class="jp-OutputArea-child">

    
    <div class="jp-OutputPrompt jp-OutputArea-prompt"></div>


<div class="jp-RenderedText jp-OutputArea-output" data-mime-type="text/plain">
<pre>Decision Tree without scaling MSE: 0.4311
Decision Tree with scaling MSE: 0.4318
Ridge Regression without scaling MSE: 0.5297
Ridge Regression with scaling MSE: 0.5299
</pre>
</div>
</div>

</div>

</div>

</div>
<div class="jp-Cell jp-MarkdownCell jp-Notebook-cell">
<div class="jp-Cell-inputWrapper">
<div class="jp-Collapser jp-InputCollapser jp-Cell-inputCollapser">
</div>
<div class="jp-InputArea jp-Cell-inputArea"><div class="jp-InputPrompt jp-InputArea-prompt">
</div><div class="jp-RenderedHTMLCommon jp-RenderedMarkdown jp-MarkdownOutput " data-mime-type="text/markdown">
<p><font color='MediumOrchid'>**Ваши выводы тут:**</font>
1) Для деревьев решений разницы почти нет, однако в данном случае качество немного упало после масштабирования признаков.</p>
<p>2) Для линейных моделей масштабирование - важный процесс, который потенциально может улучшить модель. В данном случае качество немного упало после масшабирования, но не существенно.</p>
<p>3) Модель дерева решений демонстрирует одинаково высокое качество как с масштабированием признаков, так и без него. Это объясняется тем, что деревья решений легко моделируют сложные нелинейные зависимости, которые линейная регрессия может уловить только после дополнительных преобразований. Кроме того, деревья способны лучше подстраиваться под обучающие данные. Поскольку они не зависят от масштаба признаков, нормализация данных не повлияла на результат.</p>

</div>
</div>
</div>
</div>
<div class="jp-Cell jp-MarkdownCell jp-Notebook-cell">
<div class="jp-Cell-inputWrapper">
<div class="jp-Collapser jp-InputCollapser jp-Cell-inputCollapser">
</div>
<div class="jp-InputArea jp-Cell-inputArea"><div class="jp-InputPrompt jp-InputArea-prompt">
</div><div class="jp-RenderedHTMLCommon jp-RenderedMarkdown jp-MarkdownOutput " data-mime-type="text/markdown">
<h1 id="%D0%92%D0%B0%D0%B6%D0%BD%D0%BE%D1%81%D1%82%D1%8C-%D0%BF%D1%80%D0%B8%D0%B7%D0%BD%D0%B0%D0%BA%D0%BE%D0%B2">&#1042;&#1072;&#1078;&#1085;&#1086;&#1089;&#1090;&#1100; &#1087;&#1088;&#1080;&#1079;&#1085;&#1072;&#1082;&#1086;&#1074;<a class="anchor-link" href="#%D0%92%D0%B0%D0%B6%D0%BD%D0%BE%D1%81%D1%82%D1%8C-%D0%BF%D1%80%D0%B8%D0%B7%D0%BD%D0%B0%D0%BA%D0%BE%D0%B2">&#182;</a></h1>
</div>
</div>
</div>
</div>
<div class="jp-Cell jp-MarkdownCell jp-Notebook-cell">
<div class="jp-Cell-inputWrapper">
<div class="jp-Collapser jp-InputCollapser jp-Cell-inputCollapser">
</div>
<div class="jp-InputArea jp-Cell-inputArea"><div class="jp-InputPrompt jp-InputArea-prompt">
</div><div class="jp-RenderedHTMLCommon jp-RenderedMarkdown jp-MarkdownOutput " data-mime-type="text/markdown">
<p>Деревья решений оценивают важность признаков, анализируя, насколько каждый признак помогает разделить данные на разные категории. Когда дерево принимает решение, оно выбирает признак, который лучше всего разделяет данные на группы. Если признак позволяет сделать более четкое разделение, он получает высокую оценку важности. Например, если признак "возраст" помогает точно разделить людей на группы "молодые" и "пожилые", значит, он будет считаться важным. В итоге деревья решений могут подсказывать, какие признаки наиболее влиятельны в процессе принятия решений</p>

</div>
</div>
</div>
</div>
<div class="jp-Cell jp-MarkdownCell jp-Notebook-cell">
<div class="jp-Cell-inputWrapper">
<div class="jp-Collapser jp-InputCollapser jp-Cell-inputCollapser">
</div>
<div class="jp-InputArea jp-Cell-inputArea"><div class="jp-InputPrompt jp-InputArea-prompt">
</div><div class="jp-RenderedHTMLCommon jp-RenderedMarkdown jp-MarkdownOutput " data-mime-type="text/markdown">
<h2 id="**%D0%97%D0%B0%D0%B4%D0%B0%D0%BD%D0%B8%D0%B5-5-%5B0.5-%D0%B1%D0%B0%D0%BB%D0%BB%5D**"><font color="DarkOrange">**&#1047;&#1072;&#1076;&#1072;&#1085;&#1080;&#1077; 5 [0.5 &#1073;&#1072;&#1083;&#1083;]**</font><a class="anchor-link" href="#**%D0%97%D0%B0%D0%B4%D0%B0%D0%BD%D0%B8%D0%B5-5-%5B0.5-%D0%B1%D0%B0%D0%BB%D0%BB%5D**">&#182;</a></h2><p>Изучим, какие признаки оказались наиболее важными в нашей задаче</p>
<p>Снова обучите дерево решений глубины 10 и с помощью аттрибута <code>feature_importances_</code> у модели выясните, какие признаки оказались наиболее важными, а какие - наименее. Совпадает ли это с вашими ожиданиями? Опишите это в выводах</p>
<p><font color='LightSteelBlue'>**Подсказка**</font> Используйте <code>fetch_california_housing().feature_names</code> для получения названий признаков</p>

</div>
</div>
</div>
</div><div class="jp-Cell jp-CodeCell jp-Notebook-cell   ">
<div class="jp-Cell-inputWrapper">
<div class="jp-Collapser jp-InputCollapser jp-Cell-inputCollapser">
</div>
<div class="jp-InputArea jp-Cell-inputArea">
<div class="jp-InputPrompt jp-InputArea-prompt">In&nbsp;[17]:</div>
<div class="jp-CodeMirrorEditor jp-Editor jp-InputArea-editor" data-type="inline">
     <div class="CodeMirror cm-s-jupyter">
<div class=" highlight hl-ipython3"><pre><span></span><span class="n">model</span> <span class="o">=</span> <span class="n">DecisionTreeRegressor</span><span class="p">(</span><span class="n">max_depth</span><span class="o">=</span><span class="mi">10</span><span class="p">,</span> <span class="n">random_state</span><span class="o">=</span><span class="mi">0</span><span class="p">)</span>

<span class="n">model</span><span class="o">.</span><span class="n">fit</span><span class="p">(</span><span class="n">X_train</span><span class="p">,</span> <span class="n">y_train</span><span class="p">)</span>

<span class="n">feature_importance_df</span> <span class="o">=</span> <span class="n">pd</span><span class="o">.</span><span class="n">DataFrame</span><span class="p">({</span><span class="s1">&#39;Feature&#39;</span><span class="p">:</span> <span class="n">fetch_california_housing</span><span class="p">()</span><span class="o">.</span><span class="n">feature_names</span><span class="p">,</span>
                                      <span class="s1">&#39;Importance&#39;</span><span class="p">:</span> <span class="n">model</span><span class="o">.</span><span class="n">feature_importances_</span><span class="p">})</span>
<span class="n">feature_importance_df</span> <span class="o">=</span> <span class="n">feature_importance_df</span><span class="o">.</span><span class="n">sort_values</span><span class="p">(</span><span class="n">by</span><span class="o">=</span><span class="s1">&#39;Importance&#39;</span><span class="p">,</span> <span class="n">ascending</span><span class="o">=</span><span class="kc">False</span><span class="p">)</span>

<span class="nb">print</span><span class="p">(</span><span class="s2">&quot;Наиболее важные признаки:&quot;</span><span class="p">)</span>
<span class="nb">print</span><span class="p">(</span><span class="n">feature_importance_df</span><span class="o">.</span><span class="n">head</span><span class="p">())</span>
<span class="nb">print</span><span class="p">(</span><span class="s2">&quot;Наименее важные признаки:&quot;</span><span class="p">)</span>
<span class="nb">print</span><span class="p">(</span><span class="n">feature_importance_df</span><span class="o">.</span><span class="n">tail</span><span class="p">())</span>
</pre></div>

     </div>
</div>
</div>
</div>

<div class="jp-Cell-outputWrapper">
<div class="jp-Collapser jp-OutputCollapser jp-Cell-outputCollapser">
</div>


<div class="jp-OutputArea jp-Cell-outputArea">

<div class="jp-OutputArea-child">

    
    <div class="jp-OutputPrompt jp-OutputArea-prompt"></div>


<div class="jp-RenderedText jp-OutputArea-output" data-mime-type="text/plain">
<pre>Наиболее важные признаки:
     Feature  Importance
0     MedInc    0.609726
5   AveOccup    0.137592
6   Latitude    0.071131
7  Longitude    0.065503
1   HouseAge    0.042429
Наименее важные признаки:
      Feature  Importance
7   Longitude    0.065503
1    HouseAge    0.042429
2    AveRooms    0.036448
4  Population    0.021329
3   AveBedrms    0.015842
</pre>
</div>
</div>

</div>

</div>

</div>
<div class="jp-Cell jp-MarkdownCell jp-Notebook-cell">
<div class="jp-Cell-inputWrapper">
<div class="jp-Collapser jp-InputCollapser jp-Cell-inputCollapser">
</div>
<div class="jp-InputArea jp-Cell-inputArea"><div class="jp-InputPrompt jp-InputArea-prompt">
</div><div class="jp-RenderedHTMLCommon jp-RenderedMarkdown jp-MarkdownOutput " data-mime-type="text/markdown">
<p><font color='MediumOrchid'>**Ваши выводы тут:**</font>По моему мнению, признак AveBedrms(Среднее число спален) не относится к наименее важным признакам, уж тем более признак AveRooms(Среднее число комнат), который очень сильно влияет на формирование цены жилья. Также, можно было бы подкорректировать список наиболее важных признаков по местам.</p>

</div>
</div>
</div>
</div>
<div class="jp-Cell jp-MarkdownCell jp-Notebook-cell">
<div class="jp-Cell-inputWrapper">
<div class="jp-Collapser jp-InputCollapser jp-Cell-inputCollapser">
</div>
<div class="jp-InputArea jp-Cell-inputArea"><div class="jp-InputPrompt jp-InputArea-prompt">
</div><div class="jp-RenderedHTMLCommon jp-RenderedMarkdown jp-MarkdownOutput " data-mime-type="text/markdown">
<p>Мы смогли убедиться, что дерево решений действительно строит систему правил, по которым предсказывает цену недвижимости. Также мы можем убедиться, что множество возможных предсказаний регрессора сильно ограничено: все они перечислены в листовых вершинах графа. Но в чем же тогда сила деревьев решений, брат? О том, как на практике используются деревья для построениях одних из самых мощных алгоритмов машинного обучения вы узнаете в следующих практических заданиях</p>

</div>
</div>
</div>
</div>
</body>







</html>
